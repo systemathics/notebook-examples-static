{
 "cells": [
  {
   "cell_type": "markdown",
   "id": "micro-karen",
   "metadata": {},
   "source": [
    "# Generate Bollinger bands using dedicated service - F#\n",
    "\n",
    "### Overview\n",
    "Bollinger bands were created by John Bollinger, they are envelopes and plotted around the moving average. The width of the bands is based on the standard deviaton of the closing prices from a moving average. \n",
    "\n",
    "The purpose of Bollinger Bands is to provide a relative definition of high and low prices of a market. By definition, prices are high at the upper band and low at the lower band.\n",
    "\n",
    "This sample demonstrates how to request and plot from a dedicated data service **on-demand** Bollinger bands.\n",
    "\n",
    "### Inputs/outputs\n",
    "Bollinger bands indicator requires instrument's identifier,date time intervals and number of periods as per inputs and returns data points for the following components:\n",
    "1. *Middle band* = n-period moving average\n",
    "2. *Upper band* = Middle band + (k * n-period standard deviation)\n",
    "3. *Lower band* = Middle band - (k * n-period standard deviation)\n",
    "\n",
    "Where:\n",
    "* *n: number of periods*\n",
    "* *k: factor to apply to the standard deviation value, k=2 as default value*\n",
    "\n",
    "This sample shows how to request and plot a simple Bollinger bands graph for basis technical analysis using an open source library. \n",
    "\n",
    "### Services used\n",
    "This sample uses *gRPC requests* in order to retrieve Bollinger bands data from the hosted service. The queried endpoint in this script are:\n",
    "* *TickBollingerService*: to directly retrieve bollinger bands data reponse from the server\n",
    "\n",
    "### Packages required\n",
    "1. Systemathics packages:\n",
    "    * *Systemathics.Apis.Type.Shared.V1*\n",
    "    * *Systemathics.Apis.Services.TickAnalytics.V1*\n",
    "2. Open source packages\n",
    "    * *Google.Protobuf.WellKnownTypes*\n",
    "    * *Google.Type*\n",
    "    * *Grpc.Net.Client*\n",
    "    * *Grpc.Core*\n",
    "    * *XPlot.Plotly* as per display package\n",
    "\n",
    "***"
   ]
  },
  {
   "cell_type": "markdown",
   "id": "acute-angel",
   "metadata": {},
   "source": [
    "# Run Bollinger bands sample\n",
    "### Step 1: Install packages"
   ]
  },
  {
   "cell_type": "code",
   "execution_count": 1,
   "id": "radio-immigration",
   "metadata": {
    "dotnet_interactive": {
     "language": "fsharp"
    },
    "execution": {
     "iopub.execute_input": "2022-10-25T16:25:06.321816Z",
     "iopub.status.busy": "2022-10-25T16:25:06.313732Z",
     "iopub.status.idle": "2022-10-25T16:25:12.352800Z",
     "shell.execute_reply": "2022-10-25T16:25:12.345195Z"
    }
   },
   "outputs": [
    {
     "data": {
      "text/html": [
       "\n",
       "<div>\n",
       "    <div id='dotnet-interactive-this-cell-24020.Microsoft.DotNet.Interactive.Http.HttpPort' style='display: none'>\n",
       "        The below script needs to be able to find the current output cell; this is an easy method to get it.\n",
       "    </div>\n",
       "    <script type='text/javascript'>\n",
       "async function probeAddresses(probingAddresses) {\n",
       "    function timeout(ms, promise) {\n",
       "        return new Promise(function (resolve, reject) {\n",
       "            setTimeout(function () {\n",
       "                reject(new Error('timeout'))\n",
       "            }, ms)\n",
       "            promise.then(resolve, reject)\n",
       "        })\n",
       "    }\n",
       "\n",
       "    if (Array.isArray(probingAddresses)) {\n",
       "        for (let i = 0; i < probingAddresses.length; i++) {\n",
       "\n",
       "            let rootUrl = probingAddresses[i];\n",
       "\n",
       "            if (!rootUrl.endsWith('/')) {\n",
       "                rootUrl = `${rootUrl}/`;\n",
       "            }\n",
       "\n",
       "            try {\n",
       "                let response = await timeout(1000, fetch(`${rootUrl}discovery`, {\n",
       "                    method: 'POST',\n",
       "                    cache: 'no-cache',\n",
       "                    mode: 'cors',\n",
       "                    timeout: 1000,\n",
       "                    headers: {\n",
       "                        'Content-Type': 'text/plain'\n",
       "                    },\n",
       "                    body: probingAddresses[i]\n",
       "                }));\n",
       "\n",
       "                if (response.status == 200) {\n",
       "                    return rootUrl;\n",
       "                }\n",
       "            }\n",
       "            catch (e) { }\n",
       "        }\n",
       "    }\n",
       "}\n",
       "\n",
       "function loadDotnetInteractiveApi() {\n",
       "    probeAddresses([\"http://172.28.169.63:1803/\", \"http://127.0.0.1:1803/\"])\n",
       "        .then((root) => {\n",
       "        // use probing to find host url and api resources\n",
       "        // load interactive helpers and language services\n",
       "        let dotnetInteractiveRequire = require.config({\n",
       "        context: '24020.Microsoft.DotNet.Interactive.Http.HttpPort',\n",
       "                paths:\n",
       "            {\n",
       "                'dotnet-interactive': `${root}resources`\n",
       "                }\n",
       "        }) || require;\n",
       "\n",
       "            window.dotnetInteractiveRequire = dotnetInteractiveRequire;\n",
       "\n",
       "            window.configureRequireFromExtension = function(extensionName, extensionCacheBuster) {\n",
       "                let paths = {};\n",
       "                paths[extensionName] = `${root}extensions/${extensionName}/resources/`;\n",
       "                \n",
       "                let internalRequire = require.config({\n",
       "                    context: extensionCacheBuster,\n",
       "                    paths: paths,\n",
       "                    urlArgs: `cacheBuster=${extensionCacheBuster}`\n",
       "                    }) || require;\n",
       "\n",
       "                return internalRequire\n",
       "            };\n",
       "        \n",
       "            dotnetInteractiveRequire([\n",
       "                    'dotnet-interactive/dotnet-interactive'\n",
       "                ],\n",
       "                function (dotnet) {\n",
       "                    dotnet.init(window);\n",
       "                },\n",
       "                function (error) {\n",
       "                    console.log(error);\n",
       "                }\n",
       "            );\n",
       "        })\n",
       "        .catch(error => {console.log(error);});\n",
       "    }\n",
       "\n",
       "// ensure `require` is available globally\n",
       "if ((typeof(require) !==  typeof(Function)) || (typeof(require.config) !== typeof(Function))) {\n",
       "    let require_script = document.createElement('script');\n",
       "    require_script.setAttribute('src', 'https://cdnjs.cloudflare.com/ajax/libs/require.js/2.3.6/require.min.js');\n",
       "    require_script.setAttribute('type', 'text/javascript');\n",
       "    \n",
       "    \n",
       "    require_script.onload = function() {\n",
       "        loadDotnetInteractiveApi();\n",
       "    };\n",
       "\n",
       "    document.getElementsByTagName('head')[0].appendChild(require_script);\n",
       "}\n",
       "else {\n",
       "    loadDotnetInteractiveApi();\n",
       "}\n",
       "\n",
       "    </script>\n",
       "</div>"
      ]
     },
     "metadata": {},
     "output_type": "display_data"
    },
    {
     "data": {
      "text/html": [
       "<div><div><strong>Restore sources</strong><ul><li><span> file://~/.nuget/packages/</span></li><li><span> https://api.nuget.org/v3/index.json</span></li></ul></div><div></div><div><strong>Installed Packages</strong><ul><li><span>Systemathics.Apis, 0.13.2-pre</span></li><li><span>TaskBuilder.fs, 2.1.0</span></li><li><span>XPlot.Plotly.Interactive, 4.0.6</span></li></ul></div></div>"
      ]
     },
     "metadata": {},
     "output_type": "display_data"
    },
    {
     "data": {
      "text/markdown": [
       "Loading extensions from `XPlot.Plotly.Interactive.dll`"
      ]
     },
     "metadata": {},
     "output_type": "display_data"
    },
    {
     "data": {
      "text/markdown": [
       "Configuring PowerShell Kernel for XPlot.Plotly integration."
      ]
     },
     "metadata": {},
     "output_type": "display_data"
    },
    {
     "data": {
      "text/markdown": [
       "Installed support for XPlot.Plotly."
      ]
     },
     "metadata": {},
     "output_type": "display_data"
    }
   ],
   "source": [
    "#i \"nuget: file://~/.nuget/packages/\"\n",
    "#i \"nuget: https://api.nuget.org/v3/index.json\"\n",
    "#r \"nuget: Systemathics.Apis, 0.*-pre*\"\n",
    "#r \"nuget: XPlot.Plotly.Interactive\"\n",
    "#r \"nuget: TaskBuilder.fs\""
   ]
  },
  {
   "cell_type": "code",
   "execution_count": 2,
   "id": "missing-texture",
   "metadata": {
    "dotnet_interactive": {
     "language": "fsharp"
    },
    "execution": {
     "iopub.execute_input": "2022-10-25T16:25:12.355467Z",
     "iopub.status.busy": "2022-10-25T16:25:12.355130Z",
     "iopub.status.idle": "2022-10-25T16:25:12.760943Z",
     "shell.execute_reply": "2022-10-25T16:25:12.760159Z"
    }
   },
   "outputs": [],
   "source": [
    "open Systemathics.Apis.Helpers\n",
    "open Systemathics.Apis.Type.Shared.V1\n",
    "open Systemathics.Apis.Services.TickAnalytics.V1\n",
    "open Google.Protobuf.WellKnownTypes\n",
    "open Google.Type\n",
    "open Grpc.Core\n",
    "open Grpc.Net.Client\n",
    "open XPlot.Plotly\n",
    "open XPlot.Plotly.Interactive"
   ]
  },
  {
   "cell_type": "markdown",
   "id": "incomplete-tradition",
   "metadata": {},
   "source": [
    "### Step 2: Prepare API requests\n",
    "The following code snippets retrieve authentication token and prepare the API request by: opening the *channel* and adding the *token* to the request header:"
   ]
  },
  {
   "cell_type": "code",
   "execution_count": 3,
   "id": "sapphire-majority",
   "metadata": {
    "dotnet_interactive": {
     "language": "fsharp"
    },
    "execution": {
     "iopub.execute_input": "2022-10-25T16:25:12.764524Z",
     "iopub.status.busy": "2022-10-25T16:25:12.764061Z",
     "iopub.status.idle": "2022-10-25T16:25:13.353679Z",
     "shell.execute_reply": "2022-10-25T16:25:13.353400Z"
    }
   },
   "outputs": [],
   "source": [
    "// Get token as metadata\n",
    "let headers = TokenHelpers.GetTokenAsMetaData();\n",
    "\n",
    "// Create communication channel\n",
    "let channel = ChannelHelpers.GetChannel();"
   ]
  },
  {
   "cell_type": "markdown",
   "id": "bridal-victoria",
   "metadata": {},
   "source": [
    "### Step 3: Create and process request\n",
    "To request *Bollinger bands* service, we need to specify:\n",
    "* Instrument identifier\n",
    "* Time period selection: select start and end dates\n",
    "* Bollinger bands request parameters"
   ]
  },
  {
   "cell_type": "markdown",
   "id": "fundamental-think",
   "metadata": {},
   "source": [
    "#### 3.1 Instrument selection"
   ]
  },
  {
   "cell_type": "code",
   "execution_count": 4,
   "id": "breeding-jenny",
   "metadata": {
    "dotnet_interactive": {
     "language": "fsharp"
    },
    "execution": {
     "iopub.execute_input": "2022-10-25T16:25:13.356361Z",
     "iopub.status.busy": "2022-10-25T16:25:13.356025Z",
     "iopub.status.idle": "2022-10-25T16:25:13.378872Z",
     "shell.execute_reply": "2022-10-25T16:25:13.378630Z"
    }
   },
   "outputs": [],
   "source": [
    "let ticker = \"AAPL\"\n",
    "let exchange = \"BATS\""
   ]
  },
  {
   "cell_type": "markdown",
   "id": "diverse-colonial",
   "metadata": {},
   "source": [
    "#### 3.2 Bollinger bands parameters"
   ]
  },
  {
   "cell_type": "code",
   "execution_count": 5,
   "id": "simple-match",
   "metadata": {
    "dotnet_interactive": {
     "language": "fsharp"
    },
    "execution": {
     "iopub.execute_input": "2022-10-25T16:25:13.380923Z",
     "iopub.status.busy": "2022-10-25T16:25:13.380631Z",
     "iopub.status.idle": "2022-10-25T16:25:13.578653Z",
     "shell.execute_reply": "2022-10-25T16:25:13.578393Z"
    }
   },
   "outputs": [],
   "source": [
    "let field = BollingerPrice.Trade\n",
    "let length = 20\n",
    "let deviation = 0.4\n",
    "let sampling = new Duration ( Seconds = 60L )"
   ]
  },
  {
   "cell_type": "markdown",
   "id": "smoking-bullet",
   "metadata": {},
   "source": [
    "#### 3.3 Time period delimitation"
   ]
  },
  {
   "cell_type": "code",
   "execution_count": 6,
   "id": "current-compensation",
   "metadata": {
    "dotnet_interactive": {
     "language": "fsharp"
    },
    "execution": {
     "iopub.execute_input": "2022-10-25T16:25:13.580858Z",
     "iopub.status.busy": "2022-10-25T16:25:13.580505Z",
     "iopub.status.idle": "2022-10-25T16:25:13.679345Z",
     "shell.execute_reply": "2022-10-25T16:25:13.679050Z"
    }
   },
   "outputs": [],
   "source": [
    "// Create time intervals\n",
    "let yesterday = DateTime.Today.AddDays(-1.)\n",
    "let start = yesterday.AddDays(-50.)\n",
    "// Build the bars request date interval (we are using Google date time format : we have to cast the dates)\n",
    "let dateIntervals = \n",
    "  new DateInterval(\n",
    "    StartDate = new Date ( Year = start.Year, Month = start.Month, Day = start.Day ),\n",
    "    EndDate = new Date ( Year = yesterday.Year, Month = yesterday.Month, Day = yesterday.Day )\n",
    "  )\n",
    "\n",
    "// Build the bars request time interval (we are using Google date time format : we have to cast the dates)\n",
    "// UTC time zone\n",
    "let timeInterval = \n",
    "  new TimeInterval(\n",
    "    StartTime = new TimeOfDay ( Hours = 15, Minutes = 00, Seconds = 00 ),\n",
    "    EndTime = new TimeOfDay ( Hours = 16, Minutes = 00, Seconds = 00 ) \n",
    "  )"
   ]
  },
  {
   "cell_type": "markdown",
   "id": "expressed-green",
   "metadata": {},
   "source": [
    "#### 3.4 Request creation\n",
    "The following code snippets creates *gRPC client*, process request and returns the request reply:"
   ]
  },
  {
   "cell_type": "code",
   "execution_count": 7,
   "id": "uniform-wyoming",
   "metadata": {
    "dotnet_interactive": {
     "language": "fsharp"
    },
    "execution": {
     "iopub.execute_input": "2022-10-25T16:25:13.681432Z",
     "iopub.status.busy": "2022-10-25T16:25:13.681076Z",
     "iopub.status.idle": "2022-10-25T16:25:13.719300Z",
     "shell.execute_reply": "2022-10-25T16:25:13.718766Z"
    }
   },
   "outputs": [],
   "source": [
    "// Generate constraints based on the previous time selection:\n",
    "let constraints = new Constraints()\n",
    "constraints.DateIntervals.Add(dateIntervals)\n",
    "constraints.TimeIntervals.Add(timeInterval)"
   ]
  },
  {
   "cell_type": "markdown",
   "id": "welsh-wheel",
   "metadata": {},
   "source": [
    "The following code snippets create requests for Bollinger bands:"
   ]
  },
  {
   "cell_type": "code",
   "execution_count": 8,
   "id": "appointed-assumption",
   "metadata": {
    "dotnet_interactive": {
     "language": "fsharp"
    },
    "execution": {
     "iopub.execute_input": "2022-10-25T16:25:13.722060Z",
     "iopub.status.busy": "2022-10-25T16:25:13.721431Z",
     "iopub.status.idle": "2022-10-25T16:25:13.748191Z",
     "shell.execute_reply": "2022-10-25T16:25:13.747947Z"
    }
   },
   "outputs": [],
   "source": [
    "// Generate the tick Bollinger Bands request\n",
    "let request = \n",
    "    new TickBollingerRequest(\n",
    "        Identifier = new Identifier ( Exchange = exchange, Ticker = ticker), \n",
    "        Constraints = constraints,  \n",
    "        Field = field,\n",
    "        Length = length, \n",
    "        Deviation = deviation,\n",
    "        Sampling = sampling\n",
    "    )\n",
    "\n",
    "// Instantiate the tick Bollinger bands service\n",
    "let service = new TickBollingerService.TickBollingerServiceClient(channel)"
   ]
  },
  {
   "cell_type": "markdown",
   "id": "pregnant-milwaukee",
   "metadata": {},
   "source": [
    "### Step 4: Visualize data"
   ]
  },
  {
   "cell_type": "markdown",
   "id": "coordinate-literacy",
   "metadata": {},
   "source": [
    "#### 4.1 Retrieve Bollinger bands data"
   ]
  },
  {
   "cell_type": "code",
   "execution_count": 9,
   "id": "fossil-stock",
   "metadata": {
    "dotnet_interactive": {
     "language": "fsharp"
    },
    "execution": {
     "iopub.execute_input": "2022-10-25T16:25:13.750403Z",
     "iopub.status.busy": "2022-10-25T16:25:13.749998Z",
     "iopub.status.idle": "2022-10-25T16:25:14.896480Z",
     "shell.execute_reply": "2022-10-25T16:25:14.895978Z"
    }
   },
   "outputs": [
    {
     "data": {
      "text/html": [
       "<table><thead><tr><th><i>index</i></th><th>TimeStamp</th><th>Value</th><th>Lower</th><th>Upper</th><th>Middle</th></tr></thead><tbody><tr><td>0</td><td><table><thead><tr><th>Seconds</th><th>Nanos</th></tr></thead><tbody><tr><td><div class=\"dni-plaintext\">1662476460</div></td><td><div class=\"dni-plaintext\">493600000</div></td></tr></tbody></table></td><td><div class=\"dni-plaintext\">155.91</div></td><td><div class=\"dni-plaintext\">&lt;null&gt;</div></td><td><div class=\"dni-plaintext\">&lt;null&gt;</div></td><td><div class=\"dni-plaintext\">&lt;null&gt;</div></td></tr><tr><td>1</td><td><table><thead><tr><th>Seconds</th><th>Nanos</th></tr></thead><tbody><tr><td><div class=\"dni-plaintext\">1662476520</div></td><td><div class=\"dni-plaintext\">313200000</div></td></tr></tbody></table></td><td><div class=\"dni-plaintext\">155.92</div></td><td><div class=\"dni-plaintext\">&lt;null&gt;</div></td><td><div class=\"dni-plaintext\">&lt;null&gt;</div></td><td><div class=\"dni-plaintext\">&lt;null&gt;</div></td></tr><tr><td>2</td><td><table><thead><tr><th>Seconds</th><th>Nanos</th></tr></thead><tbody><tr><td><div class=\"dni-plaintext\">1662476580</div></td><td><div class=\"dni-plaintext\">102900000</div></td></tr></tbody></table></td><td><div class=\"dni-plaintext\">155.9</div></td><td><div class=\"dni-plaintext\">&lt;null&gt;</div></td><td><div class=\"dni-plaintext\">&lt;null&gt;</div></td><td><div class=\"dni-plaintext\">&lt;null&gt;</div></td></tr><tr><td>3</td><td><table><thead><tr><th>Seconds</th><th>Nanos</th></tr></thead><tbody><tr><td><div class=\"dni-plaintext\">1662476640</div></td><td><div class=\"dni-plaintext\">44900000</div></td></tr></tbody></table></td><td><div class=\"dni-plaintext\">155.88</div></td><td><div class=\"dni-plaintext\">&lt;null&gt;</div></td><td><div class=\"dni-plaintext\">&lt;null&gt;</div></td><td><div class=\"dni-plaintext\">&lt;null&gt;</div></td></tr><tr><td>4</td><td><table><thead><tr><th>Seconds</th><th>Nanos</th></tr></thead><tbody><tr><td><div class=\"dni-plaintext\">1662476700</div></td><td><div class=\"dni-plaintext\">4300000</div></td></tr></tbody></table></td><td><div class=\"dni-plaintext\">155.83</div></td><td><div class=\"dni-plaintext\">&lt;null&gt;</div></td><td><div class=\"dni-plaintext\">&lt;null&gt;</div></td><td><div class=\"dni-plaintext\">&lt;null&gt;</div></td></tr><tr><td>5</td><td><table><thead><tr><th>Seconds</th><th>Nanos</th></tr></thead><tbody><tr><td><div class=\"dni-plaintext\">1662476761</div></td><td><div class=\"dni-plaintext\">10400000</div></td></tr></tbody></table></td><td><div class=\"dni-plaintext\">155.71</div></td><td><div class=\"dni-plaintext\">&lt;null&gt;</div></td><td><div class=\"dni-plaintext\">&lt;null&gt;</div></td><td><div class=\"dni-plaintext\">&lt;null&gt;</div></td></tr><tr><td>6</td><td><table><thead><tr><th>Seconds</th><th>Nanos</th></tr></thead><tbody><tr><td><div class=\"dni-plaintext\">1662476820</div></td><td><div class=\"dni-plaintext\">801300000</div></td></tr></tbody></table></td><td><div class=\"dni-plaintext\">155.97</div></td><td><div class=\"dni-plaintext\">&lt;null&gt;</div></td><td><div class=\"dni-plaintext\">&lt;null&gt;</div></td><td><div class=\"dni-plaintext\">&lt;null&gt;</div></td></tr><tr><td>7</td><td><table><thead><tr><th>Seconds</th><th>Nanos</th></tr></thead><tbody><tr><td><div class=\"dni-plaintext\">1662476880</div></td><td><div class=\"dni-plaintext\">4700000</div></td></tr></tbody></table></td><td><div class=\"dni-plaintext\">156.05</div></td><td><div class=\"dni-plaintext\">&lt;null&gt;</div></td><td><div class=\"dni-plaintext\">&lt;null&gt;</div></td><td><div class=\"dni-plaintext\">&lt;null&gt;</div></td></tr><tr><td>8</td><td><table><thead><tr><th>Seconds</th><th>Nanos</th></tr></thead><tbody><tr><td><div class=\"dni-plaintext\">1662476940</div></td><td><div class=\"dni-plaintext\">103700000</div></td></tr></tbody></table></td><td><div class=\"dni-plaintext\">156.41</div></td><td><div class=\"dni-plaintext\">&lt;null&gt;</div></td><td><div class=\"dni-plaintext\">&lt;null&gt;</div></td><td><div class=\"dni-plaintext\">&lt;null&gt;</div></td></tr><tr><td>9</td><td><table><thead><tr><th>Seconds</th><th>Nanos</th></tr></thead><tbody><tr><td><div class=\"dni-plaintext\">1662477000</div></td><td><div class=\"dni-plaintext\">23100000</div></td></tr></tbody></table></td><td><div class=\"dni-plaintext\">156.25</div></td><td><div class=\"dni-plaintext\">&lt;null&gt;</div></td><td><div class=\"dni-plaintext\">&lt;null&gt;</div></td><td><div class=\"dni-plaintext\">&lt;null&gt;</div></td></tr><tr><td>10</td><td><table><thead><tr><th>Seconds</th><th>Nanos</th></tr></thead><tbody><tr><td><div class=\"dni-plaintext\">1662477060</div></td><td><div class=\"dni-plaintext\">59000000</div></td></tr></tbody></table></td><td><div class=\"dni-plaintext\">156.09</div></td><td><div class=\"dni-plaintext\">&lt;null&gt;</div></td><td><div class=\"dni-plaintext\">&lt;null&gt;</div></td><td><div class=\"dni-plaintext\">&lt;null&gt;</div></td></tr><tr><td>11</td><td><table><thead><tr><th>Seconds</th><th>Nanos</th></tr></thead><tbody><tr><td><div class=\"dni-plaintext\">1662477120</div></td><td><div class=\"dni-plaintext\">3700000</div></td></tr></tbody></table></td><td><div class=\"dni-plaintext\">155.95</div></td><td><div class=\"dni-plaintext\">&lt;null&gt;</div></td><td><div class=\"dni-plaintext\">&lt;null&gt;</div></td><td><div class=\"dni-plaintext\">&lt;null&gt;</div></td></tr><tr><td>12</td><td><table><thead><tr><th>Seconds</th><th>Nanos</th></tr></thead><tbody><tr><td><div class=\"dni-plaintext\">1662477183</div></td><td><div class=\"dni-plaintext\">148200000</div></td></tr></tbody></table></td><td><div class=\"dni-plaintext\">155.89</div></td><td><div class=\"dni-plaintext\">&lt;null&gt;</div></td><td><div class=\"dni-plaintext\">&lt;null&gt;</div></td><td><div class=\"dni-plaintext\">&lt;null&gt;</div></td></tr><tr><td>13</td><td><table><thead><tr><th>Seconds</th><th>Nanos</th></tr></thead><tbody><tr><td><div class=\"dni-plaintext\">1662477241</div></td><td><div class=\"dni-plaintext\">493900000</div></td></tr></tbody></table></td><td><div class=\"dni-plaintext\">155.98</div></td><td><div class=\"dni-plaintext\">&lt;null&gt;</div></td><td><div class=\"dni-plaintext\">&lt;null&gt;</div></td><td><div class=\"dni-plaintext\">&lt;null&gt;</div></td></tr><tr><td>14</td><td><table><thead><tr><th>Seconds</th><th>Nanos</th></tr></thead><tbody><tr><td><div class=\"dni-plaintext\">1662477302</div></td><td><div class=\"dni-plaintext\">736600000</div></td></tr></tbody></table></td><td><div class=\"dni-plaintext\">155.97</div></td><td><div class=\"dni-plaintext\">&lt;null&gt;</div></td><td><div class=\"dni-plaintext\">&lt;null&gt;</div></td><td><div class=\"dni-plaintext\">&lt;null&gt;</div></td></tr><tr><td>15</td><td><table><thead><tr><th>Seconds</th><th>Nanos</th></tr></thead><tbody><tr><td><div class=\"dni-plaintext\">1662477360</div></td><td><div class=\"dni-plaintext\">7700000</div></td></tr></tbody></table></td><td><div class=\"dni-plaintext\">155.86</div></td><td><div class=\"dni-plaintext\">&lt;null&gt;</div></td><td><div class=\"dni-plaintext\">&lt;null&gt;</div></td><td><div class=\"dni-plaintext\">&lt;null&gt;</div></td></tr><tr><td>16</td><td><table><thead><tr><th>Seconds</th><th>Nanos</th></tr></thead><tbody><tr><td><div class=\"dni-plaintext\">1662477420</div></td><td><div class=\"dni-plaintext\">671700000</div></td></tr></tbody></table></td><td><div class=\"dni-plaintext\">155.79</div></td><td><div class=\"dni-plaintext\">&lt;null&gt;</div></td><td><div class=\"dni-plaintext\">&lt;null&gt;</div></td><td><div class=\"dni-plaintext\">&lt;null&gt;</div></td></tr><tr><td>17</td><td><table><thead><tr><th>Seconds</th><th>Nanos</th></tr></thead><tbody><tr><td><div class=\"dni-plaintext\">1662477480</div></td><td><div class=\"dni-plaintext\">416800000</div></td></tr></tbody></table></td><td><div class=\"dni-plaintext\">155.74</div></td><td><div class=\"dni-plaintext\">&lt;null&gt;</div></td><td><div class=\"dni-plaintext\">&lt;null&gt;</div></td><td><div class=\"dni-plaintext\">&lt;null&gt;</div></td></tr><tr><td>18</td><td><table><thead><tr><th>Seconds</th><th>Nanos</th></tr></thead><tbody><tr><td><div class=\"dni-plaintext\">1662477540</div></td><td><div class=\"dni-plaintext\">4100000</div></td></tr></tbody></table></td><td><div class=\"dni-plaintext\">155.68</div></td><td><div class=\"dni-plaintext\">&lt;null&gt;</div></td><td><div class=\"dni-plaintext\">&lt;null&gt;</div></td><td><div class=\"dni-plaintext\">&lt;null&gt;</div></td></tr><tr><td>19</td><td><table><thead><tr><th>Seconds</th><th>Nanos</th></tr></thead><tbody><tr><td><div class=\"dni-plaintext\">1662477600</div></td><td><div class=\"dni-plaintext\">76300000</div></td></tr></tbody></table></td><td><div class=\"dni-plaintext\">155.71</div></td><td><div class=\"dni-plaintext\">155.85443174756</div></td><td><div class=\"dni-plaintext\">155.99456825244005</div></td><td><div class=\"dni-plaintext\">155.92450000000002</div></td></tr><tr><td colspan=\"6\"><i>(340 more)</i></td></tr></tbody></table>"
      ]
     },
     "metadata": {},
     "output_type": "display_data"
    }
   ],
   "source": [
    "open FSharp.Control.Tasks.V2\n",
    "open System.Collections.Generic\n",
    "\n",
    "let iterAsync (t: IAsyncEnumerable<'T>) (f : 'T -> unit) =\n",
    "    let task = \n",
    "        task {\n",
    "            let e = t.GetAsyncEnumerator()\n",
    "            let mutable go = true\n",
    "            try\n",
    "                let! step = e.MoveNextAsync()\n",
    "                go <- step\n",
    "                while go do \n",
    "                    f e.Current\n",
    "                    let! step = e.MoveNextAsync()\n",
    "                    go <- step\n",
    "            finally\n",
    "                e.DisposeAsync().AsTask().Wait()\n",
    "        }\n",
    "    task.Wait()\n",
    "\n",
    "\n",
    "\n",
    "let bollingerBands = new List<TickBollingerResponse>()\n",
    "let call = service.TickBollinger(request, headers)\n",
    "let e = call.ResponseStream.ReadAllAsync()\n",
    "iterAsync e bollingerBands.Add\n",
    "\n",
    "bollingerBands\n",
    "|> display"
   ]
  },
  {
   "cell_type": "markdown",
   "id": "faced-dynamics",
   "metadata": {},
   "source": [
    "#### 4.2 Plot Bollinger bands\n",
    "Display Bollinger bands over the look back period with the package of your choice.<br>*`XPlot.Plotly`* is used as per open source display package.\n",
    "Plot a simple line graph with the *Bollinger bands* as follows: "
   ]
  },
  {
   "cell_type": "code",
   "execution_count": 10,
   "id": "initial-boxing",
   "metadata": {
    "dotnet_interactive": {
     "language": "fsharp"
    },
    "execution": {
     "iopub.execute_input": "2022-10-25T16:25:14.899360Z",
     "iopub.status.busy": "2022-10-25T16:25:14.898665Z",
     "iopub.status.idle": "2022-10-25T16:25:15.288466Z",
     "shell.execute_reply": "2022-10-25T16:25:15.288729Z"
    }
   },
   "outputs": [
    {
     "data": {
      "text/html": [
       "<!DOCTYPE html>\n",
       "<div style=\"width: 1500px; height: 800px;\" id=\"c8e2d05b-d76a-4e74-936e-40ac495942f0\"></div><script type=\"text/javascript\">\n",
       "\n",
       "var renderPlotly = function() {\n",
       "    var xplotRequire = require.config({context:'xplot-3.0.1',paths:{plotly:'https://cdn.plot.ly/plotly-1.49.2.min'}}) || require;\n",
       "    xplotRequire(['plotly'], function(Plotly) { \n",
       "\n",
       "            var data = [{\"type\":\"scattergl\",\"x\":[\"2022-09-06T15:01:00.4936Z\",\"2022-09-06T15:02:00.3132Z\",\"2022-09-06T15:03:00.1029Z\",\"2022-09-06T15:04:00.0449Z\",\"2022-09-06T15:05:00.0043Z\",\"2022-09-06T15:06:01.0104Z\",\"2022-09-06T15:07:00.8013Z\",\"2022-09-06T15:08:00.0047Z\",\"2022-09-06T15:09:00.1037Z\",\"2022-09-06T15:10:00.0231Z\",\"2022-09-06T15:11:00.059Z\",\"2022-09-06T15:12:00.0037Z\",\"2022-09-06T15:13:03.1482Z\",\"2022-09-06T15:14:01.4939Z\",\"2022-09-06T15:15:02.7366Z\",\"2022-09-06T15:16:00.0077Z\",\"2022-09-06T15:17:00.6717Z\",\"2022-09-06T15:18:00.4168Z\",\"2022-09-06T15:19:00.0041Z\",\"2022-09-06T15:20:00.0763Z\",\"2022-09-06T15:21:01.1331Z\",\"2022-09-06T15:22:00.8778Z\",\"2022-09-06T15:23:00.482Z\",\"2022-09-06T15:24:00.8156Z\",\"2022-09-06T15:25:00.018Z\",\"2022-09-06T15:26:01.1183Z\",\"2022-09-06T15:27:00.8112Z\",\"2022-09-06T15:28:04.9273Z\",\"2022-09-06T15:29:00.1764Z\",\"2022-09-06T15:30:00.008Z\",\"2022-09-06T15:31:00.496Z\",\"2022-09-06T15:32:00.075Z\",\"2022-09-06T15:33:00.0157Z\",\"2022-09-06T15:34:00.0617Z\",\"2022-09-06T15:35:02.9651Z\",\"2022-09-06T15:36:00.3595Z\",\"2022-09-06T15:37:01.6233Z\",\"2022-09-06T15:38:03.8498Z\",\"2022-09-06T15:39:00.1221Z\",\"2022-09-06T15:40:00.2304Z\",\"2022-09-06T15:41:01.0264Z\",\"2022-09-06T15:42:00.5163Z\",\"2022-09-06T15:43:00.7242Z\",\"2022-09-06T15:44:00.4206Z\",\"2022-09-06T15:45:01.1932Z\",\"2022-09-06T15:46:00.9972Z\",\"2022-09-06T15:47:00.2011Z\",\"2022-09-06T15:48:00.2925Z\",\"2022-09-06T15:49:01.118Z\",\"2022-09-06T15:50:01.1873Z\",\"2022-09-06T15:51:00.3099Z\",\"2022-09-06T15:52:00.5901Z\",\"2022-09-06T15:53:00.7069Z\",\"2022-09-06T15:54:01.6874Z\",\"2022-09-06T15:55:00.5919Z\",\"2022-09-06T15:56:01.5708Z\",\"2022-09-06T15:57:00.2649Z\",\"2022-09-06T15:58:01.0614Z\",\"2022-09-06T15:59:00.4743Z\",\"2022-09-08T15:00:00.0048Z\",\"2022-09-08T15:01:00.1839Z\",\"2022-09-08T15:02:00.0249Z\",\"2022-09-08T15:03:04.4407Z\",\"2022-09-08T15:04:01.9641Z\",\"2022-09-08T15:05:01.4804Z\",\"2022-09-08T15:06:00.5121Z\",\"2022-09-08T15:07:03.9764Z\",\"2022-09-08T15:08:00.0464Z\",\"2022-09-08T15:09:00.1104Z\",\"2022-09-08T15:10:01.613Z\",\"2022-09-08T15:11:02.9032Z\",\"2022-09-08T15:12:01.2492Z\",\"2022-09-08T15:13:00.481Z\",\"2022-09-08T15:14:00.7565Z\",\"2022-09-08T15:15:00.6436Z\",\"2022-09-08T15:16:00.068Z\",\"2022-09-08T15:17:01.302Z\",\"2022-09-08T15:18:00.512Z\",\"2022-09-08T15:19:02.9948Z\",\"2022-09-08T15:20:00.0766Z\",\"2022-09-08T15:21:02.1869Z\",\"2022-09-08T15:22:04.2907Z\",\"2022-09-08T15:23:04.9919Z\",\"2022-09-08T15:24:01.6574Z\",\"2022-09-08T15:25:00.6558Z\",\"2022-09-08T15:26:04.5434Z\",\"2022-09-08T15:27:01.2138Z\",\"2022-09-08T15:28:03.3509Z\",\"2022-09-08T15:29:00.0338Z\",\"2022-09-08T15:30:00.029Z\",\"2022-09-08T15:31:00.0311Z\",\"2022-09-08T15:32:00.997Z\",\"2022-09-08T15:33:00.065Z\",\"2022-09-08T15:34:00.3885Z\",\"2022-09-08T15:35:01.2431Z\",\"2022-09-08T15:36:00.4539Z\",\"2022-09-08T15:37:01.3309Z\",\"2022-09-08T15:38:00.0499Z\",\"2022-09-08T15:39:00.4208Z\",\"2022-09-08T15:40:00.0889Z\",\"2022-09-08T15:41:01.4381Z\",\"2022-09-08T15:42:03.0355Z\",\"2022-09-08T15:43:02.6125Z\",\"2022-09-08T15:44:00.4021Z\",\"2022-09-08T15:45:00.8131Z\",\"2022-09-08T15:46:00.2037Z\",\"2022-09-08T15:47:00.0313Z\",\"2022-09-08T15:48:01.7427Z\",\"2022-09-08T15:49:01.8137Z\",\"2022-09-08T15:50:04.0361Z\",\"2022-09-08T15:51:01.2964Z\",\"2022-09-08T15:52:00.1926Z\",\"2022-09-08T15:53:01.5936Z\",\"2022-09-08T15:54:04.0702Z\",\"2022-09-08T15:55:00.0308Z\",\"2022-09-08T15:56:00.1388Z\",\"2022-09-08T15:57:00.5201Z\",\"2022-09-08T15:58:02.6199Z\",\"2022-09-08T15:59:00.8449Z\",\"2022-09-09T15:00:00.0591Z\",\"2022-09-09T15:01:00.5672Z\",\"2022-09-09T15:02:02.0606Z\",\"2022-09-09T15:03:00.4513Z\",\"2022-09-09T15:04:00.5288Z\",\"2022-09-09T15:05:01.3564Z\",\"2022-09-09T15:06:03.248Z\",\"2022-09-09T15:07:00.0252Z\",\"2022-09-09T15:08:01.87Z\",\"2022-09-09T15:09:00.3899Z\",\"2022-09-09T15:10:00.159Z\",\"2022-09-09T15:11:06.4906Z\",\"2022-09-09T15:12:00.1062Z\",\"2022-09-09T15:13:03.8107Z\",\"2022-09-09T15:14:00.0426Z\",\"2022-09-09T15:15:00.6519Z\",\"2022-09-09T15:16:00.1Z\",\"2022-09-09T15:17:02.6619Z\",\"2022-09-09T15:18:00.4327Z\",\"2022-09-09T15:19:00.2085Z\",\"2022-09-09T15:20:00.7115Z\",\"2022-09-09T15:21:01.0456Z\",\"2022-09-09T15:22:00.2242Z\",\"2022-09-09T15:23:00.1533Z\",\"2022-09-09T15:24:00.5195Z\",\"2022-09-09T15:25:00.0278Z\",\"2022-09-09T15:26:02.7163Z\",\"2022-09-09T15:27:00.0276Z\",\"2022-09-09T15:28:02.3225Z\",\"2022-09-09T15:29:02.6442Z\",\"2022-09-09T15:30:00.0334Z\",\"2022-09-09T15:31:00.5068Z\",\"2022-09-09T15:32:00.2151Z\",\"2022-09-09T15:33:00.3814Z\",\"2022-09-09T15:34:01.1539Z\",\"2022-09-09T15:35:02.3285Z\",\"2022-09-09T15:36:01.4419Z\",\"2022-09-09T15:37:00.2893Z\",\"2022-09-09T15:38:00.0015Z\",\"2022-09-09T15:39:00.0244Z\",\"2022-09-09T15:40:01.1572Z\",\"2022-09-09T15:41:00.0232Z\",\"2022-09-09T15:42:00.0231Z\",\"2022-09-09T15:43:03.0625Z\",\"2022-09-09T15:44:00.7216Z\",\"2022-09-09T15:45:04.4718Z\",\"2022-09-09T15:46:02.8992Z\",\"2022-09-09T15:47:04.5778Z\",\"2022-09-09T15:48:02.1143Z\",\"2022-09-09T15:49:06.5547Z\",\"2022-09-09T15:50:00.226Z\",\"2022-09-09T15:51:02.1089Z\",\"2022-09-09T15:52:00.2533Z\",\"2022-09-09T15:53:02.8403Z\",\"2022-09-09T15:54:00.3097Z\",\"2022-09-09T15:55:00.377Z\",\"2022-09-09T15:56:03.4874Z\",\"2022-09-09T15:57:00.4959Z\",\"2022-09-09T15:58:02.6162Z\",\"2022-09-09T15:59:02.2729Z\",\"2022-09-12T15:00:00.0041Z\",\"2022-09-12T15:01:00.9818Z\",\"2022-09-12T15:02:00.0717Z\",\"2022-09-12T15:03:01.2993Z\",\"2022-09-12T15:04:00.058Z\",\"2022-09-12T15:05:00.0409Z\",\"2022-09-12T15:06:00.046Z\",\"2022-09-12T15:07:00.957Z\",\"2022-09-12T15:08:01.423Z\",\"2022-09-12T15:09:00.2792Z\",\"2022-09-12T15:10:00.8642Z\",\"2022-09-12T15:11:00.3948Z\",\"2022-09-12T15:12:00.1126Z\",\"2022-09-12T15:13:00.1182Z\",\"2022-09-12T15:14:03.3147Z\",\"2022-09-12T15:15:00.9348Z\",\"2022-09-12T15:16:00.2438Z\",\"2022-09-12T15:17:00.0488Z\",\"2022-09-12T15:18:01.1468Z\",\"2022-09-12T15:19:00.4016Z\",\"2022-09-12T15:20:00.0127Z\",\"2022-09-12T15:21:00.5897Z\",\"2022-09-12T15:22:02.102Z\",\"2022-09-12T15:23:00.5373Z\",\"2022-09-12T15:24:00.397Z\",\"2022-09-12T15:25:00.0363Z\",\"2022-09-12T15:26:02.0699Z\",\"2022-09-12T15:27:01.7658Z\",\"2022-09-12T15:28:00.4468Z\",\"2022-09-12T15:29:00.6874Z\",\"2022-09-12T15:30:00.3806Z\",\"2022-09-12T15:31:00.3182Z\",\"2022-09-12T15:32:00.5517Z\",\"2022-09-12T15:33:00.4229Z\",\"2022-09-12T15:34:00.2221Z\",\"2022-09-12T15:35:02.184Z\",\"2022-09-12T15:36:00.3122Z\",\"2022-09-12T15:37:00.2652Z\",\"2022-09-12T15:38:00.1361Z\",\"2022-09-12T15:39:02.8382Z\",\"2022-09-12T15:40:00.1926Z\",\"2022-09-12T15:41:01.1782Z\",\"2022-09-12T15:42:01.6886Z\",\"2022-09-12T15:43:01.2169Z\",\"2022-09-12T15:44:01.1804Z\",\"2022-09-12T15:45:01.9026Z\",\"2022-09-12T15:46:01.9222Z\",\"2022-09-12T15:47:00.5356Z\",\"2022-09-12T15:48:00.4584Z\",\"2022-09-12T15:49:01.4585Z\",\"2022-09-12T15:50:00.5773Z\",\"2022-09-12T15:51:01.8559Z\",\"2022-09-12T15:52:00.7343Z\",\"2022-09-12T15:53:03.4513Z\",\"2022-09-12T15:54:00.1559Z\",\"2022-09-12T15:55:00.158Z\",\"2022-09-12T15:56:00.1442Z\",\"2022-09-12T15:57:00.0052Z\",\"2022-09-12T15:58:00.4853Z\",\"2022-09-12T15:59:00.1643Z\",\"2022-09-13T15:00:00.1372Z\",\"2022-09-13T15:01:01.9375Z\",\"2022-09-13T15:02:00.3014Z\",\"2022-09-13T15:03:01.958Z\",\"2022-09-13T15:04:01.069Z\",\"2022-09-13T15:05:00.3733Z\",\"2022-09-13T15:06:00.1583Z\",\"2022-09-13T15:07:00.112Z\",\"2022-09-13T15:08:00.7946Z\",\"2022-09-13T15:09:00.3445Z\",\"2022-09-13T15:10:00.7246Z\",\"2022-09-13T15:11:00.3569Z\",\"2022-09-13T15:12:00.4428Z\",\"2022-09-13T15:13:00.0376Z\",\"2022-09-13T15:14:00.0308Z\",\"2022-09-13T15:15:00.1729Z\",\"2022-09-13T15:16:00.4716Z\",\"2022-09-13T15:17:00.1065Z\",\"2022-09-13T15:18:00.3136Z\",\"2022-09-13T15:19:01.0407Z\",\"2022-09-13T15:20:00.6615Z\",\"2022-09-13T15:21:00.7754Z\",\"2022-09-13T15:22:00.6286Z\",\"2022-09-13T15:23:01.9936Z\",\"2022-09-13T15:24:00.5813Z\",\"2022-09-13T15:25:00.0059Z\",\"2022-09-13T15:26:00.7244Z\",\"2022-09-13T15:27:00.0393Z\",\"2022-09-13T15:28:00.4159Z\",\"2022-09-13T15:29:00.2066Z\",\"2022-09-13T15:30:00.024Z\",\"2022-09-13T15:31:00.2334Z\",\"2022-09-13T15:32:00.379Z\",\"2022-09-13T15:33:01.937Z\",\"2022-09-13T15:34:00.0329Z\",\"2022-09-13T15:35:01.0705Z\",\"2022-09-13T15:36:02.2705Z\",\"2022-09-13T15:37:00.0579Z\",\"2022-09-13T15:38:01.5641Z\",\"2022-09-13T15:39:00.1913Z\",\"2022-09-13T15:40:00.2332Z\",\"2022-09-13T15:41:01.3823Z\",\"2022-09-13T15:42:01.4749Z\",\"2022-09-13T15:43:00.0384Z\",\"2022-09-13T15:44:00.1518Z\",\"2022-09-13T15:45:00.0811Z\",\"2022-09-13T15:46:00.2958Z\",\"2022-09-13T15:47:01.8304Z\",\"2022-09-13T15:48:02.9457Z\",\"2022-09-13T15:49:00.8695Z\",\"2022-09-13T15:50:01.5594Z\",\"2022-09-13T15:51:00.0606Z\",\"2022-09-13T15:52:01.0477Z\",\"2022-09-13T15:53:00.0649Z\",\"2022-09-13T15:54:00.0921Z\",\"2022-09-13T15:55:03.3432Z\",\"2022-09-13T15:56:00.0582Z\",\"2022-09-13T15:57:00.1581Z\",\"2022-09-13T15:58:00.0757Z\",\"2022-09-13T15:59:00.7737Z\",\"2022-09-14T15:00:00.0246Z\",\"2022-09-14T15:01:00.1393Z\",\"2022-09-14T15:02:01.0835Z\",\"2022-09-14T15:03:00.1897Z\",\"2022-09-14T15:04:01.4351Z\",\"2022-09-14T15:05:01.2374Z\",\"2022-09-14T15:06:00.6663Z\",\"2022-09-14T15:07:00.1333Z\",\"2022-09-14T15:08:00.2575Z\",\"2022-09-14T15:09:00.0745Z\",\"2022-09-14T15:10:00.1249Z\",\"2022-09-14T15:11:00.526Z\",\"2022-09-14T15:12:00.1116Z\",\"2022-09-14T15:13:02.5929Z\",\"2022-09-14T15:14:01.627Z\",\"2022-09-14T15:15:00.1881Z\",\"2022-09-14T15:16:00.1912Z\",\"2022-09-14T15:17:02.7625Z\",\"2022-09-14T15:18:00.292Z\",\"2022-09-14T15:19:00.0453Z\",\"2022-09-14T15:20:00.0773Z\",\"2022-09-14T15:21:00.1423Z\",\"2022-09-14T15:22:01.7763Z\",\"2022-09-14T15:23:00.0502Z\",\"2022-09-14T15:24:00.6071Z\",\"2022-09-14T15:25:00.1872Z\",\"2022-09-14T15:26:02.2806Z\",\"2022-09-14T15:27:00.2733Z\",\"2022-09-14T15:28:00.1742Z\",\"2022-09-14T15:29:00.3812Z\",\"2022-09-14T15:30:00.0293Z\",\"2022-09-14T15:31:01.5981Z\",\"2022-09-14T15:32:00.2219Z\",\"2022-09-14T15:33:00.3774Z\",\"2022-09-14T15:34:01.8835Z\",\"2022-09-14T15:35:00.8567Z\",\"2022-09-14T15:36:01.1723Z\",\"2022-09-14T15:37:01.5961Z\",\"2022-09-14T15:38:02.0542Z\",\"2022-09-14T15:39:00.4037Z\",\"2022-09-14T15:40:02.0022Z\",\"2022-09-14T15:41:02.1904Z\",\"2022-09-14T15:42:00.6817Z\",\"2022-09-14T15:43:01.4349Z\",\"2022-09-14T15:44:01.442Z\",\"2022-09-14T15:45:00.2037Z\",\"2022-09-14T15:46:01.1788Z\",\"2022-09-14T15:47:01.517Z\",\"2022-09-14T15:48:00.0327Z\",\"2022-09-14T15:49:01.7223Z\",\"2022-09-14T15:50:00.1836Z\",\"2022-09-14T15:51:01.1282Z\",\"2022-09-14T15:52:02.8817Z\",\"2022-09-14T15:53:00.5424Z\",\"2022-09-14T15:54:00.4979Z\",\"2022-09-14T15:55:00.7295Z\",\"2022-09-14T15:56:00.6394Z\",\"2022-09-14T15:57:00.2644Z\",\"2022-09-14T15:58:05.409Z\",\"2022-09-14T15:59:00.0261Z\",\"2022-09-14T15:59:58.5988Z\"],\"y\":[null,null,null,null,null,null,null,null,null,null,null,null,null,null,null,null,null,null,null,155.99456825244005,155.98475396999498,155.97858284957863,155.97858284957863,155.97590392660072,155.98401274403656,155.99040860165331,155.97587387635298,155.95944774701633,155.9110014728514,155.86997859247123,155.84074718333682,155.82871267970313,155.83077813191568,155.8559599140231,155.85741141288477,155.85626754385402,155.86184354395263,155.85835012617153,155.859120185185,155.862730197148,155.88677118897533,155.91605229016503,155.94135080081168,155.97442880916333,155.97877455064184,155.99648939029157,156.00998604173887,156.01823243701116,156.0259519762084,156.0305462666244,156.0418356116874,156.04579539281013,156.055446222201,156.04468735842832,156.04857765014302,156.0651121349011,156.08428593406558,156.1078058137078,156.12595990714047,null,null,null,null,null,null,null,null,null,null,null,null,null,null,null,null,null,null,null,156.09501736313194,156.10218873962256,156.115879623222,156.12452186752827,156.13062702823976,156.135987270272,156.14213066042848,156.1455068742616,156.1355477052292,156.12721112575989,156.12305642376998,156.11324383156133,156.11251608320765,156.11026722594627,156.11491518833793,156.12036622387217,156.12036622387217,156.12655943165893,156.1274645549771,156.1244123433278,156.11775870499085,156.10381295361532,156.08263480608633,156.06312563083813,156.04035984239033,156.01958446248142,155.99665794155337,155.97611262847627,155.9625580321685,155.94988570352837,155.92888930277093,155.9109298498732,155.887822224183,155.86219606301586,155.83273303400085,155.80329223215665,155.77512916349295,155.74004165124597,155.70493281640665,155.68093367557137,155.66988353807216,null,null,null,null,null,null,null,null,null,null,null,null,null,null,null,null,null,null,null,156.72796481039862,156.71334939903414,156.7039887263066,156.70603169455634,156.70842187678983,156.7112117553206,156.7112117553206,156.7105196053978,156.71535434758442,156.72380365620253,156.73447883674712,156.75677363072313,156.7799243915126,156.78911717759829,156.81102841397063,156.83090129532232,156.8443277713827,156.85647138900322,156.86171027316945,156.88131769680552,156.90995969837525,156.93604527904273,156.95977098878967,156.97576512157482,156.99531584286098,157.00575142484948,157.0135576357921,157.01949467495643,157.02419565188035,157.02819536388256,157.03589683996307,157.03708495815306,157.03632461556109,157.0367640383601,157.0338859827598,157.03040659280956,157.02530665805898,157.0134684157577,157.00808368813222,156.99928805345962,156.9828293880168,null,null,null,null,null,null,null,null,null,null,null,null,null,null,null,null,null,null,null,161.90407440469275,161.83654544979188,161.87587521105803,161.93242053034822,161.98857745859942,162.0449190059874,162.10618176025037,162.1563461097821,162.20321448189532,162.24835193646885,162.29117385059791,162.33785465201603,162.37117565626752,162.3993545166722,162.4410410832371,162.48853712967787,162.52583427049632,162.55749952380833,162.58309641140625,162.59824648845552,162.60541968461084,162.6174288311682,162.62667452952843,162.63136025589483,162.63152416982052,162.63105296493396,162.62802900196155,162.6262262052583,162.62335435387592,162.61831352271656,162.61087111160163,162.5975325334032,162.5872041665375,162.57852662231357,162.55621197718057,162.52158014387004,162.48980773892458,162.45883404816598,162.42615584008277,162.39652208763917,162.37237375858848,null,null,null,null,null,null,null,null,null,null,null,null,null,null,null,null,null,null,null,157.59124993158494,156.95604742704444,156.93140654268706,156.89574475701465,156.87949486021938,156.86436754985507,156.83746353578442,156.80281058266974,156.7762963045727,156.75133512818186,156.73509075515875,156.70581898747847,156.68579548008165,156.68082372483846,156.66349817515814,156.64039113089706,156.63054092441553,156.6178983974153,156.59768015525736,156.57887212999296,156.559861600518,156.5452651969207,156.5375565636441,156.52504313952642,156.51282284144804,156.51130313903397,156.5199647481753,156.5149477398455,156.51454497191006,156.51914621191412,156.524749961832,156.52185403906378,156.52787388374543,156.52487124510708,156.5308746326145,156.537176128269,156.537176128269,156.53770511326496,156.5424669713576,156.54318775514486,156.52817434680844,null,null,null,null,null,null,null,null,null,null,null,null,null,null,null,null,null,null,null,156.82194452168054,156.8345527013394,156.83831217415496,156.84347120146688,156.84119371415494,156.8446732450482,156.84399357511626,156.8415359802879,156.81434182028727,156.79399373315874,156.7642627818193,156.72740381056764,156.67648327932866,156.63852993322683,156.58702993322683,156.5358133524544,156.4828844277726,156.423316900291,156.3654858815154,156.3115945254107,156.2594561595921,156.21286125425917,156.19010388400068,156.15913659957985,156.14698159092382,156.12010846125455,156.11318094803445,156.11400760037876,156.11089018667607,156.11157800379368,156.1073853428254,156.1159274145151,156.11610456253973,156.11052463743746,156.1080183448997,156.1042871916676,156.11207068285404,156.11778906856554,156.11976962256966,156.12007269685606,156.1196286599685,156.1131847944766],\"mode\":\"lines\",\"name\":\"Upper band\"},{\"type\":\"scattergl\",\"x\":[\"2022-09-06T15:01:00.4936Z\",\"2022-09-06T15:02:00.3132Z\",\"2022-09-06T15:03:00.1029Z\",\"2022-09-06T15:04:00.0449Z\",\"2022-09-06T15:05:00.0043Z\",\"2022-09-06T15:06:01.0104Z\",\"2022-09-06T15:07:00.8013Z\",\"2022-09-06T15:08:00.0047Z\",\"2022-09-06T15:09:00.1037Z\",\"2022-09-06T15:10:00.0231Z\",\"2022-09-06T15:11:00.059Z\",\"2022-09-06T15:12:00.0037Z\",\"2022-09-06T15:13:03.1482Z\",\"2022-09-06T15:14:01.4939Z\",\"2022-09-06T15:15:02.7366Z\",\"2022-09-06T15:16:00.0077Z\",\"2022-09-06T15:17:00.6717Z\",\"2022-09-06T15:18:00.4168Z\",\"2022-09-06T15:19:00.0041Z\",\"2022-09-06T15:20:00.0763Z\",\"2022-09-06T15:21:01.1331Z\",\"2022-09-06T15:22:00.8778Z\",\"2022-09-06T15:23:00.482Z\",\"2022-09-06T15:24:00.8156Z\",\"2022-09-06T15:25:00.018Z\",\"2022-09-06T15:26:01.1183Z\",\"2022-09-06T15:27:00.8112Z\",\"2022-09-06T15:28:04.9273Z\",\"2022-09-06T15:29:00.1764Z\",\"2022-09-06T15:30:00.008Z\",\"2022-09-06T15:31:00.496Z\",\"2022-09-06T15:32:00.075Z\",\"2022-09-06T15:33:00.0157Z\",\"2022-09-06T15:34:00.0617Z\",\"2022-09-06T15:35:02.9651Z\",\"2022-09-06T15:36:00.3595Z\",\"2022-09-06T15:37:01.6233Z\",\"2022-09-06T15:38:03.8498Z\",\"2022-09-06T15:39:00.1221Z\",\"2022-09-06T15:40:00.2304Z\",\"2022-09-06T15:41:01.0264Z\",\"2022-09-06T15:42:00.5163Z\",\"2022-09-06T15:43:00.7242Z\",\"2022-09-06T15:44:00.4206Z\",\"2022-09-06T15:45:01.1932Z\",\"2022-09-06T15:46:00.9972Z\",\"2022-09-06T15:47:00.2011Z\",\"2022-09-06T15:48:00.2925Z\",\"2022-09-06T15:49:01.118Z\",\"2022-09-06T15:50:01.1873Z\",\"2022-09-06T15:51:00.3099Z\",\"2022-09-06T15:52:00.5901Z\",\"2022-09-06T15:53:00.7069Z\",\"2022-09-06T15:54:01.6874Z\",\"2022-09-06T15:55:00.5919Z\",\"2022-09-06T15:56:01.5708Z\",\"2022-09-06T15:57:00.2649Z\",\"2022-09-06T15:58:01.0614Z\",\"2022-09-06T15:59:00.4743Z\",\"2022-09-08T15:00:00.0048Z\",\"2022-09-08T15:01:00.1839Z\",\"2022-09-08T15:02:00.0249Z\",\"2022-09-08T15:03:04.4407Z\",\"2022-09-08T15:04:01.9641Z\",\"2022-09-08T15:05:01.4804Z\",\"2022-09-08T15:06:00.5121Z\",\"2022-09-08T15:07:03.9764Z\",\"2022-09-08T15:08:00.0464Z\",\"2022-09-08T15:09:00.1104Z\",\"2022-09-08T15:10:01.613Z\",\"2022-09-08T15:11:02.9032Z\",\"2022-09-08T15:12:01.2492Z\",\"2022-09-08T15:13:00.481Z\",\"2022-09-08T15:14:00.7565Z\",\"2022-09-08T15:15:00.6436Z\",\"2022-09-08T15:16:00.068Z\",\"2022-09-08T15:17:01.302Z\",\"2022-09-08T15:18:00.512Z\",\"2022-09-08T15:19:02.9948Z\",\"2022-09-08T15:20:00.0766Z\",\"2022-09-08T15:21:02.1869Z\",\"2022-09-08T15:22:04.2907Z\",\"2022-09-08T15:23:04.9919Z\",\"2022-09-08T15:24:01.6574Z\",\"2022-09-08T15:25:00.6558Z\",\"2022-09-08T15:26:04.5434Z\",\"2022-09-08T15:27:01.2138Z\",\"2022-09-08T15:28:03.3509Z\",\"2022-09-08T15:29:00.0338Z\",\"2022-09-08T15:30:00.029Z\",\"2022-09-08T15:31:00.0311Z\",\"2022-09-08T15:32:00.997Z\",\"2022-09-08T15:33:00.065Z\",\"2022-09-08T15:34:00.3885Z\",\"2022-09-08T15:35:01.2431Z\",\"2022-09-08T15:36:00.4539Z\",\"2022-09-08T15:37:01.3309Z\",\"2022-09-08T15:38:00.0499Z\",\"2022-09-08T15:39:00.4208Z\",\"2022-09-08T15:40:00.0889Z\",\"2022-09-08T15:41:01.4381Z\",\"2022-09-08T15:42:03.0355Z\",\"2022-09-08T15:43:02.6125Z\",\"2022-09-08T15:44:00.4021Z\",\"2022-09-08T15:45:00.8131Z\",\"2022-09-08T15:46:00.2037Z\",\"2022-09-08T15:47:00.0313Z\",\"2022-09-08T15:48:01.7427Z\",\"2022-09-08T15:49:01.8137Z\",\"2022-09-08T15:50:04.0361Z\",\"2022-09-08T15:51:01.2964Z\",\"2022-09-08T15:52:00.1926Z\",\"2022-09-08T15:53:01.5936Z\",\"2022-09-08T15:54:04.0702Z\",\"2022-09-08T15:55:00.0308Z\",\"2022-09-08T15:56:00.1388Z\",\"2022-09-08T15:57:00.5201Z\",\"2022-09-08T15:58:02.6199Z\",\"2022-09-08T15:59:00.8449Z\",\"2022-09-09T15:00:00.0591Z\",\"2022-09-09T15:01:00.5672Z\",\"2022-09-09T15:02:02.0606Z\",\"2022-09-09T15:03:00.4513Z\",\"2022-09-09T15:04:00.5288Z\",\"2022-09-09T15:05:01.3564Z\",\"2022-09-09T15:06:03.248Z\",\"2022-09-09T15:07:00.0252Z\",\"2022-09-09T15:08:01.87Z\",\"2022-09-09T15:09:00.3899Z\",\"2022-09-09T15:10:00.159Z\",\"2022-09-09T15:11:06.4906Z\",\"2022-09-09T15:12:00.1062Z\",\"2022-09-09T15:13:03.8107Z\",\"2022-09-09T15:14:00.0426Z\",\"2022-09-09T15:15:00.6519Z\",\"2022-09-09T15:16:00.1Z\",\"2022-09-09T15:17:02.6619Z\",\"2022-09-09T15:18:00.4327Z\",\"2022-09-09T15:19:00.2085Z\",\"2022-09-09T15:20:00.7115Z\",\"2022-09-09T15:21:01.0456Z\",\"2022-09-09T15:22:00.2242Z\",\"2022-09-09T15:23:00.1533Z\",\"2022-09-09T15:24:00.5195Z\",\"2022-09-09T15:25:00.0278Z\",\"2022-09-09T15:26:02.7163Z\",\"2022-09-09T15:27:00.0276Z\",\"2022-09-09T15:28:02.3225Z\",\"2022-09-09T15:29:02.6442Z\",\"2022-09-09T15:30:00.0334Z\",\"2022-09-09T15:31:00.5068Z\",\"2022-09-09T15:32:00.2151Z\",\"2022-09-09T15:33:00.3814Z\",\"2022-09-09T15:34:01.1539Z\",\"2022-09-09T15:35:02.3285Z\",\"2022-09-09T15:36:01.4419Z\",\"2022-09-09T15:37:00.2893Z\",\"2022-09-09T15:38:00.0015Z\",\"2022-09-09T15:39:00.0244Z\",\"2022-09-09T15:40:01.1572Z\",\"2022-09-09T15:41:00.0232Z\",\"2022-09-09T15:42:00.0231Z\",\"2022-09-09T15:43:03.0625Z\",\"2022-09-09T15:44:00.7216Z\",\"2022-09-09T15:45:04.4718Z\",\"2022-09-09T15:46:02.8992Z\",\"2022-09-09T15:47:04.5778Z\",\"2022-09-09T15:48:02.1143Z\",\"2022-09-09T15:49:06.5547Z\",\"2022-09-09T15:50:00.226Z\",\"2022-09-09T15:51:02.1089Z\",\"2022-09-09T15:52:00.2533Z\",\"2022-09-09T15:53:02.8403Z\",\"2022-09-09T15:54:00.3097Z\",\"2022-09-09T15:55:00.377Z\",\"2022-09-09T15:56:03.4874Z\",\"2022-09-09T15:57:00.4959Z\",\"2022-09-09T15:58:02.6162Z\",\"2022-09-09T15:59:02.2729Z\",\"2022-09-12T15:00:00.0041Z\",\"2022-09-12T15:01:00.9818Z\",\"2022-09-12T15:02:00.0717Z\",\"2022-09-12T15:03:01.2993Z\",\"2022-09-12T15:04:00.058Z\",\"2022-09-12T15:05:00.0409Z\",\"2022-09-12T15:06:00.046Z\",\"2022-09-12T15:07:00.957Z\",\"2022-09-12T15:08:01.423Z\",\"2022-09-12T15:09:00.2792Z\",\"2022-09-12T15:10:00.8642Z\",\"2022-09-12T15:11:00.3948Z\",\"2022-09-12T15:12:00.1126Z\",\"2022-09-12T15:13:00.1182Z\",\"2022-09-12T15:14:03.3147Z\",\"2022-09-12T15:15:00.9348Z\",\"2022-09-12T15:16:00.2438Z\",\"2022-09-12T15:17:00.0488Z\",\"2022-09-12T15:18:01.1468Z\",\"2022-09-12T15:19:00.4016Z\",\"2022-09-12T15:20:00.0127Z\",\"2022-09-12T15:21:00.5897Z\",\"2022-09-12T15:22:02.102Z\",\"2022-09-12T15:23:00.5373Z\",\"2022-09-12T15:24:00.397Z\",\"2022-09-12T15:25:00.0363Z\",\"2022-09-12T15:26:02.0699Z\",\"2022-09-12T15:27:01.7658Z\",\"2022-09-12T15:28:00.4468Z\",\"2022-09-12T15:29:00.6874Z\",\"2022-09-12T15:30:00.3806Z\",\"2022-09-12T15:31:00.3182Z\",\"2022-09-12T15:32:00.5517Z\",\"2022-09-12T15:33:00.4229Z\",\"2022-09-12T15:34:00.2221Z\",\"2022-09-12T15:35:02.184Z\",\"2022-09-12T15:36:00.3122Z\",\"2022-09-12T15:37:00.2652Z\",\"2022-09-12T15:38:00.1361Z\",\"2022-09-12T15:39:02.8382Z\",\"2022-09-12T15:40:00.1926Z\",\"2022-09-12T15:41:01.1782Z\",\"2022-09-12T15:42:01.6886Z\",\"2022-09-12T15:43:01.2169Z\",\"2022-09-12T15:44:01.1804Z\",\"2022-09-12T15:45:01.9026Z\",\"2022-09-12T15:46:01.9222Z\",\"2022-09-12T15:47:00.5356Z\",\"2022-09-12T15:48:00.4584Z\",\"2022-09-12T15:49:01.4585Z\",\"2022-09-12T15:50:00.5773Z\",\"2022-09-12T15:51:01.8559Z\",\"2022-09-12T15:52:00.7343Z\",\"2022-09-12T15:53:03.4513Z\",\"2022-09-12T15:54:00.1559Z\",\"2022-09-12T15:55:00.158Z\",\"2022-09-12T15:56:00.1442Z\",\"2022-09-12T15:57:00.0052Z\",\"2022-09-12T15:58:00.4853Z\",\"2022-09-12T15:59:00.1643Z\",\"2022-09-13T15:00:00.1372Z\",\"2022-09-13T15:01:01.9375Z\",\"2022-09-13T15:02:00.3014Z\",\"2022-09-13T15:03:01.958Z\",\"2022-09-13T15:04:01.069Z\",\"2022-09-13T15:05:00.3733Z\",\"2022-09-13T15:06:00.1583Z\",\"2022-09-13T15:07:00.112Z\",\"2022-09-13T15:08:00.7946Z\",\"2022-09-13T15:09:00.3445Z\",\"2022-09-13T15:10:00.7246Z\",\"2022-09-13T15:11:00.3569Z\",\"2022-09-13T15:12:00.4428Z\",\"2022-09-13T15:13:00.0376Z\",\"2022-09-13T15:14:00.0308Z\",\"2022-09-13T15:15:00.1729Z\",\"2022-09-13T15:16:00.4716Z\",\"2022-09-13T15:17:00.1065Z\",\"2022-09-13T15:18:00.3136Z\",\"2022-09-13T15:19:01.0407Z\",\"2022-09-13T15:20:00.6615Z\",\"2022-09-13T15:21:00.7754Z\",\"2022-09-13T15:22:00.6286Z\",\"2022-09-13T15:23:01.9936Z\",\"2022-09-13T15:24:00.5813Z\",\"2022-09-13T15:25:00.0059Z\",\"2022-09-13T15:26:00.7244Z\",\"2022-09-13T15:27:00.0393Z\",\"2022-09-13T15:28:00.4159Z\",\"2022-09-13T15:29:00.2066Z\",\"2022-09-13T15:30:00.024Z\",\"2022-09-13T15:31:00.2334Z\",\"2022-09-13T15:32:00.379Z\",\"2022-09-13T15:33:01.937Z\",\"2022-09-13T15:34:00.0329Z\",\"2022-09-13T15:35:01.0705Z\",\"2022-09-13T15:36:02.2705Z\",\"2022-09-13T15:37:00.0579Z\",\"2022-09-13T15:38:01.5641Z\",\"2022-09-13T15:39:00.1913Z\",\"2022-09-13T15:40:00.2332Z\",\"2022-09-13T15:41:01.3823Z\",\"2022-09-13T15:42:01.4749Z\",\"2022-09-13T15:43:00.0384Z\",\"2022-09-13T15:44:00.1518Z\",\"2022-09-13T15:45:00.0811Z\",\"2022-09-13T15:46:00.2958Z\",\"2022-09-13T15:47:01.8304Z\",\"2022-09-13T15:48:02.9457Z\",\"2022-09-13T15:49:00.8695Z\",\"2022-09-13T15:50:01.5594Z\",\"2022-09-13T15:51:00.0606Z\",\"2022-09-13T15:52:01.0477Z\",\"2022-09-13T15:53:00.0649Z\",\"2022-09-13T15:54:00.0921Z\",\"2022-09-13T15:55:03.3432Z\",\"2022-09-13T15:56:00.0582Z\",\"2022-09-13T15:57:00.1581Z\",\"2022-09-13T15:58:00.0757Z\",\"2022-09-13T15:59:00.7737Z\",\"2022-09-14T15:00:00.0246Z\",\"2022-09-14T15:01:00.1393Z\",\"2022-09-14T15:02:01.0835Z\",\"2022-09-14T15:03:00.1897Z\",\"2022-09-14T15:04:01.4351Z\",\"2022-09-14T15:05:01.2374Z\",\"2022-09-14T15:06:00.6663Z\",\"2022-09-14T15:07:00.1333Z\",\"2022-09-14T15:08:00.2575Z\",\"2022-09-14T15:09:00.0745Z\",\"2022-09-14T15:10:00.1249Z\",\"2022-09-14T15:11:00.526Z\",\"2022-09-14T15:12:00.1116Z\",\"2022-09-14T15:13:02.5929Z\",\"2022-09-14T15:14:01.627Z\",\"2022-09-14T15:15:00.1881Z\",\"2022-09-14T15:16:00.1912Z\",\"2022-09-14T15:17:02.7625Z\",\"2022-09-14T15:18:00.292Z\",\"2022-09-14T15:19:00.0453Z\",\"2022-09-14T15:20:00.0773Z\",\"2022-09-14T15:21:00.1423Z\",\"2022-09-14T15:22:01.7763Z\",\"2022-09-14T15:23:00.0502Z\",\"2022-09-14T15:24:00.6071Z\",\"2022-09-14T15:25:00.1872Z\",\"2022-09-14T15:26:02.2806Z\",\"2022-09-14T15:27:00.2733Z\",\"2022-09-14T15:28:00.1742Z\",\"2022-09-14T15:29:00.3812Z\",\"2022-09-14T15:30:00.0293Z\",\"2022-09-14T15:31:01.5981Z\",\"2022-09-14T15:32:00.2219Z\",\"2022-09-14T15:33:00.3774Z\",\"2022-09-14T15:34:01.8835Z\",\"2022-09-14T15:35:00.8567Z\",\"2022-09-14T15:36:01.1723Z\",\"2022-09-14T15:37:01.5961Z\",\"2022-09-14T15:38:02.0542Z\",\"2022-09-14T15:39:00.4037Z\",\"2022-09-14T15:40:02.0022Z\",\"2022-09-14T15:41:02.1904Z\",\"2022-09-14T15:42:00.6817Z\",\"2022-09-14T15:43:01.4349Z\",\"2022-09-14T15:44:01.442Z\",\"2022-09-14T15:45:00.2037Z\",\"2022-09-14T15:46:01.1788Z\",\"2022-09-14T15:47:01.517Z\",\"2022-09-14T15:48:00.0327Z\",\"2022-09-14T15:49:01.7223Z\",\"2022-09-14T15:50:00.1836Z\",\"2022-09-14T15:51:01.1282Z\",\"2022-09-14T15:52:02.8817Z\",\"2022-09-14T15:53:00.5424Z\",\"2022-09-14T15:54:00.4979Z\",\"2022-09-14T15:55:00.7295Z\",\"2022-09-14T15:56:00.6394Z\",\"2022-09-14T15:57:00.2644Z\",\"2022-09-14T15:58:05.409Z\",\"2022-09-14T15:59:00.0261Z\",\"2022-09-14T15:59:58.5988Z\"],\"y\":[null,null,null,null,null,null,null,null,null,null,null,null,null,null,null,null,null,null,null,155.92450000000002,155.90950000000004,155.90250000000003,155.90250000000003,155.89950000000005,155.90750000000003,155.91600000000003,155.89550000000003,155.87900000000002,155.84650000000002,155.81300000000002,155.7835,155.7735,155.77500000000003,155.78850000000003,155.78950000000003,155.78850000000006,155.79350000000005,155.78900000000004,155.79000000000005,155.79400000000004,155.81650000000005,155.83800000000002,155.85550000000003,155.88000000000002,155.88350000000003,155.89800000000002,155.9165,155.92650000000003,155.93550000000002,155.9445,155.966,155.972,155.981,155.9735,155.97699999999998,155.99299999999997,156.00999999999996,156.03899999999996,156.06349999999998,null,null,null,null,null,null,null,null,null,null,null,null,null,null,null,null,null,null,null,156.0665,156.07199999999997,156.0835,156.09249999999997,156.09749999999997,156.10299999999998,156.10949999999997,156.11349999999996,156.10449999999997,156.09349999999998,156.089,156.079,156.07799999999997,156.07549999999998,156.08099999999996,156.08899999999997,156.08899999999997,156.09699999999998,156.09799999999998,156.09199999999998,156.07524999999998,156.05024999999998,156.02274999999997,155.99624999999997,155.97024999999996,155.94774999999996,155.92424999999997,155.90374999999997,155.89049999999997,155.87399999999997,155.84849999999997,155.82799999999997,155.80124999999995,155.77424999999994,155.74874999999994,155.72524999999996,155.70674999999997,155.68374999999997,155.66274999999996,155.64724999999996,155.63799999999998,null,null,null,null,null,null,null,null,null,null,null,null,null,null,null,null,null,null,null,156.61925000000002,156.67175000000003,156.66175000000004,156.66425,156.66750000000002,156.6725,156.6725,156.67200000000003,156.67625000000004,156.68175000000002,156.69025000000002,156.70725000000002,156.72600000000003,156.73475000000002,156.75400000000005,156.77300000000002,156.78400000000002,156.79200000000003,156.79600000000002,156.81350000000003,156.84100000000004,156.86800000000002,156.89550000000003,156.91500000000002,156.93850000000003,156.95750000000004,156.97050000000004,156.98100000000002,156.99200000000002,156.998,157.009,157.0105,157.0095,157.01325,157.005,156.994,156.984,156.969,156.9615,156.952,156.93675000000002,null,null,null,null,null,null,null,null,null,null,null,null,null,null,null,null,null,null,null,161.47099999999998,161.73874999999998,161.77074999999996,161.81824999999998,161.87075,161.92475,161.97975000000002,162.02525,162.07175,162.11925000000002,162.16475000000003,162.21425000000002,162.24975,162.2845,162.331,162.382,162.4215,162.46300000000002,162.4995,162.53275000000002,162.54375,162.56400000000002,162.58350000000002,162.59150000000002,162.592,162.591,162.5875,162.58499999999998,162.57999999999998,162.5695,162.5555,162.5385,162.52,162.50475,162.48075,162.44825,162.41825,162.38674999999998,162.34224999999998,162.308,162.2815,null,null,null,null,null,null,null,null,null,null,null,null,null,null,null,null,null,null,null,157.15275,156.89775,156.87275,156.84425,156.82575,156.80225,156.76874999999998,156.73724999999996,156.70999999999998,156.68199999999996,156.66099999999997,156.63549999999998,156.61499999999995,156.60999999999996,156.59499999999997,156.57499999999996,156.56649999999996,156.5555,156.541,156.5265,156.516,156.50775,156.50175,156.49224999999998,156.48024999999998,156.47824999999997,156.48774999999998,156.47899999999998,156.47849999999997,156.48449999999997,156.49199999999996,156.48749999999995,156.49399999999997,156.49149999999995,156.49599999999995,156.50199999999998,156.50199999999998,156.5025,156.50599999999997,156.50674999999995,156.49324999999996,null,null,null,null,null,null,null,null,null,null,null,null,null,null,null,null,null,null,null,156.71425,156.73274999999998,156.74025,156.75124999999997,156.74475,156.75475,156.75275,156.74525,156.7115,156.68149999999997,156.647,156.59749999999997,156.54274999999998,156.50074999999998,156.44924999999998,156.40099999999998,156.349,156.2955,156.2465,156.20199999999997,156.15899999999996,156.12499999999997,156.10899999999998,156.08824999999996,156.07874999999996,156.06175,156.05775,156.05825,156.05624999999998,156.05675,156.05374999999998,156.06324999999998,156.06349999999998,156.0545,156.0505,156.04524999999998,156.05525,156.06324999999998,156.06625,156.06675,156.06575,156.05425],\"mode\":\"lines\",\"name\":\"Middle band\"},{\"type\":\"scattergl\",\"x\":[\"2022-09-06T15:01:00.4936Z\",\"2022-09-06T15:02:00.3132Z\",\"2022-09-06T15:03:00.1029Z\",\"2022-09-06T15:04:00.0449Z\",\"2022-09-06T15:05:00.0043Z\",\"2022-09-06T15:06:01.0104Z\",\"2022-09-06T15:07:00.8013Z\",\"2022-09-06T15:08:00.0047Z\",\"2022-09-06T15:09:00.1037Z\",\"2022-09-06T15:10:00.0231Z\",\"2022-09-06T15:11:00.059Z\",\"2022-09-06T15:12:00.0037Z\",\"2022-09-06T15:13:03.1482Z\",\"2022-09-06T15:14:01.4939Z\",\"2022-09-06T15:15:02.7366Z\",\"2022-09-06T15:16:00.0077Z\",\"2022-09-06T15:17:00.6717Z\",\"2022-09-06T15:18:00.4168Z\",\"2022-09-06T15:19:00.0041Z\",\"2022-09-06T15:20:00.0763Z\",\"2022-09-06T15:21:01.1331Z\",\"2022-09-06T15:22:00.8778Z\",\"2022-09-06T15:23:00.482Z\",\"2022-09-06T15:24:00.8156Z\",\"2022-09-06T15:25:00.018Z\",\"2022-09-06T15:26:01.1183Z\",\"2022-09-06T15:27:00.8112Z\",\"2022-09-06T15:28:04.9273Z\",\"2022-09-06T15:29:00.1764Z\",\"2022-09-06T15:30:00.008Z\",\"2022-09-06T15:31:00.496Z\",\"2022-09-06T15:32:00.075Z\",\"2022-09-06T15:33:00.0157Z\",\"2022-09-06T15:34:00.0617Z\",\"2022-09-06T15:35:02.9651Z\",\"2022-09-06T15:36:00.3595Z\",\"2022-09-06T15:37:01.6233Z\",\"2022-09-06T15:38:03.8498Z\",\"2022-09-06T15:39:00.1221Z\",\"2022-09-06T15:40:00.2304Z\",\"2022-09-06T15:41:01.0264Z\",\"2022-09-06T15:42:00.5163Z\",\"2022-09-06T15:43:00.7242Z\",\"2022-09-06T15:44:00.4206Z\",\"2022-09-06T15:45:01.1932Z\",\"2022-09-06T15:46:00.9972Z\",\"2022-09-06T15:47:00.2011Z\",\"2022-09-06T15:48:00.2925Z\",\"2022-09-06T15:49:01.118Z\",\"2022-09-06T15:50:01.1873Z\",\"2022-09-06T15:51:00.3099Z\",\"2022-09-06T15:52:00.5901Z\",\"2022-09-06T15:53:00.7069Z\",\"2022-09-06T15:54:01.6874Z\",\"2022-09-06T15:55:00.5919Z\",\"2022-09-06T15:56:01.5708Z\",\"2022-09-06T15:57:00.2649Z\",\"2022-09-06T15:58:01.0614Z\",\"2022-09-06T15:59:00.4743Z\",\"2022-09-08T15:00:00.0048Z\",\"2022-09-08T15:01:00.1839Z\",\"2022-09-08T15:02:00.0249Z\",\"2022-09-08T15:03:04.4407Z\",\"2022-09-08T15:04:01.9641Z\",\"2022-09-08T15:05:01.4804Z\",\"2022-09-08T15:06:00.5121Z\",\"2022-09-08T15:07:03.9764Z\",\"2022-09-08T15:08:00.0464Z\",\"2022-09-08T15:09:00.1104Z\",\"2022-09-08T15:10:01.613Z\",\"2022-09-08T15:11:02.9032Z\",\"2022-09-08T15:12:01.2492Z\",\"2022-09-08T15:13:00.481Z\",\"2022-09-08T15:14:00.7565Z\",\"2022-09-08T15:15:00.6436Z\",\"2022-09-08T15:16:00.068Z\",\"2022-09-08T15:17:01.302Z\",\"2022-09-08T15:18:00.512Z\",\"2022-09-08T15:19:02.9948Z\",\"2022-09-08T15:20:00.0766Z\",\"2022-09-08T15:21:02.1869Z\",\"2022-09-08T15:22:04.2907Z\",\"2022-09-08T15:23:04.9919Z\",\"2022-09-08T15:24:01.6574Z\",\"2022-09-08T15:25:00.6558Z\",\"2022-09-08T15:26:04.5434Z\",\"2022-09-08T15:27:01.2138Z\",\"2022-09-08T15:28:03.3509Z\",\"2022-09-08T15:29:00.0338Z\",\"2022-09-08T15:30:00.029Z\",\"2022-09-08T15:31:00.0311Z\",\"2022-09-08T15:32:00.997Z\",\"2022-09-08T15:33:00.065Z\",\"2022-09-08T15:34:00.3885Z\",\"2022-09-08T15:35:01.2431Z\",\"2022-09-08T15:36:00.4539Z\",\"2022-09-08T15:37:01.3309Z\",\"2022-09-08T15:38:00.0499Z\",\"2022-09-08T15:39:00.4208Z\",\"2022-09-08T15:40:00.0889Z\",\"2022-09-08T15:41:01.4381Z\",\"2022-09-08T15:42:03.0355Z\",\"2022-09-08T15:43:02.6125Z\",\"2022-09-08T15:44:00.4021Z\",\"2022-09-08T15:45:00.8131Z\",\"2022-09-08T15:46:00.2037Z\",\"2022-09-08T15:47:00.0313Z\",\"2022-09-08T15:48:01.7427Z\",\"2022-09-08T15:49:01.8137Z\",\"2022-09-08T15:50:04.0361Z\",\"2022-09-08T15:51:01.2964Z\",\"2022-09-08T15:52:00.1926Z\",\"2022-09-08T15:53:01.5936Z\",\"2022-09-08T15:54:04.0702Z\",\"2022-09-08T15:55:00.0308Z\",\"2022-09-08T15:56:00.1388Z\",\"2022-09-08T15:57:00.5201Z\",\"2022-09-08T15:58:02.6199Z\",\"2022-09-08T15:59:00.8449Z\",\"2022-09-09T15:00:00.0591Z\",\"2022-09-09T15:01:00.5672Z\",\"2022-09-09T15:02:02.0606Z\",\"2022-09-09T15:03:00.4513Z\",\"2022-09-09T15:04:00.5288Z\",\"2022-09-09T15:05:01.3564Z\",\"2022-09-09T15:06:03.248Z\",\"2022-09-09T15:07:00.0252Z\",\"2022-09-09T15:08:01.87Z\",\"2022-09-09T15:09:00.3899Z\",\"2022-09-09T15:10:00.159Z\",\"2022-09-09T15:11:06.4906Z\",\"2022-09-09T15:12:00.1062Z\",\"2022-09-09T15:13:03.8107Z\",\"2022-09-09T15:14:00.0426Z\",\"2022-09-09T15:15:00.6519Z\",\"2022-09-09T15:16:00.1Z\",\"2022-09-09T15:17:02.6619Z\",\"2022-09-09T15:18:00.4327Z\",\"2022-09-09T15:19:00.2085Z\",\"2022-09-09T15:20:00.7115Z\",\"2022-09-09T15:21:01.0456Z\",\"2022-09-09T15:22:00.2242Z\",\"2022-09-09T15:23:00.1533Z\",\"2022-09-09T15:24:00.5195Z\",\"2022-09-09T15:25:00.0278Z\",\"2022-09-09T15:26:02.7163Z\",\"2022-09-09T15:27:00.0276Z\",\"2022-09-09T15:28:02.3225Z\",\"2022-09-09T15:29:02.6442Z\",\"2022-09-09T15:30:00.0334Z\",\"2022-09-09T15:31:00.5068Z\",\"2022-09-09T15:32:00.2151Z\",\"2022-09-09T15:33:00.3814Z\",\"2022-09-09T15:34:01.1539Z\",\"2022-09-09T15:35:02.3285Z\",\"2022-09-09T15:36:01.4419Z\",\"2022-09-09T15:37:00.2893Z\",\"2022-09-09T15:38:00.0015Z\",\"2022-09-09T15:39:00.0244Z\",\"2022-09-09T15:40:01.1572Z\",\"2022-09-09T15:41:00.0232Z\",\"2022-09-09T15:42:00.0231Z\",\"2022-09-09T15:43:03.0625Z\",\"2022-09-09T15:44:00.7216Z\",\"2022-09-09T15:45:04.4718Z\",\"2022-09-09T15:46:02.8992Z\",\"2022-09-09T15:47:04.5778Z\",\"2022-09-09T15:48:02.1143Z\",\"2022-09-09T15:49:06.5547Z\",\"2022-09-09T15:50:00.226Z\",\"2022-09-09T15:51:02.1089Z\",\"2022-09-09T15:52:00.2533Z\",\"2022-09-09T15:53:02.8403Z\",\"2022-09-09T15:54:00.3097Z\",\"2022-09-09T15:55:00.377Z\",\"2022-09-09T15:56:03.4874Z\",\"2022-09-09T15:57:00.4959Z\",\"2022-09-09T15:58:02.6162Z\",\"2022-09-09T15:59:02.2729Z\",\"2022-09-12T15:00:00.0041Z\",\"2022-09-12T15:01:00.9818Z\",\"2022-09-12T15:02:00.0717Z\",\"2022-09-12T15:03:01.2993Z\",\"2022-09-12T15:04:00.058Z\",\"2022-09-12T15:05:00.0409Z\",\"2022-09-12T15:06:00.046Z\",\"2022-09-12T15:07:00.957Z\",\"2022-09-12T15:08:01.423Z\",\"2022-09-12T15:09:00.2792Z\",\"2022-09-12T15:10:00.8642Z\",\"2022-09-12T15:11:00.3948Z\",\"2022-09-12T15:12:00.1126Z\",\"2022-09-12T15:13:00.1182Z\",\"2022-09-12T15:14:03.3147Z\",\"2022-09-12T15:15:00.9348Z\",\"2022-09-12T15:16:00.2438Z\",\"2022-09-12T15:17:00.0488Z\",\"2022-09-12T15:18:01.1468Z\",\"2022-09-12T15:19:00.4016Z\",\"2022-09-12T15:20:00.0127Z\",\"2022-09-12T15:21:00.5897Z\",\"2022-09-12T15:22:02.102Z\",\"2022-09-12T15:23:00.5373Z\",\"2022-09-12T15:24:00.397Z\",\"2022-09-12T15:25:00.0363Z\",\"2022-09-12T15:26:02.0699Z\",\"2022-09-12T15:27:01.7658Z\",\"2022-09-12T15:28:00.4468Z\",\"2022-09-12T15:29:00.6874Z\",\"2022-09-12T15:30:00.3806Z\",\"2022-09-12T15:31:00.3182Z\",\"2022-09-12T15:32:00.5517Z\",\"2022-09-12T15:33:00.4229Z\",\"2022-09-12T15:34:00.2221Z\",\"2022-09-12T15:35:02.184Z\",\"2022-09-12T15:36:00.3122Z\",\"2022-09-12T15:37:00.2652Z\",\"2022-09-12T15:38:00.1361Z\",\"2022-09-12T15:39:02.8382Z\",\"2022-09-12T15:40:00.1926Z\",\"2022-09-12T15:41:01.1782Z\",\"2022-09-12T15:42:01.6886Z\",\"2022-09-12T15:43:01.2169Z\",\"2022-09-12T15:44:01.1804Z\",\"2022-09-12T15:45:01.9026Z\",\"2022-09-12T15:46:01.9222Z\",\"2022-09-12T15:47:00.5356Z\",\"2022-09-12T15:48:00.4584Z\",\"2022-09-12T15:49:01.4585Z\",\"2022-09-12T15:50:00.5773Z\",\"2022-09-12T15:51:01.8559Z\",\"2022-09-12T15:52:00.7343Z\",\"2022-09-12T15:53:03.4513Z\",\"2022-09-12T15:54:00.1559Z\",\"2022-09-12T15:55:00.158Z\",\"2022-09-12T15:56:00.1442Z\",\"2022-09-12T15:57:00.0052Z\",\"2022-09-12T15:58:00.4853Z\",\"2022-09-12T15:59:00.1643Z\",\"2022-09-13T15:00:00.1372Z\",\"2022-09-13T15:01:01.9375Z\",\"2022-09-13T15:02:00.3014Z\",\"2022-09-13T15:03:01.958Z\",\"2022-09-13T15:04:01.069Z\",\"2022-09-13T15:05:00.3733Z\",\"2022-09-13T15:06:00.1583Z\",\"2022-09-13T15:07:00.112Z\",\"2022-09-13T15:08:00.7946Z\",\"2022-09-13T15:09:00.3445Z\",\"2022-09-13T15:10:00.7246Z\",\"2022-09-13T15:11:00.3569Z\",\"2022-09-13T15:12:00.4428Z\",\"2022-09-13T15:13:00.0376Z\",\"2022-09-13T15:14:00.0308Z\",\"2022-09-13T15:15:00.1729Z\",\"2022-09-13T15:16:00.4716Z\",\"2022-09-13T15:17:00.1065Z\",\"2022-09-13T15:18:00.3136Z\",\"2022-09-13T15:19:01.0407Z\",\"2022-09-13T15:20:00.6615Z\",\"2022-09-13T15:21:00.7754Z\",\"2022-09-13T15:22:00.6286Z\",\"2022-09-13T15:23:01.9936Z\",\"2022-09-13T15:24:00.5813Z\",\"2022-09-13T15:25:00.0059Z\",\"2022-09-13T15:26:00.7244Z\",\"2022-09-13T15:27:00.0393Z\",\"2022-09-13T15:28:00.4159Z\",\"2022-09-13T15:29:00.2066Z\",\"2022-09-13T15:30:00.024Z\",\"2022-09-13T15:31:00.2334Z\",\"2022-09-13T15:32:00.379Z\",\"2022-09-13T15:33:01.937Z\",\"2022-09-13T15:34:00.0329Z\",\"2022-09-13T15:35:01.0705Z\",\"2022-09-13T15:36:02.2705Z\",\"2022-09-13T15:37:00.0579Z\",\"2022-09-13T15:38:01.5641Z\",\"2022-09-13T15:39:00.1913Z\",\"2022-09-13T15:40:00.2332Z\",\"2022-09-13T15:41:01.3823Z\",\"2022-09-13T15:42:01.4749Z\",\"2022-09-13T15:43:00.0384Z\",\"2022-09-13T15:44:00.1518Z\",\"2022-09-13T15:45:00.0811Z\",\"2022-09-13T15:46:00.2958Z\",\"2022-09-13T15:47:01.8304Z\",\"2022-09-13T15:48:02.9457Z\",\"2022-09-13T15:49:00.8695Z\",\"2022-09-13T15:50:01.5594Z\",\"2022-09-13T15:51:00.0606Z\",\"2022-09-13T15:52:01.0477Z\",\"2022-09-13T15:53:00.0649Z\",\"2022-09-13T15:54:00.0921Z\",\"2022-09-13T15:55:03.3432Z\",\"2022-09-13T15:56:00.0582Z\",\"2022-09-13T15:57:00.1581Z\",\"2022-09-13T15:58:00.0757Z\",\"2022-09-13T15:59:00.7737Z\",\"2022-09-14T15:00:00.0246Z\",\"2022-09-14T15:01:00.1393Z\",\"2022-09-14T15:02:01.0835Z\",\"2022-09-14T15:03:00.1897Z\",\"2022-09-14T15:04:01.4351Z\",\"2022-09-14T15:05:01.2374Z\",\"2022-09-14T15:06:00.6663Z\",\"2022-09-14T15:07:00.1333Z\",\"2022-09-14T15:08:00.2575Z\",\"2022-09-14T15:09:00.0745Z\",\"2022-09-14T15:10:00.1249Z\",\"2022-09-14T15:11:00.526Z\",\"2022-09-14T15:12:00.1116Z\",\"2022-09-14T15:13:02.5929Z\",\"2022-09-14T15:14:01.627Z\",\"2022-09-14T15:15:00.1881Z\",\"2022-09-14T15:16:00.1912Z\",\"2022-09-14T15:17:02.7625Z\",\"2022-09-14T15:18:00.292Z\",\"2022-09-14T15:19:00.0453Z\",\"2022-09-14T15:20:00.0773Z\",\"2022-09-14T15:21:00.1423Z\",\"2022-09-14T15:22:01.7763Z\",\"2022-09-14T15:23:00.0502Z\",\"2022-09-14T15:24:00.6071Z\",\"2022-09-14T15:25:00.1872Z\",\"2022-09-14T15:26:02.2806Z\",\"2022-09-14T15:27:00.2733Z\",\"2022-09-14T15:28:00.1742Z\",\"2022-09-14T15:29:00.3812Z\",\"2022-09-14T15:30:00.0293Z\",\"2022-09-14T15:31:01.5981Z\",\"2022-09-14T15:32:00.2219Z\",\"2022-09-14T15:33:00.3774Z\",\"2022-09-14T15:34:01.8835Z\",\"2022-09-14T15:35:00.8567Z\",\"2022-09-14T15:36:01.1723Z\",\"2022-09-14T15:37:01.5961Z\",\"2022-09-14T15:38:02.0542Z\",\"2022-09-14T15:39:00.4037Z\",\"2022-09-14T15:40:02.0022Z\",\"2022-09-14T15:41:02.1904Z\",\"2022-09-14T15:42:00.6817Z\",\"2022-09-14T15:43:01.4349Z\",\"2022-09-14T15:44:01.442Z\",\"2022-09-14T15:45:00.2037Z\",\"2022-09-14T15:46:01.1788Z\",\"2022-09-14T15:47:01.517Z\",\"2022-09-14T15:48:00.0327Z\",\"2022-09-14T15:49:01.7223Z\",\"2022-09-14T15:50:00.1836Z\",\"2022-09-14T15:51:01.1282Z\",\"2022-09-14T15:52:02.8817Z\",\"2022-09-14T15:53:00.5424Z\",\"2022-09-14T15:54:00.4979Z\",\"2022-09-14T15:55:00.7295Z\",\"2022-09-14T15:56:00.6394Z\",\"2022-09-14T15:57:00.2644Z\",\"2022-09-14T15:58:05.409Z\",\"2022-09-14T15:59:00.0261Z\",\"2022-09-14T15:59:58.5988Z\"],\"y\":[null,null,null,null,null,null,null,null,null,null,null,null,null,null,null,null,null,null,null,155.85443174756,155.8342460300051,155.82641715042143,155.82641715042143,155.82309607339937,155.8309872559635,155.84159139834674,155.81512612364708,155.7985522529837,155.78199852714863,155.7560214075288,155.7262528166632,155.7182873202969,155.7192218680844,155.72104008597697,155.7215885871153,155.7207324561461,155.72515645604747,155.71964987382856,155.7208798148151,155.72526980285207,155.74622881102476,155.75994770983502,155.7696491991884,155.78557119083672,155.7882254493582,155.79951060970848,155.82301395826116,155.8347675629889,155.84504802379163,155.8584537333756,155.89016438831263,155.89820460718988,155.906553777799,155.90231264157168,155.90542234985693,155.92088786509882,155.93571406593435,155.9701941862921,156.00104009285948,null,null,null,null,null,null,null,null,null,null,null,null,null,null,null,null,null,null,null,156.03798263686804,156.0418112603774,156.05112037677796,156.06047813247167,156.06437297176018,156.07001272972795,156.07686933957146,156.08149312573832,156.07345229477076,156.05978887424007,156.05494357623002,156.04475616843868,156.0434839167923,156.04073277405368,156.047084811662,156.05763377612777,156.05763377612777,156.06744056834103,156.06853544502286,156.05958765667216,156.03274129500912,155.99668704638464,155.96286519391361,155.92937436916182,155.9001401576096,155.8759155375185,155.85184205844658,155.83138737152368,155.81844196783146,155.79811429647157,155.76811069722902,155.74507015012674,155.7146777758169,155.68630393698402,155.66476696599904,155.64720776784327,155.638370836507,155.62745834875398,155.62056718359327,155.61356632442855,155.6061164619278,null,null,null,null,null,null,null,null,null,null,null,null,null,null,null,null,null,null,null,156.51053518960143,156.63015060096592,156.6195112736935,156.62246830544368,156.6265781232102,156.63378824467944,156.63378824467944,156.63348039460226,156.63714565241565,156.6396963437975,156.64602116325293,156.6577263692769,156.67207560848746,156.68038282240175,156.69697158602946,156.71509870467773,156.72367222861735,156.72752861099684,156.7302897268306,156.74568230319454,156.77204030162483,156.79995472095732,156.83122901121038,156.85423487842522,156.8816841571391,156.9092485751506,156.927442364208,156.9425053250436,156.9598043481197,156.96780463611742,156.9821031600369,156.98391504184696,156.98267538443892,156.9897359616399,156.97611401724018,156.95759340719044,156.94269334194104,156.9245315842423,156.91491631186778,156.90471194654037,156.89067061198324,null,null,null,null,null,null,null,null,null,null,null,null,null,null,null,null,null,null,null,161.0379255953072,161.64095455020808,161.6656247889419,161.70407946965173,161.75292254140055,161.80458099401258,161.85331823974968,161.8941538902179,161.9402855181047,161.9901480635312,162.03832614940214,162.090645347984,162.1283243437325,162.16964548332783,162.22095891676287,162.27546287032214,162.3171657295037,162.3685004761917,162.41590358859378,162.46725351154453,162.48208031538914,162.51057116883183,162.5403254704716,162.55163974410522,162.5524758301795,162.55094703506606,162.54697099803846,162.54377379474167,162.53664564612404,162.52068647728345,162.50012888839836,162.4794674665968,162.45279583346252,162.43097337768643,162.40528802281943,162.37491985612996,162.34669226107542,162.31466595183397,162.2583441599172,162.21947791236082,162.1906262414115,null,null,null,null,null,null,null,null,null,null,null,null,null,null,null,null,null,null,null,156.71425006841505,156.83945257295557,156.81409345731294,156.79275524298532,156.77200513978062,156.7401324501449,156.70003646421554,156.67168941733019,156.64370369542726,156.61266487181805,156.5869092448412,156.5651810125215,156.54420451991825,156.53917627516145,156.5265018248418,156.50960886910286,156.5024590755844,156.4931016025847,156.48431984474263,156.47412787000704,156.472138399482,156.47023480307928,156.46594343635587,156.45945686047355,156.44767715855193,156.44519686096598,156.45553525182464,156.44305226015447,156.44245502808988,156.44985378808582,156.45925003816794,156.45314596093613,156.46012611625451,156.4581287548928,156.4611253673854,156.46682387173095,156.46682387173095,156.46729488673503,156.46953302864233,156.47031224485505,156.45832565319148,null,null,null,null,null,null,null,null,null,null,null,null,null,null,null,null,null,null,null,156.60655547831945,156.63094729866057,156.64218782584504,156.65902879853306,156.64830628584508,156.6648267549518,156.66150642488373,156.6489640197121,156.60865817971273,156.5690062668412,156.52973721818068,156.4675961894323,156.4090167206713,156.36297006677313,156.31147006677313,156.26618664754557,156.21511557222738,156.167683099709,156.12751411848458,156.09240547458924,156.05854384040782,156.03713874574078,156.02789611599928,156.01736340042007,156.0105184090761,156.00339153874543,156.00231905196554,156.00249239962122,156.00160981332388,156.0019219962063,156.00011465717455,156.01057258548485,156.01089543746022,155.99847536256252,155.9929816551003,155.98621280833237,155.99842931714596,156.00871093143442,156.01273037743033,156.01342730314397,156.01187134003152,155.99531520552338],\"mode\":\"lines\",\"name\":\"Lower band\"},{\"type\":\"scattergl\",\"x\":[\"2022-09-06T15:01:00.4936Z\",\"2022-09-06T15:02:00.3132Z\",\"2022-09-06T15:03:00.1029Z\",\"2022-09-06T15:04:00.0449Z\",\"2022-09-06T15:05:00.0043Z\",\"2022-09-06T15:06:01.0104Z\",\"2022-09-06T15:07:00.8013Z\",\"2022-09-06T15:08:00.0047Z\",\"2022-09-06T15:09:00.1037Z\",\"2022-09-06T15:10:00.0231Z\",\"2022-09-06T15:11:00.059Z\",\"2022-09-06T15:12:00.0037Z\",\"2022-09-06T15:13:03.1482Z\",\"2022-09-06T15:14:01.4939Z\",\"2022-09-06T15:15:02.7366Z\",\"2022-09-06T15:16:00.0077Z\",\"2022-09-06T15:17:00.6717Z\",\"2022-09-06T15:18:00.4168Z\",\"2022-09-06T15:19:00.0041Z\",\"2022-09-06T15:20:00.0763Z\",\"2022-09-06T15:21:01.1331Z\",\"2022-09-06T15:22:00.8778Z\",\"2022-09-06T15:23:00.482Z\",\"2022-09-06T15:24:00.8156Z\",\"2022-09-06T15:25:00.018Z\",\"2022-09-06T15:26:01.1183Z\",\"2022-09-06T15:27:00.8112Z\",\"2022-09-06T15:28:04.9273Z\",\"2022-09-06T15:29:00.1764Z\",\"2022-09-06T15:30:00.008Z\",\"2022-09-06T15:31:00.496Z\",\"2022-09-06T15:32:00.075Z\",\"2022-09-06T15:33:00.0157Z\",\"2022-09-06T15:34:00.0617Z\",\"2022-09-06T15:35:02.9651Z\",\"2022-09-06T15:36:00.3595Z\",\"2022-09-06T15:37:01.6233Z\",\"2022-09-06T15:38:03.8498Z\",\"2022-09-06T15:39:00.1221Z\",\"2022-09-06T15:40:00.2304Z\",\"2022-09-06T15:41:01.0264Z\",\"2022-09-06T15:42:00.5163Z\",\"2022-09-06T15:43:00.7242Z\",\"2022-09-06T15:44:00.4206Z\",\"2022-09-06T15:45:01.1932Z\",\"2022-09-06T15:46:00.9972Z\",\"2022-09-06T15:47:00.2011Z\",\"2022-09-06T15:48:00.2925Z\",\"2022-09-06T15:49:01.118Z\",\"2022-09-06T15:50:01.1873Z\",\"2022-09-06T15:51:00.3099Z\",\"2022-09-06T15:52:00.5901Z\",\"2022-09-06T15:53:00.7069Z\",\"2022-09-06T15:54:01.6874Z\",\"2022-09-06T15:55:00.5919Z\",\"2022-09-06T15:56:01.5708Z\",\"2022-09-06T15:57:00.2649Z\",\"2022-09-06T15:58:01.0614Z\",\"2022-09-06T15:59:00.4743Z\",\"2022-09-08T15:00:00.0048Z\",\"2022-09-08T15:01:00.1839Z\",\"2022-09-08T15:02:00.0249Z\",\"2022-09-08T15:03:04.4407Z\",\"2022-09-08T15:04:01.9641Z\",\"2022-09-08T15:05:01.4804Z\",\"2022-09-08T15:06:00.5121Z\",\"2022-09-08T15:07:03.9764Z\",\"2022-09-08T15:08:00.0464Z\",\"2022-09-08T15:09:00.1104Z\",\"2022-09-08T15:10:01.613Z\",\"2022-09-08T15:11:02.9032Z\",\"2022-09-08T15:12:01.2492Z\",\"2022-09-08T15:13:00.481Z\",\"2022-09-08T15:14:00.7565Z\",\"2022-09-08T15:15:00.6436Z\",\"2022-09-08T15:16:00.068Z\",\"2022-09-08T15:17:01.302Z\",\"2022-09-08T15:18:00.512Z\",\"2022-09-08T15:19:02.9948Z\",\"2022-09-08T15:20:00.0766Z\",\"2022-09-08T15:21:02.1869Z\",\"2022-09-08T15:22:04.2907Z\",\"2022-09-08T15:23:04.9919Z\",\"2022-09-08T15:24:01.6574Z\",\"2022-09-08T15:25:00.6558Z\",\"2022-09-08T15:26:04.5434Z\",\"2022-09-08T15:27:01.2138Z\",\"2022-09-08T15:28:03.3509Z\",\"2022-09-08T15:29:00.0338Z\",\"2022-09-08T15:30:00.029Z\",\"2022-09-08T15:31:00.0311Z\",\"2022-09-08T15:32:00.997Z\",\"2022-09-08T15:33:00.065Z\",\"2022-09-08T15:34:00.3885Z\",\"2022-09-08T15:35:01.2431Z\",\"2022-09-08T15:36:00.4539Z\",\"2022-09-08T15:37:01.3309Z\",\"2022-09-08T15:38:00.0499Z\",\"2022-09-08T15:39:00.4208Z\",\"2022-09-08T15:40:00.0889Z\",\"2022-09-08T15:41:01.4381Z\",\"2022-09-08T15:42:03.0355Z\",\"2022-09-08T15:43:02.6125Z\",\"2022-09-08T15:44:00.4021Z\",\"2022-09-08T15:45:00.8131Z\",\"2022-09-08T15:46:00.2037Z\",\"2022-09-08T15:47:00.0313Z\",\"2022-09-08T15:48:01.7427Z\",\"2022-09-08T15:49:01.8137Z\",\"2022-09-08T15:50:04.0361Z\",\"2022-09-08T15:51:01.2964Z\",\"2022-09-08T15:52:00.1926Z\",\"2022-09-08T15:53:01.5936Z\",\"2022-09-08T15:54:04.0702Z\",\"2022-09-08T15:55:00.0308Z\",\"2022-09-08T15:56:00.1388Z\",\"2022-09-08T15:57:00.5201Z\",\"2022-09-08T15:58:02.6199Z\",\"2022-09-08T15:59:00.8449Z\",\"2022-09-09T15:00:00.0591Z\",\"2022-09-09T15:01:00.5672Z\",\"2022-09-09T15:02:02.0606Z\",\"2022-09-09T15:03:00.4513Z\",\"2022-09-09T15:04:00.5288Z\",\"2022-09-09T15:05:01.3564Z\",\"2022-09-09T15:06:03.248Z\",\"2022-09-09T15:07:00.0252Z\",\"2022-09-09T15:08:01.87Z\",\"2022-09-09T15:09:00.3899Z\",\"2022-09-09T15:10:00.159Z\",\"2022-09-09T15:11:06.4906Z\",\"2022-09-09T15:12:00.1062Z\",\"2022-09-09T15:13:03.8107Z\",\"2022-09-09T15:14:00.0426Z\",\"2022-09-09T15:15:00.6519Z\",\"2022-09-09T15:16:00.1Z\",\"2022-09-09T15:17:02.6619Z\",\"2022-09-09T15:18:00.4327Z\",\"2022-09-09T15:19:00.2085Z\",\"2022-09-09T15:20:00.7115Z\",\"2022-09-09T15:21:01.0456Z\",\"2022-09-09T15:22:00.2242Z\",\"2022-09-09T15:23:00.1533Z\",\"2022-09-09T15:24:00.5195Z\",\"2022-09-09T15:25:00.0278Z\",\"2022-09-09T15:26:02.7163Z\",\"2022-09-09T15:27:00.0276Z\",\"2022-09-09T15:28:02.3225Z\",\"2022-09-09T15:29:02.6442Z\",\"2022-09-09T15:30:00.0334Z\",\"2022-09-09T15:31:00.5068Z\",\"2022-09-09T15:32:00.2151Z\",\"2022-09-09T15:33:00.3814Z\",\"2022-09-09T15:34:01.1539Z\",\"2022-09-09T15:35:02.3285Z\",\"2022-09-09T15:36:01.4419Z\",\"2022-09-09T15:37:00.2893Z\",\"2022-09-09T15:38:00.0015Z\",\"2022-09-09T15:39:00.0244Z\",\"2022-09-09T15:40:01.1572Z\",\"2022-09-09T15:41:00.0232Z\",\"2022-09-09T15:42:00.0231Z\",\"2022-09-09T15:43:03.0625Z\",\"2022-09-09T15:44:00.7216Z\",\"2022-09-09T15:45:04.4718Z\",\"2022-09-09T15:46:02.8992Z\",\"2022-09-09T15:47:04.5778Z\",\"2022-09-09T15:48:02.1143Z\",\"2022-09-09T15:49:06.5547Z\",\"2022-09-09T15:50:00.226Z\",\"2022-09-09T15:51:02.1089Z\",\"2022-09-09T15:52:00.2533Z\",\"2022-09-09T15:53:02.8403Z\",\"2022-09-09T15:54:00.3097Z\",\"2022-09-09T15:55:00.377Z\",\"2022-09-09T15:56:03.4874Z\",\"2022-09-09T15:57:00.4959Z\",\"2022-09-09T15:58:02.6162Z\",\"2022-09-09T15:59:02.2729Z\",\"2022-09-12T15:00:00.0041Z\",\"2022-09-12T15:01:00.9818Z\",\"2022-09-12T15:02:00.0717Z\",\"2022-09-12T15:03:01.2993Z\",\"2022-09-12T15:04:00.058Z\",\"2022-09-12T15:05:00.0409Z\",\"2022-09-12T15:06:00.046Z\",\"2022-09-12T15:07:00.957Z\",\"2022-09-12T15:08:01.423Z\",\"2022-09-12T15:09:00.2792Z\",\"2022-09-12T15:10:00.8642Z\",\"2022-09-12T15:11:00.3948Z\",\"2022-09-12T15:12:00.1126Z\",\"2022-09-12T15:13:00.1182Z\",\"2022-09-12T15:14:03.3147Z\",\"2022-09-12T15:15:00.9348Z\",\"2022-09-12T15:16:00.2438Z\",\"2022-09-12T15:17:00.0488Z\",\"2022-09-12T15:18:01.1468Z\",\"2022-09-12T15:19:00.4016Z\",\"2022-09-12T15:20:00.0127Z\",\"2022-09-12T15:21:00.5897Z\",\"2022-09-12T15:22:02.102Z\",\"2022-09-12T15:23:00.5373Z\",\"2022-09-12T15:24:00.397Z\",\"2022-09-12T15:25:00.0363Z\",\"2022-09-12T15:26:02.0699Z\",\"2022-09-12T15:27:01.7658Z\",\"2022-09-12T15:28:00.4468Z\",\"2022-09-12T15:29:00.6874Z\",\"2022-09-12T15:30:00.3806Z\",\"2022-09-12T15:31:00.3182Z\",\"2022-09-12T15:32:00.5517Z\",\"2022-09-12T15:33:00.4229Z\",\"2022-09-12T15:34:00.2221Z\",\"2022-09-12T15:35:02.184Z\",\"2022-09-12T15:36:00.3122Z\",\"2022-09-12T15:37:00.2652Z\",\"2022-09-12T15:38:00.1361Z\",\"2022-09-12T15:39:02.8382Z\",\"2022-09-12T15:40:00.1926Z\",\"2022-09-12T15:41:01.1782Z\",\"2022-09-12T15:42:01.6886Z\",\"2022-09-12T15:43:01.2169Z\",\"2022-09-12T15:44:01.1804Z\",\"2022-09-12T15:45:01.9026Z\",\"2022-09-12T15:46:01.9222Z\",\"2022-09-12T15:47:00.5356Z\",\"2022-09-12T15:48:00.4584Z\",\"2022-09-12T15:49:01.4585Z\",\"2022-09-12T15:50:00.5773Z\",\"2022-09-12T15:51:01.8559Z\",\"2022-09-12T15:52:00.7343Z\",\"2022-09-12T15:53:03.4513Z\",\"2022-09-12T15:54:00.1559Z\",\"2022-09-12T15:55:00.158Z\",\"2022-09-12T15:56:00.1442Z\",\"2022-09-12T15:57:00.0052Z\",\"2022-09-12T15:58:00.4853Z\",\"2022-09-12T15:59:00.1643Z\",\"2022-09-13T15:00:00.1372Z\",\"2022-09-13T15:01:01.9375Z\",\"2022-09-13T15:02:00.3014Z\",\"2022-09-13T15:03:01.958Z\",\"2022-09-13T15:04:01.069Z\",\"2022-09-13T15:05:00.3733Z\",\"2022-09-13T15:06:00.1583Z\",\"2022-09-13T15:07:00.112Z\",\"2022-09-13T15:08:00.7946Z\",\"2022-09-13T15:09:00.3445Z\",\"2022-09-13T15:10:00.7246Z\",\"2022-09-13T15:11:00.3569Z\",\"2022-09-13T15:12:00.4428Z\",\"2022-09-13T15:13:00.0376Z\",\"2022-09-13T15:14:00.0308Z\",\"2022-09-13T15:15:00.1729Z\",\"2022-09-13T15:16:00.4716Z\",\"2022-09-13T15:17:00.1065Z\",\"2022-09-13T15:18:00.3136Z\",\"2022-09-13T15:19:01.0407Z\",\"2022-09-13T15:20:00.6615Z\",\"2022-09-13T15:21:00.7754Z\",\"2022-09-13T15:22:00.6286Z\",\"2022-09-13T15:23:01.9936Z\",\"2022-09-13T15:24:00.5813Z\",\"2022-09-13T15:25:00.0059Z\",\"2022-09-13T15:26:00.7244Z\",\"2022-09-13T15:27:00.0393Z\",\"2022-09-13T15:28:00.4159Z\",\"2022-09-13T15:29:00.2066Z\",\"2022-09-13T15:30:00.024Z\",\"2022-09-13T15:31:00.2334Z\",\"2022-09-13T15:32:00.379Z\",\"2022-09-13T15:33:01.937Z\",\"2022-09-13T15:34:00.0329Z\",\"2022-09-13T15:35:01.0705Z\",\"2022-09-13T15:36:02.2705Z\",\"2022-09-13T15:37:00.0579Z\",\"2022-09-13T15:38:01.5641Z\",\"2022-09-13T15:39:00.1913Z\",\"2022-09-13T15:40:00.2332Z\",\"2022-09-13T15:41:01.3823Z\",\"2022-09-13T15:42:01.4749Z\",\"2022-09-13T15:43:00.0384Z\",\"2022-09-13T15:44:00.1518Z\",\"2022-09-13T15:45:00.0811Z\",\"2022-09-13T15:46:00.2958Z\",\"2022-09-13T15:47:01.8304Z\",\"2022-09-13T15:48:02.9457Z\",\"2022-09-13T15:49:00.8695Z\",\"2022-09-13T15:50:01.5594Z\",\"2022-09-13T15:51:00.0606Z\",\"2022-09-13T15:52:01.0477Z\",\"2022-09-13T15:53:00.0649Z\",\"2022-09-13T15:54:00.0921Z\",\"2022-09-13T15:55:03.3432Z\",\"2022-09-13T15:56:00.0582Z\",\"2022-09-13T15:57:00.1581Z\",\"2022-09-13T15:58:00.0757Z\",\"2022-09-13T15:59:00.7737Z\",\"2022-09-14T15:00:00.0246Z\",\"2022-09-14T15:01:00.1393Z\",\"2022-09-14T15:02:01.0835Z\",\"2022-09-14T15:03:00.1897Z\",\"2022-09-14T15:04:01.4351Z\",\"2022-09-14T15:05:01.2374Z\",\"2022-09-14T15:06:00.6663Z\",\"2022-09-14T15:07:00.1333Z\",\"2022-09-14T15:08:00.2575Z\",\"2022-09-14T15:09:00.0745Z\",\"2022-09-14T15:10:00.1249Z\",\"2022-09-14T15:11:00.526Z\",\"2022-09-14T15:12:00.1116Z\",\"2022-09-14T15:13:02.5929Z\",\"2022-09-14T15:14:01.627Z\",\"2022-09-14T15:15:00.1881Z\",\"2022-09-14T15:16:00.1912Z\",\"2022-09-14T15:17:02.7625Z\",\"2022-09-14T15:18:00.292Z\",\"2022-09-14T15:19:00.0453Z\",\"2022-09-14T15:20:00.0773Z\",\"2022-09-14T15:21:00.1423Z\",\"2022-09-14T15:22:01.7763Z\",\"2022-09-14T15:23:00.0502Z\",\"2022-09-14T15:24:00.6071Z\",\"2022-09-14T15:25:00.1872Z\",\"2022-09-14T15:26:02.2806Z\",\"2022-09-14T15:27:00.2733Z\",\"2022-09-14T15:28:00.1742Z\",\"2022-09-14T15:29:00.3812Z\",\"2022-09-14T15:30:00.0293Z\",\"2022-09-14T15:31:01.5981Z\",\"2022-09-14T15:32:00.2219Z\",\"2022-09-14T15:33:00.3774Z\",\"2022-09-14T15:34:01.8835Z\",\"2022-09-14T15:35:00.8567Z\",\"2022-09-14T15:36:01.1723Z\",\"2022-09-14T15:37:01.5961Z\",\"2022-09-14T15:38:02.0542Z\",\"2022-09-14T15:39:00.4037Z\",\"2022-09-14T15:40:02.0022Z\",\"2022-09-14T15:41:02.1904Z\",\"2022-09-14T15:42:00.6817Z\",\"2022-09-14T15:43:01.4349Z\",\"2022-09-14T15:44:01.442Z\",\"2022-09-14T15:45:00.2037Z\",\"2022-09-14T15:46:01.1788Z\",\"2022-09-14T15:47:01.517Z\",\"2022-09-14T15:48:00.0327Z\",\"2022-09-14T15:49:01.7223Z\",\"2022-09-14T15:50:00.1836Z\",\"2022-09-14T15:51:01.1282Z\",\"2022-09-14T15:52:02.8817Z\",\"2022-09-14T15:53:00.5424Z\",\"2022-09-14T15:54:00.4979Z\",\"2022-09-14T15:55:00.7295Z\",\"2022-09-14T15:56:00.6394Z\",\"2022-09-14T15:57:00.2644Z\",\"2022-09-14T15:58:05.409Z\",\"2022-09-14T15:59:00.0261Z\",\"2022-09-14T15:59:58.5988Z\"],\"y\":[155.91,155.92,155.9,155.88,155.83,155.71,155.97,156.05,156.41,156.25,156.09,155.95,155.89,155.98,155.97,155.86,155.79,155.74,155.68,155.71,155.61,155.78,155.9,155.82,155.99,155.88,155.56,155.72,155.76,155.58,155.5,155.75,155.92,156.25,155.99,155.84,155.89,155.65,155.7,155.79,156.06,156.21,156.25,156.31,156.06,156.17,155.93,155.92,155.94,155.76,155.93,155.87,156.1,156.1,156.06,156.16,156.23,156.23,156.19,156.07,156.0,155.99,156.09,156.04,156.03,156.04,156.22,156.16,156.12,156.18,156.03,156.08,155.99,155.94,156.14,155.97,156.07,156.06,156.11,156.18,156.23,156.17,156.19,156.15,156.16,156.12,156.04,155.94,156.03,155.98,156.01,156.03,156.1,156.1,156.14,156.13,156.09,155.94,155.775,155.68,155.68,155.64,155.67,155.7,155.69,155.71,155.775,155.61,155.52,155.57,155.475,155.49,155.59,155.63,155.77,155.67,155.67,155.63,155.59,155.52,156.75,156.59,156.565,156.51,156.72,156.77,156.665,156.76,156.67,156.62,156.605,156.66,156.6,156.59,156.75,156.91,156.88,156.68,156.57,156.57,156.55,156.64,156.63,156.61,156.72,156.76,156.75,156.87,156.84,156.96,156.98,156.835,156.985,156.97,156.97,157.07,156.96,157.03,157.12,157.11,157.1,157.03,157.1,156.99,156.98,156.97,156.97,156.99,157.06,156.99,156.96,156.91,156.82,156.75,156.77,156.77,156.81,156.84,156.815,156.85,161.58,161.45,161.37,161.39,161.49,161.63,161.59,161.58,161.64,161.65,161.83,161.78,161.77,161.8,161.97,161.88,161.95,161.93,162.29,162.205,162.22,162.4,162.42,162.47,162.59,162.54,162.52,162.53,162.55,162.64,162.54,162.475,162.7,162.82,162.76,162.71,162.68,162.595,162.51,162.61,162.61,162.56,162.43,162.45,162.52,162.49,162.42,162.32,162.27,162.3,162.17,162.17,162.22,162.17,162.16,162.08,161.79,161.91,161.98,161.89,157.13,157.23,156.98,156.92,157.04,157.11,156.985,156.93,156.78,156.97,156.82,156.66,156.82,156.85,156.72,156.73,156.84,156.78,156.87,156.79,156.63,156.66,156.61,156.45,156.37,156.48,156.44,156.37,156.36,156.46,156.41,156.56,156.52,156.45,156.55,156.51,156.55,156.49,156.66,156.625,156.51,156.47,156.37,156.41,156.56,156.305,156.43,156.49,156.51,156.37,156.54,156.51,156.61,156.57,156.55,156.52,156.62,156.505,156.39,156.33,156.35,156.32,156.43,156.27,156.4,156.43,156.945,156.78,156.91,156.92,157.06,156.86,156.99,156.96,156.91,156.95,156.9,156.82,156.75,156.7,156.5,156.54,156.3,156.47,156.36,156.28,156.27,156.18,156.22,155.93,155.965,156.02,155.96,155.995,155.87,155.88,155.92,155.93,155.89,156.02,156.18,156.125,156.11,156.13,156.28,156.29,156.23,156.19,156.16,156.12,155.97,155.84,155.88,155.89,156.07,156.04,155.98,155.94,155.87,155.79],\"mode\":\"markers\",\"name\":\"Price\"}];\n",
       "           var layout = {\"title\":\"Bollinger bands for AAPL\",\"xaxis\":{\"title\":\"Time\",\"_isSubplotObj\":true},\"yaxis\":{\"title\":\"Price\",\"_isSubplotObj\":true}};\n",
       "           Plotly.newPlot('c8e2d05b-d76a-4e74-936e-40ac495942f0', data, layout);\n",
       "        \n",
       "});\n",
       "};\n",
       "// ensure `require` is available globally\n",
       "if ((typeof(require) !==  typeof(Function)) || (typeof(require.config) !== typeof(Function))) {\n",
       "    let require_script = document.createElement('script');\n",
       "    require_script.setAttribute('src', 'https://cdnjs.cloudflare.com/ajax/libs/require.js/2.3.6/require.min.js');\n",
       "    require_script.setAttribute('type', 'text/javascript');\n",
       "    \n",
       "    \n",
       "    require_script.onload = function() {\n",
       "        renderPlotly();\n",
       "    };\n",
       "\n",
       "    document.getElementsByTagName('head')[0].appendChild(require_script);\n",
       "}\n",
       "else {\n",
       "    renderPlotly();\n",
       "}\n",
       "\n",
       "</script>\n"
      ]
     },
     "metadata": {},
     "output_type": "display_data"
    }
   ],
   "source": [
    "// Plot Bollinger bands\n",
    "[\n",
    "    new Scattergl(\n",
    "        name = \"Upper band\",\n",
    "        mode = \"lines\",\n",
    "        x = (bollingerBands |> Seq.map (fun l -> l.TimeStamp.ToDateTime())),\n",
    "        y = (bollingerBands |> Seq.map (fun l -> l.Upper))\n",
    "    )\n",
    "    new Scattergl(\n",
    "        name = \"Middle band\",\n",
    "        mode = \"lines\",\n",
    "        x = (bollingerBands |> Seq.map (fun l -> l.TimeStamp.ToDateTime())),\n",
    "        y = (bollingerBands |> Seq.map (fun l -> l.Middle))\n",
    "    )\n",
    "    new Scattergl(\n",
    "        name = \"Lower band\",\n",
    "        mode = \"lines\",\n",
    "        x = (bollingerBands |> Seq.map (fun l -> l.TimeStamp.ToDateTime())),\n",
    "        y = (bollingerBands |> Seq.map (fun l -> l.Lower))\n",
    "    )\n",
    "    new Scattergl(\n",
    "        name = \"Price\",\n",
    "        mode = \"markers\",\n",
    "        x = (bollingerBands |> Seq.map (fun l -> l.TimeStamp.ToDateTime())),\n",
    "        y = (bollingerBands |> Seq.map (fun l -> l.Value))\n",
    "    )\n",
    "]\n",
    "|> Chart.Plot\n",
    "|> Chart.WithTitle $\"Bollinger bands for {ticker}\"\n",
    "|> Chart.WithXTitle \"Time\"\n",
    "|> Chart.WithYTitle \"Price\"\n",
    "|> Chart.WithWidth 1500\n",
    "|> Chart.WithHeight 800\n",
    "|> display"
   ]
  }
 ],
 "metadata": {
  "kernelspec": {
   "display_name": ".NET (F#)",
   "language": "F#",
   "name": ".net-fsharp"
  },
  "language_info": {
   "file_extension": ".fs",
   "mimetype": "text/x-fsharp",
   "name": "F#",
   "pygments_lexer": "fsharp",
   "version": "6.0"
  }
 },
 "nbformat": 4,
 "nbformat_minor": 5
}
