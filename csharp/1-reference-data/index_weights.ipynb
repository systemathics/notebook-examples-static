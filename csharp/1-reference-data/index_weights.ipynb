{
 "cells": [
  {
   "cell_type": "markdown",
   "id": "mounted-ability",
   "metadata": {},
   "source": [
    "# Generate index weights using dedicated service - C#\n",
    "\n",
    "### Overview\n",
    "Reference data encompasses a wide range of specification data about:\n",
    "* financial instrument such as asset class, symbol, maturity, etc.\n",
    "* counterparties such as issuer information.\n",
    "* pricing such as Open, high low and close prices.\n",
    "\n",
    "The challenge with reference data is that it tends to be sourced from multiple sources: internal, counterparties and providers.\n",
    "\n",
    "Reference data dedicated service is a result of various data sources and fields sourcing, validation, cross-checking and normalization.<br>\n",
    "\n",
    "This sample requests **on-demand** exchange data and enables fields mapping by calling a dedicated static data service, making available clean data.\n",
    "\n",
    "### Inputs/outputs\n",
    "Index weights sample is designed to help you searching and requesting index components reference data by using a wide range of commonly used fields.\n",
    "\n",
    "It takes an index code as per input filter and returns index components and weights.\n",
    "\n",
    "### Services used\n",
    "This sample uses *gRPC requests* in order to retrieve index components and weights from the hosted service. The queried endpoint in this script are:\n",
    "* *ComponentsService*: to directly retrieve index data objects from the server\n",
    "\n",
    "### Packages required\n",
    "1. Systemathics packages:\n",
    "    * *Systemathics.Apis.Type.Shared.V1*\n",
    "    * *Systemathics.Apis.Services.Indices.V1*\n",
    "2. Open source packages\n",
    "    * *Google.Protobuf.WellKnownTypes*\n",
    "    * *Google.Type*\n",
    "    * *Grpc.Net.Client*\n",
    "    * *Grpc.Core*\n",
    "\n",
    "***"
   ]
  },
  {
   "cell_type": "markdown",
   "id": "union-junction",
   "metadata": {},
   "source": [
    "# Run Index weights sample"
   ]
  },
  {
   "cell_type": "markdown",
   "id": "willing-services",
   "metadata": {},
   "source": [
    "### Step 1: Install packages"
   ]
  },
  {
   "cell_type": "code",
   "execution_count": 1,
   "id": "upper-meaning",
   "metadata": {
    "dotnet_interactive": {
     "language": "csharp"
    },
    "execution": {
     "iopub.execute_input": "2022-10-25T16:13:23.983348Z",
     "iopub.status.busy": "2022-10-25T16:13:23.974571Z",
     "iopub.status.idle": "2022-10-25T16:13:29.307764Z",
     "shell.execute_reply": "2022-10-25T16:13:29.299896Z"
    },
    "vscode": {
     "languageId": "dotnet-interactive.csharp"
    }
   },
   "outputs": [
    {
     "data": {
      "text/html": [
       "\n",
       "<div>\n",
       "    <div id='dotnet-interactive-this-cell-17271.Microsoft.DotNet.Interactive.Http.HttpPort' style='display: none'>\n",
       "        The below script needs to be able to find the current output cell; this is an easy method to get it.\n",
       "    </div>\n",
       "    <script type='text/javascript'>\n",
       "async function probeAddresses(probingAddresses) {\n",
       "    function timeout(ms, promise) {\n",
       "        return new Promise(function (resolve, reject) {\n",
       "            setTimeout(function () {\n",
       "                reject(new Error('timeout'))\n",
       "            }, ms)\n",
       "            promise.then(resolve, reject)\n",
       "        })\n",
       "    }\n",
       "\n",
       "    if (Array.isArray(probingAddresses)) {\n",
       "        for (let i = 0; i < probingAddresses.length; i++) {\n",
       "\n",
       "            let rootUrl = probingAddresses[i];\n",
       "\n",
       "            if (!rootUrl.endsWith('/')) {\n",
       "                rootUrl = `${rootUrl}/`;\n",
       "            }\n",
       "\n",
       "            try {\n",
       "                let response = await timeout(1000, fetch(`${rootUrl}discovery`, {\n",
       "                    method: 'POST',\n",
       "                    cache: 'no-cache',\n",
       "                    mode: 'cors',\n",
       "                    timeout: 1000,\n",
       "                    headers: {\n",
       "                        'Content-Type': 'text/plain'\n",
       "                    },\n",
       "                    body: probingAddresses[i]\n",
       "                }));\n",
       "\n",
       "                if (response.status == 200) {\n",
       "                    return rootUrl;\n",
       "                }\n",
       "            }\n",
       "            catch (e) { }\n",
       "        }\n",
       "    }\n",
       "}\n",
       "\n",
       "function loadDotnetInteractiveApi() {\n",
       "    probeAddresses([\"http://172.28.169.63:1104/\", \"http://127.0.0.1:1104/\"])\n",
       "        .then((root) => {\n",
       "        // use probing to find host url and api resources\n",
       "        // load interactive helpers and language services\n",
       "        let dotnetInteractiveRequire = require.config({\n",
       "        context: '17271.Microsoft.DotNet.Interactive.Http.HttpPort',\n",
       "                paths:\n",
       "            {\n",
       "                'dotnet-interactive': `${root}resources`\n",
       "                }\n",
       "        }) || require;\n",
       "\n",
       "            window.dotnetInteractiveRequire = dotnetInteractiveRequire;\n",
       "\n",
       "            window.configureRequireFromExtension = function(extensionName, extensionCacheBuster) {\n",
       "                let paths = {};\n",
       "                paths[extensionName] = `${root}extensions/${extensionName}/resources/`;\n",
       "                \n",
       "                let internalRequire = require.config({\n",
       "                    context: extensionCacheBuster,\n",
       "                    paths: paths,\n",
       "                    urlArgs: `cacheBuster=${extensionCacheBuster}`\n",
       "                    }) || require;\n",
       "\n",
       "                return internalRequire\n",
       "            };\n",
       "        \n",
       "            dotnetInteractiveRequire([\n",
       "                    'dotnet-interactive/dotnet-interactive'\n",
       "                ],\n",
       "                function (dotnet) {\n",
       "                    dotnet.init(window);\n",
       "                },\n",
       "                function (error) {\n",
       "                    console.log(error);\n",
       "                }\n",
       "            );\n",
       "        })\n",
       "        .catch(error => {console.log(error);});\n",
       "    }\n",
       "\n",
       "// ensure `require` is available globally\n",
       "if ((typeof(require) !==  typeof(Function)) || (typeof(require.config) !== typeof(Function))) {\n",
       "    let require_script = document.createElement('script');\n",
       "    require_script.setAttribute('src', 'https://cdnjs.cloudflare.com/ajax/libs/require.js/2.3.6/require.min.js');\n",
       "    require_script.setAttribute('type', 'text/javascript');\n",
       "    \n",
       "    \n",
       "    require_script.onload = function() {\n",
       "        loadDotnetInteractiveApi();\n",
       "    };\n",
       "\n",
       "    document.getElementsByTagName('head')[0].appendChild(require_script);\n",
       "}\n",
       "else {\n",
       "    loadDotnetInteractiveApi();\n",
       "}\n",
       "\n",
       "    </script>\n",
       "</div>"
      ]
     },
     "metadata": {},
     "output_type": "display_data"
    },
    {
     "data": {
      "text/html": [
       "<div><div><strong>Restore sources</strong><ul><li><span> file://~/.nuget/packages/</span></li><li><span> https://api.nuget.org/v3/index.json</span></li></ul></div><div></div><div><strong>Installed Packages</strong><ul><li><span>CsvHelper, 29.0.0</span></li><li><span>Systemathics.Apis, 0.13.2-pre</span></li><li><span>XPlot.Plotly.Interactive, 4.0.6</span></li></ul></div></div>"
      ]
     },
     "metadata": {},
     "output_type": "display_data"
    },
    {
     "data": {
      "text/markdown": [
       "Loading extensions from `XPlot.Plotly.Interactive.dll`"
      ]
     },
     "metadata": {},
     "output_type": "display_data"
    },
    {
     "data": {
      "text/markdown": [
       "Configuring PowerShell Kernel for XPlot.Plotly integration."
      ]
     },
     "metadata": {},
     "output_type": "display_data"
    },
    {
     "data": {
      "text/markdown": [
       "Installed support for XPlot.Plotly."
      ]
     },
     "metadata": {},
     "output_type": "display_data"
    }
   ],
   "source": [
    "#i \"nuget: file://~/.nuget/packages/\"\n",
    "#i \"nuget: https://api.nuget.org/v3/index.json\"\n",
    "#r \"nuget: Systemathics.Apis, 0.*-pre*\"\n",
    "#r \"nuget: CsvHelper\"\n",
    "#r \"nuget: XPlot.Plotly.Interactive\""
   ]
  },
  {
   "cell_type": "code",
   "execution_count": 2,
   "id": "sonic-bonus",
   "metadata": {
    "dotnet_interactive": {
     "language": "csharp"
    },
    "execution": {
     "iopub.execute_input": "2022-10-25T16:13:29.310449Z",
     "iopub.status.busy": "2022-10-25T16:13:29.310092Z",
     "iopub.status.idle": "2022-10-25T16:13:29.422587Z",
     "shell.execute_reply": "2022-10-25T16:13:29.422337Z"
    },
    "vscode": {
     "languageId": "dotnet-interactive.csharp"
    }
   },
   "outputs": [],
   "source": [
    "using Systemathics.Apis.Helpers;\n",
    "using Systemathics.Apis.Type.Shared.V1;\n",
    "using Systemathics.Apis.Services.Indices.V1;\n",
    "using Google.Protobuf.WellKnownTypes;\n",
    "using Google.Type;\n",
    "using Grpc.Net.Client;\n",
    "using Grpc.Core;\n",
    "// Import/export csv files\n",
    "using CsvHelper;\n",
    "using System.IO;\n",
    "using System.Globalization;\n",
    "// Plot graphs\n",
    "using XPlot.Plotly;\n",
    "using XPlot.Plotly.Interactive;"
   ]
  },
  {
   "cell_type": "markdown",
   "id": "spare-password",
   "metadata": {},
   "source": [
    "### Step 2: Prepare API requests\n",
    "The following code snippets retrieve authentication token and prepare the API request by: opening the *channel* and adding the *token* to the request header:"
   ]
  },
  {
   "cell_type": "code",
   "execution_count": 3,
   "id": "allied-diploma",
   "metadata": {
    "dotnet_interactive": {
     "language": "csharp"
    },
    "execution": {
     "iopub.execute_input": "2022-10-25T16:13:29.425719Z",
     "iopub.status.busy": "2022-10-25T16:13:29.425124Z",
     "iopub.status.idle": "2022-10-25T16:13:30.455514Z",
     "shell.execute_reply": "2022-10-25T16:13:30.455261Z"
    },
    "vscode": {
     "languageId": "dotnet-interactive.csharp"
    }
   },
   "outputs": [],
   "source": [
    "// Get token as metadata\n",
    "var headers = TokenHelpers.GetTokenAsMetaData();\n",
    "\n",
    "// Create communication channel\n",
    "var channel = ChannelHelpers.GetChannel();"
   ]
  },
  {
   "cell_type": "markdown",
   "id": "focused-evaluation",
   "metadata": {},
   "source": [
    "### Step 3: Request creation"
   ]
  },
  {
   "cell_type": "markdown",
   "id": "criminal-walnut",
   "metadata": {},
   "source": [
    "The following code snippet enables to select the **index** by its *Name*:"
   ]
  },
  {
   "cell_type": "code",
   "execution_count": 4,
   "id": "frequent-still",
   "metadata": {
    "dotnet_interactive": {
     "language": "csharp"
    },
    "execution": {
     "iopub.execute_input": "2022-10-25T16:13:30.458647Z",
     "iopub.status.busy": "2022-10-25T16:13:30.457759Z",
     "iopub.status.idle": "2022-10-25T16:13:30.523897Z",
     "shell.execute_reply": "2022-10-25T16:13:30.523556Z"
    },
    "vscode": {
     "languageId": "dotnet-interactive.csharp"
    }
   },
   "outputs": [],
   "source": [
    "// Set index name\n",
    "var index = \"nasdaq 100\";"
   ]
  },
  {
   "cell_type": "markdown",
   "id": "composed-lucas",
   "metadata": {},
   "source": [
    "The following code snippets call the service, generate the request and return the reply: "
   ]
  },
  {
   "cell_type": "code",
   "execution_count": 5,
   "id": "formal-rubber",
   "metadata": {
    "dotnet_interactive": {
     "language": "csharp"
    },
    "execution": {
     "iopub.execute_input": "2022-10-25T16:13:30.526171Z",
     "iopub.status.busy": "2022-10-25T16:13:30.525836Z",
     "iopub.status.idle": "2022-10-25T16:13:31.455491Z",
     "shell.execute_reply": "2022-10-25T16:13:31.455238Z"
    },
    "vscode": {
     "languageId": "dotnet-interactive.csharp"
    }
   },
   "outputs": [
    {
     "data": {
      "text/html": [
       "<table><thead><tr><th><i>index</i></th><th>Identifier</th><th>Weight</th></tr></thead><tbody><tr><td>0</td><td><table><thead><tr><th>Exchange</th><th>Ticker</th><th>Provider</th></tr></thead><tbody><tr><td><div class=\"dni-plaintext\">XNGS</div></td><td><div class=\"dni-plaintext\">WBA</div></td><td><div class=\"dni-plaintext\">ICE</div></td></tr></tbody></table></td><td><div class=\"dni-plaintext\">0.286</div></td></tr><tr><td>1</td><td><table><thead><tr><th>Exchange</th><th>Ticker</th><th>Provider</th></tr></thead><tbody><tr><td><div class=\"dni-plaintext\">XNGS</div></td><td><div class=\"dni-plaintext\">AAPL</div></td><td><div class=\"dni-plaintext\">ICE</div></td></tr></tbody></table></td><td><div class=\"dni-plaintext\">13.752</div></td></tr><tr><td>2</td><td><table><thead><tr><th>Exchange</th><th>Ticker</th><th>Provider</th></tr></thead><tbody><tr><td><div class=\"dni-plaintext\">XNGS</div></td><td><div class=\"dni-plaintext\">PCAR</div></td><td><div class=\"dni-plaintext\">ICE</div></td></tr></tbody></table></td><td><div class=\"dni-plaintext\">0.302</div></td></tr><tr><td>3</td><td><table><thead><tr><th>Exchange</th><th>Ticker</th><th>Provider</th></tr></thead><tbody><tr><td><div class=\"dni-plaintext\">XNGS</div></td><td><div class=\"dni-plaintext\">ANSS</div></td><td><div class=\"dni-plaintext\">ICE</div></td></tr></tbody></table></td><td><div class=\"dni-plaintext\">0.18</div></td></tr><tr><td>4</td><td><table><thead><tr><th>Exchange</th><th>Ticker</th><th>Provider</th></tr></thead><tbody><tr><td><div class=\"dni-plaintext\">XNGS</div></td><td><div class=\"dni-plaintext\">AEP</div></td><td><div class=\"dni-plaintext\">ICE</div></td></tr></tbody></table></td><td><div class=\"dni-plaintext\">0.424</div></td></tr><tr><td>5</td><td><table><thead><tr><th>Exchange</th><th>Ticker</th><th>Provider</th></tr></thead><tbody><tr><td><div class=\"dni-plaintext\">XNGS</div></td><td><div class=\"dni-plaintext\">WDAY</div></td><td><div class=\"dni-plaintext\">ICE</div></td></tr></tbody></table></td><td><div class=\"dni-plaintext\">0.29</div></td></tr><tr><td>6</td><td><table><thead><tr><th>Exchange</th><th>Ticker</th><th>Provider</th></tr></thead><tbody><tr><td><div class=\"dni-plaintext\">XNGS</div></td><td><div class=\"dni-plaintext\">ROST</div></td><td><div class=\"dni-plaintext\">ICE</div></td></tr></tbody></table></td><td><div class=\"dni-plaintext\">0.287</div></td></tr><tr><td>7</td><td><table><thead><tr><th>Exchange</th><th>Ticker</th><th>Provider</th></tr></thead><tbody><tr><td><div class=\"dni-plaintext\">XNGS</div></td><td><div class=\"dni-plaintext\">MELI</div></td><td><div class=\"dni-plaintext\">ICE</div></td></tr></tbody></table></td><td><div class=\"dni-plaintext\">0.41</div></td></tr><tr><td>8</td><td><table><thead><tr><th>Exchange</th><th>Ticker</th><th>Provider</th></tr></thead><tbody><tr><td><div class=\"dni-plaintext\">XNGS</div></td><td><div class=\"dni-plaintext\">LCID</div></td><td><div class=\"dni-plaintext\">ICE</div></td></tr></tbody></table></td><td><div class=\"dni-plaintext\">0.215</div></td></tr><tr><td>9</td><td><table><thead><tr><th>Exchange</th><th>Ticker</th><th>Provider</th></tr></thead><tbody><tr><td><div class=\"dni-plaintext\">XNGS</div></td><td><div class=\"dni-plaintext\">CPRT</div></td><td><div class=\"dni-plaintext\">ICE</div></td></tr></tbody></table></td><td><div class=\"dni-plaintext\">0.251</div></td></tr><tr><td>10</td><td><table><thead><tr><th>Exchange</th><th>Ticker</th><th>Provider</th></tr></thead><tbody><tr><td><div class=\"dni-plaintext\">XNGS</div></td><td><div class=\"dni-plaintext\">MCHP</div></td><td><div class=\"dni-plaintext\">ICE</div></td></tr></tbody></table></td><td><div class=\"dni-plaintext\">0.329</div></td></tr><tr><td>11</td><td><table><thead><tr><th>Exchange</th><th>Ticker</th><th>Provider</th></tr></thead><tbody><tr><td><div class=\"dni-plaintext\">XXXX</div></td><td><div class=\"dni-plaintext\">CEG</div></td><td><div class=\"dni-plaintext\">ICE</div></td></tr></tbody></table></td><td><div class=\"dni-plaintext\">0.275</div></td></tr><tr><td>12</td><td><table><thead><tr><th>Exchange</th><th>Ticker</th><th>Provider</th></tr></thead><tbody><tr><td><div class=\"dni-plaintext\">XNGS</div></td><td><div class=\"dni-plaintext\">MTCH</div></td><td><div class=\"dni-plaintext\">ICE</div></td></tr></tbody></table></td><td><div class=\"dni-plaintext\">0.117</div></td></tr><tr><td>13</td><td><table><thead><tr><th>Exchange</th><th>Ticker</th><th>Provider</th></tr></thead><tbody><tr><td><div class=\"dni-plaintext\">XNGS</div></td><td><div class=\"dni-plaintext\">ADP</div></td><td><div class=\"dni-plaintext\">ICE</div></td></tr></tbody></table></td><td><div class=\"dni-plaintext\">0.932</div></td></tr><tr><td>14</td><td><table><thead><tr><th>Exchange</th><th>Ticker</th><th>Provider</th></tr></thead><tbody><tr><td><div class=\"dni-plaintext\">XNGS</div></td><td><div class=\"dni-plaintext\">EA</div></td><td><div class=\"dni-plaintext\">ICE</div></td></tr></tbody></table></td><td><div class=\"dni-plaintext\">0.335</div></td></tr><tr><td>15</td><td><table><thead><tr><th>Exchange</th><th>Ticker</th><th>Provider</th></tr></thead><tbody><tr><td><div class=\"dni-plaintext\">XNGS</div></td><td><div class=\"dni-plaintext\">KHC</div></td><td><div class=\"dni-plaintext\">ICE</div></td></tr></tbody></table></td><td><div class=\"dni-plaintext\">0.416</div></td></tr><tr><td>16</td><td><table><thead><tr><th>Exchange</th><th>Ticker</th><th>Provider</th></tr></thead><tbody><tr><td><div class=\"dni-plaintext\">XNGS</div></td><td><div class=\"dni-plaintext\">ADI</div></td><td><div class=\"dni-plaintext\">ICE</div></td></tr></tbody></table></td><td><div class=\"dni-plaintext\">0.727</div></td></tr><tr><td>17</td><td><table><thead><tr><th>Exchange</th><th>Ticker</th><th>Provider</th></tr></thead><tbody><tr><td><div class=\"dni-plaintext\">XNGS</div></td><td><div class=\"dni-plaintext\">PAYX</div></td><td><div class=\"dni-plaintext\">ICE</div></td></tr></tbody></table></td><td><div class=\"dni-plaintext\">0.389</div></td></tr><tr><td>18</td><td><table><thead><tr><th>Exchange</th><th>Ticker</th><th>Provider</th></tr></thead><tbody><tr><td><div class=\"dni-plaintext\">XNGS</div></td><td><div class=\"dni-plaintext\">NTES</div></td><td><div class=\"dni-plaintext\">ICE</div></td></tr></tbody></table></td><td><div class=\"dni-plaintext\">0.098</div></td></tr><tr><td>19</td><td><table><thead><tr><th>Exchange</th><th>Ticker</th><th>Provider</th></tr></thead><tbody><tr><td><div class=\"dni-plaintext\">XNGS</div></td><td><div class=\"dni-plaintext\">BIDU</div></td><td><div class=\"dni-plaintext\">ICE</div></td></tr></tbody></table></td><td><div class=\"dni-plaintext\">0.16</div></td></tr><tr><td colspan=\"3\"><i>(82 more)</i></td></tr></tbody></table>"
      ]
     },
     "metadata": {},
     "output_type": "display_data"
    }
   ],
   "source": [
    "// Instantiate the indice components service\n",
    "var service = new ComponentsService.ComponentsServiceClient(channel);\n",
    "\n",
    "// Generate the indice components request\n",
    "var request = new ComponentsRequest { Identifier = index };\n",
    "\n",
    "// Process the indice components response\n",
    "var reply = service.Components(request, headers);\n",
    "\n",
    "// Display the results\n",
    "display(reply.Components)"
   ]
  },
  {
   "cell_type": "markdown",
   "id": "russian-heart",
   "metadata": {},
   "source": [
    "### Step 4: Retrieve index data"
   ]
  },
  {
   "cell_type": "markdown",
   "id": "aggregate-thailand",
   "metadata": {},
   "source": [
    "#### 4.1 Export index data"
   ]
  },
  {
   "cell_type": "markdown",
   "id": "maritime-surgeon",
   "metadata": {},
   "source": [
    "The following code snippet exports index data to a *csv file*:"
   ]
  },
  {
   "cell_type": "code",
   "execution_count": 6,
   "id": "broke-england",
   "metadata": {
    "dotnet_interactive": {
     "language": "csharp"
    },
    "execution": {
     "iopub.execute_input": "2022-10-25T16:13:31.458156Z",
     "iopub.status.busy": "2022-10-25T16:13:31.457805Z",
     "iopub.status.idle": "2022-10-25T16:13:31.800912Z",
     "shell.execute_reply": "2022-10-25T16:13:31.800660Z"
    },
    "vscode": {
     "languageId": "dotnet-interactive.csharp"
    }
   },
   "outputs": [],
   "source": [
    "var d = new DirectoryInfo(\"output\"); if (!d.Exists) { d.Create(); }\n",
    "using (var writer = new StreamWriter($\"output/{index.ToLowerInvariant()} weights.csv\"))\n",
    "using (var csv = new CsvWriter(writer, CultureInfo.InvariantCulture))\n",
    "{\n",
    "    csv.WriteRecords(reply.Components);\n",
    "}"
   ]
  },
  {
   "cell_type": "markdown",
   "id": "abandoned-bones",
   "metadata": {},
   "source": [
    "#### 4.2 Visualize index data"
   ]
  },
  {
   "cell_type": "markdown",
   "id": "essential-scanner",
   "metadata": {},
   "source": [
    "The following code snippet displays index components and weights. <br>*`XPlot.Plotly`* is used as per open source display package. "
   ]
  },
  {
   "cell_type": "code",
   "execution_count": 7,
   "id": "isolated-maintenance",
   "metadata": {
    "dotnet_interactive": {
     "language": "csharp"
    },
    "execution": {
     "iopub.execute_input": "2022-10-25T16:13:31.803042Z",
     "iopub.status.busy": "2022-10-25T16:13:31.802729Z",
     "iopub.status.idle": "2022-10-25T16:13:32.013522Z",
     "shell.execute_reply": "2022-10-25T16:13:32.013191Z"
    },
    "vscode": {
     "languageId": "dotnet-interactive.csharp"
    }
   },
   "outputs": [],
   "source": [
    "var data = reply.Components.Select(elt => new Tuple<String, double>(elt.Identifier.Ticker, elt.Weight));"
   ]
  },
  {
   "cell_type": "code",
   "execution_count": 8,
   "id": "maritime-network",
   "metadata": {
    "dotnet_interactive": {
     "language": "csharp"
    },
    "execution": {
     "iopub.execute_input": "2022-10-25T16:13:32.015625Z",
     "iopub.status.busy": "2022-10-25T16:13:32.015305Z",
     "iopub.status.idle": "2022-10-25T16:13:32.200375Z",
     "shell.execute_reply": "2022-10-25T16:13:32.200126Z"
    },
    "vscode": {
     "languageId": "dotnet-interactive.csharp"
    }
   },
   "outputs": [
    {
     "data": {
      "text/html": [
       "<!DOCTYPE html>\n",
       "<div style=\"width: 1500px; height: 800px;\" id=\"e320e90c-8aa0-43e5-8a51-c01219395c73\"></div><script type=\"text/javascript\">\n",
       "\n",
       "var renderPlotly = function() {\n",
       "    var xplotRequire = require.config({context:'xplot-3.0.1',paths:{plotly:'https://cdn.plot.ly/plotly-1.49.2.min'}}) || require;\n",
       "    xplotRequire(['plotly'], function(Plotly) { \n",
       "\n",
       "            var data = [{\"type\":\"pie\",\"labels\":[\"WBA\",\"AAPL\",\"PCAR\",\"ANSS\",\"AEP\",\"WDAY\",\"ROST\",\"MELI\",\"LCID\",\"CPRT\",\"MCHP\",\"CEG\",\"MTCH\",\"ADP\",\"EA\",\"KHC\",\"ADI\",\"PAYX\",\"NTES\",\"BIDU\",\"CTSH\",\"FAST\",\"NVDA\",\"SIRI\",\"SPLK\",\"FTNT\",\"PEP\",\"COST\",\"ADSK\",\"KLAC\",\"NXPI\",\"SGEN\",\"SWKS\",\"MNST\",\"ASML\",\"CHTR\",\"INTC\",\"OKTA\",\"ADBE\",\"PANW\",\"ZS\",\"LRCX\",\"HON\",\"AMZN\",\"META\",\"DLTR\",\"SNPS\",\"AVGO\",\"FISV\",\"TEAM\",\"ISRG\",\"CMCSA\",\"DDOG\",\"DXCM\",\"GOOG\",\"TSLA\",\"GILD\",\"CTAS\",\"VRSN\",\"EBAY\",\"ATVI\",\"AMAT\",\"LULU\",\"PYPL\",\"CDNS\",\"QCOM\",\"DOCU\",\"AMGN\",\"AMD\",\"INTU\",\"MRNA\",\"NFLX\",\"KDP\",\"JD\",\"ABNB\",\"VRTX\",\"GOOGL\",\"TXN\",\"PDD\",\"CSX\",\"ORLY\",\"REGN\",\"ZM\",\"BIIB\",\"MDLZ\",\"BKNG\",\"MRVL\",\"CRWD\",\"MAR\",\"CSCO\",\"ILMN\",\"EXC\",\"SBUX\",\"TMUS\",\"MSFT\",\"ALGN\",\"XEL\",\"AZN\",\"ODFL\",\"IDXX\",\"MU\",\"VRSK\"],\"values\":[0.286,13.752,0.302,0.18,0.424,0.29,0.287,0.41,0.215,0.251,0.329,0.275,0.117,0.932,0.335,0.416,0.727,0.389,0.098,0.16,0.301,0.255,2.538,0.232,0.124,0.409,2.302,2.042,0.419,0.397,0.368,0.229,0.13,0.445,0.384,0.512,1.068,0.08,1.382,0.467,0.206,0.488,1.187,7.063,2.58,0.31,0.437,1.756,0.596,0.271,0.752,1.294,0.23,0.362,3.634,3.873,0.819,0.393,0.185,0.203,0.548,0.684,0.352,0.936,0.418,1.253,0.092,1.299,0.915,1.134,0.484,1.241,0.514,0.205,0.462,0.742,3.523,1.407,0.266,0.568,0.454,0.738,0.196,0.374,0.758,0.698,0.325,0.324,0.48,1.709,0.334,0.352,0.98,1.65,10.492,0.156,0.321,0.314,0.281,0.271,0.596,0.253]}];\n",
       "           var layout = {\"title\":\"nasdaq 100 components and weights\"};\n",
       "           Plotly.newPlot('e320e90c-8aa0-43e5-8a51-c01219395c73', data, layout);\n",
       "        \n",
       "});\n",
       "};\n",
       "// ensure `require` is available globally\n",
       "if ((typeof(require) !==  typeof(Function)) || (typeof(require.config) !== typeof(Function))) {\n",
       "    let require_script = document.createElement('script');\n",
       "    require_script.setAttribute('src', 'https://cdnjs.cloudflare.com/ajax/libs/require.js/2.3.6/require.min.js');\n",
       "    require_script.setAttribute('type', 'text/javascript');\n",
       "    \n",
       "    \n",
       "    require_script.onload = function() {\n",
       "        renderPlotly();\n",
       "    };\n",
       "\n",
       "    document.getElementsByTagName('head')[0].appendChild(require_script);\n",
       "}\n",
       "else {\n",
       "    renderPlotly();\n",
       "}\n",
       "\n",
       "</script>\n"
      ]
     },
     "metadata": {},
     "output_type": "display_data"
    }
   ],
   "source": [
    "var chart = Chart.Pie(data);\n",
    "chart.WithTitle($\"{index} components and weights\");\n",
    "chart.Width = 1500;\n",
    "chart.Height = 800;\n",
    "display(chart);"
   ]
  }
 ],
 "metadata": {
  "kernelspec": {
   "display_name": ".NET (C#)",
   "language": "C#",
   "name": ".net-csharp"
  },
  "language_info": {
   "file_extension": ".cs",
   "mimetype": "text/x-csharp",
   "name": "C#",
   "pygments_lexer": "csharp",
   "version": "10.0"
  }
 },
 "nbformat": 4,
 "nbformat_minor": 5
}
