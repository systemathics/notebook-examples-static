{
 "cells": [
  {
   "cell_type": "markdown",
   "id": "italic-capital",
   "metadata": {},
   "source": [
    "# Generate EMA using dedicated service - C#\n",
    "\n",
    "### Overview\n",
    "Moving averages smooth the price movements by filtering out the \"noise\" caused by short-term price fluctuations.They also form the building blocks for a wide range of technical indicators.\n",
    "\n",
    "Computing moving averages over a defined number of time periods is useful to:\n",
    "* identify the trend direction\n",
    "* determine support and resistance levels\n",
    "\n",
    "This sample demonstrates how to request and plot **on-demand** *exponential moving average - EMA* from a dedicated data service.\n",
    "\n",
    "### Inputs/outputs\n",
    "Exponential moving averages' requests require instrument's identifier, date time intervals and number of points as per inputs.\n",
    "\n",
    "EMA reduces the lag by applying greater weight to recent data points.The weighting applied to the most recent price depends on the number of points in the moving average; The smaller the point count is, the more weight is applied to the most recent price.\n",
    "\n",
    "N-points EMA data point is computed using the previous' *EMA* value and the wighting multiplier as follows:\n",
    "\n",
    "$$ EMA = (Price-EMAp)*k+EMAp $$\n",
    "\n",
    "Where:\n",
    "* *Price* is the trade price\n",
    "* *EMAp* is the previous points' *EMA* value, *SMA* is used as the EMAp in the first calculation\n",
    "* *N* is the count of points\n",
    "* *$ k = \\frac{2}{N+1} $* is the *Weighting Multiplier*\n",
    "\n",
    "<div class=\"alert alert-block alert-info\">\n",
    "    <b>Note:</b> <i>EMA</i> adapts quickly to price changes than the <i>SMA</i>, when a price reverses direction, the <i>EMA</i> will reverse direction quicker than the <i>SMA</i> dur to the weighting \n",
    "</div>\n",
    "\n",
    "This sample shows how to plot a simple graph for basis technical analysis using an open source library. \n",
    "\n",
    "### Services used\n",
    "This sample uses *gRPC requests* in order to retrieve EMA indicator from the hosted service. The queried endpoint in this script are:\n",
    "* *TickEmaService*: to directly retrieve EMA data from the server\n",
    "\n",
    "### Packages required\n",
    "1. Systemathics packages:\n",
    "    * *Systemathics.Apis.Type.Shared.V1*\n",
    "    * *Systemathics.Apis.Services.TickAnalytics.V1*\n",
    "2. Open source packages\n",
    "    * *Google.Protobuf.WellKnownTypes*\n",
    "    * *Google.Type*\n",
    "    * *Grpc.Net.Client*\n",
    "    * *Grpc.Core*\n",
    "    * *XPlot.Plotly* as per display package\n",
    "\n",
    "***"
   ]
  },
  {
   "cell_type": "markdown",
   "id": "elder-litigation",
   "metadata": {},
   "source": [
    "# Run EMA sample"
   ]
  },
  {
   "cell_type": "markdown",
   "id": "continued-stick",
   "metadata": {},
   "source": [
    "### Step 1: Install packages"
   ]
  },
  {
   "cell_type": "code",
   "execution_count": 1,
   "id": "comparable-sauce",
   "metadata": {
    "dotnet_interactive": {
     "language": "csharp"
    },
    "execution": {
     "iopub.execute_input": "2022-10-25T16:15:55.968521Z",
     "iopub.status.busy": "2022-10-25T16:15:55.960116Z",
     "iopub.status.idle": "2022-10-25T16:16:01.383364Z",
     "shell.execute_reply": "2022-10-25T16:16:01.374632Z"
    },
    "vscode": {
     "languageId": "dotnet-interactive.csharp"
    }
   },
   "outputs": [
    {
     "data": {
      "text/html": [
       "\n",
       "<div>\n",
       "    <div id='dotnet-interactive-this-cell-18633.Microsoft.DotNet.Interactive.Http.HttpPort' style='display: none'>\n",
       "        The below script needs to be able to find the current output cell; this is an easy method to get it.\n",
       "    </div>\n",
       "    <script type='text/javascript'>\n",
       "async function probeAddresses(probingAddresses) {\n",
       "    function timeout(ms, promise) {\n",
       "        return new Promise(function (resolve, reject) {\n",
       "            setTimeout(function () {\n",
       "                reject(new Error('timeout'))\n",
       "            }, ms)\n",
       "            promise.then(resolve, reject)\n",
       "        })\n",
       "    }\n",
       "\n",
       "    if (Array.isArray(probingAddresses)) {\n",
       "        for (let i = 0; i < probingAddresses.length; i++) {\n",
       "\n",
       "            let rootUrl = probingAddresses[i];\n",
       "\n",
       "            if (!rootUrl.endsWith('/')) {\n",
       "                rootUrl = `${rootUrl}/`;\n",
       "            }\n",
       "\n",
       "            try {\n",
       "                let response = await timeout(1000, fetch(`${rootUrl}discovery`, {\n",
       "                    method: 'POST',\n",
       "                    cache: 'no-cache',\n",
       "                    mode: 'cors',\n",
       "                    timeout: 1000,\n",
       "                    headers: {\n",
       "                        'Content-Type': 'text/plain'\n",
       "                    },\n",
       "                    body: probingAddresses[i]\n",
       "                }));\n",
       "\n",
       "                if (response.status == 200) {\n",
       "                    return rootUrl;\n",
       "                }\n",
       "            }\n",
       "            catch (e) { }\n",
       "        }\n",
       "    }\n",
       "}\n",
       "\n",
       "function loadDotnetInteractiveApi() {\n",
       "    probeAddresses([\"http://172.28.169.63:2239/\", \"http://127.0.0.1:2239/\"])\n",
       "        .then((root) => {\n",
       "        // use probing to find host url and api resources\n",
       "        // load interactive helpers and language services\n",
       "        let dotnetInteractiveRequire = require.config({\n",
       "        context: '18633.Microsoft.DotNet.Interactive.Http.HttpPort',\n",
       "                paths:\n",
       "            {\n",
       "                'dotnet-interactive': `${root}resources`\n",
       "                }\n",
       "        }) || require;\n",
       "\n",
       "            window.dotnetInteractiveRequire = dotnetInteractiveRequire;\n",
       "\n",
       "            window.configureRequireFromExtension = function(extensionName, extensionCacheBuster) {\n",
       "                let paths = {};\n",
       "                paths[extensionName] = `${root}extensions/${extensionName}/resources/`;\n",
       "                \n",
       "                let internalRequire = require.config({\n",
       "                    context: extensionCacheBuster,\n",
       "                    paths: paths,\n",
       "                    urlArgs: `cacheBuster=${extensionCacheBuster}`\n",
       "                    }) || require;\n",
       "\n",
       "                return internalRequire\n",
       "            };\n",
       "        \n",
       "            dotnetInteractiveRequire([\n",
       "                    'dotnet-interactive/dotnet-interactive'\n",
       "                ],\n",
       "                function (dotnet) {\n",
       "                    dotnet.init(window);\n",
       "                },\n",
       "                function (error) {\n",
       "                    console.log(error);\n",
       "                }\n",
       "            );\n",
       "        })\n",
       "        .catch(error => {console.log(error);});\n",
       "    }\n",
       "\n",
       "// ensure `require` is available globally\n",
       "if ((typeof(require) !==  typeof(Function)) || (typeof(require.config) !== typeof(Function))) {\n",
       "    let require_script = document.createElement('script');\n",
       "    require_script.setAttribute('src', 'https://cdnjs.cloudflare.com/ajax/libs/require.js/2.3.6/require.min.js');\n",
       "    require_script.setAttribute('type', 'text/javascript');\n",
       "    \n",
       "    \n",
       "    require_script.onload = function() {\n",
       "        loadDotnetInteractiveApi();\n",
       "    };\n",
       "\n",
       "    document.getElementsByTagName('head')[0].appendChild(require_script);\n",
       "}\n",
       "else {\n",
       "    loadDotnetInteractiveApi();\n",
       "}\n",
       "\n",
       "    </script>\n",
       "</div>"
      ]
     },
     "metadata": {},
     "output_type": "display_data"
    },
    {
     "data": {
      "text/html": [
       "<div><div><strong>Restore sources</strong><ul><li><span> file://~/.nuget/packages/</span></li><li><span> https://api.nuget.org/v3/index.json</span></li></ul></div><div></div><div><strong>Installed Packages</strong><ul><li><span>Systemathics.Apis, 0.13.2-pre</span></li><li><span>XPlot.Plotly.Interactive, 4.0.6</span></li></ul></div></div>"
      ]
     },
     "metadata": {},
     "output_type": "display_data"
    },
    {
     "data": {
      "text/markdown": [
       "Loading extensions from `XPlot.Plotly.Interactive.dll`"
      ]
     },
     "metadata": {},
     "output_type": "display_data"
    },
    {
     "data": {
      "text/markdown": [
       "Configuring PowerShell Kernel for XPlot.Plotly integration."
      ]
     },
     "metadata": {},
     "output_type": "display_data"
    },
    {
     "data": {
      "text/markdown": [
       "Installed support for XPlot.Plotly."
      ]
     },
     "metadata": {},
     "output_type": "display_data"
    }
   ],
   "source": [
    "#i \"nuget: file://~/.nuget/packages/\"\n",
    "#i \"nuget: https://api.nuget.org/v3/index.json\"\n",
    "#r \"nuget: Systemathics.Apis, 0.*-pre*\"\n",
    "#r \"nuget: XPlot.Plotly.Interactive\""
   ]
  },
  {
   "cell_type": "code",
   "execution_count": 2,
   "id": "pleased-gallery",
   "metadata": {
    "dotnet_interactive": {
     "language": "csharp"
    },
    "execution": {
     "iopub.execute_input": "2022-10-25T16:16:01.386582Z",
     "iopub.status.busy": "2022-10-25T16:16:01.385696Z",
     "iopub.status.idle": "2022-10-25T16:16:01.485321Z",
     "shell.execute_reply": "2022-10-25T16:16:01.484888Z"
    },
    "vscode": {
     "languageId": "dotnet-interactive.csharp"
    }
   },
   "outputs": [],
   "source": [
    "using Systemathics.Apis.Helpers;\n",
    "using Systemathics.Apis.Type.Shared.V1;\n",
    "using Systemathics.Apis.Services.TickAnalytics.V1;\n",
    "using Google.Protobuf.WellKnownTypes;\n",
    "using Google.Type;\n",
    "using Grpc.Core;\n",
    "using Grpc.Net.Client;\n",
    "using XPlot.Plotly;\n",
    "using XPlot.Plotly.Interactive;"
   ]
  },
  {
   "cell_type": "markdown",
   "id": "efficient-carrier",
   "metadata": {},
   "source": [
    "### Step 2: Prepare API requests\n",
    "The following code snippets retrieve authentication token and prepare the API request by: opening the *channel* and adding the *token* to the request header:"
   ]
  },
  {
   "cell_type": "code",
   "execution_count": 3,
   "id": "contemporary-robert",
   "metadata": {
    "dotnet_interactive": {
     "language": "csharp"
    },
    "execution": {
     "iopub.execute_input": "2022-10-25T16:16:01.487700Z",
     "iopub.status.busy": "2022-10-25T16:16:01.487380Z",
     "iopub.status.idle": "2022-10-25T16:16:02.542905Z",
     "shell.execute_reply": "2022-10-25T16:16:02.542632Z"
    },
    "vscode": {
     "languageId": "dotnet-interactive.csharp"
    }
   },
   "outputs": [],
   "source": [
    "// Get token as metadata\n",
    "var headers = TokenHelpers.GetTokenAsMetaData();\n",
    "\n",
    "// Create communication channel\n",
    "var channel = ChannelHelpers.GetChannel();"
   ]
  },
  {
   "cell_type": "markdown",
   "id": "northern-restaurant",
   "metadata": {},
   "source": [
    "### Step 3: Create and process request\n",
    "To request *EMA* service, we need to specify:\n",
    "* Instrument identifier\n",
    "* Time period selection: select start and end dates\n",
    "* Exponential moving average request parameters"
   ]
  },
  {
   "cell_type": "markdown",
   "id": "social-element",
   "metadata": {},
   "source": [
    "#### 3.1 Instrument selection"
   ]
  },
  {
   "cell_type": "code",
   "execution_count": 4,
   "id": "neutral-peripheral",
   "metadata": {
    "dotnet_interactive": {
     "language": "csharp"
    },
    "execution": {
     "iopub.execute_input": "2022-10-25T16:16:02.545515Z",
     "iopub.status.busy": "2022-10-25T16:16:02.544750Z",
     "iopub.status.idle": "2022-10-25T16:16:02.622115Z",
     "shell.execute_reply": "2022-10-25T16:16:02.621862Z"
    },
    "vscode": {
     "languageId": "dotnet-interactive.csharp"
    }
   },
   "outputs": [],
   "source": [
    "var ticker = \"AAPL\";\n",
    "var exchange = \"BATS\";"
   ]
  },
  {
   "cell_type": "markdown",
   "id": "detected-maria",
   "metadata": {},
   "source": [
    "#### 3.2 EMA parameters"
   ]
  },
  {
   "cell_type": "code",
   "execution_count": 5,
   "id": "described-potential",
   "metadata": {
    "dotnet_interactive": {
     "language": "csharp"
    },
    "execution": {
     "iopub.execute_input": "2022-10-25T16:16:02.624085Z",
     "iopub.status.busy": "2022-10-25T16:16:02.623780Z",
     "iopub.status.idle": "2022-10-25T16:16:02.770429Z",
     "shell.execute_reply": "2022-10-25T16:16:02.770183Z"
    },
    "vscode": {
     "languageId": "dotnet-interactive.csharp"
    }
   },
   "outputs": [],
   "source": [
    "var field = EmaPrice.Trade;\n",
    "var longEma = 200;\n",
    "var shortEma = 50;\n",
    "var sampling = new Duration { Seconds = 1 * 60 };"
   ]
  },
  {
   "cell_type": "markdown",
   "id": "extensive-client",
   "metadata": {},
   "source": [
    "#### 3.2 Time period delimitation"
   ]
  },
  {
   "cell_type": "code",
   "execution_count": 6,
   "id": "champion-twist",
   "metadata": {
    "dotnet_interactive": {
     "language": "csharp"
    },
    "execution": {
     "iopub.execute_input": "2022-10-25T16:16:02.772512Z",
     "iopub.status.busy": "2022-10-25T16:16:02.772085Z",
     "iopub.status.idle": "2022-10-25T16:16:02.865043Z",
     "shell.execute_reply": "2022-10-25T16:16:02.864554Z"
    },
    "vscode": {
     "languageId": "dotnet-interactive.csharp"
    }
   },
   "outputs": [],
   "source": [
    "var today = DateTime.Today;\n",
    "var dateIntervals = new DateInterval\n",
    "{\n",
    "    StartDate = new Date { Year = 2022, Month = 02, Day = 18 },\n",
    "    EndDate = new Date { Year = 2022, Month = 02, Day = 18 }\n",
    "};\n",
    "\n",
    "var timeInterval = new TimeInterval\n",
    "{\n",
    "    StartTime = new TimeOfDay { Hours = 08, Minutes = 00, Seconds = 00 },\n",
    "    EndTime = new TimeOfDay { Hours = 20, Minutes = 00, Seconds = 00 }\n",
    "};"
   ]
  },
  {
   "cell_type": "markdown",
   "id": "unique-refrigerator",
   "metadata": {},
   "source": [
    "#### 3.3 Request creation\n",
    "The following code snippets creates *gRPC client*, process request and returns the request reply:"
   ]
  },
  {
   "cell_type": "code",
   "execution_count": 7,
   "id": "utility-identification",
   "metadata": {
    "dotnet_interactive": {
     "language": "csharp"
    },
    "execution": {
     "iopub.execute_input": "2022-10-25T16:16:02.867798Z",
     "iopub.status.busy": "2022-10-25T16:16:02.867277Z",
     "iopub.status.idle": "2022-10-25T16:16:02.962534Z",
     "shell.execute_reply": "2022-10-25T16:16:02.962075Z"
    },
    "vscode": {
     "languageId": "dotnet-interactive.csharp"
    }
   },
   "outputs": [],
   "source": [
    "// Generate constraints based on the previous space selection:\n",
    "var constraints = new Constraints();\n",
    "constraints.DateIntervals.Add(dateIntervals);\n",
    "constraints.TimeIntervals.Add(timeInterval);   "
   ]
  },
  {
   "cell_type": "markdown",
   "id": "waiting-telling",
   "metadata": {},
   "source": [
    "The following code snippets create requests for: *Long EMA*, *Short EMA* and *Prices*:"
   ]
  },
  {
   "cell_type": "code",
   "execution_count": 8,
   "id": "driving-plumbing",
   "metadata": {
    "dotnet_interactive": {
     "language": "csharp"
    },
    "execution": {
     "iopub.execute_input": "2022-10-25T16:16:02.965707Z",
     "iopub.status.busy": "2022-10-25T16:16:02.964900Z",
     "iopub.status.idle": "2022-10-25T16:16:03.041108Z",
     "shell.execute_reply": "2022-10-25T16:16:03.040810Z"
    },
    "vscode": {
     "languageId": "dotnet-interactive.csharp"
    }
   },
   "outputs": [],
   "source": [
    "// Generate 200-points EMA request\n",
    "var emaLongRequest = new TickEmaRequest()\n",
    "{\n",
    "    Identifier = new Identifier { Exchange = exchange, Ticker = ticker}, \n",
    "    Constraints = constraints,  \n",
    "    Field = field,\n",
    "    Length = longEma, \n",
    "    Sampling = sampling\n",
    "};\n",
    "\n",
    "// Generate 50-points EMA request\n",
    "var emaShortRequest = new TickEmaRequest()\n",
    "{\n",
    "    Identifier = new Identifier { Exchange = exchange, Ticker = ticker}, \n",
    "    Constraints = constraints,  \n",
    "    Field = field,\n",
    "    Length = shortEma, \n",
    "    Sampling = sampling\n",
    "};\n",
    "\n",
    "// Instantiate the tick EMA service\n",
    "var service = new TickEmaService.TickEmaServiceClient(channel);"
   ]
  },
  {
   "cell_type": "markdown",
   "id": "careful-velvet",
   "metadata": {},
   "source": [
    "### Step 4: Visualize data"
   ]
  },
  {
   "cell_type": "markdown",
   "id": "subjective-evans",
   "metadata": {},
   "source": [
    "#### 4.1 Retrieve long EMA data"
   ]
  },
  {
   "cell_type": "code",
   "execution_count": 9,
   "id": "minus-consideration",
   "metadata": {
    "dotnet_interactive": {
     "language": "csharp"
    },
    "execution": {
     "iopub.execute_input": "2022-10-25T16:16:03.043413Z",
     "iopub.status.busy": "2022-10-25T16:16:03.043065Z",
     "iopub.status.idle": "2022-10-25T16:16:03.720544Z",
     "shell.execute_reply": "2022-10-25T16:16:03.719779Z"
    },
    "vscode": {
     "languageId": "dotnet-interactive.csharp"
    }
   },
   "outputs": [],
   "source": [
    "var emalong = new List<TickEmaResponse>();\n",
    "\n",
    "var call = service.TickEma(emaLongRequest, headers);\n",
    "await foreach (var data in call.ResponseStream.ReadAllAsync())\n",
    "{\n",
    "    emalong.Add(data);\n",
    "}\n",
    "//display(emalong);"
   ]
  },
  {
   "cell_type": "markdown",
   "id": "controlled-cameroon",
   "metadata": {},
   "source": [
    "#### 4.2 Retrieve short EMA data"
   ]
  },
  {
   "cell_type": "code",
   "execution_count": 10,
   "id": "geological-delivery",
   "metadata": {
    "dotnet_interactive": {
     "language": "csharp"
    },
    "execution": {
     "iopub.execute_input": "2022-10-25T16:16:03.723688Z",
     "iopub.status.busy": "2022-10-25T16:16:03.723234Z",
     "iopub.status.idle": "2022-10-25T16:16:03.896537Z",
     "shell.execute_reply": "2022-10-25T16:16:03.896220Z"
    },
    "vscode": {
     "languageId": "dotnet-interactive.csharp"
    }
   },
   "outputs": [],
   "source": [
    "var emashort = new List<TickEmaResponse>();\n",
    "\n",
    "var call = service.TickEma(emaShortRequest, headers);\n",
    "await foreach (var data in call.ResponseStream.ReadAllAsync())\n",
    "{\n",
    "    emashort.Add(data);\n",
    "}\n",
    "//display(emashort);"
   ]
  },
  {
   "cell_type": "markdown",
   "id": "medical-flower",
   "metadata": {},
   "source": [
    "#### 4.1 Plot EMA and prices\n",
    "Plot the EMA and prices request' results with the package of your choice.<br>*`XPlot.Plotly`* is used as per open source display package. Plot a simple line graph with the EMA and prices data points: "
   ]
  },
  {
   "cell_type": "code",
   "execution_count": 11,
   "id": "greater-syria",
   "metadata": {
    "dotnet_interactive": {
     "language": "csharp"
    },
    "execution": {
     "iopub.execute_input": "2022-10-25T16:16:03.899029Z",
     "iopub.status.busy": "2022-10-25T16:16:03.898508Z",
     "iopub.status.idle": "2022-10-25T16:16:04.451296Z",
     "shell.execute_reply": "2022-10-25T16:16:04.450841Z"
    },
    "vscode": {
     "languageId": "dotnet-interactive.csharp"
    }
   },
   "outputs": [
    {
     "data": {
      "text/html": [
       "<!DOCTYPE html>\n",
       "<div style=\"width: 1500px; height: 800px;\" id=\"de52f599-e379-48aa-ba74-ff78b1c64b99\"></div><script type=\"text/javascript\">\n",
       "\n",
       "var renderPlotly = function() {\n",
       "    var xplotRequire = require.config({context:'xplot-3.0.1',paths:{plotly:'https://cdn.plot.ly/plotly-1.49.2.min'}}) || require;\n",
       "    xplotRequire(['plotly'], function(Plotly) { \n",
       "\n",
       "            var data = [{\"type\":\"scattergl\",\"x\":[\"2022-02-18T12:02:30.1796Z\",\"2022-02-18T12:02:30.1796Z\",\"2022-02-18T12:04:52.1222Z\",\"2022-02-18T12:04:52.1222Z\",\"2022-02-18T12:06:07.8669Z\",\"2022-02-18T12:06:07.8669Z\",\"2022-02-18T12:15:16.1606Z\",\"2022-02-18T12:15:16.1606Z\",\"2022-02-18T12:15:16.1606Z\",\"2022-02-18T12:15:16.1606Z\",\"2022-02-18T12:15:16.1606Z\",\"2022-02-18T12:15:16.1606Z\",\"2022-02-18T12:15:16.1606Z\",\"2022-02-18T12:15:16.1606Z\",\"2022-02-18T12:15:16.1606Z\",\"2022-02-18T12:16:22.475Z\",\"2022-02-18T12:20:57.4042Z\",\"2022-02-18T12:20:57.4042Z\",\"2022-02-18T12:20:57.4042Z\",\"2022-02-18T12:20:57.4042Z\",\"2022-02-18T12:26:52.8925Z\",\"2022-02-18T12:26:52.8925Z\",\"2022-02-18T12:26:52.8925Z\",\"2022-02-18T12:26:52.8925Z\",\"2022-02-18T12:26:52.8925Z\",\"2022-02-18T12:26:52.8925Z\",\"2022-02-18T12:27:20.9579Z\",\"2022-02-18T12:28:13.7387Z\",\"2022-02-18T12:30:02.232Z\",\"2022-02-18T12:30:02.232Z\",\"2022-02-18T12:32:45.2367Z\",\"2022-02-18T12:32:45.2367Z\",\"2022-02-18T12:42:36.5051Z\",\"2022-02-18T12:42:36.5051Z\",\"2022-02-18T12:42:36.5051Z\",\"2022-02-18T12:42:36.5051Z\",\"2022-02-18T12:42:36.5051Z\",\"2022-02-18T12:42:36.5051Z\",\"2022-02-18T12:42:36.5051Z\",\"2022-02-18T12:42:36.5051Z\",\"2022-02-18T12:42:36.5051Z\",\"2022-02-18T12:42:36.5051Z\",\"2022-02-18T12:48:51.0231Z\",\"2022-02-18T12:48:51.0231Z\",\"2022-02-18T12:48:51.0231Z\",\"2022-02-18T12:48:51.0231Z\",\"2022-02-18T12:48:51.0231Z\",\"2022-02-18T12:48:51.0231Z\",\"2022-02-18T12:50:43.0792Z\",\"2022-02-18T12:50:43.0792Z\",\"2022-02-18T12:53:20.298Z\",\"2022-02-18T12:53:20.298Z\",\"2022-02-18T12:53:20.298Z\",\"2022-02-18T12:54:36.8801Z\",\"2022-02-18T12:55:54.9804Z\",\"2022-02-18T12:56:35.7423Z\",\"2022-02-18T12:57:41.7356Z\",\"2022-02-18T12:58:23.5701Z\",\"2022-02-18T13:01:28.3917Z\",\"2022-02-18T13:01:28.3917Z\",\"2022-02-18T13:01:28.3917Z\",\"2022-02-18T13:02:09.6535Z\",\"2022-02-18T13:03:20.0713Z\",\"2022-02-18T13:04:12.1663Z\",\"2022-02-18T13:07:15.05Z\",\"2022-02-18T13:07:15.05Z\",\"2022-02-18T13:07:15.05Z\",\"2022-02-18T13:09:07.4503Z\",\"2022-02-18T13:09:07.4503Z\",\"2022-02-18T13:10:14.7432Z\",\"2022-02-18T13:11:07.0203Z\",\"2022-02-18T13:12:24.2175Z\",\"2022-02-18T13:13:11.1026Z\",\"2022-02-18T13:14:16.1957Z\",\"2022-02-18T13:15:07.2142Z\",\"2022-02-18T13:16:21.4848Z\",\"2022-02-18T13:17:12.3438Z\",\"2022-02-18T13:18:11.0805Z\",\"2022-02-18T13:19:41.7073Z\",\"2022-02-18T13:21:03.6987Z\",\"2022-02-18T13:21:03.6987Z\",\"2022-02-18T13:22:08.5945Z\",\"2022-02-18T13:23:16.444Z\",\"2022-02-18T13:24:06.2841Z\",\"2022-02-18T13:25:39.9145Z\",\"2022-02-18T13:26:10.9593Z\",\"2022-02-18T13:27:02.4703Z\",\"2022-02-18T13:28:12.3869Z\",\"2022-02-18T13:29:15.1486Z\",\"2022-02-18T13:30:55.2173Z\",\"2022-02-18T13:31:08.4791Z\",\"2022-02-18T13:32:51.9778Z\",\"2022-02-18T13:33:01.1537Z\",\"2022-02-18T13:34:45.3542Z\",\"2022-02-18T13:35:24.696Z\",\"2022-02-18T13:36:16.8407Z\",\"2022-02-18T13:38:17.3437Z\",\"2022-02-18T13:38:17.3437Z\",\"2022-02-18T13:39:27.3322Z\",\"2022-02-18T13:40:46.1205Z\",\"2022-02-18T13:41:05.6894Z\",\"2022-02-18T13:43:43.408Z\",\"2022-02-18T13:43:43.408Z\",\"2022-02-18T13:44:09.3654Z\",\"2022-02-18T13:45:04.0956Z\",\"2022-02-18T13:46:02.55Z\",\"2022-02-18T13:48:07.4297Z\",\"2022-02-18T13:48:07.4297Z\",\"2022-02-18T13:49:32.1737Z\",\"2022-02-18T13:51:12.4693Z\",\"2022-02-18T13:51:12.4693Z\",\"2022-02-18T13:52:42.9699Z\",\"2022-02-18T13:53:09.4433Z\",\"2022-02-18T13:54:35.4883Z\",\"2022-02-18T13:56:12.2059Z\",\"2022-02-18T13:56:12.2059Z\",\"2022-02-18T13:57:11.8987Z\",\"2022-02-18T13:58:23.6761Z\",\"2022-02-18T13:59:34.4502Z\",\"2022-02-18T14:00:08.8701Z\",\"2022-02-18T14:01:03.7621Z\",\"2022-02-18T14:02:09.6944Z\",\"2022-02-18T14:03:07.6644Z\",\"2022-02-18T14:04:09.2581Z\",\"2022-02-18T14:05:03.1376Z\",\"2022-02-18T14:06:18.7915Z\",\"2022-02-18T14:07:52.1633Z\",\"2022-02-18T14:08:39.1547Z\",\"2022-02-18T14:09:59.2839Z\",\"2022-02-18T14:10:01.4086Z\",\"2022-02-18T14:11:53.457Z\",\"2022-02-18T14:12:09.9873Z\",\"2022-02-18T14:14:49.3502Z\",\"2022-02-18T14:14:49.3502Z\",\"2022-02-18T14:15:03.4267Z\",\"2022-02-18T14:16:39.1687Z\",\"2022-02-18T14:17:57.9342Z\",\"2022-02-18T14:18:20.8559Z\",\"2022-02-18T14:19:01.4907Z\",\"2022-02-18T14:20:02.9097Z\",\"2022-02-18T14:21:53.2799Z\",\"2022-02-18T14:22:52.9737Z\",\"2022-02-18T14:23:24.9637Z\",\"2022-02-18T14:24:08.8351Z\",\"2022-02-18T14:25:00.2067Z\",\"2022-02-18T14:26:00.0596Z\",\"2022-02-18T14:27:00.0333Z\",\"2022-02-18T14:28:00.1794Z\",\"2022-02-18T14:29:14.0551Z\",\"2022-02-18T14:30:00.0274Z\",\"2022-02-18T14:31:00.0566Z\",\"2022-02-18T14:32:00.8638Z\",\"2022-02-18T14:33:00.0512Z\",\"2022-02-18T14:34:00.5132Z\",\"2022-02-18T14:35:00.7343Z\",\"2022-02-18T14:36:00.2937Z\",\"2022-02-18T14:37:00.0347Z\",\"2022-02-18T14:38:00.11Z\",\"2022-02-18T14:39:00.8473Z\",\"2022-02-18T14:40:00.1223Z\",\"2022-02-18T14:41:00.122Z\",\"2022-02-18T14:42:00.2688Z\",\"2022-02-18T14:43:00.9674Z\",\"2022-02-18T14:44:00.3447Z\",\"2022-02-18T14:45:00.0849Z\",\"2022-02-18T14:46:00.26Z\",\"2022-02-18T14:47:01.9508Z\",\"2022-02-18T14:48:00.0439Z\",\"2022-02-18T14:49:00.1126Z\",\"2022-02-18T14:50:00.0322Z\",\"2022-02-18T14:51:00.0823Z\",\"2022-02-18T14:52:00.2604Z\",\"2022-02-18T14:53:00.9866Z\",\"2022-02-18T14:54:00.0386Z\",\"2022-02-18T14:55:00.2795Z\",\"2022-02-18T14:56:00.0342Z\",\"2022-02-18T14:57:00.0667Z\",\"2022-02-18T14:58:00.0271Z\",\"2022-02-18T14:59:00.3527Z\",\"2022-02-18T15:00:00.0302Z\",\"2022-02-18T15:01:00.3707Z\",\"2022-02-18T15:02:00.0237Z\",\"2022-02-18T15:03:00.1106Z\",\"2022-02-18T15:04:00.2506Z\",\"2022-02-18T15:05:00.1291Z\",\"2022-02-18T15:06:00.6934Z\",\"2022-02-18T15:07:00.9473Z\",\"2022-02-18T15:08:02.9857Z\",\"2022-02-18T15:09:00.0114Z\",\"2022-02-18T15:10:00.0599Z\",\"2022-02-18T15:11:02.7341Z\",\"2022-02-18T15:12:00.0472Z\",\"2022-02-18T15:13:01.8883Z\",\"2022-02-18T15:14:01.967Z\",\"2022-02-18T15:15:00.5796Z\",\"2022-02-18T15:16:00.1508Z\",\"2022-02-18T15:17:00.3246Z\",\"2022-02-18T15:18:00.1489Z\",\"2022-02-18T15:19:00.6013Z\",\"2022-02-18T15:20:00.5028Z\",\"2022-02-18T15:21:00.6969Z\",\"2022-02-18T15:22:00.4036Z\",\"2022-02-18T15:23:00.318Z\",\"2022-02-18T15:24:00.1579Z\",\"2022-02-18T15:25:01.9438Z\",\"2022-02-18T15:26:05.6695Z\",\"2022-02-18T15:27:00.0492Z\",\"2022-02-18T15:28:00.489Z\",\"2022-02-18T15:29:00.4156Z\",\"2022-02-18T15:30:00.8291Z\",\"2022-02-18T15:31:00.4575Z\",\"2022-02-18T15:32:00.3638Z\",\"2022-02-18T15:33:00.0303Z\",\"2022-02-18T15:34:00.2365Z\",\"2022-02-18T15:35:00.448Z\",\"2022-02-18T15:36:00.8436Z\",\"2022-02-18T15:37:00.1438Z\",\"2022-02-18T15:38:00.0259Z\",\"2022-02-18T15:39:00.0448Z\",\"2022-02-18T15:40:00.3389Z\",\"2022-02-18T15:41:01.899Z\",\"2022-02-18T15:42:00.4202Z\",\"2022-02-18T15:43:00.4664Z\",\"2022-02-18T15:44:00.0355Z\",\"2022-02-18T15:45:00.051Z\",\"2022-02-18T15:46:00.8996Z\",\"2022-02-18T15:47:00.0557Z\",\"2022-02-18T15:48:01.3618Z\",\"2022-02-18T15:49:00.2933Z\",\"2022-02-18T15:50:00.5764Z\",\"2022-02-18T15:51:00.0399Z\",\"2022-02-18T15:52:00.0406Z\",\"2022-02-18T15:53:02.6976Z\",\"2022-02-18T15:54:00.6822Z\",\"2022-02-18T15:55:00.197Z\",\"2022-02-18T15:56:00.4329Z\",\"2022-02-18T15:57:00.0508Z\",\"2022-02-18T15:58:01.5625Z\",\"2022-02-18T15:59:00.1808Z\",\"2022-02-18T16:00:00.0419Z\",\"2022-02-18T16:01:00.3392Z\",\"2022-02-18T16:02:00.3328Z\",\"2022-02-18T16:03:00.1208Z\",\"2022-02-18T16:04:00.7056Z\",\"2022-02-18T16:05:00.0563Z\",\"2022-02-18T16:06:00.0487Z\",\"2022-02-18T16:07:00.452Z\",\"2022-02-18T16:08:00.0386Z\",\"2022-02-18T16:09:01.6379Z\",\"2022-02-18T16:10:00.8646Z\",\"2022-02-18T16:11:00.1465Z\",\"2022-02-18T16:12:03.7497Z\",\"2022-02-18T16:13:00.0305Z\",\"2022-02-18T16:14:04.004Z\",\"2022-02-18T16:15:00.2407Z\",\"2022-02-18T16:16:00.9446Z\",\"2022-02-18T16:17:00.6174Z\",\"2022-02-18T16:18:00.1658Z\",\"2022-02-18T16:19:00.0847Z\",\"2022-02-18T16:20:03.6044Z\",\"2022-02-18T16:21:00.3018Z\",\"2022-02-18T16:22:02.1341Z\",\"2022-02-18T16:23:01.7157Z\",\"2022-02-18T16:24:01.1671Z\",\"2022-02-18T16:25:00.2084Z\",\"2022-02-18T16:26:01.1882Z\",\"2022-02-18T16:27:00.0783Z\",\"2022-02-18T16:28:00.0721Z\",\"2022-02-18T16:29:01.1636Z\",\"2022-02-18T16:30:00.064Z\",\"2022-02-18T16:31:00.0581Z\",\"2022-02-18T16:32:01.1899Z\",\"2022-02-18T16:33:04.8637Z\",\"2022-02-18T16:34:00.3491Z\",\"2022-02-18T16:35:00.0649Z\",\"2022-02-18T16:36:03.0277Z\",\"2022-02-18T16:37:00.0386Z\",\"2022-02-18T16:38:00.2608Z\",\"2022-02-18T16:39:01.0108Z\",\"2022-02-18T16:40:00.454Z\",\"2022-02-18T16:41:00.4175Z\",\"2022-02-18T16:42:00.4346Z\",\"2022-02-18T16:43:02.1959Z\",\"2022-02-18T16:44:00.585Z\",\"2022-02-18T16:45:00.5445Z\",\"2022-02-18T16:46:00.2101Z\",\"2022-02-18T16:47:00.1873Z\",\"2022-02-18T16:48:01.0969Z\",\"2022-02-18T16:49:01.8941Z\",\"2022-02-18T16:50:00.044Z\",\"2022-02-18T16:51:00.21Z\",\"2022-02-18T16:52:00.0903Z\",\"2022-02-18T16:53:00.6974Z\",\"2022-02-18T16:54:00.1558Z\",\"2022-02-18T16:55:00.4867Z\",\"2022-02-18T16:56:01.7721Z\",\"2022-02-18T16:57:00.5376Z\",\"2022-02-18T16:58:00.7886Z\",\"2022-02-18T16:59:00.9961Z\",\"2022-02-18T17:00:00.0817Z\",\"2022-02-18T17:01:00.0451Z\",\"2022-02-18T17:02:00.7035Z\",\"2022-02-18T17:03:00.1671Z\",\"2022-02-18T17:04:00.9339Z\",\"2022-02-18T17:05:00.0404Z\",\"2022-02-18T17:06:00.1267Z\",\"2022-02-18T17:07:00.0395Z\",\"2022-02-18T17:08:00.4397Z\",\"2022-02-18T17:09:00.3668Z\",\"2022-02-18T17:10:00.2562Z\",\"2022-02-18T17:11:02.6984Z\",\"2022-02-18T17:12:00.1787Z\",\"2022-02-18T17:13:00.0576Z\",\"2022-02-18T17:14:00.2312Z\",\"2022-02-18T17:15:00.6407Z\",\"2022-02-18T17:16:02.8291Z\",\"2022-02-18T17:17:00.1809Z\",\"2022-02-18T17:18:00.4491Z\",\"2022-02-18T17:19:01.2308Z\",\"2022-02-18T17:20:02.7674Z\",\"2022-02-18T17:21:00.9381Z\",\"2022-02-18T17:22:00.1553Z\",\"2022-02-18T17:23:00.3036Z\",\"2022-02-18T17:24:00.0466Z\",\"2022-02-18T17:25:00.3667Z\",\"2022-02-18T17:26:00.2528Z\",\"2022-02-18T17:27:00.2763Z\",\"2022-02-18T17:28:00.3704Z\",\"2022-02-18T17:29:00.3136Z\",\"2022-02-18T17:30:00.073Z\",\"2022-02-18T17:31:00.2094Z\",\"2022-02-18T17:32:00.4888Z\",\"2022-02-18T17:33:00.1743Z\",\"2022-02-18T17:34:00.8716Z\",\"2022-02-18T17:35:00.5178Z\",\"2022-02-18T17:36:01.0301Z\",\"2022-02-18T17:37:00.3277Z\",\"2022-02-18T17:38:00.725Z\",\"2022-02-18T17:39:00.9831Z\",\"2022-02-18T17:40:00.2051Z\",\"2022-02-18T17:41:00.0015Z\",\"2022-02-18T17:42:00.2596Z\",\"2022-02-18T17:43:00.173Z\",\"2022-02-18T17:44:00.0469Z\",\"2022-02-18T17:45:00.0521Z\",\"2022-02-18T17:46:00.1166Z\",\"2022-02-18T17:47:00.2814Z\",\"2022-02-18T17:48:02.1191Z\",\"2022-02-18T17:49:00.9365Z\",\"2022-02-18T17:50:00.5027Z\",\"2022-02-18T17:51:00.2317Z\",\"2022-02-18T17:52:02.0242Z\",\"2022-02-18T17:53:01.9721Z\",\"2022-02-18T17:54:00.3621Z\",\"2022-02-18T17:55:01.532Z\",\"2022-02-18T17:56:01.1178Z\",\"2022-02-18T17:57:00.0132Z\",\"2022-02-18T17:58:00.1419Z\",\"2022-02-18T17:59:00.3305Z\",\"2022-02-18T18:00:00.0415Z\",\"2022-02-18T18:01:00.1561Z\",\"2022-02-18T18:02:00.4444Z\",\"2022-02-18T18:03:00.8067Z\",\"2022-02-18T18:04:00.0453Z\",\"2022-02-18T18:05:00.2542Z\",\"2022-02-18T18:06:00.1625Z\",\"2022-02-18T18:07:00.083Z\",\"2022-02-18T18:08:00.9908Z\",\"2022-02-18T18:09:00.0572Z\",\"2022-02-18T18:10:00.3246Z\",\"2022-02-18T18:11:00.29Z\",\"2022-02-18T18:12:00.0058Z\",\"2022-02-18T18:13:01.5121Z\",\"2022-02-18T18:14:00.5221Z\",\"2022-02-18T18:15:00.1974Z\",\"2022-02-18T18:16:00.1199Z\",\"2022-02-18T18:17:00.3549Z\",\"2022-02-18T18:18:01.2511Z\",\"2022-02-18T18:19:00.1536Z\",\"2022-02-18T18:20:03.8261Z\",\"2022-02-18T18:21:01.1975Z\",\"2022-02-18T18:22:01.5871Z\",\"2022-02-18T18:23:00.133Z\",\"2022-02-18T18:24:00.3561Z\",\"2022-02-18T18:25:00.5433Z\",\"2022-02-18T18:26:02.361Z\",\"2022-02-18T18:27:01.9328Z\",\"2022-02-18T18:28:00.4134Z\",\"2022-02-18T18:29:00.021Z\",\"2022-02-18T18:30:01.3254Z\",\"2022-02-18T18:31:01.0707Z\",\"2022-02-18T18:32:00.03Z\",\"2022-02-18T18:33:00.043Z\",\"2022-02-18T18:34:00.9831Z\",\"2022-02-18T18:35:03.0079Z\",\"2022-02-18T18:36:00.9242Z\",\"2022-02-18T18:37:00.4293Z\",\"2022-02-18T18:38:01.0212Z\",\"2022-02-18T18:39:00.0471Z\",\"2022-02-18T18:40:00.8115Z\",\"2022-02-18T18:41:00.1864Z\",\"2022-02-18T18:42:01.0347Z\",\"2022-02-18T18:43:02.5654Z\",\"2022-02-18T18:44:00.0484Z\",\"2022-02-18T18:45:00.0676Z\",\"2022-02-18T18:46:00.6786Z\",\"2022-02-18T18:47:01.014Z\",\"2022-02-18T18:48:00.1367Z\",\"2022-02-18T18:49:00.1237Z\",\"2022-02-18T18:50:00.2096Z\",\"2022-02-18T18:51:00.5316Z\",\"2022-02-18T18:52:00.412Z\",\"2022-02-18T18:53:00.1627Z\",\"2022-02-18T18:54:01.0386Z\",\"2022-02-18T18:55:00.0507Z\",\"2022-02-18T18:56:01.8637Z\",\"2022-02-18T18:57:00.9256Z\",\"2022-02-18T18:58:00.1797Z\",\"2022-02-18T18:59:01.9507Z\",\"2022-02-18T19:00:00.7329Z\",\"2022-02-18T19:01:00.2151Z\",\"2022-02-18T19:02:00.6213Z\",\"2022-02-18T19:03:00.562Z\",\"2022-02-18T19:04:00.3026Z\",\"2022-02-18T19:05:00.9528Z\",\"2022-02-18T19:06:01.4983Z\",\"2022-02-18T19:07:00.7825Z\",\"2022-02-18T19:08:00.0606Z\",\"2022-02-18T19:09:00.0601Z\",\"2022-02-18T19:10:00.8098Z\",\"2022-02-18T19:11:00.0999Z\",\"2022-02-18T19:12:03.6972Z\",\"2022-02-18T19:13:00.7289Z\",\"2022-02-18T19:14:01.4029Z\",\"2022-02-18T19:15:01.5981Z\",\"2022-02-18T19:16:00.0666Z\",\"2022-02-18T19:17:00.916Z\",\"2022-02-18T19:18:00.1634Z\",\"2022-02-18T19:19:01.2542Z\",\"2022-02-18T19:20:00.954Z\",\"2022-02-18T19:21:00.0693Z\",\"2022-02-18T19:22:00.0769Z\",\"2022-02-18T19:23:03.0173Z\",\"2022-02-18T19:24:01.0718Z\",\"2022-02-18T19:25:00.6753Z\",\"2022-02-18T19:26:00.0745Z\",\"2022-02-18T19:27:01.2053Z\",\"2022-02-18T19:28:00.0866Z\",\"2022-02-18T19:29:00.067Z\",\"2022-02-18T19:30:00.5663Z\",\"2022-02-18T19:31:02.6655Z\",\"2022-02-18T19:32:00.0777Z\",\"2022-02-18T19:33:01.2188Z\",\"2022-02-18T19:34:00.4184Z\",\"2022-02-18T19:35:00.0453Z\",\"2022-02-18T19:36:00.5791Z\",\"2022-02-18T19:37:00.1824Z\",\"2022-02-18T19:38:00.2986Z\",\"2022-02-18T19:39:00.3612Z\",\"2022-02-18T19:40:00.3373Z\",\"2022-02-18T19:41:00.5931Z\",\"2022-02-18T19:42:00.4322Z\",\"2022-02-18T19:43:00.4516Z\",\"2022-02-18T19:44:00.1591Z\",\"2022-02-18T19:45:00.1492Z\",\"2022-02-18T19:46:00.0326Z\",\"2022-02-18T19:47:00.9903Z\",\"2022-02-18T19:48:01.4398Z\",\"2022-02-18T19:49:00.0346Z\",\"2022-02-18T19:50:00.0387Z\",\"2022-02-18T19:51:00.1456Z\",\"2022-02-18T19:52:00.4523Z\",\"2022-02-18T19:53:03.12Z\",\"2022-02-18T19:54:00.0096Z\",\"2022-02-18T19:55:00.7078Z\",\"2022-02-18T19:56:00.0436Z\",\"2022-02-18T19:57:01.0936Z\",\"2022-02-18T19:58:00.1809Z\",\"2022-02-18T19:59:00.0516Z\",\"2022-02-18T19:59:59.0195Z\"],\"y\":[169.81,169.81,169.85,169.87,169.88,169.88666666666666,169.90285714285713,169.915,169.92444444444445,169.932,169.93818181818182,169.94333333333333,169.94769230769228,169.95142857142855,169.95466666666664,169.95562499999997,169.95411764705878,169.95277777777773,169.95157894736838,169.95049999999995,169.9523809523809,169.95409090909087,169.955652173913,169.95708333333326,169.95839999999993,169.95961538461532,169.96259259259253,169.9639285714285,169.96517241379303,169.96633333333327,169.9683870967741,169.97031249999992,169.97212121212112,169.97382352941167,169.97542857142847,169.97694444444434,169.97837837837827,169.97973684210515,169.98102564102552,169.98224999999988,169.98341463414621,169.9845238095237,169.98627906976733,169.98795454545444,169.98955555555546,169.99108695652166,169.9925531914893,169.99395833333327,169.9953061224489,169.99659999999992,169.9974509803921,169.99826923076918,169.99905660377357,169.99962962962962,169.99945454545454,169.9992857142857,169.99877192982453,169.99775862068964,169.9957627118644,169.9938333333333,169.9919672131147,169.99112903225802,169.9912698412698,169.99109374999995,169.9904615384615,169.98984848484847,169.98925373134327,169.98897058823528,169.98869565217387,169.98642857142855,169.9808450704225,169.97499999999997,169.9706849315068,169.96675675675672,169.96146666666664,169.95539473684207,169.9502597402597,169.94435897435892,169.93873417721514,169.93412499999994,169.92962962962957,169.92292682926822,169.91578313253007,169.9073809523809,169.89929411764697,169.8908139534883,169.88034482758613,169.87079545454537,169.86168539325834,169.85199999999992,169.8424175824175,169.83293478260862,169.82311827956983,169.81234042553186,169.80231578947365,169.79427083333331,169.78556701030925,169.77704081632652,169.76939393939392,169.76319999999998,169.75653465346534,169.75009803921566,169.74378640776695,169.7382692307692,169.73266666666663,169.72650943396224,169.72018691588784,169.71398148148145,169.70788990825685,169.70227272727269,169.6967567567567,169.69303571428568,169.6896460176991,169.6871052631579,169.6844347826087,169.6818103448276,169.6791452991453,169.67762711864407,169.6757142857143,169.67383333333333,169.6714049586777,169.66909836065574,169.6681300813008,169.6666129032258,169.66608,169.665,169.66314960629919,169.6609375,169.65868217054262,169.6567692307692,169.65358778625952,169.65045454545455,169.6472180451128,169.64402985074628,169.64214814814815,169.6398529411765,169.63773722627738,169.6358695652174,169.63381294964032,169.63200000000003,169.6294326241135,169.6261267605634,169.62384615384616,169.6217361111111,169.61931034482757,169.6202739726027,169.62074829931967,169.624054054054,169.6244295302013,169.62566666666663,169.62927152317877,169.63243421052627,169.6333986928104,169.63370129870125,169.63361290322575,169.63237179487174,169.6294904458598,169.6275949367088,169.62477987421377,169.62040624999992,169.6155590062111,169.60941358024684,169.6017484662576,169.59435975609748,169.5859696969696,169.57822289156618,169.5712275449101,169.56526785714277,169.55795857988159,169.5504411764705,169.54353801169583,169.53671511627897,169.53043352601148,169.52589080459762,169.52219999999994,169.5179261363636,169.5144915254237,169.51132022471907,169.50779329608937,169.50508333333332,169.50046961325964,169.4954120879121,169.49051912568305,169.48529891304347,169.48116216216215,169.47717741935483,169.47232620320855,169.4672606382979,169.46219576719577,169.45697368421054,169.45217277486913,169.446484375,169.4407512953368,169.43518041237115,169.43058974358976,169.4271173469388,169.42266497461932,169.4191161616162,169.41489949748748,169.41112500000006,169.40464614427867,169.39614220254455,169.3864293448078,169.37691263490922,169.36778912610416,169.3588559009688,169.35180260842185,169.34382447301468,169.33512970213891,169.3266209488838,169.3150127802382,169.3014305635194,169.28668996089732,169.27338956327645,169.26042051289562,169.24758050779218,169.23466925895843,169.22178697777477,169.20933138595615,169.19540769057352,169.18042850957278,169.16619539007453,169.15299941604397,169.14083026762563,169.1298767326244,169.12002721289682,169.11156923067895,169.10180237266226,169.09153568238702,169.08007761589562,169.06853455504094,169.05680784305048,169.04688935705,169.0370695624525,169.02794449217936,169.01861171116263,169.01066532597693,169.00170348193737,168.991537278137,168.98226825049386,168.972295432081,168.9628198556424,168.95244353867085,168.93819036913186,168.92348200724996,168.91041253454102,168.8975726088242,168.88575596595035,168.87296237424937,168.85959956455537,168.84507618580358,168.83189134813392,168.81973322526693,168.80660155138366,168.79489407326045,168.78161154516832,168.77015272382334,168.76000294547686,168.74965465746217,168.74020535738794,168.7332878911453,168.72658850914385,168.72065230507278,168.71407865029593,168.7071723950691,168.70202640108835,168.69593658615213,168.69010637136455,168.68473217861467,168.67901345046926,168.67225709772828,168.66706050969117,168.66131861407234,168.65404181194228,168.64743443072894,168.6402957796769,168.63482019977963,168.62979711321466,168.6260180374613,168.62148054455128,168.61718720579952,168.61442912414978,168.6102059487851,168.6051292726778,168.60000360827306,168.59502844799172,168.5904012992555,168.58621820175048,168.58058418979277,168.57361320282968,168.56631356897068,168.5580915434088,168.5500508315341,168.5415926143049,168.5326215435158,168.52423724955048,168.5156378739331,168.5045369995656,168.49235255180875,168.48048834731313,168.46963771699163,168.45809903324047,168.4470731722132,168.43526149885787,168.42356735459063,168.41298459484346,168.4021091262381,168.39193888617604,168.38157133506982,168.3733964959149,168.3657010083934,168.35828109786212,168.35023849987346,168.3420769227603,168.33449406780747,168.32678765917257,168.31955594117085,168.31587876762686,168.31184017292412,168.3073442508055,168.30349007915572,168.29788321269646,168.29243163844077,168.28653679626723,168.2801035943143,168.2746299267092,168.26841470355788,168.26206231844785,168.25656916105038,168.25113066193546,168.24385572997593,168.23695169286174,168.22941983522134,168.22037088163705,168.2115114698795,168.20274021147276,168.19266319444318,168.18029838653828,168.16805661154785,168.15613565023892,168.14413430048532,168.1329986358039,168.12182452002475,168.11115959942748,168.09920776261725,168.08618081970567,168.07457703045486,168.06239218438068,168.05152261040675,168.0400646739848,168.02752671702973,168.01630754571602,168.00569752038552,167.9950935649588,167.98419711157612,167.9720160457893,167.9614487219506,167.9503895306874,167.93854485874027,167.9259225218374,167.91262976042609,167.89996677773527,167.88693228243443,167.87532101594255,167.8631287670277,167.85046081909707,167.83662538806126,167.8234748866875,167.81179851965578,167.80013883289303,167.78750063555083,167.77399316654038,167.7607196026942,167.7472796066475,167.7333763269794,167.72070591576568,167.70696754844465,167.69276886637059,167.6791094746654,167.66538699233044,167.65100503220776,167.63815921099177,167.62573971635504,167.6139413112172,167.60365333797125,167.59227370276756,167.5805097853271,167.5683654093537,167.55634187294223,167.54443797370897,167.53215500879645,167.52088978482834,167.51033366756636,167.49938507385926,167.48884392884574,167.47731314348408,167.46778763956883,167.4576603993741,167.44862895261417,167.44137891328467,167.43410151116242,167.42620000358866,167.41797910803058,167.40974050994072,167.40208140038908,167.3952945207832,167.39036621709383,167.38648197612773,167.38263638432548,167.37912756458095,167.37664868334136,167.37379645763647,167.37097261228686,167.36867437733875,167.36729453278812,167.36543090559618,167.36269029957035,167.3603749732065,167.35818218740346,167.3553147029517,167.35237624819598,167.35185509149753,167.3504435980498,167.34884714433787,167.34756508320018,167.34669378883999,167.34473663671224,167.3430974661977,167.34217112325047,167.34075648520817,167.33925642067877,167.33777128216457,167.33620141866044,167.334348668226,167.33201684068146,167.32990722037619,167.3302066510192,167.33010509230263,167.33020354909564,167.33109704611957,167.3323796625761,167.33404752663006,167.33549979004667,167.3386291453696,167.3431203976545,167.34696994593656,167.35048268279292,167.35435847699398,167.36098177573035,167.36773817597185,167.37567112944475,167.38606246149007,167.39644989968423,167.4067339802844,167.41701523421193,167.42729368959291,167.43657434939794,167.44645918174226,167.45594715008315,167.4638481734654,167.46997903741104,167.47694442012337,167.48423850549528,167.49041523678392,167.49578423940298,167.50179633652334,167.50745010431913,167.5121520933309,167.5167077938948,167.51952662181625,167.52261590916137,167.52617196976675,167.52979214917207,167.53367481435444,167.54209596048028,167.55093082654517,167.55918027105716,167.56555658676805,167.5723669689893,167.57970660113867],\"mode\":\"lines\",\"name\":\"200-points EMA\"},{\"type\":\"scattergl\",\"x\":[\"2022-02-18T12:02:30.1796Z\",\"2022-02-18T12:02:30.1796Z\",\"2022-02-18T12:04:52.1222Z\",\"2022-02-18T12:04:52.1222Z\",\"2022-02-18T12:06:07.8669Z\",\"2022-02-18T12:06:07.8669Z\",\"2022-02-18T12:15:16.1606Z\",\"2022-02-18T12:15:16.1606Z\",\"2022-02-18T12:15:16.1606Z\",\"2022-02-18T12:15:16.1606Z\",\"2022-02-18T12:15:16.1606Z\",\"2022-02-18T12:15:16.1606Z\",\"2022-02-18T12:15:16.1606Z\",\"2022-02-18T12:15:16.1606Z\",\"2022-02-18T12:15:16.1606Z\",\"2022-02-18T12:16:22.475Z\",\"2022-02-18T12:20:57.4042Z\",\"2022-02-18T12:20:57.4042Z\",\"2022-02-18T12:20:57.4042Z\",\"2022-02-18T12:20:57.4042Z\",\"2022-02-18T12:26:52.8925Z\",\"2022-02-18T12:26:52.8925Z\",\"2022-02-18T12:26:52.8925Z\",\"2022-02-18T12:26:52.8925Z\",\"2022-02-18T12:26:52.8925Z\",\"2022-02-18T12:26:52.8925Z\",\"2022-02-18T12:27:20.9579Z\",\"2022-02-18T12:28:13.7387Z\",\"2022-02-18T12:30:02.232Z\",\"2022-02-18T12:30:02.232Z\",\"2022-02-18T12:32:45.2367Z\",\"2022-02-18T12:32:45.2367Z\",\"2022-02-18T12:42:36.5051Z\",\"2022-02-18T12:42:36.5051Z\",\"2022-02-18T12:42:36.5051Z\",\"2022-02-18T12:42:36.5051Z\",\"2022-02-18T12:42:36.5051Z\",\"2022-02-18T12:42:36.5051Z\",\"2022-02-18T12:42:36.5051Z\",\"2022-02-18T12:42:36.5051Z\",\"2022-02-18T12:42:36.5051Z\",\"2022-02-18T12:42:36.5051Z\",\"2022-02-18T12:48:51.0231Z\",\"2022-02-18T12:48:51.0231Z\",\"2022-02-18T12:48:51.0231Z\",\"2022-02-18T12:48:51.0231Z\",\"2022-02-18T12:48:51.0231Z\",\"2022-02-18T12:48:51.0231Z\",\"2022-02-18T12:50:43.0792Z\",\"2022-02-18T12:50:43.0792Z\",\"2022-02-18T12:53:20.298Z\",\"2022-02-18T12:53:20.298Z\",\"2022-02-18T12:53:20.298Z\",\"2022-02-18T12:54:36.8801Z\",\"2022-02-18T12:55:54.9804Z\",\"2022-02-18T12:56:35.7423Z\",\"2022-02-18T12:57:41.7356Z\",\"2022-02-18T12:58:23.5701Z\",\"2022-02-18T13:01:28.3917Z\",\"2022-02-18T13:01:28.3917Z\",\"2022-02-18T13:01:28.3917Z\",\"2022-02-18T13:02:09.6535Z\",\"2022-02-18T13:03:20.0713Z\",\"2022-02-18T13:04:12.1663Z\",\"2022-02-18T13:07:15.05Z\",\"2022-02-18T13:07:15.05Z\",\"2022-02-18T13:07:15.05Z\",\"2022-02-18T13:09:07.4503Z\",\"2022-02-18T13:09:07.4503Z\",\"2022-02-18T13:10:14.7432Z\",\"2022-02-18T13:11:07.0203Z\",\"2022-02-18T13:12:24.2175Z\",\"2022-02-18T13:13:11.1026Z\",\"2022-02-18T13:14:16.1957Z\",\"2022-02-18T13:15:07.2142Z\",\"2022-02-18T13:16:21.4848Z\",\"2022-02-18T13:17:12.3438Z\",\"2022-02-18T13:18:11.0805Z\",\"2022-02-18T13:19:41.7073Z\",\"2022-02-18T13:21:03.6987Z\",\"2022-02-18T13:21:03.6987Z\",\"2022-02-18T13:22:08.5945Z\",\"2022-02-18T13:23:16.444Z\",\"2022-02-18T13:24:06.2841Z\",\"2022-02-18T13:25:39.9145Z\",\"2022-02-18T13:26:10.9593Z\",\"2022-02-18T13:27:02.4703Z\",\"2022-02-18T13:28:12.3869Z\",\"2022-02-18T13:29:15.1486Z\",\"2022-02-18T13:30:55.2173Z\",\"2022-02-18T13:31:08.4791Z\",\"2022-02-18T13:32:51.9778Z\",\"2022-02-18T13:33:01.1537Z\",\"2022-02-18T13:34:45.3542Z\",\"2022-02-18T13:35:24.696Z\",\"2022-02-18T13:36:16.8407Z\",\"2022-02-18T13:38:17.3437Z\",\"2022-02-18T13:38:17.3437Z\",\"2022-02-18T13:39:27.3322Z\",\"2022-02-18T13:40:46.1205Z\",\"2022-02-18T13:41:05.6894Z\",\"2022-02-18T13:43:43.408Z\",\"2022-02-18T13:43:43.408Z\",\"2022-02-18T13:44:09.3654Z\",\"2022-02-18T13:45:04.0956Z\",\"2022-02-18T13:46:02.55Z\",\"2022-02-18T13:48:07.4297Z\",\"2022-02-18T13:48:07.4297Z\",\"2022-02-18T13:49:32.1737Z\",\"2022-02-18T13:51:12.4693Z\",\"2022-02-18T13:51:12.4693Z\",\"2022-02-18T13:52:42.9699Z\",\"2022-02-18T13:53:09.4433Z\",\"2022-02-18T13:54:35.4883Z\",\"2022-02-18T13:56:12.2059Z\",\"2022-02-18T13:56:12.2059Z\",\"2022-02-18T13:57:11.8987Z\",\"2022-02-18T13:58:23.6761Z\",\"2022-02-18T13:59:34.4502Z\",\"2022-02-18T14:00:08.8701Z\",\"2022-02-18T14:01:03.7621Z\",\"2022-02-18T14:02:09.6944Z\",\"2022-02-18T14:03:07.6644Z\",\"2022-02-18T14:04:09.2581Z\",\"2022-02-18T14:05:03.1376Z\",\"2022-02-18T14:06:18.7915Z\",\"2022-02-18T14:07:52.1633Z\",\"2022-02-18T14:08:39.1547Z\",\"2022-02-18T14:09:59.2839Z\",\"2022-02-18T14:10:01.4086Z\",\"2022-02-18T14:11:53.457Z\",\"2022-02-18T14:12:09.9873Z\",\"2022-02-18T14:14:49.3502Z\",\"2022-02-18T14:14:49.3502Z\",\"2022-02-18T14:15:03.4267Z\",\"2022-02-18T14:16:39.1687Z\",\"2022-02-18T14:17:57.9342Z\",\"2022-02-18T14:18:20.8559Z\",\"2022-02-18T14:19:01.4907Z\",\"2022-02-18T14:20:02.9097Z\",\"2022-02-18T14:21:53.2799Z\",\"2022-02-18T14:22:52.9737Z\",\"2022-02-18T14:23:24.9637Z\",\"2022-02-18T14:24:08.8351Z\",\"2022-02-18T14:25:00.2067Z\",\"2022-02-18T14:26:00.0596Z\",\"2022-02-18T14:27:00.0333Z\",\"2022-02-18T14:28:00.1794Z\",\"2022-02-18T14:29:14.0551Z\",\"2022-02-18T14:30:00.0274Z\",\"2022-02-18T14:31:00.0566Z\",\"2022-02-18T14:32:00.8638Z\",\"2022-02-18T14:33:00.0512Z\",\"2022-02-18T14:34:00.5132Z\",\"2022-02-18T14:35:00.7343Z\",\"2022-02-18T14:36:00.2937Z\",\"2022-02-18T14:37:00.0347Z\",\"2022-02-18T14:38:00.11Z\",\"2022-02-18T14:39:00.8473Z\",\"2022-02-18T14:40:00.1223Z\",\"2022-02-18T14:41:00.122Z\",\"2022-02-18T14:42:00.2688Z\",\"2022-02-18T14:43:00.9674Z\",\"2022-02-18T14:44:00.3447Z\",\"2022-02-18T14:45:00.0849Z\",\"2022-02-18T14:46:00.26Z\",\"2022-02-18T14:47:01.9508Z\",\"2022-02-18T14:48:00.0439Z\",\"2022-02-18T14:49:00.1126Z\",\"2022-02-18T14:50:00.0322Z\",\"2022-02-18T14:51:00.0823Z\",\"2022-02-18T14:52:00.2604Z\",\"2022-02-18T14:53:00.9866Z\",\"2022-02-18T14:54:00.0386Z\",\"2022-02-18T14:55:00.2795Z\",\"2022-02-18T14:56:00.0342Z\",\"2022-02-18T14:57:00.0667Z\",\"2022-02-18T14:58:00.0271Z\",\"2022-02-18T14:59:00.3527Z\",\"2022-02-18T15:00:00.0302Z\",\"2022-02-18T15:01:00.3707Z\",\"2022-02-18T15:02:00.0237Z\",\"2022-02-18T15:03:00.1106Z\",\"2022-02-18T15:04:00.2506Z\",\"2022-02-18T15:05:00.1291Z\",\"2022-02-18T15:06:00.6934Z\",\"2022-02-18T15:07:00.9473Z\",\"2022-02-18T15:08:02.9857Z\",\"2022-02-18T15:09:00.0114Z\",\"2022-02-18T15:10:00.0599Z\",\"2022-02-18T15:11:02.7341Z\",\"2022-02-18T15:12:00.0472Z\",\"2022-02-18T15:13:01.8883Z\",\"2022-02-18T15:14:01.967Z\",\"2022-02-18T15:15:00.5796Z\",\"2022-02-18T15:16:00.1508Z\",\"2022-02-18T15:17:00.3246Z\",\"2022-02-18T15:18:00.1489Z\",\"2022-02-18T15:19:00.6013Z\",\"2022-02-18T15:20:00.5028Z\",\"2022-02-18T15:21:00.6969Z\",\"2022-02-18T15:22:00.4036Z\",\"2022-02-18T15:23:00.318Z\",\"2022-02-18T15:24:00.1579Z\",\"2022-02-18T15:25:01.9438Z\",\"2022-02-18T15:26:05.6695Z\",\"2022-02-18T15:27:00.0492Z\",\"2022-02-18T15:28:00.489Z\",\"2022-02-18T15:29:00.4156Z\",\"2022-02-18T15:30:00.8291Z\",\"2022-02-18T15:31:00.4575Z\",\"2022-02-18T15:32:00.3638Z\",\"2022-02-18T15:33:00.0303Z\",\"2022-02-18T15:34:00.2365Z\",\"2022-02-18T15:35:00.448Z\",\"2022-02-18T15:36:00.8436Z\",\"2022-02-18T15:37:00.1438Z\",\"2022-02-18T15:38:00.0259Z\",\"2022-02-18T15:39:00.0448Z\",\"2022-02-18T15:40:00.3389Z\",\"2022-02-18T15:41:01.899Z\",\"2022-02-18T15:42:00.4202Z\",\"2022-02-18T15:43:00.4664Z\",\"2022-02-18T15:44:00.0355Z\",\"2022-02-18T15:45:00.051Z\",\"2022-02-18T15:46:00.8996Z\",\"2022-02-18T15:47:00.0557Z\",\"2022-02-18T15:48:01.3618Z\",\"2022-02-18T15:49:00.2933Z\",\"2022-02-18T15:50:00.5764Z\",\"2022-02-18T15:51:00.0399Z\",\"2022-02-18T15:52:00.0406Z\",\"2022-02-18T15:53:02.6976Z\",\"2022-02-18T15:54:00.6822Z\",\"2022-02-18T15:55:00.197Z\",\"2022-02-18T15:56:00.4329Z\",\"2022-02-18T15:57:00.0508Z\",\"2022-02-18T15:58:01.5625Z\",\"2022-02-18T15:59:00.1808Z\",\"2022-02-18T16:00:00.0419Z\",\"2022-02-18T16:01:00.3392Z\",\"2022-02-18T16:02:00.3328Z\",\"2022-02-18T16:03:00.1208Z\",\"2022-02-18T16:04:00.7056Z\",\"2022-02-18T16:05:00.0563Z\",\"2022-02-18T16:06:00.0487Z\",\"2022-02-18T16:07:00.452Z\",\"2022-02-18T16:08:00.0386Z\",\"2022-02-18T16:09:01.6379Z\",\"2022-02-18T16:10:00.8646Z\",\"2022-02-18T16:11:00.1465Z\",\"2022-02-18T16:12:03.7497Z\",\"2022-02-18T16:13:00.0305Z\",\"2022-02-18T16:14:04.004Z\",\"2022-02-18T16:15:00.2407Z\",\"2022-02-18T16:16:00.9446Z\",\"2022-02-18T16:17:00.6174Z\",\"2022-02-18T16:18:00.1658Z\",\"2022-02-18T16:19:00.0847Z\",\"2022-02-18T16:20:03.6044Z\",\"2022-02-18T16:21:00.3018Z\",\"2022-02-18T16:22:02.1341Z\",\"2022-02-18T16:23:01.7157Z\",\"2022-02-18T16:24:01.1671Z\",\"2022-02-18T16:25:00.2084Z\",\"2022-02-18T16:26:01.1882Z\",\"2022-02-18T16:27:00.0783Z\",\"2022-02-18T16:28:00.0721Z\",\"2022-02-18T16:29:01.1636Z\",\"2022-02-18T16:30:00.064Z\",\"2022-02-18T16:31:00.0581Z\",\"2022-02-18T16:32:01.1899Z\",\"2022-02-18T16:33:04.8637Z\",\"2022-02-18T16:34:00.3491Z\",\"2022-02-18T16:35:00.0649Z\",\"2022-02-18T16:36:03.0277Z\",\"2022-02-18T16:37:00.0386Z\",\"2022-02-18T16:38:00.2608Z\",\"2022-02-18T16:39:01.0108Z\",\"2022-02-18T16:40:00.454Z\",\"2022-02-18T16:41:00.4175Z\",\"2022-02-18T16:42:00.4346Z\",\"2022-02-18T16:43:02.1959Z\",\"2022-02-18T16:44:00.585Z\",\"2022-02-18T16:45:00.5445Z\",\"2022-02-18T16:46:00.2101Z\",\"2022-02-18T16:47:00.1873Z\",\"2022-02-18T16:48:01.0969Z\",\"2022-02-18T16:49:01.8941Z\",\"2022-02-18T16:50:00.044Z\",\"2022-02-18T16:51:00.21Z\",\"2022-02-18T16:52:00.0903Z\",\"2022-02-18T16:53:00.6974Z\",\"2022-02-18T16:54:00.1558Z\",\"2022-02-18T16:55:00.4867Z\",\"2022-02-18T16:56:01.7721Z\",\"2022-02-18T16:57:00.5376Z\",\"2022-02-18T16:58:00.7886Z\",\"2022-02-18T16:59:00.9961Z\",\"2022-02-18T17:00:00.0817Z\",\"2022-02-18T17:01:00.0451Z\",\"2022-02-18T17:02:00.7035Z\",\"2022-02-18T17:03:00.1671Z\",\"2022-02-18T17:04:00.9339Z\",\"2022-02-18T17:05:00.0404Z\",\"2022-02-18T17:06:00.1267Z\",\"2022-02-18T17:07:00.0395Z\",\"2022-02-18T17:08:00.4397Z\",\"2022-02-18T17:09:00.3668Z\",\"2022-02-18T17:10:00.2562Z\",\"2022-02-18T17:11:02.6984Z\",\"2022-02-18T17:12:00.1787Z\",\"2022-02-18T17:13:00.0576Z\",\"2022-02-18T17:14:00.2312Z\",\"2022-02-18T17:15:00.6407Z\",\"2022-02-18T17:16:02.8291Z\",\"2022-02-18T17:17:00.1809Z\",\"2022-02-18T17:18:00.4491Z\",\"2022-02-18T17:19:01.2308Z\",\"2022-02-18T17:20:02.7674Z\",\"2022-02-18T17:21:00.9381Z\",\"2022-02-18T17:22:00.1553Z\",\"2022-02-18T17:23:00.3036Z\",\"2022-02-18T17:24:00.0466Z\",\"2022-02-18T17:25:00.3667Z\",\"2022-02-18T17:26:00.2528Z\",\"2022-02-18T17:27:00.2763Z\",\"2022-02-18T17:28:00.3704Z\",\"2022-02-18T17:29:00.3136Z\",\"2022-02-18T17:30:00.073Z\",\"2022-02-18T17:31:00.2094Z\",\"2022-02-18T17:32:00.4888Z\",\"2022-02-18T17:33:00.1743Z\",\"2022-02-18T17:34:00.8716Z\",\"2022-02-18T17:35:00.5178Z\",\"2022-02-18T17:36:01.0301Z\",\"2022-02-18T17:37:00.3277Z\",\"2022-02-18T17:38:00.725Z\",\"2022-02-18T17:39:00.9831Z\",\"2022-02-18T17:40:00.2051Z\",\"2022-02-18T17:41:00.0015Z\",\"2022-02-18T17:42:00.2596Z\",\"2022-02-18T17:43:00.173Z\",\"2022-02-18T17:44:00.0469Z\",\"2022-02-18T17:45:00.0521Z\",\"2022-02-18T17:46:00.1166Z\",\"2022-02-18T17:47:00.2814Z\",\"2022-02-18T17:48:02.1191Z\",\"2022-02-18T17:49:00.9365Z\",\"2022-02-18T17:50:00.5027Z\",\"2022-02-18T17:51:00.2317Z\",\"2022-02-18T17:52:02.0242Z\",\"2022-02-18T17:53:01.9721Z\",\"2022-02-18T17:54:00.3621Z\",\"2022-02-18T17:55:01.532Z\",\"2022-02-18T17:56:01.1178Z\",\"2022-02-18T17:57:00.0132Z\",\"2022-02-18T17:58:00.1419Z\",\"2022-02-18T17:59:00.3305Z\",\"2022-02-18T18:00:00.0415Z\",\"2022-02-18T18:01:00.1561Z\",\"2022-02-18T18:02:00.4444Z\",\"2022-02-18T18:03:00.8067Z\",\"2022-02-18T18:04:00.0453Z\",\"2022-02-18T18:05:00.2542Z\",\"2022-02-18T18:06:00.1625Z\",\"2022-02-18T18:07:00.083Z\",\"2022-02-18T18:08:00.9908Z\",\"2022-02-18T18:09:00.0572Z\",\"2022-02-18T18:10:00.3246Z\",\"2022-02-18T18:11:00.29Z\",\"2022-02-18T18:12:00.0058Z\",\"2022-02-18T18:13:01.5121Z\",\"2022-02-18T18:14:00.5221Z\",\"2022-02-18T18:15:00.1974Z\",\"2022-02-18T18:16:00.1199Z\",\"2022-02-18T18:17:00.3549Z\",\"2022-02-18T18:18:01.2511Z\",\"2022-02-18T18:19:00.1536Z\",\"2022-02-18T18:20:03.8261Z\",\"2022-02-18T18:21:01.1975Z\",\"2022-02-18T18:22:01.5871Z\",\"2022-02-18T18:23:00.133Z\",\"2022-02-18T18:24:00.3561Z\",\"2022-02-18T18:25:00.5433Z\",\"2022-02-18T18:26:02.361Z\",\"2022-02-18T18:27:01.9328Z\",\"2022-02-18T18:28:00.4134Z\",\"2022-02-18T18:29:00.021Z\",\"2022-02-18T18:30:01.3254Z\",\"2022-02-18T18:31:01.0707Z\",\"2022-02-18T18:32:00.03Z\",\"2022-02-18T18:33:00.043Z\",\"2022-02-18T18:34:00.9831Z\",\"2022-02-18T18:35:03.0079Z\",\"2022-02-18T18:36:00.9242Z\",\"2022-02-18T18:37:00.4293Z\",\"2022-02-18T18:38:01.0212Z\",\"2022-02-18T18:39:00.0471Z\",\"2022-02-18T18:40:00.8115Z\",\"2022-02-18T18:41:00.1864Z\",\"2022-02-18T18:42:01.0347Z\",\"2022-02-18T18:43:02.5654Z\",\"2022-02-18T18:44:00.0484Z\",\"2022-02-18T18:45:00.0676Z\",\"2022-02-18T18:46:00.6786Z\",\"2022-02-18T18:47:01.014Z\",\"2022-02-18T18:48:00.1367Z\",\"2022-02-18T18:49:00.1237Z\",\"2022-02-18T18:50:00.2096Z\",\"2022-02-18T18:51:00.5316Z\",\"2022-02-18T18:52:00.412Z\",\"2022-02-18T18:53:00.1627Z\",\"2022-02-18T18:54:01.0386Z\",\"2022-02-18T18:55:00.0507Z\",\"2022-02-18T18:56:01.8637Z\",\"2022-02-18T18:57:00.9256Z\",\"2022-02-18T18:58:00.1797Z\",\"2022-02-18T18:59:01.9507Z\",\"2022-02-18T19:00:00.7329Z\",\"2022-02-18T19:01:00.2151Z\",\"2022-02-18T19:02:00.6213Z\",\"2022-02-18T19:03:00.562Z\",\"2022-02-18T19:04:00.3026Z\",\"2022-02-18T19:05:00.9528Z\",\"2022-02-18T19:06:01.4983Z\",\"2022-02-18T19:07:00.7825Z\",\"2022-02-18T19:08:00.0606Z\",\"2022-02-18T19:09:00.0601Z\",\"2022-02-18T19:10:00.8098Z\",\"2022-02-18T19:11:00.0999Z\",\"2022-02-18T19:12:03.6972Z\",\"2022-02-18T19:13:00.7289Z\",\"2022-02-18T19:14:01.4029Z\",\"2022-02-18T19:15:01.5981Z\",\"2022-02-18T19:16:00.0666Z\",\"2022-02-18T19:17:00.916Z\",\"2022-02-18T19:18:00.1634Z\",\"2022-02-18T19:19:01.2542Z\",\"2022-02-18T19:20:00.954Z\",\"2022-02-18T19:21:00.0693Z\",\"2022-02-18T19:22:00.0769Z\",\"2022-02-18T19:23:03.0173Z\",\"2022-02-18T19:24:01.0718Z\",\"2022-02-18T19:25:00.6753Z\",\"2022-02-18T19:26:00.0745Z\",\"2022-02-18T19:27:01.2053Z\",\"2022-02-18T19:28:00.0866Z\",\"2022-02-18T19:29:00.067Z\",\"2022-02-18T19:30:00.5663Z\",\"2022-02-18T19:31:02.6655Z\",\"2022-02-18T19:32:00.0777Z\",\"2022-02-18T19:33:01.2188Z\",\"2022-02-18T19:34:00.4184Z\",\"2022-02-18T19:35:00.0453Z\",\"2022-02-18T19:36:00.5791Z\",\"2022-02-18T19:37:00.1824Z\",\"2022-02-18T19:38:00.2986Z\",\"2022-02-18T19:39:00.3612Z\",\"2022-02-18T19:40:00.3373Z\",\"2022-02-18T19:41:00.5931Z\",\"2022-02-18T19:42:00.4322Z\",\"2022-02-18T19:43:00.4516Z\",\"2022-02-18T19:44:00.1591Z\",\"2022-02-18T19:45:00.1492Z\",\"2022-02-18T19:46:00.0326Z\",\"2022-02-18T19:47:00.9903Z\",\"2022-02-18T19:48:01.4398Z\",\"2022-02-18T19:49:00.0346Z\",\"2022-02-18T19:50:00.0387Z\",\"2022-02-18T19:51:00.1456Z\",\"2022-02-18T19:52:00.4523Z\",\"2022-02-18T19:53:03.12Z\",\"2022-02-18T19:54:00.0096Z\",\"2022-02-18T19:55:00.7078Z\",\"2022-02-18T19:56:00.0436Z\",\"2022-02-18T19:57:01.0936Z\",\"2022-02-18T19:58:00.1809Z\",\"2022-02-18T19:59:00.0516Z\",\"2022-02-18T19:59:59.0195Z\"],\"y\":[169.81,169.81,169.85,169.87,169.88,169.88666666666666,169.90285714285713,169.915,169.92444444444445,169.932,169.93818181818182,169.94333333333333,169.94769230769228,169.95142857142855,169.95466666666664,169.95562499999997,169.95411764705878,169.95277777777773,169.95157894736838,169.95049999999995,169.9523809523809,169.95409090909087,169.955652173913,169.95708333333326,169.95839999999993,169.95961538461532,169.96259259259253,169.9639285714285,169.96517241379303,169.96633333333327,169.9683870967741,169.97031249999992,169.97212121212112,169.97382352941167,169.97542857142847,169.97694444444434,169.97837837837827,169.97973684210515,169.98102564102552,169.98224999999988,169.98341463414621,169.9845238095237,169.98627906976733,169.98795454545444,169.98955555555546,169.99108695652166,169.9925531914893,169.99395833333327,169.9953061224489,169.99659999999992,169.99830196078423,169.99993717800837,170.00150826906685,170.00262559184853,170.00213047059955,170.00165476587014,170.0004134025027,169.99804424946336,169.9934150632099,169.98896741367227,169.98469418176356,169.9829414687532,169.9836104307629,169.98346884524278,169.98215634150776,169.98089530850746,169.97968372778166,169.979303973751,169.97893911203528,169.9730983625437,169.95807489734594,169.94246411705788,169.93138709285955,169.9215287754925,169.90774333331635,169.8917533986765,169.87874346147353,169.86349861984712,169.84924377201,169.83829303585276,169.82777174032913,169.81021206423782,169.79138021858142,169.76858099432332,169.74706801415377,169.72443789595167,169.69524425297317,169.66954839991539,169.64564454109518,169.619932990464,169.59483757907327,169.57033414459983,169.5448308448116,169.51601394893663,169.49028791172344,169.47223740538135,169.4517575071311,169.4320807421456,169.41592071304183,169.40549244978527,169.39312019685252,169.38162528717203,169.37058115826332,169.36271523048828,169.35437345674364,169.34361371334194,169.33209945007363,169.32103672654134,169.31040783530443,169.3017643907827,169.29345990486965,169.292932065463,169.29360139622915,169.29777389049468,169.30099844380862,169.30409654405145,169.30668099330435,169.31426213082185,169.31958518451512,169.32469949100474,169.32686813841633,169.32934389769414,169.33799707817673,169.34356582020902,169.35362206255377,169.3605388444144,169.36326281130013,169.36391917164133,169.36415763549854,169.36595537528294,169.36101594880125,169.35627022531884,169.35092629491416,169.34579193040773,169.34752558019568,169.34683830254096,169.34696229067663,169.3482578871207,169.34832620527283,169.34956831487,169.34644798879665,169.3391363029615,169.3376015459826,169.3369112892774,169.33428731714886,169.35098193216263,169.36427675835233,169.3935208070444,169.40475528519954,169.42064723479956,169.4500336177486,169.47591465234672,169.48783956794097,169.49537527115896,169.50026251542724,169.49789927952816,169.4854326411153,169.47933724342448,169.46759852799607,169.44632015434917,169.4225428933943,169.39107062306513,169.35063648098415,169.312964462122,169.2697109538035,169.2316830732622,169.19946020764405,169.17477549361882,169.14164704288868,169.1078569627754,169.07892139560772,169.05112055656429,169.0275472014049,169.0162708405655,169.01092688603353,169.00147877285576,168.99789136999868,168.99601327705756,168.9914637367808,168.99258280592665,168.9799324998119,168.9642488723683,168.94996460286367,168.93349540275136,168.92512303401602,168.91786330719188,168.90422160887064,168.88915409479728,168.874285306766,168.85843098101049,168.84594349155913,168.826886884047,168.80779328075104,168.79023275993728,168.780419710528,168.7792267807034,168.77023749518563,168.76826739733522,168.76088436214562,168.75692811264972,168.75704857882033,168.74892902670976,168.73602984919174,168.7240286786352,168.71367461280636,168.7041187456375,168.70199644188702,168.69603579710716,168.687171648201,168.67904726984017,168.65869247494447,168.63090061318195,168.59910058913562,168.57364566407148,168.5499732850883,168.5272292346927,168.50459279411652,168.48245190022962,168.46235574727945,168.43677316895477,168.40748794664282,168.38170410559803,168.3604608073393,168.34357999136523,168.33167489366465,168.324158231168,168.32203437896536,168.31450361900593,168.30491524179,168.2906048401512,168.27607131700802,168.26093126536065,168.25305160789554,168.24548095660552,168.24056013477787,168.23465581576698,168.23408107789376,168.22921515327047,168.21944201000497,168.21318938216163,168.20404470050823,168.19682726127263,168.18597129024235,168.15985476905638,168.13240948399536,168.11192283756415,168.09263174589498,168.0776265793893,168.05889612529558,168.0381551007742,168.01312941054775,167.99379100229098,167.97874037475015,167.959966242407,167.94702638976358,167.9279273156552,167.91624389151187,167.9097284447859,167.90228811361783,167.8982768150446,167.90403066543502,167.91014710992778,167.9187687918914,167.92430727064078,167.9280599266941,167.9383320864316,167.944279847748,167.95077867724808,167.95859127814032,167.96452887507598,167.96591989958281,167.97313872705016,167.9777215220678,167.97585008982986,167.97640498826792,167.97458518480644,167.97911125599052,167.98502846163797,167.99541950235806,168.00226579638323,168.00962792201526,168.02258368977937,168.0291490352782,168.03192750448298,168.03420485724837,168.03678505892492,168.04044054681023,168.04552130968042,168.0445204740067,168.03806869071235,168.0303012910766,168.01891692672064,168.00837116488844,167.99627817803005,167.98230648477397,167.97084348537106,167.95865354476828,167.9367455626205,167.9109908346746,167.8870304097854,167.86753902116638,167.84567474582653,167.8262365205,167.80403116675492,167.78269661119592,167.76612027350197,167.74862536081562,167.73416946431306,167.7191039951243,167.7128646227665,167.70843855912858,167.70497038033923,167.698893110522,167.69226985128583,167.68786711201972,167.68285271546992,167.67960358937304,167.69020737018195,167.69882668899837,167.70514721099843,167.71357281056714,167.71460917093708,167.7159970465866,167.71536971142635,167.71241403646846,167.71310368209714,167.71062902789726,167.7074671052346,167.70756643444108,167.70766186838455,167.7003025794283,167.6944083606272,167.6860001896222,167.67164724100957,167.6582493099896,167.64537678802924,167.6275188747732,167.60094950713506,167.57542207548272,167.55168003330695,167.52808473788315,167.50835592463284,167.4888125550394,167.4716042195477,167.44958052466345,167.42371462173546,167.40396110715758,167.382237142171,167.36607097973294,167.34779368641006,167.32552726733516,167.3088399235181,167.29476776965464,167.28085530809955,167.2659198058211,167.24607981343595,167.23290021290904,167.21788451828516,167.19992826266613,167.1791467621694,167.15604296757454,167.13580598845397,167.11440183204402,167.0989350935325,167.0813297957469,167.0620619606196,167.03845168765412,167.01792417049123,167.00349577164843,166.98924103550536,166.9712315831326,166.95000681516663,166.9300065479052,166.9096141342619,166.8876684819379,166.87089716892075,166.85007767210033,166.82772168495916,166.80781103064706,166.78789687258248,166.76562640699103,166.74971948906983,166.73561284243965,166.72402018195183,166.7183723316792,166.70824008337806,166.69654439383382,166.6833465744678,166.67066631664554,166.65848332383592,166.64481731113648,166.6352166322684,166.6283453917873,166.6197828274035,166.6127325204465,166.6016449706251,166.59844320707117,166.5926219048331,166.59095045758474,166.59601122395395,166.60048137203418,166.6020311221505,166.60195147030146,166.6014827851916,166.6029932642037,166.6075817636467,166.61904914546446,166.63398839466194,166.64834179094973,166.66330877953996,166.6816103960286,166.69762567461572,166.71301290306218,166.72975749509897,166.74937484823235,166.766262109086,166.77895771265128,166.79272407686105,166.80634274051357,166.8166822408856,166.82622411379205,166.84480356031003,166.85912498931748,166.8721004799325,166.88574359836653,166.90042031999923,166.91020775843063,166.92078784633532,166.9336981268712,166.94414133758215,166.9537828537554,166.9630462712552,166.97155426061775,166.9785521327504,166.98331479421117,166.98867499835976,167.00323676312996,167.01565885085037,167.02837811160134,167.04373583271502,167.06005991770658,167.07731246995337,167.09310413779835,167.114943191218,167.1414160072487,167.1644977324546,167.18549782137794,167.2072430048533,167.23911582819238,167.27052305061622,167.30560057804303,167.34930251615899,167.39168280964293,167.4324011308334,167.47191481197717,167.5102710938604,167.54359379606197,167.57835482366738,167.61057620313142,167.63565164614587,167.6530770717872,167.67334855916812,167.69439371371055,167.71049592101602,167.7230254927409,167.73780880675108,167.7508359123687,167.75982273933465,167.76806498485095,167.76931733838623,167.7716970506064,167.77594422509245,167.78041700057904,167.7858908436936,167.80918924198014,167.83353476190248,167.85496477123965,167.86849556452438,167.88345652277832,167.90018371796347],\"mode\":\"lines\",\"name\":\"50-points EMA\"},{\"type\":\"scattergl\",\"x\":[\"2022-02-18T12:02:30.1796Z\",\"2022-02-18T12:02:30.1796Z\",\"2022-02-18T12:04:52.1222Z\",\"2022-02-18T12:04:52.1222Z\",\"2022-02-18T12:06:07.8669Z\",\"2022-02-18T12:06:07.8669Z\",\"2022-02-18T12:15:16.1606Z\",\"2022-02-18T12:15:16.1606Z\",\"2022-02-18T12:15:16.1606Z\",\"2022-02-18T12:15:16.1606Z\",\"2022-02-18T12:15:16.1606Z\",\"2022-02-18T12:15:16.1606Z\",\"2022-02-18T12:15:16.1606Z\",\"2022-02-18T12:15:16.1606Z\",\"2022-02-18T12:15:16.1606Z\",\"2022-02-18T12:16:22.475Z\",\"2022-02-18T12:20:57.4042Z\",\"2022-02-18T12:20:57.4042Z\",\"2022-02-18T12:20:57.4042Z\",\"2022-02-18T12:20:57.4042Z\",\"2022-02-18T12:26:52.8925Z\",\"2022-02-18T12:26:52.8925Z\",\"2022-02-18T12:26:52.8925Z\",\"2022-02-18T12:26:52.8925Z\",\"2022-02-18T12:26:52.8925Z\",\"2022-02-18T12:26:52.8925Z\",\"2022-02-18T12:27:20.9579Z\",\"2022-02-18T12:28:13.7387Z\",\"2022-02-18T12:30:02.232Z\",\"2022-02-18T12:30:02.232Z\",\"2022-02-18T12:32:45.2367Z\",\"2022-02-18T12:32:45.2367Z\",\"2022-02-18T12:42:36.5051Z\",\"2022-02-18T12:42:36.5051Z\",\"2022-02-18T12:42:36.5051Z\",\"2022-02-18T12:42:36.5051Z\",\"2022-02-18T12:42:36.5051Z\",\"2022-02-18T12:42:36.5051Z\",\"2022-02-18T12:42:36.5051Z\",\"2022-02-18T12:42:36.5051Z\",\"2022-02-18T12:42:36.5051Z\",\"2022-02-18T12:42:36.5051Z\",\"2022-02-18T12:48:51.0231Z\",\"2022-02-18T12:48:51.0231Z\",\"2022-02-18T12:48:51.0231Z\",\"2022-02-18T12:48:51.0231Z\",\"2022-02-18T12:48:51.0231Z\",\"2022-02-18T12:48:51.0231Z\",\"2022-02-18T12:50:43.0792Z\",\"2022-02-18T12:50:43.0792Z\",\"2022-02-18T12:53:20.298Z\",\"2022-02-18T12:53:20.298Z\",\"2022-02-18T12:53:20.298Z\",\"2022-02-18T12:54:36.8801Z\",\"2022-02-18T12:55:54.9804Z\",\"2022-02-18T12:56:35.7423Z\",\"2022-02-18T12:57:41.7356Z\",\"2022-02-18T12:58:23.5701Z\",\"2022-02-18T13:01:28.3917Z\",\"2022-02-18T13:01:28.3917Z\",\"2022-02-18T13:01:28.3917Z\",\"2022-02-18T13:02:09.6535Z\",\"2022-02-18T13:03:20.0713Z\",\"2022-02-18T13:04:12.1663Z\",\"2022-02-18T13:07:15.05Z\",\"2022-02-18T13:07:15.05Z\",\"2022-02-18T13:07:15.05Z\",\"2022-02-18T13:09:07.4503Z\",\"2022-02-18T13:09:07.4503Z\",\"2022-02-18T13:10:14.7432Z\",\"2022-02-18T13:11:07.0203Z\",\"2022-02-18T13:12:24.2175Z\",\"2022-02-18T13:13:11.1026Z\",\"2022-02-18T13:14:16.1957Z\",\"2022-02-18T13:15:07.2142Z\",\"2022-02-18T13:16:21.4848Z\",\"2022-02-18T13:17:12.3438Z\",\"2022-02-18T13:18:11.0805Z\",\"2022-02-18T13:19:41.7073Z\",\"2022-02-18T13:21:03.6987Z\",\"2022-02-18T13:21:03.6987Z\",\"2022-02-18T13:22:08.5945Z\",\"2022-02-18T13:23:16.444Z\",\"2022-02-18T13:24:06.2841Z\",\"2022-02-18T13:25:39.9145Z\",\"2022-02-18T13:26:10.9593Z\",\"2022-02-18T13:27:02.4703Z\",\"2022-02-18T13:28:12.3869Z\",\"2022-02-18T13:29:15.1486Z\",\"2022-02-18T13:30:55.2173Z\",\"2022-02-18T13:31:08.4791Z\",\"2022-02-18T13:32:51.9778Z\",\"2022-02-18T13:33:01.1537Z\",\"2022-02-18T13:34:45.3542Z\",\"2022-02-18T13:35:24.696Z\",\"2022-02-18T13:36:16.8407Z\",\"2022-02-18T13:38:17.3437Z\",\"2022-02-18T13:38:17.3437Z\",\"2022-02-18T13:39:27.3322Z\",\"2022-02-18T13:40:46.1205Z\",\"2022-02-18T13:41:05.6894Z\",\"2022-02-18T13:43:43.408Z\",\"2022-02-18T13:43:43.408Z\",\"2022-02-18T13:44:09.3654Z\",\"2022-02-18T13:45:04.0956Z\",\"2022-02-18T13:46:02.55Z\",\"2022-02-18T13:48:07.4297Z\",\"2022-02-18T13:48:07.4297Z\",\"2022-02-18T13:49:32.1737Z\",\"2022-02-18T13:51:12.4693Z\",\"2022-02-18T13:51:12.4693Z\",\"2022-02-18T13:52:42.9699Z\",\"2022-02-18T13:53:09.4433Z\",\"2022-02-18T13:54:35.4883Z\",\"2022-02-18T13:56:12.2059Z\",\"2022-02-18T13:56:12.2059Z\",\"2022-02-18T13:57:11.8987Z\",\"2022-02-18T13:58:23.6761Z\",\"2022-02-18T13:59:34.4502Z\",\"2022-02-18T14:00:08.8701Z\",\"2022-02-18T14:01:03.7621Z\",\"2022-02-18T14:02:09.6944Z\",\"2022-02-18T14:03:07.6644Z\",\"2022-02-18T14:04:09.2581Z\",\"2022-02-18T14:05:03.1376Z\",\"2022-02-18T14:06:18.7915Z\",\"2022-02-18T14:07:52.1633Z\",\"2022-02-18T14:08:39.1547Z\",\"2022-02-18T14:09:59.2839Z\",\"2022-02-18T14:10:01.4086Z\",\"2022-02-18T14:11:53.457Z\",\"2022-02-18T14:12:09.9873Z\",\"2022-02-18T14:14:49.3502Z\",\"2022-02-18T14:14:49.3502Z\",\"2022-02-18T14:15:03.4267Z\",\"2022-02-18T14:16:39.1687Z\",\"2022-02-18T14:17:57.9342Z\",\"2022-02-18T14:18:20.8559Z\",\"2022-02-18T14:19:01.4907Z\",\"2022-02-18T14:20:02.9097Z\",\"2022-02-18T14:21:53.2799Z\",\"2022-02-18T14:22:52.9737Z\",\"2022-02-18T14:23:24.9637Z\",\"2022-02-18T14:24:08.8351Z\",\"2022-02-18T14:25:00.2067Z\",\"2022-02-18T14:26:00.0596Z\",\"2022-02-18T14:27:00.0333Z\",\"2022-02-18T14:28:00.1794Z\",\"2022-02-18T14:29:14.0551Z\",\"2022-02-18T14:30:00.0274Z\",\"2022-02-18T14:31:00.0566Z\",\"2022-02-18T14:32:00.8638Z\",\"2022-02-18T14:33:00.0512Z\",\"2022-02-18T14:34:00.5132Z\",\"2022-02-18T14:35:00.7343Z\",\"2022-02-18T14:36:00.2937Z\",\"2022-02-18T14:37:00.0347Z\",\"2022-02-18T14:38:00.11Z\",\"2022-02-18T14:39:00.8473Z\",\"2022-02-18T14:40:00.1223Z\",\"2022-02-18T14:41:00.122Z\",\"2022-02-18T14:42:00.2688Z\",\"2022-02-18T14:43:00.9674Z\",\"2022-02-18T14:44:00.3447Z\",\"2022-02-18T14:45:00.0849Z\",\"2022-02-18T14:46:00.26Z\",\"2022-02-18T14:47:01.9508Z\",\"2022-02-18T14:48:00.0439Z\",\"2022-02-18T14:49:00.1126Z\",\"2022-02-18T14:50:00.0322Z\",\"2022-02-18T14:51:00.0823Z\",\"2022-02-18T14:52:00.2604Z\",\"2022-02-18T14:53:00.9866Z\",\"2022-02-18T14:54:00.0386Z\",\"2022-02-18T14:55:00.2795Z\",\"2022-02-18T14:56:00.0342Z\",\"2022-02-18T14:57:00.0667Z\",\"2022-02-18T14:58:00.0271Z\",\"2022-02-18T14:59:00.3527Z\",\"2022-02-18T15:00:00.0302Z\",\"2022-02-18T15:01:00.3707Z\",\"2022-02-18T15:02:00.0237Z\",\"2022-02-18T15:03:00.1106Z\",\"2022-02-18T15:04:00.2506Z\",\"2022-02-18T15:05:00.1291Z\",\"2022-02-18T15:06:00.6934Z\",\"2022-02-18T15:07:00.9473Z\",\"2022-02-18T15:08:02.9857Z\",\"2022-02-18T15:09:00.0114Z\",\"2022-02-18T15:10:00.0599Z\",\"2022-02-18T15:11:02.7341Z\",\"2022-02-18T15:12:00.0472Z\",\"2022-02-18T15:13:01.8883Z\",\"2022-02-18T15:14:01.967Z\",\"2022-02-18T15:15:00.5796Z\",\"2022-02-18T15:16:00.1508Z\",\"2022-02-18T15:17:00.3246Z\",\"2022-02-18T15:18:00.1489Z\",\"2022-02-18T15:19:00.6013Z\",\"2022-02-18T15:20:00.5028Z\",\"2022-02-18T15:21:00.6969Z\",\"2022-02-18T15:22:00.4036Z\",\"2022-02-18T15:23:00.318Z\",\"2022-02-18T15:24:00.1579Z\",\"2022-02-18T15:25:01.9438Z\",\"2022-02-18T15:26:05.6695Z\",\"2022-02-18T15:27:00.0492Z\",\"2022-02-18T15:28:00.489Z\",\"2022-02-18T15:29:00.4156Z\",\"2022-02-18T15:30:00.8291Z\",\"2022-02-18T15:31:00.4575Z\",\"2022-02-18T15:32:00.3638Z\",\"2022-02-18T15:33:00.0303Z\",\"2022-02-18T15:34:00.2365Z\",\"2022-02-18T15:35:00.448Z\",\"2022-02-18T15:36:00.8436Z\",\"2022-02-18T15:37:00.1438Z\",\"2022-02-18T15:38:00.0259Z\",\"2022-02-18T15:39:00.0448Z\",\"2022-02-18T15:40:00.3389Z\",\"2022-02-18T15:41:01.899Z\",\"2022-02-18T15:42:00.4202Z\",\"2022-02-18T15:43:00.4664Z\",\"2022-02-18T15:44:00.0355Z\",\"2022-02-18T15:45:00.051Z\",\"2022-02-18T15:46:00.8996Z\",\"2022-02-18T15:47:00.0557Z\",\"2022-02-18T15:48:01.3618Z\",\"2022-02-18T15:49:00.2933Z\",\"2022-02-18T15:50:00.5764Z\",\"2022-02-18T15:51:00.0399Z\",\"2022-02-18T15:52:00.0406Z\",\"2022-02-18T15:53:02.6976Z\",\"2022-02-18T15:54:00.6822Z\",\"2022-02-18T15:55:00.197Z\",\"2022-02-18T15:56:00.4329Z\",\"2022-02-18T15:57:00.0508Z\",\"2022-02-18T15:58:01.5625Z\",\"2022-02-18T15:59:00.1808Z\",\"2022-02-18T16:00:00.0419Z\",\"2022-02-18T16:01:00.3392Z\",\"2022-02-18T16:02:00.3328Z\",\"2022-02-18T16:03:00.1208Z\",\"2022-02-18T16:04:00.7056Z\",\"2022-02-18T16:05:00.0563Z\",\"2022-02-18T16:06:00.0487Z\",\"2022-02-18T16:07:00.452Z\",\"2022-02-18T16:08:00.0386Z\",\"2022-02-18T16:09:01.6379Z\",\"2022-02-18T16:10:00.8646Z\",\"2022-02-18T16:11:00.1465Z\",\"2022-02-18T16:12:03.7497Z\",\"2022-02-18T16:13:00.0305Z\",\"2022-02-18T16:14:04.004Z\",\"2022-02-18T16:15:00.2407Z\",\"2022-02-18T16:16:00.9446Z\",\"2022-02-18T16:17:00.6174Z\",\"2022-02-18T16:18:00.1658Z\",\"2022-02-18T16:19:00.0847Z\",\"2022-02-18T16:20:03.6044Z\",\"2022-02-18T16:21:00.3018Z\",\"2022-02-18T16:22:02.1341Z\",\"2022-02-18T16:23:01.7157Z\",\"2022-02-18T16:24:01.1671Z\",\"2022-02-18T16:25:00.2084Z\",\"2022-02-18T16:26:01.1882Z\",\"2022-02-18T16:27:00.0783Z\",\"2022-02-18T16:28:00.0721Z\",\"2022-02-18T16:29:01.1636Z\",\"2022-02-18T16:30:00.064Z\",\"2022-02-18T16:31:00.0581Z\",\"2022-02-18T16:32:01.1899Z\",\"2022-02-18T16:33:04.8637Z\",\"2022-02-18T16:34:00.3491Z\",\"2022-02-18T16:35:00.0649Z\",\"2022-02-18T16:36:03.0277Z\",\"2022-02-18T16:37:00.0386Z\",\"2022-02-18T16:38:00.2608Z\",\"2022-02-18T16:39:01.0108Z\",\"2022-02-18T16:40:00.454Z\",\"2022-02-18T16:41:00.4175Z\",\"2022-02-18T16:42:00.4346Z\",\"2022-02-18T16:43:02.1959Z\",\"2022-02-18T16:44:00.585Z\",\"2022-02-18T16:45:00.5445Z\",\"2022-02-18T16:46:00.2101Z\",\"2022-02-18T16:47:00.1873Z\",\"2022-02-18T16:48:01.0969Z\",\"2022-02-18T16:49:01.8941Z\",\"2022-02-18T16:50:00.044Z\",\"2022-02-18T16:51:00.21Z\",\"2022-02-18T16:52:00.0903Z\",\"2022-02-18T16:53:00.6974Z\",\"2022-02-18T16:54:00.1558Z\",\"2022-02-18T16:55:00.4867Z\",\"2022-02-18T16:56:01.7721Z\",\"2022-02-18T16:57:00.5376Z\",\"2022-02-18T16:58:00.7886Z\",\"2022-02-18T16:59:00.9961Z\",\"2022-02-18T17:00:00.0817Z\",\"2022-02-18T17:01:00.0451Z\",\"2022-02-18T17:02:00.7035Z\",\"2022-02-18T17:03:00.1671Z\",\"2022-02-18T17:04:00.9339Z\",\"2022-02-18T17:05:00.0404Z\",\"2022-02-18T17:06:00.1267Z\",\"2022-02-18T17:07:00.0395Z\",\"2022-02-18T17:08:00.4397Z\",\"2022-02-18T17:09:00.3668Z\",\"2022-02-18T17:10:00.2562Z\",\"2022-02-18T17:11:02.6984Z\",\"2022-02-18T17:12:00.1787Z\",\"2022-02-18T17:13:00.0576Z\",\"2022-02-18T17:14:00.2312Z\",\"2022-02-18T17:15:00.6407Z\",\"2022-02-18T17:16:02.8291Z\",\"2022-02-18T17:17:00.1809Z\",\"2022-02-18T17:18:00.4491Z\",\"2022-02-18T17:19:01.2308Z\",\"2022-02-18T17:20:02.7674Z\",\"2022-02-18T17:21:00.9381Z\",\"2022-02-18T17:22:00.1553Z\",\"2022-02-18T17:23:00.3036Z\",\"2022-02-18T17:24:00.0466Z\",\"2022-02-18T17:25:00.3667Z\",\"2022-02-18T17:26:00.2528Z\",\"2022-02-18T17:27:00.2763Z\",\"2022-02-18T17:28:00.3704Z\",\"2022-02-18T17:29:00.3136Z\",\"2022-02-18T17:30:00.073Z\",\"2022-02-18T17:31:00.2094Z\",\"2022-02-18T17:32:00.4888Z\",\"2022-02-18T17:33:00.1743Z\",\"2022-02-18T17:34:00.8716Z\",\"2022-02-18T17:35:00.5178Z\",\"2022-02-18T17:36:01.0301Z\",\"2022-02-18T17:37:00.3277Z\",\"2022-02-18T17:38:00.725Z\",\"2022-02-18T17:39:00.9831Z\",\"2022-02-18T17:40:00.2051Z\",\"2022-02-18T17:41:00.0015Z\",\"2022-02-18T17:42:00.2596Z\",\"2022-02-18T17:43:00.173Z\",\"2022-02-18T17:44:00.0469Z\",\"2022-02-18T17:45:00.0521Z\",\"2022-02-18T17:46:00.1166Z\",\"2022-02-18T17:47:00.2814Z\",\"2022-02-18T17:48:02.1191Z\",\"2022-02-18T17:49:00.9365Z\",\"2022-02-18T17:50:00.5027Z\",\"2022-02-18T17:51:00.2317Z\",\"2022-02-18T17:52:02.0242Z\",\"2022-02-18T17:53:01.9721Z\",\"2022-02-18T17:54:00.3621Z\",\"2022-02-18T17:55:01.532Z\",\"2022-02-18T17:56:01.1178Z\",\"2022-02-18T17:57:00.0132Z\",\"2022-02-18T17:58:00.1419Z\",\"2022-02-18T17:59:00.3305Z\",\"2022-02-18T18:00:00.0415Z\",\"2022-02-18T18:01:00.1561Z\",\"2022-02-18T18:02:00.4444Z\",\"2022-02-18T18:03:00.8067Z\",\"2022-02-18T18:04:00.0453Z\",\"2022-02-18T18:05:00.2542Z\",\"2022-02-18T18:06:00.1625Z\",\"2022-02-18T18:07:00.083Z\",\"2022-02-18T18:08:00.9908Z\",\"2022-02-18T18:09:00.0572Z\",\"2022-02-18T18:10:00.3246Z\",\"2022-02-18T18:11:00.29Z\",\"2022-02-18T18:12:00.0058Z\",\"2022-02-18T18:13:01.5121Z\",\"2022-02-18T18:14:00.5221Z\",\"2022-02-18T18:15:00.1974Z\",\"2022-02-18T18:16:00.1199Z\",\"2022-02-18T18:17:00.3549Z\",\"2022-02-18T18:18:01.2511Z\",\"2022-02-18T18:19:00.1536Z\",\"2022-02-18T18:20:03.8261Z\",\"2022-02-18T18:21:01.1975Z\",\"2022-02-18T18:22:01.5871Z\",\"2022-02-18T18:23:00.133Z\",\"2022-02-18T18:24:00.3561Z\",\"2022-02-18T18:25:00.5433Z\",\"2022-02-18T18:26:02.361Z\",\"2022-02-18T18:27:01.9328Z\",\"2022-02-18T18:28:00.4134Z\",\"2022-02-18T18:29:00.021Z\",\"2022-02-18T18:30:01.3254Z\",\"2022-02-18T18:31:01.0707Z\",\"2022-02-18T18:32:00.03Z\",\"2022-02-18T18:33:00.043Z\",\"2022-02-18T18:34:00.9831Z\",\"2022-02-18T18:35:03.0079Z\",\"2022-02-18T18:36:00.9242Z\",\"2022-02-18T18:37:00.4293Z\",\"2022-02-18T18:38:01.0212Z\",\"2022-02-18T18:39:00.0471Z\",\"2022-02-18T18:40:00.8115Z\",\"2022-02-18T18:41:00.1864Z\",\"2022-02-18T18:42:01.0347Z\",\"2022-02-18T18:43:02.5654Z\",\"2022-02-18T18:44:00.0484Z\",\"2022-02-18T18:45:00.0676Z\",\"2022-02-18T18:46:00.6786Z\",\"2022-02-18T18:47:01.014Z\",\"2022-02-18T18:48:00.1367Z\",\"2022-02-18T18:49:00.1237Z\",\"2022-02-18T18:50:00.2096Z\",\"2022-02-18T18:51:00.5316Z\",\"2022-02-18T18:52:00.412Z\",\"2022-02-18T18:53:00.1627Z\",\"2022-02-18T18:54:01.0386Z\",\"2022-02-18T18:55:00.0507Z\",\"2022-02-18T18:56:01.8637Z\",\"2022-02-18T18:57:00.9256Z\",\"2022-02-18T18:58:00.1797Z\",\"2022-02-18T18:59:01.9507Z\",\"2022-02-18T19:00:00.7329Z\",\"2022-02-18T19:01:00.2151Z\",\"2022-02-18T19:02:00.6213Z\",\"2022-02-18T19:03:00.562Z\",\"2022-02-18T19:04:00.3026Z\",\"2022-02-18T19:05:00.9528Z\",\"2022-02-18T19:06:01.4983Z\",\"2022-02-18T19:07:00.7825Z\",\"2022-02-18T19:08:00.0606Z\",\"2022-02-18T19:09:00.0601Z\",\"2022-02-18T19:10:00.8098Z\",\"2022-02-18T19:11:00.0999Z\",\"2022-02-18T19:12:03.6972Z\",\"2022-02-18T19:13:00.7289Z\",\"2022-02-18T19:14:01.4029Z\",\"2022-02-18T19:15:01.5981Z\",\"2022-02-18T19:16:00.0666Z\",\"2022-02-18T19:17:00.916Z\",\"2022-02-18T19:18:00.1634Z\",\"2022-02-18T19:19:01.2542Z\",\"2022-02-18T19:20:00.954Z\",\"2022-02-18T19:21:00.0693Z\",\"2022-02-18T19:22:00.0769Z\",\"2022-02-18T19:23:03.0173Z\",\"2022-02-18T19:24:01.0718Z\",\"2022-02-18T19:25:00.6753Z\",\"2022-02-18T19:26:00.0745Z\",\"2022-02-18T19:27:01.2053Z\",\"2022-02-18T19:28:00.0866Z\",\"2022-02-18T19:29:00.067Z\",\"2022-02-18T19:30:00.5663Z\",\"2022-02-18T19:31:02.6655Z\",\"2022-02-18T19:32:00.0777Z\",\"2022-02-18T19:33:01.2188Z\",\"2022-02-18T19:34:00.4184Z\",\"2022-02-18T19:35:00.0453Z\",\"2022-02-18T19:36:00.5791Z\",\"2022-02-18T19:37:00.1824Z\",\"2022-02-18T19:38:00.2986Z\",\"2022-02-18T19:39:00.3612Z\",\"2022-02-18T19:40:00.3373Z\",\"2022-02-18T19:41:00.5931Z\",\"2022-02-18T19:42:00.4322Z\",\"2022-02-18T19:43:00.4516Z\",\"2022-02-18T19:44:00.1591Z\",\"2022-02-18T19:45:00.1492Z\",\"2022-02-18T19:46:00.0326Z\",\"2022-02-18T19:47:00.9903Z\",\"2022-02-18T19:48:01.4398Z\",\"2022-02-18T19:49:00.0346Z\",\"2022-02-18T19:50:00.0387Z\",\"2022-02-18T19:51:00.1456Z\",\"2022-02-18T19:52:00.4523Z\",\"2022-02-18T19:53:03.12Z\",\"2022-02-18T19:54:00.0096Z\",\"2022-02-18T19:55:00.7078Z\",\"2022-02-18T19:56:00.0436Z\",\"2022-02-18T19:57:01.0936Z\",\"2022-02-18T19:58:00.1809Z\",\"2022-02-18T19:59:00.0516Z\",\"2022-02-18T19:59:59.0195Z\"],\"y\":[169.81,169.81,169.93,169.93,169.92,169.92,170.0,170.0,170.0,170.0,170.0,170.0,170.0,170.0,170.0,169.97,169.93,169.93,169.93,169.93,169.99,169.99,169.99,169.99,169.99,169.99,170.04,170.0,170.0,170.0,170.03,170.03,170.03,170.03,170.03,170.03,170.03,170.03,170.03,170.03,170.03,170.03,170.06,170.06,170.06,170.06,170.06,170.06,170.06,170.06,170.04,170.04,170.04,170.03,169.99,169.99,169.97,169.94,169.88,169.88,169.88,169.94,170.0,169.98,169.95,169.95,169.95,169.97,169.97,169.83,169.59,169.56,169.66,169.68,169.57,169.5,169.56,169.49,169.5,169.57,169.57,169.38,169.33,169.21,169.22,169.17,168.98,169.04,169.06,168.99,168.98,168.97,168.92,168.81,168.86,169.03,168.95,168.95,169.02,169.15,169.09,169.1,169.1,169.17,169.15,169.08,169.05,169.05,169.05,169.09,169.09,169.28,169.31,169.4,169.38,169.38,169.37,169.5,169.45,169.45,169.38,169.39,169.55,169.48,169.6,169.53,169.43,169.38,169.37,169.41,169.24,169.24,169.22,169.22,169.39,169.33,169.35,169.38,169.35,169.38,169.27,169.16,169.3,169.32,169.27,169.76,169.69,170.11,169.68,169.81,170.17,170.11,169.78,169.68,169.62,169.44,169.18,169.33,169.18,168.925,168.84,168.62,168.36,168.39,168.21,168.3,168.41,168.57,168.33,168.28,168.37,168.37,168.45,168.74,168.88,168.77,168.91,168.95,168.88,169.02,168.67,168.58,168.6,168.53,168.72,168.74,168.57,168.52,168.51,168.47,168.54,168.36,168.34,168.36,168.54,168.75,168.55,168.72,168.58,168.66,168.76,168.55,168.42,168.43,168.46,168.47,168.65,168.55,168.47,168.48,168.16,167.95,167.82,167.95,167.97,167.97,167.95,167.94,167.97,167.81,167.69,167.75,167.84,167.93,168.04,168.14,168.27,168.13,168.07,167.94,167.92,167.89,168.06,168.06,168.12,168.09,168.22,168.11,167.98,168.06,167.98,168.02,167.92,167.52,167.46,167.61,167.62,167.71,167.6,167.53,167.4,167.52,167.61,167.5,167.63,167.46,167.63,167.7501,167.72,167.8,168.045,168.06,168.13,168.06,168.02,168.19,168.09,168.11,168.15,168.11,168.0,168.15,168.09,167.93,167.99,167.93,168.09,168.13,168.25,168.17,168.19,168.34,168.19,168.1,168.09,168.1,168.13,168.17,168.02,167.88,167.84,167.74,167.75,167.7,167.64,167.69,167.66,167.4,167.28,167.3,167.39,167.31,167.35,167.26,167.26,167.36,167.32,167.38,167.35,167.56,167.6,167.62,167.55,167.53,167.58,167.56,167.6,167.95,167.91,167.86,167.92,167.74,167.75,167.7,167.64,167.73,167.65,167.63,167.71,167.71,167.52,167.55,167.48,167.32,167.33,167.33,167.19,166.95,166.95,166.97,166.95,167.025,167.01,167.05,166.91,166.79,166.92,166.85,166.97,166.9,166.78,166.9,166.95,166.94,166.9,166.76,166.91,166.85,166.76,166.67,166.59,166.64,166.59,166.72,166.65,166.59,166.46,166.515,166.65,166.64,166.53,166.43,166.44,166.41,166.35,166.46,166.34,166.28,166.32,166.3,166.22,166.36,166.39,166.44,166.58,166.46,166.41,166.36,166.36,166.36,166.31,166.4,166.46,166.41,166.44,166.33,166.52,166.45,166.55,166.72,166.71,166.64,166.6,166.59,166.64,166.72,166.9,167.0,167.0,167.03,167.13,167.09,167.09,167.14,167.23,167.18,167.09,167.13,167.14,167.07,167.06,167.3,167.21,167.19,167.22,167.26,167.15,167.18,167.25,167.2,167.19,167.19,167.18,167.15,167.1,167.12,167.36,167.32,167.34,167.42,167.46,167.5,167.48,167.65,167.79,167.73,167.7,167.74,168.02,168.04,168.165,168.42,168.43,168.43,168.44,168.45,168.36,168.43,168.4,168.25,168.08,168.17,168.21,168.105,168.03,168.1,168.07,167.98,167.97,167.8,167.83,167.88,167.89,167.92,168.38,168.43,168.38,168.2,168.25,168.31],\"mode\":\"lines\",\"name\":\"Prices\"}];\n",
       "           var layout = {\"title\":\"EMAs and prices for AAPL\",\"xaxis\":{\"title\":\"Time\",\"_isSubplotObj\":true},\"yaxis\":{\"title\":\"Price\",\"_isSubplotObj\":true}};\n",
       "           Plotly.newPlot('de52f599-e379-48aa-ba74-ff78b1c64b99', data, layout);\n",
       "        \n",
       "});\n",
       "};\n",
       "// ensure `require` is available globally\n",
       "if ((typeof(require) !==  typeof(Function)) || (typeof(require.config) !== typeof(Function))) {\n",
       "    let require_script = document.createElement('script');\n",
       "    require_script.setAttribute('src', 'https://cdnjs.cloudflare.com/ajax/libs/require.js/2.3.6/require.min.js');\n",
       "    require_script.setAttribute('type', 'text/javascript');\n",
       "    \n",
       "    \n",
       "    require_script.onload = function() {\n",
       "        renderPlotly();\n",
       "    };\n",
       "\n",
       "    document.getElementsByTagName('head')[0].appendChild(require_script);\n",
       "}\n",
       "else {\n",
       "    renderPlotly();\n",
       "}\n",
       "\n",
       "</script>\n"
      ]
     },
     "metadata": {},
     "output_type": "display_data"
    }
   ],
   "source": [
    "var emaPlots = new List<Scattergl>\n",
    "{\n",
    "    new Scattergl\n",
    "    {\n",
    "        name = \"200-points EMA\",\n",
    "        mode = \"lines\",\n",
    "        x = emalong.Select(l => l.TimeStamp.ToDateTime()),\n",
    "        y = emalong.Select(l => l.Average)\n",
    "    },\n",
    "    new Scattergl\n",
    "    {\n",
    "        name = \"50-points EMA\",\n",
    "        mode = \"lines\",\n",
    "        x = emashort.Select(l => l.TimeStamp.ToDateTime()),\n",
    "        y = emashort.Select(l => l.Average)\n",
    "    },\n",
    "    new Scattergl\n",
    "    {\n",
    "        name = \"Prices\",\n",
    "        mode = \"lines\",\n",
    "        x = emalong.Select(l => l.TimeStamp.ToDateTime()),\n",
    "        y = emalong.Select(l => l.Value)\n",
    "    }\n",
    "};\n",
    "var chart = Chart.Plot(emaPlots);\n",
    "chart.WithTitle($\"EMAs and prices for {ticker}\");\n",
    "chart.WithXTitle($\"Time\");\n",
    "chart.WithYTitle($\"Price\");\n",
    "chart.Width = 1500;\n",
    "chart.Height = 800;\n",
    "display(chart);"
   ]
  }
 ],
 "metadata": {
  "kernelspec": {
   "display_name": ".NET (C#)",
   "language": "C#",
   "name": ".net-csharp"
  },
  "language_info": {
   "file_extension": ".cs",
   "mimetype": "text/x-csharp",
   "name": "C#",
   "pygments_lexer": "csharp",
   "version": "10.0"
  }
 },
 "nbformat": 4,
 "nbformat_minor": 5
}
