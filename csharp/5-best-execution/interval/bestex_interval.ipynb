{
 "cells": [
  {
   "cell_type": "markdown",
   "id": "organic-nurse",
   "metadata": {},
   "source": [
    "# Generate interval best execution benchmarks using dedicated service - C#\n",
    "\n",
    "### Overview\n",
    "Best execution aims to measure the performance of executed trades, an execution algorithm or an execution venue.\n",
    "\n",
    "This sample is based on an `interval` approach and designed to illustrate market activity over a look back period.\n",
    "\n",
    "<div class=\"alert alert-block alert-info\">\n",
    "    <b>Note:</b> To explore the point-in-time approach, suitable to highlight individual tradres among market activity. Please refer to <i>bestex-pointintime</i> notebooks.\n",
    "</div>\n",
    "\n",
    "This sample demonstrates how to request and plot from a dedicated data service **on-demand** best execution *interval* benchmarks.\n",
    "\n",
    "### Inputs/outputs\n",
    "Best execution interval sample requires instrument's identifier, date time intervals as per inputs. Results are as follows:\n",
    "* a snapshot of occured trades\n",
    "* a set of computed benchmarks based on the occured trades\n",
    "\n",
    "### Services used\n",
    "This sample uses *gRPC requests* in order to retrieve trades information from the hosted service. The queried endpoint in this script are:\n",
    "* *TickTradesService*: to directly retrieve trades data from the server.\n",
    "\n",
    "### Packages required\n",
    "1. Systemathics:\n",
    "    * *Systemathics.Apis.Type.Shared.V1*\n",
    "    * *Systemathics.Apis.Services.Tick.V1*\n",
    "2. Open source:\n",
    "    * *Google.Protobuf.WellKnownTypes*\n",
    "    * *Google.Type*\n",
    "    * *Grpc.Net.Client*\n",
    "    * *Grpc.Core*\n",
    "    * *XPlot.Plotly* as per display package\n",
    "    \n",
    "***"
   ]
  },
  {
   "cell_type": "markdown",
   "id": "configured-samoa",
   "metadata": {},
   "source": [
    "# Run BestEx interval sample"
   ]
  },
  {
   "cell_type": "markdown",
   "id": "compact-novel",
   "metadata": {},
   "source": [
    "### Step 1: Install packages"
   ]
  },
  {
   "cell_type": "code",
   "execution_count": 1,
   "id": "robust-university",
   "metadata": {
    "dotnet_interactive": {
     "language": "csharp"
    },
    "execution": {
     "iopub.execute_input": "2022-10-25T16:12:23.221805Z",
     "iopub.status.busy": "2022-10-25T16:12:23.214217Z",
     "iopub.status.idle": "2022-10-25T16:12:33.137585Z",
     "shell.execute_reply": "2022-10-25T16:12:33.128823Z"
    },
    "vscode": {
     "languageId": "dotnet-interactive.csharp"
    }
   },
   "outputs": [
    {
     "data": {
      "text/html": [
       "\n",
       "<div>\n",
       "    <div id='dotnet-interactive-this-cell-16752.Microsoft.DotNet.Interactive.Http.HttpPort' style='display: none'>\n",
       "        The below script needs to be able to find the current output cell; this is an easy method to get it.\n",
       "    </div>\n",
       "    <script type='text/javascript'>\n",
       "async function probeAddresses(probingAddresses) {\n",
       "    function timeout(ms, promise) {\n",
       "        return new Promise(function (resolve, reject) {\n",
       "            setTimeout(function () {\n",
       "                reject(new Error('timeout'))\n",
       "            }, ms)\n",
       "            promise.then(resolve, reject)\n",
       "        })\n",
       "    }\n",
       "\n",
       "    if (Array.isArray(probingAddresses)) {\n",
       "        for (let i = 0; i < probingAddresses.length; i++) {\n",
       "\n",
       "            let rootUrl = probingAddresses[i];\n",
       "\n",
       "            if (!rootUrl.endsWith('/')) {\n",
       "                rootUrl = `${rootUrl}/`;\n",
       "            }\n",
       "\n",
       "            try {\n",
       "                let response = await timeout(1000, fetch(`${rootUrl}discovery`, {\n",
       "                    method: 'POST',\n",
       "                    cache: 'no-cache',\n",
       "                    mode: 'cors',\n",
       "                    timeout: 1000,\n",
       "                    headers: {\n",
       "                        'Content-Type': 'text/plain'\n",
       "                    },\n",
       "                    body: probingAddresses[i]\n",
       "                }));\n",
       "\n",
       "                if (response.status == 200) {\n",
       "                    return rootUrl;\n",
       "                }\n",
       "            }\n",
       "            catch (e) { }\n",
       "        }\n",
       "    }\n",
       "}\n",
       "\n",
       "function loadDotnetInteractiveApi() {\n",
       "    probeAddresses([\"http://172.28.169.63:1880/\", \"http://127.0.0.1:1880/\"])\n",
       "        .then((root) => {\n",
       "        // use probing to find host url and api resources\n",
       "        // load interactive helpers and language services\n",
       "        let dotnetInteractiveRequire = require.config({\n",
       "        context: '16752.Microsoft.DotNet.Interactive.Http.HttpPort',\n",
       "                paths:\n",
       "            {\n",
       "                'dotnet-interactive': `${root}resources`\n",
       "                }\n",
       "        }) || require;\n",
       "\n",
       "            window.dotnetInteractiveRequire = dotnetInteractiveRequire;\n",
       "\n",
       "            window.configureRequireFromExtension = function(extensionName, extensionCacheBuster) {\n",
       "                let paths = {};\n",
       "                paths[extensionName] = `${root}extensions/${extensionName}/resources/`;\n",
       "                \n",
       "                let internalRequire = require.config({\n",
       "                    context: extensionCacheBuster,\n",
       "                    paths: paths,\n",
       "                    urlArgs: `cacheBuster=${extensionCacheBuster}`\n",
       "                    }) || require;\n",
       "\n",
       "                return internalRequire\n",
       "            };\n",
       "        \n",
       "            dotnetInteractiveRequire([\n",
       "                    'dotnet-interactive/dotnet-interactive'\n",
       "                ],\n",
       "                function (dotnet) {\n",
       "                    dotnet.init(window);\n",
       "                },\n",
       "                function (error) {\n",
       "                    console.log(error);\n",
       "                }\n",
       "            );\n",
       "        })\n",
       "        .catch(error => {console.log(error);});\n",
       "    }\n",
       "\n",
       "// ensure `require` is available globally\n",
       "if ((typeof(require) !==  typeof(Function)) || (typeof(require.config) !== typeof(Function))) {\n",
       "    let require_script = document.createElement('script');\n",
       "    require_script.setAttribute('src', 'https://cdnjs.cloudflare.com/ajax/libs/require.js/2.3.6/require.min.js');\n",
       "    require_script.setAttribute('type', 'text/javascript');\n",
       "    \n",
       "    \n",
       "    require_script.onload = function() {\n",
       "        loadDotnetInteractiveApi();\n",
       "    };\n",
       "\n",
       "    document.getElementsByTagName('head')[0].appendChild(require_script);\n",
       "}\n",
       "else {\n",
       "    loadDotnetInteractiveApi();\n",
       "}\n",
       "\n",
       "    </script>\n",
       "</div>"
      ]
     },
     "metadata": {},
     "output_type": "display_data"
    },
    {
     "data": {
      "text/html": [
       "<div><div><strong>Restore sources</strong><ul><li><span> file://~/.nuget/packages/</span></li><li><span> https://api.nuget.org/v3/index.json</span></li></ul></div><div></div><div><strong>Installed Packages</strong><ul><li><span>CsvHelper, 29.0.0</span></li><li><span>Systemathics.Apis, 0.13.2-pre</span></li><li><span>XPlot.Plotly.Interactive, 4.0.6</span></li></ul></div></div>"
      ]
     },
     "metadata": {},
     "output_type": "display_data"
    },
    {
     "data": {
      "text/markdown": [
       "Loading extensions from `XPlot.Plotly.Interactive.dll`"
      ]
     },
     "metadata": {},
     "output_type": "display_data"
    },
    {
     "data": {
      "text/markdown": [
       "Configuring PowerShell Kernel for XPlot.Plotly integration."
      ]
     },
     "metadata": {},
     "output_type": "display_data"
    },
    {
     "data": {
      "text/markdown": [
       "Installed support for XPlot.Plotly."
      ]
     },
     "metadata": {},
     "output_type": "display_data"
    }
   ],
   "source": [
    "#i \"nuget: file://~/.nuget/packages/\"\n",
    "#i \"nuget: https://api.nuget.org/v3/index.json\"\n",
    "#r \"nuget: Systemathics.Apis, 0.*-pre*\"\n",
    "#r \"nuget: XPlot.Plotly.Interactive\"\n",
    "#r \"nuget: CsvHelper\""
   ]
  },
  {
   "cell_type": "code",
   "execution_count": 2,
   "id": "bibliographic-retail",
   "metadata": {
    "dotnet_interactive": {
     "language": "csharp"
    },
    "execution": {
     "iopub.execute_input": "2022-10-25T16:12:33.140226Z",
     "iopub.status.busy": "2022-10-25T16:12:33.139876Z",
     "iopub.status.idle": "2022-10-25T16:12:33.269819Z",
     "shell.execute_reply": "2022-10-25T16:12:33.269544Z"
    },
    "vscode": {
     "languageId": "dotnet-interactive.csharp"
    }
   },
   "outputs": [],
   "source": [
    "using Systemathics.Apis.Helpers;\n",
    "using Systemathics.Apis.Type.Shared.V1;\n",
    "using Systemathics.Apis.Services.Tick.V1;\n",
    "using Google.Protobuf.WellKnownTypes;\n",
    "using Google.Type;\n",
    "using Grpc.Net.Client;\n",
    "using Grpc.Core;\n",
    "// Plot charts\n",
    "using XPlot.Plotly; \n",
    "// Import/export csv files \n",
    "using CsvHelper;\n",
    "using System.IO;\n",
    "using System.Globalization;"
   ]
  },
  {
   "cell_type": "markdown",
   "id": "sought-geneva",
   "metadata": {},
   "source": [
    "### Step 2: Prepare API requests\n",
    "The following code snippets retrieve authentication token and prepare the API request by: opening the *channel* and adding the *token* to the request header:"
   ]
  },
  {
   "cell_type": "code",
   "execution_count": 3,
   "id": "expired-store",
   "metadata": {
    "dotnet_interactive": {
     "language": "csharp"
    },
    "execution": {
     "iopub.execute_input": "2022-10-25T16:12:33.272681Z",
     "iopub.status.busy": "2022-10-25T16:12:33.271990Z",
     "iopub.status.idle": "2022-10-25T16:12:34.342939Z",
     "shell.execute_reply": "2022-10-25T16:12:34.342638Z"
    },
    "vscode": {
     "languageId": "dotnet-interactive.csharp"
    }
   },
   "outputs": [],
   "source": [
    "// Get token as metadata\n",
    "var headers = TokenHelpers.GetTokenAsMetaData();\n",
    "\n",
    "// Create communication channel\n",
    "var channel = ChannelHelpers.GetChannel();"
   ]
  },
  {
   "cell_type": "markdown",
   "id": "creative-humor",
   "metadata": {},
   "source": [
    "### Step 3: Create and process request\n",
    "To request *tick data* service, we need to specify:\n",
    "* Instrument identifier\n",
    "* Time period selection: select start and end dates\n",
    "* Tick data request parameters"
   ]
  },
  {
   "cell_type": "markdown",
   "id": "familiar-things",
   "metadata": {},
   "source": [
    "#### 3.1 Instrument selection"
   ]
  },
  {
   "cell_type": "code",
   "execution_count": 4,
   "id": "descending-religion",
   "metadata": {
    "dotnet_interactive": {
     "language": "csharp"
    },
    "execution": {
     "iopub.execute_input": "2022-10-25T16:12:34.346752Z",
     "iopub.status.busy": "2022-10-25T16:12:34.345147Z",
     "iopub.status.idle": "2022-10-25T16:12:34.407469Z",
     "shell.execute_reply": "2022-10-25T16:12:34.407169Z"
    },
    "vscode": {
     "languageId": "dotnet-interactive.csharp"
    }
   },
   "outputs": [],
   "source": [
    "// Instrument\n",
    "var ticker = \"AAPL\";\n",
    "var exchange = \"BATS\";"
   ]
  },
  {
   "cell_type": "markdown",
   "id": "tropical-cologne",
   "metadata": {},
   "source": [
    "#### 3.2 Time period delimitation"
   ]
  },
  {
   "cell_type": "code",
   "execution_count": 5,
   "id": "taken-grave",
   "metadata": {
    "dotnet_interactive": {
     "language": "csharp"
    },
    "execution": {
     "iopub.execute_input": "2022-10-25T16:12:34.410026Z",
     "iopub.status.busy": "2022-10-25T16:12:34.409511Z",
     "iopub.status.idle": "2022-10-25T16:12:34.548529Z",
     "shell.execute_reply": "2022-10-25T16:12:34.548274Z"
    },
    "vscode": {
     "languageId": "dotnet-interactive.csharp"
    }
   },
   "outputs": [],
   "source": [
    "// Create the date interval (we are using Google date time format)\n",
    "var day = new DateTime(2021, 03, 15);\n",
    "var dateIntervals = new DateInterval()\n",
    "{\n",
    "    StartDate = new Date { Year = 2021, Month = 11, Day = 15 },\n",
    "    EndDate = new Date { Year = 2021, Month =11, Day = 15 }\n",
    "};\n",
    "\n",
    "// Create the time interval (we are using Google date time format)\n",
    "// UTC time zone\n",
    "var timeInterval = new TimeInterval()\n",
    "{\n",
    "    StartTime = new TimeOfDay { Hours = 16, Minutes = 20, Seconds = 00 },\n",
    "    EndTime = new TimeOfDay { Hours = 16, Minutes = 30, Seconds = 00 } \n",
    "};"
   ]
  },
  {
   "cell_type": "markdown",
   "id": "single-championship",
   "metadata": {},
   "source": [
    "#### 3.3 Request creation\n",
    "The following code snippet creates *gRPC client*, process request and returns request reply."
   ]
  },
  {
   "cell_type": "code",
   "execution_count": 6,
   "id": "incorporated-referral",
   "metadata": {
    "dotnet_interactive": {
     "language": "csharp"
    },
    "execution": {
     "iopub.execute_input": "2022-10-25T16:12:34.550779Z",
     "iopub.status.busy": "2022-10-25T16:12:34.550412Z",
     "iopub.status.idle": "2022-10-25T16:12:34.653100Z",
     "shell.execute_reply": "2022-10-25T16:12:34.652841Z"
    },
    "vscode": {
     "languageId": "dotnet-interactive.csharp"
    }
   },
   "outputs": [],
   "source": [
    "// Generate constraints based on the previous time selection:\n",
    "var constraints = new Constraints(); \n",
    "constraints.DateIntervals.Add(dateIntervals);\n",
    "constraints.TimeIntervals.Add(timeInterval);"
   ]
  },
  {
   "cell_type": "markdown",
   "id": "critical-baseline",
   "metadata": {},
   "source": [
    "The following code snippets create request and instantiate the service:"
   ]
  },
  {
   "cell_type": "code",
   "execution_count": 7,
   "id": "lasting-large",
   "metadata": {
    "dotnet_interactive": {
     "language": "csharp"
    },
    "execution": {
     "iopub.execute_input": "2022-10-25T16:12:34.655930Z",
     "iopub.status.busy": "2022-10-25T16:12:34.655323Z",
     "iopub.status.idle": "2022-10-25T16:12:34.763000Z",
     "shell.execute_reply": "2022-10-25T16:12:34.762718Z"
    },
    "vscode": {
     "languageId": "dotnet-interactive.csharp"
    }
   },
   "outputs": [],
   "source": [
    "// Generate the tick trades request\n",
    "var request = new TickTradesRequest { Constraints = constraints };\n",
    "var identifier = new Identifier { Exchange = exchange, Ticker = ticker};\n",
    "request.Identifiers.Add(new [] {identifier}); "
   ]
  },
  {
   "cell_type": "code",
   "execution_count": 8,
   "id": "elder-toddler",
   "metadata": {
    "dotnet_interactive": {
     "language": "csharp"
    },
    "execution": {
     "iopub.execute_input": "2022-10-25T16:12:34.765652Z",
     "iopub.status.busy": "2022-10-25T16:12:34.765003Z",
     "iopub.status.idle": "2022-10-25T16:12:34.834763Z",
     "shell.execute_reply": "2022-10-25T16:12:34.834494Z"
    },
    "vscode": {
     "languageId": "dotnet-interactive.csharp"
    }
   },
   "outputs": [],
   "source": [
    "// Instantiate the tick trades service\n",
    "var service = new TickTradesService.TickTradesServiceClient(channel);"
   ]
  },
  {
   "cell_type": "markdown",
   "id": "controversial-burden",
   "metadata": {},
   "source": [
    "### Step 4: Visualize data"
   ]
  },
  {
   "cell_type": "markdown",
   "id": "supreme-resource",
   "metadata": {},
   "source": [
    "#### 4.1 Retrieve trade prices and volumes"
   ]
  },
  {
   "cell_type": "code",
   "execution_count": 9,
   "id": "confirmed-bullet",
   "metadata": {
    "dotnet_interactive": {
     "language": "csharp"
    },
    "execution": {
     "iopub.execute_input": "2022-10-25T16:12:34.836697Z",
     "iopub.status.busy": "2022-10-25T16:12:34.836349Z",
     "iopub.status.idle": "2022-10-25T16:12:35.753193Z",
     "shell.execute_reply": "2022-10-25T16:12:35.752779Z"
    },
    "vscode": {
     "languageId": "dotnet-interactive.csharp"
    }
   },
   "outputs": [],
   "source": [
    "// Get the trades \n",
    "// store the list of trades\n",
    "var trades = new List<Tuple<Timestamp, Trade>>();\n",
    "\n",
    "// Call the service\n",
    "var call = service.TickTrades(request, headers);\n",
    "\n",
    "// Process the responses\n",
    "await foreach (var current in call.ResponseStream.ReadAllAsync())\n",
    "{\n",
    "    if(current.Mapping != null)\n",
    "    {\n",
    "        // First response contains the mapping fields\n",
    "        // Skip the mapping data\n",
    "        continue;\n",
    "    }\n",
    "\n",
    "    // Get the time stamp for the current trade\n",
    "    var ts = current.Data.TimeStamp;\n",
    "\n",
    "    // Trade\n",
    "    if (current.Data.Trade != null) \n",
    "    {      \n",
    "        trades.Add(new Tuple<Timestamp, Trade>(ts, current.Data.Trade));\n",
    "    }\n",
    "}"
   ]
  },
  {
   "cell_type": "markdown",
   "id": "filled-grade",
   "metadata": {},
   "source": [
    "The following code snippet displays request results:"
   ]
  },
  {
   "cell_type": "code",
   "execution_count": 10,
   "id": "played-billy",
   "metadata": {
    "dotnet_interactive": {
     "language": "csharp"
    },
    "execution": {
     "iopub.execute_input": "2022-10-25T16:12:35.756446Z",
     "iopub.status.busy": "2022-10-25T16:12:35.755662Z",
     "iopub.status.idle": "2022-10-25T16:12:35.823114Z",
     "shell.execute_reply": "2022-10-25T16:12:35.822775Z"
    },
    "vscode": {
     "languageId": "dotnet-interactive.csharp"
    }
   },
   "outputs": [],
   "source": [
    "// Display the trades\n",
    "//--> Note : the time stamp is displayed by default (using the unix format)\n",
    "//--> We can use other displayers for different output formats \n",
    "//--> For more details about the time stamp: https://developers.google.com/protocol-buffers/docs/reference/google.protobuf#google.protobuf.Timestamp \n",
    "//display(trades);"
   ]
  },
  {
   "cell_type": "markdown",
   "id": "combined-aurora",
   "metadata": {},
   "source": [
    "#### 4.2 Retrieve interval benchmarks"
   ]
  },
  {
   "cell_type": "code",
   "execution_count": 11,
   "id": "documented-schema",
   "metadata": {
    "dotnet_interactive": {
     "language": "csharp"
    },
    "execution": {
     "iopub.execute_input": "2022-10-25T16:12:35.825468Z",
     "iopub.status.busy": "2022-10-25T16:12:35.824896Z",
     "iopub.status.idle": "2022-10-25T16:12:36.199495Z",
     "shell.execute_reply": "2022-10-25T16:12:36.199246Z"
    },
    "vscode": {
     "languageId": "dotnet-interactive.csharp"
    }
   },
   "outputs": [],
   "source": [
    "// Get bestex time interval\n",
    "var intervalStart = new DateTime(dateIntervals.StartDate.Year, dateIntervals.StartDate.Month, dateIntervals.StartDate.Day, timeInterval.StartTime.Hours, timeInterval.StartTime.Minutes, timeInterval.StartTime.Seconds);\n",
    "var intervalEnd = new DateTime(dateIntervals.EndDate.Year, dateIntervals.EndDate.Month, dateIntervals.EndDate.Day, timeInterval.EndTime.Hours, timeInterval.EndTime.Minutes, timeInterval.EndTime.Seconds);\n",
    "\n",
    "// Get first and last trades' timestamps\n",
    "var firstTimestamp = trades.Select(elt => elt.Item1.ToDateTime()).First();\n",
    "var lastTimestamp = trades.Select(elt => elt.Item1.ToDateTime()).Last();\n",
    "\n",
    "// Get a set of benchmarks\n",
    "var totalTrades = trades.Count;\n",
    "var totalSizes = trades.Sum(trade => trade.Item2.Size);\n",
    "var avgPrice = trades.Select(elt => elt.Item2.Price).Average();\n",
    "var avgSize = trades.Select(elt => elt.Item2.Size).Average();\n",
    "var maxPrice = trades.Max(trade => trade.Item2.Price);\n",
    "var minPrice = trades.Min(trade => trade.Item2.Price);\n",
    "var maxSize = trades.Max(trade => trade.Item2.Size);\n",
    "var minSize = trades.Min(trade => trade.Item2.Size);\n",
    "var vwap = trades.Sum(trade => trade.Item2.Price * trade.Item2.Size ) / totalSizes;"
   ]
  },
  {
   "cell_type": "code",
   "execution_count": 12,
   "id": "spare-company",
   "metadata": {
    "dotnet_interactive": {
     "language": "csharp"
    },
    "execution": {
     "iopub.execute_input": "2022-10-25T16:12:36.201406Z",
     "iopub.status.busy": "2022-10-25T16:12:36.201071Z",
     "iopub.status.idle": "2022-10-25T16:12:36.430141Z",
     "shell.execute_reply": "2022-10-25T16:12:36.429889Z"
    },
    "vscode": {
     "languageId": "dotnet-interactive.csharp"
    }
   },
   "outputs": [
    {
     "name": "stdout",
     "output_type": "stream",
     "text": [
      "Interval start time \t: 2021-11-15 16:20:00\n"
     ]
    },
    {
     "name": "stdout",
     "output_type": "stream",
     "text": [
      "Interval end time\t: 2021-11-15 16:30:00\n"
     ]
    },
    {
     "name": "stdout",
     "output_type": "stream",
     "text": [
      "First trade occured at\t: 2021-11-15 16:20:00\n"
     ]
    },
    {
     "name": "stdout",
     "output_type": "stream",
     "text": [
      "Last trade occured at\t: 2021-11-15 16:29:58\n"
     ]
    },
    {
     "name": "stdout",
     "output_type": "stream",
     "text": [
      "Total trades retrieved\t: 394\n"
     ]
    },
    {
     "name": "stdout",
     "output_type": "stream",
     "text": [
      "Cumulated trade sizes\t: 30,375\n"
     ]
    },
    {
     "name": "stdout",
     "output_type": "stream",
     "text": [
      "Average trade price\t: 150.050\n"
     ]
    },
    {
     "name": "stdout",
     "output_type": "stream",
     "text": [
      "Average trade size\t: 77\n"
     ]
    },
    {
     "name": "stdout",
     "output_type": "stream",
     "text": [
      "Max trade price\t\t: 150.130\n"
     ]
    },
    {
     "name": "stdout",
     "output_type": "stream",
     "text": [
      "Min trade price\t\t: 149.960\n"
     ]
    },
    {
     "name": "stdout",
     "output_type": "stream",
     "text": [
      "Max trade size\t\t: 600\n"
     ]
    },
    {
     "name": "stdout",
     "output_type": "stream",
     "text": [
      "Min trade size\t\t: 1\n"
     ]
    },
    {
     "name": "stdout",
     "output_type": "stream",
     "text": [
      "Vwap\t\t\t: 150.047\n"
     ]
    }
   ],
   "source": [
    "// Display results\n",
    "Console.WriteLine($\"Interval start time \\t: {intervalStart:yyyy-MM-dd HH:mm:ss}\");\n",
    "Console.WriteLine($\"Interval end time\\t: {intervalEnd:yyyy-MM-dd HH:mm:ss}\");\n",
    "Console.WriteLine($\"First trade occured at\\t: {firstTimestamp:yyyy-MM-dd HH:mm:ss}\");\n",
    "Console.WriteLine($\"Last trade occured at\\t: {lastTimestamp:yyyy-MM-dd HH:mm:ss}\");\n",
    "Console.WriteLine($\"Total trades retrieved\\t: {trades.Count:N0}\");\n",
    "Console.WriteLine($\"Cumulated trade sizes\\t: {totalSizes:N0}\");\n",
    "Console.WriteLine($\"Average trade price\\t: {avgPrice:F3}\");\n",
    "Console.WriteLine($\"Average trade size\\t: {avgSize:N0}\");\n",
    "Console.WriteLine($\"Max trade price\\t\\t: {maxPrice:F3}\");\n",
    "Console.WriteLine($\"Min trade price\\t\\t: {minPrice:F3}\");\n",
    "Console.WriteLine($\"Max trade size\\t\\t: {maxSize:N0}\");\n",
    "Console.WriteLine($\"Min trade size\\t\\t: {minSize:N0}\");\n",
    "Console.WriteLine($\"Vwap\\t\\t\\t: {vwap:F3}\");"
   ]
  },
  {
   "cell_type": "markdown",
   "id": "native-cooperation",
   "metadata": {},
   "source": [
    "#### 4.3 Plot the interval trades\n",
    "Display trade prices and sizes over the look back period with the package of your choice.<br>*`XPlot.Plotly`* is used as per open source display package."
   ]
  },
  {
   "cell_type": "code",
   "execution_count": 13,
   "id": "bibliographic-evanescence",
   "metadata": {
    "dotnet_interactive": {
     "language": "csharp"
    },
    "execution": {
     "iopub.execute_input": "2022-10-25T16:12:36.432533Z",
     "iopub.status.busy": "2022-10-25T16:12:36.432125Z",
     "iopub.status.idle": "2022-10-25T16:12:36.756985Z",
     "shell.execute_reply": "2022-10-25T16:12:36.756131Z"
    },
    "vscode": {
     "languageId": "dotnet-interactive.csharp"
    }
   },
   "outputs": [
    {
     "data": {
      "text/html": [
       "<!DOCTYPE html>\n",
       "<div style=\"width: 1500px; height: 800px;\" id=\"3b00b152-1dd7-47fb-9221-af65e6fd9201\"></div><script type=\"text/javascript\">\n",
       "\n",
       "var renderPlotly = function() {\n",
       "    var xplotRequire = require.config({context:'xplot-3.0.1',paths:{plotly:'https://cdn.plot.ly/plotly-1.49.2.min'}}) || require;\n",
       "    xplotRequire(['plotly'], function(Plotly) { \n",
       "\n",
       "            var data = [{\"type\":\"scattergl\",\"x\":[\"2021-11-15T16:20:00.4707Z\",\"2021-11-15T16:20:00.4707Z\",\"2021-11-15T16:20:00.5776Z\",\"2021-11-15T16:20:00.5776Z\",\"2021-11-15T16:20:00.5776Z\",\"2021-11-15T16:20:02.9234Z\",\"2021-11-15T16:20:02.9234Z\",\"2021-11-15T16:20:02.9234Z\",\"2021-11-15T16:20:02.9234Z\",\"2021-11-15T16:20:02.936Z\",\"2021-11-15T16:20:02.947Z\",\"2021-11-15T16:20:02.947Z\",\"2021-11-15T16:20:02.9526Z\",\"2021-11-15T16:20:02.9526Z\",\"2021-11-15T16:20:02.9526Z\",\"2021-11-15T16:20:02.9526Z\",\"2021-11-15T16:20:02.9526Z\",\"2021-11-15T16:20:02.9526Z\",\"2021-11-15T16:20:03.0078Z\",\"2021-11-15T16:20:03.8237Z\",\"2021-11-15T16:20:03.9902Z\",\"2021-11-15T16:20:03.9902Z\",\"2021-11-15T16:20:06.1099Z\",\"2021-11-15T16:20:06.1174Z\",\"2021-11-15T16:20:07.0873Z\",\"2021-11-15T16:20:07.0873Z\",\"2021-11-15T16:20:07.0873Z\",\"2021-11-15T16:20:07.1262Z\",\"2021-11-15T16:20:07.2949Z\",\"2021-11-15T16:20:08.6266Z\",\"2021-11-15T16:20:10.2403Z\",\"2021-11-15T16:20:11.6685Z\",\"2021-11-15T16:20:12.4271Z\",\"2021-11-15T16:20:16.5748Z\",\"2021-11-15T16:20:21.1351Z\",\"2021-11-15T16:20:44.7301Z\",\"2021-11-15T16:20:47.2181Z\",\"2021-11-15T16:20:47.2236Z\",\"2021-11-15T16:20:47.2236Z\",\"2021-11-15T16:20:47.2236Z\",\"2021-11-15T16:20:47.2236Z\",\"2021-11-15T16:20:49.9707Z\",\"2021-11-15T16:20:50.005Z\",\"2021-11-15T16:20:54.1745Z\",\"2021-11-15T16:20:54.9028Z\",\"2021-11-15T16:20:55.0123Z\",\"2021-11-15T16:21:00.0291Z\",\"2021-11-15T16:21:12.8213Z\",\"2021-11-15T16:21:12.8213Z\",\"2021-11-15T16:21:12.8213Z\",\"2021-11-15T16:21:12.8213Z\",\"2021-11-15T16:21:13.3251Z\",\"2021-11-15T16:21:23.8542Z\",\"2021-11-15T16:21:23.8542Z\",\"2021-11-15T16:21:23.8542Z\",\"2021-11-15T16:21:23.8542Z\",\"2021-11-15T16:21:24.9509Z\",\"2021-11-15T16:21:25.3525Z\",\"2021-11-15T16:21:25.3525Z\",\"2021-11-15T16:21:28.5185Z\",\"2021-11-15T16:21:28.5185Z\",\"2021-11-15T16:21:28.5185Z\",\"2021-11-15T16:21:32.9197Z\",\"2021-11-15T16:21:33.4597Z\",\"2021-11-15T16:21:33.6176Z\",\"2021-11-15T16:21:33.6176Z\",\"2021-11-15T16:21:33.6176Z\",\"2021-11-15T16:21:40.7104Z\",\"2021-11-15T16:21:40.7104Z\",\"2021-11-15T16:21:44.3301Z\",\"2021-11-15T16:21:44.3365Z\",\"2021-11-15T16:21:44.3365Z\",\"2021-11-15T16:21:44.364Z\",\"2021-11-15T16:21:44.364Z\",\"2021-11-15T16:21:44.364Z\",\"2021-11-15T16:21:44.364Z\",\"2021-11-15T16:21:44.364Z\",\"2021-11-15T16:21:44.3704Z\",\"2021-11-15T16:21:44.3704Z\",\"2021-11-15T16:21:44.4213Z\",\"2021-11-15T16:21:44.4213Z\",\"2021-11-15T16:21:44.4213Z\",\"2021-11-15T16:21:44.4213Z\",\"2021-11-15T16:21:44.4213Z\",\"2021-11-15T16:21:44.9262Z\",\"2021-11-15T16:21:47.4608Z\",\"2021-11-15T16:21:48.005Z\",\"2021-11-15T16:21:48.005Z\",\"2021-11-15T16:21:48.3334Z\",\"2021-11-15T16:21:51.9447Z\",\"2021-11-15T16:21:52.9558Z\",\"2021-11-15T16:21:52.9558Z\",\"2021-11-15T16:21:52.9558Z\",\"2021-11-15T16:21:52.9558Z\",\"2021-11-15T16:22:01.7491Z\",\"2021-11-15T16:22:01.7491Z\",\"2021-11-15T16:22:05.2567Z\",\"2021-11-15T16:22:05.652Z\",\"2021-11-15T16:22:12.0504Z\",\"2021-11-15T16:22:12.0504Z\",\"2021-11-15T16:22:17.2242Z\",\"2021-11-15T16:22:17.2242Z\",\"2021-11-15T16:22:17.2886Z\",\"2021-11-15T16:22:17.4588Z\",\"2021-11-15T16:22:19.3191Z\",\"2021-11-15T16:22:24.2553Z\",\"2021-11-15T16:22:25.7657Z\",\"2021-11-15T16:22:29.9902Z\",\"2021-11-15T16:22:31.7177Z\",\"2021-11-15T16:22:31.7177Z\",\"2021-11-15T16:22:31.7177Z\",\"2021-11-15T16:22:35.1163Z\",\"2021-11-15T16:22:35.1163Z\",\"2021-11-15T16:22:37.7331Z\",\"2021-11-15T16:22:38.819Z\",\"2021-11-15T16:22:38.819Z\",\"2021-11-15T16:22:39.8519Z\",\"2021-11-15T16:22:48.6049Z\",\"2021-11-15T16:22:51.4976Z\",\"2021-11-15T16:22:51.5033Z\",\"2021-11-15T16:22:51.5033Z\",\"2021-11-15T16:22:52.1312Z\",\"2021-11-15T16:22:52.1312Z\",\"2021-11-15T16:22:52.145Z\",\"2021-11-15T16:23:02.521Z\",\"2021-11-15T16:23:02.6225Z\",\"2021-11-15T16:23:06.0939Z\",\"2021-11-15T16:23:07.9408Z\",\"2021-11-15T16:23:07.9408Z\",\"2021-11-15T16:23:07.9716Z\",\"2021-11-15T16:23:09.378Z\",\"2021-11-15T16:23:09.9448Z\",\"2021-11-15T16:23:09.9448Z\",\"2021-11-15T16:23:11.5294Z\",\"2021-11-15T16:23:12.6726Z\",\"2021-11-15T16:23:15.3008Z\",\"2021-11-15T16:23:15.3008Z\",\"2021-11-15T16:23:15.3008Z\",\"2021-11-15T16:23:15.3165Z\",\"2021-11-15T16:23:16.4805Z\",\"2021-11-15T16:23:16.4805Z\",\"2021-11-15T16:23:16.4805Z\",\"2021-11-15T16:23:16.4805Z\",\"2021-11-15T16:23:21.2417Z\",\"2021-11-15T16:23:30.1167Z\",\"2021-11-15T16:23:31.0873Z\",\"2021-11-15T16:23:44.5914Z\",\"2021-11-15T16:23:44.5914Z\",\"2021-11-15T16:23:44.5914Z\",\"2021-11-15T16:23:46.3638Z\",\"2021-11-15T16:23:50.5029Z\",\"2021-11-15T16:23:50.6244Z\",\"2021-11-15T16:23:52.0913Z\",\"2021-11-15T16:23:52.0913Z\",\"2021-11-15T16:23:53.2677Z\",\"2021-11-15T16:23:53.2677Z\",\"2021-11-15T16:23:53.2677Z\",\"2021-11-15T16:23:57.2744Z\",\"2021-11-15T16:23:59.3281Z\",\"2021-11-15T16:24:03.0136Z\",\"2021-11-15T16:24:03.0195Z\",\"2021-11-15T16:24:03.0268Z\",\"2021-11-15T16:24:03.8599Z\",\"2021-11-15T16:24:03.8599Z\",\"2021-11-15T16:24:04.0068Z\",\"2021-11-15T16:24:04.0126Z\",\"2021-11-15T16:24:04.0126Z\",\"2021-11-15T16:24:07.0117Z\",\"2021-11-15T16:24:07.0117Z\",\"2021-11-15T16:24:08.312Z\",\"2021-11-15T16:24:09.1439Z\",\"2021-11-15T16:24:09.1439Z\",\"2021-11-15T16:24:09.8479Z\",\"2021-11-15T16:24:09.8479Z\",\"2021-11-15T16:24:10.1307Z\",\"2021-11-15T16:24:10.1307Z\",\"2021-11-15T16:24:10.1361Z\",\"2021-11-15T16:24:10.1361Z\",\"2021-11-15T16:24:10.1361Z\",\"2021-11-15T16:24:10.1361Z\",\"2021-11-15T16:24:10.1361Z\",\"2021-11-15T16:24:11.2161Z\",\"2021-11-15T16:24:11.2161Z\",\"2021-11-15T16:24:11.2161Z\",\"2021-11-15T16:24:11.2161Z\",\"2021-11-15T16:24:11.2161Z\",\"2021-11-15T16:24:11.2161Z\",\"2021-11-15T16:24:11.2161Z\",\"2021-11-15T16:24:12.5583Z\",\"2021-11-15T16:24:12.6439Z\",\"2021-11-15T16:24:12.6439Z\",\"2021-11-15T16:24:12.6507Z\",\"2021-11-15T16:24:12.6926Z\",\"2021-11-15T16:24:12.6926Z\",\"2021-11-15T16:24:12.6926Z\",\"2021-11-15T16:24:13.2501Z\",\"2021-11-15T16:24:13.3662Z\",\"2021-11-15T16:24:19.3247Z\",\"2021-11-15T16:24:21.8261Z\",\"2021-11-15T16:24:45.0553Z\",\"2021-11-15T16:24:47.9593Z\",\"2021-11-15T16:24:47.9593Z\",\"2021-11-15T16:24:53.3566Z\",\"2021-11-15T16:25:03.496Z\",\"2021-11-15T16:25:03.496Z\",\"2021-11-15T16:25:07.1436Z\",\"2021-11-15T16:25:20.5928Z\",\"2021-11-15T16:25:20.5928Z\",\"2021-11-15T16:25:20.5928Z\",\"2021-11-15T16:25:20.5928Z\",\"2021-11-15T16:25:23.9875Z\",\"2021-11-15T16:25:24.0885Z\",\"2021-11-15T16:25:24.0885Z\",\"2021-11-15T16:25:31.9041Z\",\"2021-11-15T16:25:31.9041Z\",\"2021-11-15T16:25:32.5619Z\",\"2021-11-15T16:25:32.5619Z\",\"2021-11-15T16:25:32.5619Z\",\"2021-11-15T16:25:33.4157Z\",\"2021-11-15T16:25:33.4157Z\",\"2021-11-15T16:25:33.4157Z\",\"2021-11-15T16:25:33.7374Z\",\"2021-11-15T16:25:33.7374Z\",\"2021-11-15T16:25:34.817Z\",\"2021-11-15T16:25:36.8182Z\",\"2021-11-15T16:25:36.8182Z\",\"2021-11-15T16:25:38.1513Z\",\"2021-11-15T16:25:38.1513Z\",\"2021-11-15T16:25:42.4114Z\",\"2021-11-15T16:25:42.4114Z\",\"2021-11-15T16:25:42.4114Z\",\"2021-11-15T16:25:42.4114Z\",\"2021-11-15T16:25:44.5526Z\",\"2021-11-15T16:25:44.5526Z\",\"2021-11-15T16:25:44.5526Z\",\"2021-11-15T16:25:44.5526Z\",\"2021-11-15T16:25:47.9666Z\",\"2021-11-15T16:25:47.9666Z\",\"2021-11-15T16:25:47.9666Z\",\"2021-11-15T16:25:48.074Z\",\"2021-11-15T16:25:50.4475Z\",\"2021-11-15T16:25:56.741Z\",\"2021-11-15T16:25:56.741Z\",\"2021-11-15T16:26:01.8518Z\",\"2021-11-15T16:26:04.1836Z\",\"2021-11-15T16:26:04.1836Z\",\"2021-11-15T16:26:04.1836Z\",\"2021-11-15T16:26:04.1836Z\",\"2021-11-15T16:26:04.2002Z\",\"2021-11-15T16:26:04.2002Z\",\"2021-11-15T16:26:04.2002Z\",\"2021-11-15T16:26:04.206Z\",\"2021-11-15T16:26:04.206Z\",\"2021-11-15T16:26:04.206Z\",\"2021-11-15T16:26:04.206Z\",\"2021-11-15T16:26:04.206Z\",\"2021-11-15T16:26:04.206Z\",\"2021-11-15T16:26:04.206Z\",\"2021-11-15T16:26:04.206Z\",\"2021-11-15T16:26:04.206Z\",\"2021-11-15T16:26:04.206Z\",\"2021-11-15T16:26:04.206Z\",\"2021-11-15T16:26:04.206Z\",\"2021-11-15T16:26:04.206Z\",\"2021-11-15T16:26:04.206Z\",\"2021-11-15T16:26:04.206Z\",\"2021-11-15T16:26:04.206Z\",\"2021-11-15T16:26:04.206Z\",\"2021-11-15T16:26:04.2175Z\",\"2021-11-15T16:26:04.2452Z\",\"2021-11-15T16:26:04.2452Z\",\"2021-11-15T16:26:04.2452Z\",\"2021-11-15T16:26:04.2452Z\",\"2021-11-15T16:26:04.2506Z\",\"2021-11-15T16:26:04.2506Z\",\"2021-11-15T16:26:04.2667Z\",\"2021-11-15T16:26:04.2667Z\",\"2021-11-15T16:26:04.2667Z\",\"2021-11-15T16:26:04.2667Z\",\"2021-11-15T16:26:04.2667Z\",\"2021-11-15T16:26:04.3432Z\",\"2021-11-15T16:26:04.3432Z\",\"2021-11-15T16:26:04.3432Z\",\"2021-11-15T16:26:04.3432Z\",\"2021-11-15T16:26:04.3432Z\",\"2021-11-15T16:26:04.3547Z\",\"2021-11-15T16:26:04.3547Z\",\"2021-11-15T16:26:04.3547Z\",\"2021-11-15T16:26:04.4585Z\",\"2021-11-15T16:26:04.5164Z\",\"2021-11-15T16:26:04.5164Z\",\"2021-11-15T16:26:04.7376Z\",\"2021-11-15T16:26:04.7376Z\",\"2021-11-15T16:26:04.7376Z\",\"2021-11-15T16:26:05.2359Z\",\"2021-11-15T16:26:05.7361Z\",\"2021-11-15T16:26:05.7976Z\",\"2021-11-15T16:26:07.8386Z\",\"2021-11-15T16:26:09.7705Z\",\"2021-11-15T16:26:09.7705Z\",\"2021-11-15T16:26:09.7705Z\",\"2021-11-15T16:26:09.7705Z\",\"2021-11-15T16:26:09.9748Z\",\"2021-11-15T16:26:16.723Z\",\"2021-11-15T16:26:17.4339Z\",\"2021-11-15T16:26:17.7947Z\",\"2021-11-15T16:26:19.9086Z\",\"2021-11-15T16:26:23.9764Z\",\"2021-11-15T16:26:25.5146Z\",\"2021-11-15T16:26:27.3533Z\",\"2021-11-15T16:26:28.6903Z\",\"2021-11-15T16:26:28.6903Z\",\"2021-11-15T16:26:28.6903Z\",\"2021-11-15T16:26:30.3554Z\",\"2021-11-15T16:26:31.2939Z\",\"2021-11-15T16:26:31.2939Z\",\"2021-11-15T16:26:31.2939Z\",\"2021-11-15T16:26:31.2939Z\",\"2021-11-15T16:26:31.2992Z\",\"2021-11-15T16:26:38.3681Z\",\"2021-11-15T16:26:38.3681Z\",\"2021-11-15T16:26:41.7816Z\",\"2021-11-15T16:26:41.7907Z\",\"2021-11-15T16:26:44.1665Z\",\"2021-11-15T16:26:44.872Z\",\"2021-11-15T16:26:44.872Z\",\"2021-11-15T16:26:57.1395Z\",\"2021-11-15T16:27:01.9971Z\",\"2021-11-15T16:27:02.0076Z\",\"2021-11-15T16:27:02.0076Z\",\"2021-11-15T16:27:02.0076Z\",\"2021-11-15T16:27:02.6667Z\",\"2021-11-15T16:27:02.8955Z\",\"2021-11-15T16:27:03.0288Z\",\"2021-11-15T16:27:03.6261Z\",\"2021-11-15T16:27:07.6471Z\",\"2021-11-15T16:27:07.9747Z\",\"2021-11-15T16:27:11.1043Z\",\"2021-11-15T16:27:11.1122Z\",\"2021-11-15T16:27:11.1122Z\",\"2021-11-15T16:27:14.6732Z\",\"2021-11-15T16:27:19.8732Z\",\"2021-11-15T16:27:19.9608Z\",\"2021-11-15T16:27:35.4476Z\",\"2021-11-15T16:27:42.1431Z\",\"2021-11-15T16:27:44.8398Z\",\"2021-11-15T16:27:48.5847Z\",\"2021-11-15T16:27:48.5847Z\",\"2021-11-15T16:27:55.8242Z\",\"2021-11-15T16:28:06.4729Z\",\"2021-11-15T16:28:13.7024Z\",\"2021-11-15T16:28:21.6472Z\",\"2021-11-15T16:28:21.6472Z\",\"2021-11-15T16:28:21.653Z\",\"2021-11-15T16:28:24.1666Z\",\"2021-11-15T16:28:27.0438Z\",\"2021-11-15T16:28:27.0438Z\",\"2021-11-15T16:28:28.9112Z\",\"2021-11-15T16:28:31.4315Z\",\"2021-11-15T16:28:34.902Z\",\"2021-11-15T16:28:34.902Z\",\"2021-11-15T16:28:34.902Z\",\"2021-11-15T16:28:34.902Z\",\"2021-11-15T16:28:38.2276Z\",\"2021-11-15T16:28:41.7072Z\",\"2021-11-15T16:28:48.4439Z\",\"2021-11-15T16:28:48.4439Z\",\"2021-11-15T16:28:48.4439Z\",\"2021-11-15T16:28:48.4439Z\",\"2021-11-15T16:29:02.6464Z\",\"2021-11-15T16:29:03.52Z\",\"2021-11-15T16:29:03.52Z\",\"2021-11-15T16:29:03.52Z\",\"2021-11-15T16:29:06.5952Z\",\"2021-11-15T16:29:16.6057Z\",\"2021-11-15T16:29:16.6057Z\",\"2021-11-15T16:29:16.6057Z\",\"2021-11-15T16:29:16.8856Z\",\"2021-11-15T16:29:16.8856Z\",\"2021-11-15T16:29:16.8856Z\",\"2021-11-15T16:29:16.8856Z\",\"2021-11-15T16:29:22.978Z\",\"2021-11-15T16:29:26.2579Z\",\"2021-11-15T16:29:26.2579Z\",\"2021-11-15T16:29:26.2579Z\",\"2021-11-15T16:29:27.905Z\",\"2021-11-15T16:29:39.2165Z\",\"2021-11-15T16:29:39.2165Z\",\"2021-11-15T16:29:39.2165Z\",\"2021-11-15T16:29:39.2165Z\",\"2021-11-15T16:29:46.4614Z\",\"2021-11-15T16:29:51.1097Z\",\"2021-11-15T16:29:58.7216Z\",\"2021-11-15T16:29:58.7216Z\"],\"y\":[150.12,150.12,150.13,150.13,150.13,150.12,150.12,150.12,150.12,150.11,150.1,150.09,150.09,150.09,150.09,150.09,150.09,150.09,150.09,150.11,150.11,150.11,150.1,150.1,150.09,150.09,150.09,150.09,150.09,150.09,150.09,150.1,150.1,150.1,150.1,150.09,150.09,150.09,150.09,150.09,150.09,150.09,150.09,150.09,150.09,150.09,150.09,150.11,150.11,150.11,150.11,150.1,150.09,150.09,150.09,150.09,150.08,150.07,150.07,150.08,150.08,150.08,150.08,150.09,150.09,150.095,150.09,150.07,150.07,150.05,150.05,150.05,150.04,150.04,150.04,150.04,150.04,150.03,150.03,150.03,150.03,150.03,150.03,150.03,150.04,150.06,150.08,150.08,150.07,150.07,150.06,150.06,150.06,150.06,150.06,150.06,150.04,150.04,150.06,150.06,150.08,150.08,150.08,150.08,150.07,150.06,150.08,150.08,150.07,150.07,150.07,150.06,150.06,150.07,150.08,150.08,150.08,150.07,150.07,150.08,150.08,150.09,150.09,150.09,150.11,150.11,150.11,150.12,150.12,150.12,150.13,150.12,150.12,150.13,150.13,150.12,150.12,150.12,150.11,150.1,150.1,150.1,150.1,150.08,150.07,150.07,150.09,150.09,150.09,150.08,150.07,150.06,150.06,150.06,150.04,150.04,150.04,150.05,150.05,150.05,150.03,150.03,150.04,150.04,150.04,150.04,150.04,150.04,150.04,150.03,150.02,150.02,150.02,150.02,150.03,150.03,150.03,150.03,150.03,150.03,150.03,150.02,150.02,150.02,150.02,150.02,150.01,150.01,150.03,150.03,150.03,150.03,150.03,150.03,150.03,150.03,150.03,150.035,150.05,150.05,150.05,150.05,150.07,150.07,150.07,150.07,150.08,150.08,150.08,150.08,150.07,150.07,150.07,150.06,150.06,150.06,150.06,150.06,150.05,150.05,150.05,150.05,150.05,150.05,150.04,150.04,150.04,150.04,150.04,150.04,150.04,150.04,150.04,150.04,150.04,150.04,150.04,150.04,150.04,150.04,150.03,150.02,150.02,150.02,150.01,150.01,150.01,150.01,150.0,150.0,150.0,149.99,149.99,149.99,149.99,149.99,149.99,149.99,149.99,149.99,149.99,149.99,149.99,149.99,149.99,149.99,149.99,149.99,149.99,149.99,149.99,149.99,149.99,149.985,149.985,149.985,149.98,149.97,149.97,149.97,149.975,149.97,149.97,149.97,149.97,149.96,149.96,149.96,149.96,149.96,149.96,149.97,149.97,149.97,149.98,149.98,149.99,149.99,149.99,149.99,149.99,149.99,149.99,149.99,149.99,149.99,149.99,150.0,150.01,150.01,150.01,150.01,150.01,150.02,150.02,150.02,150.02,150.02,150.01,150.02,150.02,150.01,150.01,150.03,150.03,150.03,150.03,150.02,150.02,150.02,150.02,150.02,150.02,150.02,150.02,150.03,150.04,150.04,150.04,150.04,150.04,150.05,150.05,150.06,150.07,150.08,150.08,150.08,150.08,150.09,150.09,150.08,150.08,150.08,150.08,150.08,150.08,150.08,150.08,150.09,150.1,150.1,150.1,150.07,150.065,150.06,150.06,150.06,150.06,150.05,150.05,150.05,150.05,150.04,150.03,150.03,150.03,150.05,150.05,150.05,150.05,150.05,150.04,150.04,150.04,150.04,150.07,150.07,150.07,150.07,150.08,150.07,150.06,150.06],\"mode\":\"lines\",\"name\":\"Tradeprice\"},{\"type\":\"scattergl\",\"x\":[\"2021-11-15T16:20:00.4707Z\",\"2021-11-15T16:20:00.4707Z\",\"2021-11-15T16:20:00.5776Z\",\"2021-11-15T16:20:00.5776Z\",\"2021-11-15T16:20:00.5776Z\",\"2021-11-15T16:20:02.9234Z\",\"2021-11-15T16:20:02.9234Z\",\"2021-11-15T16:20:02.9234Z\",\"2021-11-15T16:20:02.9234Z\",\"2021-11-15T16:20:02.936Z\",\"2021-11-15T16:20:02.947Z\",\"2021-11-15T16:20:02.947Z\",\"2021-11-15T16:20:02.9526Z\",\"2021-11-15T16:20:02.9526Z\",\"2021-11-15T16:20:02.9526Z\",\"2021-11-15T16:20:02.9526Z\",\"2021-11-15T16:20:02.9526Z\",\"2021-11-15T16:20:02.9526Z\",\"2021-11-15T16:20:03.0078Z\",\"2021-11-15T16:20:03.8237Z\",\"2021-11-15T16:20:03.9902Z\",\"2021-11-15T16:20:03.9902Z\",\"2021-11-15T16:20:06.1099Z\",\"2021-11-15T16:20:06.1174Z\",\"2021-11-15T16:20:07.0873Z\",\"2021-11-15T16:20:07.0873Z\",\"2021-11-15T16:20:07.0873Z\",\"2021-11-15T16:20:07.1262Z\",\"2021-11-15T16:20:07.2949Z\",\"2021-11-15T16:20:08.6266Z\",\"2021-11-15T16:20:10.2403Z\",\"2021-11-15T16:20:11.6685Z\",\"2021-11-15T16:20:12.4271Z\",\"2021-11-15T16:20:16.5748Z\",\"2021-11-15T16:20:21.1351Z\",\"2021-11-15T16:20:44.7301Z\",\"2021-11-15T16:20:47.2181Z\",\"2021-11-15T16:20:47.2236Z\",\"2021-11-15T16:20:47.2236Z\",\"2021-11-15T16:20:47.2236Z\",\"2021-11-15T16:20:47.2236Z\",\"2021-11-15T16:20:49.9707Z\",\"2021-11-15T16:20:50.005Z\",\"2021-11-15T16:20:54.1745Z\",\"2021-11-15T16:20:54.9028Z\",\"2021-11-15T16:20:55.0123Z\",\"2021-11-15T16:21:00.0291Z\",\"2021-11-15T16:21:12.8213Z\",\"2021-11-15T16:21:12.8213Z\",\"2021-11-15T16:21:12.8213Z\",\"2021-11-15T16:21:12.8213Z\",\"2021-11-15T16:21:13.3251Z\",\"2021-11-15T16:21:23.8542Z\",\"2021-11-15T16:21:23.8542Z\",\"2021-11-15T16:21:23.8542Z\",\"2021-11-15T16:21:23.8542Z\",\"2021-11-15T16:21:24.9509Z\",\"2021-11-15T16:21:25.3525Z\",\"2021-11-15T16:21:25.3525Z\",\"2021-11-15T16:21:28.5185Z\",\"2021-11-15T16:21:28.5185Z\",\"2021-11-15T16:21:28.5185Z\",\"2021-11-15T16:21:32.9197Z\",\"2021-11-15T16:21:33.4597Z\",\"2021-11-15T16:21:33.6176Z\",\"2021-11-15T16:21:33.6176Z\",\"2021-11-15T16:21:33.6176Z\",\"2021-11-15T16:21:40.7104Z\",\"2021-11-15T16:21:40.7104Z\",\"2021-11-15T16:21:44.3301Z\",\"2021-11-15T16:21:44.3365Z\",\"2021-11-15T16:21:44.3365Z\",\"2021-11-15T16:21:44.364Z\",\"2021-11-15T16:21:44.364Z\",\"2021-11-15T16:21:44.364Z\",\"2021-11-15T16:21:44.364Z\",\"2021-11-15T16:21:44.364Z\",\"2021-11-15T16:21:44.3704Z\",\"2021-11-15T16:21:44.3704Z\",\"2021-11-15T16:21:44.4213Z\",\"2021-11-15T16:21:44.4213Z\",\"2021-11-15T16:21:44.4213Z\",\"2021-11-15T16:21:44.4213Z\",\"2021-11-15T16:21:44.4213Z\",\"2021-11-15T16:21:44.9262Z\",\"2021-11-15T16:21:47.4608Z\",\"2021-11-15T16:21:48.005Z\",\"2021-11-15T16:21:48.005Z\",\"2021-11-15T16:21:48.3334Z\",\"2021-11-15T16:21:51.9447Z\",\"2021-11-15T16:21:52.9558Z\",\"2021-11-15T16:21:52.9558Z\",\"2021-11-15T16:21:52.9558Z\",\"2021-11-15T16:21:52.9558Z\",\"2021-11-15T16:22:01.7491Z\",\"2021-11-15T16:22:01.7491Z\",\"2021-11-15T16:22:05.2567Z\",\"2021-11-15T16:22:05.652Z\",\"2021-11-15T16:22:12.0504Z\",\"2021-11-15T16:22:12.0504Z\",\"2021-11-15T16:22:17.2242Z\",\"2021-11-15T16:22:17.2242Z\",\"2021-11-15T16:22:17.2886Z\",\"2021-11-15T16:22:17.4588Z\",\"2021-11-15T16:22:19.3191Z\",\"2021-11-15T16:22:24.2553Z\",\"2021-11-15T16:22:25.7657Z\",\"2021-11-15T16:22:29.9902Z\",\"2021-11-15T16:22:31.7177Z\",\"2021-11-15T16:22:31.7177Z\",\"2021-11-15T16:22:31.7177Z\",\"2021-11-15T16:22:35.1163Z\",\"2021-11-15T16:22:35.1163Z\",\"2021-11-15T16:22:37.7331Z\",\"2021-11-15T16:22:38.819Z\",\"2021-11-15T16:22:38.819Z\",\"2021-11-15T16:22:39.8519Z\",\"2021-11-15T16:22:48.6049Z\",\"2021-11-15T16:22:51.4976Z\",\"2021-11-15T16:22:51.5033Z\",\"2021-11-15T16:22:51.5033Z\",\"2021-11-15T16:22:52.1312Z\",\"2021-11-15T16:22:52.1312Z\",\"2021-11-15T16:22:52.145Z\",\"2021-11-15T16:23:02.521Z\",\"2021-11-15T16:23:02.6225Z\",\"2021-11-15T16:23:06.0939Z\",\"2021-11-15T16:23:07.9408Z\",\"2021-11-15T16:23:07.9408Z\",\"2021-11-15T16:23:07.9716Z\",\"2021-11-15T16:23:09.378Z\",\"2021-11-15T16:23:09.9448Z\",\"2021-11-15T16:23:09.9448Z\",\"2021-11-15T16:23:11.5294Z\",\"2021-11-15T16:23:12.6726Z\",\"2021-11-15T16:23:15.3008Z\",\"2021-11-15T16:23:15.3008Z\",\"2021-11-15T16:23:15.3008Z\",\"2021-11-15T16:23:15.3165Z\",\"2021-11-15T16:23:16.4805Z\",\"2021-11-15T16:23:16.4805Z\",\"2021-11-15T16:23:16.4805Z\",\"2021-11-15T16:23:16.4805Z\",\"2021-11-15T16:23:21.2417Z\",\"2021-11-15T16:23:30.1167Z\",\"2021-11-15T16:23:31.0873Z\",\"2021-11-15T16:23:44.5914Z\",\"2021-11-15T16:23:44.5914Z\",\"2021-11-15T16:23:44.5914Z\",\"2021-11-15T16:23:46.3638Z\",\"2021-11-15T16:23:50.5029Z\",\"2021-11-15T16:23:50.6244Z\",\"2021-11-15T16:23:52.0913Z\",\"2021-11-15T16:23:52.0913Z\",\"2021-11-15T16:23:53.2677Z\",\"2021-11-15T16:23:53.2677Z\",\"2021-11-15T16:23:53.2677Z\",\"2021-11-15T16:23:57.2744Z\",\"2021-11-15T16:23:59.3281Z\",\"2021-11-15T16:24:03.0136Z\",\"2021-11-15T16:24:03.0195Z\",\"2021-11-15T16:24:03.0268Z\",\"2021-11-15T16:24:03.8599Z\",\"2021-11-15T16:24:03.8599Z\",\"2021-11-15T16:24:04.0068Z\",\"2021-11-15T16:24:04.0126Z\",\"2021-11-15T16:24:04.0126Z\",\"2021-11-15T16:24:07.0117Z\",\"2021-11-15T16:24:07.0117Z\",\"2021-11-15T16:24:08.312Z\",\"2021-11-15T16:24:09.1439Z\",\"2021-11-15T16:24:09.1439Z\",\"2021-11-15T16:24:09.8479Z\",\"2021-11-15T16:24:09.8479Z\",\"2021-11-15T16:24:10.1307Z\",\"2021-11-15T16:24:10.1307Z\",\"2021-11-15T16:24:10.1361Z\",\"2021-11-15T16:24:10.1361Z\",\"2021-11-15T16:24:10.1361Z\",\"2021-11-15T16:24:10.1361Z\",\"2021-11-15T16:24:10.1361Z\",\"2021-11-15T16:24:11.2161Z\",\"2021-11-15T16:24:11.2161Z\",\"2021-11-15T16:24:11.2161Z\",\"2021-11-15T16:24:11.2161Z\",\"2021-11-15T16:24:11.2161Z\",\"2021-11-15T16:24:11.2161Z\",\"2021-11-15T16:24:11.2161Z\",\"2021-11-15T16:24:12.5583Z\",\"2021-11-15T16:24:12.6439Z\",\"2021-11-15T16:24:12.6439Z\",\"2021-11-15T16:24:12.6507Z\",\"2021-11-15T16:24:12.6926Z\",\"2021-11-15T16:24:12.6926Z\",\"2021-11-15T16:24:12.6926Z\",\"2021-11-15T16:24:13.2501Z\",\"2021-11-15T16:24:13.3662Z\",\"2021-11-15T16:24:19.3247Z\",\"2021-11-15T16:24:21.8261Z\",\"2021-11-15T16:24:45.0553Z\",\"2021-11-15T16:24:47.9593Z\",\"2021-11-15T16:24:47.9593Z\",\"2021-11-15T16:24:53.3566Z\",\"2021-11-15T16:25:03.496Z\",\"2021-11-15T16:25:03.496Z\",\"2021-11-15T16:25:07.1436Z\",\"2021-11-15T16:25:20.5928Z\",\"2021-11-15T16:25:20.5928Z\",\"2021-11-15T16:25:20.5928Z\",\"2021-11-15T16:25:20.5928Z\",\"2021-11-15T16:25:23.9875Z\",\"2021-11-15T16:25:24.0885Z\",\"2021-11-15T16:25:24.0885Z\",\"2021-11-15T16:25:31.9041Z\",\"2021-11-15T16:25:31.9041Z\",\"2021-11-15T16:25:32.5619Z\",\"2021-11-15T16:25:32.5619Z\",\"2021-11-15T16:25:32.5619Z\",\"2021-11-15T16:25:33.4157Z\",\"2021-11-15T16:25:33.4157Z\",\"2021-11-15T16:25:33.4157Z\",\"2021-11-15T16:25:33.7374Z\",\"2021-11-15T16:25:33.7374Z\",\"2021-11-15T16:25:34.817Z\",\"2021-11-15T16:25:36.8182Z\",\"2021-11-15T16:25:36.8182Z\",\"2021-11-15T16:25:38.1513Z\",\"2021-11-15T16:25:38.1513Z\",\"2021-11-15T16:25:42.4114Z\",\"2021-11-15T16:25:42.4114Z\",\"2021-11-15T16:25:42.4114Z\",\"2021-11-15T16:25:42.4114Z\",\"2021-11-15T16:25:44.5526Z\",\"2021-11-15T16:25:44.5526Z\",\"2021-11-15T16:25:44.5526Z\",\"2021-11-15T16:25:44.5526Z\",\"2021-11-15T16:25:47.9666Z\",\"2021-11-15T16:25:47.9666Z\",\"2021-11-15T16:25:47.9666Z\",\"2021-11-15T16:25:48.074Z\",\"2021-11-15T16:25:50.4475Z\",\"2021-11-15T16:25:56.741Z\",\"2021-11-15T16:25:56.741Z\",\"2021-11-15T16:26:01.8518Z\",\"2021-11-15T16:26:04.1836Z\",\"2021-11-15T16:26:04.1836Z\",\"2021-11-15T16:26:04.1836Z\",\"2021-11-15T16:26:04.1836Z\",\"2021-11-15T16:26:04.2002Z\",\"2021-11-15T16:26:04.2002Z\",\"2021-11-15T16:26:04.2002Z\",\"2021-11-15T16:26:04.206Z\",\"2021-11-15T16:26:04.206Z\",\"2021-11-15T16:26:04.206Z\",\"2021-11-15T16:26:04.206Z\",\"2021-11-15T16:26:04.206Z\",\"2021-11-15T16:26:04.206Z\",\"2021-11-15T16:26:04.206Z\",\"2021-11-15T16:26:04.206Z\",\"2021-11-15T16:26:04.206Z\",\"2021-11-15T16:26:04.206Z\",\"2021-11-15T16:26:04.206Z\",\"2021-11-15T16:26:04.206Z\",\"2021-11-15T16:26:04.206Z\",\"2021-11-15T16:26:04.206Z\",\"2021-11-15T16:26:04.206Z\",\"2021-11-15T16:26:04.206Z\",\"2021-11-15T16:26:04.206Z\",\"2021-11-15T16:26:04.2175Z\",\"2021-11-15T16:26:04.2452Z\",\"2021-11-15T16:26:04.2452Z\",\"2021-11-15T16:26:04.2452Z\",\"2021-11-15T16:26:04.2452Z\",\"2021-11-15T16:26:04.2506Z\",\"2021-11-15T16:26:04.2506Z\",\"2021-11-15T16:26:04.2667Z\",\"2021-11-15T16:26:04.2667Z\",\"2021-11-15T16:26:04.2667Z\",\"2021-11-15T16:26:04.2667Z\",\"2021-11-15T16:26:04.2667Z\",\"2021-11-15T16:26:04.3432Z\",\"2021-11-15T16:26:04.3432Z\",\"2021-11-15T16:26:04.3432Z\",\"2021-11-15T16:26:04.3432Z\",\"2021-11-15T16:26:04.3432Z\",\"2021-11-15T16:26:04.3547Z\",\"2021-11-15T16:26:04.3547Z\",\"2021-11-15T16:26:04.3547Z\",\"2021-11-15T16:26:04.4585Z\",\"2021-11-15T16:26:04.5164Z\",\"2021-11-15T16:26:04.5164Z\",\"2021-11-15T16:26:04.7376Z\",\"2021-11-15T16:26:04.7376Z\",\"2021-11-15T16:26:04.7376Z\",\"2021-11-15T16:26:05.2359Z\",\"2021-11-15T16:26:05.7361Z\",\"2021-11-15T16:26:05.7976Z\",\"2021-11-15T16:26:07.8386Z\",\"2021-11-15T16:26:09.7705Z\",\"2021-11-15T16:26:09.7705Z\",\"2021-11-15T16:26:09.7705Z\",\"2021-11-15T16:26:09.7705Z\",\"2021-11-15T16:26:09.9748Z\",\"2021-11-15T16:26:16.723Z\",\"2021-11-15T16:26:17.4339Z\",\"2021-11-15T16:26:17.7947Z\",\"2021-11-15T16:26:19.9086Z\",\"2021-11-15T16:26:23.9764Z\",\"2021-11-15T16:26:25.5146Z\",\"2021-11-15T16:26:27.3533Z\",\"2021-11-15T16:26:28.6903Z\",\"2021-11-15T16:26:28.6903Z\",\"2021-11-15T16:26:28.6903Z\",\"2021-11-15T16:26:30.3554Z\",\"2021-11-15T16:26:31.2939Z\",\"2021-11-15T16:26:31.2939Z\",\"2021-11-15T16:26:31.2939Z\",\"2021-11-15T16:26:31.2939Z\",\"2021-11-15T16:26:31.2992Z\",\"2021-11-15T16:26:38.3681Z\",\"2021-11-15T16:26:38.3681Z\",\"2021-11-15T16:26:41.7816Z\",\"2021-11-15T16:26:41.7907Z\",\"2021-11-15T16:26:44.1665Z\",\"2021-11-15T16:26:44.872Z\",\"2021-11-15T16:26:44.872Z\",\"2021-11-15T16:26:57.1395Z\",\"2021-11-15T16:27:01.9971Z\",\"2021-11-15T16:27:02.0076Z\",\"2021-11-15T16:27:02.0076Z\",\"2021-11-15T16:27:02.0076Z\",\"2021-11-15T16:27:02.6667Z\",\"2021-11-15T16:27:02.8955Z\",\"2021-11-15T16:27:03.0288Z\",\"2021-11-15T16:27:03.6261Z\",\"2021-11-15T16:27:07.6471Z\",\"2021-11-15T16:27:07.9747Z\",\"2021-11-15T16:27:11.1043Z\",\"2021-11-15T16:27:11.1122Z\",\"2021-11-15T16:27:11.1122Z\",\"2021-11-15T16:27:14.6732Z\",\"2021-11-15T16:27:19.8732Z\",\"2021-11-15T16:27:19.9608Z\",\"2021-11-15T16:27:35.4476Z\",\"2021-11-15T16:27:42.1431Z\",\"2021-11-15T16:27:44.8398Z\",\"2021-11-15T16:27:48.5847Z\",\"2021-11-15T16:27:48.5847Z\",\"2021-11-15T16:27:55.8242Z\",\"2021-11-15T16:28:06.4729Z\",\"2021-11-15T16:28:13.7024Z\",\"2021-11-15T16:28:21.6472Z\",\"2021-11-15T16:28:21.6472Z\",\"2021-11-15T16:28:21.653Z\",\"2021-11-15T16:28:24.1666Z\",\"2021-11-15T16:28:27.0438Z\",\"2021-11-15T16:28:27.0438Z\",\"2021-11-15T16:28:28.9112Z\",\"2021-11-15T16:28:31.4315Z\",\"2021-11-15T16:28:34.902Z\",\"2021-11-15T16:28:34.902Z\",\"2021-11-15T16:28:34.902Z\",\"2021-11-15T16:28:34.902Z\",\"2021-11-15T16:28:38.2276Z\",\"2021-11-15T16:28:41.7072Z\",\"2021-11-15T16:28:48.4439Z\",\"2021-11-15T16:28:48.4439Z\",\"2021-11-15T16:28:48.4439Z\",\"2021-11-15T16:28:48.4439Z\",\"2021-11-15T16:29:02.6464Z\",\"2021-11-15T16:29:03.52Z\",\"2021-11-15T16:29:03.52Z\",\"2021-11-15T16:29:03.52Z\",\"2021-11-15T16:29:06.5952Z\",\"2021-11-15T16:29:16.6057Z\",\"2021-11-15T16:29:16.6057Z\",\"2021-11-15T16:29:16.6057Z\",\"2021-11-15T16:29:16.8856Z\",\"2021-11-15T16:29:16.8856Z\",\"2021-11-15T16:29:16.8856Z\",\"2021-11-15T16:29:16.8856Z\",\"2021-11-15T16:29:22.978Z\",\"2021-11-15T16:29:26.2579Z\",\"2021-11-15T16:29:26.2579Z\",\"2021-11-15T16:29:26.2579Z\",\"2021-11-15T16:29:27.905Z\",\"2021-11-15T16:29:39.2165Z\",\"2021-11-15T16:29:39.2165Z\",\"2021-11-15T16:29:39.2165Z\",\"2021-11-15T16:29:39.2165Z\",\"2021-11-15T16:29:46.4614Z\",\"2021-11-15T16:29:51.1097Z\",\"2021-11-15T16:29:58.7216Z\",\"2021-11-15T16:29:58.7216Z\"],\"y\":[76,24,59,99,32,100,100,100,100,2,100,100,100,100,21,79,100,100,10,97,18,100,100,87,100,100,100,100,100,100,10,100,16,18,23,100,35,65,10,1,21,63,10,10,100,100,100,198,10,100,100,21,100,22,4,8,100,100,100,3,97,3,100,12,100,20,80,100,11,100,79,100,1,100,100,119,81,55,34,66,100,100,100,100,100,100,12,73,22,100,18,1,100,100,1,99,100,100,16,4,1,8,22,56,59,100,8,100,100,100,49,53,47,100,100,100,100,100,100,100,300,26,74,100,47,10,100,85,50,100,2,100,100,100,100,100,13,62,400,200,100,100,100,200,100,11,28,100,100,10,100,11,1,100,100,100,100,96,10,54,400,100,1,100,66,100,19,100,100,100,7,3,100,100,100,100,100,100,100,100,100,100,100,100,100,100,1,505,100,100,600,100,100,100,100,100,100,100,12,5,100,100,100,100,10,100,100,11,200,24,1,1,98,1,1,20,20,100,100,100,98,100,100,100,100,100,100,88,13,82,18,3,11,70,4,26,100,100,100,100,80,100,10,11,75,61,64,136,255,100,100,2,1,1,3,1,1,2,6,1,2,1,3,1,25,6,100,400,56,56,44,6,1,24,4,521,100,54,79,100,100,100,100,100,100,100,100,100,100,100,100,100,100,100,12,100,100,30,200,20,200,100,500,100,100,100,100,100,100,32,27,173,227,100,100,100,100,100,100,100,11,10,100,21,200,100,100,29,24,87,10,5,4,4,100,100,3,100,5,88,10,5,100,1,100,100,100,10,70,100,100,268,232,100,1,100,10,40,10,3,7,90,10,10,100,10,100,4,100,100,100,100,10,1,100,100,100,100,100,100,11,2,2,11,12,1,15,100,100,85,10,29,100,12],\"yaxis\":\"y2\",\"name\":\"Tradesize\"}];\n",
       "           var layout = {\"title\":\"Interval trades for AAPL-BATS | Trades count: 394 | Toal traded volume: 30375 \",\"xaxis\":{\"title\":\"Time\",\"_isSubplotObj\":true},\"yaxis\":{\"title\":\"Price\",\"autorange\":true,\"side\":\"left\",\"_isSubplotObj\":true},\"yaxis2\":{\"title\":\"Size\",\"autorange\":true,\"side\":\"right\",\"_isSubplotObj\":true}};\n",
       "           Plotly.newPlot('3b00b152-1dd7-47fb-9221-af65e6fd9201', data, layout);\n",
       "        \n",
       "});\n",
       "};\n",
       "// ensure `require` is available globally\n",
       "if ((typeof(require) !==  typeof(Function)) || (typeof(require.config) !== typeof(Function))) {\n",
       "    let require_script = document.createElement('script');\n",
       "    require_script.setAttribute('src', 'https://cdnjs.cloudflare.com/ajax/libs/require.js/2.3.6/require.min.js');\n",
       "    require_script.setAttribute('type', 'text/javascript');\n",
       "    \n",
       "    \n",
       "    require_script.onload = function() {\n",
       "        renderPlotly();\n",
       "    };\n",
       "\n",
       "    document.getElementsByTagName('head')[0].appendChild(require_script);\n",
       "}\n",
       "else {\n",
       "    renderPlotly();\n",
       "}\n",
       "\n",
       "</script>\n"
      ]
     },
     "metadata": {},
     "output_type": "display_data"
    }
   ],
   "source": [
    "var pricesAndVolumes = new List<Scattergl>\n",
    "{ \n",
    "    new Scattergl\n",
    "    {\n",
    "        name = \"Tradeprice\",\n",
    "        mode = \"lines\",\n",
    "        x = trades.Select(elt => elt.Item1.ToDateTime()),\n",
    "        y = trades.Select(elt => elt.Item2.Price)\n",
    "    },\n",
    "    new Scattergl\n",
    "    {\n",
    "        name = \"Tradesize\",\n",
    "        x = trades.Select(elt => elt.Item1.ToDateTime()),\n",
    "        y = trades.Select(elt => elt.Item2.Size),\n",
    "        yaxis = \"y2\"\n",
    "    }\n",
    "};\n",
    "\n",
    "\n",
    "var layout = new Layout.Layout{ \n",
    "    title = $\"Interval trades for {ticker}-{exchange} | Trades count: {totalTrades} | Toal traded volume: {totalSizes} \",\n",
    "    yaxis = new Yaxis {\n",
    "        title = \"Price\", \n",
    "        autorange = true,\n",
    "        side = \"left\",\n",
    "    },\n",
    "    yaxis2 = new Yaxis {\n",
    "        title = \"Size\", \n",
    "        autorange = true,\n",
    "        side = \"right\",  \n",
    "    },\n",
    "};\n",
    "\n",
    "var chart = Chart.Plot(pricesAndVolumes, layout);\n",
    "chart.WithXTitle($\"Time\");\n",
    "chart.Width = 1500;\n",
    "chart.Height = 800;\n",
    "display(chart);"
   ]
  }
 ],
 "metadata": {
  "kernelspec": {
   "display_name": ".NET (C#)",
   "language": "C#",
   "name": ".net-csharp"
  },
  "language_info": {
   "file_extension": ".cs",
   "mimetype": "text/x-csharp",
   "name": "C#",
   "pygments_lexer": "csharp",
   "version": "10.0"
  }
 },
 "nbformat": 4,
 "nbformat_minor": 5
}
