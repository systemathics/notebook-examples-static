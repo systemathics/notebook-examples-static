{
 "cells": [
  {
   "cell_type": "markdown",
   "id": "revised-johnson",
   "metadata": {},
   "source": [
    "# Future roll scenario : Market Activity Approach - C#\n",
    "\n",
    "### Overview\n",
    "Future contracts are liquid and often used to gain exposure to a variety of asset classes. However they must be rolled on a periodic basis to avoid expiry or triggering delivery.\n",
    "\n",
    "The period surrounding contract rollover can be challenging time. Future roll strategies help to better prepare moves in the market and optimize trading positions.\n",
    "\n",
    "In order to identify future roll optimal dates, the following methods can be used:\n",
    "1. Maturity date\n",
    "2. Trading volume\n",
    "3. Market activity\n",
    "\n",
    "In this example, the strategy chosen to determine the future roll date  is based on the **market activity**. \n",
    "Indeed, as number of ticks within roll period are typically split between the expiring contract and the new contracts, it can used as an indicator to track market activity and large price swings and high spreads.\n",
    "\n",
    "This sample demonstrates how to request and plot from a dedicated data service **on-demand** bars for a <i>`given future, all maturities`</i>.\n",
    "\n",
    "### Inputs/outputs\n",
    "Future activity-based roll sample requires future contact's identifier and date time intervals as per inputs. It returns future's continuous price over the look back period.<br>\n",
    "\n",
    "This sample shows also how to plot the returned bars using an open source library.\n",
    "### Services used\n",
    "This sample uses gRPC requests in order to retrieve information from hosted services. The queried endpoint in this script are:\n",
    "* *StaticDataService*: to get the intrument identifier from the input\n",
    "* Topologies: in order to retrieve the market activity (daily tick count) for selected maturities\n",
    "* *TickBarsService*: to get tick bars data for each instrument\n",
    "\n",
    "### Packages required\n",
    "1. Systemathics packages:\n",
    "    * *Systemathics.Apis.Type.Shared.V1*\n",
    "    * *Systemathics.Apis.Services.Topology.V1*\n",
    "    * *Systemathics.Apis.Services.StaticData.V1*\n",
    "    * *Systemathics.Apis.Services.TickAnalytics.V1*\n",
    "2. Open source packages\n",
    "    * *Google.Protobuf.WellKnownTypes*\n",
    "    * *Google.Type*\n",
    "    * *Grpc.Net.Client*\n",
    "    * *Grpc.Core*\n",
    "    * *XPlot.Plotly* as per display package\n",
    "\n",
    "***"
   ]
  },
  {
   "cell_type": "markdown",
   "id": "first-enforcement",
   "metadata": {},
   "source": [
    "# Run future roll sample - market activity approach"
   ]
  },
  {
   "cell_type": "markdown",
   "id": "balanced-slope",
   "metadata": {},
   "source": [
    "### Step 1: Install packages"
   ]
  },
  {
   "cell_type": "code",
   "execution_count": 1,
   "id": "toxic-burlington",
   "metadata": {
    "dotnet_interactive": {
     "language": "csharp"
    },
    "execution": {
     "iopub.execute_input": "2022-10-25T16:20:43.523841Z",
     "iopub.status.busy": "2022-10-25T16:20:43.511921Z",
     "iopub.status.idle": "2022-10-25T16:20:48.822612Z",
     "shell.execute_reply": "2022-10-25T16:20:48.815146Z"
    },
    "vscode": {
     "languageId": "dotnet-interactive.csharp"
    }
   },
   "outputs": [
    {
     "data": {
      "text/html": [
       "\n",
       "<div>\n",
       "    <div id='dotnet-interactive-this-cell-21357.Microsoft.DotNet.Interactive.Http.HttpPort' style='display: none'>\n",
       "        The below script needs to be able to find the current output cell; this is an easy method to get it.\n",
       "    </div>\n",
       "    <script type='text/javascript'>\n",
       "async function probeAddresses(probingAddresses) {\n",
       "    function timeout(ms, promise) {\n",
       "        return new Promise(function (resolve, reject) {\n",
       "            setTimeout(function () {\n",
       "                reject(new Error('timeout'))\n",
       "            }, ms)\n",
       "            promise.then(resolve, reject)\n",
       "        })\n",
       "    }\n",
       "\n",
       "    if (Array.isArray(probingAddresses)) {\n",
       "        for (let i = 0; i < probingAddresses.length; i++) {\n",
       "\n",
       "            let rootUrl = probingAddresses[i];\n",
       "\n",
       "            if (!rootUrl.endsWith('/')) {\n",
       "                rootUrl = `${rootUrl}/`;\n",
       "            }\n",
       "\n",
       "            try {\n",
       "                let response = await timeout(1000, fetch(`${rootUrl}discovery`, {\n",
       "                    method: 'POST',\n",
       "                    cache: 'no-cache',\n",
       "                    mode: 'cors',\n",
       "                    timeout: 1000,\n",
       "                    headers: {\n",
       "                        'Content-Type': 'text/plain'\n",
       "                    },\n",
       "                    body: probingAddresses[i]\n",
       "                }));\n",
       "\n",
       "                if (response.status == 200) {\n",
       "                    return rootUrl;\n",
       "                }\n",
       "            }\n",
       "            catch (e) { }\n",
       "        }\n",
       "    }\n",
       "}\n",
       "\n",
       "function loadDotnetInteractiveApi() {\n",
       "    probeAddresses([\"http://172.28.169.63:1448/\", \"http://127.0.0.1:1448/\"])\n",
       "        .then((root) => {\n",
       "        // use probing to find host url and api resources\n",
       "        // load interactive helpers and language services\n",
       "        let dotnetInteractiveRequire = require.config({\n",
       "        context: '21357.Microsoft.DotNet.Interactive.Http.HttpPort',\n",
       "                paths:\n",
       "            {\n",
       "                'dotnet-interactive': `${root}resources`\n",
       "                }\n",
       "        }) || require;\n",
       "\n",
       "            window.dotnetInteractiveRequire = dotnetInteractiveRequire;\n",
       "\n",
       "            window.configureRequireFromExtension = function(extensionName, extensionCacheBuster) {\n",
       "                let paths = {};\n",
       "                paths[extensionName] = `${root}extensions/${extensionName}/resources/`;\n",
       "                \n",
       "                let internalRequire = require.config({\n",
       "                    context: extensionCacheBuster,\n",
       "                    paths: paths,\n",
       "                    urlArgs: `cacheBuster=${extensionCacheBuster}`\n",
       "                    }) || require;\n",
       "\n",
       "                return internalRequire\n",
       "            };\n",
       "        \n",
       "            dotnetInteractiveRequire([\n",
       "                    'dotnet-interactive/dotnet-interactive'\n",
       "                ],\n",
       "                function (dotnet) {\n",
       "                    dotnet.init(window);\n",
       "                },\n",
       "                function (error) {\n",
       "                    console.log(error);\n",
       "                }\n",
       "            );\n",
       "        })\n",
       "        .catch(error => {console.log(error);});\n",
       "    }\n",
       "\n",
       "// ensure `require` is available globally\n",
       "if ((typeof(require) !==  typeof(Function)) || (typeof(require.config) !== typeof(Function))) {\n",
       "    let require_script = document.createElement('script');\n",
       "    require_script.setAttribute('src', 'https://cdnjs.cloudflare.com/ajax/libs/require.js/2.3.6/require.min.js');\n",
       "    require_script.setAttribute('type', 'text/javascript');\n",
       "    \n",
       "    \n",
       "    require_script.onload = function() {\n",
       "        loadDotnetInteractiveApi();\n",
       "    };\n",
       "\n",
       "    document.getElementsByTagName('head')[0].appendChild(require_script);\n",
       "}\n",
       "else {\n",
       "    loadDotnetInteractiveApi();\n",
       "}\n",
       "\n",
       "    </script>\n",
       "</div>"
      ]
     },
     "metadata": {},
     "output_type": "display_data"
    },
    {
     "data": {
      "text/html": [
       "<div><div><strong>Restore sources</strong><ul><li><span> file://~/.nuget/packages/</span></li><li><span> https://api.nuget.org/v3/index.json</span></li></ul></div><div></div><div><strong>Installed Packages</strong><ul><li><span>Systemathics.Apis, 0.13.2-pre</span></li><li><span>XPlot.Plotly.Interactive, 4.0.6</span></li></ul></div></div>"
      ]
     },
     "metadata": {},
     "output_type": "display_data"
    },
    {
     "data": {
      "text/markdown": [
       "Loading extensions from `XPlot.Plotly.Interactive.dll`"
      ]
     },
     "metadata": {},
     "output_type": "display_data"
    },
    {
     "data": {
      "text/markdown": [
       "Configuring PowerShell Kernel for XPlot.Plotly integration."
      ]
     },
     "metadata": {},
     "output_type": "display_data"
    },
    {
     "data": {
      "text/markdown": [
       "Installed support for XPlot.Plotly."
      ]
     },
     "metadata": {},
     "output_type": "display_data"
    }
   ],
   "source": [
    "#i \"nuget: file://~/.nuget/packages/\"\n",
    "#i \"nuget: https://api.nuget.org/v3/index.json\"\n",
    "#r \"nuget: Systemathics.Apis, 0.*-pre*\"\n",
    "#r \"nuget: XPlot.Plotly.Interactive\""
   ]
  },
  {
   "cell_type": "code",
   "execution_count": 2,
   "id": "dominican-motivation",
   "metadata": {
    "dotnet_interactive": {
     "language": "csharp"
    },
    "execution": {
     "iopub.execute_input": "2022-10-25T16:20:48.825634Z",
     "iopub.status.busy": "2022-10-25T16:20:48.825069Z",
     "iopub.status.idle": "2022-10-25T16:20:48.942684Z",
     "shell.execute_reply": "2022-10-25T16:20:48.942433Z"
    },
    "vscode": {
     "languageId": "dotnet-interactive.csharp"
    }
   },
   "outputs": [],
   "source": [
    "using Systemathics.Apis.Helpers;\n",
    "using Systemathics.Apis.Type.Shared.V1;\n",
    "using Systemathics.Apis.Services.Topology.V1;\n",
    "using Systemathics.Apis.Services.TickAnalytics.V1;\n",
    "using Systemathics.Apis.Services.StaticData.V1;\n",
    "using Google.Protobuf.WellKnownTypes;\n",
    "using Google.Protobuf;\n",
    "using Google.Type;\n",
    "using Grpc.Net.Client;\n",
    "using Grpc.Core;\n",
    "using System.Collections.Generic;\n",
    "using XPlot.Plotly;\n",
    "using XPlot.Plotly.Interactive;"
   ]
  },
  {
   "cell_type": "markdown",
   "id": "sophisticated-dating",
   "metadata": {},
   "source": [
    "### Step 2: Prepare API requests\n",
    "The following code snippets retrieve authentication token and prepare the API request by: opening the *channel* and adding the *token* to the request header:"
   ]
  },
  {
   "cell_type": "code",
   "execution_count": 3,
   "id": "quiet-phase",
   "metadata": {
    "dotnet_interactive": {
     "language": "csharp"
    },
    "execution": {
     "iopub.execute_input": "2022-10-25T16:20:48.945100Z",
     "iopub.status.busy": "2022-10-25T16:20:48.944646Z",
     "iopub.status.idle": "2022-10-25T16:20:49.990224Z",
     "shell.execute_reply": "2022-10-25T16:20:49.989899Z"
    },
    "vscode": {
     "languageId": "dotnet-interactive.csharp"
    }
   },
   "outputs": [],
   "source": [
    "// Get token as metadata\n",
    "var headers = TokenHelpers.GetTokenAsMetaData();\n",
    "\n",
    "// Create communication channel\n",
    "var channel = ChannelHelpers.GetChannel();"
   ]
  },
  {
   "cell_type": "markdown",
   "id": "static-victorian",
   "metadata": {},
   "source": [
    "### Step 3: Select futures scope"
   ]
  },
  {
   "cell_type": "markdown",
   "id": "minute-coating",
   "metadata": {},
   "source": [
    "#### 3.1 Define inputs\n",
    "In a first time the user has to decide the lookup time span and the selected future contract."
   ]
  },
  {
   "cell_type": "code",
   "execution_count": 4,
   "id": "american-partition",
   "metadata": {
    "dotnet_interactive": {
     "language": "csharp"
    },
    "execution": {
     "iopub.execute_input": "2022-10-25T16:20:49.992534Z",
     "iopub.status.busy": "2022-10-25T16:20:49.992185Z",
     "iopub.status.idle": "2022-10-25T16:20:50.121868Z",
     "shell.execute_reply": "2022-10-25T16:20:50.121612Z"
    },
    "vscode": {
     "languageId": "dotnet-interactive.csharp"
    }
   },
   "outputs": [],
   "source": [
    "// Define start, end and future contract\n",
    "var start = new DateTime(2020,02, 01);\n",
    "var end = new DateTime(2020, 07, 31);\n",
    "var contract = \"WBS\"; // WTI Crude future"
   ]
  },
  {
   "cell_type": "markdown",
   "id": "sonic-broadcast",
   "metadata": {},
   "source": [
    "#### 3.2 Select future contracts"
   ]
  },
  {
   "cell_type": "code",
   "execution_count": 5,
   "id": "political-environment",
   "metadata": {
    "dotnet_interactive": {
     "language": "csharp"
    },
    "execution": {
     "iopub.execute_input": "2022-10-25T16:20:50.124034Z",
     "iopub.status.busy": "2022-10-25T16:20:50.123636Z",
     "iopub.status.idle": "2022-10-25T16:20:50.217594Z",
     "shell.execute_reply": "2022-10-25T16:20:50.217321Z"
    },
    "vscode": {
     "languageId": "dotnet-interactive.csharp"
    }
   },
   "outputs": [],
   "source": [
    "// instantiate the static data service\n",
    "var service = new StaticDataService.StaticDataServiceClient(channel);"
   ]
  },
  {
   "cell_type": "code",
   "execution_count": 6,
   "id": "lucky-batch",
   "metadata": {
    "dotnet_interactive": {
     "language": "csharp"
    },
    "execution": {
     "iopub.execute_input": "2022-10-25T16:20:50.219534Z",
     "iopub.status.busy": "2022-10-25T16:20:50.219214Z",
     "iopub.status.idle": "2022-10-25T16:20:50.863903Z",
     "shell.execute_reply": "2022-10-25T16:20:50.863606Z"
    },
    "vscode": {
     "languageId": "dotnet-interactive.csharp"
    }
   },
   "outputs": [],
   "source": [
    "// Get futures from static data request\n",
    "// We chose to retrieve the selected instrument with its contract code.\n",
    "var request = new StaticDataRequest\n",
    "{\n",
    "    AssetType = AssetType.Future,\n",
    "    FutureContract = contract,\n",
    "    Count = 1000\n",
    "};\n",
    "\n",
    "// store futures and display results\n",
    "var reply = service.StaticData(request, headers);\n",
    "var futures = reply.Futures.OrderBy(future => future.Maturity.Year).ThenBy(future => future.Maturity.Month); "
   ]
  },
  {
   "cell_type": "code",
   "execution_count": 7,
   "id": "minor-promotion",
   "metadata": {
    "dotnet_interactive": {
     "language": "csharp"
    },
    "execution": {
     "iopub.execute_input": "2022-10-25T16:20:50.866106Z",
     "iopub.status.busy": "2022-10-25T16:20:50.865739Z",
     "iopub.status.idle": "2022-10-25T16:20:50.910953Z",
     "shell.execute_reply": "2022-10-25T16:20:50.910508Z"
    },
    "vscode": {
     "languageId": "dotnet-interactive.csharp"
    }
   },
   "outputs": [],
   "source": [
    "// Display results\n",
    "//display(futures)"
   ]
  },
  {
   "cell_type": "markdown",
   "id": "royal-syndrome",
   "metadata": {},
   "source": [
    "#### 3.3 Filter futures matching input period"
   ]
  },
  {
   "cell_type": "code",
   "execution_count": 8,
   "id": "naked-alfred",
   "metadata": {
    "dotnet_interactive": {
     "language": "csharp"
    },
    "execution": {
     "iopub.execute_input": "2022-10-25T16:20:50.913659Z",
     "iopub.status.busy": "2022-10-25T16:20:50.913291Z",
     "iopub.status.idle": "2022-10-25T16:20:51.170179Z",
     "shell.execute_reply": "2022-10-25T16:20:51.169932Z"
    },
    "vscode": {
     "languageId": "dotnet-interactive.csharp"
    }
   },
   "outputs": [],
   "source": [
    "// Filter futures : select only futures with a maturity matching the selected period\n",
    "var tmpList = new List<FutureEntry>();\n",
    "var lastFuture = true; // we need this boolean to select one more future\n",
    "foreach (var future in futures) {\n",
    "    var maturity = new DateTime(future.Maturity.Year,future.Maturity.Month, future.Maturity.Day);\n",
    "    if (maturity > start) \n",
    "    {\n",
    "        if (maturity < end) {\n",
    "            tmpList.Add(future);\n",
    "        } \n",
    "        else \n",
    "        {\n",
    "            if (lastFuture == true) \n",
    "            {\n",
    "                tmpList.Add(future); // add the last contract\n",
    "                lastFuture = false;\n",
    "            } \n",
    "            else {\n",
    "                break;\n",
    "            }\n",
    "        }\n",
    "    }\n",
    "}\n",
    "var count = tmpList.Count;\n",
    "var selectedFutures = tmpList.ToArray();"
   ]
  },
  {
   "cell_type": "code",
   "execution_count": 9,
   "id": "essential-monitor",
   "metadata": {
    "dotnet_interactive": {
     "language": "csharp"
    },
    "execution": {
     "iopub.execute_input": "2022-10-25T16:20:51.172178Z",
     "iopub.status.busy": "2022-10-25T16:20:51.171859Z",
     "iopub.status.idle": "2022-10-25T16:20:51.225822Z",
     "shell.execute_reply": "2022-10-25T16:20:51.225549Z"
    },
    "vscode": {
     "languageId": "dotnet-interactive.csharp"
    }
   },
   "outputs": [],
   "source": [
    "// Display previously selected futures\n",
    "// display(selectedFutures)"
   ]
  },
  {
   "cell_type": "markdown",
   "id": "missing-surname",
   "metadata": {},
   "source": [
    "### Step 4: Determine roll date based on market activity\n"
   ]
  },
  {
   "cell_type": "markdown",
   "id": "complimentary-benjamin",
   "metadata": {},
   "source": [
    "#### 4.1 Get market activity for each selected maturity\n",
    "Market activity is computed by calling the *tick topologies service* which returns the tick count for a chosen *time granularity*. The following code snippet is a method to handle *tick toplogies requests* creation to retrieve ticks count on daily basis."
   ]
  },
  {
   "cell_type": "code",
   "execution_count": 10,
   "id": "confidential-motivation",
   "metadata": {
    "dotnet_interactive": {
     "language": "csharp"
    },
    "execution": {
     "iopub.execute_input": "2022-10-25T16:20:51.228657Z",
     "iopub.status.busy": "2022-10-25T16:20:51.228064Z",
     "iopub.status.idle": "2022-10-25T16:20:51.365819Z",
     "shell.execute_reply": "2022-10-25T16:20:51.365572Z"
    },
    "vscode": {
     "languageId": "dotnet-interactive.csharp"
    }
   },
   "outputs": [],
   "source": [
    "// Define a method that creates a topologies request for a given instrument to batch request later in the sample\n",
    "public static TopologiesRequest GetTopologiesRequest(Identifier identifier)\n",
    "{\n",
    "    return new TopologiesRequest \n",
    "    { \n",
    "        Identifier = identifier, \n",
    "        Granularity = TopologyGranularity.Daily,\n",
    "        Level = Systemathics.Apis.Type.Shared.V1.Level.TradesAndBook\n",
    "    };    \n",
    "}"
   ]
  },
  {
   "cell_type": "code",
   "execution_count": 11,
   "id": "commercial-statistics",
   "metadata": {
    "dotnet_interactive": {
     "language": "csharp"
    },
    "execution": {
     "iopub.execute_input": "2022-10-25T16:20:51.367748Z",
     "iopub.status.busy": "2022-10-25T16:20:51.367447Z",
     "iopub.status.idle": "2022-10-25T16:20:51.447679Z",
     "shell.execute_reply": "2022-10-25T16:20:51.447432Z"
    },
    "vscode": {
     "languageId": "dotnet-interactive.csharp"
    }
   },
   "outputs": [],
   "source": [
    "// Define a method to handle tick toplogies reply and create a dictionary of tick count per date\n",
    "// Ex: 2016-06-18 | 55\n",
    "//     2016-06-19 | 35 \n",
    "public static Dictionary<string, double> GetTicks(IEnumerable<TopologyEntry> entries) \n",
    "{\n",
    "    var dict = new Dictionary<string, double>();\n",
    "    foreach (var entry in entries) {\n",
    "        var count = entry.TicksCount;\n",
    "        var time = new DateTime(entry.Begin.Year, entry.Begin.Month, entry.Begin.Day);\n",
    "        var key = time.ToString(\"yyyy-MM-dd\");\n",
    "        dict[key] = count;\n",
    "    }\n",
    "    return dict;\n",
    "}"
   ]
  },
  {
   "cell_type": "code",
   "execution_count": 12,
   "id": "thick-produce",
   "metadata": {
    "dotnet_interactive": {
     "language": "csharp"
    },
    "execution": {
     "iopub.execute_input": "2022-10-25T16:20:51.449654Z",
     "iopub.status.busy": "2022-10-25T16:20:51.449354Z",
     "iopub.status.idle": "2022-10-25T16:20:52.156978Z",
     "shell.execute_reply": "2022-10-25T16:20:52.156561Z"
    },
    "vscode": {
     "languageId": "dotnet-interactive.csharp"
    }
   },
   "outputs": [],
   "source": [
    "// Intiate dictionary to handle ticks count for each future contract\n",
    "// Keys = tickers\n",
    "// Values = dictionaries of tick count per date\n",
    "var ticktionary = new Dictionary<string, Dictionary<string, double>>();\n",
    "\n",
    "// Instantiate the tick topoliges service\n",
    "var topologiesService = new TopologiesService.TopologiesServiceClient(channel);\n",
    "\n",
    "// Process the tick toplogies reply: store ticks count for each future contract\n",
    "foreach (var elt in selectedFutures)\n",
    "{\n",
    "    // Generate the tick topoliges request\n",
    "    var topologiesRequest = GetTopologiesRequest(elt.Identifier);\n",
    "    \n",
    "    var topologiesReply = topologiesService.Topologies(topologiesRequest, headers);\n",
    "    var key = elt.Identifier.Ticker;\n",
    "    ticktionary[key] = GetTicks(topologiesReply.Entries);\n",
    "}"
   ]
  },
  {
   "cell_type": "code",
   "execution_count": 13,
   "id": "recovered-mills",
   "metadata": {
    "dotnet_interactive": {
     "language": "csharp"
    },
    "execution": {
     "iopub.execute_input": "2022-10-25T16:20:52.159112Z",
     "iopub.status.busy": "2022-10-25T16:20:52.158668Z",
     "iopub.status.idle": "2022-10-25T16:20:52.195816Z",
     "shell.execute_reply": "2022-10-25T16:20:52.195070Z"
    },
    "vscode": {
     "languageId": "dotnet-interactive.csharp"
    }
   },
   "outputs": [],
   "source": [
    "// Display ticktionary keys: selected future contacts' tickers\n",
    "var keys = ticktionary.Keys;\n",
    "//display(ticktionary.Keys)"
   ]
  },
  {
   "cell_type": "code",
   "execution_count": 14,
   "id": "funny-effort",
   "metadata": {
    "dotnet_interactive": {
     "language": "csharp"
    },
    "execution": {
     "iopub.execute_input": "2022-10-25T16:20:52.198527Z",
     "iopub.status.busy": "2022-10-25T16:20:52.198144Z",
     "iopub.status.idle": "2022-10-25T16:20:52.232883Z",
     "shell.execute_reply": "2022-10-25T16:20:52.232629Z"
    },
    "vscode": {
     "languageId": "dotnet-interactive.csharp"
    }
   },
   "outputs": [],
   "source": [
    "// Display ticktionary 1st value: daily ticks count for the 1st future contract\n",
    "var sample = ticktionary[keys.First()];\n",
    "//display(sample)"
   ]
  },
  {
   "cell_type": "markdown",
   "id": "noted-companion",
   "metadata": {},
   "source": [
    "#### 4.2 Determine roll dates\n",
    "The following code snippets creates methods to determine *front and back* future contracts for a given date."
   ]
  },
  {
   "cell_type": "code",
   "execution_count": 15,
   "id": "chronic-patio",
   "metadata": {
    "dotnet_interactive": {
     "language": "csharp"
    },
    "execution": {
     "iopub.execute_input": "2022-10-25T16:20:52.235003Z",
     "iopub.status.busy": "2022-10-25T16:20:52.234647Z",
     "iopub.status.idle": "2022-10-25T16:20:52.271276Z",
     "shell.execute_reply": "2022-10-25T16:20:52.271028Z"
    },
    "vscode": {
     "languageId": "dotnet-interactive.csharp"
    }
   },
   "outputs": [],
   "source": [
    "// Define a method that gets front ticker according to the given list of futures\n",
    "// Input: \n",
    "//   -Ticker/Maturity dictionary\n",
    "//   -current date\n",
    "// Output: \n",
    "//   -front ticker (can be null)\n",
    "public static string GetFrontTicker(Dictionary<string, DateTime> tickerMaturityPair, DateTime currentDate) \n",
    "{\n",
    "    foreach (var kvp in tickerMaturityPair) \n",
    "    {\n",
    "        // get maturity and compare to currentTime\n",
    "        var maturity = kvp.Value; \n",
    "        if (maturity> currentDate) {\n",
    "            return kvp.Key;\n",
    "        }\n",
    "    }\n",
    "    return null;\n",
    "}"
   ]
  },
  {
   "cell_type": "code",
   "execution_count": 16,
   "id": "lesbian-probability",
   "metadata": {
    "dotnet_interactive": {
     "language": "csharp"
    },
    "execution": {
     "iopub.execute_input": "2022-10-25T16:20:52.273826Z",
     "iopub.status.busy": "2022-10-25T16:20:52.273169Z",
     "iopub.status.idle": "2022-10-25T16:20:52.311358Z",
     "shell.execute_reply": "2022-10-25T16:20:52.311002Z"
    },
    "vscode": {
     "languageId": "dotnet-interactive.csharp"
    }
   },
   "outputs": [],
   "source": [
    "// Define a method that gets back ticker according to the given list of futures\n",
    "// Input: \n",
    "//   -Ticker/Maturity dictionary\n",
    "//   -current date\n",
    "// Output: \n",
    "//   -back ticker (can be null)\n",
    "public static string GetBackTicker(Dictionary<string, DateTime> tickerMaturityPair, DateTime currentDate) \n",
    "{\n",
    "    var front = false; // check if we 'passed' front\n",
    "    foreach (var kvp in tickerMaturityPair) \n",
    "    {\n",
    "        // get maturity and compare to currentTime\n",
    "        var maturity = kvp.Value; \n",
    "        if (maturity> currentDate) {\n",
    "            if (front) {\n",
    "                return kvp.Key;\n",
    "            }\n",
    "            front = true;\n",
    "        }\n",
    "    }\n",
    "    return null;\n",
    "}"
   ]
  },
  {
   "cell_type": "markdown",
   "id": "european-marking",
   "metadata": {},
   "source": [
    "The following code snippet creates a dictionary of *ticker* and *future maturity* pairs. This represents the input of the previous methods."
   ]
  },
  {
   "cell_type": "code",
   "execution_count": 17,
   "id": "forbidden-electronics",
   "metadata": {
    "dotnet_interactive": {
     "language": "csharp"
    },
    "execution": {
     "iopub.execute_input": "2022-10-25T16:20:52.313562Z",
     "iopub.status.busy": "2022-10-25T16:20:52.313201Z",
     "iopub.status.idle": "2022-10-25T16:20:52.490155Z",
     "shell.execute_reply": "2022-10-25T16:20:52.489832Z"
    },
    "vscode": {
     "languageId": "dotnet-interactive.csharp"
    }
   },
   "outputs": [
    {
     "data": {
      "text/html": [
       "<table><thead><tr><th><i>key</i></th><th>value</th></tr></thead><tbody><tr><td>WBSQ22</td><td><span>2022-07-19 00:00:00Z</span></td></tr></tbody></table>"
      ]
     },
     "metadata": {},
     "output_type": "display_data"
    }
   ],
   "source": [
    "// Store maturities in a ticker indexed dictionary\n",
    "var tickerMaturities = new Dictionary<string, DateTime>();\n",
    "foreach (var future in selectedFutures) {\n",
    "    var key = future.Identifier.Ticker;\n",
    "    var date = new DateTime(future.Maturity.Year,future.Maturity.Month,future.Maturity.Day,0,0,0 );\n",
    "    tickerMaturities[key]= date;\n",
    "}\n",
    "display(tickerMaturities)"
   ]
  },
  {
   "cell_type": "markdown",
   "id": "international-teacher",
   "metadata": {},
   "source": [
    "The following code snippet gives the *front and back future contracts* on daily basis over the chosen look back period."
   ]
  },
  {
   "cell_type": "code",
   "execution_count": 18,
   "id": "sudden-developer",
   "metadata": {
    "dotnet_interactive": {
     "language": "csharp"
    },
    "execution": {
     "iopub.execute_input": "2022-10-25T16:20:52.492531Z",
     "iopub.status.busy": "2022-10-25T16:20:52.492181Z",
     "iopub.status.idle": "2022-10-25T16:20:52.764691Z",
     "shell.execute_reply": "2022-10-25T16:20:52.700436Z"
    },
    "vscode": {
     "languageId": "dotnet-interactive.csharp"
    }
   },
   "outputs": [
    {
     "name": "stdout",
     "output_type": "stream",
     "text": [
      "2020-02-01 F: WBSQ22, B \n"
     ]
    },
    {
     "name": "stdout",
     "output_type": "stream",
     "text": [
      "2020-02-02 F: WBSQ22, B \n"
     ]
    },
    {
     "name": "stdout",
     "output_type": "stream",
     "text": [
      "2020-02-03 F: WBSQ22, B \n"
     ]
    },
    {
     "name": "stdout",
     "output_type": "stream",
     "text": [
      "2020-02-04 F: WBSQ22, B \n"
     ]
    },
    {
     "name": "stdout",
     "output_type": "stream",
     "text": [
      "2020-02-05 F: WBSQ22, B \n"
     ]
    },
    {
     "name": "stdout",
     "output_type": "stream",
     "text": [
      "2020-02-06 F: WBSQ22, B \n"
     ]
    },
    {
     "name": "stdout",
     "output_type": "stream",
     "text": [
      "2020-02-07 F: WBSQ22, B \n"
     ]
    },
    {
     "name": "stdout",
     "output_type": "stream",
     "text": [
      "2020-02-08 F: WBSQ22, B \n"
     ]
    },
    {
     "name": "stdout",
     "output_type": "stream",
     "text": [
      "2020-02-09 F: WBSQ22, B \n"
     ]
    },
    {
     "name": "stdout",
     "output_type": "stream",
     "text": [
      "2020-02-10 F: WBSQ22, B \n"
     ]
    },
    {
     "name": "stdout",
     "output_type": "stream",
     "text": [
      "2020-02-11 F: WBSQ22, B \n"
     ]
    },
    {
     "name": "stdout",
     "output_type": "stream",
     "text": [
      "2020-02-12 F: WBSQ22, B \n"
     ]
    },
    {
     "name": "stdout",
     "output_type": "stream",
     "text": [
      "2020-02-13 F: WBSQ22, B \n"
     ]
    },
    {
     "name": "stdout",
     "output_type": "stream",
     "text": [
      "2020-02-14 F: WBSQ22, B \n"
     ]
    },
    {
     "name": "stdout",
     "output_type": "stream",
     "text": [
      "2020-02-15 F: WBSQ22, B \n"
     ]
    },
    {
     "name": "stdout",
     "output_type": "stream",
     "text": [
      "2020-02-16 F: WBSQ22, B \n"
     ]
    },
    {
     "name": "stdout",
     "output_type": "stream",
     "text": [
      "2020-02-17 F: WBSQ22, B \n"
     ]
    },
    {
     "name": "stdout",
     "output_type": "stream",
     "text": [
      "2020-02-18 F: WBSQ22, B \n"
     ]
    },
    {
     "name": "stdout",
     "output_type": "stream",
     "text": [
      "2020-02-19 F: WBSQ22, B \n"
     ]
    },
    {
     "name": "stdout",
     "output_type": "stream",
     "text": [
      "2020-02-20 F: WBSQ22, B \n"
     ]
    },
    {
     "name": "stdout",
     "output_type": "stream",
     "text": [
      "2020-02-21 F: WBSQ22, B \n"
     ]
    },
    {
     "name": "stdout",
     "output_type": "stream",
     "text": [
      "2020-02-22 F: WBSQ22, B \n"
     ]
    },
    {
     "name": "stdout",
     "output_type": "stream",
     "text": [
      "2020-02-23 F: WBSQ22, B \n"
     ]
    },
    {
     "name": "stdout",
     "output_type": "stream",
     "text": [
      "2020-02-24 F: WBSQ22, B \n"
     ]
    },
    {
     "name": "stdout",
     "output_type": "stream",
     "text": [
      "2020-02-25 F: WBSQ22, B \n"
     ]
    },
    {
     "name": "stdout",
     "output_type": "stream",
     "text": [
      "2020-02-26 F: WBSQ22, B \n"
     ]
    },
    {
     "name": "stdout",
     "output_type": "stream",
     "text": [
      "2020-02-27 F: WBSQ22, B \n"
     ]
    },
    {
     "name": "stdout",
     "output_type": "stream",
     "text": [
      "2020-02-28 F: WBSQ22, B \n"
     ]
    },
    {
     "name": "stdout",
     "output_type": "stream",
     "text": [
      "2020-02-29 F: WBSQ22, B \n"
     ]
    },
    {
     "name": "stdout",
     "output_type": "stream",
     "text": [
      "2020-03-01 F: WBSQ22, B \n"
     ]
    },
    {
     "name": "stdout",
     "output_type": "stream",
     "text": [
      "2020-03-02 F: WBSQ22, B \n"
     ]
    },
    {
     "name": "stdout",
     "output_type": "stream",
     "text": [
      "2020-03-03 F: WBSQ22, B \n"
     ]
    },
    {
     "name": "stdout",
     "output_type": "stream",
     "text": [
      "2020-03-04 F: WBSQ22, B \n"
     ]
    },
    {
     "name": "stdout",
     "output_type": "stream",
     "text": [
      "2020-03-05 F: WBSQ22, B \n"
     ]
    },
    {
     "name": "stdout",
     "output_type": "stream",
     "text": [
      "2020-03-06 F: WBSQ22, B \n"
     ]
    },
    {
     "name": "stdout",
     "output_type": "stream",
     "text": [
      "2020-03-07 F: WBSQ22, B \n"
     ]
    },
    {
     "name": "stdout",
     "output_type": "stream",
     "text": [
      "2020-03-08 F: WBSQ22, B \n"
     ]
    },
    {
     "name": "stdout",
     "output_type": "stream",
     "text": [
      "2020-03-09 F: WBSQ22, B \n"
     ]
    },
    {
     "name": "stdout",
     "output_type": "stream",
     "text": [
      "2020-03-10 F: WBSQ22, B \n"
     ]
    },
    {
     "name": "stdout",
     "output_type": "stream",
     "text": [
      "2020-03-11 F: WBSQ22, B \n"
     ]
    },
    {
     "name": "stdout",
     "output_type": "stream",
     "text": [
      "2020-03-12 F: WBSQ22, B \n"
     ]
    },
    {
     "name": "stdout",
     "output_type": "stream",
     "text": [
      "2020-03-13 F: WBSQ22, B \n"
     ]
    },
    {
     "name": "stdout",
     "output_type": "stream",
     "text": [
      "2020-03-14 F: WBSQ22, B \n"
     ]
    },
    {
     "name": "stdout",
     "output_type": "stream",
     "text": [
      "2020-03-15 F: WBSQ22, B \n"
     ]
    },
    {
     "name": "stdout",
     "output_type": "stream",
     "text": [
      "2020-03-16 F: WBSQ22, B \n"
     ]
    },
    {
     "name": "stdout",
     "output_type": "stream",
     "text": [
      "2020-03-17 F: WBSQ22, B \n"
     ]
    },
    {
     "name": "stdout",
     "output_type": "stream",
     "text": [
      "2020-03-18 F: WBSQ22, B \n"
     ]
    },
    {
     "name": "stdout",
     "output_type": "stream",
     "text": [
      "2020-03-19 F: WBSQ22, B \n"
     ]
    },
    {
     "name": "stdout",
     "output_type": "stream",
     "text": [
      "2020-03-20 F: WBSQ22, B \n"
     ]
    },
    {
     "name": "stdout",
     "output_type": "stream",
     "text": [
      "2020-03-21 F: WBSQ22, B \n"
     ]
    },
    {
     "name": "stdout",
     "output_type": "stream",
     "text": [
      "2020-03-22 F: WBSQ22, B \n"
     ]
    },
    {
     "name": "stdout",
     "output_type": "stream",
     "text": [
      "2020-03-23 F: WBSQ22, B \n"
     ]
    },
    {
     "name": "stdout",
     "output_type": "stream",
     "text": [
      "2020-03-24 F: WBSQ22, B \n"
     ]
    },
    {
     "name": "stdout",
     "output_type": "stream",
     "text": [
      "2020-03-25 F: WBSQ22, B \n"
     ]
    },
    {
     "name": "stdout",
     "output_type": "stream",
     "text": [
      "2020-03-26 F: WBSQ22, B \n"
     ]
    },
    {
     "name": "stdout",
     "output_type": "stream",
     "text": [
      "2020-03-27 F: WBSQ22, B \n"
     ]
    },
    {
     "name": "stdout",
     "output_type": "stream",
     "text": [
      "2020-03-28 F: WBSQ22, B \n"
     ]
    },
    {
     "name": "stdout",
     "output_type": "stream",
     "text": [
      "2020-03-29 F: WBSQ22, B \n"
     ]
    },
    {
     "name": "stdout",
     "output_type": "stream",
     "text": [
      "2020-03-30 F: WBSQ22, B \n"
     ]
    },
    {
     "name": "stdout",
     "output_type": "stream",
     "text": [
      "2020-03-31 F: WBSQ22, B \n"
     ]
    },
    {
     "name": "stdout",
     "output_type": "stream",
     "text": [
      "2020-04-01 F: WBSQ22, B \n"
     ]
    },
    {
     "name": "stdout",
     "output_type": "stream",
     "text": [
      "2020-04-02 F: WBSQ22, B \n"
     ]
    },
    {
     "name": "stdout",
     "output_type": "stream",
     "text": [
      "2020-04-03 F: WBSQ22, B \n"
     ]
    },
    {
     "name": "stdout",
     "output_type": "stream",
     "text": [
      "2020-04-04 F: WBSQ22, B \n"
     ]
    },
    {
     "name": "stdout",
     "output_type": "stream",
     "text": [
      "2020-04-05 F: WBSQ22, B \n"
     ]
    },
    {
     "name": "stdout",
     "output_type": "stream",
     "text": [
      "2020-04-06 F: WBSQ22, B \n"
     ]
    },
    {
     "name": "stdout",
     "output_type": "stream",
     "text": [
      "2020-04-07 F: WBSQ22, B \n"
     ]
    },
    {
     "name": "stdout",
     "output_type": "stream",
     "text": [
      "2020-04-08 F: WBSQ22, B \n"
     ]
    },
    {
     "name": "stdout",
     "output_type": "stream",
     "text": [
      "2020-04-09 F: WBSQ22, B \n"
     ]
    },
    {
     "name": "stdout",
     "output_type": "stream",
     "text": [
      "2020-04-10 F: WBSQ22, B \n"
     ]
    },
    {
     "name": "stdout",
     "output_type": "stream",
     "text": [
      "2020-04-11 F: WBSQ22, B \n"
     ]
    },
    {
     "name": "stdout",
     "output_type": "stream",
     "text": [
      "2020-04-12 F: WBSQ22, B \n"
     ]
    },
    {
     "name": "stdout",
     "output_type": "stream",
     "text": [
      "2020-04-13 F: WBSQ22, B \n"
     ]
    },
    {
     "name": "stdout",
     "output_type": "stream",
     "text": [
      "2020-04-14 F: WBSQ22, B \n"
     ]
    },
    {
     "name": "stdout",
     "output_type": "stream",
     "text": [
      "2020-04-15 F: WBSQ22, B \n"
     ]
    },
    {
     "name": "stdout",
     "output_type": "stream",
     "text": [
      "2020-04-16 F: WBSQ22, B \n"
     ]
    },
    {
     "name": "stdout",
     "output_type": "stream",
     "text": [
      "2020-04-17 F: WBSQ22, B \n"
     ]
    },
    {
     "name": "stdout",
     "output_type": "stream",
     "text": [
      "2020-04-18 F: WBSQ22, B \n"
     ]
    },
    {
     "name": "stdout",
     "output_type": "stream",
     "text": [
      "2020-04-19 F: WBSQ22, B \n"
     ]
    },
    {
     "name": "stdout",
     "output_type": "stream",
     "text": [
      "2020-04-20 F: WBSQ22, B \n"
     ]
    },
    {
     "name": "stdout",
     "output_type": "stream",
     "text": [
      "2020-04-21 F: WBSQ22, B \n"
     ]
    },
    {
     "name": "stdout",
     "output_type": "stream",
     "text": [
      "2020-04-22 F: WBSQ22, B \n"
     ]
    },
    {
     "name": "stdout",
     "output_type": "stream",
     "text": [
      "2020-04-23 F: WBSQ22, B \n"
     ]
    },
    {
     "name": "stdout",
     "output_type": "stream",
     "text": [
      "2020-04-24 F: WBSQ22, B \n"
     ]
    },
    {
     "name": "stdout",
     "output_type": "stream",
     "text": [
      "2020-04-25 F: WBSQ22, B \n"
     ]
    },
    {
     "name": "stdout",
     "output_type": "stream",
     "text": [
      "2020-04-26 F: WBSQ22, B \n"
     ]
    },
    {
     "name": "stdout",
     "output_type": "stream",
     "text": [
      "2020-04-27 F: WBSQ22, B \n"
     ]
    },
    {
     "name": "stdout",
     "output_type": "stream",
     "text": [
      "2020-04-28 F: WBSQ22, B \n"
     ]
    },
    {
     "name": "stdout",
     "output_type": "stream",
     "text": [
      "2020-04-29 F: WBSQ22, B \n"
     ]
    },
    {
     "name": "stdout",
     "output_type": "stream",
     "text": [
      "2020-04-30 F: WBSQ22, B \n"
     ]
    },
    {
     "name": "stdout",
     "output_type": "stream",
     "text": [
      "2020-05-01 F: WBSQ22, B \n"
     ]
    },
    {
     "name": "stdout",
     "output_type": "stream",
     "text": [
      "2020-05-02 F: WBSQ22, B \n"
     ]
    },
    {
     "name": "stdout",
     "output_type": "stream",
     "text": [
      "2020-05-03 F: WBSQ22, B \n"
     ]
    },
    {
     "name": "stdout",
     "output_type": "stream",
     "text": [
      "2020-05-04 F: WBSQ22, B \n"
     ]
    },
    {
     "name": "stdout",
     "output_type": "stream",
     "text": [
      "2020-05-05 F: WBSQ22, B \n"
     ]
    },
    {
     "name": "stdout",
     "output_type": "stream",
     "text": [
      "2020-05-06 F: WBSQ22, B \n"
     ]
    },
    {
     "name": "stdout",
     "output_type": "stream",
     "text": [
      "2020-05-07 F: WBSQ22, B \n"
     ]
    },
    {
     "name": "stdout",
     "output_type": "stream",
     "text": [
      "2020-05-08 F: WBSQ22, B \n"
     ]
    },
    {
     "name": "stdout",
     "output_type": "stream",
     "text": [
      "2020-05-09 F: WBSQ22, B \n"
     ]
    },
    {
     "name": "stdout",
     "output_type": "stream",
     "text": [
      "2020-05-10 F: WBSQ22, B \n"
     ]
    },
    {
     "name": "stdout",
     "output_type": "stream",
     "text": [
      "2020-05-11 F: WBSQ22, B \n"
     ]
    },
    {
     "name": "stdout",
     "output_type": "stream",
     "text": [
      "2020-05-12 F: WBSQ22, B \n"
     ]
    },
    {
     "name": "stdout",
     "output_type": "stream",
     "text": [
      "2020-05-13 F: WBSQ22, B \n"
     ]
    },
    {
     "name": "stdout",
     "output_type": "stream",
     "text": [
      "2020-05-14 F: WBSQ22, B \n"
     ]
    },
    {
     "name": "stdout",
     "output_type": "stream",
     "text": [
      "2020-05-15 F: WBSQ22, B \n"
     ]
    },
    {
     "name": "stdout",
     "output_type": "stream",
     "text": [
      "2020-05-16 F: WBSQ22, B \n"
     ]
    },
    {
     "name": "stdout",
     "output_type": "stream",
     "text": [
      "2020-05-17 F: WBSQ22, B \n"
     ]
    },
    {
     "name": "stdout",
     "output_type": "stream",
     "text": [
      "2020-05-18 F: WBSQ22, B \n"
     ]
    },
    {
     "name": "stdout",
     "output_type": "stream",
     "text": [
      "2020-05-19 F: WBSQ22, B \n"
     ]
    },
    {
     "name": "stdout",
     "output_type": "stream",
     "text": [
      "2020-05-20 F: WBSQ22, B \n"
     ]
    },
    {
     "name": "stdout",
     "output_type": "stream",
     "text": [
      "2020-05-21 F: WBSQ22, B \n"
     ]
    },
    {
     "name": "stdout",
     "output_type": "stream",
     "text": [
      "2020-05-22 F: WBSQ22, B \n"
     ]
    },
    {
     "name": "stdout",
     "output_type": "stream",
     "text": [
      "2020-05-23 F: WBSQ22, B \n"
     ]
    },
    {
     "name": "stdout",
     "output_type": "stream",
     "text": [
      "2020-05-24 F: WBSQ22, B \n"
     ]
    },
    {
     "name": "stdout",
     "output_type": "stream",
     "text": [
      "2020-05-25 F: WBSQ22, B \n"
     ]
    },
    {
     "name": "stdout",
     "output_type": "stream",
     "text": [
      "2020-05-26 F: WBSQ22, B \n"
     ]
    },
    {
     "name": "stdout",
     "output_type": "stream",
     "text": [
      "2020-05-27 F: WBSQ22, B \n"
     ]
    },
    {
     "name": "stdout",
     "output_type": "stream",
     "text": [
      "2020-05-28 F: WBSQ22, B \n"
     ]
    },
    {
     "name": "stdout",
     "output_type": "stream",
     "text": [
      "2020-05-29 F: WBSQ22, B \n"
     ]
    },
    {
     "name": "stdout",
     "output_type": "stream",
     "text": [
      "2020-05-30 F: WBSQ22, B \n"
     ]
    },
    {
     "name": "stdout",
     "output_type": "stream",
     "text": [
      "2020-05-31 F: WBSQ22, B \n"
     ]
    },
    {
     "name": "stdout",
     "output_type": "stream",
     "text": [
      "2020-06-01 F: WBSQ22, B \n"
     ]
    },
    {
     "name": "stdout",
     "output_type": "stream",
     "text": [
      "2020-06-02 F: WBSQ22, B \n"
     ]
    },
    {
     "name": "stdout",
     "output_type": "stream",
     "text": [
      "2020-06-03 F: WBSQ22, B \n"
     ]
    },
    {
     "name": "stdout",
     "output_type": "stream",
     "text": [
      "2020-06-04 F: WBSQ22, B \n"
     ]
    },
    {
     "name": "stdout",
     "output_type": "stream",
     "text": [
      "2020-06-05 F: WBSQ22, B \n"
     ]
    },
    {
     "name": "stdout",
     "output_type": "stream",
     "text": [
      "2020-06-06 F: WBSQ22, B \n"
     ]
    },
    {
     "name": "stdout",
     "output_type": "stream",
     "text": [
      "2020-06-07 F: WBSQ22, B \n"
     ]
    },
    {
     "name": "stdout",
     "output_type": "stream",
     "text": [
      "2020-06-08 F: WBSQ22, B \n"
     ]
    },
    {
     "name": "stdout",
     "output_type": "stream",
     "text": [
      "2020-06-09 F: WBSQ22, B \n"
     ]
    },
    {
     "name": "stdout",
     "output_type": "stream",
     "text": [
      "2020-06-10 F: WBSQ22, B \n"
     ]
    },
    {
     "name": "stdout",
     "output_type": "stream",
     "text": [
      "2020-06-11 F: WBSQ22, B \n"
     ]
    },
    {
     "name": "stdout",
     "output_type": "stream",
     "text": [
      "2020-06-12 F: WBSQ22, B \n"
     ]
    },
    {
     "name": "stdout",
     "output_type": "stream",
     "text": [
      "2020-06-13 F: WBSQ22, B \n"
     ]
    },
    {
     "name": "stdout",
     "output_type": "stream",
     "text": [
      "2020-06-14 F: WBSQ22, B \n"
     ]
    },
    {
     "name": "stdout",
     "output_type": "stream",
     "text": [
      "2020-06-15 F: WBSQ22, B \n"
     ]
    },
    {
     "name": "stdout",
     "output_type": "stream",
     "text": [
      "2020-06-16 F: WBSQ22, B \n"
     ]
    },
    {
     "name": "stdout",
     "output_type": "stream",
     "text": [
      "2020-06-17 F: WBSQ22, B \n"
     ]
    },
    {
     "name": "stdout",
     "output_type": "stream",
     "text": [
      "2020-06-18 F: WBSQ22, B \n"
     ]
    },
    {
     "name": "stdout",
     "output_type": "stream",
     "text": [
      "2020-06-19 F: WBSQ22, B \n"
     ]
    },
    {
     "name": "stdout",
     "output_type": "stream",
     "text": [
      "2020-06-20 F: WBSQ22, B \n"
     ]
    },
    {
     "name": "stdout",
     "output_type": "stream",
     "text": [
      "2020-06-21 F: WBSQ22, B \n"
     ]
    },
    {
     "name": "stdout",
     "output_type": "stream",
     "text": [
      "2020-06-22 F: WBSQ22, B \n"
     ]
    },
    {
     "name": "stdout",
     "output_type": "stream",
     "text": [
      "2020-06-23 F: WBSQ22, B \n"
     ]
    },
    {
     "name": "stdout",
     "output_type": "stream",
     "text": [
      "2020-06-24 F: WBSQ22, B \n"
     ]
    },
    {
     "name": "stdout",
     "output_type": "stream",
     "text": [
      "2020-06-25 F: WBSQ22, B \n"
     ]
    },
    {
     "name": "stdout",
     "output_type": "stream",
     "text": [
      "2020-06-26 F: WBSQ22, B \n"
     ]
    },
    {
     "name": "stdout",
     "output_type": "stream",
     "text": [
      "2020-06-27 F: WBSQ22, B \n"
     ]
    },
    {
     "name": "stdout",
     "output_type": "stream",
     "text": [
      "2020-06-28 F: WBSQ22, B \n"
     ]
    },
    {
     "name": "stdout",
     "output_type": "stream",
     "text": [
      "2020-06-29 F: WBSQ22, B \n"
     ]
    },
    {
     "name": "stdout",
     "output_type": "stream",
     "text": [
      "2020-06-30 F: WBSQ22, B \n"
     ]
    },
    {
     "name": "stdout",
     "output_type": "stream",
     "text": [
      "2020-07-01 F: WBSQ22, B \n"
     ]
    },
    {
     "name": "stdout",
     "output_type": "stream",
     "text": [
      "2020-07-02 F: WBSQ22, B \n"
     ]
    },
    {
     "name": "stdout",
     "output_type": "stream",
     "text": [
      "2020-07-03 F: WBSQ22, B \n"
     ]
    },
    {
     "name": "stdout",
     "output_type": "stream",
     "text": [
      "2020-07-04 F: WBSQ22, B \n"
     ]
    },
    {
     "name": "stdout",
     "output_type": "stream",
     "text": [
      "2020-07-05 F: WBSQ22, B \n"
     ]
    },
    {
     "name": "stdout",
     "output_type": "stream",
     "text": [
      "2020-07-06 F: WBSQ22, B \n"
     ]
    },
    {
     "name": "stdout",
     "output_type": "stream",
     "text": [
      "2020-07-07 F: WBSQ22, B \n"
     ]
    },
    {
     "name": "stdout",
     "output_type": "stream",
     "text": [
      "2020-07-08 F: WBSQ22, B \n"
     ]
    },
    {
     "name": "stdout",
     "output_type": "stream",
     "text": [
      "2020-07-09 F: WBSQ22, B \n"
     ]
    },
    {
     "name": "stdout",
     "output_type": "stream",
     "text": [
      "2020-07-10 F: WBSQ22, B \n"
     ]
    },
    {
     "name": "stdout",
     "output_type": "stream",
     "text": [
      "2020-07-11 F: WBSQ22, B \n"
     ]
    },
    {
     "name": "stdout",
     "output_type": "stream",
     "text": [
      "2020-07-12 F: WBSQ22, B \n"
     ]
    },
    {
     "name": "stdout",
     "output_type": "stream",
     "text": [
      "2020-07-13 F: WBSQ22, B \n"
     ]
    },
    {
     "name": "stdout",
     "output_type": "stream",
     "text": [
      "2020-07-14 F: WBSQ22, B \n"
     ]
    },
    {
     "name": "stdout",
     "output_type": "stream",
     "text": [
      "2020-07-15 F: WBSQ22, B \n"
     ]
    },
    {
     "name": "stdout",
     "output_type": "stream",
     "text": [
      "2020-07-16 F: WBSQ22, B \n"
     ]
    },
    {
     "name": "stdout",
     "output_type": "stream",
     "text": [
      "2020-07-17 F: WBSQ22, B \n"
     ]
    },
    {
     "name": "stdout",
     "output_type": "stream",
     "text": [
      "2020-07-18 F: WBSQ22, B \n"
     ]
    },
    {
     "name": "stdout",
     "output_type": "stream",
     "text": [
      "2020-07-19 F: WBSQ22, B \n"
     ]
    },
    {
     "name": "stdout",
     "output_type": "stream",
     "text": [
      "2020-07-20 F: WBSQ22, B \n"
     ]
    },
    {
     "name": "stdout",
     "output_type": "stream",
     "text": [
      "2020-07-21 F: WBSQ22, B \n"
     ]
    },
    {
     "name": "stdout",
     "output_type": "stream",
     "text": [
      "2020-07-22 F: WBSQ22, B \n"
     ]
    },
    {
     "name": "stdout",
     "output_type": "stream",
     "text": [
      "2020-07-23 F: WBSQ22, B \n"
     ]
    },
    {
     "name": "stdout",
     "output_type": "stream",
     "text": [
      "2020-07-24 F: WBSQ22, B \n"
     ]
    },
    {
     "name": "stdout",
     "output_type": "stream",
     "text": [
      "2020-07-25 F: WBSQ22, B \n"
     ]
    },
    {
     "name": "stdout",
     "output_type": "stream",
     "text": [
      "2020-07-26 F: WBSQ22, B \n"
     ]
    },
    {
     "name": "stdout",
     "output_type": "stream",
     "text": [
      "2020-07-27 F: WBSQ22, B \n"
     ]
    },
    {
     "name": "stdout",
     "output_type": "stream",
     "text": [
      "2020-07-28 F: WBSQ22, B \n"
     ]
    },
    {
     "name": "stdout",
     "output_type": "stream",
     "text": [
      "2020-07-29 F: WBSQ22, B \n"
     ]
    },
    {
     "name": "stdout",
     "output_type": "stream",
     "text": [
      "2020-07-30 F: WBSQ22, B \n"
     ]
    }
   ],
   "source": [
    "var test = start;\n",
    "while (test < end) {\n",
    "    var d = test.ToString(\"yyyy-MM-dd\");\n",
    "    Console.WriteLine($\"{d} F: {GetFrontTicker(tickerMaturities,test)}, B {GetBackTicker(tickerMaturities,test)}\");\n",
    "    test = test.AddDays(1);\n",
    "}"
   ]
  },
  {
   "cell_type": "markdown",
   "id": "descending-graduate",
   "metadata": {},
   "source": [
    "#### 4.3 Prepare bars request parameters\n",
    "Select start date, end date and instrument identifier for the previsouly selected futures."
   ]
  },
  {
   "cell_type": "code",
   "execution_count": 19,
   "id": "naked-amino",
   "metadata": {
    "dotnet_interactive": {
     "language": "csharp"
    },
    "execution": {
     "iopub.execute_input": "2022-10-25T16:20:52.767140Z",
     "iopub.status.busy": "2022-10-25T16:20:52.766700Z",
     "iopub.status.idle": "2022-10-25T16:20:52.799870Z",
     "shell.execute_reply": "2022-10-25T16:20:52.799619Z"
    },
    "vscode": {
     "languageId": "dotnet-interactive.csharp"
    }
   },
   "outputs": [],
   "source": [
    "// Prepare start and end dates for upcoming tick bars requests\n",
    "var barsStarts =  new Dictionary<string, DateTime>();\n",
    "var barsEnds = new Dictionary<string, DateTime>();"
   ]
  },
  {
   "cell_type": "markdown",
   "id": "original-flesh",
   "metadata": {},
   "source": [
    "The code snippet below generates, for each instrument included in the given period, the **start date** and **end date** necessary for upcoming bars request. Those are computed by comparing ticks count of *front* and *back* contract.\n",
    "\n",
    "Day after day, the algorithm retrieves, if any, the **number of ticks** for both back and front. \n",
    "\n",
    "Roll date is determined when **#ticks_front $\\le$ #ticks_back**. Start and end dates for bars request are then generated.\n"
   ]
  },
  {
   "cell_type": "code",
   "execution_count": 20,
   "id": "junior-location",
   "metadata": {
    "dotnet_interactive": {
     "language": "csharp"
    },
    "execution": {
     "iopub.execute_input": "2022-10-25T16:20:52.801902Z",
     "iopub.status.busy": "2022-10-25T16:20:52.801586Z",
     "iopub.status.idle": "2022-10-25T16:20:52.916661Z",
     "shell.execute_reply": "2022-10-25T16:20:52.916417Z"
    },
    "vscode": {
     "languageId": "dotnet-interactive.csharp"
    }
   },
   "outputs": [],
   "source": [
    "// Initializing\n",
    "var currentDate = start;\n",
    "var previousFrontTicker = GetFrontTicker(tickerMaturities, currentDate);\n",
    "barsStarts[previousFrontTicker] = currentDate;\n",
    "\n",
    "// Increment for each date within the chosen period\n",
    "while(currentDate < end) {\n",
    "    var frontTicker = GetFrontTicker(tickerMaturities, currentDate);\n",
    "    if (frontTicker != previousFrontTicker) {\n",
    "        barsStarts[frontTicker] = currentDate;\n",
    "    }\n",
    "    previousFrontTicker = frontTicker;\n",
    "    var backTicker = GetBackTicker(tickerMaturities, currentDate);\n",
    "    if (frontTicker == null) {\n",
    "        Console.WriteLine($\"End: should not occur, handled in while loop\");\n",
    "        break;\n",
    "    }\n",
    "    if (backTicker == null) // Case where we reached end date\n",
    "    {\n",
    "        barsEnds[frontTicker] = end;\n",
    "        break;\n",
    "    }\n",
    "    \n",
    "    // Get ticks count dictionary for each ticker \n",
    "    var frontTopologies = ticktionary[frontTicker];\n",
    "    var backTopologies = ticktionary[backTicker];\n",
    "\n",
    "    // -->  Check if we have tick size for front and back\n",
    "    // Front    Back     Behavior\n",
    "    //   V       V    => compare sizes\n",
    "    //   V       X    => skip to next current date\n",
    "    //   X       V    => ROLL\n",
    "    //   X       X    => skip to next current date\n",
    "\n",
    "    var currentDateString = currentDate.ToString(\"yyyy-MM-dd\");\n",
    "    \n",
    "    // Both ticks => compare\n",
    "    if (frontTopologies.ContainsKey(currentDateString) && backTopologies.ContainsKey(currentDateString)) \n",
    "    {\n",
    "        var backSize = backTopologies[currentDateString];\n",
    "        var frontSize = frontTopologies[currentDateString];\n",
    "        if (frontSize < backSize) {\n",
    "            // ROLL\n",
    "            Console.WriteLine($\"Rolling from {frontTicker} to {backTicker}: {currentDate} - {frontSize} vs {backSize}\");\n",
    "            barsEnds[frontTicker] = tickerMaturities[frontTicker]; // Add end for bars request\n",
    "            currentDate = tickerMaturities[frontTicker].AddDays(1); // Skipping to another day\n",
    "            continue;\n",
    "        } else {\n",
    "            // SKIP\n",
    "            currentDate = currentDate.AddDays(1);// Skipping day to day\n",
    "        continue;\n",
    "        }\n",
    "    }\n",
    "    \n",
    "    // Only back ticks => roll\n",
    "    if (!frontTopologies.ContainsKey(currentDateString) && backTopologies.ContainsKey(currentDateString)) \n",
    "    {\n",
    "        // ROLL\n",
    "        Console.WriteLine($\"Rolling from {frontTicker} to {backTicker}: {currentDate} -  no more front ticks\");\n",
    "        barsEnds[frontTicker] = tickerMaturities[frontTicker]; // Add end for bars request\n",
    "        currentDate = tickerMaturities[frontTicker].AddDays(1); // Skipping to another day\n",
    "        continue;\n",
    "    }\n",
    "    \n",
    "    // Only front ticks => skip\n",
    "    if (frontTopologies.ContainsKey(currentDateString) && !backTopologies.ContainsKey(currentDateString)) \n",
    "    {\n",
    "        currentDate = currentDate.AddDays(1);// Skipping day to day\n",
    "        continue;\n",
    "    }\n",
    "    \n",
    "    // No front or back ticks => skip\n",
    "    if (!frontTopologies.ContainsKey(currentDateString) && !backTopologies.ContainsKey(currentDateString)) \n",
    "    {\n",
    "        currentDate = currentDate.AddDays(1); // Skipping day to day\n",
    "        continue;\n",
    "    }\n",
    "}"
   ]
  },
  {
   "cell_type": "code",
   "execution_count": 21,
   "id": "talented-landscape",
   "metadata": {
    "dotnet_interactive": {
     "language": "csharp"
    },
    "execution": {
     "iopub.execute_input": "2022-10-25T16:20:52.918869Z",
     "iopub.status.busy": "2022-10-25T16:20:52.918430Z",
     "iopub.status.idle": "2022-10-25T16:20:52.961906Z",
     "shell.execute_reply": "2022-10-25T16:20:52.961423Z"
    },
    "vscode": {
     "languageId": "dotnet-interactive.csharp"
    }
   },
   "outputs": [
    {
     "data": {
      "text/plain": [
       "WBSQ22"
      ]
     },
     "metadata": {},
     "output_type": "display_data"
    }
   ],
   "source": [
    "foreach (var f in selectedFutures) {\n",
    "    display(f.Identifier.Ticker);\n",
    "}"
   ]
  },
  {
   "cell_type": "markdown",
   "id": "occupational-cartridge",
   "metadata": {},
   "source": [
    "The following code snippet generates *tick bars* requests' parameters:"
   ]
  },
  {
   "cell_type": "code",
   "execution_count": 22,
   "id": "civic-honduras",
   "metadata": {
    "dotnet_interactive": {
     "language": "csharp"
    },
    "execution": {
     "iopub.execute_input": "2022-10-25T16:20:52.964430Z",
     "iopub.status.busy": "2022-10-25T16:20:52.964110Z",
     "iopub.status.idle": "2022-10-25T16:20:53.078250Z",
     "shell.execute_reply": "2022-10-25T16:20:53.077794Z"
    },
    "vscode": {
     "languageId": "dotnet-interactive.csharp"
    }
   },
   "outputs": [],
   "source": [
    "// Create a list of tuples containing the instrument identifier and date intervals for bars request\n",
    "// The days delta chosen here defines the delay until expiration before rolling\n",
    "var barsRequestData = new List<Tuple<Identifier, DateTime,DateTime>>();\n",
    "\n",
    "if (barsEnds.Keys.Count != barsStarts.Keys.Count) \n",
    "{\n",
    "    Console.WriteLine($\"Different start/end size\");\n",
    "}\n",
    "var count = barsEnds.Keys.Count;\n",
    "var keys = barsEnds.Keys.ToArray();\n",
    "for (var i =0; i< count; i++) {\n",
    "    var identifier = selectedFutures.Select(f => f.Identifier).Where(f=>f.Ticker == keys[i]).Single();\n",
    "    var start = barsStarts[keys[i]];\n",
    "    var end = barsEnds[keys[i]];\n",
    "    var data = new Tuple<Identifier, DateTime,DateTime>(identifier, start, end);\n",
    "    barsRequestData.Add(data);\n",
    "}"
   ]
  },
  {
   "cell_type": "code",
   "execution_count": 23,
   "id": "inappropriate-bobby",
   "metadata": {
    "dotnet_interactive": {
     "language": "csharp"
    },
    "execution": {
     "iopub.execute_input": "2022-10-25T16:20:53.080991Z",
     "iopub.status.busy": "2022-10-25T16:20:53.080446Z",
     "iopub.status.idle": "2022-10-25T16:20:53.111826Z",
     "shell.execute_reply": "2022-10-25T16:20:53.111475Z"
    },
    "vscode": {
     "languageId": "dotnet-interactive.csharp"
    }
   },
   "outputs": [],
   "source": [
    "// Display bars request parameters\n",
    "//display(barsRequestData)"
   ]
  },
  {
   "cell_type": "markdown",
   "id": "grave-rwanda",
   "metadata": {},
   "source": [
    "### Step 5: Get bars to get a continuous price"
   ]
  },
  {
   "cell_type": "markdown",
   "id": "moving-diversity",
   "metadata": {},
   "source": [
    "#### 5.1 Define bar request creation method\n",
    "The following code snippt defines a method that creates and handles *tick bars* requests: "
   ]
  },
  {
   "cell_type": "code",
   "execution_count": 24,
   "id": "infrared-editor",
   "metadata": {
    "dotnet_interactive": {
     "language": "csharp"
    },
    "execution": {
     "iopub.execute_input": "2022-10-25T16:20:53.114279Z",
     "iopub.status.busy": "2022-10-25T16:20:53.113919Z",
     "iopub.status.idle": "2022-10-25T16:20:53.152072Z",
     "shell.execute_reply": "2022-10-25T16:20:53.151803Z"
    },
    "vscode": {
     "languageId": "dotnet-interactive.csharp"
    }
   },
   "outputs": [],
   "source": [
    "public static TickBarsRequest GetBarsRequest(Identifier identifier, DateTime start, DateTime end)\n",
    "{\n",
    "    // Set the bar duration (1 hour bars in seconds)\n",
    "    var sampling = 60 * 60;\n",
    "\n",
    "    // Set the bar calculation field (Trade price)\n",
    "    var field = BarPrice.Trade; \n",
    "\n",
    "    // Begin\n",
    "    var beginTime = new TimeOfDay { Hours = 00, Minutes = 00, Seconds = 00 };\n",
    "\n",
    "    // Create bars request data intervals\n",
    "    var dateIntervals = new DateInterval()\n",
    "      {\n",
    "        StartDate = new Date { Year = start.Year, Month = start.Month, Day = start.Day },\n",
    "        EndDate = new Date { Year = end.Year, Month = end.Month, Day = end.Day }\n",
    "\n",
    "      };\n",
    "    \n",
    "    // Generate constraints based on the previous date selection\n",
    "    var constraints = new Constraints(); \n",
    "    constraints.DateIntervals.Add(dateIntervals);\n",
    "    \n",
    "    // Generate tick bars request\n",
    "    var request = new TickBarsRequest \n",
    "    {\n",
    "        Identifier = identifier, \n",
    "        Constraints = constraints,  \n",
    "        Sampling = new Duration {Seconds = sampling},\n",
    "        Field = field\n",
    "    };\n",
    "    return request;\n",
    "}"
   ]
  },
  {
   "cell_type": "markdown",
   "id": "flying-reasoning",
   "metadata": {},
   "source": [
    "#### 5.2 Process bars request for each future\n",
    "We have to use the previously defined  `GetBarsRequest` method to generate the request and process it. Results will be stored in a dictionary before being displayed."
   ]
  },
  {
   "cell_type": "code",
   "execution_count": 25,
   "id": "mounted-briefs",
   "metadata": {
    "dotnet_interactive": {
     "language": "csharp"
    },
    "execution": {
     "iopub.execute_input": "2022-10-25T16:20:53.154074Z",
     "iopub.status.busy": "2022-10-25T16:20:53.153703Z",
     "iopub.status.idle": "2022-10-25T16:20:53.570960Z",
     "shell.execute_reply": "2022-10-25T16:20:53.570682Z"
    },
    "vscode": {
     "languageId": "dotnet-interactive.csharp"
    }
   },
   "outputs": [],
   "source": [
    "// Intiate dictionary to handle bars data for each future contract\n",
    "var barsResponses = new Dictionary<string, List<TickBarsResponse>>();\n",
    "\n",
    "// Instantiate the tick bars service\n",
    "var barsService = new TickBarsService.TickBarsServiceClient(channel);\n",
    "\n",
    "// Process the tick bars reply: store tick bars for each future contract\n",
    "foreach (var elt in barsRequestData)\n",
    "{\n",
    "    // Generate tick bars request\n",
    "    var barsRequest = GetBarsRequest(elt.Item1, elt.Item2, elt.Item3);\n",
    "    \n",
    "    var key = elt.Item1.Ticker;\n",
    "    barsResponses[key] = new List<TickBarsResponse>();\n",
    "    \n",
    "    var call = barsService.TickBars(barsRequest, headers);\n",
    "    await foreach (var bar in call.ResponseStream.ReadAllAsync())\n",
    "    {\n",
    "        barsResponses[key].Add(bar);\n",
    "    }\n",
    "}"
   ]
  },
  {
   "cell_type": "code",
   "execution_count": 26,
   "id": "modern-detector",
   "metadata": {
    "dotnet_interactive": {
     "language": "csharp"
    },
    "execution": {
     "iopub.execute_input": "2022-10-25T16:20:53.573471Z",
     "iopub.status.busy": "2022-10-25T16:20:53.572785Z",
     "iopub.status.idle": "2022-10-25T16:20:53.603449Z",
     "shell.execute_reply": "2022-10-25T16:20:53.603203Z"
    },
    "vscode": {
     "languageId": "dotnet-interactive.csharp"
    }
   },
   "outputs": [],
   "source": [
    "// Verification: check first future bars\n",
    "//display(barsResponses[barsResponses.Keys.First()])"
   ]
  },
  {
   "cell_type": "markdown",
   "id": "intellectual-obligation",
   "metadata": {},
   "source": [
    "### Step 6: Visualize data\n",
    "\n",
    "The following code snippets retrieve for each maturity, the *Close prices* over the look back period from the request result and plot them with the package of your choice.<br><i>`XPlot.Plotly`</i> is used as per open source display package."
   ]
  },
  {
   "cell_type": "code",
   "execution_count": 27,
   "id": "dental-victory",
   "metadata": {
    "dotnet_interactive": {
     "language": "csharp"
    },
    "execution": {
     "iopub.execute_input": "2022-10-25T16:20:53.605627Z",
     "iopub.status.busy": "2022-10-25T16:20:53.605201Z",
     "iopub.status.idle": "2022-10-25T16:20:53.648428Z",
     "shell.execute_reply": "2022-10-25T16:20:53.647932Z"
    },
    "vscode": {
     "languageId": "dotnet-interactive.csharp"
    }
   },
   "outputs": [],
   "source": [
    "// Define a method transforming a dictionary key/value pair to a graph content\n",
    "public static Scattergl ToGraph(KeyValuePair<string, List<TickBarsResponse>> kvp)\n",
    "{\n",
    "    return new Scattergl\n",
    "    {\n",
    "        name = kvp.Key,\n",
    "        x = kvp.Value.Select(b => b.TimeStamp.ToDateTime()).ToArray(),\n",
    "        y = kvp.Value.Select(b => b.Close).ToArray(),\n",
    "    };\n",
    "}"
   ]
  },
  {
   "cell_type": "code",
   "execution_count": 28,
   "id": "transsexual-jonathan",
   "metadata": {
    "dotnet_interactive": {
     "language": "csharp"
    },
    "execution": {
     "iopub.execute_input": "2022-10-25T16:20:53.650711Z",
     "iopub.status.busy": "2022-10-25T16:20:53.650388Z",
     "iopub.status.idle": "2022-10-25T16:20:53.905343Z",
     "shell.execute_reply": "2022-10-25T16:20:53.905050Z"
    },
    "vscode": {
     "languageId": "dotnet-interactive.csharp"
    }
   },
   "outputs": [
    {
     "data": {
      "text/html": [
       "<!DOCTYPE html>\n",
       "<div style=\"width: 1500px; height: 800px;\" id=\"71be42ea-a62f-4da9-9572-9ed7aa2c51c6\"></div><script type=\"text/javascript\">\n",
       "\n",
       "var renderPlotly = function() {\n",
       "    var xplotRequire = require.config({context:'xplot-3.0.1',paths:{plotly:'https://cdn.plot.ly/plotly-1.49.2.min'}}) || require;\n",
       "    xplotRequire(['plotly'], function(Plotly) { \n",
       "\n",
       "            var data = [{\"type\":\"scattergl\",\"x\":[],\"y\":[],\"name\":\"WBSQ22\"}];\n",
       "           var layout = {\"title\":\"WBS roll using market activity indicator | 1-hour bars [2020-02-01 - 2020-07-31] \",\"showlegend\":true,\"xaxis\":{\"title\":\"Dates\",\"_isSubplotObj\":true},\"yaxis\":{\"title\":\"Close price\",\"_isSubplotObj\":true},\"barmode\":\"group\"};\n",
       "           Plotly.newPlot('71be42ea-a62f-4da9-9572-9ed7aa2c51c6', data, layout);\n",
       "        \n",
       "});\n",
       "};\n",
       "// ensure `require` is available globally\n",
       "if ((typeof(require) !==  typeof(Function)) || (typeof(require.config) !== typeof(Function))) {\n",
       "    let require_script = document.createElement('script');\n",
       "    require_script.setAttribute('src', 'https://cdnjs.cloudflare.com/ajax/libs/require.js/2.3.6/require.min.js');\n",
       "    require_script.setAttribute('type', 'text/javascript');\n",
       "    \n",
       "    \n",
       "    require_script.onload = function() {\n",
       "        renderPlotly();\n",
       "    };\n",
       "\n",
       "    document.getElementsByTagName('head')[0].appendChild(require_script);\n",
       "}\n",
       "else {\n",
       "    renderPlotly();\n",
       "}\n",
       "\n",
       "</script>\n"
      ]
     },
     "metadata": {},
     "output_type": "display_data"
    }
   ],
   "source": [
    "var chartContent = barsResponses.Select(ToGraph).ToArray();\n",
    "var chart = Chart.Plot(chartContent);\n",
    "var layout = new Layout.Layout(){barmode = \"group\" };\n",
    "chart.WithLayout(layout);\n",
    "chart.WithTitle($\"{contract} roll using market activity indicator | 1-hour bars [{start:yyyy-MM-dd} - {end:yyyy-MM-dd}] \");\n",
    "chart.WithXTitle(\"Dates\");\n",
    "chart.WithYTitle(\"Close price\");\n",
    "chart.WithLegend(true);\n",
    "chart.Width = 1500;\n",
    "chart.Height = 800;\n",
    "display(chart);"
   ]
  }
 ],
 "metadata": {
  "kernelspec": {
   "display_name": ".NET (C#)",
   "language": "C#",
   "name": ".net-csharp"
  },
  "language_info": {
   "file_extension": ".cs",
   "mimetype": "text/x-csharp",
   "name": "C#",
   "pygments_lexer": "csharp",
   "version": "10.0"
  }
 },
 "nbformat": 4,
 "nbformat_minor": 5
}
