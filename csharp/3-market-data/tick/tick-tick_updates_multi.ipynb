{
 "cells": [
  {
   "cell_type": "markdown",
   "metadata": {},
   "source": [
    "# Export tick updates using dedicated service - C#\n",
    "\n",
    "### Overview\n",
    "This sample demonstrates how to request from a dedicated raw data service **on-demand** tick by tick data `for a given instrument on multiple data sources`. \n",
    "\n",
    "### Inputs/outputs\n",
    "Tick data extraction sample requires instrument's identifier, date time intervals as per inputs and exports tick by tick data file. \n",
    "\n",
    "### Services used\n",
    "This sample uses *gRPC requests* in order to retrieve tick by tick dataset from the hosted service. The queried endpoint in this script are:\n",
    "* *TickRawService*: to directly retrieve raw dataset from the server.\n",
    "\n",
    "### Packages required\n",
    "1. Systemathics packages:\n",
    "    * *Systemathics.Apis.Type.Shared.V1*\n",
    "    * *Systemathics.Apis.Services.Tick.V1*\n",
    "2. Open source packages\n",
    "    * *Google.Protobuf.WellKnownTypes*\n",
    "    * *Google.Type*\n",
    "    * *Grpc.Net.Client*\n",
    "    * *Grpc.Core*\n",
    "    \n",
    "***"
   ]
  },
  {
   "cell_type": "markdown",
   "metadata": {},
   "source": [
    "# Run the tick updates extract"
   ]
  },
  {
   "cell_type": "markdown",
   "metadata": {},
   "source": [
    "### Step 1: Install packages"
   ]
  },
  {
   "cell_type": "code",
   "execution_count": 1,
   "metadata": {
    "dotnet_interactive": {
     "language": "csharp"
    },
    "execution": {
     "iopub.execute_input": "2022-10-25T16:18:49.630844Z",
     "iopub.status.busy": "2022-10-25T16:18:49.621367Z",
     "iopub.status.idle": "2022-10-25T16:18:53.649419Z",
     "shell.execute_reply": "2022-10-25T16:18:53.642067Z"
    },
    "vscode": {
     "languageId": "dotnet-interactive.csharp"
    }
   },
   "outputs": [
    {
     "data": {
      "text/html": [
       "\n",
       "<div>\n",
       "    <div id='dotnet-interactive-this-cell-20313.Microsoft.DotNet.Interactive.Http.HttpPort' style='display: none'>\n",
       "        The below script needs to be able to find the current output cell; this is an easy method to get it.\n",
       "    </div>\n",
       "    <script type='text/javascript'>\n",
       "async function probeAddresses(probingAddresses) {\n",
       "    function timeout(ms, promise) {\n",
       "        return new Promise(function (resolve, reject) {\n",
       "            setTimeout(function () {\n",
       "                reject(new Error('timeout'))\n",
       "            }, ms)\n",
       "            promise.then(resolve, reject)\n",
       "        })\n",
       "    }\n",
       "\n",
       "    if (Array.isArray(probingAddresses)) {\n",
       "        for (let i = 0; i < probingAddresses.length; i++) {\n",
       "\n",
       "            let rootUrl = probingAddresses[i];\n",
       "\n",
       "            if (!rootUrl.endsWith('/')) {\n",
       "                rootUrl = `${rootUrl}/`;\n",
       "            }\n",
       "\n",
       "            try {\n",
       "                let response = await timeout(1000, fetch(`${rootUrl}discovery`, {\n",
       "                    method: 'POST',\n",
       "                    cache: 'no-cache',\n",
       "                    mode: 'cors',\n",
       "                    timeout: 1000,\n",
       "                    headers: {\n",
       "                        'Content-Type': 'text/plain'\n",
       "                    },\n",
       "                    body: probingAddresses[i]\n",
       "                }));\n",
       "\n",
       "                if (response.status == 200) {\n",
       "                    return rootUrl;\n",
       "                }\n",
       "            }\n",
       "            catch (e) { }\n",
       "        }\n",
       "    }\n",
       "}\n",
       "\n",
       "function loadDotnetInteractiveApi() {\n",
       "    probeAddresses([\"http://172.28.169.63:2643/\", \"http://127.0.0.1:2643/\"])\n",
       "        .then((root) => {\n",
       "        // use probing to find host url and api resources\n",
       "        // load interactive helpers and language services\n",
       "        let dotnetInteractiveRequire = require.config({\n",
       "        context: '20313.Microsoft.DotNet.Interactive.Http.HttpPort',\n",
       "                paths:\n",
       "            {\n",
       "                'dotnet-interactive': `${root}resources`\n",
       "                }\n",
       "        }) || require;\n",
       "\n",
       "            window.dotnetInteractiveRequire = dotnetInteractiveRequire;\n",
       "\n",
       "            window.configureRequireFromExtension = function(extensionName, extensionCacheBuster) {\n",
       "                let paths = {};\n",
       "                paths[extensionName] = `${root}extensions/${extensionName}/resources/`;\n",
       "                \n",
       "                let internalRequire = require.config({\n",
       "                    context: extensionCacheBuster,\n",
       "                    paths: paths,\n",
       "                    urlArgs: `cacheBuster=${extensionCacheBuster}`\n",
       "                    }) || require;\n",
       "\n",
       "                return internalRequire\n",
       "            };\n",
       "        \n",
       "            dotnetInteractiveRequire([\n",
       "                    'dotnet-interactive/dotnet-interactive'\n",
       "                ],\n",
       "                function (dotnet) {\n",
       "                    dotnet.init(window);\n",
       "                },\n",
       "                function (error) {\n",
       "                    console.log(error);\n",
       "                }\n",
       "            );\n",
       "        })\n",
       "        .catch(error => {console.log(error);});\n",
       "    }\n",
       "\n",
       "// ensure `require` is available globally\n",
       "if ((typeof(require) !==  typeof(Function)) || (typeof(require.config) !== typeof(Function))) {\n",
       "    let require_script = document.createElement('script');\n",
       "    require_script.setAttribute('src', 'https://cdnjs.cloudflare.com/ajax/libs/require.js/2.3.6/require.min.js');\n",
       "    require_script.setAttribute('type', 'text/javascript');\n",
       "    \n",
       "    \n",
       "    require_script.onload = function() {\n",
       "        loadDotnetInteractiveApi();\n",
       "    };\n",
       "\n",
       "    document.getElementsByTagName('head')[0].appendChild(require_script);\n",
       "}\n",
       "else {\n",
       "    loadDotnetInteractiveApi();\n",
       "}\n",
       "\n",
       "    </script>\n",
       "</div>"
      ]
     },
     "metadata": {},
     "output_type": "display_data"
    },
    {
     "data": {
      "text/html": [
       "<div><div><strong>Restore sources</strong><ul><li><span> file://~/.nuget/packages/</span></li><li><span> https://api.nuget.org/v3/index.json</span></li></ul></div><div></div><div><strong>Installed Packages</strong><ul><li><span>Systemathics.Apis, 0.13.2-pre</span></li></ul></div></div>"
      ]
     },
     "metadata": {},
     "output_type": "display_data"
    }
   ],
   "source": [
    "#i \"nuget: file://~/.nuget/packages/\"\n",
    "#i \"nuget: https://api.nuget.org/v3/index.json\"\n",
    "#r \"nuget: Systemathics.Apis, 0.*-pre*\""
   ]
  },
  {
   "cell_type": "code",
   "execution_count": 2,
   "metadata": {
    "dotnet_interactive": {
     "language": "csharp"
    },
    "execution": {
     "iopub.execute_input": "2022-10-25T16:18:53.652098Z",
     "iopub.status.busy": "2022-10-25T16:18:53.651152Z",
     "iopub.status.idle": "2022-10-25T16:18:53.695272Z",
     "shell.execute_reply": "2022-10-25T16:18:53.694999Z"
    },
    "vscode": {
     "languageId": "dotnet-interactive.csharp"
    }
   },
   "outputs": [],
   "source": [
    "using Systemathics.Apis.Helpers;\n",
    "using Systemathics.Apis.Type.Shared.V1;\n",
    "using Google.Protobuf.WellKnownTypes;\n",
    "using Google.Type;\n",
    "using Grpc.Net.Client;\n",
    "using Grpc.Core;\n",
    "using System.IO;\n",
    "using System.Globalization;\n",
    "\n",
    "using MarketFieldUpdate = Systemathics.Apis.Type.Shared.V1.MarketFieldUpdate;\n",
    "using TickUpdatesService = Systemathics.Apis.Services.Tick.V1.TickUpdatesService;\n",
    "using TickUpdatesRequest = Systemathics.Apis.Services.Tick.V1.TickUpdatesRequest;\n",
    "using TickUpdatesResponse = Systemathics.Apis.Services.Tick.V1.TickUpdatesResponse;"
   ]
  },
  {
   "cell_type": "markdown",
   "metadata": {},
   "source": [
    "### Step 2: Prepare API requests\n",
    "The following code snippets retrieve authentication token and prepare the API request by: opening the *channel* and adding the *token* to the request header:"
   ]
  },
  {
   "cell_type": "code",
   "execution_count": 3,
   "metadata": {
    "dotnet_interactive": {
     "language": "csharp"
    },
    "execution": {
     "iopub.execute_input": "2022-10-25T16:18:53.697291Z",
     "iopub.status.busy": "2022-10-25T16:18:53.696961Z",
     "iopub.status.idle": "2022-10-25T16:18:54.760944Z",
     "shell.execute_reply": "2022-10-25T16:18:54.760646Z"
    },
    "vscode": {
     "languageId": "dotnet-interactive.csharp"
    }
   },
   "outputs": [],
   "source": [
    "// Get token as metadata\n",
    "var headers = new Grpc.Core.Metadata();\n",
    "try { headers = TokenHelpers.GetTokenAsMetaData(); } catch {}\n",
    "\n",
    "// Create communication channel\n",
    "var channel = ChannelHelpers.GetChannel();"
   ]
  },
  {
   "cell_type": "markdown",
   "metadata": {},
   "source": [
    "### Step 3: Create and process request\n",
    "To request *raw tick data* service, we need to specify instrument identifier and a period of time. The following code snippets ensure required objects are created and proceed to request instantiation."
   ]
  },
  {
   "cell_type": "markdown",
   "metadata": {},
   "source": [
    "#### 3.1 Instrument selection"
   ]
  },
  {
   "cell_type": "code",
   "execution_count": 4,
   "metadata": {
    "dotnet_interactive": {
     "language": "csharp"
    },
    "execution": {
     "iopub.execute_input": "2022-10-25T16:18:54.763053Z",
     "iopub.status.busy": "2022-10-25T16:18:54.762738Z",
     "iopub.status.idle": "2022-10-25T16:18:54.803908Z",
     "shell.execute_reply": "2022-10-25T16:18:54.803310Z"
    },
    "vscode": {
     "languageId": "dotnet-interactive.csharp"
    }
   },
   "outputs": [],
   "source": [
    "// Tha data is provided by ICE : let's use the ICE mapping codes to generate the identifier\n",
    "// The ICE ticker\n",
    "var ticker = \"E:BNP\";"
   ]
  },
  {
   "cell_type": "markdown",
   "metadata": {},
   "source": [
    "#### 3.2 Time period delimitation"
   ]
  },
  {
   "cell_type": "markdown",
   "metadata": {},
   "source": [
    "The following code setups time constraints"
   ]
  },
  {
   "cell_type": "code",
   "execution_count": 5,
   "metadata": {
    "dotnet_interactive": {
     "language": "csharp"
    },
    "execution": {
     "iopub.execute_input": "2022-10-25T16:18:54.806719Z",
     "iopub.status.busy": "2022-10-25T16:18:54.806199Z",
     "iopub.status.idle": "2022-10-25T16:18:54.906967Z",
     "shell.execute_reply": "2022-10-25T16:18:54.906704Z"
    },
    "vscode": {
     "languageId": "dotnet-interactive.csharp"
    }
   },
   "outputs": [],
   "source": [
    "// Create time intervals\n",
    "// Full order book data avaialble (sample) : from 2021-11-01 to 2021-11-12\n",
    "var start = new DateTime(2021, 11, 01);\n",
    "var end = new DateTime(2021, 11, 01);\n",
    "var dateIntervals = new DateInterval()\n",
    "{\n",
    "  StartDate = new Date { Year = start.Year, Month = start.Month, Day = start.Day },\n",
    "  EndDate = new Date { Year = end.Year, Month = end.Month, Day = end.Day }\n",
    "};\n",
    "\n",
    "// Build the tick quotes request time interval (we are using Google date time format)\n",
    "// UTC time zone\n",
    "var timeInterval = new TimeInterval()\n",
    "{ \n",
    " StartTime = new TimeOfDay { Hours = 12, Minutes = 00, Seconds = 00 },\n",
    " EndTime = new TimeOfDay { Hours = 20, Minutes = 30, Seconds = 00 } \n",
    "};"
   ]
  },
  {
   "cell_type": "markdown",
   "metadata": {},
   "source": [
    "The following code creates the market data request and service client:"
   ]
  },
  {
   "cell_type": "code",
   "execution_count": 6,
   "metadata": {
    "dotnet_interactive": {
     "language": "csharp"
    },
    "execution": {
     "iopub.execute_input": "2022-10-25T16:18:54.909116Z",
     "iopub.status.busy": "2022-10-25T16:18:54.908686Z",
     "iopub.status.idle": "2022-10-25T16:18:54.999451Z",
     "shell.execute_reply": "2022-10-25T16:18:54.999173Z"
    },
    "vscode": {
     "languageId": "dotnet-interactive.csharp"
    }
   },
   "outputs": [],
   "source": [
    "// Generate constraints based on the previous space selection:\n",
    "var constraints = new Constraints(); \n",
    "constraints.DateIntervals.Add(dateIntervals);\n",
    "constraints.TimeIntervals.Add(timeInterval);\n",
    "\n",
    "// Generate raw tick data request\n",
    "var request = new TickUpdatesRequest { Constraints = constraints, Adjustment = false };\n",
    "\n",
    "// We want to stream the ticks from those two Euronext sources (specific to provider \"ICE\")\n",
    "request.Identifiers.Add(new IdentifierAndLevel { Provider = \"ICE\", Ticker = ticker, Exchange = \"EQUITY_L2_973\", Level = Level.TradesAndBook });\n",
    "request.Identifiers.Add(new IdentifierAndLevel { Provider = \"ICE\", Ticker = ticker, Exchange = \"787\", Level = Level.Trades });\n",
    "\n",
    "var serviceClient = new TickUpdatesService.TickUpdatesServiceClient(channel);\n"
   ]
  },
  {
   "cell_type": "markdown",
   "metadata": {},
   "source": [
    "### Step 4: Retrieve tick by tick data"
   ]
  },
  {
   "cell_type": "markdown",
   "metadata": {},
   "source": [
    "Tick by tick data is sent through a *stream*, the following code snippet exports tick by tick dataset in a file in the same folder as this sample:"
   ]
  },
  {
   "cell_type": "code",
   "execution_count": 7,
   "metadata": {
    "dotnet_interactive": {
     "language": "csharp"
    },
    "execution": {
     "iopub.execute_input": "2022-10-25T16:18:55.001698Z",
     "iopub.status.busy": "2022-10-25T16:18:55.001177Z",
     "iopub.status.idle": "2022-10-25T16:18:59.363838Z",
     "shell.execute_reply": "2022-10-25T16:18:59.363496Z"
    },
    "vscode": {
     "languageId": "dotnet-interactive.csharp"
    }
   },
   "outputs": [],
   "source": [
    "// Get the tick raw data\n",
    "var call = serviceClient.TickUpdates(request, headers);\n",
    "\n",
    "// Export tick raw data to a txt file\n",
    "const string Header = \"TimeStamp,Type,Mapping,Action,Side,Price,Size,Depth,OrderId,Condition,Reset,FieldName,FiedType,FieldValue,MessageNumber\";     \n",
    "var messageNumber = 0;\n",
    "var ticksCount = 0;\n",
    "var d = new DirectoryInfo(\"output\"); if (!d.Exists) { d.Create(); }\n",
    "using (var fs = new StreamWriter(File.OpenWrite($\"output/{ticker}_tick_updates_multi.csv\")))\n",
    "await foreach (var item in call.ResponseStream.ReadAllAsync())\n",
    "{\n",
    "    ++messageNumber;\n",
    "\n",
    "    if (item.Mapping != null)\n",
    "    {\n",
    "        await fs.WriteLineAsync(Header);\n",
    "        continue;\n",
    "    }\n",
    "\n",
    "    if (item.MblBookUpdates != null)\n",
    "    {\n",
    "        var itemMblBookUpdates = item.MblBookUpdates;\n",
    "        foreach (var mblMarketBookUpdate in item.MblBookUpdates.Updates)\n",
    "        {\n",
    "            ticksCount++;\n",
    "            await fs.WriteLineAsync($\"{itemMblBookUpdates.TimeStamp.ToDateTime():O},MBL,{itemMblBookUpdates.Mapping},{mblMarketBookUpdate.Action},{mblMarketBookUpdate.Side},{mblMarketBookUpdate.Price},{mblMarketBookUpdate.Size},{mblMarketBookUpdate.Depth},,,{(itemMblBookUpdates.Reset ? \"true\" : string.Empty)},,,,{messageNumber}\");\n",
    "        }\n",
    "    }\n",
    "\n",
    "    if (item.MboBookUpdates != null)\n",
    "    {\n",
    "        var itemMboBookUpdates = item.MboBookUpdates;\n",
    "        foreach (var mboMarketBookUpdate in item.MboBookUpdates.Updates)\n",
    "        {\n",
    "            ticksCount++;\n",
    "            await fs.WriteLineAsync($\"{itemMboBookUpdates.TimeStamp.ToDateTime():O},MBO,{itemMboBookUpdates.Mapping},{mboMarketBookUpdate.Action},{mboMarketBookUpdate.Side},{mboMarketBookUpdate.Price},{mboMarketBookUpdate.Size},,{mboMarketBookUpdate.OrderId},{mboMarketBookUpdate.Condition},{(itemMboBookUpdates.Reset ? \"true\" : string.Empty)},,,,{messageNumber}\");\n",
    "        }\n",
    "    }\n",
    "\n",
    "    if (item.FieldsUpdates != null)\n",
    "    {\n",
    "        var itemFieldsUpdates = item.FieldsUpdates;\n",
    "        foreach (var marketFieldUpdate in item.FieldsUpdates.Updates)\n",
    "        {\n",
    "            ticksCount++;\n",
    "            object fieldValue = null;\n",
    "            var fieldType = string.Empty;\n",
    "            switch (marketFieldUpdate.ValueCase)\n",
    "            {\n",
    "                case MarketFieldUpdate.ValueOneofCase.StringValue:\n",
    "                    fieldType = \"string\";\n",
    "                    fieldValue = marketFieldUpdate.StringValue;\n",
    "                    break;\n",
    "\n",
    "                case MarketFieldUpdate.ValueOneofCase.LongValue:\n",
    "                    fieldType = \"long\";\n",
    "                    fieldValue = marketFieldUpdate.LongValue;\n",
    "                    break;\n",
    "\n",
    "                case MarketFieldUpdate.ValueOneofCase.DoubleValue:\n",
    "                    fieldType = \"double\";\n",
    "                    fieldValue = marketFieldUpdate.DoubleValue;\n",
    "                    break;\n",
    "            }\n",
    "\n",
    "            await fs.WriteLineAsync($\"{itemFieldsUpdates.TimeStamp.ToDateTime():O},FLD,{itemFieldsUpdates.Mapping},{marketFieldUpdate.Action},,,,,,,{(itemFieldsUpdates.Reset ? \"true\" : string.Empty)},{marketFieldUpdate.Field},{fieldType},{fieldValue},{messageNumber}\");\n",
    "        }\n",
    "    }\n",
    "}"
   ]
  },
  {
   "cell_type": "markdown",
   "metadata": {},
   "source": [
    "The following code snippet is a summary with some metrics about the dateset export: "
   ]
  },
  {
   "cell_type": "code",
   "execution_count": 8,
   "metadata": {
    "dotnet_interactive": {
     "language": "csharp"
    },
    "execution": {
     "iopub.execute_input": "2022-10-25T16:18:59.365986Z",
     "iopub.status.busy": "2022-10-25T16:18:59.365675Z",
     "iopub.status.idle": "2022-10-25T16:18:59.419969Z",
     "shell.execute_reply": "2022-10-25T16:18:59.419488Z"
    },
    "vscode": {
     "languageId": "dotnet-interactive.csharp"
    }
   },
   "outputs": [
    {
     "name": "stdout",
     "output_type": "stream",
     "text": [
      "Start date: 2021-11-01\n"
     ]
    },
    {
     "name": "stdout",
     "output_type": "stream",
     "text": [
      "Start date: 2021-11-01\n"
     ]
    },
    {
     "name": "stdout",
     "output_type": "stream",
     "text": [
      "Total messages retrieved for E:BNP: 269,772\n"
     ]
    },
    {
     "name": "stdout",
     "output_type": "stream",
     "text": [
      "Total ticks retrieved for E:BNP: 303,923\n"
     ]
    }
   ],
   "source": [
    "Console.WriteLine($\"Start date: {start:yyyy-MM-dd}\");\n",
    "Console.WriteLine($\"Start date: {end:yyyy-MM-dd}\");\n",
    "Console.WriteLine($\"Total messages retrieved for {ticker}: {messageNumber:N0}\");\n",
    "Console.WriteLine($\"Total ticks retrieved for {ticker}: {ticksCount:N0}\");"
   ]
  }
 ],
 "metadata": {
  "kernelspec": {
   "display_name": ".NET (C#)",
   "language": "C#",
   "name": ".net-csharp"
  },
  "language_info": {
   "file_extension": ".cs",
   "mimetype": "text/x-csharp",
   "name": "C#",
   "pygments_lexer": "csharp",
   "version": "10.0"
  }
 },
 "nbformat": 4,
 "nbformat_minor": 4
}
