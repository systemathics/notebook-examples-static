{
 "cells": [
  {
   "cell_type": "markdown",
   "metadata": {},
   "source": [
    "## Compute execution ratio using dedicated service(C#)\n",
    "\n",
    "### Overview\n",
    "Tick count enriched with trade count can be used as an indicator to illustrate market activity and measure market quality by:\n",
    "* computing the technical transactions/transmissions count on a tick by tick basis, *tick count*,\n",
    "* comparing it to the total *trade count*\n",
    "\n",
    "Correlated with a set of other indicators such as traded volume and price volatility, over the same look back period and the same sampling granularity, it repserents a good measurement of the market quality.\n",
    "\n",
    "This samples enables to retrieve **on-demand** tick count data points (L1 and L1L2) by calling a dedicated service.\n",
    "\n",
    "### Inputs/outputs\n",
    "Execution ratio sample requires instrument's identifier, date time intervals and time granularity as per inputs. It returns the tick count Vs trade count sampled using the input time granularity.\n",
    "\n",
    "This sample also shows how to plot a simple graph for basis financial analysis using an open source library.\n",
    "\n",
    "<div class=\"alert alert-block alert-info\">\n",
    "    <b>Note:</b> Similar scenarios are available and enable to enrich tick count with price volatility or trade sizes.\n",
    "</div>\n",
    "\n",
    "### Services used\n",
    "This sample uses *gRPC requests* in order to retrieve tick by tick data from the dedicated hosted service. The queried endpoint in this script are:\n",
    "* *TopologiesService*: to directly retrieve tick by tick data data from the server.\n",
    "\n",
    "### Packages required\n",
    "1. Systemathics packages:\n",
    "    * *Systemathics.Apis.Type.Shared.V1*\n",
    "    * *Systemathics.Apis.Services.Topology.V1*\n",
    "2. Open source packages\n",
    "    * *Google.Protobuf.WellKnownTypes*\n",
    "    * *Google.Type*\n",
    "    * *Grpc.Net.Client*\n",
    "    * *Grpc.Core*\n",
    "    * *XPlot.Plotly* as per display package\n",
    "\n",
    "***"
   ]
  },
  {
   "cell_type": "markdown",
   "metadata": {},
   "source": [
    "# Run tick count sample"
   ]
  },
  {
   "cell_type": "markdown",
   "metadata": {},
   "source": [
    "### Step 1: Install packages"
   ]
  },
  {
   "cell_type": "code",
   "execution_count": 1,
   "metadata": {
    "dotnet_interactive": {
     "language": "csharp"
    },
    "execution": {
     "iopub.execute_input": "2022-10-25T16:15:21.204455Z",
     "iopub.status.busy": "2022-10-25T16:15:21.193796Z",
     "iopub.status.idle": "2022-10-25T16:15:26.517520Z",
     "shell.execute_reply": "2022-10-25T16:15:26.508060Z"
    },
    "vscode": {
     "languageId": "dotnet-interactive.csharp"
    }
   },
   "outputs": [
    {
     "data": {
      "text/html": [
       "\n",
       "<div>\n",
       "    <div id='dotnet-interactive-this-cell-18315.Microsoft.DotNet.Interactive.Http.HttpPort' style='display: none'>\n",
       "        The below script needs to be able to find the current output cell; this is an easy method to get it.\n",
       "    </div>\n",
       "    <script type='text/javascript'>\n",
       "async function probeAddresses(probingAddresses) {\n",
       "    function timeout(ms, promise) {\n",
       "        return new Promise(function (resolve, reject) {\n",
       "            setTimeout(function () {\n",
       "                reject(new Error('timeout'))\n",
       "            }, ms)\n",
       "            promise.then(resolve, reject)\n",
       "        })\n",
       "    }\n",
       "\n",
       "    if (Array.isArray(probingAddresses)) {\n",
       "        for (let i = 0; i < probingAddresses.length; i++) {\n",
       "\n",
       "            let rootUrl = probingAddresses[i];\n",
       "\n",
       "            if (!rootUrl.endsWith('/')) {\n",
       "                rootUrl = `${rootUrl}/`;\n",
       "            }\n",
       "\n",
       "            try {\n",
       "                let response = await timeout(1000, fetch(`${rootUrl}discovery`, {\n",
       "                    method: 'POST',\n",
       "                    cache: 'no-cache',\n",
       "                    mode: 'cors',\n",
       "                    timeout: 1000,\n",
       "                    headers: {\n",
       "                        'Content-Type': 'text/plain'\n",
       "                    },\n",
       "                    body: probingAddresses[i]\n",
       "                }));\n",
       "\n",
       "                if (response.status == 200) {\n",
       "                    return rootUrl;\n",
       "                }\n",
       "            }\n",
       "            catch (e) { }\n",
       "        }\n",
       "    }\n",
       "}\n",
       "\n",
       "function loadDotnetInteractiveApi() {\n",
       "    probeAddresses([\"http://172.28.169.63:1832/\", \"http://127.0.0.1:1832/\"])\n",
       "        .then((root) => {\n",
       "        // use probing to find host url and api resources\n",
       "        // load interactive helpers and language services\n",
       "        let dotnetInteractiveRequire = require.config({\n",
       "        context: '18315.Microsoft.DotNet.Interactive.Http.HttpPort',\n",
       "                paths:\n",
       "            {\n",
       "                'dotnet-interactive': `${root}resources`\n",
       "                }\n",
       "        }) || require;\n",
       "\n",
       "            window.dotnetInteractiveRequire = dotnetInteractiveRequire;\n",
       "\n",
       "            window.configureRequireFromExtension = function(extensionName, extensionCacheBuster) {\n",
       "                let paths = {};\n",
       "                paths[extensionName] = `${root}extensions/${extensionName}/resources/`;\n",
       "                \n",
       "                let internalRequire = require.config({\n",
       "                    context: extensionCacheBuster,\n",
       "                    paths: paths,\n",
       "                    urlArgs: `cacheBuster=${extensionCacheBuster}`\n",
       "                    }) || require;\n",
       "\n",
       "                return internalRequire\n",
       "            };\n",
       "        \n",
       "            dotnetInteractiveRequire([\n",
       "                    'dotnet-interactive/dotnet-interactive'\n",
       "                ],\n",
       "                function (dotnet) {\n",
       "                    dotnet.init(window);\n",
       "                },\n",
       "                function (error) {\n",
       "                    console.log(error);\n",
       "                }\n",
       "            );\n",
       "        })\n",
       "        .catch(error => {console.log(error);});\n",
       "    }\n",
       "\n",
       "// ensure `require` is available globally\n",
       "if ((typeof(require) !==  typeof(Function)) || (typeof(require.config) !== typeof(Function))) {\n",
       "    let require_script = document.createElement('script');\n",
       "    require_script.setAttribute('src', 'https://cdnjs.cloudflare.com/ajax/libs/require.js/2.3.6/require.min.js');\n",
       "    require_script.setAttribute('type', 'text/javascript');\n",
       "    \n",
       "    \n",
       "    require_script.onload = function() {\n",
       "        loadDotnetInteractiveApi();\n",
       "    };\n",
       "\n",
       "    document.getElementsByTagName('head')[0].appendChild(require_script);\n",
       "}\n",
       "else {\n",
       "    loadDotnetInteractiveApi();\n",
       "}\n",
       "\n",
       "    </script>\n",
       "</div>"
      ]
     },
     "metadata": {},
     "output_type": "display_data"
    },
    {
     "data": {
      "text/html": [
       "<div><div><strong>Restore sources</strong><ul><li><span> file://~/.nuget/packages/</span></li><li><span> https://api.nuget.org/v3/index.json</span></li></ul></div><div></div><div><strong>Installed Packages</strong><ul><li><span>Systemathics.Apis, 0.13.2-pre</span></li><li><span>XPlot.Plotly.Interactive, 4.0.6</span></li></ul></div></div>"
      ]
     },
     "metadata": {},
     "output_type": "display_data"
    },
    {
     "data": {
      "text/markdown": [
       "Loading extensions from `XPlot.Plotly.Interactive.dll`"
      ]
     },
     "metadata": {},
     "output_type": "display_data"
    },
    {
     "data": {
      "text/markdown": [
       "Configuring PowerShell Kernel for XPlot.Plotly integration."
      ]
     },
     "metadata": {},
     "output_type": "display_data"
    },
    {
     "data": {
      "text/markdown": [
       "Installed support for XPlot.Plotly."
      ]
     },
     "metadata": {},
     "output_type": "display_data"
    }
   ],
   "source": [
    "#i \"nuget: file://~/.nuget/packages/\"\n",
    "#i \"nuget: https://api.nuget.org/v3/index.json\"\n",
    "#r \"nuget: Systemathics.Apis, 0.*-pre*\"\n",
    "#r \"nuget: XPlot.Plotly.Interactive\""
   ]
  },
  {
   "cell_type": "code",
   "execution_count": 2,
   "metadata": {
    "dotnet_interactive": {
     "language": "csharp"
    },
    "execution": {
     "iopub.execute_input": "2022-10-25T16:15:26.519712Z",
     "iopub.status.busy": "2022-10-25T16:15:26.519382Z",
     "iopub.status.idle": "2022-10-25T16:15:26.631201Z",
     "shell.execute_reply": "2022-10-25T16:15:26.630924Z"
    },
    "vscode": {
     "languageId": "dotnet-interactive.csharp"
    }
   },
   "outputs": [],
   "source": [
    "using Systemathics.Apis.Helpers;\n",
    "using Systemathics.Apis.Type.Shared.V1;\n",
    "using Systemathics.Apis.Services.Topology.V1;\n",
    "using Google.Protobuf.WellKnownTypes;\n",
    "using Google.Type;\n",
    "using Grpc.Net.Client;\n",
    "using Grpc.Core;\n",
    "using XPlot.Plotly;\n",
    "using XPlot.Plotly.Interactive;"
   ]
  },
  {
   "cell_type": "markdown",
   "metadata": {},
   "source": [
    "### Step 2: Prepare API requests\n",
    "The following code snippets retrieve authentication token and prepare the API request by: opening the *channel* and adding the *token* to the request header:"
   ]
  },
  {
   "cell_type": "code",
   "execution_count": 3,
   "metadata": {
    "dotnet_interactive": {
     "language": "csharp"
    },
    "execution": {
     "iopub.execute_input": "2022-10-25T16:15:26.634024Z",
     "iopub.status.busy": "2022-10-25T16:15:26.633446Z",
     "iopub.status.idle": "2022-10-25T16:15:27.662695Z",
     "shell.execute_reply": "2022-10-25T16:15:27.662445Z"
    },
    "vscode": {
     "languageId": "dotnet-interactive.csharp"
    }
   },
   "outputs": [],
   "source": [
    "// Get token as metadata\n",
    "var headers = TokenHelpers.GetTokenAsMetaData();\n",
    "\n",
    "// Create communication channel\n",
    "var channel = ChannelHelpers.GetChannel();"
   ]
  },
  {
   "cell_type": "markdown",
   "metadata": {},
   "source": [
    "### Step 3: Create and process request\n",
    "To request *TopologiesService*, we need to specify:\n",
    "* Instrument identifier\n",
    "* Time period selection: select start and end dates\n",
    "* Topology request parameters"
   ]
  },
  {
   "cell_type": "markdown",
   "metadata": {},
   "source": [
    "#### 3.1 Instrument selection"
   ]
  },
  {
   "cell_type": "code",
   "execution_count": 4,
   "metadata": {
    "dotnet_interactive": {
     "language": "csharp"
    },
    "execution": {
     "iopub.execute_input": "2022-10-25T16:15:27.665158Z",
     "iopub.status.busy": "2022-10-25T16:15:27.664727Z",
     "iopub.status.idle": "2022-10-25T16:15:27.733402Z",
     "shell.execute_reply": "2022-10-25T16:15:27.732994Z"
    },
    "vscode": {
     "languageId": "dotnet-interactive.csharp"
    }
   },
   "outputs": [],
   "source": [
    "var ticker = \"AAPL\";\n",
    "var exchange = \"BATS\";"
   ]
  },
  {
   "cell_type": "markdown",
   "metadata": {},
   "source": [
    "#### 3.2 Execution ratio granularity"
   ]
  },
  {
   "cell_type": "code",
   "execution_count": 5,
   "metadata": {
    "dotnet_interactive": {
     "language": "csharp"
    },
    "execution": {
     "iopub.execute_input": "2022-10-25T16:15:27.737128Z",
     "iopub.status.busy": "2022-10-25T16:15:27.736398Z",
     "iopub.status.idle": "2022-10-25T16:15:27.797946Z",
     "shell.execute_reply": "2022-10-25T16:15:27.797667Z"
    },
    "vscode": {
     "languageId": "dotnet-interactive.csharp"
    }
   },
   "outputs": [],
   "source": [
    "var granularity = TopologyGranularity.Daily;"
   ]
  },
  {
   "cell_type": "markdown",
   "metadata": {},
   "source": [
    "#### 3.2 Request creation\n",
    "The following code snippet creates *gRPC client*, process request and returns the request reply:"
   ]
  },
  {
   "cell_type": "code",
   "execution_count": 6,
   "metadata": {
    "dotnet_interactive": {
     "language": "csharp"
    },
    "execution": {
     "iopub.execute_input": "2022-10-25T16:15:27.800750Z",
     "iopub.status.busy": "2022-10-25T16:15:27.800093Z",
     "iopub.status.idle": "2022-10-25T16:15:27.915038Z",
     "shell.execute_reply": "2022-10-25T16:15:27.914756Z"
    },
    "vscode": {
     "languageId": "dotnet-interactive.csharp"
    }
   },
   "outputs": [],
   "source": [
    "// Generate Trades request\n",
    "var requestL1 = new TopologiesRequest \n",
    "{ \n",
    "    Identifier = new Identifier { Exchange = exchange, Ticker = ticker}, \n",
    "    Granularity = granularity,\n",
    "    Level = Level.Trades\n",
    "};\n",
    "\n",
    "// Generate Trades and Book request\n",
    "var requestL2 = new TopologiesRequest \n",
    "{ \n",
    "    Identifier = new Identifier { Exchange = exchange, Ticker = ticker}, \n",
    "    Granularity = granularity,\n",
    "    Level = Level.TradesAndBook\n",
    "};"
   ]
  },
  {
   "cell_type": "code",
   "execution_count": 7,
   "metadata": {
    "dotnet_interactive": {
     "language": "csharp"
    },
    "execution": {
     "iopub.execute_input": "2022-10-25T16:15:27.917733Z",
     "iopub.status.busy": "2022-10-25T16:15:27.917377Z",
     "iopub.status.idle": "2022-10-25T16:15:28.007604Z",
     "shell.execute_reply": "2022-10-25T16:15:28.007354Z"
    },
    "vscode": {
     "languageId": "dotnet-interactive.csharp"
    }
   },
   "outputs": [],
   "source": [
    "// Instantiate the topologies service\n",
    "var service = new TopologiesService.TopologiesServiceClient(channel);        "
   ]
  },
  {
   "cell_type": "markdown",
   "metadata": {},
   "source": [
    "#### 3.3 Retrieve data"
   ]
  },
  {
   "cell_type": "code",
   "execution_count": 8,
   "metadata": {
    "dotnet_interactive": {
     "language": "csharp"
    },
    "execution": {
     "iopub.execute_input": "2022-10-25T16:15:28.009965Z",
     "iopub.status.busy": "2022-10-25T16:15:28.009574Z",
     "iopub.status.idle": "2022-10-25T16:15:29.086924Z",
     "shell.execute_reply": "2022-10-25T16:15:29.086665Z"
    },
    "vscode": {
     "languageId": "dotnet-interactive.csharp"
    }
   },
   "outputs": [
    {
     "data": {
      "text/html": [
       "<table><thead><tr><th><i>index</i></th><th>Begin</th><th>End</th><th>TicksCount</th></tr></thead><tbody><tr><td>0</td><td><table><thead><tr><th>Year</th><th>Month</th><th>Day</th></tr></thead><tbody><tr><td><div class=\"dni-plaintext\">2021</div></td><td><div class=\"dni-plaintext\">4</div></td><td><div class=\"dni-plaintext\">1</div></td></tr></tbody></table></td><td><table><thead><tr><th>Year</th><th>Month</th><th>Day</th></tr></thead><tbody><tr><td><div class=\"dni-plaintext\">2021</div></td><td><div class=\"dni-plaintext\">4</div></td><td><div class=\"dni-plaintext\">1</div></td></tr></tbody></table></td><td><div class=\"dni-plaintext\">28859</div></td></tr><tr><td>1</td><td><table><thead><tr><th>Year</th><th>Month</th><th>Day</th></tr></thead><tbody><tr><td><div class=\"dni-plaintext\">2021</div></td><td><div class=\"dni-plaintext\">4</div></td><td><div class=\"dni-plaintext\">5</div></td></tr></tbody></table></td><td><table><thead><tr><th>Year</th><th>Month</th><th>Day</th></tr></thead><tbody><tr><td><div class=\"dni-plaintext\">2021</div></td><td><div class=\"dni-plaintext\">4</div></td><td><div class=\"dni-plaintext\">5</div></td></tr></tbody></table></td><td><div class=\"dni-plaintext\">37733</div></td></tr><tr><td>2</td><td><table><thead><tr><th>Year</th><th>Month</th><th>Day</th></tr></thead><tbody><tr><td><div class=\"dni-plaintext\">2021</div></td><td><div class=\"dni-plaintext\">4</div></td><td><div class=\"dni-plaintext\">6</div></td></tr></tbody></table></td><td><table><thead><tr><th>Year</th><th>Month</th><th>Day</th></tr></thead><tbody><tr><td><div class=\"dni-plaintext\">2021</div></td><td><div class=\"dni-plaintext\">4</div></td><td><div class=\"dni-plaintext\">6</div></td></tr></tbody></table></td><td><div class=\"dni-plaintext\">31124</div></td></tr><tr><td>3</td><td><table><thead><tr><th>Year</th><th>Month</th><th>Day</th></tr></thead><tbody><tr><td><div class=\"dni-plaintext\">2021</div></td><td><div class=\"dni-plaintext\">4</div></td><td><div class=\"dni-plaintext\">7</div></td></tr></tbody></table></td><td><table><thead><tr><th>Year</th><th>Month</th><th>Day</th></tr></thead><tbody><tr><td><div class=\"dni-plaintext\">2021</div></td><td><div class=\"dni-plaintext\">4</div></td><td><div class=\"dni-plaintext\">7</div></td></tr></tbody></table></td><td><div class=\"dni-plaintext\">31290</div></td></tr><tr><td>4</td><td><table><thead><tr><th>Year</th><th>Month</th><th>Day</th></tr></thead><tbody><tr><td><div class=\"dni-plaintext\">2021</div></td><td><div class=\"dni-plaintext\">4</div></td><td><div class=\"dni-plaintext\">8</div></td></tr></tbody></table></td><td><table><thead><tr><th>Year</th><th>Month</th><th>Day</th></tr></thead><tbody><tr><td><div class=\"dni-plaintext\">2021</div></td><td><div class=\"dni-plaintext\">4</div></td><td><div class=\"dni-plaintext\">8</div></td></tr></tbody></table></td><td><div class=\"dni-plaintext\">34942</div></td></tr><tr><td>5</td><td><table><thead><tr><th>Year</th><th>Month</th><th>Day</th></tr></thead><tbody><tr><td><div class=\"dni-plaintext\">2021</div></td><td><div class=\"dni-plaintext\">4</div></td><td><div class=\"dni-plaintext\">9</div></td></tr></tbody></table></td><td><table><thead><tr><th>Year</th><th>Month</th><th>Day</th></tr></thead><tbody><tr><td><div class=\"dni-plaintext\">2021</div></td><td><div class=\"dni-plaintext\">4</div></td><td><div class=\"dni-plaintext\">9</div></td></tr></tbody></table></td><td><div class=\"dni-plaintext\">40412</div></td></tr><tr><td>6</td><td><table><thead><tr><th>Year</th><th>Month</th><th>Day</th></tr></thead><tbody><tr><td><div class=\"dni-plaintext\">2021</div></td><td><div class=\"dni-plaintext\">4</div></td><td><div class=\"dni-plaintext\">12</div></td></tr></tbody></table></td><td><table><thead><tr><th>Year</th><th>Month</th><th>Day</th></tr></thead><tbody><tr><td><div class=\"dni-plaintext\">2021</div></td><td><div class=\"dni-plaintext\">4</div></td><td><div class=\"dni-plaintext\">12</div></td></tr></tbody></table></td><td><div class=\"dni-plaintext\">32098</div></td></tr><tr><td>7</td><td><table><thead><tr><th>Year</th><th>Month</th><th>Day</th></tr></thead><tbody><tr><td><div class=\"dni-plaintext\">2021</div></td><td><div class=\"dni-plaintext\">4</div></td><td><div class=\"dni-plaintext\">13</div></td></tr></tbody></table></td><td><table><thead><tr><th>Year</th><th>Month</th><th>Day</th></tr></thead><tbody><tr><td><div class=\"dni-plaintext\">2021</div></td><td><div class=\"dni-plaintext\">4</div></td><td><div class=\"dni-plaintext\">13</div></td></tr></tbody></table></td><td><div class=\"dni-plaintext\">34567</div></td></tr><tr><td>8</td><td><table><thead><tr><th>Year</th><th>Month</th><th>Day</th></tr></thead><tbody><tr><td><div class=\"dni-plaintext\">2021</div></td><td><div class=\"dni-plaintext\">4</div></td><td><div class=\"dni-plaintext\">14</div></td></tr></tbody></table></td><td><table><thead><tr><th>Year</th><th>Month</th><th>Day</th></tr></thead><tbody><tr><td><div class=\"dni-plaintext\">2021</div></td><td><div class=\"dni-plaintext\">4</div></td><td><div class=\"dni-plaintext\">14</div></td></tr></tbody></table></td><td><div class=\"dni-plaintext\">37553</div></td></tr><tr><td>9</td><td><table><thead><tr><th>Year</th><th>Month</th><th>Day</th></tr></thead><tbody><tr><td><div class=\"dni-plaintext\">2021</div></td><td><div class=\"dni-plaintext\">4</div></td><td><div class=\"dni-plaintext\">15</div></td></tr></tbody></table></td><td><table><thead><tr><th>Year</th><th>Month</th><th>Day</th></tr></thead><tbody><tr><td><div class=\"dni-plaintext\">2021</div></td><td><div class=\"dni-plaintext\">4</div></td><td><div class=\"dni-plaintext\">15</div></td></tr></tbody></table></td><td><div class=\"dni-plaintext\">36459</div></td></tr><tr><td>10</td><td><table><thead><tr><th>Year</th><th>Month</th><th>Day</th></tr></thead><tbody><tr><td><div class=\"dni-plaintext\">2021</div></td><td><div class=\"dni-plaintext\">4</div></td><td><div class=\"dni-plaintext\">16</div></td></tr></tbody></table></td><td><table><thead><tr><th>Year</th><th>Month</th><th>Day</th></tr></thead><tbody><tr><td><div class=\"dni-plaintext\">2021</div></td><td><div class=\"dni-plaintext\">4</div></td><td><div class=\"dni-plaintext\">16</div></td></tr></tbody></table></td><td><div class=\"dni-plaintext\">29948</div></td></tr><tr><td>11</td><td><table><thead><tr><th>Year</th><th>Month</th><th>Day</th></tr></thead><tbody><tr><td><div class=\"dni-plaintext\">2021</div></td><td><div class=\"dni-plaintext\">4</div></td><td><div class=\"dni-plaintext\">19</div></td></tr></tbody></table></td><td><table><thead><tr><th>Year</th><th>Month</th><th>Day</th></tr></thead><tbody><tr><td><div class=\"dni-plaintext\">2021</div></td><td><div class=\"dni-plaintext\">4</div></td><td><div class=\"dni-plaintext\">19</div></td></tr></tbody></table></td><td><div class=\"dni-plaintext\">38576</div></td></tr><tr><td>12</td><td><table><thead><tr><th>Year</th><th>Month</th><th>Day</th></tr></thead><tbody><tr><td><div class=\"dni-plaintext\">2021</div></td><td><div class=\"dni-plaintext\">4</div></td><td><div class=\"dni-plaintext\">20</div></td></tr></tbody></table></td><td><table><thead><tr><th>Year</th><th>Month</th><th>Day</th></tr></thead><tbody><tr><td><div class=\"dni-plaintext\">2021</div></td><td><div class=\"dni-plaintext\">4</div></td><td><div class=\"dni-plaintext\">20</div></td></tr></tbody></table></td><td><div class=\"dni-plaintext\">41884</div></td></tr><tr><td>13</td><td><table><thead><tr><th>Year</th><th>Month</th><th>Day</th></tr></thead><tbody><tr><td><div class=\"dni-plaintext\">2021</div></td><td><div class=\"dni-plaintext\">4</div></td><td><div class=\"dni-plaintext\">21</div></td></tr></tbody></table></td><td><table><thead><tr><th>Year</th><th>Month</th><th>Day</th></tr></thead><tbody><tr><td><div class=\"dni-plaintext\">2021</div></td><td><div class=\"dni-plaintext\">4</div></td><td><div class=\"dni-plaintext\">21</div></td></tr></tbody></table></td><td><div class=\"dni-plaintext\">29839</div></td></tr><tr><td>14</td><td><table><thead><tr><th>Year</th><th>Month</th><th>Day</th></tr></thead><tbody><tr><td><div class=\"dni-plaintext\">2021</div></td><td><div class=\"dni-plaintext\">4</div></td><td><div class=\"dni-plaintext\">22</div></td></tr></tbody></table></td><td><table><thead><tr><th>Year</th><th>Month</th><th>Day</th></tr></thead><tbody><tr><td><div class=\"dni-plaintext\">2021</div></td><td><div class=\"dni-plaintext\">4</div></td><td><div class=\"dni-plaintext\">22</div></td></tr></tbody></table></td><td><div class=\"dni-plaintext\">39850</div></td></tr><tr><td>15</td><td><table><thead><tr><th>Year</th><th>Month</th><th>Day</th></tr></thead><tbody><tr><td><div class=\"dni-plaintext\">2021</div></td><td><div class=\"dni-plaintext\">4</div></td><td><div class=\"dni-plaintext\">23</div></td></tr></tbody></table></td><td><table><thead><tr><th>Year</th><th>Month</th><th>Day</th></tr></thead><tbody><tr><td><div class=\"dni-plaintext\">2021</div></td><td><div class=\"dni-plaintext\">4</div></td><td><div class=\"dni-plaintext\">23</div></td></tr></tbody></table></td><td><div class=\"dni-plaintext\">29610</div></td></tr><tr><td>16</td><td><table><thead><tr><th>Year</th><th>Month</th><th>Day</th></tr></thead><tbody><tr><td><div class=\"dni-plaintext\">2021</div></td><td><div class=\"dni-plaintext\">4</div></td><td><div class=\"dni-plaintext\">26</div></td></tr></tbody></table></td><td><table><thead><tr><th>Year</th><th>Month</th><th>Day</th></tr></thead><tbody><tr><td><div class=\"dni-plaintext\">2021</div></td><td><div class=\"dni-plaintext\">4</div></td><td><div class=\"dni-plaintext\">26</div></td></tr></tbody></table></td><td><div class=\"dni-plaintext\">27292</div></td></tr><tr><td>17</td><td><table><thead><tr><th>Year</th><th>Month</th><th>Day</th></tr></thead><tbody><tr><td><div class=\"dni-plaintext\">2021</div></td><td><div class=\"dni-plaintext\">4</div></td><td><div class=\"dni-plaintext\">27</div></td></tr></tbody></table></td><td><table><thead><tr><th>Year</th><th>Month</th><th>Day</th></tr></thead><tbody><tr><td><div class=\"dni-plaintext\">2021</div></td><td><div class=\"dni-plaintext\">4</div></td><td><div class=\"dni-plaintext\">27</div></td></tr></tbody></table></td><td><div class=\"dni-plaintext\">28133</div></td></tr><tr><td>18</td><td><table><thead><tr><th>Year</th><th>Month</th><th>Day</th></tr></thead><tbody><tr><td><div class=\"dni-plaintext\">2021</div></td><td><div class=\"dni-plaintext\">4</div></td><td><div class=\"dni-plaintext\">28</div></td></tr></tbody></table></td><td><table><thead><tr><th>Year</th><th>Month</th><th>Day</th></tr></thead><tbody><tr><td><div class=\"dni-plaintext\">2021</div></td><td><div class=\"dni-plaintext\">4</div></td><td><div class=\"dni-plaintext\">28</div></td></tr></tbody></table></td><td><div class=\"dni-plaintext\">43553</div></td></tr><tr><td>19</td><td><table><thead><tr><th>Year</th><th>Month</th><th>Day</th></tr></thead><tbody><tr><td><div class=\"dni-plaintext\">2021</div></td><td><div class=\"dni-plaintext\">4</div></td><td><div class=\"dni-plaintext\">29</div></td></tr></tbody></table></td><td><table><thead><tr><th>Year</th><th>Month</th><th>Day</th></tr></thead><tbody><tr><td><div class=\"dni-plaintext\">2021</div></td><td><div class=\"dni-plaintext\">4</div></td><td><div class=\"dni-plaintext\">29</div></td></tr></tbody></table></td><td><div class=\"dni-plaintext\">60946</div></td></tr><tr><td colspan=\"4\"><i>(341 more)</i></td></tr></tbody></table>"
      ]
     },
     "metadata": {},
     "output_type": "display_data"
    }
   ],
   "source": [
    "// Process Trades request\n",
    "var replyL1 = service.Topologies(requestL1, headers);\n",
    " \n",
    "// Retrieve topologies service response for Trades\n",
    "var topologiesL1 = replyL1.Entries;\n",
    "var totalTicksL1 = topologiesL1.Sum(t=> (long)t.TicksCount);\n",
    "\n",
    "display(topologiesL1)\n",
    "// Store tick count starting from the date of your choice\n",
    "//var tickCountsL1 = topologiesL1.Where(t => t.Begin.Year >= 2020).Select(t => new Tuple<DateTime, ulong>(new DateTime(t.Begin.Year, t.Begin.Month, t.Begin.Day), t.TicksCount)).ToArray();"
   ]
  },
  {
   "cell_type": "code",
   "execution_count": 9,
   "metadata": {
    "dotnet_interactive": {
     "language": "csharp"
    },
    "execution": {
     "iopub.execute_input": "2022-10-25T16:15:29.088790Z",
     "iopub.status.busy": "2022-10-25T16:15:29.088483Z",
     "iopub.status.idle": "2022-10-25T16:15:29.235842Z",
     "shell.execute_reply": "2022-10-25T16:15:29.235595Z"
    },
    "vscode": {
     "languageId": "dotnet-interactive.csharp"
    }
   },
   "outputs": [],
   "source": [
    "// Process Trades and Book request\n",
    "var replyL2 = service.Topologies(requestL2, headers);\n",
    " \n",
    "// Retrieve topologies service response for Trades and Book\n",
    "var topologiesL2 = replyL2.Entries;\n",
    "var totalTicksL2 = topologiesL2.Sum(t=> (long)t.TicksCount);\n",
    "\n",
    "// Store tick count starting from the date of your choice\n",
    "// var tickCountsL2 = topologiesL2.Where(t => t.Begin.Year >= 2020).Select(t => new Tuple<DateTime, ulong>(new DateTime(t.Begin.Year, t.Begin.Month, t.Begin.Day), t.TicksCount)).ToArray();"
   ]
  },
  {
   "cell_type": "markdown",
   "metadata": {},
   "source": [
    "### Step4: Visualize data"
   ]
  },
  {
   "cell_type": "markdown",
   "metadata": {},
   "source": [
    "#### 4.1 Retrieve tick counts\n",
    "The following code snippet retrieves *Trades ticks* and *Trades and Book ticks* counts:"
   ]
  },
  {
   "cell_type": "code",
   "execution_count": 10,
   "metadata": {
    "dotnet_interactive": {
     "language": "csharp"
    },
    "execution": {
     "iopub.execute_input": "2022-10-25T16:15:29.266821Z",
     "iopub.status.busy": "2022-10-25T16:15:29.266377Z",
     "iopub.status.idle": "2022-10-25T16:15:29.325687Z",
     "shell.execute_reply": "2022-10-25T16:15:29.325433Z"
    },
    "vscode": {
     "languageId": "dotnet-interactive.csharp"
    }
   },
   "outputs": [],
   "source": [
    "// Extract ticks count for Trades\n",
    "var trades = topologiesL1.Select(t => new Tuple<DateTime, double>(new DateTime(t.Begin.Year, t.Begin.Month, t.Begin.Day), t.TicksCount));\n",
    "// Extract the price Trades and Book\n",
    "var tradesAndBook = topologiesL2.Select(t => new Tuple<DateTime, double>(new DateTime(t.Begin.Year, t.Begin.Month, t.Begin.Day), t.TicksCount));"
   ]
  },
  {
   "cell_type": "markdown",
   "metadata": {},
   "source": [
    "#### 4.2 Compute execution ratio\n",
    "The following code snippet computes execution ratio by dividing  *Trades ticks* and *Trades and Book ticks* counts:"
   ]
  },
  {
   "cell_type": "code",
   "execution_count": 11,
   "metadata": {
    "dotnet_interactive": {
     "language": "csharp"
    },
    "execution": {
     "iopub.execute_input": "2022-10-25T16:15:29.328031Z",
     "iopub.status.busy": "2022-10-25T16:15:29.327345Z",
     "iopub.status.idle": "2022-10-25T16:15:29.579199Z",
     "shell.execute_reply": "2022-10-25T16:15:29.578921Z"
    },
    "vscode": {
     "languageId": "dotnet-interactive.csharp"
    }
   },
   "outputs": [],
   "source": [
    "var executionRatio = new Dictionary<DateTime, double>();\n",
    "var i = 0;\n",
    "foreach (var elt in trades) {\n",
    "    executionRatio[elt.Item1] = 100 * elt.Item2 / topologiesL2[i].TicksCount;\n",
    "    i += 1;\n",
    "}\n",
    "\n",
    "//display(executionRatio)"
   ]
  },
  {
   "cell_type": "markdown",
   "metadata": {},
   "source": [
    "#### 4.2 Plot execution ratio"
   ]
  },
  {
   "cell_type": "code",
   "execution_count": 12,
   "metadata": {
    "dotnet_interactive": {
     "language": "csharp"
    },
    "execution": {
     "iopub.execute_input": "2022-10-25T16:15:29.581451Z",
     "iopub.status.busy": "2022-10-25T16:15:29.581090Z",
     "iopub.status.idle": "2022-10-25T16:15:29.926575Z",
     "shell.execute_reply": "2022-10-25T16:15:29.926278Z"
    },
    "vscode": {
     "languageId": "dotnet-interactive.csharp"
    }
   },
   "outputs": [
    {
     "data": {
      "text/html": [
       "<!DOCTYPE html>\n",
       "<div style=\"width: 1500px; height: 800px;\" id=\"fa4c209a-2eb7-4fd3-987c-749852f6f0cd\"></div><script type=\"text/javascript\">\n",
       "\n",
       "var renderPlotly = function() {\n",
       "    var xplotRequire = require.config({context:'xplot-3.0.1',paths:{plotly:'https://cdn.plot.ly/plotly-1.49.2.min'}}) || require;\n",
       "    xplotRequire(['plotly'], function(Plotly) { \n",
       "\n",
       "            var data = [{\"type\":\"scattergl\",\"x\":[\"2021-04-01T00:00:00\",\"2021-04-05T00:00:00\",\"2021-04-06T00:00:00\",\"2021-04-07T00:00:00\",\"2021-04-08T00:00:00\",\"2021-04-09T00:00:00\",\"2021-04-12T00:00:00\",\"2021-04-13T00:00:00\",\"2021-04-14T00:00:00\",\"2021-04-15T00:00:00\",\"2021-04-16T00:00:00\",\"2021-04-19T00:00:00\",\"2021-04-20T00:00:00\",\"2021-04-21T00:00:00\",\"2021-04-22T00:00:00\",\"2021-04-23T00:00:00\",\"2021-04-26T00:00:00\",\"2021-04-27T00:00:00\",\"2021-04-28T00:00:00\",\"2021-04-29T00:00:00\",\"2021-04-30T00:00:00\",\"2021-05-03T00:00:00\",\"2021-05-04T00:00:00\",\"2021-05-05T00:00:00\",\"2021-05-06T00:00:00\",\"2021-05-07T00:00:00\",\"2021-05-10T00:00:00\",\"2021-05-11T00:00:00\",\"2021-05-12T00:00:00\",\"2021-05-13T00:00:00\",\"2021-05-14T00:00:00\",\"2021-05-17T00:00:00\",\"2021-05-18T00:00:00\",\"2021-05-19T00:00:00\",\"2021-05-20T00:00:00\",\"2021-05-21T00:00:00\",\"2021-05-24T00:00:00\",\"2021-05-25T00:00:00\",\"2021-05-26T00:00:00\",\"2021-05-27T00:00:00\",\"2021-05-28T00:00:00\",\"2021-06-01T00:00:00\",\"2021-06-02T00:00:00\",\"2021-06-03T00:00:00\",\"2021-06-04T00:00:00\",\"2021-06-07T00:00:00\",\"2021-06-08T00:00:00\",\"2021-06-09T00:00:00\",\"2021-06-10T00:00:00\",\"2021-06-11T00:00:00\",\"2021-06-14T00:00:00\",\"2021-06-15T00:00:00\",\"2021-06-16T00:00:00\",\"2021-06-17T00:00:00\",\"2021-06-18T00:00:00\",\"2021-06-21T00:00:00\",\"2021-06-22T00:00:00\",\"2021-06-23T00:00:00\",\"2021-06-24T00:00:00\",\"2021-06-25T00:00:00\",\"2021-06-28T00:00:00\",\"2021-06-29T00:00:00\",\"2021-06-30T00:00:00\",\"2021-07-01T00:00:00\",\"2021-07-02T00:00:00\",\"2021-07-06T00:00:00\",\"2021-07-07T00:00:00\",\"2021-07-08T00:00:00\",\"2021-07-09T00:00:00\",\"2021-07-12T00:00:00\",\"2021-07-13T00:00:00\",\"2021-07-14T00:00:00\",\"2021-07-15T00:00:00\",\"2021-07-16T00:00:00\",\"2021-07-19T00:00:00\",\"2021-07-20T00:00:00\",\"2021-07-21T00:00:00\",\"2021-07-22T00:00:00\",\"2021-07-23T00:00:00\",\"2021-07-26T00:00:00\",\"2021-07-27T00:00:00\",\"2021-07-28T00:00:00\",\"2021-07-29T00:00:00\",\"2021-07-30T00:00:00\",\"2021-08-02T00:00:00\",\"2021-08-03T00:00:00\",\"2021-08-04T00:00:00\",\"2021-08-05T00:00:00\",\"2021-08-06T00:00:00\",\"2021-08-09T00:00:00\",\"2021-08-10T00:00:00\",\"2021-08-11T00:00:00\",\"2021-08-12T00:00:00\",\"2021-08-13T00:00:00\",\"2021-08-16T00:00:00\",\"2021-08-17T00:00:00\",\"2021-08-18T00:00:00\",\"2021-08-19T00:00:00\",\"2021-08-20T00:00:00\",\"2021-08-23T00:00:00\",\"2021-08-24T00:00:00\",\"2021-08-25T00:00:00\",\"2021-08-26T00:00:00\",\"2021-08-27T00:00:00\",\"2021-08-30T00:00:00\",\"2021-08-31T00:00:00\",\"2021-09-01T00:00:00\",\"2021-09-02T00:00:00\",\"2021-09-03T00:00:00\",\"2021-09-07T00:00:00\",\"2021-09-08T00:00:00\",\"2021-09-09T00:00:00\",\"2021-09-10T00:00:00\",\"2021-09-13T00:00:00\",\"2021-09-14T00:00:00\",\"2021-09-15T00:00:00\",\"2021-09-16T00:00:00\",\"2021-09-17T00:00:00\",\"2021-09-20T00:00:00\",\"2021-09-21T00:00:00\",\"2021-09-22T00:00:00\",\"2021-09-23T00:00:00\",\"2021-09-24T00:00:00\",\"2021-09-27T00:00:00\",\"2021-09-28T00:00:00\",\"2021-09-29T00:00:00\",\"2021-09-30T00:00:00\",\"2021-10-01T00:00:00\",\"2021-10-04T00:00:00\",\"2021-10-05T00:00:00\",\"2021-10-06T00:00:00\",\"2021-10-07T00:00:00\",\"2021-10-08T00:00:00\",\"2021-10-11T00:00:00\",\"2021-10-12T00:00:00\",\"2021-10-13T00:00:00\",\"2021-10-14T00:00:00\",\"2021-10-15T00:00:00\",\"2021-10-18T00:00:00\",\"2021-10-19T00:00:00\",\"2021-10-20T00:00:00\",\"2021-10-21T00:00:00\",\"2021-10-22T00:00:00\",\"2021-10-25T00:00:00\",\"2021-10-26T00:00:00\",\"2021-10-27T00:00:00\",\"2021-10-28T00:00:00\",\"2021-10-29T00:00:00\",\"2021-11-01T00:00:00\",\"2021-11-02T00:00:00\",\"2021-11-03T00:00:00\",\"2021-11-04T00:00:00\",\"2021-11-05T00:00:00\",\"2021-11-08T00:00:00\",\"2021-11-09T00:00:00\",\"2021-11-10T00:00:00\",\"2021-11-11T00:00:00\",\"2021-11-12T00:00:00\",\"2021-11-15T00:00:00\",\"2021-11-16T00:00:00\",\"2021-11-17T00:00:00\",\"2021-11-18T00:00:00\",\"2021-11-19T00:00:00\",\"2021-11-22T00:00:00\",\"2021-11-23T00:00:00\",\"2021-11-24T00:00:00\",\"2021-11-26T00:00:00\",\"2021-11-29T00:00:00\",\"2021-11-30T00:00:00\",\"2021-12-01T00:00:00\",\"2021-12-02T00:00:00\",\"2021-12-03T00:00:00\",\"2021-12-06T00:00:00\",\"2021-12-07T00:00:00\",\"2021-12-08T00:00:00\",\"2021-12-09T00:00:00\",\"2021-12-10T00:00:00\",\"2021-12-13T00:00:00\",\"2021-12-14T00:00:00\",\"2021-12-15T00:00:00\",\"2021-12-16T00:00:00\",\"2021-12-17T00:00:00\",\"2021-12-20T00:00:00\",\"2021-12-21T00:00:00\",\"2021-12-22T00:00:00\",\"2021-12-23T00:00:00\",\"2021-12-27T00:00:00\",\"2021-12-28T00:00:00\",\"2021-12-29T00:00:00\",\"2021-12-30T00:00:00\",\"2021-12-31T00:00:00\",\"2022-01-03T00:00:00\",\"2022-01-04T00:00:00\",\"2022-01-05T00:00:00\",\"2022-01-06T00:00:00\",\"2022-01-07T00:00:00\",\"2022-01-10T00:00:00\",\"2022-01-11T00:00:00\",\"2022-01-12T00:00:00\",\"2022-01-13T00:00:00\",\"2022-01-14T00:00:00\",\"2022-01-18T00:00:00\",\"2022-01-19T00:00:00\",\"2022-01-20T00:00:00\",\"2022-01-21T00:00:00\",\"2022-01-24T00:00:00\",\"2022-01-25T00:00:00\",\"2022-01-26T00:00:00\",\"2022-01-27T00:00:00\",\"2022-01-28T00:00:00\",\"2022-01-31T00:00:00\",\"2022-02-01T00:00:00\",\"2022-02-02T00:00:00\",\"2022-02-03T00:00:00\",\"2022-02-04T00:00:00\",\"2022-02-07T00:00:00\",\"2022-02-08T00:00:00\",\"2022-02-09T00:00:00\",\"2022-02-10T00:00:00\",\"2022-02-11T00:00:00\",\"2022-02-14T00:00:00\",\"2022-02-15T00:00:00\",\"2022-02-16T00:00:00\",\"2022-02-17T00:00:00\",\"2022-02-18T00:00:00\",\"2022-02-22T00:00:00\",\"2022-02-23T00:00:00\",\"2022-02-24T00:00:00\",\"2022-02-25T00:00:00\",\"2022-02-28T00:00:00\",\"2022-03-01T00:00:00\",\"2022-03-02T00:00:00\",\"2022-03-03T00:00:00\",\"2022-03-04T00:00:00\",\"2022-03-07T00:00:00\",\"2022-03-08T00:00:00\",\"2022-03-09T00:00:00\",\"2022-03-10T00:00:00\",\"2022-03-11T00:00:00\",\"2022-03-14T00:00:00\",\"2022-03-15T00:00:00\",\"2022-03-16T00:00:00\",\"2022-03-17T00:00:00\",\"2022-03-18T00:00:00\",\"2022-03-21T00:00:00\",\"2022-03-22T00:00:00\",\"2022-03-23T00:00:00\",\"2022-03-24T00:00:00\",\"2022-03-25T00:00:00\",\"2022-03-28T00:00:00\",\"2022-03-29T00:00:00\",\"2022-03-30T00:00:00\",\"2022-03-31T00:00:00\",\"2022-04-01T00:00:00\",\"2022-04-04T00:00:00\",\"2022-04-05T00:00:00\",\"2022-04-06T00:00:00\",\"2022-04-07T00:00:00\",\"2022-04-08T00:00:00\",\"2022-04-11T00:00:00\",\"2022-04-12T00:00:00\",\"2022-04-13T00:00:00\",\"2022-04-14T00:00:00\",\"2022-04-18T00:00:00\",\"2022-04-19T00:00:00\",\"2022-04-20T00:00:00\",\"2022-04-21T00:00:00\",\"2022-04-22T00:00:00\",\"2022-04-25T00:00:00\",\"2022-04-29T00:00:00\",\"2022-05-02T00:00:00\",\"2022-05-03T00:00:00\",\"2022-05-04T00:00:00\",\"2022-05-05T00:00:00\",\"2022-05-06T00:00:00\",\"2022-05-09T00:00:00\",\"2022-05-10T00:00:00\",\"2022-05-11T00:00:00\",\"2022-05-12T00:00:00\",\"2022-05-13T00:00:00\",\"2022-05-16T00:00:00\",\"2022-05-17T00:00:00\",\"2022-05-18T00:00:00\",\"2022-05-19T00:00:00\",\"2022-05-20T00:00:00\",\"2022-05-23T00:00:00\",\"2022-05-24T00:00:00\",\"2022-05-25T00:00:00\",\"2022-05-26T00:00:00\",\"2022-05-27T00:00:00\",\"2022-05-31T00:00:00\",\"2022-06-01T00:00:00\",\"2022-06-02T00:00:00\",\"2022-06-03T00:00:00\",\"2022-06-06T00:00:00\",\"2022-06-07T00:00:00\",\"2022-06-08T00:00:00\",\"2022-06-09T00:00:00\",\"2022-06-10T00:00:00\",\"2022-06-13T00:00:00\",\"2022-06-14T00:00:00\",\"2022-06-15T00:00:00\",\"2022-06-16T00:00:00\",\"2022-06-17T00:00:00\",\"2022-06-21T00:00:00\",\"2022-06-22T00:00:00\",\"2022-06-23T00:00:00\",\"2022-06-24T00:00:00\",\"2022-06-27T00:00:00\",\"2022-06-29T00:00:00\",\"2022-06-30T00:00:00\",\"2022-07-01T00:00:00\",\"2022-07-05T00:00:00\",\"2022-07-06T00:00:00\",\"2022-07-07T00:00:00\",\"2022-07-08T00:00:00\",\"2022-07-11T00:00:00\",\"2022-07-12T00:00:00\",\"2022-07-13T00:00:00\",\"2022-07-14T00:00:00\",\"2022-07-15T00:00:00\",\"2022-07-18T00:00:00\",\"2022-07-19T00:00:00\",\"2022-07-20T00:00:00\",\"2022-07-21T00:00:00\",\"2022-07-22T00:00:00\",\"2022-07-25T00:00:00\",\"2022-07-26T00:00:00\",\"2022-07-27T00:00:00\",\"2022-07-28T00:00:00\",\"2022-07-29T00:00:00\",\"2022-08-01T00:00:00\",\"2022-08-02T00:00:00\",\"2022-08-03T00:00:00\",\"2022-08-04T00:00:00\",\"2022-08-05T00:00:00\",\"2022-08-09T00:00:00\",\"2022-08-10T00:00:00\",\"2022-08-11T00:00:00\",\"2022-08-12T00:00:00\",\"2022-08-15T00:00:00\",\"2022-08-16T00:00:00\",\"2022-08-17T00:00:00\",\"2022-08-18T00:00:00\",\"2022-08-19T00:00:00\",\"2022-08-22T00:00:00\",\"2022-08-23T00:00:00\",\"2022-08-24T00:00:00\",\"2022-08-25T00:00:00\",\"2022-08-26T00:00:00\",\"2022-08-29T00:00:00\",\"2022-08-30T00:00:00\",\"2022-08-31T00:00:00\",\"2022-09-01T00:00:00\",\"2022-09-02T00:00:00\",\"2022-09-06T00:00:00\",\"2022-09-08T00:00:00\",\"2022-09-09T00:00:00\",\"2022-09-12T00:00:00\",\"2022-09-13T00:00:00\",\"2022-09-14T00:00:00\"],\"y\":[28859.0,37733.0,31124.0,31290.0,34942.0,40412.0,32098.0,34567.0,37553.0,36459.0,29948.0,38576.0,41884.0,29839.0,39850.0,29610.0,27292.0,28133.0,43553.0,60946.0,44276.0,36323.0,62907.0,40202.0,41144.0,37053.0,41264.0,57580.0,53692.0,49819.0,32878.0,32160.0,28390.0,46503.0,29252.0,32398.0,23828.0,23366.0,20340.0,26949.0,26994.0,22485.0,22549.0,28329.0,24109.0,25543.0,27232.0,18826.0,28002.0,20067.0,27273.0,23697.0,39314.0,38106.0,33817.0,27944.0,24735.0,20237.0,21867.0,19951.0,21905.0,22952.0,22108.0,19717.0,29620.0,42847.0,43549.0,49497.0,35210.0,28598.0,39206.0,42926.0,40785.0,32599.0,56107.0,36137.0,27751.0,27554.0,27187.0,26079.0,42745.0,46817.0,23448.0,27485.0,25758.0,27304.0,25662.0,20208.0,21101.0,18521.0,26118.0,21518.0,30086.0,22639.0,39735.0,39746.0,42828.0,45817.0,29175.0,24845.0,23896.0,23937.0,28224.0,26808.0,38568.0,39372.0,35404.0,32010.0,24462.0,37333.0,36663.0,27159.0,80733.0,48842.0,48254.0,36380.0,34528.0,46818.0,62324.0,39609.0,39280.0,28807.0,26725.0,33381.0,55039.0,34882.0,42696.0,45761.0,51089.0,29596.0,41340.0,25084.0,26080.0,23471.0,33768.0,30022.0,22360.0,22995.0,27579.0,26069.0,21497.0,22010.0,23670.0,22065.0,25273.0,23243.0,35734.0,46072.0,27898.0,28209.0,23180.0,29045.0,25429.0,20952.0,32487.0,33287.0,19046.0,24926.0,24386.0,20903.0,32829.0,56578.0,50572.0,63318.0,53971.0,33872.0,47492.0,49599.0,87778.0,89060.0,89959.0,86824.0,68796.0,57769.0,61151.0,52389.0,65702.0,81321.0,70691.0,66000.0,90721.0,73797.0,52970.0,44309.0,44184.0,31230.0,36664.0,38548.0,32090.0,32512.0,29585.0,46637.0,51627.0,59655.0,72173.0,48064.0,66130.0,40908.0,50144.0,52438.0,52477.0,52296.0,53823.0,55451.0,81401.0,132925.0,74932.0,82084.0,82863.0,112773.0,62810.0,50693.0,48433.0,50618.0,54542.0,43536.0,44278.0,42537.0,65913.0,75428.0,62004.0,42625.0,42185.0,44422.0,54059.0,67372.0,61256.0,114476.0,63619.0,60474.0,72844.0,59614.0,55006.0,62320.0,69688.0,107604.0,56966.0,65213.0,65174.0,67744.0,54530.0,68723.0,46168.0,58980.0,56669.0,49141.0,66159.0,49995.0,50003.0,52965.0,55088.0,47798.0,57138.0,50286.0,43990.0,41658.0,57169.0,47914.0,46822.0,46762.0,50912.0,38474.0,44787.0,35806.0,35831.0,43198.0,63415.0,53329.0,68575.0,62433.0,94524.0,63483.0,73696.0,84162.0,96696.0,77501.0,98119.0,97595.0,127939.0,63448.0,49802.0,44359.0,65250.0,79712.0,79923.0,52072.0,48782.0,47782.0,43445.0,40927.0,47861.0,42380.0,40631.0,46333.0,38890.0,32710.0,24540.0,33225.0,51374.0,59532.0,40530.0,49642.0,56467.0,56277.0,35784.0,38803.0,40576.0,35974.0,33626.0,57198.0,57450.0,42149.0,41118.0,41760.0,36820.0,35531.0,31756.0,43247.0,41394.0,45277.0,41982.0,42298.0,42765.0,35966.0,37152.0,40060.0,30795.0,35985.0,43181.0,49457.0,47487.0,37277.0,36797.0,47697.0,33729.0,35836.0,30682.0,35853.0,34140.0,35182.0,28126.0,30760.0,45232.0,34116.0,34700.0,38597.0,32166.0,33017.0,30402.0,54440.0,38827.0,44077.0,42434.0,46048.0,46644.0,47453.0,49496.0,35470.0,48162.0,61769.0,43097.0],\"mode\":\"lines\",\"name\":\"Trades ticks count\"},{\"type\":\"scattergl\",\"x\":[\"2021-04-01T00:00:00\",\"2021-04-05T00:00:00\",\"2021-04-06T00:00:00\",\"2021-04-07T00:00:00\",\"2021-04-08T00:00:00\",\"2021-04-09T00:00:00\",\"2021-04-12T00:00:00\",\"2021-04-13T00:00:00\",\"2021-04-14T00:00:00\",\"2021-04-15T00:00:00\",\"2021-04-16T00:00:00\",\"2021-04-19T00:00:00\",\"2021-04-20T00:00:00\",\"2021-04-21T00:00:00\",\"2021-04-22T00:00:00\",\"2021-04-23T00:00:00\",\"2021-04-26T00:00:00\",\"2021-04-27T00:00:00\",\"2021-04-28T00:00:00\",\"2021-04-29T00:00:00\",\"2021-04-30T00:00:00\",\"2021-05-03T00:00:00\",\"2021-05-04T00:00:00\",\"2021-05-05T00:00:00\",\"2021-05-06T00:00:00\",\"2021-05-07T00:00:00\",\"2021-05-10T00:00:00\",\"2021-05-11T00:00:00\",\"2021-05-12T00:00:00\",\"2021-05-13T00:00:00\",\"2021-05-14T00:00:00\",\"2021-05-17T00:00:00\",\"2021-05-18T00:00:00\",\"2021-05-19T00:00:00\",\"2021-05-20T00:00:00\",\"2021-05-21T00:00:00\",\"2021-05-24T00:00:00\",\"2021-05-25T00:00:00\",\"2021-05-26T00:00:00\",\"2021-05-27T00:00:00\",\"2021-05-28T00:00:00\",\"2021-06-01T00:00:00\",\"2021-06-02T00:00:00\",\"2021-06-03T00:00:00\",\"2021-06-04T00:00:00\",\"2021-06-07T00:00:00\",\"2021-06-08T00:00:00\",\"2021-06-09T00:00:00\",\"2021-06-10T00:00:00\",\"2021-06-11T00:00:00\",\"2021-06-14T00:00:00\",\"2021-06-15T00:00:00\",\"2021-06-16T00:00:00\",\"2021-06-17T00:00:00\",\"2021-06-18T00:00:00\",\"2021-06-21T00:00:00\",\"2021-06-22T00:00:00\",\"2021-06-23T00:00:00\",\"2021-06-24T00:00:00\",\"2021-06-25T00:00:00\",\"2021-06-28T00:00:00\",\"2021-06-29T00:00:00\",\"2021-06-30T00:00:00\",\"2021-07-01T00:00:00\",\"2021-07-02T00:00:00\",\"2021-07-06T00:00:00\",\"2021-07-07T00:00:00\",\"2021-07-08T00:00:00\",\"2021-07-09T00:00:00\",\"2021-07-12T00:00:00\",\"2021-07-13T00:00:00\",\"2021-07-14T00:00:00\",\"2021-07-15T00:00:00\",\"2021-07-16T00:00:00\",\"2021-07-19T00:00:00\",\"2021-07-20T00:00:00\",\"2021-07-21T00:00:00\",\"2021-07-22T00:00:00\",\"2021-07-23T00:00:00\",\"2021-07-26T00:00:00\",\"2021-07-27T00:00:00\",\"2021-07-28T00:00:00\",\"2021-07-29T00:00:00\",\"2021-07-30T00:00:00\",\"2021-08-02T00:00:00\",\"2021-08-03T00:00:00\",\"2021-08-04T00:00:00\",\"2021-08-05T00:00:00\",\"2021-08-06T00:00:00\",\"2021-08-09T00:00:00\",\"2021-08-10T00:00:00\",\"2021-08-11T00:00:00\",\"2021-08-12T00:00:00\",\"2021-08-13T00:00:00\",\"2021-08-16T00:00:00\",\"2021-08-17T00:00:00\",\"2021-08-18T00:00:00\",\"2021-08-19T00:00:00\",\"2021-08-20T00:00:00\",\"2021-08-23T00:00:00\",\"2021-08-24T00:00:00\",\"2021-08-25T00:00:00\",\"2021-08-26T00:00:00\",\"2021-08-27T00:00:00\",\"2021-08-30T00:00:00\",\"2021-08-31T00:00:00\",\"2021-09-01T00:00:00\",\"2021-09-02T00:00:00\",\"2021-09-03T00:00:00\",\"2021-09-07T00:00:00\",\"2021-09-08T00:00:00\",\"2021-09-09T00:00:00\",\"2021-09-10T00:00:00\",\"2021-09-13T00:00:00\",\"2021-09-14T00:00:00\",\"2021-09-15T00:00:00\",\"2021-09-16T00:00:00\",\"2021-09-17T00:00:00\",\"2021-09-20T00:00:00\",\"2021-09-21T00:00:00\",\"2021-09-22T00:00:00\",\"2021-09-23T00:00:00\",\"2021-09-24T00:00:00\",\"2021-09-27T00:00:00\",\"2021-09-28T00:00:00\",\"2021-09-29T00:00:00\",\"2021-09-30T00:00:00\",\"2021-10-01T00:00:00\",\"2021-10-04T00:00:00\",\"2021-10-05T00:00:00\",\"2021-10-06T00:00:00\",\"2021-10-07T00:00:00\",\"2021-10-08T00:00:00\",\"2021-10-11T00:00:00\",\"2021-10-12T00:00:00\",\"2021-10-13T00:00:00\",\"2021-10-14T00:00:00\",\"2021-10-15T00:00:00\",\"2021-10-18T00:00:00\",\"2021-10-19T00:00:00\",\"2021-10-20T00:00:00\",\"2021-10-21T00:00:00\",\"2021-10-22T00:00:00\",\"2021-10-25T00:00:00\",\"2021-10-26T00:00:00\",\"2021-10-27T00:00:00\",\"2021-10-28T00:00:00\",\"2021-10-29T00:00:00\",\"2021-11-01T00:00:00\",\"2021-11-02T00:00:00\",\"2021-11-03T00:00:00\",\"2021-11-04T00:00:00\",\"2021-11-05T00:00:00\",\"2021-11-08T00:00:00\",\"2021-11-09T00:00:00\",\"2021-11-10T00:00:00\",\"2021-11-11T00:00:00\",\"2021-11-12T00:00:00\",\"2021-11-15T00:00:00\",\"2021-11-16T00:00:00\",\"2021-11-17T00:00:00\",\"2021-11-18T00:00:00\",\"2021-11-19T00:00:00\",\"2021-11-22T00:00:00\",\"2021-11-23T00:00:00\",\"2021-11-24T00:00:00\",\"2021-11-26T00:00:00\",\"2021-11-29T00:00:00\",\"2021-11-30T00:00:00\",\"2021-12-01T00:00:00\",\"2021-12-02T00:00:00\",\"2021-12-03T00:00:00\",\"2021-12-06T00:00:00\",\"2021-12-07T00:00:00\",\"2021-12-08T00:00:00\",\"2021-12-09T00:00:00\",\"2021-12-10T00:00:00\",\"2021-12-13T00:00:00\",\"2021-12-14T00:00:00\",\"2021-12-15T00:00:00\",\"2021-12-16T00:00:00\",\"2021-12-17T00:00:00\",\"2021-12-20T00:00:00\",\"2021-12-21T00:00:00\",\"2021-12-22T00:00:00\",\"2021-12-23T00:00:00\",\"2021-12-27T00:00:00\",\"2021-12-28T00:00:00\",\"2021-12-29T00:00:00\",\"2021-12-30T00:00:00\",\"2021-12-31T00:00:00\",\"2022-01-03T00:00:00\",\"2022-01-04T00:00:00\",\"2022-01-05T00:00:00\",\"2022-01-06T00:00:00\",\"2022-01-07T00:00:00\",\"2022-01-10T00:00:00\",\"2022-01-11T00:00:00\",\"2022-01-12T00:00:00\",\"2022-01-13T00:00:00\",\"2022-01-14T00:00:00\",\"2022-01-18T00:00:00\",\"2022-01-19T00:00:00\",\"2022-01-20T00:00:00\",\"2022-01-21T00:00:00\",\"2022-01-24T00:00:00\",\"2022-01-25T00:00:00\",\"2022-01-26T00:00:00\",\"2022-01-27T00:00:00\",\"2022-01-28T00:00:00\",\"2022-01-31T00:00:00\",\"2022-02-01T00:00:00\",\"2022-02-02T00:00:00\",\"2022-02-03T00:00:00\",\"2022-02-04T00:00:00\",\"2022-02-07T00:00:00\",\"2022-02-08T00:00:00\",\"2022-02-09T00:00:00\",\"2022-02-10T00:00:00\",\"2022-02-11T00:00:00\",\"2022-02-14T00:00:00\",\"2022-02-15T00:00:00\",\"2022-02-16T00:00:00\",\"2022-02-17T00:00:00\",\"2022-02-18T00:00:00\",\"2022-02-22T00:00:00\",\"2022-02-23T00:00:00\",\"2022-02-24T00:00:00\",\"2022-02-25T00:00:00\",\"2022-02-28T00:00:00\",\"2022-03-01T00:00:00\",\"2022-03-02T00:00:00\",\"2022-03-03T00:00:00\",\"2022-03-04T00:00:00\",\"2022-03-07T00:00:00\",\"2022-03-08T00:00:00\",\"2022-03-09T00:00:00\",\"2022-03-10T00:00:00\",\"2022-03-11T00:00:00\",\"2022-03-14T00:00:00\",\"2022-03-15T00:00:00\",\"2022-03-16T00:00:00\",\"2022-03-17T00:00:00\",\"2022-03-18T00:00:00\",\"2022-03-21T00:00:00\",\"2022-03-22T00:00:00\",\"2022-03-23T00:00:00\",\"2022-03-24T00:00:00\",\"2022-03-25T00:00:00\",\"2022-03-28T00:00:00\",\"2022-03-29T00:00:00\",\"2022-03-30T00:00:00\",\"2022-03-31T00:00:00\",\"2022-04-01T00:00:00\",\"2022-04-04T00:00:00\",\"2022-04-05T00:00:00\",\"2022-04-06T00:00:00\",\"2022-04-07T00:00:00\",\"2022-04-08T00:00:00\",\"2022-04-11T00:00:00\",\"2022-04-12T00:00:00\",\"2022-04-13T00:00:00\",\"2022-04-14T00:00:00\",\"2022-04-18T00:00:00\",\"2022-04-19T00:00:00\",\"2022-04-20T00:00:00\",\"2022-04-21T00:00:00\",\"2022-04-22T00:00:00\",\"2022-04-25T00:00:00\",\"2022-04-29T00:00:00\",\"2022-05-02T00:00:00\",\"2022-05-03T00:00:00\",\"2022-05-04T00:00:00\",\"2022-05-05T00:00:00\",\"2022-05-06T00:00:00\",\"2022-05-09T00:00:00\",\"2022-05-10T00:00:00\",\"2022-05-11T00:00:00\",\"2022-05-12T00:00:00\",\"2022-05-13T00:00:00\",\"2022-05-16T00:00:00\",\"2022-05-17T00:00:00\",\"2022-05-18T00:00:00\",\"2022-05-19T00:00:00\",\"2022-05-20T00:00:00\",\"2022-05-23T00:00:00\",\"2022-05-24T00:00:00\",\"2022-05-25T00:00:00\",\"2022-05-26T00:00:00\",\"2022-05-27T00:00:00\",\"2022-05-31T00:00:00\",\"2022-06-01T00:00:00\",\"2022-06-02T00:00:00\",\"2022-06-03T00:00:00\",\"2022-06-06T00:00:00\",\"2022-06-07T00:00:00\",\"2022-06-08T00:00:00\",\"2022-06-09T00:00:00\",\"2022-06-10T00:00:00\",\"2022-06-13T00:00:00\",\"2022-06-14T00:00:00\",\"2022-06-15T00:00:00\",\"2022-06-16T00:00:00\",\"2022-06-17T00:00:00\",\"2022-06-21T00:00:00\",\"2022-06-22T00:00:00\",\"2022-06-23T00:00:00\",\"2022-06-24T00:00:00\",\"2022-06-27T00:00:00\",\"2022-06-29T00:00:00\",\"2022-06-30T00:00:00\",\"2022-07-01T00:00:00\",\"2022-07-05T00:00:00\",\"2022-07-06T00:00:00\",\"2022-07-07T00:00:00\",\"2022-07-08T00:00:00\",\"2022-07-11T00:00:00\",\"2022-07-12T00:00:00\",\"2022-07-13T00:00:00\",\"2022-07-14T00:00:00\",\"2022-07-15T00:00:00\",\"2022-07-18T00:00:00\",\"2022-07-19T00:00:00\",\"2022-07-20T00:00:00\",\"2022-07-21T00:00:00\",\"2022-07-22T00:00:00\",\"2022-07-25T00:00:00\",\"2022-07-26T00:00:00\",\"2022-07-27T00:00:00\",\"2022-07-28T00:00:00\",\"2022-07-29T00:00:00\",\"2022-08-01T00:00:00\",\"2022-08-02T00:00:00\",\"2022-08-03T00:00:00\",\"2022-08-04T00:00:00\",\"2022-08-05T00:00:00\",\"2022-08-09T00:00:00\",\"2022-08-10T00:00:00\",\"2022-08-11T00:00:00\",\"2022-08-12T00:00:00\",\"2022-08-15T00:00:00\",\"2022-08-16T00:00:00\",\"2022-08-17T00:00:00\",\"2022-08-18T00:00:00\",\"2022-08-19T00:00:00\",\"2022-08-22T00:00:00\",\"2022-08-23T00:00:00\",\"2022-08-24T00:00:00\",\"2022-08-25T00:00:00\",\"2022-08-26T00:00:00\",\"2022-08-29T00:00:00\",\"2022-08-30T00:00:00\",\"2022-08-31T00:00:00\",\"2022-09-01T00:00:00\",\"2022-09-02T00:00:00\",\"2022-09-06T00:00:00\",\"2022-09-07T00:00:00\",\"2022-09-08T00:00:00\",\"2022-09-09T00:00:00\",\"2022-09-12T00:00:00\",\"2022-09-13T00:00:00\",\"2022-09-14T00:00:00\"],\"y\":[889467.0,1062575.0,1136315.0,1033019.0,951853.0,1147311.0,1087082.0,1104602.0,1591828.0,1193781.0,1146046.0,1563066.0,1540185.0,1144926.0,1668561.0,1013004.0,851317.0,846691.0,1138584.0,1370772.0,1680411.0,1429682.0,2314990.0,1477139.0,1666797.0,1545752.0,1536752.0,2732864.0,2259597.0,1753189.0,1020933.0,1608893.0,1269367.0,1926716.0,989710.0,1190179.0,730692.0,1006201.0,735108.0,813780.0,837671.0,808423.0,854734.0,1040551.0,707020.0,718729.0,947421.0,824940.0,942572.0,626375.0,827794.0,840184.0,1576747.0,1145941.0,1212877.0,934072.0,730190.0,644869.0,682682.0,582919.0,558311.0,542606.0,535707.0,568078.0,585602.0,874622.0,710222.0,1020833.0,889642.0,646290.0,740021.0,1035992.0,1023785.0,926720.0,1326122.0,956327.0,679434.0,802951.0,614091.0,588089.0,1029378.0,970529.0,610534.0,718319.0,651702.0,750120.0,620984.0,536233.0,535311.0,476544.0,654098.0,593392.0,586672.0,503225.0,864242.0,1024195.0,950056.0,1296710.0,763708.0,586799.0,553667.0,619671.0,799501.0,656301.0,721247.0,723066.0,655410.0,817553.0,632364.0,870787.0,998319.0,794592.0,1176933.0,1416562.0,1135892.0,1106769.0,966113.0,1121715.0,1624404.0,1385993.0,1191094.0,865688.0,764657.0,960129.0,1591048.0,1159178.0,1320260.0,1098735.0,1522867.0,924845.0,1270825.0,690724.0,1008951.0,809199.0,1093336.0,896113.0,615991.0,573604.0,575869.0,701438.0,701596.0,640544.0,825814.0,527393.0,1014483.0,987617.0,874566.0,936184.0,899234.0,774372.0,735220.0,855623.0,839499.0,724332.0,975613.0,1287894.0,752040.0,741178.0,761600.0,749866.0,1007377.0,1467651.0,1040794.0,1423348.0,1707208.0,1067463.0,1201066.0,1099733.0,2264102.0,1823063.0,2053664.0,2798981.0,2085471.0,1465130.0,1476722.0,1429017.0,1540666.0,1947583.0,1821282.0,1874908.0,2497234.0,1885422.0,1788907.0,1663290.0,1404649.0,870135.0,988888.0,1218367.0,1037911.0,889538.0,924140.0,1322180.0,1508308.0,1940242.0,2429684.0,1941640.0,2117509.0,1583767.0,2858078.0,2884445.0,2924598.0,2226214.0,2475768.0,2071272.0,2784471.0,2885389.0,2239656.0,1981855.0,2287028.0,2478267.0,1913499.0,1632448.0,2099236.0,2018889.0,1951090.0,2120333.0,2523065.0,1642428.0,2960764.0,3609341.0,2417736.0,1678912.0,1570072.0,1459972.0,2113356.0,2367626.0,2064957.0,3207673.0,2361272.0,2600651.0,2531227.0,1665009.0,1648424.0,2052195.0,2517810.0,3707021.0,1780715.0,1720077.0,1582176.0,2040874.0,1592125.0,2320343.0,1384938.0,1468119.0,1633691.0,1229237.0,1568617.0,1294736.0,1616527.0,1467315.0,1536737.0,1397635.0,1336693.0,1506307.0,1074249.0,1287631.0,1602658.0,1504469.0,1185312.0,1421049.0,1405297.0,1121740.0,1323775.0,1339697.0,1079286.0,1266517.0,1547961.0,1386127.0,1818900.0,1234924.0,1916175.0,1453342.0,1502371.0,1828520.0,2027961.0,1646353.0,1945780.0,1652132.0,1913249.0,1185742.0,1782789.0,1196904.0,1470975.0,1552634.0,1787076.0,1224091.0,1525632.0,1254455.0,1204446.0,984776.0,1390215.0,1373141.0,1293693.0,1616445.0,1604024.0,1258872.0,1227715.0,1539521.0,1170864.0,1746544.0,2002754.0,1574058.0,1216007.0,1446991.0,983167.0,1046982.0,1332930.0,735290.0,961020.0,1285219.0,1220365.0,1538701.0,1370106.0,1615957.0,937024.0,1365846.0,1033487.0,1200794.0,1106793.0,1511510.0,1258590.0,1300095.0,1168684.0,1001322.0,1435502.0,1646372.0,1357979.0,1169970.0,1423073.0,1448833.0,981545.0,1401147.0,1497420.0,1447645.0,1409001.0,1387113.0,1191817.0,1003512.0,1318711.0,1068285.0,878344.0,1138143.0,1326247.0,1169021.0,1139880.0,1154469.0,1428805.0,1306742.0,1125523.0,1469173.0,1433966.0,1705259.0,1624593.0,1735318.0,1917254.0,1776536.0,1728999.0,1184720.0,1292581.0,1295101.0,1574108.0,1707513.0],\"mode\":\"lines\",\"name\":\"Trades and Book ticks count\"},{\"type\":\"scattergl\",\"x\":[\"2021-04-01T00:00:00\",\"2021-04-05T00:00:00\",\"2021-04-06T00:00:00\",\"2021-04-07T00:00:00\",\"2021-04-08T00:00:00\",\"2021-04-09T00:00:00\",\"2021-04-12T00:00:00\",\"2021-04-13T00:00:00\",\"2021-04-14T00:00:00\",\"2021-04-15T00:00:00\",\"2021-04-16T00:00:00\",\"2021-04-19T00:00:00\",\"2021-04-20T00:00:00\",\"2021-04-21T00:00:00\",\"2021-04-22T00:00:00\",\"2021-04-23T00:00:00\",\"2021-04-26T00:00:00\",\"2021-04-27T00:00:00\",\"2021-04-28T00:00:00\",\"2021-04-29T00:00:00\",\"2021-04-30T00:00:00\",\"2021-05-03T00:00:00\",\"2021-05-04T00:00:00\",\"2021-05-05T00:00:00\",\"2021-05-06T00:00:00\",\"2021-05-07T00:00:00\",\"2021-05-10T00:00:00\",\"2021-05-11T00:00:00\",\"2021-05-12T00:00:00\",\"2021-05-13T00:00:00\",\"2021-05-14T00:00:00\",\"2021-05-17T00:00:00\",\"2021-05-18T00:00:00\",\"2021-05-19T00:00:00\",\"2021-05-20T00:00:00\",\"2021-05-21T00:00:00\",\"2021-05-24T00:00:00\",\"2021-05-25T00:00:00\",\"2021-05-26T00:00:00\",\"2021-05-27T00:00:00\",\"2021-05-28T00:00:00\",\"2021-06-01T00:00:00\",\"2021-06-02T00:00:00\",\"2021-06-03T00:00:00\",\"2021-06-04T00:00:00\",\"2021-06-07T00:00:00\",\"2021-06-08T00:00:00\",\"2021-06-09T00:00:00\",\"2021-06-10T00:00:00\",\"2021-06-11T00:00:00\",\"2021-06-14T00:00:00\",\"2021-06-15T00:00:00\",\"2021-06-16T00:00:00\",\"2021-06-17T00:00:00\",\"2021-06-18T00:00:00\",\"2021-06-21T00:00:00\",\"2021-06-22T00:00:00\",\"2021-06-23T00:00:00\",\"2021-06-24T00:00:00\",\"2021-06-25T00:00:00\",\"2021-06-28T00:00:00\",\"2021-06-29T00:00:00\",\"2021-06-30T00:00:00\",\"2021-07-01T00:00:00\",\"2021-07-02T00:00:00\",\"2021-07-06T00:00:00\",\"2021-07-07T00:00:00\",\"2021-07-08T00:00:00\",\"2021-07-09T00:00:00\",\"2021-07-12T00:00:00\",\"2021-07-13T00:00:00\",\"2021-07-14T00:00:00\",\"2021-07-15T00:00:00\",\"2021-07-16T00:00:00\",\"2021-07-19T00:00:00\",\"2021-07-20T00:00:00\",\"2021-07-21T00:00:00\",\"2021-07-22T00:00:00\",\"2021-07-23T00:00:00\",\"2021-07-26T00:00:00\",\"2021-07-27T00:00:00\",\"2021-07-28T00:00:00\",\"2021-07-29T00:00:00\",\"2021-07-30T00:00:00\",\"2021-08-02T00:00:00\",\"2021-08-03T00:00:00\",\"2021-08-04T00:00:00\",\"2021-08-05T00:00:00\",\"2021-08-06T00:00:00\",\"2021-08-09T00:00:00\",\"2021-08-10T00:00:00\",\"2021-08-11T00:00:00\",\"2021-08-12T00:00:00\",\"2021-08-13T00:00:00\",\"2021-08-16T00:00:00\",\"2021-08-17T00:00:00\",\"2021-08-18T00:00:00\",\"2021-08-19T00:00:00\",\"2021-08-20T00:00:00\",\"2021-08-23T00:00:00\",\"2021-08-24T00:00:00\",\"2021-08-25T00:00:00\",\"2021-08-26T00:00:00\",\"2021-08-27T00:00:00\",\"2021-08-30T00:00:00\",\"2021-08-31T00:00:00\",\"2021-09-01T00:00:00\",\"2021-09-02T00:00:00\",\"2021-09-03T00:00:00\",\"2021-09-07T00:00:00\",\"2021-09-08T00:00:00\",\"2021-09-09T00:00:00\",\"2021-09-10T00:00:00\",\"2021-09-13T00:00:00\",\"2021-09-14T00:00:00\",\"2021-09-15T00:00:00\",\"2021-09-16T00:00:00\",\"2021-09-17T00:00:00\",\"2021-09-20T00:00:00\",\"2021-09-21T00:00:00\",\"2021-09-22T00:00:00\",\"2021-09-23T00:00:00\",\"2021-09-24T00:00:00\",\"2021-09-27T00:00:00\",\"2021-09-28T00:00:00\",\"2021-09-29T00:00:00\",\"2021-09-30T00:00:00\",\"2021-10-01T00:00:00\",\"2021-10-04T00:00:00\",\"2021-10-05T00:00:00\",\"2021-10-06T00:00:00\",\"2021-10-07T00:00:00\",\"2021-10-08T00:00:00\",\"2021-10-11T00:00:00\",\"2021-10-12T00:00:00\",\"2021-10-13T00:00:00\",\"2021-10-14T00:00:00\",\"2021-10-15T00:00:00\",\"2021-10-18T00:00:00\",\"2021-10-19T00:00:00\",\"2021-10-20T00:00:00\",\"2021-10-21T00:00:00\",\"2021-10-22T00:00:00\",\"2021-10-25T00:00:00\",\"2021-10-26T00:00:00\",\"2021-10-27T00:00:00\",\"2021-10-28T00:00:00\",\"2021-10-29T00:00:00\",\"2021-11-01T00:00:00\",\"2021-11-02T00:00:00\",\"2021-11-03T00:00:00\",\"2021-11-04T00:00:00\",\"2021-11-05T00:00:00\",\"2021-11-08T00:00:00\",\"2021-11-09T00:00:00\",\"2021-11-10T00:00:00\",\"2021-11-11T00:00:00\",\"2021-11-12T00:00:00\",\"2021-11-15T00:00:00\",\"2021-11-16T00:00:00\",\"2021-11-17T00:00:00\",\"2021-11-18T00:00:00\",\"2021-11-19T00:00:00\",\"2021-11-22T00:00:00\",\"2021-11-23T00:00:00\",\"2021-11-24T00:00:00\",\"2021-11-26T00:00:00\",\"2021-11-29T00:00:00\",\"2021-11-30T00:00:00\",\"2021-12-01T00:00:00\",\"2021-12-02T00:00:00\",\"2021-12-03T00:00:00\",\"2021-12-06T00:00:00\",\"2021-12-07T00:00:00\",\"2021-12-08T00:00:00\",\"2021-12-09T00:00:00\",\"2021-12-10T00:00:00\",\"2021-12-13T00:00:00\",\"2021-12-14T00:00:00\",\"2021-12-15T00:00:00\",\"2021-12-16T00:00:00\",\"2021-12-17T00:00:00\",\"2021-12-20T00:00:00\",\"2021-12-21T00:00:00\",\"2021-12-22T00:00:00\",\"2021-12-23T00:00:00\",\"2021-12-27T00:00:00\",\"2021-12-28T00:00:00\",\"2021-12-29T00:00:00\",\"2021-12-30T00:00:00\",\"2021-12-31T00:00:00\",\"2022-01-03T00:00:00\",\"2022-01-04T00:00:00\",\"2022-01-05T00:00:00\",\"2022-01-06T00:00:00\",\"2022-01-07T00:00:00\",\"2022-01-10T00:00:00\",\"2022-01-11T00:00:00\",\"2022-01-12T00:00:00\",\"2022-01-13T00:00:00\",\"2022-01-14T00:00:00\",\"2022-01-18T00:00:00\",\"2022-01-19T00:00:00\",\"2022-01-20T00:00:00\",\"2022-01-21T00:00:00\",\"2022-01-24T00:00:00\",\"2022-01-25T00:00:00\",\"2022-01-26T00:00:00\",\"2022-01-27T00:00:00\",\"2022-01-28T00:00:00\",\"2022-01-31T00:00:00\",\"2022-02-01T00:00:00\",\"2022-02-02T00:00:00\",\"2022-02-03T00:00:00\",\"2022-02-04T00:00:00\",\"2022-02-07T00:00:00\",\"2022-02-08T00:00:00\",\"2022-02-09T00:00:00\",\"2022-02-10T00:00:00\",\"2022-02-11T00:00:00\",\"2022-02-14T00:00:00\",\"2022-02-15T00:00:00\",\"2022-02-16T00:00:00\",\"2022-02-17T00:00:00\",\"2022-02-18T00:00:00\",\"2022-02-22T00:00:00\",\"2022-02-23T00:00:00\",\"2022-02-24T00:00:00\",\"2022-02-25T00:00:00\",\"2022-02-28T00:00:00\",\"2022-03-01T00:00:00\",\"2022-03-02T00:00:00\",\"2022-03-03T00:00:00\",\"2022-03-04T00:00:00\",\"2022-03-07T00:00:00\",\"2022-03-08T00:00:00\",\"2022-03-09T00:00:00\",\"2022-03-10T00:00:00\",\"2022-03-11T00:00:00\",\"2022-03-14T00:00:00\",\"2022-03-15T00:00:00\",\"2022-03-16T00:00:00\",\"2022-03-17T00:00:00\",\"2022-03-18T00:00:00\",\"2022-03-21T00:00:00\",\"2022-03-22T00:00:00\",\"2022-03-23T00:00:00\",\"2022-03-24T00:00:00\",\"2022-03-25T00:00:00\",\"2022-03-28T00:00:00\",\"2022-03-29T00:00:00\",\"2022-03-30T00:00:00\",\"2022-03-31T00:00:00\",\"2022-04-01T00:00:00\",\"2022-04-04T00:00:00\",\"2022-04-05T00:00:00\",\"2022-04-06T00:00:00\",\"2022-04-07T00:00:00\",\"2022-04-08T00:00:00\",\"2022-04-11T00:00:00\",\"2022-04-12T00:00:00\",\"2022-04-13T00:00:00\",\"2022-04-14T00:00:00\",\"2022-04-18T00:00:00\",\"2022-04-19T00:00:00\",\"2022-04-20T00:00:00\",\"2022-04-21T00:00:00\",\"2022-04-22T00:00:00\",\"2022-04-25T00:00:00\",\"2022-04-29T00:00:00\",\"2022-05-02T00:00:00\",\"2022-05-03T00:00:00\",\"2022-05-04T00:00:00\",\"2022-05-05T00:00:00\",\"2022-05-06T00:00:00\",\"2022-05-09T00:00:00\",\"2022-05-10T00:00:00\",\"2022-05-11T00:00:00\",\"2022-05-12T00:00:00\",\"2022-05-13T00:00:00\",\"2022-05-16T00:00:00\",\"2022-05-17T00:00:00\",\"2022-05-18T00:00:00\",\"2022-05-19T00:00:00\",\"2022-05-20T00:00:00\",\"2022-05-23T00:00:00\",\"2022-05-24T00:00:00\",\"2022-05-25T00:00:00\",\"2022-05-26T00:00:00\",\"2022-05-27T00:00:00\",\"2022-05-31T00:00:00\",\"2022-06-01T00:00:00\",\"2022-06-02T00:00:00\",\"2022-06-03T00:00:00\",\"2022-06-06T00:00:00\",\"2022-06-07T00:00:00\",\"2022-06-08T00:00:00\",\"2022-06-09T00:00:00\",\"2022-06-10T00:00:00\",\"2022-06-13T00:00:00\",\"2022-06-14T00:00:00\",\"2022-06-15T00:00:00\",\"2022-06-16T00:00:00\",\"2022-06-17T00:00:00\",\"2022-06-21T00:00:00\",\"2022-06-22T00:00:00\",\"2022-06-23T00:00:00\",\"2022-06-24T00:00:00\",\"2022-06-27T00:00:00\",\"2022-06-29T00:00:00\",\"2022-06-30T00:00:00\",\"2022-07-01T00:00:00\",\"2022-07-05T00:00:00\",\"2022-07-06T00:00:00\",\"2022-07-07T00:00:00\",\"2022-07-08T00:00:00\",\"2022-07-11T00:00:00\",\"2022-07-12T00:00:00\",\"2022-07-13T00:00:00\",\"2022-07-14T00:00:00\",\"2022-07-15T00:00:00\",\"2022-07-18T00:00:00\",\"2022-07-19T00:00:00\",\"2022-07-20T00:00:00\",\"2022-07-21T00:00:00\",\"2022-07-22T00:00:00\",\"2022-07-25T00:00:00\",\"2022-07-26T00:00:00\",\"2022-07-27T00:00:00\",\"2022-07-28T00:00:00\",\"2022-07-29T00:00:00\",\"2022-08-01T00:00:00\",\"2022-08-02T00:00:00\",\"2022-08-03T00:00:00\",\"2022-08-04T00:00:00\",\"2022-08-05T00:00:00\",\"2022-08-09T00:00:00\",\"2022-08-10T00:00:00\",\"2022-08-11T00:00:00\",\"2022-08-12T00:00:00\",\"2022-08-15T00:00:00\",\"2022-08-16T00:00:00\",\"2022-08-17T00:00:00\",\"2022-08-18T00:00:00\",\"2022-08-19T00:00:00\",\"2022-08-22T00:00:00\",\"2022-08-23T00:00:00\",\"2022-08-24T00:00:00\",\"2022-08-25T00:00:00\",\"2022-08-26T00:00:00\",\"2022-08-29T00:00:00\",\"2022-08-30T00:00:00\",\"2022-08-31T00:00:00\",\"2022-09-01T00:00:00\",\"2022-09-02T00:00:00\",\"2022-09-06T00:00:00\",\"2022-09-08T00:00:00\",\"2022-09-09T00:00:00\",\"2022-09-12T00:00:00\",\"2022-09-13T00:00:00\",\"2022-09-14T00:00:00\"],\"y\":[3.2445273405309023,3.5510905112580287,2.7390292304510635,3.0289859141022575,3.6709449883542944,3.5223230667186143,2.9526751431814713,3.1293624309932446,2.3591116628178423,3.054077757980735,2.6131586341211435,2.4679700025462776,2.7194135769404326,2.6061946361598918,2.3882854747294227,2.922989445253918,3.2058563378858875,3.322699780675595,3.82518988497994,4.44610774074755,2.6348315977460275,2.540634910420639,2.717376748927641,2.7216125225858905,2.4684469674471456,2.397085690330661,2.6851437317146813,2.106947144094986,2.3761759287164925,2.841621753273606,3.2203876258285313,1.9988899199636023,2.236547822654914,2.4135887177975373,2.955613260450031,2.7221115479268243,3.2610183223574367,2.322200037567047,2.7669403679459346,3.3115829831158297,3.222506210672209,2.781340956405248,2.638130693291714,2.7224999062996433,3.409945970411021,3.553912531705274,2.8743293636092084,2.2821053652386842,2.97080753512729,3.2036719217721012,3.2946602657182824,2.8204536149224455,2.4933613319067676,3.3253020879783515,2.7881640100356426,2.991632336693531,3.3874744929401936,3.1381567419119234,3.2031018834537894,3.422602454200326,3.923440519710341,4.229956911644914,4.126882792272641,3.47082618936132,5.05804283455316,4.898916331855362,6.131744722072817,4.848687297530546,3.957771777861207,4.424948552507388,5.297957760658144,4.1434682893304196,3.9837465874182567,3.5176752417127073,4.230907865188874,3.778728405660407,4.0844290983377345,3.4315917160573934,4.427194015219243,4.434532868324352,4.152507630821719,4.8238640988574275,3.8405723514169563,3.826294445782445,3.9524199710910817,3.639950941182744,4.132473622508792,3.768511076341814,3.9418207359833817,3.886524644104217,3.9929796452519346,3.626270660878475,5.128248834101508,4.4987828506135425,4.597670559866334,3.8807063108099533,4.507944794833147,3.533326649752065,3.8201773452680867,4.233988128814126,4.315951646025499,3.862856257594756,3.5302019634747173,4.084711131020675,5.347405257838161,5.445146086249388,5.401809554324774,3.9153424915571224,3.8683416513274,4.287271169643093,3.6724734278321858,3.4179805485079133,6.859608830749074,3.447925329071371,4.248115137706754,3.2870454448941016,3.5739090561870093,4.173787459381393,3.8367302715334364,2.8578066411590823,3.297808569264894,3.3276422914491133,3.4950311054498946,3.476720315707577,3.4592922400832657,3.0092013478516675,3.233908472573584,4.164880521690853,3.354790667865283,3.2001038011774945,3.2530049377372965,3.6315518209878332,2.5848628922514574,2.9005226155741664,3.0885290523681648,3.350247122851694,3.6299231644618186,4.008863257578399,4.789110023286546,3.716508087671327,3.064014047970627,3.4361417794874356,2.866262863066017,4.183787043058971,2.491219665583356,2.3534426807152977,4.085912326799807,4.921254796065731,3.102418280447581,3.6428228293378377,3.1527978020184433,3.394602529385021,3.029068527776686,2.892596212786402,3.329906428061127,2.584607118287685,2.532578054358811,3.3630248064567487,3.2019432773109244,2.787564711561799,3.2588593942486277,3.8550036759420325,4.858982661314343,4.448525588963486,3.1613605372046054,3.173131059343509,3.954154059810202,4.5100947229918535,3.876945473304648,4.885184988121639,4.380414712435919,3.1019860442068024,3.2988231435488675,3.9429265662432686,4.140996071027587,3.6660865476058015,4.264519370194448,4.175483150140456,3.8813868472866915,3.5201727231416156,3.632859395635331,3.9140839557404123,2.9610259225325857,2.6639371366388302,3.1455545121948614,3.5890982433760277,3.7075988382910907,3.1639070986000113,3.0917872534350246,3.6549309866470012,3.201354773086329,3.5272807030812747,3.4228420190040763,3.074616465368753,2.9704685876846537,2.4754331389959003,3.1230091584026325,2.5829556999230316,1.7544657633556537,1.8179580473886658,1.7943320757245953,2.349100311111151,2.1739920703393856,2.6771471829870728,2.923391911785039,4.606831175969687,3.3456923741860356,4.141776265165716,3.623173830840724,4.550478217238094,3.282468399513143,3.1053362802367976,2.3071727047363897,2.507220555463921,2.795463048859868,2.0532623885021835,1.754929024817038,2.5898852187127837,2.226215936157019,2.0897997723130066,2.5645479903513038,2.5388465863606906,2.6868194579611635,3.042661092130534,2.557969409791819,2.8455507753336042,2.9664540230135543,3.5688176444419364,2.694268174102772,2.3253408473493753,2.877813803345176,3.58040106690114,3.3368841996961947,3.0367484571397942,2.7678021772889934,2.902708131407942,3.199052066164434,3.791283762296688,4.119263596464616,3.3193621948243743,3.4249823349297324,2.9617603949071323,3.333578831687772,4.017385511664926,3.468771022182285,3.9976831156237567,4.217664350188733,3.8614049505072847,3.0932363022702374,3.609654368693839,3.5847383124112975,3.4199200792767783,4.2745791292390996,3.338363295131736,4.094953777010731,3.2352436373464135,3.567136594332665,3.184778150962233,3.9501835803569016,3.2906676687433016,3.6228640636107525,3.429850054379803,3.3832788804744007,2.6726939001878782,3.3198799947372617,3.410771430624303,4.096679438306262,3.847338663773233,3.770135796360438,5.055614758479065,4.932952366041723,4.368070282149693,4.905313001914973,4.60273882702951,4.768139032259496,4.707435161232129,5.042656415422093,5.907215646207446,6.687002057756204,5.350911075090534,2.793488180597928,3.706145187918162,4.435833375822159,5.133985214802716,4.47227761997811,4.253932101453241,3.197494546522359,3.808984778250316,3.607052537017019,4.155970494813034,3.442704905356366,3.0863545695598633,3.1406987592883318,2.8663517781304035,2.4245273138057786,2.598357895004417,1.9988352345617673,2.158138797716952,4.387700023230709,3.408559990472613,2.023713346721564,3.1537592642710752,4.6436410316716925,3.889243264125347,3.639666506300557,3.7061764194608884,3.0441208465560834,4.8924913979518285,3.498990655761587,4.450447744703432,4.707607969746756,2.7392586343935568,3.0010816681337062,2.584227179312321,3.9294617853971725,2.6013913720873365,3.072704349449969,3.601533651900326,3.7399947415641406,2.995481339852201,3.3356374991061424,3.2534545552440397,3.659244072820369,3.591851572221523,2.5880841684651084,2.433228942183176,2.267708116252166,3.075719890253596,3.0343489055023882,3.4135749254745025,4.837985013422716,2.6604631776680105,2.4573599925204683,3.2947994846802913,2.3938237091386023,2.5834953605077597,2.5743885177002843,3.572752493243728,2.588891728362014,3.2933159222492123,3.202162250781015,2.7026480855217665,3.4105260935557253,2.918339362594855,3.0441800891321895,3.3432686369231224,2.251251920311029,2.526665554485889,2.7011442680425013,3.7054860115180444,2.7076653142403657,2.584768648047012,2.611977276770243,2.6535770389058375,2.432854488763617,2.6710970112623666,2.8626968552324206,2.9939563778783174,3.726033416861303,4.769434970708848,2.737868049714505],\"mode\":\"lines\",\"yaxis\":\"y2\",\"name\":\"Execution ratio\"}];\n",
       "           var layout = {\"title\":\"Execution ratio for AAPL\",\"xaxis\":{\"title\":\"Time\",\"_isSubplotObj\":true},\"yaxis\":{\"title\":\"Ticks count\",\"autorange\":true,\"side\":\"left\",\"_isSubplotObj\":true},\"yaxis2\":{\"title\":\"Ratio\",\"autorange\":true,\"side\":\"right\",\"_isSubplotObj\":true}};\n",
       "           Plotly.newPlot('fa4c209a-2eb7-4fd3-987c-749852f6f0cd', data, layout);\n",
       "        \n",
       "});\n",
       "};\n",
       "// ensure `require` is available globally\n",
       "if ((typeof(require) !==  typeof(Function)) || (typeof(require.config) !== typeof(Function))) {\n",
       "    let require_script = document.createElement('script');\n",
       "    require_script.setAttribute('src', 'https://cdnjs.cloudflare.com/ajax/libs/require.js/2.3.6/require.min.js');\n",
       "    require_script.setAttribute('type', 'text/javascript');\n",
       "    \n",
       "    \n",
       "    require_script.onload = function() {\n",
       "        renderPlotly();\n",
       "    };\n",
       "\n",
       "    document.getElementsByTagName('head')[0].appendChild(require_script);\n",
       "}\n",
       "else {\n",
       "    renderPlotly();\n",
       "}\n",
       "\n",
       "</script>\n"
      ]
     },
     "metadata": {},
     "output_type": "display_data"
    }
   ],
   "source": [
    "var executionRatiochart = new List<Scattergl>\n",
    "{\n",
    "    new Scattergl\n",
    "    {\n",
    "        name = \"Trades ticks count\",\n",
    "        mode = \"lines\",\n",
    "        x = trades.Select(b => b.Item1),\n",
    "        y = trades.Select(b => b.Item2)\n",
    "    },\n",
    "    new Scattergl\n",
    "    {\n",
    "        name = \"Trades and Book ticks count\",\n",
    "        mode = \"lines\",\n",
    "        x = tradesAndBook.Select(b => b.Item1),\n",
    "        y = tradesAndBook.Select(b => b.Item2)\n",
    "    },\n",
    "    new Scattergl\n",
    "    {\n",
    "        name = \"Execution ratio\",\n",
    "        mode = \"lines\",\n",
    "        x = executionRatio.Keys,\n",
    "        y = executionRatio.Values,\n",
    "        yaxis = \"y2\"\n",
    "    }\n",
    "};\n",
    "\n",
    "\n",
    "var layout = new Layout.Layout{ \n",
    "    title = $\"Execution ratio for {ticker}\",\n",
    "    yaxis = new Yaxis {\n",
    "        title = \"Ticks count\", \n",
    "        autorange = true,\n",
    "        side = \"left\",\n",
    "    },\n",
    "    yaxis2 = new Yaxis {\n",
    "        title = \"Ratio\", \n",
    "        autorange = true,\n",
    "        side = \"right\",  \n",
    "    },\n",
    "};\n",
    "\n",
    "var chart = Chart.Plot(executionRatiochart, layout);\n",
    "chart.WithXTitle($\"Time\");\n",
    "chart.Width = 1500;\n",
    "chart.Height = 800;\n",
    "display(chart);"
   ]
  }
 ],
 "metadata": {
  "kernelspec": {
   "display_name": ".NET (C#)",
   "language": "C#",
   "name": ".net-csharp"
  },
  "language_info": {
   "file_extension": ".cs",
   "mimetype": "text/x-csharp",
   "name": "C#",
   "pygments_lexer": "csharp",
   "version": "10.0"
  }
 },
 "nbformat": 4,
 "nbformat_minor": 4
}
