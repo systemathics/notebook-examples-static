{
 "cells": [
  {
   "cell_type": "markdown",
   "id": "interim-consensus",
   "metadata": {},
   "source": [
    "# Generate instrument sector information using dedicated service - C#\n",
    "\n",
    "### Overview\n",
    "Industrial sector is an important information when looking for referential data. One of the challenges with sectors data remains in the various available classifications.\n",
    "Sector classifications are organized in different levels to identify the different industries from the most general to the most specific.\n",
    "The sector classifications currenctly supported are ICB, GICS, TRBC and SIC.\n",
    "\n",
    "This sample requests **on-demand** sectors data by calling a dedicated service.\n",
    "\n",
    "### Inputs/outputs\n",
    "Sectors data sample is designed to help you requesting sectors data by using several classification types.\n",
    "There are two ways to use the static sectors data endpoint. In both cases one of the necessary input is the **classification type**. The other input depends on the use-case:\n",
    "* **code**: in order to check the meaning of a specific code (ex: '10101010')\n",
    "* **level**: in order to retrieve a view of the table from a specific level. These levels correspond to layers of details of the sector activity.\n",
    "\n",
    "The service returns the information in 3 different fields:\n",
    "* **description**: a brief description of the classification.\n",
    "* **count**: number of levels in the classification.\n",
    "* **data**: array containing the elements retrieved\n",
    "\n",
    "\n",
    "### Services used\n",
    "This sample uses *gRPC requests* in order to retrieve sectors reference data from the hosted service. The queried endpoint in this script are:\n",
    "* *StaticSectorService*: to directly retrieve sector information objects from the server\n",
    "\n",
    "### Modules required\n",
    "1. Systemathics packages:\n",
    "    * *Systemathics.Apis.Services.SectorData.V1*\n",
    "2. Open source packages\n",
    "    * *Google.Protobuf.WellKnownTypes*\n",
    "    * *Google.Type*\n",
    "    * *Grpc.Net.Client*\n",
    "    * *Grpc.Core*\n",
    "    \n",
    "***"
   ]
  },
  {
   "cell_type": "markdown",
   "id": "distinct-bridges",
   "metadata": {},
   "source": [
    "# Run Exchange data sample"
   ]
  },
  {
   "cell_type": "markdown",
   "id": "armed-westminster",
   "metadata": {},
   "source": [
    "### Step 1: Install packages"
   ]
  },
  {
   "cell_type": "code",
   "execution_count": 1,
   "id": "occupied-continuity",
   "metadata": {
    "dotnet_interactive": {
     "language": "csharp"
    },
    "execution": {
     "iopub.execute_input": "2022-10-25T16:13:05.129071Z",
     "iopub.status.busy": "2022-10-25T16:13:05.118392Z",
     "iopub.status.idle": "2022-10-25T16:13:09.554674Z",
     "shell.execute_reply": "2022-10-25T16:13:09.544026Z"
    }
   },
   "outputs": [
    {
     "data": {
      "text/html": [
       "\n",
       "<div>\n",
       "    <div id='dotnet-interactive-this-cell-17067.Microsoft.DotNet.Interactive.Http.HttpPort' style='display: none'>\n",
       "        The below script needs to be able to find the current output cell; this is an easy method to get it.\n",
       "    </div>\n",
       "    <script type='text/javascript'>\n",
       "async function probeAddresses(probingAddresses) {\n",
       "    function timeout(ms, promise) {\n",
       "        return new Promise(function (resolve, reject) {\n",
       "            setTimeout(function () {\n",
       "                reject(new Error('timeout'))\n",
       "            }, ms)\n",
       "            promise.then(resolve, reject)\n",
       "        })\n",
       "    }\n",
       "\n",
       "    if (Array.isArray(probingAddresses)) {\n",
       "        for (let i = 0; i < probingAddresses.length; i++) {\n",
       "\n",
       "            let rootUrl = probingAddresses[i];\n",
       "\n",
       "            if (!rootUrl.endsWith('/')) {\n",
       "                rootUrl = `${rootUrl}/`;\n",
       "            }\n",
       "\n",
       "            try {\n",
       "                let response = await timeout(1000, fetch(`${rootUrl}discovery`, {\n",
       "                    method: 'POST',\n",
       "                    cache: 'no-cache',\n",
       "                    mode: 'cors',\n",
       "                    timeout: 1000,\n",
       "                    headers: {\n",
       "                        'Content-Type': 'text/plain'\n",
       "                    },\n",
       "                    body: probingAddresses[i]\n",
       "                }));\n",
       "\n",
       "                if (response.status == 200) {\n",
       "                    return rootUrl;\n",
       "                }\n",
       "            }\n",
       "            catch (e) { }\n",
       "        }\n",
       "    }\n",
       "}\n",
       "\n",
       "function loadDotnetInteractiveApi() {\n",
       "    probeAddresses([\"http://172.28.169.63:1740/\", \"http://127.0.0.1:1740/\"])\n",
       "        .then((root) => {\n",
       "        // use probing to find host url and api resources\n",
       "        // load interactive helpers and language services\n",
       "        let dotnetInteractiveRequire = require.config({\n",
       "        context: '17067.Microsoft.DotNet.Interactive.Http.HttpPort',\n",
       "                paths:\n",
       "            {\n",
       "                'dotnet-interactive': `${root}resources`\n",
       "                }\n",
       "        }) || require;\n",
       "\n",
       "            window.dotnetInteractiveRequire = dotnetInteractiveRequire;\n",
       "\n",
       "            window.configureRequireFromExtension = function(extensionName, extensionCacheBuster) {\n",
       "                let paths = {};\n",
       "                paths[extensionName] = `${root}extensions/${extensionName}/resources/`;\n",
       "                \n",
       "                let internalRequire = require.config({\n",
       "                    context: extensionCacheBuster,\n",
       "                    paths: paths,\n",
       "                    urlArgs: `cacheBuster=${extensionCacheBuster}`\n",
       "                    }) || require;\n",
       "\n",
       "                return internalRequire\n",
       "            };\n",
       "        \n",
       "            dotnetInteractiveRequire([\n",
       "                    'dotnet-interactive/dotnet-interactive'\n",
       "                ],\n",
       "                function (dotnet) {\n",
       "                    dotnet.init(window);\n",
       "                },\n",
       "                function (error) {\n",
       "                    console.log(error);\n",
       "                }\n",
       "            );\n",
       "        })\n",
       "        .catch(error => {console.log(error);});\n",
       "    }\n",
       "\n",
       "// ensure `require` is available globally\n",
       "if ((typeof(require) !==  typeof(Function)) || (typeof(require.config) !== typeof(Function))) {\n",
       "    let require_script = document.createElement('script');\n",
       "    require_script.setAttribute('src', 'https://cdnjs.cloudflare.com/ajax/libs/require.js/2.3.6/require.min.js');\n",
       "    require_script.setAttribute('type', 'text/javascript');\n",
       "    \n",
       "    \n",
       "    require_script.onload = function() {\n",
       "        loadDotnetInteractiveApi();\n",
       "    };\n",
       "\n",
       "    document.getElementsByTagName('head')[0].appendChild(require_script);\n",
       "}\n",
       "else {\n",
       "    loadDotnetInteractiveApi();\n",
       "}\n",
       "\n",
       "    </script>\n",
       "</div>"
      ]
     },
     "metadata": {},
     "output_type": "display_data"
    },
    {
     "data": {
      "text/html": [
       "<div><div><strong>Restore sources</strong><ul><li><span> file://~/.nuget/packages/</span></li><li><span> https://api.nuget.org/v3/index.json</span></li></ul></div><div></div><div><strong>Installed Packages</strong><ul><li><span>Systemathics.Apis, 0.13.2-pre</span></li></ul></div></div>"
      ]
     },
     "metadata": {},
     "output_type": "display_data"
    }
   ],
   "source": [
    "#i \"nuget: file://~/.nuget/packages/\"\n",
    "#i \"nuget: https://api.nuget.org/v3/index.json\"\n",
    "#r \"nuget: Systemathics.Apis, 0.*-pre*\""
   ]
  },
  {
   "cell_type": "code",
   "execution_count": 2,
   "id": "medieval-arbitration",
   "metadata": {
    "dotnet_interactive": {
     "language": "csharp"
    },
    "execution": {
     "iopub.execute_input": "2022-10-25T16:13:09.557286Z",
     "iopub.status.busy": "2022-10-25T16:13:09.556888Z",
     "iopub.status.idle": "2022-10-25T16:13:09.590319Z",
     "shell.execute_reply": "2022-10-25T16:13:09.589763Z"
    }
   },
   "outputs": [],
   "source": [
    "using Systemathics.Apis.Helpers;\n",
    "using Systemathics.Apis.Type.Shared.V1;\n",
    "using Systemathics.Apis.Services.StaticData.V1;\n",
    "using Google.Protobuf.WellKnownTypes;\n",
    "using Google.Type;\n",
    "using Grpc.Net.Client;\n",
    "using Grpc.Core;"
   ]
  },
  {
   "cell_type": "markdown",
   "id": "artificial-district",
   "metadata": {},
   "source": [
    "### Step 2: Prepare API requests\n",
    "The following code snippets retrieve authentication token and prepare the API request by: opening the *channel* and adding the *token* to the request header:"
   ]
  },
  {
   "cell_type": "code",
   "execution_count": 3,
   "id": "covered-mystery",
   "metadata": {
    "dotnet_interactive": {
     "language": "csharp"
    },
    "execution": {
     "iopub.execute_input": "2022-10-25T16:13:09.593200Z",
     "iopub.status.busy": "2022-10-25T16:13:09.592703Z",
     "iopub.status.idle": "2022-10-25T16:13:10.740548Z",
     "shell.execute_reply": "2022-10-25T16:13:10.740080Z"
    }
   },
   "outputs": [],
   "source": [
    "// Get token as metadata\n",
    "var headers = TokenHelpers.GetTokenAsMetaData();\n",
    "\n",
    "// Create communication channel\n",
    "var channel = ChannelHelpers.GetChannel();"
   ]
  },
  {
   "cell_type": "code",
   "execution_count": 4,
   "id": "noted-budget",
   "metadata": {
    "dotnet_interactive": {
     "language": "csharp"
    },
    "execution": {
     "iopub.execute_input": "2022-10-25T16:13:10.743609Z",
     "iopub.status.busy": "2022-10-25T16:13:10.742788Z",
     "iopub.status.idle": "2022-10-25T16:13:10.846809Z",
     "shell.execute_reply": "2022-10-25T16:13:10.846498Z"
    }
   },
   "outputs": [],
   "source": [
    "// instantiate the service\n",
    "var service = new StaticSectorService.StaticSectorServiceClient(channel);"
   ]
  },
  {
   "cell_type": "markdown",
   "id": "public-arcade",
   "metadata": {},
   "source": [
    "### Step 3: Retrieve sector classification from a level\n",
    "In this sample we retrieve the classification for a specific level"
   ]
  },
  {
   "cell_type": "markdown",
   "id": "governmental-calendar",
   "metadata": {},
   "source": [
    "#### 3.1: First example: level 0 of ICB"
   ]
  },
  {
   "cell_type": "code",
   "execution_count": 5,
   "id": "local-switzerland",
   "metadata": {
    "dotnet_interactive": {
     "language": "csharp"
    },
    "execution": {
     "iopub.execute_input": "2022-10-25T16:13:10.848973Z",
     "iopub.status.busy": "2022-10-25T16:13:10.848562Z",
     "iopub.status.idle": "2022-10-25T16:13:10.894808Z",
     "shell.execute_reply": "2022-10-25T16:13:10.894499Z"
    }
   },
   "outputs": [],
   "source": [
    "var provider = \"ICB\";\n",
    "var level = 0;"
   ]
  },
  {
   "cell_type": "code",
   "execution_count": 6,
   "id": "russian-hawaii",
   "metadata": {
    "dotnet_interactive": {
     "language": "csharp"
    },
    "execution": {
     "iopub.execute_input": "2022-10-25T16:13:10.896791Z",
     "iopub.status.busy": "2022-10-25T16:13:10.896457Z",
     "iopub.status.idle": "2022-10-25T16:13:11.422723Z",
     "shell.execute_reply": "2022-10-25T16:13:11.422404Z"
    }
   },
   "outputs": [
    {
     "data": {
      "text/html": [
       "<table><thead><tr><th>Data</th><th>Description</th><th>Count</th></tr></thead><tbody><tr><td><div class=\"dni-plaintext\">[ { { &quot;name&quot;: &quot;Technology&quot;, &quot;code&quot;: &quot;10&quot;, &quot;label&quot;: &quot;Industry&quot; }: Name: Technology, Index: 0, Code: 10, Definition: , Label: Industry }, { { &quot;name&quot;: &quot;Telecommunications&quot;, &quot;code&quot;: &quot;15&quot;, &quot;label&quot;: &quot;Industry&quot; }: Name: Telecommunications, Index: 0, Code: 15, Definition: , Label: Industry }, { { &quot;name&quot;: &quot;Health Care &quot;, &quot;code&quot;: &quot;20&quot;, &quot;label&quot;: &quot;Industry&quot; }: Name: Health Care , Index: 0, Code: 20, Definition: , Label: Industry }, { { &quot;name&quot;: &quot;Financials&quot;, &quot;code&quot;: &quot;30&quot;, &quot;label&quot;: &quot;Industry&quot; }: Name: Financials, Index: 0, Code: 30, Definition: , Label: Industry }, { { &quot;name&quot;: &quot;Real Estate&quot;, &quot;code&quot;: &quot;35&quot;, &quot;label&quot;: &quot;Industry&quot; }: Name: Real Estate, Index: 0, Code: 35, Definition: , Label: Industry }, { { &quot;name&quot;: &quot;Consumer Discretionary&quot;, &quot;code&quot;: &quot;40&quot;, &quot;label&quot;: &quot;Industry&quot; }: Name: Consumer Discretionary, Index: 0, Code: 40, Definition: , Label: Industry }, { { &quot;name&quot;: &quot;Consumer Staples &quot;, &quot;code&quot;: &quot;45&quot;, &quot;label&quot;: &quot;Industry&quot; }: Name: Consumer Staples , Index: 0, Code: 45, Definition: , Label: Industry }, { { &quot;name&quot;: &quot;Industrials&quot;, &quot;code&quot;: &quot;50&quot;, &quot;label&quot;: &quot;Industry&quot; }: Name: Industrials, Index: 0, Code: 50, Definition: , Label: Industry }, { { &quot;name&quot;: &quot;Basic Materials&quot;, &quot;code&quot;: &quot;55&quot;, &quot;label&quot;: &quot;Industry&quot; }: Name: Basic Materials, Index: 0, Code: 55, Definition: , Label: Industry }, { { &quot;name&quot;: &quot;Energy&quot;, &quot;code&quot;: &quot;60&quot;, &quot;label&quot;: &quot;Industry&quot; }: Name: Energy, Index: 0, Code: 60, Definition: , Label: Industry }, { { &quot;name&quot;: &quot;Utilities&quot;, &quot;code&quot;: &quot;65&quot;, &quot;label&quot;: &quot;Industry&quot; }: Name: Utilities, Index: 0, Code: 65, Definition: , Label: Industry } ]</div></td><td><div class=\"dni-plaintext\">Industry Classification Benchmark (ICB) is a comprehensive and rules based, transparent classification methodology based on research and market trends designed to support investment solutions. It was launched in 2005 and enhanced in 2019 with the integration of the Russell Global Sectors (RGS) classification scheme and additional structural enhancements.</div></td><td><div class=\"dni-plaintext\">4</div></td></tr></tbody></table>"
      ]
     },
     "metadata": {},
     "output_type": "display_data"
    }
   ],
   "source": [
    "// Generate request\n",
    "var request = new StaticSectorRequest\n",
    "{\n",
    "      Provider = provider,\n",
    "      Level = level\n",
    "};\n",
    "var reply = service.StaticSector(request, headers);\n",
    "display(reply)"
   ]
  },
  {
   "cell_type": "markdown",
   "id": "optional-difference",
   "metadata": {},
   "source": [
    "#### 3.2: Second example: level 3 of GICS"
   ]
  },
  {
   "cell_type": "code",
   "execution_count": 7,
   "id": "aggregate-bruce",
   "metadata": {
    "dotnet_interactive": {
     "language": "csharp"
    },
    "execution": {
     "iopub.execute_input": "2022-10-25T16:13:11.425039Z",
     "iopub.status.busy": "2022-10-25T16:13:11.424656Z",
     "iopub.status.idle": "2022-10-25T16:13:11.452424Z",
     "shell.execute_reply": "2022-10-25T16:13:11.452170Z"
    }
   },
   "outputs": [],
   "source": [
    "var provider = \"GICS\";\n",
    "var level = 3;"
   ]
  },
  {
   "cell_type": "code",
   "execution_count": 8,
   "id": "interested-pavilion",
   "metadata": {
    "dotnet_interactive": {
     "language": "csharp"
    },
    "execution": {
     "iopub.execute_input": "2022-10-25T16:13:11.454390Z",
     "iopub.status.busy": "2022-10-25T16:13:11.453992Z",
     "iopub.status.idle": "2022-10-25T16:13:11.511443Z",
     "shell.execute_reply": "2022-10-25T16:13:11.511119Z"
    }
   },
   "outputs": [
    {
     "data": {
      "text/html": [
       "<table><thead><tr><th>Data</th><th>Description</th><th>Count</th></tr></thead><tbody><tr><td><div class=\"dni-plaintext\">[ { { &quot;name&quot;: &quot;Oil &amp; Gas Drilling&quot;, &quot;index&quot;: 3, &quot;code&quot;: &quot;10101010&quot;, &quot;label&quot;: &quot;Sub-Industry&quot; }: Name: Oil &amp; Gas Drilling, Index: 3, Code: 10101010, Definition: , Label: Sub-Industry }, { { &quot;name&quot;: &quot;Oil &amp; Gas Equipment &amp; Services&quot;, &quot;index&quot;: 3, &quot;code&quot;: &quot;10101020&quot;, &quot;label&quot;: &quot;Sub-Industry&quot; }: Name: Oil &amp; Gas Equipment &amp; Services, Index: 3, Code: 10101020, Definition: , Label: Sub-Industry }, { { &quot;name&quot;: &quot;Integrated Oil &amp; Gas&quot;, &quot;index&quot;: 3, &quot;code&quot;: &quot;10102010&quot;, &quot;label&quot;: &quot;Sub-Industry&quot; }: Name: Integrated Oil &amp; Gas, Index: 3, Code: 10102010, Definition: , Label: Sub-Industry }, { { &quot;name&quot;: &quot;Oil &amp; Gas Exploration &amp; Production&quot;, &quot;index&quot;: 3, &quot;code&quot;: &quot;10102020&quot;, &quot;label&quot;: &quot;Sub-Industry&quot; }: Name: Oil &amp; Gas Exploration &amp; Production, Index: 3, Code: 10102020, Definition: , Label: Sub-Industry }, { { &quot;name&quot;: &quot;Oil &amp; Gas Refining &amp; Marketing&quot;, &quot;index&quot;: 3, &quot;code&quot;: &quot;10102030&quot;, &quot;label&quot;: &quot;Sub-Industry&quot; }: Name: Oil &amp; Gas Refining &amp; Marketing, Index: 3, Code: 10102030, Definition: , Label: Sub-Industry }, { { &quot;name&quot;: &quot;Oil &amp; Gas Storage &amp; Transportation&quot;, &quot;index&quot;: 3, &quot;code&quot;: &quot;10102040&quot;, &quot;label&quot;: &quot;Sub-Industry&quot; }: Name: Oil &amp; Gas Storage &amp; Transportation, Index: 3, Code: 10102040, Definition: , Label: Sub-Industry }, { { &quot;name&quot;: &quot;Coal &amp; Consumable Fuels&quot;, &quot;index&quot;: 3, &quot;code&quot;: &quot;10102050&quot;, &quot;label&quot;: &quot;Sub-Industry&quot; }: Name: Coal &amp; Consumable Fuels, Index: 3, Code: 10102050, Definition: , Label: Sub-Industry }, { { &quot;name&quot;: &quot;Commodity Chemicals&quot;, &quot;index&quot;: 3, &quot;code&quot;: &quot;15101010&quot;, &quot;label&quot;: &quot;Sub-Industry&quot; }: Name: Commodity Chemicals, Index: 3, Code: 15101010, Definition: , Label: Sub-Industry }, { { &quot;name&quot;: &quot;Diversified Chemicals&quot;, &quot;index&quot;: 3, &quot;code&quot;: &quot;15101020&quot;, &quot;label&quot;: &quot;Sub-Industry&quot; }: Name: Diversified Chemicals, Index: 3, Code: 15101020, Definition: , Label: Sub-Industry }, { { &quot;name&quot;: &quot;Fertilizers &amp; Agricultural Chemicals&quot;, &quot;index&quot;: 3, &quot;code&quot;: &quot;15101030&quot;, &quot;label&quot;: &quot;Sub-Industry&quot; }: Name: Fertilizers &amp; Agricultural Chemicals, Index: 3, Code: 15101030, Definition: , Label: Sub-Industry }, { { &quot;name&quot;: &quot;Industrial Gases&quot;, &quot;index&quot;: 3, &quot;code&quot;: &quot;15101040&quot;, &quot;label&quot;: &quot;Sub-Industry&quot; }: Name: Industrial Gases, Index: 3, Code: 15101040, Definition: , Label: Sub-Industry }, { { &quot;name&quot;: &quot;Specialty Chemicals&quot;, &quot;index&quot;: 3, &quot;code&quot;: &quot;15101050&quot;, &quot;label&quot;: &quot;Sub-Industry&quot; }: Name: Specialty Chemicals, Index: 3, Code: 15101050, Definition: , Label: Sub-Industry }, { { &quot;name&quot;: &quot;Construction Materials&quot;, &quot;index&quot;: 3, &quot;code&quot;: &quot;15102010&quot;, &quot;label&quot;: &quot;Sub-Industry&quot; }: Name: Construction Materials, Index: 3, Code: 15102010, Definition: , Label: Sub-Industry }, { { &quot;name&quot;: &quot;Metal &amp; Glass Containers&quot;, &quot;index&quot;: 3, &quot;code&quot;: &quot;15103010&quot;, &quot;label&quot;: &quot;Sub-Industry&quot; }: Name: Metal &amp; Glass Containers, Index: 3, Code: 15103010, Definition: , Label: Sub-Industry }, { { &quot;name&quot;: &quot;Paper Packaging&quot;, &quot;index&quot;: 3, &quot;code&quot;: &quot;15103020&quot;, &quot;label&quot;: &quot;Sub-Industry&quot; }: Name: Paper Packaging, Index: 3, Code: 15103020, Definition: , Label: Sub-Industry }, { { &quot;name&quot;: &quot;Aluminum&quot;, &quot;index&quot;: 3, &quot;code&quot;: &quot;15104010&quot;, &quot;label&quot;: &quot;Sub-Industry&quot; }: Name: Aluminum, Index: 3, Code: 15104010, Definition: , Label: Sub-Industry }, { { &quot;name&quot;: &quot;Diversified Metals &amp; Mining&quot;, &quot;index&quot;: 3, &quot;code&quot;: &quot;15104020&quot;, &quot;label&quot;: &quot;Sub-Industry&quot; }: Name: Diversified Metals &amp; Mining, Index: 3, Code: 15104020, Definition: , Label: Sub-Industry }, { { &quot;name&quot;: &quot;Copper&quot;, &quot;index&quot;: 3, &quot;code&quot;: &quot;15104025&quot;, &quot;label&quot;: &quot;Sub-Industry&quot; }: Name: Copper, Index: 3, Code: 15104025, Definition: , Label: Sub-Industry }, { { &quot;name&quot;: &quot;Gold&quot;, &quot;index&quot;: 3, &quot;code&quot;: &quot;15104030&quot;, &quot;label&quot;: &quot;Sub-Industry&quot; }: Name: Gold, Index: 3, Code: 15104030, Definition: , Label: Sub-Industry }, { { &quot;name&quot;: &quot;Precious Metals &amp; Minerals&quot;, &quot;index&quot;: 3, &quot;code&quot;: &quot;15104040&quot;, &quot;label&quot;: &quot;Sub-Industry&quot; }: Name: Precious Metals &amp; Minerals, Index: 3, Code: 15104040, Definition: , Label: Sub-Industry } ... (145 more) ]</div></td><td><div class=\"dni-plaintext\">In 1999, MSCI and S&amp;P Dow Jones Indices developed the Global Industry Classification Standard (GICS), seeking to offer an efficient investment tool to capture the breadth, depth and evolution of industry sectors.GICS is a four-tiered, hierarchical industry classification system. Companies are classified quantitatively and qualitatively.Each company is assigned a single GICS classification at the Sub-Industry level according to its principal business activity. MSCI and S&amp;P Dow Jones Indices use revenues as a key factor in determining a firm’s principal business activity. Earnings and market perception, however, are also recognized as important and relevant information for classification purposes, and are taken into account during the annual review process.</div></td><td><div class=\"dni-plaintext\">4</div></td></tr></tbody></table>"
      ]
     },
     "metadata": {},
     "output_type": "display_data"
    }
   ],
   "source": [
    "// Generate request\n",
    "var request = new StaticSectorRequest\n",
    "{\n",
    "      Provider = provider,\n",
    "      Level = level\n",
    "};\n",
    "var reply = service.StaticSector(request, headers);\n",
    "display(reply)"
   ]
  },
  {
   "cell_type": "markdown",
   "id": "black-friday",
   "metadata": {},
   "source": [
    "### Step 4: Retrieve sectors data from a specific code\n",
    "In this part we assume we have the code for a specific classification and we want to get the corresponding sector "
   ]
  },
  {
   "cell_type": "markdown",
   "id": "delayed-packing",
   "metadata": {},
   "source": [
    "#### 4.1: ICB"
   ]
  },
  {
   "cell_type": "code",
   "execution_count": 9,
   "id": "prostate-house",
   "metadata": {
    "dotnet_interactive": {
     "language": "csharp"
    },
    "execution": {
     "iopub.execute_input": "2022-10-25T16:13:11.513919Z",
     "iopub.status.busy": "2022-10-25T16:13:11.513392Z",
     "iopub.status.idle": "2022-10-25T16:13:11.539487Z",
     "shell.execute_reply": "2022-10-25T16:13:11.539059Z"
    }
   },
   "outputs": [],
   "source": [
    "var provider = \"ICB\";\n",
    "var code = \"30201025\";"
   ]
  },
  {
   "cell_type": "code",
   "execution_count": 10,
   "id": "restricted-twenty",
   "metadata": {
    "dotnet_interactive": {
     "language": "csharp"
    },
    "execution": {
     "iopub.execute_input": "2022-10-25T16:13:11.542248Z",
     "iopub.status.busy": "2022-10-25T16:13:11.541684Z",
     "iopub.status.idle": "2022-10-25T16:13:11.596625Z",
     "shell.execute_reply": "2022-10-25T16:13:11.596319Z"
    }
   },
   "outputs": [
    {
     "data": {
      "text/html": [
       "<table><thead><tr><th>Data</th><th>Description</th><th>Count</th></tr></thead><tbody><tr><td><div class=\"dni-plaintext\">[ { { &quot;name&quot;: &quot;Financials&quot;, &quot;code&quot;: &quot;30&quot;, &quot;label&quot;: &quot;Industry&quot; }: Name: Financials, Index: 0, Code: 30, Definition: , Label: Industry }, { { &quot;name&quot;: &quot;Financial Services &quot;, &quot;index&quot;: 1, &quot;code&quot;: &quot;3020&quot;, &quot;label&quot;: &quot;Supersector&quot; }: Name: Financial Services , Index: 1, Code: 3020, Definition: , Label: Supersector }, { { &quot;name&quot;: &quot;Finance and Credit Services&quot;, &quot;index&quot;: 2, &quot;code&quot;: &quot;302010&quot;, &quot;label&quot;: &quot;Sector&quot; }: Name: Finance and Credit Services, Index: 2, Code: 302010, Definition: , Label: Sector }, { { &quot;name&quot;: &quot;Mortgage Finance&quot;, &quot;index&quot;: 3, &quot;code&quot;: &quot;30201025&quot;, &quot;definition&quot;: &quot;Companies that provide mortgages, mortgage insurance and other related services &quot;, &quot;label&quot;: &quot;Subsector&quot; }: Name: Mortgage Finance, Index: 3, Code: 30201025, Definition: Companies that provide mortgages, mortgage insurance and other related services , Label: Subsector } ]</div></td><td><div class=\"dni-plaintext\">Industry Classification Benchmark (ICB) is a comprehensive and rules based, transparent classification methodology based on research and market trends designed to support investment solutions. It was launched in 2005 and enhanced in 2019 with the integration of the Russell Global Sectors (RGS) classification scheme and additional structural enhancements.</div></td><td><div class=\"dni-plaintext\">4</div></td></tr></tbody></table>"
      ]
     },
     "metadata": {},
     "output_type": "display_data"
    }
   ],
   "source": [
    "// Generate request\n",
    "var request = new StaticSectorRequest\n",
    "{\n",
    "      Provider = provider,\n",
    "      Code = code\n",
    "};\n",
    "var reply = service.StaticSector(request, headers);\n",
    "display(reply)"
   ]
  },
  {
   "cell_type": "code",
   "execution_count": 11,
   "id": "violent-ribbon",
   "metadata": {
    "dotnet_interactive": {
     "language": "csharp"
    },
    "execution": {
     "iopub.execute_input": "2022-10-25T16:13:11.599059Z",
     "iopub.status.busy": "2022-10-25T16:13:11.598619Z",
     "iopub.status.idle": "2022-10-25T16:13:11.674549Z",
     "shell.execute_reply": "2022-10-25T16:13:11.674132Z"
    }
   },
   "outputs": [
    {
     "data": {
      "text/html": [
       "<table><thead><tr><th><i>index</i></th><th>Name</th><th>Index</th><th>Code</th><th>Definition</th><th>Label</th></tr></thead><tbody><tr><td>0</td><td>Financials</td><td><div class=\"dni-plaintext\">0</div></td><td>30</td><td></td><td>Industry</td></tr><tr><td>1</td><td>Financial Services </td><td><div class=\"dni-plaintext\">1</div></td><td>3020</td><td></td><td>Supersector</td></tr><tr><td>2</td><td>Finance and Credit Services</td><td><div class=\"dni-plaintext\">2</div></td><td>302010</td><td></td><td>Sector</td></tr><tr><td>3</td><td>Mortgage Finance</td><td><div class=\"dni-plaintext\">3</div></td><td>30201025</td><td>Companies that provide mortgages, mortgage insurance and other related services </td><td>Subsector</td></tr></tbody></table>"
      ]
     },
     "metadata": {},
     "output_type": "display_data"
    }
   ],
   "source": [
    "// Displaying only the data for this example and the other ones\n",
    "display(reply.Data)"
   ]
  },
  {
   "cell_type": "markdown",
   "id": "wrong-xerox",
   "metadata": {},
   "source": [
    "#### 4.2: SIC"
   ]
  },
  {
   "cell_type": "code",
   "execution_count": 12,
   "id": "encouraging-sierra",
   "metadata": {
    "dotnet_interactive": {
     "language": "csharp"
    },
    "execution": {
     "iopub.execute_input": "2022-10-25T16:13:11.677153Z",
     "iopub.status.busy": "2022-10-25T16:13:11.676546Z",
     "iopub.status.idle": "2022-10-25T16:13:11.713454Z",
     "shell.execute_reply": "2022-10-25T16:13:11.713186Z"
    }
   },
   "outputs": [],
   "source": [
    "var provider = \"SIC\";\n",
    "var code = \"3577\";"
   ]
  },
  {
   "cell_type": "code",
   "execution_count": 13,
   "id": "impossible-antibody",
   "metadata": {
    "dotnet_interactive": {
     "language": "csharp"
    },
    "execution": {
     "iopub.execute_input": "2022-10-25T16:13:11.715927Z",
     "iopub.status.busy": "2022-10-25T16:13:11.715387Z",
     "iopub.status.idle": "2022-10-25T16:13:11.765692Z",
     "shell.execute_reply": "2022-10-25T16:13:11.765430Z"
    }
   },
   "outputs": [
    {
     "data": {
      "text/html": [
       "<table><thead><tr><th><i>index</i></th><th>Name</th><th>Index</th><th>Code</th><th>Definition</th><th>Label</th></tr></thead><tbody><tr><td>0</td><td>Technology</td><td><div class=\"dni-plaintext\">0</div></td><td>3577</td><td></td><td>Office</td></tr><tr><td>1</td><td>Computer Peripheral Equipment, Nec</td><td><div class=\"dni-plaintext\">1</div></td><td>3577</td><td></td><td>Industry</td></tr></tbody></table>"
      ]
     },
     "metadata": {},
     "output_type": "display_data"
    }
   ],
   "source": [
    "// Generate request\n",
    "var request = new StaticSectorRequest\n",
    "{\n",
    "      Provider = provider,\n",
    "      Code = code\n",
    "};\n",
    "var reply = service.StaticSector(request, headers);\n",
    "display(reply.Data)"
   ]
  },
  {
   "cell_type": "markdown",
   "id": "accredited-hopkins",
   "metadata": {},
   "source": [
    "#### 4.3: GICS"
   ]
  },
  {
   "cell_type": "code",
   "execution_count": 14,
   "id": "choice-miniature",
   "metadata": {
    "dotnet_interactive": {
     "language": "csharp"
    },
    "execution": {
     "iopub.execute_input": "2022-10-25T16:13:11.767965Z",
     "iopub.status.busy": "2022-10-25T16:13:11.767565Z",
     "iopub.status.idle": "2022-10-25T16:13:11.796445Z",
     "shell.execute_reply": "2022-10-25T16:13:11.796173Z"
    }
   },
   "outputs": [],
   "source": [
    "var provider = \"GICS\";\n",
    "var code = \"10102010\";"
   ]
  },
  {
   "cell_type": "code",
   "execution_count": 15,
   "id": "premier-maximum",
   "metadata": {
    "dotnet_interactive": {
     "language": "csharp"
    },
    "execution": {
     "iopub.execute_input": "2022-10-25T16:13:11.798524Z",
     "iopub.status.busy": "2022-10-25T16:13:11.798151Z",
     "iopub.status.idle": "2022-10-25T16:13:11.850204Z",
     "shell.execute_reply": "2022-10-25T16:13:11.849914Z"
    }
   },
   "outputs": [
    {
     "data": {
      "text/html": [
       "<table><thead><tr><th><i>index</i></th><th>Name</th><th>Index</th><th>Code</th><th>Definition</th><th>Label</th></tr></thead><tbody><tr><td>0</td><td>Energy</td><td><div class=\"dni-plaintext\">0</div></td><td>10</td><td></td><td>Sector</td></tr><tr><td>1</td><td>Energy</td><td><div class=\"dni-plaintext\">1</div></td><td>1010</td><td></td><td>Industry Group</td></tr><tr><td>2</td><td>Oil, Gas &amp; Consumable Fuels</td><td><div class=\"dni-plaintext\">2</div></td><td>101020</td><td></td><td>Industry</td></tr><tr><td>3</td><td>Integrated Oil &amp; Gas</td><td><div class=\"dni-plaintext\">3</div></td><td>10102010</td><td></td><td>Sub-Industry</td></tr></tbody></table>"
      ]
     },
     "metadata": {},
     "output_type": "display_data"
    }
   ],
   "source": [
    "// Generate request\n",
    "var request = new StaticSectorRequest\n",
    "{\n",
    "      Provider = provider,\n",
    "      Code = code\n",
    "};\n",
    "var reply = service.StaticSector(request, headers);\n",
    "display(reply.Data)"
   ]
  },
  {
   "cell_type": "markdown",
   "id": "quality-fiber",
   "metadata": {},
   "source": [
    "#### 4.4: TRBC\n",
    "This classification is organized in 5 levels"
   ]
  },
  {
   "cell_type": "code",
   "execution_count": 16,
   "id": "other-astrology",
   "metadata": {
    "dotnet_interactive": {
     "language": "csharp"
    },
    "execution": {
     "iopub.execute_input": "2022-10-25T16:13:11.852262Z",
     "iopub.status.busy": "2022-10-25T16:13:11.851884Z",
     "iopub.status.idle": "2022-10-25T16:13:11.878888Z",
     "shell.execute_reply": "2022-10-25T16:13:11.878636Z"
    }
   },
   "outputs": [],
   "source": [
    "var provider = \"TRBC\";\n",
    "var code = \"5020101010\";"
   ]
  },
  {
   "cell_type": "code",
   "execution_count": 17,
   "id": "eligible-reserve",
   "metadata": {
    "dotnet_interactive": {
     "language": "csharp"
    },
    "execution": {
     "iopub.execute_input": "2022-10-25T16:13:11.881169Z",
     "iopub.status.busy": "2022-10-25T16:13:11.880760Z",
     "iopub.status.idle": "2022-10-25T16:13:11.931760Z",
     "shell.execute_reply": "2022-10-25T16:13:11.931508Z"
    }
   },
   "outputs": [
    {
     "data": {
      "text/html": [
       "<table><thead><tr><th><i>index</i></th><th>Name</th><th>Index</th><th>Code</th><th>Definition</th><th>Label</th></tr></thead><tbody><tr><td>0</td><td>Energy</td><td><div class=\"dni-plaintext\">0</div></td><td>50</td><td></td><td>Economic Sector</td></tr><tr><td>1</td><td>Renewable Energy</td><td><div class=\"dni-plaintext\">1</div></td><td>5020</td><td></td><td>Business Sector</td></tr><tr><td>2</td><td>Renewable Energy</td><td><div class=\"dni-plaintext\">2</div></td><td>502010</td><td></td><td>Industry Group</td></tr><tr><td>3</td><td>Renewable Energy Equipment &amp; Services</td><td><div class=\"dni-plaintext\">3</div></td><td>50201010</td><td></td><td>Industry</td></tr><tr><td>4</td><td>Renewable Energy Equipment &amp; Services (NEC)</td><td><div class=\"dni-plaintext\">4</div></td><td>5020101010</td><td></td><td>Activity</td></tr></tbody></table>"
      ]
     },
     "metadata": {},
     "output_type": "display_data"
    }
   ],
   "source": [
    "// Generate request\n",
    "var request = new StaticSectorRequest\n",
    "{\n",
    "      Provider = provider,\n",
    "      Code = code\n",
    "};\n",
    "var reply = service.StaticSector(request, headers);\n",
    "display(reply.Data)"
   ]
  }
 ],
 "metadata": {
  "kernelspec": {
   "display_name": ".NET (C#)",
   "language": "C#",
   "name": ".net-csharp"
  },
  "language_info": {
   "file_extension": ".cs",
   "mimetype": "text/x-csharp",
   "name": "C#",
   "pygments_lexer": "csharp",
   "version": "10.0"
  }
 },
 "nbformat": 4,
 "nbformat_minor": 5
}
