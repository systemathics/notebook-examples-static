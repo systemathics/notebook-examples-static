{
 "cells": [
  {
   "cell_type": "markdown",
   "id": "considered-championship",
   "metadata": {},
   "source": [
    "# Generate CMA using tick data service - F#\n",
    "\n",
    "### Overview\n",
    "Moving averages smooth the price movements by filtering out the \"noise\" caused by short-term price fluctuations.They also form the building blocks for a wide range of technical indicators.\n",
    "\n",
    "Computing moving averages over a defined number of time periods is useful to:\n",
    "* identify the trend direction\n",
    "* determine support and resistance levels\n",
    "\n",
    "This sample demonstrates how to request and plot **on-demand** *cumulative moving average - CMA* from a tick data service.\n",
    "\n",
    "### Inputs/outputs\n",
    "Cumulative moving averages' requests require instrument's identifier, date time intervals and number of periods as per inputs.\n",
    "\n",
    "CMA is the average of all the data points.\n",
    "\n",
    "This sample shows how to plot a simple graph for basis technical analysis using an open source library. \n",
    "\n",
    "### Services used\n",
    "This sample uses *gRPC requests* in order to retrieve tick data from the hosted service. The queried endpoint in this script are:\n",
    "* *TickCmaService *: to directly retrieve tick cma data from the server\n",
    "\n",
    "### Packages required\n",
    "1. Systemathics packages:\n",
    "    * *Systemathics.Apis.Type.Shared.V1*\n",
    "    * *Systemathics.Apis.Services.TickAnalytics.V1*\n",
    "2. Open source packages\n",
    "    * *Google.Protobuf.WellKnownTypes*\n",
    "    * *Google.Type*\n",
    "    * *Grpc.Net.Client*\n",
    "    * *Grpc.Core*\n",
    "    * *XPlot.Plotly* as per display package\n",
    "\n",
    "***"
   ]
  },
  {
   "cell_type": "markdown",
   "id": "comparative-powell",
   "metadata": {},
   "source": [
    "# Run CMA sample"
   ]
  },
  {
   "cell_type": "markdown",
   "id": "capable-catering",
   "metadata": {},
   "source": [
    "### Step 1: Install packages"
   ]
  },
  {
   "cell_type": "code",
   "execution_count": 1,
   "id": "geographic-renewal",
   "metadata": {
    "dotnet_interactive": {
     "language": "fsharp"
    },
    "execution": {
     "iopub.execute_input": "2022-10-25T16:25:18.170853Z",
     "iopub.status.busy": "2022-10-25T16:25:18.162735Z",
     "iopub.status.idle": "2022-10-25T16:25:24.196624Z",
     "shell.execute_reply": "2022-10-25T16:25:24.190131Z"
    }
   },
   "outputs": [
    {
     "data": {
      "text/html": [
       "\n",
       "<div>\n",
       "    <div id='dotnet-interactive-this-cell-24131.Microsoft.DotNet.Interactive.Http.HttpPort' style='display: none'>\n",
       "        The below script needs to be able to find the current output cell; this is an easy method to get it.\n",
       "    </div>\n",
       "    <script type='text/javascript'>\n",
       "async function probeAddresses(probingAddresses) {\n",
       "    function timeout(ms, promise) {\n",
       "        return new Promise(function (resolve, reject) {\n",
       "            setTimeout(function () {\n",
       "                reject(new Error('timeout'))\n",
       "            }, ms)\n",
       "            promise.then(resolve, reject)\n",
       "        })\n",
       "    }\n",
       "\n",
       "    if (Array.isArray(probingAddresses)) {\n",
       "        for (let i = 0; i < probingAddresses.length; i++) {\n",
       "\n",
       "            let rootUrl = probingAddresses[i];\n",
       "\n",
       "            if (!rootUrl.endsWith('/')) {\n",
       "                rootUrl = `${rootUrl}/`;\n",
       "            }\n",
       "\n",
       "            try {\n",
       "                let response = await timeout(1000, fetch(`${rootUrl}discovery`, {\n",
       "                    method: 'POST',\n",
       "                    cache: 'no-cache',\n",
       "                    mode: 'cors',\n",
       "                    timeout: 1000,\n",
       "                    headers: {\n",
       "                        'Content-Type': 'text/plain'\n",
       "                    },\n",
       "                    body: probingAddresses[i]\n",
       "                }));\n",
       "\n",
       "                if (response.status == 200) {\n",
       "                    return rootUrl;\n",
       "                }\n",
       "            }\n",
       "            catch (e) { }\n",
       "        }\n",
       "    }\n",
       "}\n",
       "\n",
       "function loadDotnetInteractiveApi() {\n",
       "    probeAddresses([\"http://172.28.169.63:2412/\", \"http://127.0.0.1:2412/\"])\n",
       "        .then((root) => {\n",
       "        // use probing to find host url and api resources\n",
       "        // load interactive helpers and language services\n",
       "        let dotnetInteractiveRequire = require.config({\n",
       "        context: '24131.Microsoft.DotNet.Interactive.Http.HttpPort',\n",
       "                paths:\n",
       "            {\n",
       "                'dotnet-interactive': `${root}resources`\n",
       "                }\n",
       "        }) || require;\n",
       "\n",
       "            window.dotnetInteractiveRequire = dotnetInteractiveRequire;\n",
       "\n",
       "            window.configureRequireFromExtension = function(extensionName, extensionCacheBuster) {\n",
       "                let paths = {};\n",
       "                paths[extensionName] = `${root}extensions/${extensionName}/resources/`;\n",
       "                \n",
       "                let internalRequire = require.config({\n",
       "                    context: extensionCacheBuster,\n",
       "                    paths: paths,\n",
       "                    urlArgs: `cacheBuster=${extensionCacheBuster}`\n",
       "                    }) || require;\n",
       "\n",
       "                return internalRequire\n",
       "            };\n",
       "        \n",
       "            dotnetInteractiveRequire([\n",
       "                    'dotnet-interactive/dotnet-interactive'\n",
       "                ],\n",
       "                function (dotnet) {\n",
       "                    dotnet.init(window);\n",
       "                },\n",
       "                function (error) {\n",
       "                    console.log(error);\n",
       "                }\n",
       "            );\n",
       "        })\n",
       "        .catch(error => {console.log(error);});\n",
       "    }\n",
       "\n",
       "// ensure `require` is available globally\n",
       "if ((typeof(require) !==  typeof(Function)) || (typeof(require.config) !== typeof(Function))) {\n",
       "    let require_script = document.createElement('script');\n",
       "    require_script.setAttribute('src', 'https://cdnjs.cloudflare.com/ajax/libs/require.js/2.3.6/require.min.js');\n",
       "    require_script.setAttribute('type', 'text/javascript');\n",
       "    \n",
       "    \n",
       "    require_script.onload = function() {\n",
       "        loadDotnetInteractiveApi();\n",
       "    };\n",
       "\n",
       "    document.getElementsByTagName('head')[0].appendChild(require_script);\n",
       "}\n",
       "else {\n",
       "    loadDotnetInteractiveApi();\n",
       "}\n",
       "\n",
       "    </script>\n",
       "</div>"
      ]
     },
     "metadata": {},
     "output_type": "display_data"
    },
    {
     "data": {
      "text/html": [
       "<div><div><strong>Restore sources</strong><ul><li><span> file://~/.nuget/packages/</span></li><li><span> https://api.nuget.org/v3/index.json</span></li></ul></div><div></div><div><strong>Installed Packages</strong><ul><li><span>Systemathics.Apis, 0.13.2-pre</span></li><li><span>TaskBuilder.fs, 2.1.0</span></li><li><span>XPlot.Plotly.Interactive, 4.0.6</span></li></ul></div></div>"
      ]
     },
     "metadata": {},
     "output_type": "display_data"
    },
    {
     "data": {
      "text/markdown": [
       "Loading extensions from `XPlot.Plotly.Interactive.dll`"
      ]
     },
     "metadata": {},
     "output_type": "display_data"
    },
    {
     "data": {
      "text/markdown": [
       "Configuring PowerShell Kernel for XPlot.Plotly integration."
      ]
     },
     "metadata": {},
     "output_type": "display_data"
    },
    {
     "data": {
      "text/markdown": [
       "Installed support for XPlot.Plotly."
      ]
     },
     "metadata": {},
     "output_type": "display_data"
    }
   ],
   "source": [
    "#i \"nuget: file://~/.nuget/packages/\"\n",
    "#i \"nuget: https://api.nuget.org/v3/index.json\"\n",
    "#r \"nuget: Systemathics.Apis, 0.*-pre*\"\n",
    "#r \"nuget: XPlot.Plotly.Interactive\"\n",
    "#r \"nuget: TaskBuilder.fs\""
   ]
  },
  {
   "cell_type": "code",
   "execution_count": 2,
   "id": "determined-handbook",
   "metadata": {
    "dotnet_interactive": {
     "language": "fsharp"
    },
    "execution": {
     "iopub.execute_input": "2022-10-25T16:25:24.198944Z",
     "iopub.status.busy": "2022-10-25T16:25:24.198586Z",
     "iopub.status.idle": "2022-10-25T16:25:24.739665Z",
     "shell.execute_reply": "2022-10-25T16:25:24.739317Z"
    }
   },
   "outputs": [],
   "source": [
    "open Systemathics.Apis.Helpers\n",
    "open Systemathics.Apis.Type.Shared.V1\n",
    "open Systemathics.Apis.Services.TickAnalytics.V1\n",
    "open Google.Protobuf.WellKnownTypes\n",
    "open Google.Type\n",
    "open Grpc.Core\n",
    "open Grpc.Net.Client\n",
    "open XPlot.Plotly\n",
    "open XPlot.Plotly.Interactive"
   ]
  },
  {
   "cell_type": "markdown",
   "id": "encouraging-prompt",
   "metadata": {},
   "source": [
    "### Step 2: Prepare API requests\n",
    "The following code snippets retrieve authentication token and prepare the API request by: opening the *channel* and adding the *token* to the request header:"
   ]
  },
  {
   "cell_type": "code",
   "execution_count": 3,
   "id": "regional-valuable",
   "metadata": {
    "dotnet_interactive": {
     "language": "fsharp"
    },
    "execution": {
     "iopub.execute_input": "2022-10-25T16:25:24.742086Z",
     "iopub.status.busy": "2022-10-25T16:25:24.741741Z",
     "iopub.status.idle": "2022-10-25T16:25:25.324564Z",
     "shell.execute_reply": "2022-10-25T16:25:25.324334Z"
    }
   },
   "outputs": [],
   "source": [
    "// Get token as metadata\n",
    "let headers = TokenHelpers.GetTokenAsMetaData();\n",
    "\n",
    "// Create communication channel\n",
    "let channel = ChannelHelpers.GetChannel();"
   ]
  },
  {
   "cell_type": "markdown",
   "id": "another-drama",
   "metadata": {},
   "source": [
    "### Step 3: Create and process request\n",
    "To request *CMA* service, we need to specify:\n",
    "* Instrument identifier\n",
    "* Time period selection: select start and end dates\n",
    "* Cumulative moving average request parameters"
   ]
  },
  {
   "cell_type": "markdown",
   "id": "associate-pontiac",
   "metadata": {},
   "source": [
    "#### 3.1 Instrument selection"
   ]
  },
  {
   "cell_type": "code",
   "execution_count": 4,
   "id": "lined-concert",
   "metadata": {
    "dotnet_interactive": {
     "language": "fsharp"
    },
    "execution": {
     "iopub.execute_input": "2022-10-25T16:25:25.326618Z",
     "iopub.status.busy": "2022-10-25T16:25:25.326293Z",
     "iopub.status.idle": "2022-10-25T16:25:25.349668Z",
     "shell.execute_reply": "2022-10-25T16:25:25.349253Z"
    }
   },
   "outputs": [],
   "source": [
    "let ticker = \"AAPL\"\n",
    "let exchange = \"BATS\""
   ]
  },
  {
   "cell_type": "markdown",
   "id": "limiting-possibility",
   "metadata": {},
   "source": [
    "#### 3.2 CMA parameters"
   ]
  },
  {
   "cell_type": "code",
   "execution_count": 5,
   "id": "alert-royal",
   "metadata": {
    "dotnet_interactive": {
     "language": "fsharp"
    },
    "execution": {
     "iopub.execute_input": "2022-10-25T16:25:25.352606Z",
     "iopub.status.busy": "2022-10-25T16:25:25.352045Z",
     "iopub.status.idle": "2022-10-25T16:25:25.516803Z",
     "shell.execute_reply": "2022-10-25T16:25:25.516512Z"
    }
   },
   "outputs": [],
   "source": [
    "let field = CmaPrice.Trade\n",
    "let sampling = new Duration ( Seconds = 60L )"
   ]
  },
  {
   "cell_type": "markdown",
   "id": "unavailable-shadow",
   "metadata": {},
   "source": [
    "#### 3.3 Time period delimitation"
   ]
  },
  {
   "cell_type": "code",
   "execution_count": 6,
   "id": "informed-albuquerque",
   "metadata": {
    "dotnet_interactive": {
     "language": "fsharp"
    },
    "execution": {
     "iopub.execute_input": "2022-10-25T16:25:25.518977Z",
     "iopub.status.busy": "2022-10-25T16:25:25.518569Z",
     "iopub.status.idle": "2022-10-25T16:25:25.546043Z",
     "shell.execute_reply": "2022-10-25T16:25:25.545761Z"
    }
   },
   "outputs": [],
   "source": [
    "// Build the bars request date interval (we are using Google date time format : we have to cast the dates)\n",
    "let dateIntervals = \n",
    "  new DateInterval(\n",
    "    StartDate = new Date ( Year = 2020, Month = 02, Day = 18 ),\n",
    "    EndDate = new Date ( Year = 2020, Month = 02, Day = 18 )\n",
    "  )\n",
    "\n",
    "// Build the bars request time interval (we are using Google date time format : we have to cast the dates)\n",
    "// UTC time zone\n",
    "let timeInterval = \n",
    "  new TimeInterval(\n",
    "    StartTime = new TimeOfDay ( Hours = 08, Minutes = 00, Seconds = 00 ),\n",
    "    EndTime = new TimeOfDay ( Hours = 20, Minutes = 00, Seconds = 00 ) \n",
    "  )"
   ]
  },
  {
   "cell_type": "markdown",
   "id": "knowing-breast",
   "metadata": {},
   "source": [
    "#### 3.4 Request creation\n",
    "The following code snippets creates *gRPC client*, process request and returns the request reply:"
   ]
  },
  {
   "cell_type": "code",
   "execution_count": 7,
   "id": "numerical-yacht",
   "metadata": {
    "dotnet_interactive": {
     "language": "fsharp"
    },
    "execution": {
     "iopub.execute_input": "2022-10-25T16:25:25.548917Z",
     "iopub.status.busy": "2022-10-25T16:25:25.548572Z",
     "iopub.status.idle": "2022-10-25T16:25:25.650289Z",
     "shell.execute_reply": "2022-10-25T16:25:25.649899Z"
    }
   },
   "outputs": [],
   "source": [
    "// Generate constraints based on the previous time selection:\n",
    "let constraints = new Constraints()\n",
    "constraints.DateIntervals.Add(dateIntervals)\n",
    "constraints.TimeIntervals.Add(timeInterval)   "
   ]
  },
  {
   "cell_type": "markdown",
   "id": "basic-interim",
   "metadata": {},
   "source": [
    "The following code snippets create requests for: *Long SMA*, *Short SMA* and *Prices*:"
   ]
  },
  {
   "cell_type": "code",
   "execution_count": 8,
   "id": "clinical-purple",
   "metadata": {
    "dotnet_interactive": {
     "language": "fsharp"
    },
    "execution": {
     "iopub.execute_input": "2022-10-25T16:25:25.652702Z",
     "iopub.status.busy": "2022-10-25T16:25:25.652371Z",
     "iopub.status.idle": "2022-10-25T16:25:25.678470Z",
     "shell.execute_reply": "2022-10-25T16:25:25.678202Z"
    }
   },
   "outputs": [],
   "source": [
    "// Generate CMA request\n",
    "let request = \n",
    "    new TickCmaRequest(\n",
    "        Identifier = new Identifier ( Exchange = exchange, Ticker = ticker), \n",
    "        Constraints = constraints,  \n",
    "        Field = field,\n",
    "        Sampling = sampling\n",
    "    )\n",
    "\n",
    "// Instantiate the tick CMA service\n",
    "let service = new TickCmaService.TickCmaServiceClient(channel)"
   ]
  },
  {
   "cell_type": "markdown",
   "id": "annual-calvin",
   "metadata": {},
   "source": [
    "### Step 4: Visualize data"
   ]
  },
  {
   "cell_type": "markdown",
   "id": "incorporate-banana",
   "metadata": {},
   "source": [
    "#### 4.1 Retrieve CMA data"
   ]
  },
  {
   "cell_type": "code",
   "execution_count": 9,
   "id": "worldwide-cotton",
   "metadata": {
    "dotnet_interactive": {
     "language": "fsharp"
    },
    "execution": {
     "iopub.execute_input": "2022-10-25T16:25:25.680683Z",
     "iopub.status.busy": "2022-10-25T16:25:25.680327Z",
     "iopub.status.idle": "2022-10-25T16:25:26.666953Z",
     "shell.execute_reply": "2022-10-25T16:25:26.666641Z"
    }
   },
   "outputs": [],
   "source": [
    "open FSharp.Control.Tasks.V2\n",
    "open System.Collections.Generic\n",
    "\n",
    "let iterAsync (t: IAsyncEnumerable<'T>) (f : 'T -> unit) =\n",
    "    let task = \n",
    "        task {\n",
    "            let e = t.GetAsyncEnumerator()\n",
    "            let mutable go = true\n",
    "            try\n",
    "                let! step = e.MoveNextAsync()\n",
    "                go <- step\n",
    "                while go do \n",
    "                    f e.Current\n",
    "                    let! step = e.MoveNextAsync()\n",
    "                    go <- step\n",
    "            finally\n",
    "                e.DisposeAsync().AsTask().Wait()\n",
    "        }\n",
    "    task.Wait()\n",
    "\n",
    "let cmas = new List<TickCmaResponse>()\n",
    "\n",
    "let call = service.TickCma(request, headers)\n",
    "let e = call.ResponseStream.ReadAllAsync()\n",
    "\n",
    "iterAsync e cmas.Add"
   ]
  },
  {
   "cell_type": "markdown",
   "id": "breathing-checkout",
   "metadata": {},
   "source": [
    "#### 4.4 Plot CMA and prices\n",
    "Plot CMA and prices request' results with the package of your choice.<br>*`XPlot.Plotly`* is used as per open source display package. Plot a simple line graph with the CMA data points and prices: "
   ]
  },
  {
   "cell_type": "code",
   "execution_count": 10,
   "id": "fifty-joining",
   "metadata": {
    "dotnet_interactive": {
     "language": "fsharp"
    },
    "execution": {
     "iopub.execute_input": "2022-10-25T16:25:26.669427Z",
     "iopub.status.busy": "2022-10-25T16:25:26.669068Z",
     "iopub.status.idle": "2022-10-25T16:25:27.079504Z",
     "shell.execute_reply": "2022-10-25T16:25:27.079260Z"
    }
   },
   "outputs": [
    {
     "data": {
      "text/html": [
       "<!DOCTYPE html>\n",
       "<div style=\"width: 1500px; height: 800px;\" id=\"b6ce0fb4-240c-4344-8f4c-aa872016ff5e\"></div><script type=\"text/javascript\">\n",
       "\n",
       "var renderPlotly = function() {\n",
       "    var xplotRequire = require.config({context:'xplot-3.0.1',paths:{plotly:'https://cdn.plot.ly/plotly-1.49.2.min'}}) || require;\n",
       "    xplotRequire(['plotly'], function(Plotly) { \n",
       "\n",
       "            var data = [{\"type\":\"scattergl\",\"x\":[],\"y\":[],\"mode\":\"lines\",\"name\":\"CMA\"},{\"type\":\"scattergl\",\"x\":[],\"y\":[],\"mode\":\"lines\",\"name\":\"Prices\"}];\n",
       "           var layout = {\"title\":\"CMA and prices for AAPL\",\"xaxis\":{\"title\":\"Time\",\"_isSubplotObj\":true},\"yaxis\":{\"title\":\"Price\",\"_isSubplotObj\":true}};\n",
       "           Plotly.newPlot('b6ce0fb4-240c-4344-8f4c-aa872016ff5e', data, layout);\n",
       "        \n",
       "});\n",
       "};\n",
       "// ensure `require` is available globally\n",
       "if ((typeof(require) !==  typeof(Function)) || (typeof(require.config) !== typeof(Function))) {\n",
       "    let require_script = document.createElement('script');\n",
       "    require_script.setAttribute('src', 'https://cdnjs.cloudflare.com/ajax/libs/require.js/2.3.6/require.min.js');\n",
       "    require_script.setAttribute('type', 'text/javascript');\n",
       "    \n",
       "    \n",
       "    require_script.onload = function() {\n",
       "        renderPlotly();\n",
       "    };\n",
       "\n",
       "    document.getElementsByTagName('head')[0].appendChild(require_script);\n",
       "}\n",
       "else {\n",
       "    renderPlotly();\n",
       "}\n",
       "\n",
       "</script>\n"
      ]
     },
     "metadata": {},
     "output_type": "display_data"
    }
   ],
   "source": [
    "// Plot simultaneously prices and cumulative moving averages\n",
    "[\n",
    "    new Scattergl(\n",
    "        name = \"CMA\",\n",
    "        mode = \"lines\",\n",
    "        x = (cmas |> Seq.map (fun l -> l.TimeStamp.ToDateTime())),\n",
    "        y = (cmas |> Seq.map (fun l -> l.Average))\n",
    "    )\n",
    "    new Scattergl(\n",
    "        name = \"Prices\",\n",
    "        mode = \"lines\",\n",
    "        x = (cmas |> Seq.map (fun l -> l.TimeStamp.ToDateTime())),\n",
    "        y = (cmas |> Seq.map (fun l -> l.Value))\n",
    "    )\n",
    "]\n",
    "|> Chart.Plot\n",
    "|> Chart.WithTitle $\"CMA and prices for {ticker}\"\n",
    "|> Chart.WithXTitle $\"Time\"\n",
    "|> Chart.WithYTitle \"Price\"\n",
    "|> Chart.WithWidth 1500\n",
    "|> Chart.WithHeight 800\n",
    "|> display"
   ]
  }
 ],
 "metadata": {
  "kernelspec": {
   "display_name": ".NET (F#)",
   "language": "F#",
   "name": ".net-fsharp"
  },
  "language_info": {
   "file_extension": ".fs",
   "mimetype": "text/x-fsharp",
   "name": "F#",
   "pygments_lexer": "fsharp",
   "version": "6.0"
  }
 },
 "nbformat": 4,
 "nbformat_minor": 5
}
