{
 "cells": [
  {
   "cell_type": "markdown",
   "id": "premier-suite",
   "metadata": {},
   "source": [
    "# Symbology mapping using dedicated service - F#\n",
    "\n",
    "### Overview\n",
    "Reference data encompasses a wide range of specification data about:\n",
    "* financial instrument such as asset class, symbol, maturity, etc.\n",
    "* counterparties such as issuer information.\n",
    "* pricing such as Open, high low and close prices.\n",
    "\n",
    "The challenge with reference data is that it tends to be sourced from multiple sources: internal, counterparties and providers.\n",
    "\n",
    "Reference data dedicated service is a result of various data sources and fields sourcing, validation, cross-checking and normalization.<br>\n",
    "\n",
    "This sample requests **on-demand** instrument's identifiers and enables fields mapping by calling a dedicated static data service, making available clean data.\n",
    "\n",
    "### Inputs/outputs\n",
    "Symbology mapping sample is designed to help you searching and requesting instrument's specification data by using a wide range of commonly used fields.\n",
    "* It takes instrument specification parameter(s) as per input filter and returns the *entries* matching the request.\n",
    "* The returned *entries* contain `instrument identifier` data\n",
    "\n",
    "The samples below expose several ways to query the reference data service in order to retrieve instrument identifier and fields. \n",
    "Please refer to any other scenario in order to discover how instrument identifier is used.\n",
    "\n",
    "### Services used\n",
    "This sample uses *gRPC requests* in order to retrieve reference data set of fields from the hosted service. The queried endpoint in this script are:\n",
    "* *StaticDataService*: to directly retrieve reference data objects from the server\n",
    "\n",
    "### Packages required\n",
    "1. Systemathics packages:\n",
    "    * *Systemathics.Apis.Type.Shared.V1*\n",
    "    * *Systemathics.Apis.Services.StaticData.V1*\n",
    "2. Open source packages\n",
    "    * *Google.Protobuf.WellKnownTypes*\n",
    "    * *Google.Type*\n",
    "    * *Grpc.Net.Client*\n",
    "    * *Grpc.Core*\n",
    "\n",
    "***"
   ]
  },
  {
   "cell_type": "markdown",
   "id": "substantial-vienna",
   "metadata": {},
   "source": [
    "# Run reference data queries"
   ]
  },
  {
   "cell_type": "markdown",
   "id": "inner-validity",
   "metadata": {},
   "source": [
    "### Step 1: Install packages"
   ]
  },
  {
   "cell_type": "code",
   "execution_count": 1,
   "id": "descending-camera",
   "metadata": {
    "dotnet_interactive": {
     "language": "fsharp"
    },
    "execution": {
     "iopub.execute_input": "2022-10-25T16:22:14.262617Z",
     "iopub.status.busy": "2022-10-25T16:22:14.254885Z",
     "iopub.status.idle": "2022-10-25T16:22:19.060018Z",
     "shell.execute_reply": "2022-10-25T16:22:19.052377Z"
    },
    "vscode": {
     "languageId": "dotnet-interactive.fsharp"
    }
   },
   "outputs": [
    {
     "data": {
      "text/html": [
       "\n",
       "<div>\n",
       "    <div id='dotnet-interactive-this-cell-22241.Microsoft.DotNet.Interactive.Http.HttpPort' style='display: none'>\n",
       "        The below script needs to be able to find the current output cell; this is an easy method to get it.\n",
       "    </div>\n",
       "    <script type='text/javascript'>\n",
       "async function probeAddresses(probingAddresses) {\n",
       "    function timeout(ms, promise) {\n",
       "        return new Promise(function (resolve, reject) {\n",
       "            setTimeout(function () {\n",
       "                reject(new Error('timeout'))\n",
       "            }, ms)\n",
       "            promise.then(resolve, reject)\n",
       "        })\n",
       "    }\n",
       "\n",
       "    if (Array.isArray(probingAddresses)) {\n",
       "        for (let i = 0; i < probingAddresses.length; i++) {\n",
       "\n",
       "            let rootUrl = probingAddresses[i];\n",
       "\n",
       "            if (!rootUrl.endsWith('/')) {\n",
       "                rootUrl = `${rootUrl}/`;\n",
       "            }\n",
       "\n",
       "            try {\n",
       "                let response = await timeout(1000, fetch(`${rootUrl}discovery`, {\n",
       "                    method: 'POST',\n",
       "                    cache: 'no-cache',\n",
       "                    mode: 'cors',\n",
       "                    timeout: 1000,\n",
       "                    headers: {\n",
       "                        'Content-Type': 'text/plain'\n",
       "                    },\n",
       "                    body: probingAddresses[i]\n",
       "                }));\n",
       "\n",
       "                if (response.status == 200) {\n",
       "                    return rootUrl;\n",
       "                }\n",
       "            }\n",
       "            catch (e) { }\n",
       "        }\n",
       "    }\n",
       "}\n",
       "\n",
       "function loadDotnetInteractiveApi() {\n",
       "    probeAddresses([\"http://172.28.169.63:1530/\", \"http://127.0.0.1:1530/\"])\n",
       "        .then((root) => {\n",
       "        // use probing to find host url and api resources\n",
       "        // load interactive helpers and language services\n",
       "        let dotnetInteractiveRequire = require.config({\n",
       "        context: '22241.Microsoft.DotNet.Interactive.Http.HttpPort',\n",
       "                paths:\n",
       "            {\n",
       "                'dotnet-interactive': `${root}resources`\n",
       "                }\n",
       "        }) || require;\n",
       "\n",
       "            window.dotnetInteractiveRequire = dotnetInteractiveRequire;\n",
       "\n",
       "            window.configureRequireFromExtension = function(extensionName, extensionCacheBuster) {\n",
       "                let paths = {};\n",
       "                paths[extensionName] = `${root}extensions/${extensionName}/resources/`;\n",
       "                \n",
       "                let internalRequire = require.config({\n",
       "                    context: extensionCacheBuster,\n",
       "                    paths: paths,\n",
       "                    urlArgs: `cacheBuster=${extensionCacheBuster}`\n",
       "                    }) || require;\n",
       "\n",
       "                return internalRequire\n",
       "            };\n",
       "        \n",
       "            dotnetInteractiveRequire([\n",
       "                    'dotnet-interactive/dotnet-interactive'\n",
       "                ],\n",
       "                function (dotnet) {\n",
       "                    dotnet.init(window);\n",
       "                },\n",
       "                function (error) {\n",
       "                    console.log(error);\n",
       "                }\n",
       "            );\n",
       "        })\n",
       "        .catch(error => {console.log(error);});\n",
       "    }\n",
       "\n",
       "// ensure `require` is available globally\n",
       "if ((typeof(require) !==  typeof(Function)) || (typeof(require.config) !== typeof(Function))) {\n",
       "    let require_script = document.createElement('script');\n",
       "    require_script.setAttribute('src', 'https://cdnjs.cloudflare.com/ajax/libs/require.js/2.3.6/require.min.js');\n",
       "    require_script.setAttribute('type', 'text/javascript');\n",
       "    \n",
       "    \n",
       "    require_script.onload = function() {\n",
       "        loadDotnetInteractiveApi();\n",
       "    };\n",
       "\n",
       "    document.getElementsByTagName('head')[0].appendChild(require_script);\n",
       "}\n",
       "else {\n",
       "    loadDotnetInteractiveApi();\n",
       "}\n",
       "\n",
       "    </script>\n",
       "</div>"
      ]
     },
     "metadata": {},
     "output_type": "display_data"
    },
    {
     "data": {
      "text/html": [
       "<div><div><strong>Restore sources</strong><ul><li><span> file://~/.nuget/packages/</span></li><li><span> https://api.nuget.org/v3/index.json</span></li></ul></div><div></div><div><strong>Installed Packages</strong><ul><li><span>Systemathics.Apis, 0.13.2-pre</span></li></ul></div></div>"
      ]
     },
     "metadata": {},
     "output_type": "display_data"
    }
   ],
   "source": [
    "#i \"nuget: file://~/.nuget/packages/\"\n",
    "#i \"nuget: https://api.nuget.org/v3/index.json\"\n",
    "#r \"nuget: Systemathics.Apis, 0.*-pre*\""
   ]
  },
  {
   "cell_type": "code",
   "execution_count": 2,
   "id": "upper-makeup",
   "metadata": {
    "dotnet_interactive": {
     "language": "fsharp"
    },
    "execution": {
     "iopub.execute_input": "2022-10-25T16:22:19.064878Z",
     "iopub.status.busy": "2022-10-25T16:22:19.062087Z",
     "iopub.status.idle": "2022-10-25T16:22:19.094582Z",
     "shell.execute_reply": "2022-10-25T16:22:19.094322Z"
    },
    "vscode": {
     "languageId": "dotnet-interactive.fsharp"
    }
   },
   "outputs": [],
   "source": [
    "open Systemathics.Apis.Helpers\n",
    "open Systemathics.Apis.Type.Shared.V1\n",
    "open Systemathics.Apis.Services.StaticData.V1\n",
    "open Google.Protobuf.WellKnownTypes\n",
    "open Google.Type\n",
    "open Grpc.Net.Client\n",
    "open Grpc.Core"
   ]
  },
  {
   "cell_type": "markdown",
   "id": "manufactured-potato",
   "metadata": {},
   "source": [
    "### Step 2: Prepare API requests\n",
    "The following code snippets retrieve authentication token and prepare the API request by: opening the *channel* and adding the *token* to the request header:"
   ]
  },
  {
   "cell_type": "code",
   "execution_count": 3,
   "id": "durable-fisher",
   "metadata": {
    "dotnet_interactive": {
     "language": "fsharp"
    },
    "execution": {
     "iopub.execute_input": "2022-10-25T16:22:19.096675Z",
     "iopub.status.busy": "2022-10-25T16:22:19.096329Z",
     "iopub.status.idle": "2022-10-25T16:22:19.689923Z",
     "shell.execute_reply": "2022-10-25T16:22:19.689638Z"
    },
    "vscode": {
     "languageId": "dotnet-interactive.fsharp"
    }
   },
   "outputs": [],
   "source": [
    "// Get token as metadata\n",
    "let headers = TokenHelpers.GetTokenAsMetaData();\n",
    "\n",
    "// Create communication channel\n",
    "let channel = ChannelHelpers.GetChannel();"
   ]
  },
  {
   "cell_type": "markdown",
   "id": "alert-video",
   "metadata": {},
   "source": [
    "### Step 3: Call reference data service"
   ]
  },
  {
   "cell_type": "code",
   "execution_count": 4,
   "id": "fantastic-reward",
   "metadata": {
    "dotnet_interactive": {
     "language": "fsharp"
    },
    "execution": {
     "iopub.execute_input": "2022-10-25T16:22:19.691907Z",
     "iopub.status.busy": "2022-10-25T16:22:19.691550Z",
     "iopub.status.idle": "2022-10-25T16:22:19.799376Z",
     "shell.execute_reply": "2022-10-25T16:22:19.799124Z"
    },
    "vscode": {
     "languageId": "dotnet-interactive.fsharp"
    }
   },
   "outputs": [],
   "source": [
    "// instantiate the service\n",
    "let service = new StaticDataService.StaticDataServiceClient(channel)"
   ]
  },
  {
   "cell_type": "markdown",
   "id": "rising-velvet",
   "metadata": {},
   "source": [
    "### Step 4: Create and process request"
   ]
  },
  {
   "cell_type": "markdown",
   "id": "gothic-shark",
   "metadata": {},
   "source": [
    "#### 4.1 Introduction\n",
    "The properties one can use as per filter field(s) in order to query the API for equities or futures are the following:\n",
    "* *Name*, *MIC*, *Ticker*, *Contract code*, *ISIN*, *Cusip*, *market data provider IDs*, etc.\n",
    "\n",
    "You can combine multiple filters in order to target more accurately your request. Combining filters act as a *AND* operator.\n",
    "\n",
    "The service returns *entries* matching the request filters.\n",
    "A reply contains two *arrays* dedicated for *futures* and *equities*. Keep in mind that these arrays might be empty depending on the query filters and the results.\n",
    "Other shared fields such as <i>`Name`</i> or <i>`Identifier`</i> are there to make it easier to identify the instrument needed (among possible other results).  \n",
    "Depending on the asset type, there might be additional fields for the aforementioned purpose.\n",
    "\n",
    "The following code snippets will expose the different ways to query for reference data, with different asset types and various parameters."
   ]
  },
  {
   "cell_type": "markdown",
   "id": "classified-parks",
   "metadata": {},
   "source": [
    "#### 4.2 Retrieve reference data - Equities\n",
    "\n",
    "To request for equities, the user must specify the AssetType as <i>`AssetType.Equity`</i> in the static data request."
   ]
  },
  {
   "cell_type": "markdown",
   "id": "retained-arrow",
   "metadata": {},
   "source": [
    "##### 4.2.1 Equity - by Name"
   ]
  },
  {
   "cell_type": "code",
   "execution_count": 5,
   "id": "alleged-filling",
   "metadata": {
    "dotnet_interactive": {
     "language": "fsharp"
    },
    "execution": {
     "iopub.execute_input": "2022-10-25T16:22:19.801584Z",
     "iopub.status.busy": "2022-10-25T16:22:19.801280Z",
     "iopub.status.idle": "2022-10-25T16:22:20.489678Z",
     "shell.execute_reply": "2022-10-25T16:22:20.489393Z"
    },
    "vscode": {
     "languageId": "dotnet-interactive.fsharp"
    }
   },
   "outputs": [
    {
     "data": {
      "text/html": [
       "<table><thead><tr><th><i>index</i></th><th>Identifier</th><th>Type</th><th>Primary</th><th>Operating</th><th>Name</th><th>Currency</th><th>Country</th><th>TickSizeRule</th><th>Index</th><th>Open</th><th>Close</th><th>TimeZone</th><th>LotSize</th><th>PointValue</th><th>Price</th><th>Volume</th><th>Time</th><th>Sources</th><th>Mapping</th><th>Bloomberg</th><th>..</th></tr></thead><tbody><tr><td>0</td><td><table><thead><tr><th>Exchange</th><th>Ticker</th><th>Provider</th></tr></thead><tbody><tr><td><div class=\"dni-plaintext\">XNGS</div></td><td><div class=\"dni-plaintext\">AAPL</div></td><td><div class=\"dni-plaintext\">&lt;null&gt;</div></td></tr></tbody></table></td><td>Equity</td><td>XNGS</td><td>XNAS</td><td>Apple Inc</td><td>USD</td><td>US</td><td><div class=\"dni-plaintext\">[ { { &quot;tick&quot;: 0.0001 }: Price: 0, Tick: 0.0001 }, { { &quot;price&quot;: 1, &quot;tick&quot;: 0.01 }: Price: 1, Tick: 0.01 } ]</div></td><td><div class=\"dni-plaintext\">[ Dow Jones, Nasdaq 100, Nasdaq Composite, Russell 1000, Russell 3000, Snp 500 ]</div></td><td><table><thead><tr><th>Seconds</th><th>Nanos</th></tr></thead><tbody><tr><td><div class=\"dni-plaintext\">0</div></td><td><div class=\"dni-plaintext\">0</div></td></tr></tbody></table></td><td><table><thead><tr><th>Seconds</th><th>Nanos</th></tr></thead><tbody><tr><td><div class=\"dni-plaintext\">0</div></td><td><div class=\"dni-plaintext\">0</div></td></tr></tbody></table></td><td></td><td><div class=\"dni-plaintext\">1</div></td><td><div class=\"dni-plaintext\">1</div></td><td><div class=\"dni-plaintext\">&lt;null&gt;</div></td><td><div class=\"dni-plaintext\">&lt;null&gt;</div></td><td><table><thead><tr><th>Year</th><th>Month</th><th>Day</th></tr></thead><tbody><tr><td><div class=\"dni-plaintext\">2022</div></td><td><div class=\"dni-plaintext\">10</div></td><td><div class=\"dni-plaintext\">24</div></td></tr></tbody></table></td><td><div class=\"dni-plaintext\">41</div></td><td><div class=\"dni-plaintext\">[ { [Yahoo, AAPL]: Key: Yahoo, Value: AAPL }, { [CIK, 0000320193]: Key: CIK, Value: 0000320193 }, { [FIGI, BBG000B9Y5X2]: Key: FIGI, Value: BBG000B9Y5X2 }, { [FIGIC, BBG000B9XRY4]: Key: FIGIC, Value: BBG000B9XRY4 }, { [Valoren, 908440]: Key: Valoren, Value: 908440 }, { [MorningStar, 0P000000GY]: Key: MorningStar, Value: 0P000000GY }, { [Esignal, AAPL]: Key: Esignal, Value: AAPL }, { [Idc|564, 564|AAPL]: Key: Idc|564, Value: 564|AAPL }, { [Figi, BBG000B9XRY4]: Key: Figi, Value: BBG000B9XRY4 }, { [Figic, BBG000B9XRY4]: Key: Figic, Value: BBG000B9XRY4 }, { [Bloomberg, AAPL US Equity]: Key: Bloomberg, Value: AAPL US Equity }, { [Reuters, AAPL.O]: Key: Reuters, Value: AAPL.O } ]</div></td><td>AAPL US Equity</td></tr><tr><td>1</td><td><table><thead><tr><th>Exchange</th><th>Ticker</th><th>Provider</th></tr></thead><tbody><tr><td><div class=\"dni-plaintext\">BATS</div></td><td><div class=\"dni-plaintext\">AAPL</div></td><td><div class=\"dni-plaintext\">&lt;null&gt;</div></td></tr></tbody></table></td><td>Equity</td><td>XNGS</td><td>XCBO</td><td>Apple Inc</td><td>USD</td><td>US</td><td><div class=\"dni-plaintext\">[ { { &quot;tick&quot;: 0.0001 }: Price: 0, Tick: 0.0001 }, { { &quot;price&quot;: 1, &quot;tick&quot;: 0.01 }: Price: 1, Tick: 0.01 } ]</div></td><td><div class=\"dni-plaintext\">[ Dow Jones, Nasdaq 100, Nasdaq Composite, Russell 1000, Russell 3000, Snp 500 ]</div></td><td><table><thead><tr><th>Seconds</th><th>Nanos</th></tr></thead><tbody><tr><td><div class=\"dni-plaintext\">34200</div></td><td><div class=\"dni-plaintext\">0</div></td></tr></tbody></table></td><td><table><thead><tr><th>Seconds</th><th>Nanos</th></tr></thead><tbody><tr><td><div class=\"dni-plaintext\">57600</div></td><td><div class=\"dni-plaintext\">0</div></td></tr></tbody></table></td><td>ET</td><td><div class=\"dni-plaintext\">1</div></td><td><div class=\"dni-plaintext\">1</div></td><td><div class=\"dni-plaintext\">144.96</div></td><td><div class=\"dni-plaintext\">3159611</div></td><td><table><thead><tr><th>Year</th><th>Month</th><th>Day</th></tr></thead><tbody><tr><td><div class=\"dni-plaintext\">2022</div></td><td><div class=\"dni-plaintext\">7</div></td><td><div class=\"dni-plaintext\">11</div></td></tr></tbody></table></td><td><div class=\"dni-plaintext\">1</div></td><td><div class=\"dni-plaintext\">[ { [Idc|729, 729|AAPL]: Key: Idc|729, Value: 729|AAPL }, { [Figi, BBG000B9Y6P9]: Key: Figi, Value: BBG000B9Y6P9 }, { [Figic, BBG000B9XRY4]: Key: Figic, Value: BBG000B9XRY4 }, { [Bloomberg, AAPL UF Equity]: Key: Bloomberg, Value: AAPL UF Equity } ]</div></td><td>AAPL UF Equity</td></tr><tr><td>2</td><td><table><thead><tr><th>Exchange</th><th>Ticker</th><th>Provider</th></tr></thead><tbody><tr><td><div class=\"dni-plaintext\">XNYS</div></td><td><div class=\"dni-plaintext\">APLE</div></td><td><div class=\"dni-plaintext\">&lt;null&gt;</div></td></tr></tbody></table></td><td>Equity</td><td>XNYS</td><td>XNYS</td><td>Apple Hospitality Reit Inc</td><td>USD</td><td>US</td><td><div class=\"dni-plaintext\">[ { { &quot;tick&quot;: 0.0001 }: Price: 0, Tick: 0.0001 }, { { &quot;price&quot;: 1, &quot;tick&quot;: 0.01 }: Price: 1, Tick: 0.01 } ]</div></td><td><div class=\"dni-plaintext\">[ Russell 2000, Russell 3000 ]</div></td><td><table><thead><tr><th>Seconds</th><th>Nanos</th></tr></thead><tbody><tr><td><div class=\"dni-plaintext\">0</div></td><td><div class=\"dni-plaintext\">0</div></td></tr></tbody></table></td><td><table><thead><tr><th>Seconds</th><th>Nanos</th></tr></thead><tbody><tr><td><div class=\"dni-plaintext\">0</div></td><td><div class=\"dni-plaintext\">0</div></td></tr></tbody></table></td><td></td><td><div class=\"dni-plaintext\">1</div></td><td><div class=\"dni-plaintext\">1</div></td><td><div class=\"dni-plaintext\">16.11</div></td><td><div class=\"dni-plaintext\">&lt;null&gt;</div></td><td><table><thead><tr><th>Year</th><th>Month</th><th>Day</th></tr></thead><tbody><tr><td><div class=\"dni-plaintext\">2022</div></td><td><div class=\"dni-plaintext\">10</div></td><td><div class=\"dni-plaintext\">24</div></td></tr></tbody></table></td><td><div class=\"dni-plaintext\">25</div></td><td><div class=\"dni-plaintext\">[ { [Idc|558, 558|APLE]: Key: Idc|558, Value: 558|APLE }, { [Figi, BBG006473QX9]: Key: Figi, Value: BBG006473QX9 }, { [Figic, BBG006473QX9]: Key: Figic, Value: BBG006473QX9 }, { [Bloomberg, APLE US Equity]: Key: Bloomberg, Value: APLE US Equity }, { [FIGI, BBG008P33727]: Key: FIGI, Value: BBG008P33727 }, { [FIGIC, BBG006473QX9]: Key: FIGIC, Value: BBG006473QX9 }, { [Valoren, 28266921]: Key: Valoren, Value: 28266921 }, { [CIK, 0001418121]: Key: CIK, Value: 0001418121 }, { [MorningStar, 0P000162G2]: Key: MorningStar, Value: 0P000162G2 }, { [Yahoo, APLE]: Key: Yahoo, Value: APLE } ]</div></td><td>APLE US Equity</td></tr><tr><td>3</td><td><table><thead><tr><th>Exchange</th><th>Ticker</th><th>Provider</th></tr></thead><tbody><tr><td><div class=\"dni-plaintext\">BATS</div></td><td><div class=\"dni-plaintext\">APLE</div></td><td><div class=\"dni-plaintext\">&lt;null&gt;</div></td></tr></tbody></table></td><td>Equity</td><td>XNYS</td><td>XCBO</td><td>Apple Hospitality Reit Inc</td><td>USD</td><td>US</td><td><div class=\"dni-plaintext\">[ { { &quot;tick&quot;: 0.0001 }: Price: 0, Tick: 0.0001 }, { { &quot;price&quot;: 1, &quot;tick&quot;: 0.01 }: Price: 1, Tick: 0.01 } ]</div></td><td><div class=\"dni-plaintext\">[ Russell 2000, Russell 3000 ]</div></td><td><table><thead><tr><th>Seconds</th><th>Nanos</th></tr></thead><tbody><tr><td><div class=\"dni-plaintext\">34200</div></td><td><div class=\"dni-plaintext\">0</div></td></tr></tbody></table></td><td><table><thead><tr><th>Seconds</th><th>Nanos</th></tr></thead><tbody><tr><td><div class=\"dni-plaintext\">57600</div></td><td><div class=\"dni-plaintext\">0</div></td></tr></tbody></table></td><td>ET</td><td><div class=\"dni-plaintext\">1</div></td><td><div class=\"dni-plaintext\">1</div></td><td><div class=\"dni-plaintext\">15.01</div></td><td><div class=\"dni-plaintext\">44277</div></td><td><table><thead><tr><th>Year</th><th>Month</th><th>Day</th></tr></thead><tbody><tr><td><div class=\"dni-plaintext\">2022</div></td><td><div class=\"dni-plaintext\">7</div></td><td><div class=\"dni-plaintext\">11</div></td></tr></tbody></table></td><td><div class=\"dni-plaintext\">1</div></td><td><div class=\"dni-plaintext\">[ { [Idc|729, 729|APLE]: Key: Idc|729, Value: 729|APLE }, { [Figi, BBG008P337J9]: Key: Figi, Value: BBG008P337J9 }, { [Figic, BBG006473QX9]: Key: Figic, Value: BBG006473QX9 }, { [Bloomberg, APLE UF Equity]: Key: Bloomberg, Value: APLE UF Equity } ]</div></td><td>APLE UF Equity</td></tr></tbody></table>"
      ]
     },
     "metadata": {},
     "output_type": "display_data"
    }
   ],
   "source": [
    "// Generate request\n",
    "let request = new StaticDataRequest(AssetType = AssetType.Equity, Name = \"Apple\")\n",
    "\n",
    "let reply = service.StaticData(request, headers)\n",
    "display(reply.Equities)"
   ]
  },
  {
   "cell_type": "markdown",
   "id": "touched-banks",
   "metadata": {},
   "source": [
    "##### 4.2.2 Equity - by MIC code"
   ]
  },
  {
   "cell_type": "code",
   "execution_count": 6,
   "id": "dietary-tennessee",
   "metadata": {
    "dotnet_interactive": {
     "language": "fsharp"
    },
    "execution": {
     "iopub.execute_input": "2022-10-25T16:22:20.491659Z",
     "iopub.status.busy": "2022-10-25T16:22:20.491344Z",
     "iopub.status.idle": "2022-10-25T16:22:20.581099Z",
     "shell.execute_reply": "2022-10-25T16:22:20.580834Z"
    },
    "vscode": {
     "languageId": "dotnet-interactive.fsharp"
    }
   },
   "outputs": [
    {
     "data": {
      "text/html": [
       "<table><thead><tr><th><i>index</i></th><th>Identifier</th><th>Type</th><th>Primary</th><th>Operating</th><th>Name</th><th>Currency</th><th>Country</th><th>TickSizeRule</th><th>Index</th><th>Open</th><th>Close</th><th>TimeZone</th><th>LotSize</th><th>PointValue</th><th>Price</th><th>Volume</th><th>Time</th><th>Sources</th><th>Mapping</th><th>Bloomberg</th><th>..</th></tr></thead><tbody><tr><td>0</td><td><table><thead><tr><th>Exchange</th><th>Ticker</th><th>Provider</th></tr></thead><tbody><tr><td><div class=\"dni-plaintext\">XNGS</div></td><td><div class=\"dni-plaintext\">RELL</div></td><td><div class=\"dni-plaintext\">&lt;null&gt;</div></td></tr></tbody></table></td><td>Equity</td><td>XNGS</td><td>XNAS</td><td>Richardson Electronics Ltd</td><td>USD</td><td>US</td><td><div class=\"dni-plaintext\">[ { { &quot;tick&quot;: 0.0001 }: Price: 0, Tick: 0.0001 }, { { &quot;price&quot;: 1, &quot;tick&quot;: 0.01 }: Price: 1, Tick: 0.01 } ]</div></td><td></td><td><table><thead><tr><th>Seconds</th><th>Nanos</th></tr></thead><tbody><tr><td><div class=\"dni-plaintext\">52200</div></td><td><div class=\"dni-plaintext\">0</div></td></tr></tbody></table></td><td><table><thead><tr><th>Seconds</th><th>Nanos</th></tr></thead><tbody><tr><td><div class=\"dni-plaintext\">75600</div></td><td><div class=\"dni-plaintext\">0</div></td></tr></tbody></table></td><td></td><td><div class=\"dni-plaintext\">1</div></td><td><div class=\"dni-plaintext\">1</div></td><td><div class=\"dni-plaintext\">&lt;null&gt;</div></td><td><div class=\"dni-plaintext\">&lt;null&gt;</div></td><td><table><thead><tr><th>Year</th><th>Month</th><th>Day</th></tr></thead><tbody><tr><td><div class=\"dni-plaintext\">2022</div></td><td><div class=\"dni-plaintext\">10</div></td><td><div class=\"dni-plaintext\">24</div></td></tr></tbody></table></td><td><div class=\"dni-plaintext\">29</div></td><td><div class=\"dni-plaintext\">[ { [Reuters, RELL.OQ]: Key: Reuters, Value: RELL.OQ }, { [CIK, 0000355948]: Key: CIK, Value: 0000355948 }, { [MorningStar, 0P000004OK]: Key: MorningStar, Value: 0P000004OK }, { [Esignal, RELL]: Key: Esignal, Value: RELL }, { [Idc|564, 564|RELL]: Key: Idc|564, Value: 564|RELL }, { [Figi, BBG000BS1WR4]: Key: Figi, Value: BBG000BS1WR4 }, { [Figic, BBG000BS1WR4]: Key: Figic, Value: BBG000BS1WR4 }, { [Bloomberg, RELL US Equity]: Key: Bloomberg, Value: RELL US Equity }, { [FIGI, BBG000BS24X8]: Key: FIGI, Value: BBG000BS24X8 }, { [FIGIC, BBG000BS1WR4]: Key: FIGIC, Value: BBG000BS1WR4 }, { [Valoren, 966560]: Key: Valoren, Value: 966560 } ]</div></td><td>RELL US Equity</td></tr><tr><td>1</td><td><table><thead><tr><th>Exchange</th><th>Ticker</th><th>Provider</th></tr></thead><tbody><tr><td><div class=\"dni-plaintext\">XNGS</div></td><td><div class=\"dni-plaintext\">IDXX</div></td><td><div class=\"dni-plaintext\">&lt;null&gt;</div></td></tr></tbody></table></td><td>Equity</td><td>XNGS</td><td>XNAS</td><td>Idexx Laboratories Inc</td><td>USD</td><td>US</td><td><div class=\"dni-plaintext\">[ { { &quot;tick&quot;: 0.0001 }: Price: 0, Tick: 0.0001 }, { { &quot;price&quot;: 1, &quot;tick&quot;: 0.01 }: Price: 1, Tick: 0.01 } ]</div></td><td><div class=\"dni-plaintext\">[ Nasdaq 100, Nasdaq Composite, Russell 1000, Russell 3000, Snp 500 ]</div></td><td><table><thead><tr><th>Seconds</th><th>Nanos</th></tr></thead><tbody><tr><td><div class=\"dni-plaintext\">0</div></td><td><div class=\"dni-plaintext\">0</div></td></tr></tbody></table></td><td><table><thead><tr><th>Seconds</th><th>Nanos</th></tr></thead><tbody><tr><td><div class=\"dni-plaintext\">0</div></td><td><div class=\"dni-plaintext\">0</div></td></tr></tbody></table></td><td></td><td><div class=\"dni-plaintext\">1</div></td><td><div class=\"dni-plaintext\">1</div></td><td><div class=\"dni-plaintext\">&lt;null&gt;</div></td><td><div class=\"dni-plaintext\">&lt;null&gt;</div></td><td><table><thead><tr><th>Year</th><th>Month</th><th>Day</th></tr></thead><tbody><tr><td><div class=\"dni-plaintext\">2022</div></td><td><div class=\"dni-plaintext\">10</div></td><td><div class=\"dni-plaintext\">24</div></td></tr></tbody></table></td><td><div class=\"dni-plaintext\">39</div></td><td><div class=\"dni-plaintext\">[ { [Reuters, IDXX.OQ]: Key: Reuters, Value: IDXX.OQ }, { [MorningStar, 0P000002TA]: Key: MorningStar, Value: 0P000002TA }, { [Yahoo, IDXX]: Key: Yahoo, Value: IDXX }, { [FIGI, BBG000BLS2X9]: Key: FIGI, Value: BBG000BLS2X9 }, { [FIGIC, BBG000BLRT07]: Key: FIGIC, Value: BBG000BLRT07 }, { [Valoren, 940695]: Key: Valoren, Value: 940695 }, { [CIK, 0000874716]: Key: CIK, Value: 0000874716 }, { [Esignal, IDXX]: Key: Esignal, Value: IDXX }, { [Idc|564, 564|IDXX]: Key: Idc|564, Value: 564|IDXX }, { [Figi, BBG000BLRT07]: Key: Figi, Value: BBG000BLRT07 }, { [Figic, BBG000BLRT07]: Key: Figic, Value: BBG000BLRT07 }, { [Bloomberg, IDXX US Equity]: Key: Bloomberg, Value: IDXX US Equity } ]</div></td><td>IDXX US Equity</td></tr><tr><td>2</td><td><table><thead><tr><th>Exchange</th><th>Ticker</th><th>Provider</th></tr></thead><tbody><tr><td><div class=\"dni-plaintext\">XNGS</div></td><td><div class=\"dni-plaintext\">SSRM</div></td><td><div class=\"dni-plaintext\">&lt;null&gt;</div></td></tr></tbody></table></td><td>Equity</td><td>XNGS</td><td>XNAS</td><td>Ssr Mining</td><td>USD</td><td></td><td><div class=\"dni-plaintext\">[ { { &quot;tick&quot;: 0.0001 }: Price: 0, Tick: 0.0001 }, { { &quot;price&quot;: 1, &quot;tick&quot;: 0.01 }: Price: 1, Tick: 0.01 } ]</div></td><td><div class=\"dni-plaintext\">[ Nasdaq Composite, Russell 1000, Russell 3000 ]</div></td><td><table><thead><tr><th>Seconds</th><th>Nanos</th></tr></thead><tbody><tr><td><div class=\"dni-plaintext\">0</div></td><td><div class=\"dni-plaintext\">0</div></td></tr></tbody></table></td><td><table><thead><tr><th>Seconds</th><th>Nanos</th></tr></thead><tbody><tr><td><div class=\"dni-plaintext\">0</div></td><td><div class=\"dni-plaintext\">0</div></td></tr></tbody></table></td><td></td><td><div class=\"dni-plaintext\">1</div></td><td><div class=\"dni-plaintext\">1</div></td><td><div class=\"dni-plaintext\">&lt;null&gt;</div></td><td><div class=\"dni-plaintext\">&lt;null&gt;</div></td><td><table><thead><tr><th>Year</th><th>Month</th><th>Day</th></tr></thead><tbody><tr><td><div class=\"dni-plaintext\">2022</div></td><td><div class=\"dni-plaintext\">10</div></td><td><div class=\"dni-plaintext\">24</div></td></tr></tbody></table></td><td><div class=\"dni-plaintext\">31</div></td><td><div class=\"dni-plaintext\">[ { [FIGI, BBG000C0S772]: Key: FIGI, Value: BBG000C0S772 }, { [FIGIC, BBG000C0RWX9]: Key: FIGIC, Value: BBG000C0RWX9 }, { [Valoren, 37752727]: Key: Valoren, Value: 37752727 }, { [Esignal, SSRM]: Key: Esignal, Value: SSRM }, { [Reuters, SSRM.OQ]: Key: Reuters, Value: SSRM.OQ }, { [Idc|564, 564|SSRM]: Key: Idc|564, Value: 564|SSRM }, { [Figi, BBG000C0RWX9]: Key: Figi, Value: BBG000C0RWX9 }, { [Figic, BBG000C0RWX9]: Key: Figic, Value: BBG000C0RWX9 }, { [Bloomberg, SSRM US Equity]: Key: Bloomberg, Value: SSRM US Equity }, { [Yahoo, SSRM]: Key: Yahoo, Value: SSRM } ]</div></td><td>SSRM US Equity</td></tr></tbody></table>"
      ]
     },
     "metadata": {},
     "output_type": "display_data"
    }
   ],
   "source": [
    "let request = \n",
    "  new StaticDataRequest(\n",
    "    AssetType = AssetType.Equity,\n",
    "    Exchange = \"XNGS\", \n",
    "    Count = 3, // Select the first elements\n",
    "    Start = 2 // Starting from element index\n",
    "  )\n",
    "\n",
    "let reply = service.StaticData(request, headers)\n",
    "display(reply.Equities)"
   ]
  },
  {
   "cell_type": "markdown",
   "id": "fallen-meditation",
   "metadata": {},
   "source": [
    "##### 4.2.3 Equity - by Ticker"
   ]
  },
  {
   "cell_type": "code",
   "execution_count": 7,
   "id": "enhanced-constraint",
   "metadata": {
    "dotnet_interactive": {
     "language": "fsharp"
    },
    "execution": {
     "iopub.execute_input": "2022-10-25T16:22:20.583209Z",
     "iopub.status.busy": "2022-10-25T16:22:20.582868Z",
     "iopub.status.idle": "2022-10-25T16:22:20.648051Z",
     "shell.execute_reply": "2022-10-25T16:22:20.647789Z"
    },
    "vscode": {
     "languageId": "dotnet-interactive.fsharp"
    }
   },
   "outputs": [
    {
     "data": {
      "text/html": [
       "<table><thead><tr><th><i>index</i></th><th>Identifier</th><th>Type</th><th>Primary</th><th>Operating</th><th>Name</th><th>Currency</th><th>Country</th><th>TickSizeRule</th><th>Index</th><th>Open</th><th>Close</th><th>TimeZone</th><th>LotSize</th><th>PointValue</th><th>Price</th><th>Volume</th><th>Time</th><th>Sources</th><th>Mapping</th><th>Bloomberg</th><th>..</th></tr></thead><tbody><tr><td>0</td><td><table><thead><tr><th>Exchange</th><th>Ticker</th><th>Provider</th></tr></thead><tbody><tr><td><div class=\"dni-plaintext\">XNGS</div></td><td><div class=\"dni-plaintext\">AAPL</div></td><td><div class=\"dni-plaintext\">&lt;null&gt;</div></td></tr></tbody></table></td><td>Equity</td><td>XNGS</td><td>XNAS</td><td>Apple Inc</td><td>USD</td><td>US</td><td><div class=\"dni-plaintext\">[ { { &quot;tick&quot;: 0.0001 }: Price: 0, Tick: 0.0001 }, { { &quot;price&quot;: 1, &quot;tick&quot;: 0.01 }: Price: 1, Tick: 0.01 } ]</div></td><td><div class=\"dni-plaintext\">[ Dow Jones, Nasdaq 100, Nasdaq Composite, Russell 1000, Russell 3000, Snp 500 ]</div></td><td><table><thead><tr><th>Seconds</th><th>Nanos</th></tr></thead><tbody><tr><td><div class=\"dni-plaintext\">0</div></td><td><div class=\"dni-plaintext\">0</div></td></tr></tbody></table></td><td><table><thead><tr><th>Seconds</th><th>Nanos</th></tr></thead><tbody><tr><td><div class=\"dni-plaintext\">0</div></td><td><div class=\"dni-plaintext\">0</div></td></tr></tbody></table></td><td></td><td><div class=\"dni-plaintext\">1</div></td><td><div class=\"dni-plaintext\">1</div></td><td><div class=\"dni-plaintext\">&lt;null&gt;</div></td><td><div class=\"dni-plaintext\">&lt;null&gt;</div></td><td><table><thead><tr><th>Year</th><th>Month</th><th>Day</th></tr></thead><tbody><tr><td><div class=\"dni-plaintext\">2022</div></td><td><div class=\"dni-plaintext\">10</div></td><td><div class=\"dni-plaintext\">24</div></td></tr></tbody></table></td><td><div class=\"dni-plaintext\">41</div></td><td><div class=\"dni-plaintext\">[ { [Yahoo, AAPL]: Key: Yahoo, Value: AAPL }, { [CIK, 0000320193]: Key: CIK, Value: 0000320193 }, { [FIGI, BBG000B9Y5X2]: Key: FIGI, Value: BBG000B9Y5X2 }, { [FIGIC, BBG000B9XRY4]: Key: FIGIC, Value: BBG000B9XRY4 }, { [Valoren, 908440]: Key: Valoren, Value: 908440 }, { [MorningStar, 0P000000GY]: Key: MorningStar, Value: 0P000000GY }, { [Esignal, AAPL]: Key: Esignal, Value: AAPL }, { [Idc|564, 564|AAPL]: Key: Idc|564, Value: 564|AAPL }, { [Figi, BBG000B9XRY4]: Key: Figi, Value: BBG000B9XRY4 }, { [Figic, BBG000B9XRY4]: Key: Figic, Value: BBG000B9XRY4 }, { [Bloomberg, AAPL US Equity]: Key: Bloomberg, Value: AAPL US Equity }, { [Reuters, AAPL.O]: Key: Reuters, Value: AAPL.O } ]</div></td><td>AAPL US Equity</td></tr><tr><td>1</td><td><table><thead><tr><th>Exchange</th><th>Ticker</th><th>Provider</th></tr></thead><tbody><tr><td><div class=\"dni-plaintext\">BATS</div></td><td><div class=\"dni-plaintext\">AAPL</div></td><td><div class=\"dni-plaintext\">&lt;null&gt;</div></td></tr></tbody></table></td><td>Equity</td><td>XNGS</td><td>XCBO</td><td>Apple Inc</td><td>USD</td><td>US</td><td><div class=\"dni-plaintext\">[ { { &quot;tick&quot;: 0.0001 }: Price: 0, Tick: 0.0001 }, { { &quot;price&quot;: 1, &quot;tick&quot;: 0.01 }: Price: 1, Tick: 0.01 } ]</div></td><td><div class=\"dni-plaintext\">[ Dow Jones, Nasdaq 100, Nasdaq Composite, Russell 1000, Russell 3000, Snp 500 ]</div></td><td><table><thead><tr><th>Seconds</th><th>Nanos</th></tr></thead><tbody><tr><td><div class=\"dni-plaintext\">34200</div></td><td><div class=\"dni-plaintext\">0</div></td></tr></tbody></table></td><td><table><thead><tr><th>Seconds</th><th>Nanos</th></tr></thead><tbody><tr><td><div class=\"dni-plaintext\">57600</div></td><td><div class=\"dni-plaintext\">0</div></td></tr></tbody></table></td><td>ET</td><td><div class=\"dni-plaintext\">1</div></td><td><div class=\"dni-plaintext\">1</div></td><td><div class=\"dni-plaintext\">144.96</div></td><td><div class=\"dni-plaintext\">3159611</div></td><td><table><thead><tr><th>Year</th><th>Month</th><th>Day</th></tr></thead><tbody><tr><td><div class=\"dni-plaintext\">2022</div></td><td><div class=\"dni-plaintext\">7</div></td><td><div class=\"dni-plaintext\">11</div></td></tr></tbody></table></td><td><div class=\"dni-plaintext\">1</div></td><td><div class=\"dni-plaintext\">[ { [Idc|729, 729|AAPL]: Key: Idc|729, Value: 729|AAPL }, { [Figi, BBG000B9Y6P9]: Key: Figi, Value: BBG000B9Y6P9 }, { [Figic, BBG000B9XRY4]: Key: Figic, Value: BBG000B9XRY4 }, { [Bloomberg, AAPL UF Equity]: Key: Bloomberg, Value: AAPL UF Equity } ]</div></td><td>AAPL UF Equity</td></tr></tbody></table>"
      ]
     },
     "metadata": {},
     "output_type": "display_data"
    }
   ],
   "source": [
    "let request = \n",
    "  new StaticDataRequest(\n",
    "    AssetType = AssetType.Equity,\n",
    "    Ticker = \"AAPL\"\n",
    "  )\n",
    "\n",
    "let reply = service.StaticData(request, headers)\n",
    "display(reply.Equities)"
   ]
  },
  {
   "cell_type": "markdown",
   "id": "terminal-administrator",
   "metadata": {},
   "source": [
    "##### 4.2.4 Equity - by Codes"
   ]
  },
  {
   "cell_type": "code",
   "execution_count": 8,
   "id": "seasonal-donor",
   "metadata": {
    "dotnet_interactive": {
     "language": "fsharp"
    },
    "execution": {
     "iopub.execute_input": "2022-10-25T16:22:20.650295Z",
     "iopub.status.busy": "2022-10-25T16:22:20.649894Z",
     "iopub.status.idle": "2022-10-25T16:22:20.738215Z",
     "shell.execute_reply": "2022-10-25T16:22:20.737967Z"
    },
    "vscode": {
     "languageId": "dotnet-interactive.fsharp"
    }
   },
   "outputs": [
    {
     "data": {
      "text/html": [
       "<table><thead><tr><th><i>index</i></th><th>Identifier</th><th>Type</th><th>Primary</th><th>Operating</th><th>Name</th><th>Currency</th><th>Country</th><th>TickSizeRule</th><th>Index</th><th>Open</th><th>Close</th><th>TimeZone</th><th>LotSize</th><th>PointValue</th><th>Price</th><th>Volume</th><th>Time</th><th>Sources</th><th>Mapping</th><th>Bloomberg</th><th>..</th></tr></thead><tbody><tr><td>0</td><td><table><thead><tr><th>Exchange</th><th>Ticker</th><th>Provider</th></tr></thead><tbody><tr><td><div class=\"dni-plaintext\">XNGS</div></td><td><div class=\"dni-plaintext\">AAPL</div></td><td><div class=\"dni-plaintext\">&lt;null&gt;</div></td></tr></tbody></table></td><td>Equity</td><td>XNGS</td><td>XNAS</td><td>Apple Inc</td><td>USD</td><td>US</td><td><div class=\"dni-plaintext\">[ { { &quot;tick&quot;: 0.0001 }: Price: 0, Tick: 0.0001 }, { { &quot;price&quot;: 1, &quot;tick&quot;: 0.01 }: Price: 1, Tick: 0.01 } ]</div></td><td><div class=\"dni-plaintext\">[ Dow Jones, Nasdaq 100, Nasdaq Composite, Russell 1000, Russell 3000, Snp 500 ]</div></td><td><table><thead><tr><th>Seconds</th><th>Nanos</th></tr></thead><tbody><tr><td><div class=\"dni-plaintext\">0</div></td><td><div class=\"dni-plaintext\">0</div></td></tr></tbody></table></td><td><table><thead><tr><th>Seconds</th><th>Nanos</th></tr></thead><tbody><tr><td><div class=\"dni-plaintext\">0</div></td><td><div class=\"dni-plaintext\">0</div></td></tr></tbody></table></td><td></td><td><div class=\"dni-plaintext\">1</div></td><td><div class=\"dni-plaintext\">1</div></td><td><div class=\"dni-plaintext\">&lt;null&gt;</div></td><td><div class=\"dni-plaintext\">&lt;null&gt;</div></td><td><table><thead><tr><th>Year</th><th>Month</th><th>Day</th></tr></thead><tbody><tr><td><div class=\"dni-plaintext\">2022</div></td><td><div class=\"dni-plaintext\">10</div></td><td><div class=\"dni-plaintext\">24</div></td></tr></tbody></table></td><td><div class=\"dni-plaintext\">41</div></td><td><div class=\"dni-plaintext\">[ { [Yahoo, AAPL]: Key: Yahoo, Value: AAPL }, { [CIK, 0000320193]: Key: CIK, Value: 0000320193 }, { [FIGI, BBG000B9Y5X2]: Key: FIGI, Value: BBG000B9Y5X2 }, { [FIGIC, BBG000B9XRY4]: Key: FIGIC, Value: BBG000B9XRY4 }, { [Valoren, 908440]: Key: Valoren, Value: 908440 }, { [MorningStar, 0P000000GY]: Key: MorningStar, Value: 0P000000GY }, { [Esignal, AAPL]: Key: Esignal, Value: AAPL }, { [Idc|564, 564|AAPL]: Key: Idc|564, Value: 564|AAPL }, { [Figi, BBG000B9XRY4]: Key: Figi, Value: BBG000B9XRY4 }, { [Figic, BBG000B9XRY4]: Key: Figic, Value: BBG000B9XRY4 }, { [Bloomberg, AAPL US Equity]: Key: Bloomberg, Value: AAPL US Equity }, { [Reuters, AAPL.O]: Key: Reuters, Value: AAPL.O } ]</div></td><td>AAPL US Equity</td></tr><tr><td>1</td><td><table><thead><tr><th>Exchange</th><th>Ticker</th><th>Provider</th></tr></thead><tbody><tr><td><div class=\"dni-plaintext\">BATS</div></td><td><div class=\"dni-plaintext\">AAPL</div></td><td><div class=\"dni-plaintext\">&lt;null&gt;</div></td></tr></tbody></table></td><td>Equity</td><td>XNGS</td><td>XCBO</td><td>Apple Inc</td><td>USD</td><td>US</td><td><div class=\"dni-plaintext\">[ { { &quot;tick&quot;: 0.0001 }: Price: 0, Tick: 0.0001 }, { { &quot;price&quot;: 1, &quot;tick&quot;: 0.01 }: Price: 1, Tick: 0.01 } ]</div></td><td><div class=\"dni-plaintext\">[ Dow Jones, Nasdaq 100, Nasdaq Composite, Russell 1000, Russell 3000, Snp 500 ]</div></td><td><table><thead><tr><th>Seconds</th><th>Nanos</th></tr></thead><tbody><tr><td><div class=\"dni-plaintext\">34200</div></td><td><div class=\"dni-plaintext\">0</div></td></tr></tbody></table></td><td><table><thead><tr><th>Seconds</th><th>Nanos</th></tr></thead><tbody><tr><td><div class=\"dni-plaintext\">57600</div></td><td><div class=\"dni-plaintext\">0</div></td></tr></tbody></table></td><td>ET</td><td><div class=\"dni-plaintext\">1</div></td><td><div class=\"dni-plaintext\">1</div></td><td><div class=\"dni-plaintext\">144.96</div></td><td><div class=\"dni-plaintext\">3159611</div></td><td><table><thead><tr><th>Year</th><th>Month</th><th>Day</th></tr></thead><tbody><tr><td><div class=\"dni-plaintext\">2022</div></td><td><div class=\"dni-plaintext\">7</div></td><td><div class=\"dni-plaintext\">11</div></td></tr></tbody></table></td><td><div class=\"dni-plaintext\">1</div></td><td><div class=\"dni-plaintext\">[ { [Idc|729, 729|AAPL]: Key: Idc|729, Value: 729|AAPL }, { [Figi, BBG000B9Y6P9]: Key: Figi, Value: BBG000B9Y6P9 }, { [Figic, BBG000B9XRY4]: Key: Figic, Value: BBG000B9XRY4 }, { [Bloomberg, AAPL UF Equity]: Key: Bloomberg, Value: AAPL UF Equity } ]</div></td><td>AAPL UF Equity</td></tr></tbody></table>"
      ]
     },
     "metadata": {},
     "output_type": "display_data"
    }
   ],
   "source": [
    "let request = \n",
    "  new StaticDataRequest(\n",
    "    AssetType = AssetType.Equity,\n",
    "    Code = \"US0378331005\" // ISIN code\n",
    "  )\n",
    "let reply = service.StaticData(request, headers)\n",
    "display(reply.Equities)"
   ]
  },
  {
   "cell_type": "code",
   "execution_count": 9,
   "id": "occasional-warehouse",
   "metadata": {
    "dotnet_interactive": {
     "language": "fsharp"
    },
    "execution": {
     "iopub.execute_input": "2022-10-25T16:22:20.740262Z",
     "iopub.status.busy": "2022-10-25T16:22:20.739934Z",
     "iopub.status.idle": "2022-10-25T16:22:20.804325Z",
     "shell.execute_reply": "2022-10-25T16:22:20.803766Z"
    },
    "vscode": {
     "languageId": "dotnet-interactive.fsharp"
    }
   },
   "outputs": [
    {
     "data": {
      "text/html": [
       "<table><thead><tr><th><i>index</i></th><th>Identifier</th><th>Type</th><th>Primary</th><th>Operating</th><th>Name</th><th>Currency</th><th>Country</th><th>TickSizeRule</th><th>Index</th><th>Open</th><th>Close</th><th>TimeZone</th><th>LotSize</th><th>PointValue</th><th>Price</th><th>Volume</th><th>Time</th><th>Sources</th><th>Mapping</th><th>Bloomberg</th><th>..</th></tr></thead><tbody><tr><td>0</td><td><table><thead><tr><th>Exchange</th><th>Ticker</th><th>Provider</th></tr></thead><tbody><tr><td><div class=\"dni-plaintext\">BATS</div></td><td><div class=\"dni-plaintext\">AAPL</div></td><td><div class=\"dni-plaintext\">&lt;null&gt;</div></td></tr></tbody></table></td><td>Equity</td><td>XNGS</td><td>XCBO</td><td>Apple Inc</td><td>USD</td><td>US</td><td><div class=\"dni-plaintext\">[ { { &quot;tick&quot;: 0.0001 }: Price: 0, Tick: 0.0001 }, { { &quot;price&quot;: 1, &quot;tick&quot;: 0.01 }: Price: 1, Tick: 0.01 } ]</div></td><td><div class=\"dni-plaintext\">[ Dow Jones, Nasdaq 100, Nasdaq Composite, Russell 1000, Russell 3000, Snp 500 ]</div></td><td><table><thead><tr><th>Seconds</th><th>Nanos</th></tr></thead><tbody><tr><td><div class=\"dni-plaintext\">34200</div></td><td><div class=\"dni-plaintext\">0</div></td></tr></tbody></table></td><td><table><thead><tr><th>Seconds</th><th>Nanos</th></tr></thead><tbody><tr><td><div class=\"dni-plaintext\">57600</div></td><td><div class=\"dni-plaintext\">0</div></td></tr></tbody></table></td><td>ET</td><td><div class=\"dni-plaintext\">1</div></td><td><div class=\"dni-plaintext\">1</div></td><td><div class=\"dni-plaintext\">144.96</div></td><td><div class=\"dni-plaintext\">3159611</div></td><td><table><thead><tr><th>Year</th><th>Month</th><th>Day</th></tr></thead><tbody><tr><td><div class=\"dni-plaintext\">2022</div></td><td><div class=\"dni-plaintext\">7</div></td><td><div class=\"dni-plaintext\">11</div></td></tr></tbody></table></td><td><div class=\"dni-plaintext\">1</div></td><td><div class=\"dni-plaintext\">[ { [Idc|729, 729|AAPL]: Key: Idc|729, Value: 729|AAPL }, { [Figi, BBG000B9Y6P9]: Key: Figi, Value: BBG000B9Y6P9 }, { [Figic, BBG000B9XRY4]: Key: Figic, Value: BBG000B9XRY4 }, { [Bloomberg, AAPL UF Equity]: Key: Bloomberg, Value: AAPL UF Equity } ]</div></td><td>AAPL UF Equity</td></tr></tbody></table>"
      ]
     },
     "metadata": {},
     "output_type": "display_data"
    }
   ],
   "source": [
    "let request = \n",
    "  new StaticDataRequest(\n",
    "    AssetType = AssetType.Equity,\n",
    "    Code = \"BBG000B9Y6P9\" // Bloomberg Figi code\n",
    "  )\n",
    "\n",
    "let reply = service.StaticData(request, headers)\n",
    "display(reply.Equities)"
   ]
  },
  {
   "cell_type": "markdown",
   "id": "animated-trial",
   "metadata": {},
   "source": [
    "##### 4.2.5 Equity - by Ticker + MIC code"
   ]
  },
  {
   "cell_type": "code",
   "execution_count": 10,
   "id": "interested-reader",
   "metadata": {
    "dotnet_interactive": {
     "language": "fsharp"
    },
    "execution": {
     "iopub.execute_input": "2022-10-25T16:22:20.808679Z",
     "iopub.status.busy": "2022-10-25T16:22:20.807943Z",
     "iopub.status.idle": "2022-10-25T16:22:20.872255Z",
     "shell.execute_reply": "2022-10-25T16:22:20.872009Z"
    },
    "vscode": {
     "languageId": "dotnet-interactive.fsharp"
    }
   },
   "outputs": [
    {
     "data": {
      "text/html": [
       "<table><thead><tr><th><i>index</i></th><th>Identifier</th><th>Type</th><th>Primary</th><th>Operating</th><th>Name</th><th>Currency</th><th>Country</th><th>TickSizeRule</th><th>Index</th><th>Open</th><th>Close</th><th>TimeZone</th><th>LotSize</th><th>PointValue</th><th>Price</th><th>Volume</th><th>Time</th><th>Sources</th><th>Mapping</th><th>Bloomberg</th><th>..</th></tr></thead><tbody><tr><td>0</td><td><table><thead><tr><th>Exchange</th><th>Ticker</th><th>Provider</th></tr></thead><tbody><tr><td><div class=\"dni-plaintext\">BATS</div></td><td><div class=\"dni-plaintext\">AAPL</div></td><td><div class=\"dni-plaintext\">&lt;null&gt;</div></td></tr></tbody></table></td><td>Equity</td><td>XNGS</td><td>XCBO</td><td>Apple Inc</td><td>USD</td><td>US</td><td><div class=\"dni-plaintext\">[ { { &quot;tick&quot;: 0.0001 }: Price: 0, Tick: 0.0001 }, { { &quot;price&quot;: 1, &quot;tick&quot;: 0.01 }: Price: 1, Tick: 0.01 } ]</div></td><td><div class=\"dni-plaintext\">[ Dow Jones, Nasdaq 100, Nasdaq Composite, Russell 1000, Russell 3000, Snp 500 ]</div></td><td><table><thead><tr><th>Seconds</th><th>Nanos</th></tr></thead><tbody><tr><td><div class=\"dni-plaintext\">34200</div></td><td><div class=\"dni-plaintext\">0</div></td></tr></tbody></table></td><td><table><thead><tr><th>Seconds</th><th>Nanos</th></tr></thead><tbody><tr><td><div class=\"dni-plaintext\">57600</div></td><td><div class=\"dni-plaintext\">0</div></td></tr></tbody></table></td><td>ET</td><td><div class=\"dni-plaintext\">1</div></td><td><div class=\"dni-plaintext\">1</div></td><td><div class=\"dni-plaintext\">144.96</div></td><td><div class=\"dni-plaintext\">3159611</div></td><td><table><thead><tr><th>Year</th><th>Month</th><th>Day</th></tr></thead><tbody><tr><td><div class=\"dni-plaintext\">2022</div></td><td><div class=\"dni-plaintext\">7</div></td><td><div class=\"dni-plaintext\">11</div></td></tr></tbody></table></td><td><div class=\"dni-plaintext\">1</div></td><td><div class=\"dni-plaintext\">[ { [Idc|729, 729|AAPL]: Key: Idc|729, Value: 729|AAPL }, { [Figi, BBG000B9Y6P9]: Key: Figi, Value: BBG000B9Y6P9 }, { [Figic, BBG000B9XRY4]: Key: Figic, Value: BBG000B9XRY4 }, { [Bloomberg, AAPL UF Equity]: Key: Bloomberg, Value: AAPL UF Equity } ]</div></td><td>AAPL UF Equity</td></tr></tbody></table>"
      ]
     },
     "metadata": {},
     "output_type": "display_data"
    }
   ],
   "source": [
    "// The service also enables to query with multiple filters as follows\n",
    "let request = \n",
    "  new StaticDataRequest(\n",
    "    AssetType = AssetType.Equity,\n",
    "    Ticker = \"AAPL\",\n",
    "    Exchange = \"BATS\"\n",
    "  )\n",
    "\n",
    "let reply = service.StaticData(request, headers)\n",
    "display(reply.Equities)"
   ]
  },
  {
   "cell_type": "markdown",
   "id": "distant-rainbow",
   "metadata": {},
   "source": [
    "##### 4.2.6 Equity - index components"
   ]
  },
  {
   "cell_type": "code",
   "execution_count": 11,
   "id": "crude-multimedia",
   "metadata": {
    "dotnet_interactive": {
     "language": "fsharp"
    },
    "execution": {
     "iopub.execute_input": "2022-10-25T16:22:20.874115Z",
     "iopub.status.busy": "2022-10-25T16:22:20.873803Z",
     "iopub.status.idle": "2022-10-25T16:22:20.947134Z",
     "shell.execute_reply": "2022-10-25T16:22:20.946880Z"
    },
    "vscode": {
     "languageId": "dotnet-interactive.fsharp"
    }
   },
   "outputs": [
    {
     "data": {
      "text/html": [
       "<table><thead><tr><th><i>index</i></th><th>Identifier</th><th>Type</th><th>Primary</th><th>Operating</th><th>Name</th><th>Currency</th><th>Country</th><th>TickSizeRule</th><th>Index</th><th>Open</th><th>Close</th><th>TimeZone</th><th>LotSize</th><th>PointValue</th><th>Price</th><th>Volume</th><th>Time</th><th>Sources</th><th>Mapping</th><th>Bloomberg</th><th>..</th></tr></thead><tbody><tr><td>0</td><td><table><thead><tr><th>Exchange</th><th>Ticker</th><th>Provider</th></tr></thead><tbody><tr><td><div class=\"dni-plaintext\">XLON</div></td><td><div class=\"dni-plaintext\">0XHS</div></td><td><div class=\"dni-plaintext\">&lt;null&gt;</div></td></tr></tbody></table></td><td>Equity</td><td>XLOM</td><td>XLON</td><td>Liberty Global Plc Liberty Global Ord Shs Class C</td><td>USD</td><td>GB</td><td><div class=\"dni-plaintext\">[ { { &quot;tick&quot;: 0.0005 }: Price: 0, Tick: 0.0005 }, { { &quot;price&quot;: 1, &quot;tick&quot;: 0.01 }: Price: 1, Tick: 0.01 }, { { &quot;price&quot;: 2, &quot;tick&quot;: 0.02 }: Price: 2, Tick: 0.02 }, { { &quot;price&quot;: 5, &quot;tick&quot;: 0.05 }: Price: 5, Tick: 0.05 }, { { &quot;price&quot;: 10, &quot;tick&quot;: 0.1 }: Price: 10, Tick: 0.1 }, { { &quot;price&quot;: 20, &quot;tick&quot;: 0.2 }: Price: 20, Tick: 0.2 }, { { &quot;price&quot;: 50, &quot;tick&quot;: 0.5 }: Price: 50, Tick: 0.5 }, { { &quot;price&quot;: 100, &quot;tick&quot;: 1 }: Price: 100, Tick: 1 }, { { &quot;price&quot;: 200, &quot;tick&quot;: 2 }: Price: 200, Tick: 2 }, { { &quot;price&quot;: 500, &quot;tick&quot;: 5 }: Price: 500, Tick: 5 }, { { &quot;price&quot;: 1000, &quot;tick&quot;: 10 }: Price: 1000, Tick: 10 }, { { &quot;price&quot;: 2000, &quot;tick&quot;: 20 }: Price: 2000, Tick: 20 }, { { &quot;price&quot;: 5000, &quot;tick&quot;: 50 }: Price: 5000, Tick: 50 }, { { &quot;price&quot;: 10000, &quot;tick&quot;: 100 }: Price: 10000, Tick: 100 }, { { &quot;price&quot;: 20000, &quot;tick&quot;: 200 }: Price: 20000, Tick: 200 }, { { &quot;price&quot;: 50000, &quot;tick&quot;: 500 }: Price: 50000, Tick: 500 } ]</div></td><td><div class=\"dni-plaintext\">[ Nasdaq 100 ]</div></td><td><table><thead><tr><th>Seconds</th><th>Nanos</th></tr></thead><tbody><tr><td><div class=\"dni-plaintext\">0</div></td><td><div class=\"dni-plaintext\">0</div></td></tr></tbody></table></td><td><table><thead><tr><th>Seconds</th><th>Nanos</th></tr></thead><tbody><tr><td><div class=\"dni-plaintext\">0</div></td><td><div class=\"dni-plaintext\">0</div></td></tr></tbody></table></td><td></td><td><div class=\"dni-plaintext\">1</div></td><td><div class=\"dni-plaintext\">1</div></td><td><div class=\"dni-plaintext\">22.885</div></td><td><div class=\"dni-plaintext\">&lt;null&gt;</div></td><td><table><thead><tr><th>Year</th><th>Month</th><th>Day</th></tr></thead><tbody><tr><td><div class=\"dni-plaintext\">2022</div></td><td><div class=\"dni-plaintext\">6</div></td><td><div class=\"dni-plaintext\">17</div></td></tr></tbody></table></td><td><div class=\"dni-plaintext\">1</div></td><td><div class=\"dni-plaintext\">[ { [Idc|627, 627|E:0XHS]: Key: Idc|627, Value: 627|E:0XHS }, { [Figi, BBG00JRQT544]: Key: Figi, Value: BBG00JRQT544 }, { [Figic, BBG00JRQT535]: Key: Figic, Value: BBG00JRQT535 }, { [Bloomberg, 0XHS LN Equity]: Key: Bloomberg, Value: 0XHS LN Equity } ]</div></td><td>0XHS LN Equity</td></tr><tr><td>1</td><td><table><thead><tr><th>Exchange</th><th>Ticker</th><th>Provider</th></tr></thead><tbody><tr><td><div class=\"dni-plaintext\">BATS</div></td><td><div class=\"dni-plaintext\">LILA</div></td><td><div class=\"dni-plaintext\">&lt;null&gt;</div></td></tr></tbody></table></td><td>Equity</td><td>XNGS</td><td>XCBO</td><td>Liberty Latin America Ltd</td><td>USD</td><td>BM</td><td><div class=\"dni-plaintext\">[ { { &quot;tick&quot;: 0.0001 }: Price: 0, Tick: 0.0001 }, { { &quot;price&quot;: 1, &quot;tick&quot;: 0.01 }: Price: 1, Tick: 0.01 } ]</div></td><td><div class=\"dni-plaintext\">[ Nasdaq 100 ]</div></td><td><table><thead><tr><th>Seconds</th><th>Nanos</th></tr></thead><tbody><tr><td><div class=\"dni-plaintext\">34200</div></td><td><div class=\"dni-plaintext\">0</div></td></tr></tbody></table></td><td><table><thead><tr><th>Seconds</th><th>Nanos</th></tr></thead><tbody><tr><td><div class=\"dni-plaintext\">57600</div></td><td><div class=\"dni-plaintext\">0</div></td></tr></tbody></table></td><td>ET</td><td><div class=\"dni-plaintext\">1</div></td><td><div class=\"dni-plaintext\">1</div></td><td><div class=\"dni-plaintext\">7</div></td><td><div class=\"dni-plaintext\">14423</div></td><td><table><thead><tr><th>Year</th><th>Month</th><th>Day</th></tr></thead><tbody><tr><td><div class=\"dni-plaintext\">2022</div></td><td><div class=\"dni-plaintext\">7</div></td><td><div class=\"dni-plaintext\">11</div></td></tr></tbody></table></td><td><div class=\"dni-plaintext\">1</div></td><td><div class=\"dni-plaintext\">[ { [Idc|729, 729|LILA]: Key: Idc|729, Value: 729|LILA }, { [Figi, BBG00JHP6H73]: Key: Figi, Value: BBG00JHP6H73 }, { [Figic, BBG00JHP6GP5]: Key: Figic, Value: BBG00JHP6GP5 }, { [Bloomberg, LILA UF Equity]: Key: Bloomberg, Value: LILA UF Equity } ]</div></td><td>LILA UF Equity</td></tr><tr><td>2</td><td><table><thead><tr><th>Exchange</th><th>Ticker</th><th>Provider</th></tr></thead><tbody><tr><td><div class=\"dni-plaintext\">XLON</div></td><td><div class=\"dni-plaintext\">0LQQ</div></td><td><div class=\"dni-plaintext\">&lt;null&gt;</div></td></tr></tbody></table></td><td>Equity</td><td>XLOM</td><td>XLON</td><td>Vodafone Group Plc Vodafone Group Adr Representing 10 Ord S</td><td>USD</td><td>US</td><td><div class=\"dni-plaintext\">[ { { &quot;tick&quot;: 0.0005 }: Price: 0, Tick: 0.0005 }, { { &quot;price&quot;: 1, &quot;tick&quot;: 0.01 }: Price: 1, Tick: 0.01 }, { { &quot;price&quot;: 2, &quot;tick&quot;: 0.02 }: Price: 2, Tick: 0.02 }, { { &quot;price&quot;: 5, &quot;tick&quot;: 0.05 }: Price: 5, Tick: 0.05 }, { { &quot;price&quot;: 10, &quot;tick&quot;: 0.1 }: Price: 10, Tick: 0.1 }, { { &quot;price&quot;: 20, &quot;tick&quot;: 0.2 }: Price: 20, Tick: 0.2 }, { { &quot;price&quot;: 50, &quot;tick&quot;: 0.5 }: Price: 50, Tick: 0.5 }, { { &quot;price&quot;: 100, &quot;tick&quot;: 1 }: Price: 100, Tick: 1 }, { { &quot;price&quot;: 200, &quot;tick&quot;: 2 }: Price: 200, Tick: 2 }, { { &quot;price&quot;: 500, &quot;tick&quot;: 5 }: Price: 500, Tick: 5 }, { { &quot;price&quot;: 1000, &quot;tick&quot;: 10 }: Price: 1000, Tick: 10 }, { { &quot;price&quot;: 2000, &quot;tick&quot;: 20 }: Price: 2000, Tick: 20 }, { { &quot;price&quot;: 5000, &quot;tick&quot;: 50 }: Price: 5000, Tick: 50 }, { { &quot;price&quot;: 10000, &quot;tick&quot;: 100 }: Price: 10000, Tick: 100 }, { { &quot;price&quot;: 20000, &quot;tick&quot;: 200 }: Price: 20000, Tick: 200 }, { { &quot;price&quot;: 50000, &quot;tick&quot;: 500 }: Price: 50000, Tick: 500 } ]</div></td><td><div class=\"dni-plaintext\">[ Nasdaq 100 ]</div></td><td><table><thead><tr><th>Seconds</th><th>Nanos</th></tr></thead><tbody><tr><td><div class=\"dni-plaintext\">0</div></td><td><div class=\"dni-plaintext\">0</div></td></tr></tbody></table></td><td><table><thead><tr><th>Seconds</th><th>Nanos</th></tr></thead><tbody><tr><td><div class=\"dni-plaintext\">0</div></td><td><div class=\"dni-plaintext\">0</div></td></tr></tbody></table></td><td></td><td><div class=\"dni-plaintext\">1</div></td><td><div class=\"dni-plaintext\">1</div></td><td><div class=\"dni-plaintext\">15.6</div></td><td><div class=\"dni-plaintext\">200353</div></td><td><table><thead><tr><th>Year</th><th>Month</th><th>Day</th></tr></thead><tbody><tr><td><div class=\"dni-plaintext\">2022</div></td><td><div class=\"dni-plaintext\">6</div></td><td><div class=\"dni-plaintext\">17</div></td></tr></tbody></table></td><td><div class=\"dni-plaintext\">1</div></td><td><div class=\"dni-plaintext\">[ { [Idc|627, 627|E:0LQQ]: Key: Idc|627, Value: 627|E:0LQQ }, { [Figi, BBG00JRYC698]: Key: Figi, Value: BBG00JRYC698 }, { [Figic, BBG00JRYC689]: Key: Figic, Value: BBG00JRYC689 }, { [Bloomberg, 0LQQ LN Equity]: Key: Bloomberg, Value: 0LQQ LN Equity } ]</div></td><td>0LQQ LN Equity</td></tr><tr><td>3</td><td><table><thead><tr><th>Exchange</th><th>Ticker</th><th>Provider</th></tr></thead><tbody><tr><td><div class=\"dni-plaintext\">XLON</div></td><td><div class=\"dni-plaintext\">0Y9S</div></td><td><div class=\"dni-plaintext\">&lt;null&gt;</div></td></tr></tbody></table></td><td>Equity</td><td>XLOM</td><td>XLON</td><td>Check Point Software Technologies L Check Point Software Technologies Ord Sh</td><td>USD</td><td>IL</td><td><div class=\"dni-plaintext\">[ { { &quot;tick&quot;: 0.0001 }: Price: 0, Tick: 0.0001 }, { { &quot;price&quot;: 1, &quot;tick&quot;: 0.0002 }: Price: 1, Tick: 0.0002 }, { { &quot;price&quot;: 2, &quot;tick&quot;: 0.0005 }: Price: 2, Tick: 0.0005 }, { { &quot;price&quot;: 5, &quot;tick&quot;: 0.001 }: Price: 5, Tick: 0.001 }, { { &quot;price&quot;: 10, &quot;tick&quot;: 0.002 }: Price: 10, Tick: 0.002 }, { { &quot;price&quot;: 20, &quot;tick&quot;: 0.005 }: Price: 20, Tick: 0.005 }, { { &quot;price&quot;: 50, &quot;tick&quot;: 0.01 }: Price: 50, Tick: 0.01 }, { { &quot;price&quot;: 100, &quot;tick&quot;: 0.02 }: Price: 100, Tick: 0.02 }, { { &quot;price&quot;: 200, &quot;tick&quot;: 0.05 }: Price: 200, Tick: 0.05 }, { { &quot;price&quot;: 500, &quot;tick&quot;: 0.1 }: Price: 500, Tick: 0.1 }, { { &quot;price&quot;: 1000, &quot;tick&quot;: 0.2 }: Price: 1000, Tick: 0.2 }, { { &quot;price&quot;: 2000, &quot;tick&quot;: 0.5 }: Price: 2000, Tick: 0.5 }, { { &quot;price&quot;: 5000, &quot;tick&quot;: 1 }: Price: 5000, Tick: 1 }, { { &quot;price&quot;: 10000, &quot;tick&quot;: 2 }: Price: 10000, Tick: 2 }, { { &quot;price&quot;: 20000, &quot;tick&quot;: 5 }: Price: 20000, Tick: 5 }, { { &quot;price&quot;: 50000, &quot;tick&quot;: 10 }: Price: 50000, Tick: 10 } ]</div></td><td><div class=\"dni-plaintext\">[ Nasdaq 100 ]</div></td><td><table><thead><tr><th>Seconds</th><th>Nanos</th></tr></thead><tbody><tr><td><div class=\"dni-plaintext\">0</div></td><td><div class=\"dni-plaintext\">0</div></td></tr></tbody></table></td><td><table><thead><tr><th>Seconds</th><th>Nanos</th></tr></thead><tbody><tr><td><div class=\"dni-plaintext\">0</div></td><td><div class=\"dni-plaintext\">0</div></td></tr></tbody></table></td><td></td><td><div class=\"dni-plaintext\">1</div></td><td><div class=\"dni-plaintext\">1</div></td><td><div class=\"dni-plaintext\">118.54</div></td><td><div class=\"dni-plaintext\">1</div></td><td><table><thead><tr><th>Year</th><th>Month</th><th>Day</th></tr></thead><tbody><tr><td><div class=\"dni-plaintext\">2022</div></td><td><div class=\"dni-plaintext\">6</div></td><td><div class=\"dni-plaintext\">17</div></td></tr></tbody></table></td><td><div class=\"dni-plaintext\">1</div></td><td><div class=\"dni-plaintext\">[ { [Idc|627, 627|E:0Y9S]: Key: Idc|627, Value: 627|E:0Y9S }, { [Figi, BBG00JRY94S6]: Key: Figi, Value: BBG00JRY94S6 }, { [Figic, BBG00JRY94R7]: Key: Figic, Value: BBG00JRY94R7 }, { [Bloomberg, 0Y9S LN Equity]: Key: Bloomberg, Value: 0Y9S LN Equity } ]</div></td><td>0Y9S LN Equity</td></tr><tr><td>4</td><td><table><thead><tr><th>Exchange</th><th>Ticker</th><th>Provider</th></tr></thead><tbody><tr><td><div class=\"dni-plaintext\">XNGS</div></td><td><div class=\"dni-plaintext\">LBTYB</div></td><td><div class=\"dni-plaintext\">&lt;null&gt;</div></td></tr></tbody></table></td><td>Equity</td><td>XNGS</td><td>XNAS</td><td>Liberty Global Plc Cl B</td><td>USD</td><td></td><td><div class=\"dni-plaintext\">[ { { &quot;tick&quot;: 0.0001 }: Price: 0, Tick: 0.0001 }, { { &quot;price&quot;: 1, &quot;tick&quot;: 0.01 }: Price: 1, Tick: 0.01 } ]</div></td><td><div class=\"dni-plaintext\">[ Nasdaq 100 ]</div></td><td><table><thead><tr><th>Seconds</th><th>Nanos</th></tr></thead><tbody><tr><td><div class=\"dni-plaintext\">0</div></td><td><div class=\"dni-plaintext\">0</div></td></tr></tbody></table></td><td><table><thead><tr><th>Seconds</th><th>Nanos</th></tr></thead><tbody><tr><td><div class=\"dni-plaintext\">0</div></td><td><div class=\"dni-plaintext\">0</div></td></tr></tbody></table></td><td></td><td><div class=\"dni-plaintext\">1</div></td><td><div class=\"dni-plaintext\">1</div></td><td><div class=\"dni-plaintext\">&lt;null&gt;</div></td><td><div class=\"dni-plaintext\">&lt;null&gt;</div></td><td><table><thead><tr><th>Year</th><th>Month</th><th>Day</th></tr></thead><tbody><tr><td><div class=\"dni-plaintext\">2022</div></td><td><div class=\"dni-plaintext\">10</div></td><td><div class=\"dni-plaintext\">24</div></td></tr></tbody></table></td><td><div class=\"dni-plaintext\">22</div></td><td><div class=\"dni-plaintext\">[ { [Yahoo, LBTYB]: Key: Yahoo, Value: LBTYB }, { [FIGI, BBG000H0TC48]: Key: FIGI, Value: BBG000H0TC48 }, { [FIGIC, BBG000H0RXR9]: Key: FIGIC, Value: BBG000H0RXR9 }, { [Valoren, 21613757]: Key: Valoren, Value: 21613757 }, { [CIK, 0001570585]: Key: CIK, Value: 0001570585 }, { [Reuters, LBTYB.OQ]: Key: Reuters, Value: LBTYB.OQ }, { [Idc|564, 564|LBTYB]: Key: Idc|564, Value: 564|LBTYB }, { [Figi, BBG000H0RXR9]: Key: Figi, Value: BBG000H0RXR9 }, { [Figic, BBG000H0RXR9]: Key: Figic, Value: BBG000H0RXR9 }, { [Bloomberg, LBTYB US Equity]: Key: Bloomberg, Value: LBTYB US Equity }, { [Esignal, LBTYB]: Key: Esignal, Value: LBTYB } ]</div></td><td>LBTYB US Equity</td></tr><tr><td>5</td><td><table><thead><tr><th>Exchange</th><th>Ticker</th><th>Provider</th></tr></thead><tbody><tr><td><div class=\"dni-plaintext\">BATS</div></td><td><div class=\"dni-plaintext\">LBTYA</div></td><td><div class=\"dni-plaintext\">&lt;null&gt;</div></td></tr></tbody></table></td><td>Equity</td><td>XNGS</td><td>XCBO</td><td>Liberty Global Plc</td><td>USD</td><td>GB</td><td><div class=\"dni-plaintext\">[ { { &quot;tick&quot;: 0.0001 }: Price: 0, Tick: 0.0001 }, { { &quot;price&quot;: 1, &quot;tick&quot;: 0.01 }: Price: 1, Tick: 0.01 } ]</div></td><td><div class=\"dni-plaintext\">[ Nasdaq 100 ]</div></td><td><table><thead><tr><th>Seconds</th><th>Nanos</th></tr></thead><tbody><tr><td><div class=\"dni-plaintext\">34200</div></td><td><div class=\"dni-plaintext\">0</div></td></tr></tbody></table></td><td><table><thead><tr><th>Seconds</th><th>Nanos</th></tr></thead><tbody><tr><td><div class=\"dni-plaintext\">57600</div></td><td><div class=\"dni-plaintext\">0</div></td></tr></tbody></table></td><td>ET</td><td><div class=\"dni-plaintext\">1</div></td><td><div class=\"dni-plaintext\">1</div></td><td><div class=\"dni-plaintext\">20.37</div></td><td><div class=\"dni-plaintext\">63503</div></td><td><table><thead><tr><th>Year</th><th>Month</th><th>Day</th></tr></thead><tbody><tr><td><div class=\"dni-plaintext\">2022</div></td><td><div class=\"dni-plaintext\">7</div></td><td><div class=\"dni-plaintext\">11</div></td></tr></tbody></table></td><td><div class=\"dni-plaintext\">1</div></td><td><div class=\"dni-plaintext\">[ { [Idc|729, 729|LBTYA]: Key: Idc|729, Value: 729|LBTYA }, { [Figi, BBG000H0RT16]: Key: Figi, Value: BBG000H0RT16 }, { [Figic, BBG000H0QBS7]: Key: Figic, Value: BBG000H0QBS7 }, { [Bloomberg, LBTYA UF Equity]: Key: Bloomberg, Value: LBTYA UF Equity } ]</div></td><td>LBTYA UF Equity</td></tr><tr><td>6</td><td><table><thead><tr><th>Exchange</th><th>Ticker</th><th>Provider</th></tr></thead><tbody><tr><td><div class=\"dni-plaintext\">BATS</div></td><td><div class=\"dni-plaintext\">LBTYB</div></td><td><div class=\"dni-plaintext\">&lt;null&gt;</div></td></tr></tbody></table></td><td>Equity</td><td>XNGS</td><td>XCBO</td><td>Liberty Global Plc</td><td>USD</td><td>GB</td><td><div class=\"dni-plaintext\">[ { { &quot;tick&quot;: 0.0001 }: Price: 0, Tick: 0.0001 }, { { &quot;price&quot;: 1, &quot;tick&quot;: 0.01 }: Price: 1, Tick: 0.01 } ]</div></td><td><div class=\"dni-plaintext\">[ Nasdaq 100 ]</div></td><td><table><thead><tr><th>Seconds</th><th>Nanos</th></tr></thead><tbody><tr><td><div class=\"dni-plaintext\">34200</div></td><td><div class=\"dni-plaintext\">0</div></td></tr></tbody></table></td><td><table><thead><tr><th>Seconds</th><th>Nanos</th></tr></thead><tbody><tr><td><div class=\"dni-plaintext\">57600</div></td><td><div class=\"dni-plaintext\">0</div></td></tr></tbody></table></td><td>ET</td><td><div class=\"dni-plaintext\">1</div></td><td><div class=\"dni-plaintext\">1</div></td><td><div class=\"dni-plaintext\">22.47</div></td><td><div class=\"dni-plaintext\">&lt;null&gt;</div></td><td><table><thead><tr><th>Year</th><th>Month</th><th>Day</th></tr></thead><tbody><tr><td><div class=\"dni-plaintext\">2022</div></td><td><div class=\"dni-plaintext\">7</div></td><td><div class=\"dni-plaintext\">11</div></td></tr></tbody></table></td><td><div class=\"dni-plaintext\">1</div></td><td><div class=\"dni-plaintext\">[ { [Idc|729, 729|LBTYB]: Key: Idc|729, Value: 729|LBTYB }, { [Figi, BBG000H0TD19]: Key: Figi, Value: BBG000H0TD19 }, { [Figic, BBG000H0RXR9]: Key: Figic, Value: BBG000H0RXR9 }, { [Bloomberg, LBTYB UF Equity]: Key: Bloomberg, Value: LBTYB UF Equity } ]</div></td><td>LBTYB UF Equity</td></tr><tr><td>7</td><td><table><thead><tr><th>Exchange</th><th>Ticker</th><th>Provider</th></tr></thead><tbody><tr><td><div class=\"dni-plaintext\">XNGS</div></td><td><div class=\"dni-plaintext\">CHKP</div></td><td><div class=\"dni-plaintext\">&lt;null&gt;</div></td></tr></tbody></table></td><td>Equity</td><td>XNGS</td><td>XNAS</td><td>Check Point Software Technologi</td><td>USD</td><td></td><td><div class=\"dni-plaintext\">[ { { &quot;tick&quot;: 0.0001 }: Price: 0, Tick: 0.0001 }, { { &quot;price&quot;: 1, &quot;tick&quot;: 0.01 }: Price: 1, Tick: 0.01 } ]</div></td><td><div class=\"dni-plaintext\">[ Nasdaq 100 ]</div></td><td><table><thead><tr><th>Seconds</th><th>Nanos</th></tr></thead><tbody><tr><td><div class=\"dni-plaintext\">0</div></td><td><div class=\"dni-plaintext\">0</div></td></tr></tbody></table></td><td><table><thead><tr><th>Seconds</th><th>Nanos</th></tr></thead><tbody><tr><td><div class=\"dni-plaintext\">0</div></td><td><div class=\"dni-plaintext\">0</div></td></tr></tbody></table></td><td></td><td><div class=\"dni-plaintext\">1</div></td><td><div class=\"dni-plaintext\">1</div></td><td><div class=\"dni-plaintext\">&lt;null&gt;</div></td><td><div class=\"dni-plaintext\">&lt;null&gt;</div></td><td><table><thead><tr><th>Year</th><th>Month</th><th>Day</th></tr></thead><tbody><tr><td><div class=\"dni-plaintext\">2022</div></td><td><div class=\"dni-plaintext\">10</div></td><td><div class=\"dni-plaintext\">24</div></td></tr></tbody></table></td><td><div class=\"dni-plaintext\">32</div></td><td><div class=\"dni-plaintext\">[ { [Yahoo, CHKP]: Key: Yahoo, Value: CHKP }, { [CIK, 0001015922]: Key: CIK, Value: 0001015922 }, { [FIGI, BBG000K85L07]: Key: FIGI, Value: BBG000K85L07 }, { [FIGIC, BBG000K82ZT8]: Key: FIGIC, Value: BBG000K82ZT8 }, { [Valoren, 494683]: Key: Valoren, Value: 494683 }, { [Esignal, CHKP]: Key: Esignal, Value: CHKP }, { [Idc|564, 564|CHKP]: Key: Idc|564, Value: 564|CHKP }, { [Figi, BBG000K82ZT8]: Key: Figi, Value: BBG000K82ZT8 }, { [Figic, BBG000K82ZT8]: Key: Figic, Value: BBG000K82ZT8 }, { [Bloomberg, CHKP US Equity]: Key: Bloomberg, Value: CHKP US Equity } ]</div></td><td>CHKP US Equity</td></tr><tr><td>8</td><td><table><thead><tr><th>Exchange</th><th>Ticker</th><th>Provider</th></tr></thead><tbody><tr><td><div class=\"dni-plaintext\">BATS</div></td><td><div class=\"dni-plaintext\">LBTYK</div></td><td><div class=\"dni-plaintext\">&lt;null&gt;</div></td></tr></tbody></table></td><td>Equity</td><td>XNGS</td><td>XCBO</td><td>Liberty Global Plc</td><td>USD</td><td>GB</td><td><div class=\"dni-plaintext\">[ { { &quot;tick&quot;: 0.0001 }: Price: 0, Tick: 0.0001 }, { { &quot;price&quot;: 1, &quot;tick&quot;: 0.01 }: Price: 1, Tick: 0.01 } ]</div></td><td><div class=\"dni-plaintext\">[ Nasdaq 100 ]</div></td><td><table><thead><tr><th>Seconds</th><th>Nanos</th></tr></thead><tbody><tr><td><div class=\"dni-plaintext\">34200</div></td><td><div class=\"dni-plaintext\">0</div></td></tr></tbody></table></td><td><table><thead><tr><th>Seconds</th><th>Nanos</th></tr></thead><tbody><tr><td><div class=\"dni-plaintext\">57600</div></td><td><div class=\"dni-plaintext\">0</div></td></tr></tbody></table></td><td>ET</td><td><div class=\"dni-plaintext\">1</div></td><td><div class=\"dni-plaintext\">1</div></td><td><div class=\"dni-plaintext\">21.43</div></td><td><div class=\"dni-plaintext\">88074</div></td><td><table><thead><tr><th>Year</th><th>Month</th><th>Day</th></tr></thead><tbody><tr><td><div class=\"dni-plaintext\">2022</div></td><td><div class=\"dni-plaintext\">7</div></td><td><div class=\"dni-plaintext\">11</div></td></tr></tbody></table></td><td><div class=\"dni-plaintext\">1</div></td><td><div class=\"dni-plaintext\">[ { [Idc|729, 729|LBTYK]: Key: Idc|729, Value: 729|LBTYK }, { [Figi, BBG000BXWQ56]: Key: Figi, Value: BBG000BXWQ56 }, { [Figic, BBG000BXWBN9]: Key: Figic, Value: BBG000BXWBN9 }, { [Bloomberg, LBTYK UF Equity]: Key: Bloomberg, Value: LBTYK UF Equity } ]</div></td><td>LBTYK UF Equity</td></tr><tr><td>9</td><td><table><thead><tr><th>Exchange</th><th>Ticker</th><th>Provider</th></tr></thead><tbody><tr><td><div class=\"dni-plaintext\">XNGS</div></td><td><div class=\"dni-plaintext\">LBTYA</div></td><td><div class=\"dni-plaintext\">&lt;null&gt;</div></td></tr></tbody></table></td><td>Equity</td><td>XNGS</td><td>XNAS</td><td>Liberty Global Plc - A</td><td>USD</td><td></td><td><div class=\"dni-plaintext\">[ { { &quot;tick&quot;: 0.0001 }: Price: 0, Tick: 0.0001 }, { { &quot;price&quot;: 1, &quot;tick&quot;: 0.01 }: Price: 1, Tick: 0.01 } ]</div></td><td><div class=\"dni-plaintext\">[ Nasdaq 100 ]</div></td><td><table><thead><tr><th>Seconds</th><th>Nanos</th></tr></thead><tbody><tr><td><div class=\"dni-plaintext\">0</div></td><td><div class=\"dni-plaintext\">0</div></td></tr></tbody></table></td><td><table><thead><tr><th>Seconds</th><th>Nanos</th></tr></thead><tbody><tr><td><div class=\"dni-plaintext\">0</div></td><td><div class=\"dni-plaintext\">0</div></td></tr></tbody></table></td><td></td><td><div class=\"dni-plaintext\">1</div></td><td><div class=\"dni-plaintext\">1</div></td><td><div class=\"dni-plaintext\">&lt;null&gt;</div></td><td><div class=\"dni-plaintext\">&lt;null&gt;</div></td><td><table><thead><tr><th>Year</th><th>Month</th><th>Day</th></tr></thead><tbody><tr><td><div class=\"dni-plaintext\">2022</div></td><td><div class=\"dni-plaintext\">10</div></td><td><div class=\"dni-plaintext\">24</div></td></tr></tbody></table></td><td><div class=\"dni-plaintext\">24</div></td><td><div class=\"dni-plaintext\">[ { [Yahoo, LBTYA]: Key: Yahoo, Value: LBTYA }, { [FIGI, BBG000H0RS45]: Key: FIGI, Value: BBG000H0RS45 }, { [FIGIC, BBG000H0QBS7]: Key: FIGIC, Value: BBG000H0QBS7 }, { [Valoren, 21612464]: Key: Valoren, Value: 21612464 }, { [CIK, 0001570585]: Key: CIK, Value: 0001570585 }, { [Idc|564, 564|LBTYA]: Key: Idc|564, Value: 564|LBTYA }, { [Figi, BBG000H0QBS7]: Key: Figi, Value: BBG000H0QBS7 }, { [Figic, BBG000H0QBS7]: Key: Figic, Value: BBG000H0QBS7 }, { [Bloomberg, LBTYA US Equity]: Key: Bloomberg, Value: LBTYA US Equity }, { [Reuters, LBTYA.OQ]: Key: Reuters, Value: LBTYA.OQ }, { [Esignal, LBTYA]: Key: Esignal, Value: LBTYA } ]</div></td><td>LBTYA US Equity</td></tr></tbody></table>"
      ]
     },
     "metadata": {},
     "output_type": "display_data"
    }
   ],
   "source": [
    "// Get an  index components\n",
    "let request = \n",
    "  new StaticDataRequest(\n",
    "    AssetType = AssetType.Equity,\n",
    "    Index = \"NASDAQ 100\",\n",
    "    Count = 10\n",
    "  )\n",
    "\n",
    "let reply = service.StaticData(request, headers)\n",
    "display(reply.Equities)"
   ]
  },
  {
   "cell_type": "markdown",
   "id": "driving-return",
   "metadata": {},
   "source": [
    "##### 4.2.7 Equity - sectors"
   ]
  },
  {
   "cell_type": "code",
   "execution_count": 12,
   "id": "developed-tamil",
   "metadata": {
    "dotnet_interactive": {
     "language": "fsharp"
    },
    "execution": {
     "iopub.execute_input": "2022-10-25T16:22:20.949710Z",
     "iopub.status.busy": "2022-10-25T16:22:20.949349Z",
     "iopub.status.idle": "2022-10-25T16:22:21.005406Z",
     "shell.execute_reply": "2022-10-25T16:22:21.005160Z"
    },
    "vscode": {
     "languageId": "dotnet-interactive.fsharp"
    }
   },
   "outputs": [
    {
     "data": {
      "text/html": [
       "<i>(empty)</i>"
      ]
     },
     "metadata": {},
     "output_type": "display_data"
    }
   ],
   "source": [
    "// Get equities by sectors\n",
    "let request = \n",
    "  new StaticDataRequest(\n",
    "    AssetType = AssetType.Equity,\n",
    "    EquitySector = \"Electronic Computers\",\n",
    "    Count = 10\n",
    "  )\n",
    "\n",
    "let reply = service.StaticData(request, headers)\n",
    "display(reply.Equities)"
   ]
  },
  {
   "cell_type": "markdown",
   "id": "worthy-vegetable",
   "metadata": {},
   "source": [
    "#### 4.3 Retrieve reference data - Futures\n",
    "\n",
    "To request for futures, the user must specify the AssetType as <i>`AssetType.Future`</i> in the static data request."
   ]
  },
  {
   "cell_type": "markdown",
   "id": "intermediate-church",
   "metadata": {},
   "source": [
    "##### 4.3.1 Future - by Name"
   ]
  },
  {
   "cell_type": "code",
   "execution_count": 13,
   "id": "horizontal-rhythm",
   "metadata": {
    "dotnet_interactive": {
     "language": "fsharp"
    },
    "execution": {
     "iopub.execute_input": "2022-10-25T16:22:21.007490Z",
     "iopub.status.busy": "2022-10-25T16:22:21.007171Z",
     "iopub.status.idle": "2022-10-25T16:22:21.455110Z",
     "shell.execute_reply": "2022-10-25T16:22:21.454851Z"
    },
    "vscode": {
     "languageId": "dotnet-interactive.fsharp"
    }
   },
   "outputs": [
    {
     "data": {
      "text/html": [
       "<table><thead><tr><th><i>index</i></th><th>Identifier</th><th>Type</th><th>Primary</th><th>Operating</th><th>Name</th><th>Currency</th><th>Country</th><th>TickSizeRule</th><th>Index</th><th>Open</th><th>Close</th><th>TimeZone</th><th>LotSize</th><th>PointValue</th><th>Price</th><th>Volume</th><th>Time</th><th>Sources</th><th>Mapping</th><th>Bloomberg</th><th>..</th></tr></thead><tbody><tr><td>0</td><td><table><thead><tr><th>Exchange</th><th>Ticker</th><th>Provider</th></tr></thead><tbody><tr><td><div class=\"dni-plaintext\">IFEU</div></td><td><div class=\"dni-plaintext\">WBSQ22</div></td><td><div class=\"dni-plaintext\">&lt;null&gt;</div></td></tr></tbody></table></td><td>Future</td><td>IFEU</td><td>IFEU</td><td>Wti Crude Futures - Wti - Aug22</td><td>USD</td><td>GB</td><td><div class=\"dni-plaintext\">[ { { &quot;tick&quot;: 0.01 }: Price: 0, Tick: 0.01 } ]</div></td><td></td><td><table><thead><tr><th>Seconds</th><th>Nanos</th></tr></thead><tbody><tr><td><div class=\"dni-plaintext\">0</div></td><td><div class=\"dni-plaintext\">0</div></td></tr></tbody></table></td><td><table><thead><tr><th>Seconds</th><th>Nanos</th></tr></thead><tbody><tr><td><div class=\"dni-plaintext\">0</div></td><td><div class=\"dni-plaintext\">0</div></td></tr></tbody></table></td><td></td><td><div class=\"dni-plaintext\">1</div></td><td><div class=\"dni-plaintext\">1000</div></td><td><div class=\"dni-plaintext\">103.37</div></td><td><div class=\"dni-plaintext\">35461</div></td><td><table><thead><tr><th>Year</th><th>Month</th><th>Day</th></tr></thead><tbody><tr><td><div class=\"dni-plaintext\">2022</div></td><td><div class=\"dni-plaintext\">7</div></td><td><div class=\"dni-plaintext\">11</div></td></tr></tbody></table></td><td><div class=\"dni-plaintext\">1</div></td><td><div class=\"dni-plaintext\">[ { [Idc|756, 756|F:WBS\\Q22]: Key: Idc|756, Value: 756|F:WBS\\Q22 }, { [Figi, BBG00DLK2233]: Key: Figi, Value: BBG00DLK2233 } ]</div></td><td></td></tr><tr><td>1</td><td><table><thead><tr><th>Exchange</th><th>Ticker</th><th>Provider</th></tr></thead><tbody><tr><td><div class=\"dni-plaintext\">IFEU</div></td><td><div class=\"dni-plaintext\">WBSU22</div></td><td><div class=\"dni-plaintext\">&lt;null&gt;</div></td></tr></tbody></table></td><td>Future</td><td>IFEU</td><td>IFEU</td><td>Wti Crude Futures - Wti - Sep22</td><td>USD</td><td>GB</td><td><div class=\"dni-plaintext\">[ { { &quot;tick&quot;: 0.01 }: Price: 0, Tick: 0.01 } ]</div></td><td></td><td><table><thead><tr><th>Seconds</th><th>Nanos</th></tr></thead><tbody><tr><td><div class=\"dni-plaintext\">0</div></td><td><div class=\"dni-plaintext\">0</div></td></tr></tbody></table></td><td><table><thead><tr><th>Seconds</th><th>Nanos</th></tr></thead><tbody><tr><td><div class=\"dni-plaintext\">0</div></td><td><div class=\"dni-plaintext\">0</div></td></tr></tbody></table></td><td></td><td><div class=\"dni-plaintext\">1</div></td><td><div class=\"dni-plaintext\">1000</div></td><td><div class=\"dni-plaintext\">100.48</div></td><td><div class=\"dni-plaintext\">38354</div></td><td><table><thead><tr><th>Year</th><th>Month</th><th>Day</th></tr></thead><tbody><tr><td><div class=\"dni-plaintext\">2022</div></td><td><div class=\"dni-plaintext\">7</div></td><td><div class=\"dni-plaintext\">11</div></td></tr></tbody></table></td><td><div class=\"dni-plaintext\">1</div></td><td><div class=\"dni-plaintext\">[ { [Idc|756, 756|F:WBS\\U22]: Key: Idc|756, Value: 756|F:WBS\\U22 }, { [Figi, BBG00DLK2242]: Key: Figi, Value: BBG00DLK2242 } ]</div></td><td></td></tr><tr><td>2</td><td><table><thead><tr><th>Exchange</th><th>Ticker</th><th>Provider</th></tr></thead><tbody><tr><td><div class=\"dni-plaintext\">IFEU</div></td><td><div class=\"dni-plaintext\">WBSV22</div></td><td><div class=\"dni-plaintext\">&lt;null&gt;</div></td></tr></tbody></table></td><td>Future</td><td>IFEU</td><td>IFEU</td><td>Wti Crude Futures - Wti - Oct22</td><td>USD</td><td>GB</td><td><div class=\"dni-plaintext\">[ { { &quot;tick&quot;: 0.01 }: Price: 0, Tick: 0.01 } ]</div></td><td></td><td><table><thead><tr><th>Seconds</th><th>Nanos</th></tr></thead><tbody><tr><td><div class=\"dni-plaintext\">0</div></td><td><div class=\"dni-plaintext\">0</div></td></tr></tbody></table></td><td><table><thead><tr><th>Seconds</th><th>Nanos</th></tr></thead><tbody><tr><td><div class=\"dni-plaintext\">0</div></td><td><div class=\"dni-plaintext\">0</div></td></tr></tbody></table></td><td></td><td><div class=\"dni-plaintext\">1</div></td><td><div class=\"dni-plaintext\">1000</div></td><td><div class=\"dni-plaintext\">97.61</div></td><td><div class=\"dni-plaintext\">28725</div></td><td><table><thead><tr><th>Year</th><th>Month</th><th>Day</th></tr></thead><tbody><tr><td><div class=\"dni-plaintext\">2022</div></td><td><div class=\"dni-plaintext\">7</div></td><td><div class=\"dni-plaintext\">11</div></td></tr></tbody></table></td><td><div class=\"dni-plaintext\">1</div></td><td><div class=\"dni-plaintext\">[ { [Idc|756, 756|F:WBS\\V22]: Key: Idc|756, Value: 756|F:WBS\\V22 }, { [Figi, BBG00DLK2251]: Key: Figi, Value: BBG00DLK2251 } ]</div></td><td></td></tr><tr><td>3</td><td><table><thead><tr><th>Exchange</th><th>Ticker</th><th>Provider</th></tr></thead><tbody><tr><td><div class=\"dni-plaintext\">IFEU</div></td><td><div class=\"dni-plaintext\">WBSX22</div></td><td><div class=\"dni-plaintext\">&lt;null&gt;</div></td></tr></tbody></table></td><td>Future</td><td>IFEU</td><td>IFEU</td><td>Wti Crude Futures - Wti - Nov22</td><td>USD</td><td>GB</td><td><div class=\"dni-plaintext\">[ { { &quot;tick&quot;: 0.01 }: Price: 0, Tick: 0.01 } ]</div></td><td></td><td><table><thead><tr><th>Seconds</th><th>Nanos</th></tr></thead><tbody><tr><td><div class=\"dni-plaintext\">0</div></td><td><div class=\"dni-plaintext\">0</div></td></tr></tbody></table></td><td><table><thead><tr><th>Seconds</th><th>Nanos</th></tr></thead><tbody><tr><td><div class=\"dni-plaintext\">0</div></td><td><div class=\"dni-plaintext\">0</div></td></tr></tbody></table></td><td></td><td><div class=\"dni-plaintext\">1</div></td><td><div class=\"dni-plaintext\">1000</div></td><td><div class=\"dni-plaintext\">95.05</div></td><td><div class=\"dni-plaintext\">14649</div></td><td><table><thead><tr><th>Year</th><th>Month</th><th>Day</th></tr></thead><tbody><tr><td><div class=\"dni-plaintext\">2022</div></td><td><div class=\"dni-plaintext\">7</div></td><td><div class=\"dni-plaintext\">11</div></td></tr></tbody></table></td><td><div class=\"dni-plaintext\">1</div></td><td><div class=\"dni-plaintext\">[ { [Idc|756, 756|F:WBS\\X22]: Key: Idc|756, Value: 756|F:WBS\\X22 }, { [Figi, BBG00DLK2260]: Key: Figi, Value: BBG00DLK2260 } ]</div></td><td></td></tr><tr><td>4</td><td><table><thead><tr><th>Exchange</th><th>Ticker</th><th>Provider</th></tr></thead><tbody><tr><td><div class=\"dni-plaintext\">IFEU</div></td><td><div class=\"dni-plaintext\">WBSZ22</div></td><td><div class=\"dni-plaintext\">&lt;null&gt;</div></td></tr></tbody></table></td><td>Future</td><td>IFEU</td><td>IFEU</td><td>Wti Crude Futures - Wti - Dec22</td><td>USD</td><td>GB</td><td><div class=\"dni-plaintext\">[ { { &quot;tick&quot;: 0.01 }: Price: 0, Tick: 0.01 } ]</div></td><td></td><td><table><thead><tr><th>Seconds</th><th>Nanos</th></tr></thead><tbody><tr><td><div class=\"dni-plaintext\">0</div></td><td><div class=\"dni-plaintext\">0</div></td></tr></tbody></table></td><td><table><thead><tr><th>Seconds</th><th>Nanos</th></tr></thead><tbody><tr><td><div class=\"dni-plaintext\">0</div></td><td><div class=\"dni-plaintext\">0</div></td></tr></tbody></table></td><td></td><td><div class=\"dni-plaintext\">1</div></td><td><div class=\"dni-plaintext\">1000</div></td><td><div class=\"dni-plaintext\">92.99</div></td><td><div class=\"dni-plaintext\">20872</div></td><td><table><thead><tr><th>Year</th><th>Month</th><th>Day</th></tr></thead><tbody><tr><td><div class=\"dni-plaintext\">2022</div></td><td><div class=\"dni-plaintext\">7</div></td><td><div class=\"dni-plaintext\">11</div></td></tr></tbody></table></td><td><div class=\"dni-plaintext\">1</div></td><td><div class=\"dni-plaintext\">[ { [Idc|756, 756|F:WBS\\Z22]: Key: Idc|756, Value: 756|F:WBS\\Z22 }, { [Figi, BBG005M8J3W4]: Key: Figi, Value: BBG005M8J3W4 } ]</div></td><td></td></tr><tr><td>5</td><td><table><thead><tr><th>Exchange</th><th>Ticker</th><th>Provider</th></tr></thead><tbody><tr><td><div class=\"dni-plaintext\">IFEU</div></td><td><div class=\"dni-plaintext\">WBSF23</div></td><td><div class=\"dni-plaintext\">&lt;null&gt;</div></td></tr></tbody></table></td><td>Future</td><td>IFEU</td><td>IFEU</td><td>Wti Crude Futures - Wti - Jan23</td><td>USD</td><td>GB</td><td><div class=\"dni-plaintext\">[ { { &quot;tick&quot;: 0.01 }: Price: 0, Tick: 0.01 } ]</div></td><td></td><td><table><thead><tr><th>Seconds</th><th>Nanos</th></tr></thead><tbody><tr><td><div class=\"dni-plaintext\">0</div></td><td><div class=\"dni-plaintext\">0</div></td></tr></tbody></table></td><td><table><thead><tr><th>Seconds</th><th>Nanos</th></tr></thead><tbody><tr><td><div class=\"dni-plaintext\">0</div></td><td><div class=\"dni-plaintext\">0</div></td></tr></tbody></table></td><td></td><td><div class=\"dni-plaintext\">1</div></td><td><div class=\"dni-plaintext\">1000</div></td><td><div class=\"dni-plaintext\">91.61</div></td><td><div class=\"dni-plaintext\">2648</div></td><td><table><thead><tr><th>Year</th><th>Month</th><th>Day</th></tr></thead><tbody><tr><td><div class=\"dni-plaintext\">2022</div></td><td><div class=\"dni-plaintext\">7</div></td><td><div class=\"dni-plaintext\">11</div></td></tr></tbody></table></td><td><div class=\"dni-plaintext\">1</div></td><td><div class=\"dni-plaintext\">[ { [Idc|756, 756|F:WBS\\F23]: Key: Idc|756, Value: 756|F:WBS\\F23 }, { [Figi, BBG00DLK23S4]: Key: Figi, Value: BBG00DLK23S4 } ]</div></td><td></td></tr><tr><td>6</td><td><table><thead><tr><th>Exchange</th><th>Ticker</th><th>Provider</th></tr></thead><tbody><tr><td><div class=\"dni-plaintext\">IFEU</div></td><td><div class=\"dni-plaintext\">WBSG23</div></td><td><div class=\"dni-plaintext\">&lt;null&gt;</div></td></tr></tbody></table></td><td>Future</td><td>IFEU</td><td>IFEU</td><td>Wti Crude Futures - Wti - Feb23</td><td>USD</td><td>GB</td><td><div class=\"dni-plaintext\">[ { { &quot;tick&quot;: 0.01 }: Price: 0, Tick: 0.01 } ]</div></td><td></td><td><table><thead><tr><th>Seconds</th><th>Nanos</th></tr></thead><tbody><tr><td><div class=\"dni-plaintext\">0</div></td><td><div class=\"dni-plaintext\">0</div></td></tr></tbody></table></td><td><table><thead><tr><th>Seconds</th><th>Nanos</th></tr></thead><tbody><tr><td><div class=\"dni-plaintext\">0</div></td><td><div class=\"dni-plaintext\">0</div></td></tr></tbody></table></td><td></td><td><div class=\"dni-plaintext\">1</div></td><td><div class=\"dni-plaintext\">1000</div></td><td><div class=\"dni-plaintext\">90.07</div></td><td><div class=\"dni-plaintext\">1248</div></td><td><table><thead><tr><th>Year</th><th>Month</th><th>Day</th></tr></thead><tbody><tr><td><div class=\"dni-plaintext\">2022</div></td><td><div class=\"dni-plaintext\">7</div></td><td><div class=\"dni-plaintext\">11</div></td></tr></tbody></table></td><td><div class=\"dni-plaintext\">1</div></td><td><div class=\"dni-plaintext\">[ { [Idc|756, 756|F:WBS\\G23]: Key: Idc|756, Value: 756|F:WBS\\G23 }, { [Figi, BBG00DLK23Y7]: Key: Figi, Value: BBG00DLK23Y7 } ]</div></td><td></td></tr><tr><td>7</td><td><table><thead><tr><th>Exchange</th><th>Ticker</th><th>Provider</th></tr></thead><tbody><tr><td><div class=\"dni-plaintext\">IFEU</div></td><td><div class=\"dni-plaintext\">WBSH23</div></td><td><div class=\"dni-plaintext\">&lt;null&gt;</div></td></tr></tbody></table></td><td>Future</td><td>IFEU</td><td>IFEU</td><td>Wti Crude Futures - Wti - Mar23</td><td>USD</td><td>GB</td><td><div class=\"dni-plaintext\">[ { { &quot;tick&quot;: 0.01 }: Price: 0, Tick: 0.01 } ]</div></td><td></td><td><table><thead><tr><th>Seconds</th><th>Nanos</th></tr></thead><tbody><tr><td><div class=\"dni-plaintext\">0</div></td><td><div class=\"dni-plaintext\">0</div></td></tr></tbody></table></td><td><table><thead><tr><th>Seconds</th><th>Nanos</th></tr></thead><tbody><tr><td><div class=\"dni-plaintext\">0</div></td><td><div class=\"dni-plaintext\">0</div></td></tr></tbody></table></td><td></td><td><div class=\"dni-plaintext\">1</div></td><td><div class=\"dni-plaintext\">1000</div></td><td><div class=\"dni-plaintext\">88.82</div></td><td><div class=\"dni-plaintext\">1415</div></td><td><table><thead><tr><th>Year</th><th>Month</th><th>Day</th></tr></thead><tbody><tr><td><div class=\"dni-plaintext\">2022</div></td><td><div class=\"dni-plaintext\">7</div></td><td><div class=\"dni-plaintext\">11</div></td></tr></tbody></table></td><td><div class=\"dni-plaintext\">1</div></td><td><div class=\"dni-plaintext\">[ { [Idc|756, 756|F:WBS\\H23]: Key: Idc|756, Value: 756|F:WBS\\H23 }, { [Figi, BBG00FJJK500]: Key: Figi, Value: BBG00FJJK500 } ]</div></td><td></td></tr><tr><td>8</td><td><table><thead><tr><th>Exchange</th><th>Ticker</th><th>Provider</th></tr></thead><tbody><tr><td><div class=\"dni-plaintext\">IFEU</div></td><td><div class=\"dni-plaintext\">WBSJ23</div></td><td><div class=\"dni-plaintext\">&lt;null&gt;</div></td></tr></tbody></table></td><td>Future</td><td>IFEU</td><td>IFEU</td><td>Wti Crude Futures - Wti - Apr23</td><td>USD</td><td>GB</td><td><div class=\"dni-plaintext\">[ { { &quot;tick&quot;: 0.01 }: Price: 0, Tick: 0.01 } ]</div></td><td></td><td><table><thead><tr><th>Seconds</th><th>Nanos</th></tr></thead><tbody><tr><td><div class=\"dni-plaintext\">0</div></td><td><div class=\"dni-plaintext\">0</div></td></tr></tbody></table></td><td><table><thead><tr><th>Seconds</th><th>Nanos</th></tr></thead><tbody><tr><td><div class=\"dni-plaintext\">0</div></td><td><div class=\"dni-plaintext\">0</div></td></tr></tbody></table></td><td></td><td><div class=\"dni-plaintext\">1</div></td><td><div class=\"dni-plaintext\">1000</div></td><td><div class=\"dni-plaintext\">87.76</div></td><td><div class=\"dni-plaintext\">351</div></td><td><table><thead><tr><th>Year</th><th>Month</th><th>Day</th></tr></thead><tbody><tr><td><div class=\"dni-plaintext\">2022</div></td><td><div class=\"dni-plaintext\">7</div></td><td><div class=\"dni-plaintext\">11</div></td></tr></tbody></table></td><td><div class=\"dni-plaintext\">1</div></td><td><div class=\"dni-plaintext\">[ { [Idc|756, 756|F:WBS\\J23]: Key: Idc|756, Value: 756|F:WBS\\J23 }, { [Figi, BBG00FJJK528]: Key: Figi, Value: BBG00FJJK528 } ]</div></td><td></td></tr><tr><td>9</td><td><table><thead><tr><th>Exchange</th><th>Ticker</th><th>Provider</th></tr></thead><tbody><tr><td><div class=\"dni-plaintext\">IFEU</div></td><td><div class=\"dni-plaintext\">WBSK23</div></td><td><div class=\"dni-plaintext\">&lt;null&gt;</div></td></tr></tbody></table></td><td>Future</td><td>IFEU</td><td>IFEU</td><td>Wti Crude Futures - Wti - May23</td><td>USD</td><td>GB</td><td><div class=\"dni-plaintext\">[ { { &quot;tick&quot;: 0.01 }: Price: 0, Tick: 0.01 } ]</div></td><td></td><td><table><thead><tr><th>Seconds</th><th>Nanos</th></tr></thead><tbody><tr><td><div class=\"dni-plaintext\">0</div></td><td><div class=\"dni-plaintext\">0</div></td></tr></tbody></table></td><td><table><thead><tr><th>Seconds</th><th>Nanos</th></tr></thead><tbody><tr><td><div class=\"dni-plaintext\">0</div></td><td><div class=\"dni-plaintext\">0</div></td></tr></tbody></table></td><td></td><td><div class=\"dni-plaintext\">1</div></td><td><div class=\"dni-plaintext\">1000</div></td><td><div class=\"dni-plaintext\">80.58</div></td><td><div class=\"dni-plaintext\">268</div></td><td><table><thead><tr><th>Year</th><th>Month</th><th>Day</th></tr></thead><tbody><tr><td><div class=\"dni-plaintext\">2022</div></td><td><div class=\"dni-plaintext\">7</div></td><td><div class=\"dni-plaintext\">11</div></td></tr></tbody></table></td><td><div class=\"dni-plaintext\">1</div></td><td><div class=\"dni-plaintext\">[ { [Idc|756, 756|F:WBS\\K23]: Key: Idc|756, Value: 756|F:WBS\\K23 }, { [Figi, BBG00FJJK537]: Key: Figi, Value: BBG00FJJK537 } ]</div></td><td></td></tr><tr><td>10</td><td><table><thead><tr><th>Exchange</th><th>Ticker</th><th>Provider</th></tr></thead><tbody><tr><td><div class=\"dni-plaintext\">IFEU</div></td><td><div class=\"dni-plaintext\">WBSM23</div></td><td><div class=\"dni-plaintext\">&lt;null&gt;</div></td></tr></tbody></table></td><td>Future</td><td>IFEU</td><td>IFEU</td><td>Wti Crude Futures - Wti - Jun23</td><td>USD</td><td>GB</td><td><div class=\"dni-plaintext\">[ { { &quot;tick&quot;: 0.01 }: Price: 0, Tick: 0.01 } ]</div></td><td></td><td><table><thead><tr><th>Seconds</th><th>Nanos</th></tr></thead><tbody><tr><td><div class=\"dni-plaintext\">0</div></td><td><div class=\"dni-plaintext\">0</div></td></tr></tbody></table></td><td><table><thead><tr><th>Seconds</th><th>Nanos</th></tr></thead><tbody><tr><td><div class=\"dni-plaintext\">0</div></td><td><div class=\"dni-plaintext\">0</div></td></tr></tbody></table></td><td></td><td><div class=\"dni-plaintext\">1</div></td><td><div class=\"dni-plaintext\">1000</div></td><td><div class=\"dni-plaintext\">85.61</div></td><td><div class=\"dni-plaintext\">2649</div></td><td><table><thead><tr><th>Year</th><th>Month</th><th>Day</th></tr></thead><tbody><tr><td><div class=\"dni-plaintext\">2022</div></td><td><div class=\"dni-plaintext\">7</div></td><td><div class=\"dni-plaintext\">11</div></td></tr></tbody></table></td><td><div class=\"dni-plaintext\">1</div></td><td><div class=\"dni-plaintext\">[ { [Idc|756, 756|F:WBS\\M23]: Key: Idc|756, Value: 756|F:WBS\\M23 }, { [Figi, BBG007KD9VP8]: Key: Figi, Value: BBG007KD9VP8 } ]</div></td><td></td></tr><tr><td>11</td><td><table><thead><tr><th>Exchange</th><th>Ticker</th><th>Provider</th></tr></thead><tbody><tr><td><div class=\"dni-plaintext\">IFEU</div></td><td><div class=\"dni-plaintext\">WBSN23</div></td><td><div class=\"dni-plaintext\">&lt;null&gt;</div></td></tr></tbody></table></td><td>Future</td><td>IFEU</td><td>IFEU</td><td>Wti Crude Futures - Wti - Jul23</td><td>USD</td><td>GB</td><td><div class=\"dni-plaintext\">[ { { &quot;tick&quot;: 0.01 }: Price: 0, Tick: 0.01 } ]</div></td><td></td><td><table><thead><tr><th>Seconds</th><th>Nanos</th></tr></thead><tbody><tr><td><div class=\"dni-plaintext\">0</div></td><td><div class=\"dni-plaintext\">0</div></td></tr></tbody></table></td><td><table><thead><tr><th>Seconds</th><th>Nanos</th></tr></thead><tbody><tr><td><div class=\"dni-plaintext\">0</div></td><td><div class=\"dni-plaintext\">0</div></td></tr></tbody></table></td><td></td><td><div class=\"dni-plaintext\">1</div></td><td><div class=\"dni-plaintext\">1000</div></td><td><div class=\"dni-plaintext\">85.36</div></td><td><div class=\"dni-plaintext\">66</div></td><td><table><thead><tr><th>Year</th><th>Month</th><th>Day</th></tr></thead><tbody><tr><td><div class=\"dni-plaintext\">2022</div></td><td><div class=\"dni-plaintext\">7</div></td><td><div class=\"dni-plaintext\">11</div></td></tr></tbody></table></td><td><div class=\"dni-plaintext\">1</div></td><td><div class=\"dni-plaintext\">[ { [Idc|756, 756|F:WBS\\N23]: Key: Idc|756, Value: 756|F:WBS\\N23 }, { [Figi, BBG00FJJK546]: Key: Figi, Value: BBG00FJJK546 } ]</div></td><td></td></tr><tr><td>12</td><td><table><thead><tr><th>Exchange</th><th>Ticker</th><th>Provider</th></tr></thead><tbody><tr><td><div class=\"dni-plaintext\">IFEU</div></td><td><div class=\"dni-plaintext\">WBSQ23</div></td><td><div class=\"dni-plaintext\">&lt;null&gt;</div></td></tr></tbody></table></td><td>Future</td><td>IFEU</td><td>IFEU</td><td>Wti Crude Futures - Wti - Aug23</td><td>USD</td><td>GB</td><td><div class=\"dni-plaintext\">[ { { &quot;tick&quot;: 0.01 }: Price: 0, Tick: 0.01 } ]</div></td><td></td><td><table><thead><tr><th>Seconds</th><th>Nanos</th></tr></thead><tbody><tr><td><div class=\"dni-plaintext\">0</div></td><td><div class=\"dni-plaintext\">0</div></td></tr></tbody></table></td><td><table><thead><tr><th>Seconds</th><th>Nanos</th></tr></thead><tbody><tr><td><div class=\"dni-plaintext\">0</div></td><td><div class=\"dni-plaintext\">0</div></td></tr></tbody></table></td><td></td><td><div class=\"dni-plaintext\">1</div></td><td><div class=\"dni-plaintext\">1000</div></td><td><div class=\"dni-plaintext\">77.13</div></td><td><div class=\"dni-plaintext\">31</div></td><td><table><thead><tr><th>Year</th><th>Month</th><th>Day</th></tr></thead><tbody><tr><td><div class=\"dni-plaintext\">2022</div></td><td><div class=\"dni-plaintext\">7</div></td><td><div class=\"dni-plaintext\">11</div></td></tr></tbody></table></td><td><div class=\"dni-plaintext\">1</div></td><td><div class=\"dni-plaintext\">[ { [Idc|756, 756|F:WBS\\Q23]: Key: Idc|756, Value: 756|F:WBS\\Q23 }, { [Figi, BBG00FJJK555]: Key: Figi, Value: BBG00FJJK555 } ]</div></td><td></td></tr><tr><td>13</td><td><table><thead><tr><th>Exchange</th><th>Ticker</th><th>Provider</th></tr></thead><tbody><tr><td><div class=\"dni-plaintext\">IFEU</div></td><td><div class=\"dni-plaintext\">BRNU23</div></td><td><div class=\"dni-plaintext\">&lt;null&gt;</div></td></tr></tbody></table></td><td>Future</td><td>IFEU</td><td>IFEU</td><td>Brent Crude Futures - North Sea - Sep23</td><td>USD</td><td>GB</td><td><div class=\"dni-plaintext\">[ { { &quot;tick&quot;: 0.01 }: Price: 0, Tick: 0.01 } ]</div></td><td></td><td><table><thead><tr><th>Seconds</th><th>Nanos</th></tr></thead><tbody><tr><td><div class=\"dni-plaintext\">0</div></td><td><div class=\"dni-plaintext\">0</div></td></tr></tbody></table></td><td><table><thead><tr><th>Seconds</th><th>Nanos</th></tr></thead><tbody><tr><td><div class=\"dni-plaintext\">0</div></td><td><div class=\"dni-plaintext\">0</div></td></tr></tbody></table></td><td></td><td><div class=\"dni-plaintext\">1</div></td><td><div class=\"dni-plaintext\">1000</div></td><td><div class=\"dni-plaintext\">86.5</div></td><td><div class=\"dni-plaintext\">2734</div></td><td><table><thead><tr><th>Year</th><th>Month</th><th>Day</th></tr></thead><tbody><tr><td><div class=\"dni-plaintext\">2022</div></td><td><div class=\"dni-plaintext\">7</div></td><td><div class=\"dni-plaintext\">11</div></td></tr></tbody></table></td><td><div class=\"dni-plaintext\">1</div></td><td><div class=\"dni-plaintext\">[ { [Idc|756, 756|F:BRN\\U23]: Key: Idc|756, Value: 756|F:BRN\\U23 }, { [Figi, BBG00F5RFXN7]: Key: Figi, Value: BBG00F5RFXN7 } ]</div></td><td></td></tr><tr><td>14</td><td><table><thead><tr><th>Exchange</th><th>Ticker</th><th>Provider</th></tr></thead><tbody><tr><td><div class=\"dni-plaintext\">IFEU</div></td><td><div class=\"dni-plaintext\">WBSU23</div></td><td><div class=\"dni-plaintext\">&lt;null&gt;</div></td></tr></tbody></table></td><td>Future</td><td>IFEU</td><td>IFEU</td><td>Wti Crude Futures - Wti - Sep23</td><td>USD</td><td>GB</td><td><div class=\"dni-plaintext\">[ { { &quot;tick&quot;: 0.01 }: Price: 0, Tick: 0.01 } ]</div></td><td></td><td><table><thead><tr><th>Seconds</th><th>Nanos</th></tr></thead><tbody><tr><td><div class=\"dni-plaintext\">0</div></td><td><div class=\"dni-plaintext\">0</div></td></tr></tbody></table></td><td><table><thead><tr><th>Seconds</th><th>Nanos</th></tr></thead><tbody><tr><td><div class=\"dni-plaintext\">0</div></td><td><div class=\"dni-plaintext\">0</div></td></tr></tbody></table></td><td></td><td><div class=\"dni-plaintext\">1</div></td><td><div class=\"dni-plaintext\">1000</div></td><td><div class=\"dni-plaintext\">77.61</div></td><td><div class=\"dni-plaintext\">171</div></td><td><table><thead><tr><th>Year</th><th>Month</th><th>Day</th></tr></thead><tbody><tr><td><div class=\"dni-plaintext\">2022</div></td><td><div class=\"dni-plaintext\">7</div></td><td><div class=\"dni-plaintext\">11</div></td></tr></tbody></table></td><td><div class=\"dni-plaintext\">1</div></td><td><div class=\"dni-plaintext\">[ { [Idc|756, 756|F:WBS\\U23]: Key: Idc|756, Value: 756|F:WBS\\U23 }, { [Figi, BBG00FJJK564]: Key: Figi, Value: BBG00FJJK564 } ]</div></td><td></td></tr><tr><td>15</td><td><table><thead><tr><th>Exchange</th><th>Ticker</th><th>Provider</th></tr></thead><tbody><tr><td><div class=\"dni-plaintext\">IFEU</div></td><td><div class=\"dni-plaintext\">WBSV23</div></td><td><div class=\"dni-plaintext\">&lt;null&gt;</div></td></tr></tbody></table></td><td>Future</td><td>IFEU</td><td>IFEU</td><td>Wti Crude Futures - Wti - Oct23</td><td>USD</td><td>GB</td><td><div class=\"dni-plaintext\">[ { { &quot;tick&quot;: 0.01 }: Price: 0, Tick: 0.01 } ]</div></td><td></td><td><table><thead><tr><th>Seconds</th><th>Nanos</th></tr></thead><tbody><tr><td><div class=\"dni-plaintext\">0</div></td><td><div class=\"dni-plaintext\">0</div></td></tr></tbody></table></td><td><table><thead><tr><th>Seconds</th><th>Nanos</th></tr></thead><tbody><tr><td><div class=\"dni-plaintext\">0</div></td><td><div class=\"dni-plaintext\">0</div></td></tr></tbody></table></td><td></td><td><div class=\"dni-plaintext\">1</div></td><td><div class=\"dni-plaintext\">1000</div></td><td><div class=\"dni-plaintext\">77.21</div></td><td><div class=\"dni-plaintext\">20</div></td><td><table><thead><tr><th>Year</th><th>Month</th><th>Day</th></tr></thead><tbody><tr><td><div class=\"dni-plaintext\">2022</div></td><td><div class=\"dni-plaintext\">7</div></td><td><div class=\"dni-plaintext\">11</div></td></tr></tbody></table></td><td><div class=\"dni-plaintext\">1</div></td><td><div class=\"dni-plaintext\">[ { [Idc|756, 756|F:WBS\\V23]: Key: Idc|756, Value: 756|F:WBS\\V23 }, { [Figi, BBG00FJJK573]: Key: Figi, Value: BBG00FJJK573 } ]</div></td><td></td></tr><tr><td>16</td><td><table><thead><tr><th>Exchange</th><th>Ticker</th><th>Provider</th></tr></thead><tbody><tr><td><div class=\"dni-plaintext\">IFEU</div></td><td><div class=\"dni-plaintext\">BRNX23</div></td><td><div class=\"dni-plaintext\">&lt;null&gt;</div></td></tr></tbody></table></td><td>Future</td><td>IFEU</td><td>IFEU</td><td>Brent Crude Futures - North Sea - Nov23</td><td>USD</td><td>GB</td><td><div class=\"dni-plaintext\">[ { { &quot;tick&quot;: 0.01 }: Price: 0, Tick: 0.01 } ]</div></td><td></td><td><table><thead><tr><th>Seconds</th><th>Nanos</th></tr></thead><tbody><tr><td><div class=\"dni-plaintext\">0</div></td><td><div class=\"dni-plaintext\">0</div></td></tr></tbody></table></td><td><table><thead><tr><th>Seconds</th><th>Nanos</th></tr></thead><tbody><tr><td><div class=\"dni-plaintext\">0</div></td><td><div class=\"dni-plaintext\">0</div></td></tr></tbody></table></td><td></td><td><div class=\"dni-plaintext\">1</div></td><td><div class=\"dni-plaintext\">1000</div></td><td><div class=\"dni-plaintext\">82.8</div></td><td><div class=\"dni-plaintext\">246</div></td><td><table><thead><tr><th>Year</th><th>Month</th><th>Day</th></tr></thead><tbody><tr><td><div class=\"dni-plaintext\">2022</div></td><td><div class=\"dni-plaintext\">7</div></td><td><div class=\"dni-plaintext\">11</div></td></tr></tbody></table></td><td><div class=\"dni-plaintext\">1</div></td><td><div class=\"dni-plaintext\">[ { [Idc|756, 756|F:BRN\\X23]: Key: Idc|756, Value: 756|F:BRN\\X23 }, { [Figi, BBG00F5RFXQ4]: Key: Figi, Value: BBG00F5RFXQ4 } ]</div></td><td></td></tr><tr><td>17</td><td><table><thead><tr><th>Exchange</th><th>Ticker</th><th>Provider</th></tr></thead><tbody><tr><td><div class=\"dni-plaintext\">IFEU</div></td><td><div class=\"dni-plaintext\">WBSX23</div></td><td><div class=\"dni-plaintext\">&lt;null&gt;</div></td></tr></tbody></table></td><td>Future</td><td>IFEU</td><td>IFEU</td><td>Wti Crude Futures - Wti - Nov23</td><td>USD</td><td>GB</td><td><div class=\"dni-plaintext\">[ { { &quot;tick&quot;: 0.01 }: Price: 0, Tick: 0.01 } ]</div></td><td></td><td><table><thead><tr><th>Seconds</th><th>Nanos</th></tr></thead><tbody><tr><td><div class=\"dni-plaintext\">0</div></td><td><div class=\"dni-plaintext\">0</div></td></tr></tbody></table></td><td><table><thead><tr><th>Seconds</th><th>Nanos</th></tr></thead><tbody><tr><td><div class=\"dni-plaintext\">0</div></td><td><div class=\"dni-plaintext\">0</div></td></tr></tbody></table></td><td></td><td><div class=\"dni-plaintext\">1</div></td><td><div class=\"dni-plaintext\">1000</div></td><td><div class=\"dni-plaintext\">76.46</div></td><td><div class=\"dni-plaintext\">33</div></td><td><table><thead><tr><th>Year</th><th>Month</th><th>Day</th></tr></thead><tbody><tr><td><div class=\"dni-plaintext\">2022</div></td><td><div class=\"dni-plaintext\">7</div></td><td><div class=\"dni-plaintext\">11</div></td></tr></tbody></table></td><td><div class=\"dni-plaintext\">1</div></td><td><div class=\"dni-plaintext\">[ { [Idc|756, 756|F:WBS\\X23]: Key: Idc|756, Value: 756|F:WBS\\X23 }, { [Figi, BBG00FJJK582]: Key: Figi, Value: BBG00FJJK582 } ]</div></td><td></td></tr><tr><td>18</td><td><table><thead><tr><th>Exchange</th><th>Ticker</th><th>Provider</th></tr></thead><tbody><tr><td><div class=\"dni-plaintext\">IFEU</div></td><td><div class=\"dni-plaintext\">WBSZ23</div></td><td><div class=\"dni-plaintext\">&lt;null&gt;</div></td></tr></tbody></table></td><td>Future</td><td>IFEU</td><td>IFEU</td><td>Wti Crude Futures - Wti - Dec23</td><td>USD</td><td>GB</td><td><div class=\"dni-plaintext\">[ { { &quot;tick&quot;: 0.01 }: Price: 0, Tick: 0.01 } ]</div></td><td></td><td><table><thead><tr><th>Seconds</th><th>Nanos</th></tr></thead><tbody><tr><td><div class=\"dni-plaintext\">0</div></td><td><div class=\"dni-plaintext\">0</div></td></tr></tbody></table></td><td><table><thead><tr><th>Seconds</th><th>Nanos</th></tr></thead><tbody><tr><td><div class=\"dni-plaintext\">0</div></td><td><div class=\"dni-plaintext\">0</div></td></tr></tbody></table></td><td></td><td><div class=\"dni-plaintext\">1</div></td><td><div class=\"dni-plaintext\">1000</div></td><td><div class=\"dni-plaintext\">81.91</div></td><td><div class=\"dni-plaintext\">3379</div></td><td><table><thead><tr><th>Year</th><th>Month</th><th>Day</th></tr></thead><tbody><tr><td><div class=\"dni-plaintext\">2022</div></td><td><div class=\"dni-plaintext\">7</div></td><td><div class=\"dni-plaintext\">11</div></td></tr></tbody></table></td><td><div class=\"dni-plaintext\">1</div></td><td><div class=\"dni-plaintext\">[ { [Idc|756, 756|F:WBS\\Z23]: Key: Idc|756, Value: 756|F:WBS\\Z23 }, { [Figi, BBG007KD9VQ7]: Key: Figi, Value: BBG007KD9VQ7 } ]</div></td><td></td></tr><tr><td>19</td><td><table><thead><tr><th>Exchange</th><th>Ticker</th><th>Provider</th></tr></thead><tbody><tr><td><div class=\"dni-plaintext\">IFEU</div></td><td><div class=\"dni-plaintext\">WBSF24</div></td><td><div class=\"dni-plaintext\">&lt;null&gt;</div></td></tr></tbody></table></td><td>Future</td><td>IFEU</td><td>IFEU</td><td>Wti Crude Futures - Wti - Jan24</td><td>USD</td><td>GB</td><td><div class=\"dni-plaintext\">[ { { &quot;tick&quot;: 0.01 }: Price: 0, Tick: 0.01 } ]</div></td><td></td><td><table><thead><tr><th>Seconds</th><th>Nanos</th></tr></thead><tbody><tr><td><div class=\"dni-plaintext\">0</div></td><td><div class=\"dni-plaintext\">0</div></td></tr></tbody></table></td><td><table><thead><tr><th>Seconds</th><th>Nanos</th></tr></thead><tbody><tr><td><div class=\"dni-plaintext\">0</div></td><td><div class=\"dni-plaintext\">0</div></td></tr></tbody></table></td><td></td><td><div class=\"dni-plaintext\">1</div></td><td><div class=\"dni-plaintext\">1000</div></td><td><div class=\"dni-plaintext\">73.5</div></td><td><div class=\"dni-plaintext\">15</div></td><td><table><thead><tr><th>Year</th><th>Month</th><th>Day</th></tr></thead><tbody><tr><td><div class=\"dni-plaintext\">2022</div></td><td><div class=\"dni-plaintext\">7</div></td><td><div class=\"dni-plaintext\">11</div></td></tr></tbody></table></td><td><div class=\"dni-plaintext\">1</div></td><td><div class=\"dni-plaintext\">[ { [Idc|756, 756|F:WBS\\F24]: Key: Idc|756, Value: 756|F:WBS\\F24 }, { [Figi, BBG00FLYN930]: Key: Figi, Value: BBG00FLYN930 } ]</div></td><td></td></tr><tr><td colspan=\"22\"><i>... (more)</i></td></tr></tbody></table>"
      ]
     },
     "metadata": {},
     "output_type": "display_data"
    }
   ],
   "source": [
    "let request = \n",
    "  new StaticDataRequest(\n",
    "    AssetType = AssetType.Future,\n",
    "    Name = \"WTI Crude Futures\"\n",
    "  )\n",
    "\n",
    "let reply = service.StaticData(request, headers)\n",
    "reply.Futures\n",
    "|> Seq.sortBy (fun f -> f.Maturity.Year * 16 + f.Maturity.Month )\n",
    "|> display"
   ]
  },
  {
   "cell_type": "markdown",
   "id": "cathedral-accounting",
   "metadata": {},
   "source": [
    "##### 4.3.2 Future - by Future contract"
   ]
  },
  {
   "cell_type": "code",
   "execution_count": 14,
   "id": "prescribed-circular",
   "metadata": {
    "dotnet_interactive": {
     "language": "fsharp"
    },
    "execution": {
     "iopub.execute_input": "2022-10-25T16:22:21.457746Z",
     "iopub.status.busy": "2022-10-25T16:22:21.457262Z",
     "iopub.status.idle": "2022-10-25T16:22:21.531140Z",
     "shell.execute_reply": "2022-10-25T16:22:21.530841Z"
    },
    "vscode": {
     "languageId": "dotnet-interactive.fsharp"
    }
   },
   "outputs": [
    {
     "data": {
      "text/html": [
       "<table><thead><tr><th><i>index</i></th><th>Identifier</th><th>Type</th><th>Primary</th><th>Operating</th><th>Name</th><th>Currency</th><th>Country</th><th>TickSizeRule</th><th>Index</th><th>Open</th><th>Close</th><th>TimeZone</th><th>LotSize</th><th>PointValue</th><th>Price</th><th>Volume</th><th>Time</th><th>Sources</th><th>Mapping</th><th>Bloomberg</th><th>..</th></tr></thead><tbody><tr><td>0</td><td><table><thead><tr><th>Exchange</th><th>Ticker</th><th>Provider</th></tr></thead><tbody><tr><td><div class=\"dni-plaintext\">IFEU</div></td><td><div class=\"dni-plaintext\">WBSQ22</div></td><td><div class=\"dni-plaintext\">&lt;null&gt;</div></td></tr></tbody></table></td><td>Future</td><td>IFEU</td><td>IFEU</td><td>Wti Crude Futures - Wti - Aug22</td><td>USD</td><td>GB</td><td><div class=\"dni-plaintext\">[ { { &quot;tick&quot;: 0.01 }: Price: 0, Tick: 0.01 } ]</div></td><td></td><td><table><thead><tr><th>Seconds</th><th>Nanos</th></tr></thead><tbody><tr><td><div class=\"dni-plaintext\">0</div></td><td><div class=\"dni-plaintext\">0</div></td></tr></tbody></table></td><td><table><thead><tr><th>Seconds</th><th>Nanos</th></tr></thead><tbody><tr><td><div class=\"dni-plaintext\">0</div></td><td><div class=\"dni-plaintext\">0</div></td></tr></tbody></table></td><td></td><td><div class=\"dni-plaintext\">1</div></td><td><div class=\"dni-plaintext\">1000</div></td><td><div class=\"dni-plaintext\">103.37</div></td><td><div class=\"dni-plaintext\">35461</div></td><td><table><thead><tr><th>Year</th><th>Month</th><th>Day</th></tr></thead><tbody><tr><td><div class=\"dni-plaintext\">2022</div></td><td><div class=\"dni-plaintext\">7</div></td><td><div class=\"dni-plaintext\">11</div></td></tr></tbody></table></td><td><div class=\"dni-plaintext\">1</div></td><td><div class=\"dni-plaintext\">[ { [Idc|756, 756|F:WBS\\Q22]: Key: Idc|756, Value: 756|F:WBS\\Q22 }, { [Figi, BBG00DLK2233]: Key: Figi, Value: BBG00DLK2233 } ]</div></td><td></td></tr><tr><td>1</td><td><table><thead><tr><th>Exchange</th><th>Ticker</th><th>Provider</th></tr></thead><tbody><tr><td><div class=\"dni-plaintext\">IFEU</div></td><td><div class=\"dni-plaintext\">WBSU22</div></td><td><div class=\"dni-plaintext\">&lt;null&gt;</div></td></tr></tbody></table></td><td>Future</td><td>IFEU</td><td>IFEU</td><td>Wti Crude Futures - Wti - Sep22</td><td>USD</td><td>GB</td><td><div class=\"dni-plaintext\">[ { { &quot;tick&quot;: 0.01 }: Price: 0, Tick: 0.01 } ]</div></td><td></td><td><table><thead><tr><th>Seconds</th><th>Nanos</th></tr></thead><tbody><tr><td><div class=\"dni-plaintext\">0</div></td><td><div class=\"dni-plaintext\">0</div></td></tr></tbody></table></td><td><table><thead><tr><th>Seconds</th><th>Nanos</th></tr></thead><tbody><tr><td><div class=\"dni-plaintext\">0</div></td><td><div class=\"dni-plaintext\">0</div></td></tr></tbody></table></td><td></td><td><div class=\"dni-plaintext\">1</div></td><td><div class=\"dni-plaintext\">1000</div></td><td><div class=\"dni-plaintext\">100.48</div></td><td><div class=\"dni-plaintext\">38354</div></td><td><table><thead><tr><th>Year</th><th>Month</th><th>Day</th></tr></thead><tbody><tr><td><div class=\"dni-plaintext\">2022</div></td><td><div class=\"dni-plaintext\">7</div></td><td><div class=\"dni-plaintext\">11</div></td></tr></tbody></table></td><td><div class=\"dni-plaintext\">1</div></td><td><div class=\"dni-plaintext\">[ { [Idc|756, 756|F:WBS\\U22]: Key: Idc|756, Value: 756|F:WBS\\U22 }, { [Figi, BBG00DLK2242]: Key: Figi, Value: BBG00DLK2242 } ]</div></td><td></td></tr><tr><td>2</td><td><table><thead><tr><th>Exchange</th><th>Ticker</th><th>Provider</th></tr></thead><tbody><tr><td><div class=\"dni-plaintext\">IFEU</div></td><td><div class=\"dni-plaintext\">WBSV22</div></td><td><div class=\"dni-plaintext\">&lt;null&gt;</div></td></tr></tbody></table></td><td>Future</td><td>IFEU</td><td>IFEU</td><td>Wti Crude Futures - Wti - Oct22</td><td>USD</td><td>GB</td><td><div class=\"dni-plaintext\">[ { { &quot;tick&quot;: 0.01 }: Price: 0, Tick: 0.01 } ]</div></td><td></td><td><table><thead><tr><th>Seconds</th><th>Nanos</th></tr></thead><tbody><tr><td><div class=\"dni-plaintext\">0</div></td><td><div class=\"dni-plaintext\">0</div></td></tr></tbody></table></td><td><table><thead><tr><th>Seconds</th><th>Nanos</th></tr></thead><tbody><tr><td><div class=\"dni-plaintext\">0</div></td><td><div class=\"dni-plaintext\">0</div></td></tr></tbody></table></td><td></td><td><div class=\"dni-plaintext\">1</div></td><td><div class=\"dni-plaintext\">1000</div></td><td><div class=\"dni-plaintext\">97.61</div></td><td><div class=\"dni-plaintext\">28725</div></td><td><table><thead><tr><th>Year</th><th>Month</th><th>Day</th></tr></thead><tbody><tr><td><div class=\"dni-plaintext\">2022</div></td><td><div class=\"dni-plaintext\">7</div></td><td><div class=\"dni-plaintext\">11</div></td></tr></tbody></table></td><td><div class=\"dni-plaintext\">1</div></td><td><div class=\"dni-plaintext\">[ { [Idc|756, 756|F:WBS\\V22]: Key: Idc|756, Value: 756|F:WBS\\V22 }, { [Figi, BBG00DLK2251]: Key: Figi, Value: BBG00DLK2251 } ]</div></td><td></td></tr><tr><td>3</td><td><table><thead><tr><th>Exchange</th><th>Ticker</th><th>Provider</th></tr></thead><tbody><tr><td><div class=\"dni-plaintext\">IFEU</div></td><td><div class=\"dni-plaintext\">WBSX22</div></td><td><div class=\"dni-plaintext\">&lt;null&gt;</div></td></tr></tbody></table></td><td>Future</td><td>IFEU</td><td>IFEU</td><td>Wti Crude Futures - Wti - Nov22</td><td>USD</td><td>GB</td><td><div class=\"dni-plaintext\">[ { { &quot;tick&quot;: 0.01 }: Price: 0, Tick: 0.01 } ]</div></td><td></td><td><table><thead><tr><th>Seconds</th><th>Nanos</th></tr></thead><tbody><tr><td><div class=\"dni-plaintext\">0</div></td><td><div class=\"dni-plaintext\">0</div></td></tr></tbody></table></td><td><table><thead><tr><th>Seconds</th><th>Nanos</th></tr></thead><tbody><tr><td><div class=\"dni-plaintext\">0</div></td><td><div class=\"dni-plaintext\">0</div></td></tr></tbody></table></td><td></td><td><div class=\"dni-plaintext\">1</div></td><td><div class=\"dni-plaintext\">1000</div></td><td><div class=\"dni-plaintext\">95.05</div></td><td><div class=\"dni-plaintext\">14649</div></td><td><table><thead><tr><th>Year</th><th>Month</th><th>Day</th></tr></thead><tbody><tr><td><div class=\"dni-plaintext\">2022</div></td><td><div class=\"dni-plaintext\">7</div></td><td><div class=\"dni-plaintext\">11</div></td></tr></tbody></table></td><td><div class=\"dni-plaintext\">1</div></td><td><div class=\"dni-plaintext\">[ { [Idc|756, 756|F:WBS\\X22]: Key: Idc|756, Value: 756|F:WBS\\X22 }, { [Figi, BBG00DLK2260]: Key: Figi, Value: BBG00DLK2260 } ]</div></td><td></td></tr><tr><td>4</td><td><table><thead><tr><th>Exchange</th><th>Ticker</th><th>Provider</th></tr></thead><tbody><tr><td><div class=\"dni-plaintext\">IFEU</div></td><td><div class=\"dni-plaintext\">WBSZ22</div></td><td><div class=\"dni-plaintext\">&lt;null&gt;</div></td></tr></tbody></table></td><td>Future</td><td>IFEU</td><td>IFEU</td><td>Wti Crude Futures - Wti - Dec22</td><td>USD</td><td>GB</td><td><div class=\"dni-plaintext\">[ { { &quot;tick&quot;: 0.01 }: Price: 0, Tick: 0.01 } ]</div></td><td></td><td><table><thead><tr><th>Seconds</th><th>Nanos</th></tr></thead><tbody><tr><td><div class=\"dni-plaintext\">0</div></td><td><div class=\"dni-plaintext\">0</div></td></tr></tbody></table></td><td><table><thead><tr><th>Seconds</th><th>Nanos</th></tr></thead><tbody><tr><td><div class=\"dni-plaintext\">0</div></td><td><div class=\"dni-plaintext\">0</div></td></tr></tbody></table></td><td></td><td><div class=\"dni-plaintext\">1</div></td><td><div class=\"dni-plaintext\">1000</div></td><td><div class=\"dni-plaintext\">92.99</div></td><td><div class=\"dni-plaintext\">20872</div></td><td><table><thead><tr><th>Year</th><th>Month</th><th>Day</th></tr></thead><tbody><tr><td><div class=\"dni-plaintext\">2022</div></td><td><div class=\"dni-plaintext\">7</div></td><td><div class=\"dni-plaintext\">11</div></td></tr></tbody></table></td><td><div class=\"dni-plaintext\">1</div></td><td><div class=\"dni-plaintext\">[ { [Idc|756, 756|F:WBS\\Z22]: Key: Idc|756, Value: 756|F:WBS\\Z22 }, { [Figi, BBG005M8J3W4]: Key: Figi, Value: BBG005M8J3W4 } ]</div></td><td></td></tr><tr><td>5</td><td><table><thead><tr><th>Exchange</th><th>Ticker</th><th>Provider</th></tr></thead><tbody><tr><td><div class=\"dni-plaintext\">IFEU</div></td><td><div class=\"dni-plaintext\">WBSF23</div></td><td><div class=\"dni-plaintext\">&lt;null&gt;</div></td></tr></tbody></table></td><td>Future</td><td>IFEU</td><td>IFEU</td><td>Wti Crude Futures - Wti - Jan23</td><td>USD</td><td>GB</td><td><div class=\"dni-plaintext\">[ { { &quot;tick&quot;: 0.01 }: Price: 0, Tick: 0.01 } ]</div></td><td></td><td><table><thead><tr><th>Seconds</th><th>Nanos</th></tr></thead><tbody><tr><td><div class=\"dni-plaintext\">0</div></td><td><div class=\"dni-plaintext\">0</div></td></tr></tbody></table></td><td><table><thead><tr><th>Seconds</th><th>Nanos</th></tr></thead><tbody><tr><td><div class=\"dni-plaintext\">0</div></td><td><div class=\"dni-plaintext\">0</div></td></tr></tbody></table></td><td></td><td><div class=\"dni-plaintext\">1</div></td><td><div class=\"dni-plaintext\">1000</div></td><td><div class=\"dni-plaintext\">91.61</div></td><td><div class=\"dni-plaintext\">2648</div></td><td><table><thead><tr><th>Year</th><th>Month</th><th>Day</th></tr></thead><tbody><tr><td><div class=\"dni-plaintext\">2022</div></td><td><div class=\"dni-plaintext\">7</div></td><td><div class=\"dni-plaintext\">11</div></td></tr></tbody></table></td><td><div class=\"dni-plaintext\">1</div></td><td><div class=\"dni-plaintext\">[ { [Idc|756, 756|F:WBS\\F23]: Key: Idc|756, Value: 756|F:WBS\\F23 }, { [Figi, BBG00DLK23S4]: Key: Figi, Value: BBG00DLK23S4 } ]</div></td><td></td></tr><tr><td>6</td><td><table><thead><tr><th>Exchange</th><th>Ticker</th><th>Provider</th></tr></thead><tbody><tr><td><div class=\"dni-plaintext\">IFEU</div></td><td><div class=\"dni-plaintext\">WBSG23</div></td><td><div class=\"dni-plaintext\">&lt;null&gt;</div></td></tr></tbody></table></td><td>Future</td><td>IFEU</td><td>IFEU</td><td>Wti Crude Futures - Wti - Feb23</td><td>USD</td><td>GB</td><td><div class=\"dni-plaintext\">[ { { &quot;tick&quot;: 0.01 }: Price: 0, Tick: 0.01 } ]</div></td><td></td><td><table><thead><tr><th>Seconds</th><th>Nanos</th></tr></thead><tbody><tr><td><div class=\"dni-plaintext\">0</div></td><td><div class=\"dni-plaintext\">0</div></td></tr></tbody></table></td><td><table><thead><tr><th>Seconds</th><th>Nanos</th></tr></thead><tbody><tr><td><div class=\"dni-plaintext\">0</div></td><td><div class=\"dni-plaintext\">0</div></td></tr></tbody></table></td><td></td><td><div class=\"dni-plaintext\">1</div></td><td><div class=\"dni-plaintext\">1000</div></td><td><div class=\"dni-plaintext\">90.07</div></td><td><div class=\"dni-plaintext\">1248</div></td><td><table><thead><tr><th>Year</th><th>Month</th><th>Day</th></tr></thead><tbody><tr><td><div class=\"dni-plaintext\">2022</div></td><td><div class=\"dni-plaintext\">7</div></td><td><div class=\"dni-plaintext\">11</div></td></tr></tbody></table></td><td><div class=\"dni-plaintext\">1</div></td><td><div class=\"dni-plaintext\">[ { [Idc|756, 756|F:WBS\\G23]: Key: Idc|756, Value: 756|F:WBS\\G23 }, { [Figi, BBG00DLK23Y7]: Key: Figi, Value: BBG00DLK23Y7 } ]</div></td><td></td></tr><tr><td>7</td><td><table><thead><tr><th>Exchange</th><th>Ticker</th><th>Provider</th></tr></thead><tbody><tr><td><div class=\"dni-plaintext\">IFEU</div></td><td><div class=\"dni-plaintext\">WBSH23</div></td><td><div class=\"dni-plaintext\">&lt;null&gt;</div></td></tr></tbody></table></td><td>Future</td><td>IFEU</td><td>IFEU</td><td>Wti Crude Futures - Wti - Mar23</td><td>USD</td><td>GB</td><td><div class=\"dni-plaintext\">[ { { &quot;tick&quot;: 0.01 }: Price: 0, Tick: 0.01 } ]</div></td><td></td><td><table><thead><tr><th>Seconds</th><th>Nanos</th></tr></thead><tbody><tr><td><div class=\"dni-plaintext\">0</div></td><td><div class=\"dni-plaintext\">0</div></td></tr></tbody></table></td><td><table><thead><tr><th>Seconds</th><th>Nanos</th></tr></thead><tbody><tr><td><div class=\"dni-plaintext\">0</div></td><td><div class=\"dni-plaintext\">0</div></td></tr></tbody></table></td><td></td><td><div class=\"dni-plaintext\">1</div></td><td><div class=\"dni-plaintext\">1000</div></td><td><div class=\"dni-plaintext\">88.82</div></td><td><div class=\"dni-plaintext\">1415</div></td><td><table><thead><tr><th>Year</th><th>Month</th><th>Day</th></tr></thead><tbody><tr><td><div class=\"dni-plaintext\">2022</div></td><td><div class=\"dni-plaintext\">7</div></td><td><div class=\"dni-plaintext\">11</div></td></tr></tbody></table></td><td><div class=\"dni-plaintext\">1</div></td><td><div class=\"dni-plaintext\">[ { [Idc|756, 756|F:WBS\\H23]: Key: Idc|756, Value: 756|F:WBS\\H23 }, { [Figi, BBG00FJJK500]: Key: Figi, Value: BBG00FJJK500 } ]</div></td><td></td></tr><tr><td>8</td><td><table><thead><tr><th>Exchange</th><th>Ticker</th><th>Provider</th></tr></thead><tbody><tr><td><div class=\"dni-plaintext\">IFEU</div></td><td><div class=\"dni-plaintext\">WBSJ23</div></td><td><div class=\"dni-plaintext\">&lt;null&gt;</div></td></tr></tbody></table></td><td>Future</td><td>IFEU</td><td>IFEU</td><td>Wti Crude Futures - Wti - Apr23</td><td>USD</td><td>GB</td><td><div class=\"dni-plaintext\">[ { { &quot;tick&quot;: 0.01 }: Price: 0, Tick: 0.01 } ]</div></td><td></td><td><table><thead><tr><th>Seconds</th><th>Nanos</th></tr></thead><tbody><tr><td><div class=\"dni-plaintext\">0</div></td><td><div class=\"dni-plaintext\">0</div></td></tr></tbody></table></td><td><table><thead><tr><th>Seconds</th><th>Nanos</th></tr></thead><tbody><tr><td><div class=\"dni-plaintext\">0</div></td><td><div class=\"dni-plaintext\">0</div></td></tr></tbody></table></td><td></td><td><div class=\"dni-plaintext\">1</div></td><td><div class=\"dni-plaintext\">1000</div></td><td><div class=\"dni-plaintext\">87.76</div></td><td><div class=\"dni-plaintext\">351</div></td><td><table><thead><tr><th>Year</th><th>Month</th><th>Day</th></tr></thead><tbody><tr><td><div class=\"dni-plaintext\">2022</div></td><td><div class=\"dni-plaintext\">7</div></td><td><div class=\"dni-plaintext\">11</div></td></tr></tbody></table></td><td><div class=\"dni-plaintext\">1</div></td><td><div class=\"dni-plaintext\">[ { [Idc|756, 756|F:WBS\\J23]: Key: Idc|756, Value: 756|F:WBS\\J23 }, { [Figi, BBG00FJJK528]: Key: Figi, Value: BBG00FJJK528 } ]</div></td><td></td></tr><tr><td>9</td><td><table><thead><tr><th>Exchange</th><th>Ticker</th><th>Provider</th></tr></thead><tbody><tr><td><div class=\"dni-plaintext\">IFEU</div></td><td><div class=\"dni-plaintext\">WBSK23</div></td><td><div class=\"dni-plaintext\">&lt;null&gt;</div></td></tr></tbody></table></td><td>Future</td><td>IFEU</td><td>IFEU</td><td>Wti Crude Futures - Wti - May23</td><td>USD</td><td>GB</td><td><div class=\"dni-plaintext\">[ { { &quot;tick&quot;: 0.01 }: Price: 0, Tick: 0.01 } ]</div></td><td></td><td><table><thead><tr><th>Seconds</th><th>Nanos</th></tr></thead><tbody><tr><td><div class=\"dni-plaintext\">0</div></td><td><div class=\"dni-plaintext\">0</div></td></tr></tbody></table></td><td><table><thead><tr><th>Seconds</th><th>Nanos</th></tr></thead><tbody><tr><td><div class=\"dni-plaintext\">0</div></td><td><div class=\"dni-plaintext\">0</div></td></tr></tbody></table></td><td></td><td><div class=\"dni-plaintext\">1</div></td><td><div class=\"dni-plaintext\">1000</div></td><td><div class=\"dni-plaintext\">80.58</div></td><td><div class=\"dni-plaintext\">268</div></td><td><table><thead><tr><th>Year</th><th>Month</th><th>Day</th></tr></thead><tbody><tr><td><div class=\"dni-plaintext\">2022</div></td><td><div class=\"dni-plaintext\">7</div></td><td><div class=\"dni-plaintext\">11</div></td></tr></tbody></table></td><td><div class=\"dni-plaintext\">1</div></td><td><div class=\"dni-plaintext\">[ { [Idc|756, 756|F:WBS\\K23]: Key: Idc|756, Value: 756|F:WBS\\K23 }, { [Figi, BBG00FJJK537]: Key: Figi, Value: BBG00FJJK537 } ]</div></td><td></td></tr><tr><td>10</td><td><table><thead><tr><th>Exchange</th><th>Ticker</th><th>Provider</th></tr></thead><tbody><tr><td><div class=\"dni-plaintext\">IFEU</div></td><td><div class=\"dni-plaintext\">WBSM23</div></td><td><div class=\"dni-plaintext\">&lt;null&gt;</div></td></tr></tbody></table></td><td>Future</td><td>IFEU</td><td>IFEU</td><td>Wti Crude Futures - Wti - Jun23</td><td>USD</td><td>GB</td><td><div class=\"dni-plaintext\">[ { { &quot;tick&quot;: 0.01 }: Price: 0, Tick: 0.01 } ]</div></td><td></td><td><table><thead><tr><th>Seconds</th><th>Nanos</th></tr></thead><tbody><tr><td><div class=\"dni-plaintext\">0</div></td><td><div class=\"dni-plaintext\">0</div></td></tr></tbody></table></td><td><table><thead><tr><th>Seconds</th><th>Nanos</th></tr></thead><tbody><tr><td><div class=\"dni-plaintext\">0</div></td><td><div class=\"dni-plaintext\">0</div></td></tr></tbody></table></td><td></td><td><div class=\"dni-plaintext\">1</div></td><td><div class=\"dni-plaintext\">1000</div></td><td><div class=\"dni-plaintext\">85.61</div></td><td><div class=\"dni-plaintext\">2649</div></td><td><table><thead><tr><th>Year</th><th>Month</th><th>Day</th></tr></thead><tbody><tr><td><div class=\"dni-plaintext\">2022</div></td><td><div class=\"dni-plaintext\">7</div></td><td><div class=\"dni-plaintext\">11</div></td></tr></tbody></table></td><td><div class=\"dni-plaintext\">1</div></td><td><div class=\"dni-plaintext\">[ { [Idc|756, 756|F:WBS\\M23]: Key: Idc|756, Value: 756|F:WBS\\M23 }, { [Figi, BBG007KD9VP8]: Key: Figi, Value: BBG007KD9VP8 } ]</div></td><td></td></tr><tr><td>11</td><td><table><thead><tr><th>Exchange</th><th>Ticker</th><th>Provider</th></tr></thead><tbody><tr><td><div class=\"dni-plaintext\">IFEU</div></td><td><div class=\"dni-plaintext\">WBSN23</div></td><td><div class=\"dni-plaintext\">&lt;null&gt;</div></td></tr></tbody></table></td><td>Future</td><td>IFEU</td><td>IFEU</td><td>Wti Crude Futures - Wti - Jul23</td><td>USD</td><td>GB</td><td><div class=\"dni-plaintext\">[ { { &quot;tick&quot;: 0.01 }: Price: 0, Tick: 0.01 } ]</div></td><td></td><td><table><thead><tr><th>Seconds</th><th>Nanos</th></tr></thead><tbody><tr><td><div class=\"dni-plaintext\">0</div></td><td><div class=\"dni-plaintext\">0</div></td></tr></tbody></table></td><td><table><thead><tr><th>Seconds</th><th>Nanos</th></tr></thead><tbody><tr><td><div class=\"dni-plaintext\">0</div></td><td><div class=\"dni-plaintext\">0</div></td></tr></tbody></table></td><td></td><td><div class=\"dni-plaintext\">1</div></td><td><div class=\"dni-plaintext\">1000</div></td><td><div class=\"dni-plaintext\">85.36</div></td><td><div class=\"dni-plaintext\">66</div></td><td><table><thead><tr><th>Year</th><th>Month</th><th>Day</th></tr></thead><tbody><tr><td><div class=\"dni-plaintext\">2022</div></td><td><div class=\"dni-plaintext\">7</div></td><td><div class=\"dni-plaintext\">11</div></td></tr></tbody></table></td><td><div class=\"dni-plaintext\">1</div></td><td><div class=\"dni-plaintext\">[ { [Idc|756, 756|F:WBS\\N23]: Key: Idc|756, Value: 756|F:WBS\\N23 }, { [Figi, BBG00FJJK546]: Key: Figi, Value: BBG00FJJK546 } ]</div></td><td></td></tr><tr><td>12</td><td><table><thead><tr><th>Exchange</th><th>Ticker</th><th>Provider</th></tr></thead><tbody><tr><td><div class=\"dni-plaintext\">IFEU</div></td><td><div class=\"dni-plaintext\">WBSQ23</div></td><td><div class=\"dni-plaintext\">&lt;null&gt;</div></td></tr></tbody></table></td><td>Future</td><td>IFEU</td><td>IFEU</td><td>Wti Crude Futures - Wti - Aug23</td><td>USD</td><td>GB</td><td><div class=\"dni-plaintext\">[ { { &quot;tick&quot;: 0.01 }: Price: 0, Tick: 0.01 } ]</div></td><td></td><td><table><thead><tr><th>Seconds</th><th>Nanos</th></tr></thead><tbody><tr><td><div class=\"dni-plaintext\">0</div></td><td><div class=\"dni-plaintext\">0</div></td></tr></tbody></table></td><td><table><thead><tr><th>Seconds</th><th>Nanos</th></tr></thead><tbody><tr><td><div class=\"dni-plaintext\">0</div></td><td><div class=\"dni-plaintext\">0</div></td></tr></tbody></table></td><td></td><td><div class=\"dni-plaintext\">1</div></td><td><div class=\"dni-plaintext\">1000</div></td><td><div class=\"dni-plaintext\">77.13</div></td><td><div class=\"dni-plaintext\">31</div></td><td><table><thead><tr><th>Year</th><th>Month</th><th>Day</th></tr></thead><tbody><tr><td><div class=\"dni-plaintext\">2022</div></td><td><div class=\"dni-plaintext\">7</div></td><td><div class=\"dni-plaintext\">11</div></td></tr></tbody></table></td><td><div class=\"dni-plaintext\">1</div></td><td><div class=\"dni-plaintext\">[ { [Idc|756, 756|F:WBS\\Q23]: Key: Idc|756, Value: 756|F:WBS\\Q23 }, { [Figi, BBG00FJJK555]: Key: Figi, Value: BBG00FJJK555 } ]</div></td><td></td></tr><tr><td>13</td><td><table><thead><tr><th>Exchange</th><th>Ticker</th><th>Provider</th></tr></thead><tbody><tr><td><div class=\"dni-plaintext\">IFEU</div></td><td><div class=\"dni-plaintext\">WBSU23</div></td><td><div class=\"dni-plaintext\">&lt;null&gt;</div></td></tr></tbody></table></td><td>Future</td><td>IFEU</td><td>IFEU</td><td>Wti Crude Futures - Wti - Sep23</td><td>USD</td><td>GB</td><td><div class=\"dni-plaintext\">[ { { &quot;tick&quot;: 0.01 }: Price: 0, Tick: 0.01 } ]</div></td><td></td><td><table><thead><tr><th>Seconds</th><th>Nanos</th></tr></thead><tbody><tr><td><div class=\"dni-plaintext\">0</div></td><td><div class=\"dni-plaintext\">0</div></td></tr></tbody></table></td><td><table><thead><tr><th>Seconds</th><th>Nanos</th></tr></thead><tbody><tr><td><div class=\"dni-plaintext\">0</div></td><td><div class=\"dni-plaintext\">0</div></td></tr></tbody></table></td><td></td><td><div class=\"dni-plaintext\">1</div></td><td><div class=\"dni-plaintext\">1000</div></td><td><div class=\"dni-plaintext\">77.61</div></td><td><div class=\"dni-plaintext\">171</div></td><td><table><thead><tr><th>Year</th><th>Month</th><th>Day</th></tr></thead><tbody><tr><td><div class=\"dni-plaintext\">2022</div></td><td><div class=\"dni-plaintext\">7</div></td><td><div class=\"dni-plaintext\">11</div></td></tr></tbody></table></td><td><div class=\"dni-plaintext\">1</div></td><td><div class=\"dni-plaintext\">[ { [Idc|756, 756|F:WBS\\U23]: Key: Idc|756, Value: 756|F:WBS\\U23 }, { [Figi, BBG00FJJK564]: Key: Figi, Value: BBG00FJJK564 } ]</div></td><td></td></tr><tr><td>14</td><td><table><thead><tr><th>Exchange</th><th>Ticker</th><th>Provider</th></tr></thead><tbody><tr><td><div class=\"dni-plaintext\">IFEU</div></td><td><div class=\"dni-plaintext\">WBSV23</div></td><td><div class=\"dni-plaintext\">&lt;null&gt;</div></td></tr></tbody></table></td><td>Future</td><td>IFEU</td><td>IFEU</td><td>Wti Crude Futures - Wti - Oct23</td><td>USD</td><td>GB</td><td><div class=\"dni-plaintext\">[ { { &quot;tick&quot;: 0.01 }: Price: 0, Tick: 0.01 } ]</div></td><td></td><td><table><thead><tr><th>Seconds</th><th>Nanos</th></tr></thead><tbody><tr><td><div class=\"dni-plaintext\">0</div></td><td><div class=\"dni-plaintext\">0</div></td></tr></tbody></table></td><td><table><thead><tr><th>Seconds</th><th>Nanos</th></tr></thead><tbody><tr><td><div class=\"dni-plaintext\">0</div></td><td><div class=\"dni-plaintext\">0</div></td></tr></tbody></table></td><td></td><td><div class=\"dni-plaintext\">1</div></td><td><div class=\"dni-plaintext\">1000</div></td><td><div class=\"dni-plaintext\">77.21</div></td><td><div class=\"dni-plaintext\">20</div></td><td><table><thead><tr><th>Year</th><th>Month</th><th>Day</th></tr></thead><tbody><tr><td><div class=\"dni-plaintext\">2022</div></td><td><div class=\"dni-plaintext\">7</div></td><td><div class=\"dni-plaintext\">11</div></td></tr></tbody></table></td><td><div class=\"dni-plaintext\">1</div></td><td><div class=\"dni-plaintext\">[ { [Idc|756, 756|F:WBS\\V23]: Key: Idc|756, Value: 756|F:WBS\\V23 }, { [Figi, BBG00FJJK573]: Key: Figi, Value: BBG00FJJK573 } ]</div></td><td></td></tr><tr><td>15</td><td><table><thead><tr><th>Exchange</th><th>Ticker</th><th>Provider</th></tr></thead><tbody><tr><td><div class=\"dni-plaintext\">IFEU</div></td><td><div class=\"dni-plaintext\">WBSX23</div></td><td><div class=\"dni-plaintext\">&lt;null&gt;</div></td></tr></tbody></table></td><td>Future</td><td>IFEU</td><td>IFEU</td><td>Wti Crude Futures - Wti - Nov23</td><td>USD</td><td>GB</td><td><div class=\"dni-plaintext\">[ { { &quot;tick&quot;: 0.01 }: Price: 0, Tick: 0.01 } ]</div></td><td></td><td><table><thead><tr><th>Seconds</th><th>Nanos</th></tr></thead><tbody><tr><td><div class=\"dni-plaintext\">0</div></td><td><div class=\"dni-plaintext\">0</div></td></tr></tbody></table></td><td><table><thead><tr><th>Seconds</th><th>Nanos</th></tr></thead><tbody><tr><td><div class=\"dni-plaintext\">0</div></td><td><div class=\"dni-plaintext\">0</div></td></tr></tbody></table></td><td></td><td><div class=\"dni-plaintext\">1</div></td><td><div class=\"dni-plaintext\">1000</div></td><td><div class=\"dni-plaintext\">76.46</div></td><td><div class=\"dni-plaintext\">33</div></td><td><table><thead><tr><th>Year</th><th>Month</th><th>Day</th></tr></thead><tbody><tr><td><div class=\"dni-plaintext\">2022</div></td><td><div class=\"dni-plaintext\">7</div></td><td><div class=\"dni-plaintext\">11</div></td></tr></tbody></table></td><td><div class=\"dni-plaintext\">1</div></td><td><div class=\"dni-plaintext\">[ { [Idc|756, 756|F:WBS\\X23]: Key: Idc|756, Value: 756|F:WBS\\X23 }, { [Figi, BBG00FJJK582]: Key: Figi, Value: BBG00FJJK582 } ]</div></td><td></td></tr><tr><td>16</td><td><table><thead><tr><th>Exchange</th><th>Ticker</th><th>Provider</th></tr></thead><tbody><tr><td><div class=\"dni-plaintext\">IFEU</div></td><td><div class=\"dni-plaintext\">WBSZ23</div></td><td><div class=\"dni-plaintext\">&lt;null&gt;</div></td></tr></tbody></table></td><td>Future</td><td>IFEU</td><td>IFEU</td><td>Wti Crude Futures - Wti - Dec23</td><td>USD</td><td>GB</td><td><div class=\"dni-plaintext\">[ { { &quot;tick&quot;: 0.01 }: Price: 0, Tick: 0.01 } ]</div></td><td></td><td><table><thead><tr><th>Seconds</th><th>Nanos</th></tr></thead><tbody><tr><td><div class=\"dni-plaintext\">0</div></td><td><div class=\"dni-plaintext\">0</div></td></tr></tbody></table></td><td><table><thead><tr><th>Seconds</th><th>Nanos</th></tr></thead><tbody><tr><td><div class=\"dni-plaintext\">0</div></td><td><div class=\"dni-plaintext\">0</div></td></tr></tbody></table></td><td></td><td><div class=\"dni-plaintext\">1</div></td><td><div class=\"dni-plaintext\">1000</div></td><td><div class=\"dni-plaintext\">81.91</div></td><td><div class=\"dni-plaintext\">3379</div></td><td><table><thead><tr><th>Year</th><th>Month</th><th>Day</th></tr></thead><tbody><tr><td><div class=\"dni-plaintext\">2022</div></td><td><div class=\"dni-plaintext\">7</div></td><td><div class=\"dni-plaintext\">11</div></td></tr></tbody></table></td><td><div class=\"dni-plaintext\">1</div></td><td><div class=\"dni-plaintext\">[ { [Idc|756, 756|F:WBS\\Z23]: Key: Idc|756, Value: 756|F:WBS\\Z23 }, { [Figi, BBG007KD9VQ7]: Key: Figi, Value: BBG007KD9VQ7 } ]</div></td><td></td></tr><tr><td>17</td><td><table><thead><tr><th>Exchange</th><th>Ticker</th><th>Provider</th></tr></thead><tbody><tr><td><div class=\"dni-plaintext\">IFEU</div></td><td><div class=\"dni-plaintext\">WBSF24</div></td><td><div class=\"dni-plaintext\">&lt;null&gt;</div></td></tr></tbody></table></td><td>Future</td><td>IFEU</td><td>IFEU</td><td>Wti Crude Futures - Wti - Jan24</td><td>USD</td><td>GB</td><td><div class=\"dni-plaintext\">[ { { &quot;tick&quot;: 0.01 }: Price: 0, Tick: 0.01 } ]</div></td><td></td><td><table><thead><tr><th>Seconds</th><th>Nanos</th></tr></thead><tbody><tr><td><div class=\"dni-plaintext\">0</div></td><td><div class=\"dni-plaintext\">0</div></td></tr></tbody></table></td><td><table><thead><tr><th>Seconds</th><th>Nanos</th></tr></thead><tbody><tr><td><div class=\"dni-plaintext\">0</div></td><td><div class=\"dni-plaintext\">0</div></td></tr></tbody></table></td><td></td><td><div class=\"dni-plaintext\">1</div></td><td><div class=\"dni-plaintext\">1000</div></td><td><div class=\"dni-plaintext\">73.5</div></td><td><div class=\"dni-plaintext\">15</div></td><td><table><thead><tr><th>Year</th><th>Month</th><th>Day</th></tr></thead><tbody><tr><td><div class=\"dni-plaintext\">2022</div></td><td><div class=\"dni-plaintext\">7</div></td><td><div class=\"dni-plaintext\">11</div></td></tr></tbody></table></td><td><div class=\"dni-plaintext\">1</div></td><td><div class=\"dni-plaintext\">[ { [Idc|756, 756|F:WBS\\F24]: Key: Idc|756, Value: 756|F:WBS\\F24 }, { [Figi, BBG00FLYN930]: Key: Figi, Value: BBG00FLYN930 } ]</div></td><td></td></tr><tr><td>18</td><td><table><thead><tr><th>Exchange</th><th>Ticker</th><th>Provider</th></tr></thead><tbody><tr><td><div class=\"dni-plaintext\">IFEU</div></td><td><div class=\"dni-plaintext\">WBSG24</div></td><td><div class=\"dni-plaintext\">&lt;null&gt;</div></td></tr></tbody></table></td><td>Future</td><td>IFEU</td><td>IFEU</td><td>Wti Crude Futures - Wti - Feb24</td><td>USD</td><td>GB</td><td><div class=\"dni-plaintext\">[ { { &quot;tick&quot;: 0.01 }: Price: 0, Tick: 0.01 } ]</div></td><td></td><td><table><thead><tr><th>Seconds</th><th>Nanos</th></tr></thead><tbody><tr><td><div class=\"dni-plaintext\">0</div></td><td><div class=\"dni-plaintext\">0</div></td></tr></tbody></table></td><td><table><thead><tr><th>Seconds</th><th>Nanos</th></tr></thead><tbody><tr><td><div class=\"dni-plaintext\">0</div></td><td><div class=\"dni-plaintext\">0</div></td></tr></tbody></table></td><td></td><td><div class=\"dni-plaintext\">1</div></td><td><div class=\"dni-plaintext\">1000</div></td><td><div class=\"dni-plaintext\">85.25</div></td><td><div class=\"dni-plaintext\">2</div></td><td><table><thead><tr><th>Year</th><th>Month</th><th>Day</th></tr></thead><tbody><tr><td><div class=\"dni-plaintext\">2022</div></td><td><div class=\"dni-plaintext\">7</div></td><td><div class=\"dni-plaintext\">8</div></td></tr></tbody></table></td><td><div class=\"dni-plaintext\">1</div></td><td><div class=\"dni-plaintext\">[ { [Idc|756, 756|F:WBS\\G24]: Key: Idc|756, Value: 756|F:WBS\\G24 }, { [Figi, BBG00FS7LDH0]: Key: Figi, Value: BBG00FS7LDH0 } ]</div></td><td></td></tr><tr><td>19</td><td><table><thead><tr><th>Exchange</th><th>Ticker</th><th>Provider</th></tr></thead><tbody><tr><td><div class=\"dni-plaintext\">IFEU</div></td><td><div class=\"dni-plaintext\">WBSH24</div></td><td><div class=\"dni-plaintext\">&lt;null&gt;</div></td></tr></tbody></table></td><td>Future</td><td>IFEU</td><td>IFEU</td><td>Wti Crude Futures - Wti - Mar24</td><td>USD</td><td>GB</td><td><div class=\"dni-plaintext\">[ { { &quot;tick&quot;: 0.01 }: Price: 0, Tick: 0.01 } ]</div></td><td></td><td><table><thead><tr><th>Seconds</th><th>Nanos</th></tr></thead><tbody><tr><td><div class=\"dni-plaintext\">0</div></td><td><div class=\"dni-plaintext\">0</div></td></tr></tbody></table></td><td><table><thead><tr><th>Seconds</th><th>Nanos</th></tr></thead><tbody><tr><td><div class=\"dni-plaintext\">0</div></td><td><div class=\"dni-plaintext\">0</div></td></tr></tbody></table></td><td></td><td><div class=\"dni-plaintext\">1</div></td><td><div class=\"dni-plaintext\">1000</div></td><td><div class=\"dni-plaintext\">80.62</div></td><td><div class=\"dni-plaintext\">1365</div></td><td><table><thead><tr><th>Year</th><th>Month</th><th>Day</th></tr></thead><tbody><tr><td><div class=\"dni-plaintext\">2022</div></td><td><div class=\"dni-plaintext\">4</div></td><td><div class=\"dni-plaintext\">18</div></td></tr></tbody></table></td><td><div class=\"dni-plaintext\">1</div></td><td><div class=\"dni-plaintext\">[ { [Idc|756, 756|F:WBS\\H24]: Key: Idc|756, Value: 756|F:WBS\\H24 }, { [Figi, BBG00G02THS0]: Key: Figi, Value: BBG00G02THS0 } ]</div></td><td></td></tr><tr><td colspan=\"22\"><i>... (more)</i></td></tr></tbody></table>"
      ]
     },
     "metadata": {},
     "output_type": "display_data"
    }
   ],
   "source": [
    "let request = \n",
    "  new StaticDataRequest(\n",
    "    AssetType = AssetType.Future,\n",
    "    FutureContract = \"WBS\"\n",
    "  )\n",
    "\n",
    "let reply = service.StaticData(request, headers)\n",
    "reply.Futures\n",
    "|> Seq.sortBy (fun f -> f.Maturity.Year * 16 + f.Maturity.Month)\n",
    "|> display"
   ]
  },
  {
   "cell_type": "markdown",
   "id": "severe-holly",
   "metadata": {},
   "source": [
    "##### 4.3.3 Future - by Ticker"
   ]
  },
  {
   "cell_type": "code",
   "execution_count": 15,
   "id": "colonial-rehabilitation",
   "metadata": {
    "dotnet_interactive": {
     "language": "fsharp"
    },
    "execution": {
     "iopub.execute_input": "2022-10-25T16:22:21.533807Z",
     "iopub.status.busy": "2022-10-25T16:22:21.533460Z",
     "iopub.status.idle": "2022-10-25T16:22:21.589118Z",
     "shell.execute_reply": "2022-10-25T16:22:21.588850Z"
    },
    "vscode": {
     "languageId": "dotnet-interactive.fsharp"
    }
   },
   "outputs": [
    {
     "data": {
      "text/html": [
       "<i>(empty)</i>"
      ]
     },
     "metadata": {},
     "output_type": "display_data"
    }
   ],
   "source": [
    "let request = \n",
    "  new StaticDataRequest(\n",
    "    AssetType = AssetType.Future,\n",
    "    Ticker = \"WBSH20\"\n",
    "  )\n",
    "\n",
    "let reply = service.StaticData(request, headers)\n",
    "reply.Futures\n",
    "|> display"
   ]
  },
  {
   "cell_type": "markdown",
   "id": "macro-trinidad",
   "metadata": {},
   "source": [
    "##### 4.3.4 Future - by Category"
   ]
  },
  {
   "cell_type": "code",
   "execution_count": 16,
   "id": "verified-armenia",
   "metadata": {
    "dotnet_interactive": {
     "language": "fsharp"
    },
    "execution": {
     "iopub.execute_input": "2022-10-25T16:22:21.591036Z",
     "iopub.status.busy": "2022-10-25T16:22:21.590725Z",
     "iopub.status.idle": "2022-10-25T16:22:21.640523Z",
     "shell.execute_reply": "2022-10-25T16:22:21.640271Z"
    },
    "vscode": {
     "languageId": "dotnet-interactive.fsharp"
    }
   },
   "outputs": [
    {
     "data": {
      "text/html": [
       "<i>(empty)</i>"
      ]
     },
     "metadata": {},
     "output_type": "display_data"
    }
   ],
   "source": [
    "let request = \n",
    "  new StaticDataRequest(\n",
    "    AssetType = AssetType.Future,\n",
    "    FutureCategory = \"Crude Oil\",\n",
    "    Count = 3\n",
    "  )\n",
    "\n",
    "let reply = service.StaticData(request, headers)\n",
    "reply.Futures\n",
    "|> display"
   ]
  }
 ],
 "metadata": {
  "kernelspec": {
   "display_name": ".NET (F#)",
   "language": "F#",
   "name": ".net-fsharp"
  },
  "language_info": {
   "file_extension": ".fs",
   "mimetype": "text/x-fsharp",
   "name": "F#",
   "pygments_lexer": "fsharp",
   "version": "6.0"
  }
 },
 "nbformat": 4,
 "nbformat_minor": 5
}
