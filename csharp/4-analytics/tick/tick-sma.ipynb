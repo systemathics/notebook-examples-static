{
 "cells": [
  {
   "cell_type": "markdown",
   "id": "assisted-refrigerator",
   "metadata": {},
   "source": [
    "# Generate SMA using dedicated service - C#\n",
    "\n",
    "### Overview\n",
    "Moving averages smooth the price movements by filtering out the \"noise\" caused by short-term price fluctuations.They also form the building blocks for a wide range of technical indicators.\n",
    "\n",
    "Computing moving averages over a defined number of time periods is useful to:\n",
    "* identify the trend direction\n",
    "* determine support and resistance levels\n",
    "\n",
    "This sample demonstrates how to request and plot **on-demand** *simple moving average - SMA* from a dedicated data service.\n",
    "\n",
    "### Inputs/outputs\n",
    "Simple moving averages' requests require instrument's identifier, date time intervals and number of periods as per inputs.\n",
    "\n",
    "Basically, SMA is formed by computing the average price of a security over a specific number of points. As its name implies, simple moving average is an average that moves. Old data is dropped and new data becomes available, causing the average to move along the time.\n",
    "\n",
    "N-points SMA data point is computed by adding up the last N period's trade prices and then dividing by N as follows:\n",
    "\n",
    "$$ SMA = \\frac{\\Sigma Price n}{N} $$\n",
    "Where:\n",
    "* *Price n* is the trade price of the *period n*\n",
    "* *N* is the count of time periods\n",
    "\n",
    "This sample shows how to plot a simple graph for basis technical analysis using an open source library. \n",
    "\n",
    "### Services used\n",
    "This sample uses *gRPC requests* in order to retrieve SMA indicator from the hosted service. The queried endpoint in this script are:\n",
    "* *TickSmaService*: to directly retrieve SMA data from the server\n",
    "\n",
    "### Packages required\n",
    "1. Systemathics packages:\n",
    "    * *Systemathics.Apis.Type.Shared.V1*\n",
    "    * *Systemathics.Apis.Services.TickAnalytics.V1*\n",
    "2. Open source packages\n",
    "    * *Google.Protobuf.WellKnownTypes*\n",
    "    * *Google.Type*\n",
    "    * *Grpc.Net.Client*\n",
    "    * *Grpc.Core*\n",
    "    * *XPlot.Plotly* as per display package\n",
    "\n",
    "***"
   ]
  },
  {
   "cell_type": "markdown",
   "id": "olive-title",
   "metadata": {},
   "source": [
    "# Run SMA sample"
   ]
  },
  {
   "cell_type": "markdown",
   "id": "junior-elephant",
   "metadata": {},
   "source": [
    "### Step 1: Install packages"
   ]
  },
  {
   "cell_type": "code",
   "execution_count": 1,
   "id": "union-terminology",
   "metadata": {
    "dotnet_interactive": {
     "language": "csharp"
    },
    "execution": {
     "iopub.execute_input": "2022-10-25T16:16:32.289677Z",
     "iopub.status.busy": "2022-10-25T16:16:32.278726Z",
     "iopub.status.idle": "2022-10-25T16:16:37.724598Z",
     "shell.execute_reply": "2022-10-25T16:16:37.716780Z"
    },
    "vscode": {
     "languageId": "dotnet-interactive.csharp"
    }
   },
   "outputs": [
    {
     "data": {
      "text/html": [
       "\n",
       "<div>\n",
       "    <div id='dotnet-interactive-this-cell-18959.Microsoft.DotNet.Interactive.Http.HttpPort' style='display: none'>\n",
       "        The below script needs to be able to find the current output cell; this is an easy method to get it.\n",
       "    </div>\n",
       "    <script type='text/javascript'>\n",
       "async function probeAddresses(probingAddresses) {\n",
       "    function timeout(ms, promise) {\n",
       "        return new Promise(function (resolve, reject) {\n",
       "            setTimeout(function () {\n",
       "                reject(new Error('timeout'))\n",
       "            }, ms)\n",
       "            promise.then(resolve, reject)\n",
       "        })\n",
       "    }\n",
       "\n",
       "    if (Array.isArray(probingAddresses)) {\n",
       "        for (let i = 0; i < probingAddresses.length; i++) {\n",
       "\n",
       "            let rootUrl = probingAddresses[i];\n",
       "\n",
       "            if (!rootUrl.endsWith('/')) {\n",
       "                rootUrl = `${rootUrl}/`;\n",
       "            }\n",
       "\n",
       "            try {\n",
       "                let response = await timeout(1000, fetch(`${rootUrl}discovery`, {\n",
       "                    method: 'POST',\n",
       "                    cache: 'no-cache',\n",
       "                    mode: 'cors',\n",
       "                    timeout: 1000,\n",
       "                    headers: {\n",
       "                        'Content-Type': 'text/plain'\n",
       "                    },\n",
       "                    body: probingAddresses[i]\n",
       "                }));\n",
       "\n",
       "                if (response.status == 200) {\n",
       "                    return rootUrl;\n",
       "                }\n",
       "            }\n",
       "            catch (e) { }\n",
       "        }\n",
       "    }\n",
       "}\n",
       "\n",
       "function loadDotnetInteractiveApi() {\n",
       "    probeAddresses([\"http://172.28.169.63:1334/\", \"http://127.0.0.1:1334/\"])\n",
       "        .then((root) => {\n",
       "        // use probing to find host url and api resources\n",
       "        // load interactive helpers and language services\n",
       "        let dotnetInteractiveRequire = require.config({\n",
       "        context: '18959.Microsoft.DotNet.Interactive.Http.HttpPort',\n",
       "                paths:\n",
       "            {\n",
       "                'dotnet-interactive': `${root}resources`\n",
       "                }\n",
       "        }) || require;\n",
       "\n",
       "            window.dotnetInteractiveRequire = dotnetInteractiveRequire;\n",
       "\n",
       "            window.configureRequireFromExtension = function(extensionName, extensionCacheBuster) {\n",
       "                let paths = {};\n",
       "                paths[extensionName] = `${root}extensions/${extensionName}/resources/`;\n",
       "                \n",
       "                let internalRequire = require.config({\n",
       "                    context: extensionCacheBuster,\n",
       "                    paths: paths,\n",
       "                    urlArgs: `cacheBuster=${extensionCacheBuster}`\n",
       "                    }) || require;\n",
       "\n",
       "                return internalRequire\n",
       "            };\n",
       "        \n",
       "            dotnetInteractiveRequire([\n",
       "                    'dotnet-interactive/dotnet-interactive'\n",
       "                ],\n",
       "                function (dotnet) {\n",
       "                    dotnet.init(window);\n",
       "                },\n",
       "                function (error) {\n",
       "                    console.log(error);\n",
       "                }\n",
       "            );\n",
       "        })\n",
       "        .catch(error => {console.log(error);});\n",
       "    }\n",
       "\n",
       "// ensure `require` is available globally\n",
       "if ((typeof(require) !==  typeof(Function)) || (typeof(require.config) !== typeof(Function))) {\n",
       "    let require_script = document.createElement('script');\n",
       "    require_script.setAttribute('src', 'https://cdnjs.cloudflare.com/ajax/libs/require.js/2.3.6/require.min.js');\n",
       "    require_script.setAttribute('type', 'text/javascript');\n",
       "    \n",
       "    \n",
       "    require_script.onload = function() {\n",
       "        loadDotnetInteractiveApi();\n",
       "    };\n",
       "\n",
       "    document.getElementsByTagName('head')[0].appendChild(require_script);\n",
       "}\n",
       "else {\n",
       "    loadDotnetInteractiveApi();\n",
       "}\n",
       "\n",
       "    </script>\n",
       "</div>"
      ]
     },
     "metadata": {},
     "output_type": "display_data"
    },
    {
     "data": {
      "text/html": [
       "<div><div><strong>Restore sources</strong><ul><li><span> file://~/.nuget/packages/</span></li><li><span> https://api.nuget.org/v3/index.json</span></li></ul></div><div></div><div><strong>Installed Packages</strong><ul><li><span>Systemathics.Apis, 0.13.2-pre</span></li><li><span>XPlot.Plotly.Interactive, 4.0.6</span></li></ul></div></div>"
      ]
     },
     "metadata": {},
     "output_type": "display_data"
    },
    {
     "data": {
      "text/markdown": [
       "Loading extensions from `XPlot.Plotly.Interactive.dll`"
      ]
     },
     "metadata": {},
     "output_type": "display_data"
    },
    {
     "data": {
      "text/markdown": [
       "Configuring PowerShell Kernel for XPlot.Plotly integration."
      ]
     },
     "metadata": {},
     "output_type": "display_data"
    },
    {
     "data": {
      "text/markdown": [
       "Installed support for XPlot.Plotly."
      ]
     },
     "metadata": {},
     "output_type": "display_data"
    }
   ],
   "source": [
    "#i \"nuget: file://~/.nuget/packages/\"\n",
    "#i \"nuget: https://api.nuget.org/v3/index.json\"\n",
    "#r \"nuget: Systemathics.Apis, 0.*-pre*\"\n",
    "#r \"nuget: XPlot.Plotly.Interactive\""
   ]
  },
  {
   "cell_type": "code",
   "execution_count": 2,
   "id": "agreed-exchange",
   "metadata": {
    "dotnet_interactive": {
     "language": "csharp"
    },
    "execution": {
     "iopub.execute_input": "2022-10-25T16:16:37.726646Z",
     "iopub.status.busy": "2022-10-25T16:16:37.726330Z",
     "iopub.status.idle": "2022-10-25T16:16:37.832622Z",
     "shell.execute_reply": "2022-10-25T16:16:37.832370Z"
    },
    "vscode": {
     "languageId": "dotnet-interactive.csharp"
    }
   },
   "outputs": [],
   "source": [
    "using Systemathics.Apis.Helpers;\n",
    "using Systemathics.Apis.Type.Shared.V1;\n",
    "using Systemathics.Apis.Services.TickAnalytics.V1;\n",
    "using Google.Protobuf.WellKnownTypes;\n",
    "using Google.Type;\n",
    "using Grpc.Core;\n",
    "using Grpc.Net.Client;\n",
    "using XPlot.Plotly;\n",
    "using XPlot.Plotly.Interactive;"
   ]
  },
  {
   "cell_type": "markdown",
   "id": "liberal-density",
   "metadata": {},
   "source": [
    "### Step 2: Prepare API requests\n",
    "The following code snippets retrieve authentication token and prepare the API request by: opening the *channel* and adding the *token* to the request header:"
   ]
  },
  {
   "cell_type": "code",
   "execution_count": 3,
   "id": "framed-champion",
   "metadata": {
    "dotnet_interactive": {
     "language": "csharp"
    },
    "execution": {
     "iopub.execute_input": "2022-10-25T16:16:37.835207Z",
     "iopub.status.busy": "2022-10-25T16:16:37.834664Z",
     "iopub.status.idle": "2022-10-25T16:16:38.873764Z",
     "shell.execute_reply": "2022-10-25T16:16:38.873515Z"
    },
    "vscode": {
     "languageId": "dotnet-interactive.csharp"
    }
   },
   "outputs": [],
   "source": [
    "// Get token as metadata\n",
    "var headers = TokenHelpers.GetTokenAsMetaData();\n",
    "\n",
    "// Create communication channel\n",
    "var channel = ChannelHelpers.GetChannel();"
   ]
  },
  {
   "cell_type": "markdown",
   "id": "fuzzy-cigarette",
   "metadata": {},
   "source": [
    "### Step 3: Create and process request\n",
    "To request *SMA* service, we need to specify:\n",
    "* Instrument identifier\n",
    "* Time period selection: select start and end dates\n",
    "* Simple moving average request parameters"
   ]
  },
  {
   "cell_type": "markdown",
   "id": "passive-cleaners",
   "metadata": {},
   "source": [
    "#### 3.1 Instrument selection"
   ]
  },
  {
   "cell_type": "code",
   "execution_count": 4,
   "id": "manufactured-circus",
   "metadata": {
    "dotnet_interactive": {
     "language": "csharp"
    },
    "execution": {
     "iopub.execute_input": "2022-10-25T16:16:38.875718Z",
     "iopub.status.busy": "2022-10-25T16:16:38.875400Z",
     "iopub.status.idle": "2022-10-25T16:16:38.940354Z",
     "shell.execute_reply": "2022-10-25T16:16:38.940105Z"
    },
    "vscode": {
     "languageId": "dotnet-interactive.csharp"
    }
   },
   "outputs": [],
   "source": [
    "var ticker = \"AAPL\";\n",
    "var exchange = \"BATS\";"
   ]
  },
  {
   "cell_type": "markdown",
   "id": "wireless-lunch",
   "metadata": {},
   "source": [
    "#### 3.2 SMA parameters"
   ]
  },
  {
   "cell_type": "code",
   "execution_count": 5,
   "id": "fundamental-heading",
   "metadata": {
    "dotnet_interactive": {
     "language": "csharp"
    },
    "execution": {
     "iopub.execute_input": "2022-10-25T16:16:38.942485Z",
     "iopub.status.busy": "2022-10-25T16:16:38.942181Z",
     "iopub.status.idle": "2022-10-25T16:16:39.097911Z",
     "shell.execute_reply": "2022-10-25T16:16:39.097600Z"
    },
    "vscode": {
     "languageId": "dotnet-interactive.csharp"
    }
   },
   "outputs": [],
   "source": [
    "var field = SmaPrice.Trade;\n",
    "var longSma = 200;\n",
    "var shortSma = 50;\n",
    "var sampling = new Duration { Seconds = 1 * 60 };"
   ]
  },
  {
   "cell_type": "markdown",
   "id": "aerial-activity",
   "metadata": {},
   "source": [
    "#### 3.3 Time period delimitation"
   ]
  },
  {
   "cell_type": "code",
   "execution_count": 6,
   "id": "structured-providence",
   "metadata": {
    "dotnet_interactive": {
     "language": "csharp"
    },
    "execution": {
     "iopub.execute_input": "2022-10-25T16:16:39.100482Z",
     "iopub.status.busy": "2022-10-25T16:16:39.099886Z",
     "iopub.status.idle": "2022-10-25T16:16:39.184255Z",
     "shell.execute_reply": "2022-10-25T16:16:39.183996Z"
    },
    "vscode": {
     "languageId": "dotnet-interactive.csharp"
    }
   },
   "outputs": [],
   "source": [
    "var today = DateTime.Today;\n",
    "var dateIntervals = new DateInterval\n",
    "{\n",
    "    StartDate = new Date { Year = 2022, Month = 02, Day = 18 },\n",
    "    EndDate = new Date { Year = 2022, Month = 02, Day = 18 }\n",
    "};\n",
    "\n",
    "var timeInterval = new TimeInterval\n",
    "{\n",
    "    StartTime = new TimeOfDay { Hours = 08, Minutes = 00, Seconds = 00 },\n",
    "    EndTime = new TimeOfDay { Hours = 20, Minutes = 00, Seconds = 00 }\n",
    "};"
   ]
  },
  {
   "cell_type": "markdown",
   "id": "serial-conviction",
   "metadata": {},
   "source": [
    "#### 3.4 Request creation\n",
    "The following code snippets creates *gRPC client*, process request and returns the request reply:"
   ]
  },
  {
   "cell_type": "code",
   "execution_count": 7,
   "id": "committed-translation",
   "metadata": {
    "dotnet_interactive": {
     "language": "csharp"
    },
    "execution": {
     "iopub.execute_input": "2022-10-25T16:16:39.187431Z",
     "iopub.status.busy": "2022-10-25T16:16:39.186817Z",
     "iopub.status.idle": "2022-10-25T16:16:39.290481Z",
     "shell.execute_reply": "2022-10-25T16:16:39.290224Z"
    },
    "vscode": {
     "languageId": "dotnet-interactive.csharp"
    }
   },
   "outputs": [],
   "source": [
    "// Generate constraints based on the previous time selection:\n",
    "var constraints = new Constraints();\n",
    "constraints.DateIntervals.Add(dateIntervals);\n",
    "constraints.TimeIntervals.Add(timeInterval);   "
   ]
  },
  {
   "cell_type": "markdown",
   "id": "recreational-column",
   "metadata": {},
   "source": [
    "The following code snippets create requests for: *Long SMA*, *Short SMA* and *Prices*:"
   ]
  },
  {
   "cell_type": "code",
   "execution_count": 8,
   "id": "peaceful-portugal",
   "metadata": {
    "dotnet_interactive": {
     "language": "csharp"
    },
    "execution": {
     "iopub.execute_input": "2022-10-25T16:16:39.292542Z",
     "iopub.status.busy": "2022-10-25T16:16:39.292184Z",
     "iopub.status.idle": "2022-10-25T16:16:39.365869Z",
     "shell.execute_reply": "2022-10-25T16:16:39.365606Z"
    },
    "vscode": {
     "languageId": "dotnet-interactive.csharp"
    }
   },
   "outputs": [],
   "source": [
    "// Generate 200-points SMA request\n",
    "var smaLongRequest = new TickSmaRequest()\n",
    "{\n",
    "    Identifier = new Identifier { Exchange = exchange, Ticker = ticker}, \n",
    "    Constraints = constraints,  \n",
    "    Field = field,\n",
    "    Length = longSma, \n",
    "    Sampling = sampling\n",
    "};\n",
    "\n",
    "// Generate 50-points SMA request\n",
    "var smaShortRequest = new TickSmaRequest()\n",
    "{\n",
    "    Identifier = new Identifier { Exchange = exchange, Ticker = ticker}, \n",
    "    Constraints = constraints,  \n",
    "    Field = field,\n",
    "    Length = shortSma, \n",
    "    Sampling = sampling\n",
    "};\n",
    "\n",
    "// Instantiate the tick SMA service\n",
    "var service = new TickSmaService.TickSmaServiceClient(channel);"
   ]
  },
  {
   "cell_type": "markdown",
   "id": "accessible-present",
   "metadata": {},
   "source": [
    "### Step 4: Visualize data"
   ]
  },
  {
   "cell_type": "markdown",
   "id": "several-harris",
   "metadata": {},
   "source": [
    "#### 4.1 Retrieve long SMA data"
   ]
  },
  {
   "cell_type": "code",
   "execution_count": 9,
   "id": "continuous-psychology",
   "metadata": {
    "dotnet_interactive": {
     "language": "csharp"
    },
    "execution": {
     "iopub.execute_input": "2022-10-25T16:16:39.368536Z",
     "iopub.status.busy": "2022-10-25T16:16:39.368000Z",
     "iopub.status.idle": "2022-10-25T16:16:40.070714Z",
     "shell.execute_reply": "2022-10-25T16:16:40.070466Z"
    },
    "vscode": {
     "languageId": "dotnet-interactive.csharp"
    }
   },
   "outputs": [],
   "source": [
    "// smalong includes long SMA data points\n",
    "var smalong = new List<TickSmaResponse>();\n",
    "\n",
    "var call = service.TickSma(smaLongRequest, headers);\n",
    "await foreach (var data in call.ResponseStream.ReadAllAsync())\n",
    "{\n",
    "    smalong.Add(data);\n",
    "}\n",
    "//display(smalong);"
   ]
  },
  {
   "cell_type": "markdown",
   "id": "liquid-design",
   "metadata": {},
   "source": [
    "#### 4.2 Retrieve short SMA data"
   ]
  },
  {
   "cell_type": "code",
   "execution_count": 10,
   "id": "empty-ethernet",
   "metadata": {
    "dotnet_interactive": {
     "language": "csharp"
    },
    "execution": {
     "iopub.execute_input": "2022-10-25T16:16:40.072786Z",
     "iopub.status.busy": "2022-10-25T16:16:40.072410Z",
     "iopub.status.idle": "2022-10-25T16:16:40.246230Z",
     "shell.execute_reply": "2022-10-25T16:16:40.245984Z"
    },
    "vscode": {
     "languageId": "dotnet-interactive.csharp"
    }
   },
   "outputs": [],
   "source": [
    "// smashort includes short SMA data points\n",
    "var smashort = new List<TickSmaResponse>();\n",
    "\n",
    "var call = service.TickSma(smaShortRequest, headers);\n",
    "await foreach (var data in call.ResponseStream.ReadAllAsync())\n",
    "{\n",
    "    smashort.Add(data);\n",
    "}\n",
    "//display(smashort);"
   ]
  },
  {
   "cell_type": "markdown",
   "id": "charged-identifier",
   "metadata": {},
   "source": [
    "#### 4.4 Plot SMAs and prices\n",
    "Plot SMA and prices request' results with the package of your choice.<br>*`XPlot.Plotly`* is used as per open source display package. Plot a simple line graph with the SMA data points and prices: "
   ]
  },
  {
   "cell_type": "code",
   "execution_count": 11,
   "id": "threaded-services",
   "metadata": {
    "dotnet_interactive": {
     "language": "csharp"
    },
    "execution": {
     "iopub.execute_input": "2022-10-25T16:16:40.249457Z",
     "iopub.status.busy": "2022-10-25T16:16:40.248451Z",
     "iopub.status.idle": "2022-10-25T16:16:40.758538Z",
     "shell.execute_reply": "2022-10-25T16:16:40.758289Z"
    },
    "vscode": {
     "languageId": "dotnet-interactive.csharp"
    }
   },
   "outputs": [
    {
     "data": {
      "text/html": [
       "<!DOCTYPE html>\n",
       "<div style=\"width: 1500px; height: 800px;\" id=\"a514d775-5d67-4a38-b5a6-f8dbdd9cdf57\"></div><script type=\"text/javascript\">\n",
       "\n",
       "var renderPlotly = function() {\n",
       "    var xplotRequire = require.config({context:'xplot-3.0.1',paths:{plotly:'https://cdn.plot.ly/plotly-1.49.2.min'}}) || require;\n",
       "    xplotRequire(['plotly'], function(Plotly) { \n",
       "\n",
       "            var data = [{\"type\":\"scattergl\",\"x\":[\"2022-02-18T12:02:30.1796Z\",\"2022-02-18T12:02:30.1796Z\",\"2022-02-18T12:04:52.1222Z\",\"2022-02-18T12:04:52.1222Z\",\"2022-02-18T12:06:07.8669Z\",\"2022-02-18T12:06:07.8669Z\",\"2022-02-18T12:15:16.1606Z\",\"2022-02-18T12:15:16.1606Z\",\"2022-02-18T12:15:16.1606Z\",\"2022-02-18T12:15:16.1606Z\",\"2022-02-18T12:15:16.1606Z\",\"2022-02-18T12:15:16.1606Z\",\"2022-02-18T12:15:16.1606Z\",\"2022-02-18T12:15:16.1606Z\",\"2022-02-18T12:15:16.1606Z\",\"2022-02-18T12:16:22.475Z\",\"2022-02-18T12:20:57.4042Z\",\"2022-02-18T12:20:57.4042Z\",\"2022-02-18T12:20:57.4042Z\",\"2022-02-18T12:20:57.4042Z\",\"2022-02-18T12:26:52.8925Z\",\"2022-02-18T12:26:52.8925Z\",\"2022-02-18T12:26:52.8925Z\",\"2022-02-18T12:26:52.8925Z\",\"2022-02-18T12:26:52.8925Z\",\"2022-02-18T12:26:52.8925Z\",\"2022-02-18T12:27:20.9579Z\",\"2022-02-18T12:28:13.7387Z\",\"2022-02-18T12:30:02.232Z\",\"2022-02-18T12:30:02.232Z\",\"2022-02-18T12:32:45.2367Z\",\"2022-02-18T12:32:45.2367Z\",\"2022-02-18T12:42:36.5051Z\",\"2022-02-18T12:42:36.5051Z\",\"2022-02-18T12:42:36.5051Z\",\"2022-02-18T12:42:36.5051Z\",\"2022-02-18T12:42:36.5051Z\",\"2022-02-18T12:42:36.5051Z\",\"2022-02-18T12:42:36.5051Z\",\"2022-02-18T12:42:36.5051Z\",\"2022-02-18T12:42:36.5051Z\",\"2022-02-18T12:42:36.5051Z\",\"2022-02-18T12:48:51.0231Z\",\"2022-02-18T12:48:51.0231Z\",\"2022-02-18T12:48:51.0231Z\",\"2022-02-18T12:48:51.0231Z\",\"2022-02-18T12:48:51.0231Z\",\"2022-02-18T12:48:51.0231Z\",\"2022-02-18T12:50:43.0792Z\",\"2022-02-18T12:50:43.0792Z\",\"2022-02-18T12:53:20.298Z\",\"2022-02-18T12:53:20.298Z\",\"2022-02-18T12:53:20.298Z\",\"2022-02-18T12:54:36.8801Z\",\"2022-02-18T12:55:54.9804Z\",\"2022-02-18T12:56:35.7423Z\",\"2022-02-18T12:57:41.7356Z\",\"2022-02-18T12:58:23.5701Z\",\"2022-02-18T13:01:28.3917Z\",\"2022-02-18T13:01:28.3917Z\",\"2022-02-18T13:01:28.3917Z\",\"2022-02-18T13:02:09.6535Z\",\"2022-02-18T13:03:20.0713Z\",\"2022-02-18T13:04:12.1663Z\",\"2022-02-18T13:07:15.05Z\",\"2022-02-18T13:07:15.05Z\",\"2022-02-18T13:07:15.05Z\",\"2022-02-18T13:09:07.4503Z\",\"2022-02-18T13:09:07.4503Z\",\"2022-02-18T13:10:14.7432Z\",\"2022-02-18T13:11:07.0203Z\",\"2022-02-18T13:12:24.2175Z\",\"2022-02-18T13:13:11.1026Z\",\"2022-02-18T13:14:16.1957Z\",\"2022-02-18T13:15:07.2142Z\",\"2022-02-18T13:16:21.4848Z\",\"2022-02-18T13:17:12.3438Z\",\"2022-02-18T13:18:11.0805Z\",\"2022-02-18T13:19:41.7073Z\",\"2022-02-18T13:21:03.6987Z\",\"2022-02-18T13:21:03.6987Z\",\"2022-02-18T13:22:08.5945Z\",\"2022-02-18T13:23:16.444Z\",\"2022-02-18T13:24:06.2841Z\",\"2022-02-18T13:25:39.9145Z\",\"2022-02-18T13:26:10.9593Z\",\"2022-02-18T13:27:02.4703Z\",\"2022-02-18T13:28:12.3869Z\",\"2022-02-18T13:29:15.1486Z\",\"2022-02-18T13:30:55.2173Z\",\"2022-02-18T13:31:08.4791Z\",\"2022-02-18T13:32:51.9778Z\",\"2022-02-18T13:33:01.1537Z\",\"2022-02-18T13:34:45.3542Z\",\"2022-02-18T13:35:24.696Z\",\"2022-02-18T13:36:16.8407Z\",\"2022-02-18T13:38:17.3437Z\",\"2022-02-18T13:38:17.3437Z\",\"2022-02-18T13:39:27.3322Z\",\"2022-02-18T13:40:46.1205Z\",\"2022-02-18T13:41:05.6894Z\",\"2022-02-18T13:43:43.408Z\",\"2022-02-18T13:43:43.408Z\",\"2022-02-18T13:44:09.3654Z\",\"2022-02-18T13:45:04.0956Z\",\"2022-02-18T13:46:02.55Z\",\"2022-02-18T13:48:07.4297Z\",\"2022-02-18T13:48:07.4297Z\",\"2022-02-18T13:49:32.1737Z\",\"2022-02-18T13:51:12.4693Z\",\"2022-02-18T13:51:12.4693Z\",\"2022-02-18T13:52:42.9699Z\",\"2022-02-18T13:53:09.4433Z\",\"2022-02-18T13:54:35.4883Z\",\"2022-02-18T13:56:12.2059Z\",\"2022-02-18T13:56:12.2059Z\",\"2022-02-18T13:57:11.8987Z\",\"2022-02-18T13:58:23.6761Z\",\"2022-02-18T13:59:34.4502Z\",\"2022-02-18T14:00:08.8701Z\",\"2022-02-18T14:01:03.7621Z\",\"2022-02-18T14:02:09.6944Z\",\"2022-02-18T14:03:07.6644Z\",\"2022-02-18T14:04:09.2581Z\",\"2022-02-18T14:05:03.1376Z\",\"2022-02-18T14:06:18.7915Z\",\"2022-02-18T14:07:52.1633Z\",\"2022-02-18T14:08:39.1547Z\",\"2022-02-18T14:09:59.2839Z\",\"2022-02-18T14:10:01.4086Z\",\"2022-02-18T14:11:53.457Z\",\"2022-02-18T14:12:09.9873Z\",\"2022-02-18T14:14:49.3502Z\",\"2022-02-18T14:14:49.3502Z\",\"2022-02-18T14:15:03.4267Z\",\"2022-02-18T14:16:39.1687Z\",\"2022-02-18T14:17:57.9342Z\",\"2022-02-18T14:18:20.8559Z\",\"2022-02-18T14:19:01.4907Z\",\"2022-02-18T14:20:02.9097Z\",\"2022-02-18T14:21:53.2799Z\",\"2022-02-18T14:22:52.9737Z\",\"2022-02-18T14:23:24.9637Z\",\"2022-02-18T14:24:08.8351Z\",\"2022-02-18T14:25:00.2067Z\",\"2022-02-18T14:26:00.0596Z\",\"2022-02-18T14:27:00.0333Z\",\"2022-02-18T14:28:00.1794Z\",\"2022-02-18T14:29:14.0551Z\",\"2022-02-18T14:30:00.0274Z\",\"2022-02-18T14:31:00.0566Z\",\"2022-02-18T14:32:00.8638Z\",\"2022-02-18T14:33:00.0512Z\",\"2022-02-18T14:34:00.5132Z\",\"2022-02-18T14:35:00.7343Z\",\"2022-02-18T14:36:00.2937Z\",\"2022-02-18T14:37:00.0347Z\",\"2022-02-18T14:38:00.11Z\",\"2022-02-18T14:39:00.8473Z\",\"2022-02-18T14:40:00.1223Z\",\"2022-02-18T14:41:00.122Z\",\"2022-02-18T14:42:00.2688Z\",\"2022-02-18T14:43:00.9674Z\",\"2022-02-18T14:44:00.3447Z\",\"2022-02-18T14:45:00.0849Z\",\"2022-02-18T14:46:00.26Z\",\"2022-02-18T14:47:01.9508Z\",\"2022-02-18T14:48:00.0439Z\",\"2022-02-18T14:49:00.1126Z\",\"2022-02-18T14:50:00.0322Z\",\"2022-02-18T14:51:00.0823Z\",\"2022-02-18T14:52:00.2604Z\",\"2022-02-18T14:53:00.9866Z\",\"2022-02-18T14:54:00.0386Z\",\"2022-02-18T14:55:00.2795Z\",\"2022-02-18T14:56:00.0342Z\",\"2022-02-18T14:57:00.0667Z\",\"2022-02-18T14:58:00.0271Z\",\"2022-02-18T14:59:00.3527Z\",\"2022-02-18T15:00:00.0302Z\",\"2022-02-18T15:01:00.3707Z\",\"2022-02-18T15:02:00.0237Z\",\"2022-02-18T15:03:00.1106Z\",\"2022-02-18T15:04:00.2506Z\",\"2022-02-18T15:05:00.1291Z\",\"2022-02-18T15:06:00.6934Z\",\"2022-02-18T15:07:00.9473Z\",\"2022-02-18T15:08:02.9857Z\",\"2022-02-18T15:09:00.0114Z\",\"2022-02-18T15:10:00.0599Z\",\"2022-02-18T15:11:02.7341Z\",\"2022-02-18T15:12:00.0472Z\",\"2022-02-18T15:13:01.8883Z\",\"2022-02-18T15:14:01.967Z\",\"2022-02-18T15:15:00.5796Z\",\"2022-02-18T15:16:00.1508Z\",\"2022-02-18T15:17:00.3246Z\",\"2022-02-18T15:18:00.1489Z\",\"2022-02-18T15:19:00.6013Z\",\"2022-02-18T15:20:00.5028Z\",\"2022-02-18T15:21:00.6969Z\",\"2022-02-18T15:22:00.4036Z\",\"2022-02-18T15:23:00.318Z\",\"2022-02-18T15:24:00.1579Z\",\"2022-02-18T15:25:01.9438Z\",\"2022-02-18T15:26:05.6695Z\",\"2022-02-18T15:27:00.0492Z\",\"2022-02-18T15:28:00.489Z\",\"2022-02-18T15:29:00.4156Z\",\"2022-02-18T15:30:00.8291Z\",\"2022-02-18T15:31:00.4575Z\",\"2022-02-18T15:32:00.3638Z\",\"2022-02-18T15:33:00.0303Z\",\"2022-02-18T15:34:00.2365Z\",\"2022-02-18T15:35:00.448Z\",\"2022-02-18T15:36:00.8436Z\",\"2022-02-18T15:37:00.1438Z\",\"2022-02-18T15:38:00.0259Z\",\"2022-02-18T15:39:00.0448Z\",\"2022-02-18T15:40:00.3389Z\",\"2022-02-18T15:41:01.899Z\",\"2022-02-18T15:42:00.4202Z\",\"2022-02-18T15:43:00.4664Z\",\"2022-02-18T15:44:00.0355Z\",\"2022-02-18T15:45:00.051Z\",\"2022-02-18T15:46:00.8996Z\",\"2022-02-18T15:47:00.0557Z\",\"2022-02-18T15:48:01.3618Z\",\"2022-02-18T15:49:00.2933Z\",\"2022-02-18T15:50:00.5764Z\",\"2022-02-18T15:51:00.0399Z\",\"2022-02-18T15:52:00.0406Z\",\"2022-02-18T15:53:02.6976Z\",\"2022-02-18T15:54:00.6822Z\",\"2022-02-18T15:55:00.197Z\",\"2022-02-18T15:56:00.4329Z\",\"2022-02-18T15:57:00.0508Z\",\"2022-02-18T15:58:01.5625Z\",\"2022-02-18T15:59:00.1808Z\",\"2022-02-18T16:00:00.0419Z\",\"2022-02-18T16:01:00.3392Z\",\"2022-02-18T16:02:00.3328Z\",\"2022-02-18T16:03:00.1208Z\",\"2022-02-18T16:04:00.7056Z\",\"2022-02-18T16:05:00.0563Z\",\"2022-02-18T16:06:00.0487Z\",\"2022-02-18T16:07:00.452Z\",\"2022-02-18T16:08:00.0386Z\",\"2022-02-18T16:09:01.6379Z\",\"2022-02-18T16:10:00.8646Z\",\"2022-02-18T16:11:00.1465Z\",\"2022-02-18T16:12:03.7497Z\",\"2022-02-18T16:13:00.0305Z\",\"2022-02-18T16:14:04.004Z\",\"2022-02-18T16:15:00.2407Z\",\"2022-02-18T16:16:00.9446Z\",\"2022-02-18T16:17:00.6174Z\",\"2022-02-18T16:18:00.1658Z\",\"2022-02-18T16:19:00.0847Z\",\"2022-02-18T16:20:03.6044Z\",\"2022-02-18T16:21:00.3018Z\",\"2022-02-18T16:22:02.1341Z\",\"2022-02-18T16:23:01.7157Z\",\"2022-02-18T16:24:01.1671Z\",\"2022-02-18T16:25:00.2084Z\",\"2022-02-18T16:26:01.1882Z\",\"2022-02-18T16:27:00.0783Z\",\"2022-02-18T16:28:00.0721Z\",\"2022-02-18T16:29:01.1636Z\",\"2022-02-18T16:30:00.064Z\",\"2022-02-18T16:31:00.0581Z\",\"2022-02-18T16:32:01.1899Z\",\"2022-02-18T16:33:04.8637Z\",\"2022-02-18T16:34:00.3491Z\",\"2022-02-18T16:35:00.0649Z\",\"2022-02-18T16:36:03.0277Z\",\"2022-02-18T16:37:00.0386Z\",\"2022-02-18T16:38:00.2608Z\",\"2022-02-18T16:39:01.0108Z\",\"2022-02-18T16:40:00.454Z\",\"2022-02-18T16:41:00.4175Z\",\"2022-02-18T16:42:00.4346Z\",\"2022-02-18T16:43:02.1959Z\",\"2022-02-18T16:44:00.585Z\",\"2022-02-18T16:45:00.5445Z\",\"2022-02-18T16:46:00.2101Z\",\"2022-02-18T16:47:00.1873Z\",\"2022-02-18T16:48:01.0969Z\",\"2022-02-18T16:49:01.8941Z\",\"2022-02-18T16:50:00.044Z\",\"2022-02-18T16:51:00.21Z\",\"2022-02-18T16:52:00.0903Z\",\"2022-02-18T16:53:00.6974Z\",\"2022-02-18T16:54:00.1558Z\",\"2022-02-18T16:55:00.4867Z\",\"2022-02-18T16:56:01.7721Z\",\"2022-02-18T16:57:00.5376Z\",\"2022-02-18T16:58:00.7886Z\",\"2022-02-18T16:59:00.9961Z\",\"2022-02-18T17:00:00.0817Z\",\"2022-02-18T17:01:00.0451Z\",\"2022-02-18T17:02:00.7035Z\",\"2022-02-18T17:03:00.1671Z\",\"2022-02-18T17:04:00.9339Z\",\"2022-02-18T17:05:00.0404Z\",\"2022-02-18T17:06:00.1267Z\",\"2022-02-18T17:07:00.0395Z\",\"2022-02-18T17:08:00.4397Z\",\"2022-02-18T17:09:00.3668Z\",\"2022-02-18T17:10:00.2562Z\",\"2022-02-18T17:11:02.6984Z\",\"2022-02-18T17:12:00.1787Z\",\"2022-02-18T17:13:00.0576Z\",\"2022-02-18T17:14:00.2312Z\",\"2022-02-18T17:15:00.6407Z\",\"2022-02-18T17:16:02.8291Z\",\"2022-02-18T17:17:00.1809Z\",\"2022-02-18T17:18:00.4491Z\",\"2022-02-18T17:19:01.2308Z\",\"2022-02-18T17:20:02.7674Z\",\"2022-02-18T17:21:00.9381Z\",\"2022-02-18T17:22:00.1553Z\",\"2022-02-18T17:23:00.3036Z\",\"2022-02-18T17:24:00.0466Z\",\"2022-02-18T17:25:00.3667Z\",\"2022-02-18T17:26:00.2528Z\",\"2022-02-18T17:27:00.2763Z\",\"2022-02-18T17:28:00.3704Z\",\"2022-02-18T17:29:00.3136Z\",\"2022-02-18T17:30:00.073Z\",\"2022-02-18T17:31:00.2094Z\",\"2022-02-18T17:32:00.4888Z\",\"2022-02-18T17:33:00.1743Z\",\"2022-02-18T17:34:00.8716Z\",\"2022-02-18T17:35:00.5178Z\",\"2022-02-18T17:36:01.0301Z\",\"2022-02-18T17:37:00.3277Z\",\"2022-02-18T17:38:00.725Z\",\"2022-02-18T17:39:00.9831Z\",\"2022-02-18T17:40:00.2051Z\",\"2022-02-18T17:41:00.0015Z\",\"2022-02-18T17:42:00.2596Z\",\"2022-02-18T17:43:00.173Z\",\"2022-02-18T17:44:00.0469Z\",\"2022-02-18T17:45:00.0521Z\",\"2022-02-18T17:46:00.1166Z\",\"2022-02-18T17:47:00.2814Z\",\"2022-02-18T17:48:02.1191Z\",\"2022-02-18T17:49:00.9365Z\",\"2022-02-18T17:50:00.5027Z\",\"2022-02-18T17:51:00.2317Z\",\"2022-02-18T17:52:02.0242Z\",\"2022-02-18T17:53:01.9721Z\",\"2022-02-18T17:54:00.3621Z\",\"2022-02-18T17:55:01.532Z\",\"2022-02-18T17:56:01.1178Z\",\"2022-02-18T17:57:00.0132Z\",\"2022-02-18T17:58:00.1419Z\",\"2022-02-18T17:59:00.3305Z\",\"2022-02-18T18:00:00.0415Z\",\"2022-02-18T18:01:00.1561Z\",\"2022-02-18T18:02:00.4444Z\",\"2022-02-18T18:03:00.8067Z\",\"2022-02-18T18:04:00.0453Z\",\"2022-02-18T18:05:00.2542Z\",\"2022-02-18T18:06:00.1625Z\",\"2022-02-18T18:07:00.083Z\",\"2022-02-18T18:08:00.9908Z\",\"2022-02-18T18:09:00.0572Z\",\"2022-02-18T18:10:00.3246Z\",\"2022-02-18T18:11:00.29Z\",\"2022-02-18T18:12:00.0058Z\",\"2022-02-18T18:13:01.5121Z\",\"2022-02-18T18:14:00.5221Z\",\"2022-02-18T18:15:00.1974Z\",\"2022-02-18T18:16:00.1199Z\",\"2022-02-18T18:17:00.3549Z\",\"2022-02-18T18:18:01.2511Z\",\"2022-02-18T18:19:00.1536Z\",\"2022-02-18T18:20:03.8261Z\",\"2022-02-18T18:21:01.1975Z\",\"2022-02-18T18:22:01.5871Z\",\"2022-02-18T18:23:00.133Z\",\"2022-02-18T18:24:00.3561Z\",\"2022-02-18T18:25:00.5433Z\",\"2022-02-18T18:26:02.361Z\",\"2022-02-18T18:27:01.9328Z\",\"2022-02-18T18:28:00.4134Z\",\"2022-02-18T18:29:00.021Z\",\"2022-02-18T18:30:01.3254Z\",\"2022-02-18T18:31:01.0707Z\",\"2022-02-18T18:32:00.03Z\",\"2022-02-18T18:33:00.043Z\",\"2022-02-18T18:34:00.9831Z\",\"2022-02-18T18:35:03.0079Z\",\"2022-02-18T18:36:00.9242Z\",\"2022-02-18T18:37:00.4293Z\",\"2022-02-18T18:38:01.0212Z\",\"2022-02-18T18:39:00.0471Z\",\"2022-02-18T18:40:00.8115Z\",\"2022-02-18T18:41:00.1864Z\",\"2022-02-18T18:42:01.0347Z\",\"2022-02-18T18:43:02.5654Z\",\"2022-02-18T18:44:00.0484Z\",\"2022-02-18T18:45:00.0676Z\",\"2022-02-18T18:46:00.6786Z\",\"2022-02-18T18:47:01.014Z\",\"2022-02-18T18:48:00.1367Z\",\"2022-02-18T18:49:00.1237Z\",\"2022-02-18T18:50:00.2096Z\",\"2022-02-18T18:51:00.5316Z\",\"2022-02-18T18:52:00.412Z\",\"2022-02-18T18:53:00.1627Z\",\"2022-02-18T18:54:01.0386Z\",\"2022-02-18T18:55:00.0507Z\",\"2022-02-18T18:56:01.8637Z\",\"2022-02-18T18:57:00.9256Z\",\"2022-02-18T18:58:00.1797Z\",\"2022-02-18T18:59:01.9507Z\",\"2022-02-18T19:00:00.7329Z\",\"2022-02-18T19:01:00.2151Z\",\"2022-02-18T19:02:00.6213Z\",\"2022-02-18T19:03:00.562Z\",\"2022-02-18T19:04:00.3026Z\",\"2022-02-18T19:05:00.9528Z\",\"2022-02-18T19:06:01.4983Z\",\"2022-02-18T19:07:00.7825Z\",\"2022-02-18T19:08:00.0606Z\",\"2022-02-18T19:09:00.0601Z\",\"2022-02-18T19:10:00.8098Z\",\"2022-02-18T19:11:00.0999Z\",\"2022-02-18T19:12:03.6972Z\",\"2022-02-18T19:13:00.7289Z\",\"2022-02-18T19:14:01.4029Z\",\"2022-02-18T19:15:01.5981Z\",\"2022-02-18T19:16:00.0666Z\",\"2022-02-18T19:17:00.916Z\",\"2022-02-18T19:18:00.1634Z\",\"2022-02-18T19:19:01.2542Z\",\"2022-02-18T19:20:00.954Z\",\"2022-02-18T19:21:00.0693Z\",\"2022-02-18T19:22:00.0769Z\",\"2022-02-18T19:23:03.0173Z\",\"2022-02-18T19:24:01.0718Z\",\"2022-02-18T19:25:00.6753Z\",\"2022-02-18T19:26:00.0745Z\",\"2022-02-18T19:27:01.2053Z\",\"2022-02-18T19:28:00.0866Z\",\"2022-02-18T19:29:00.067Z\",\"2022-02-18T19:30:00.5663Z\",\"2022-02-18T19:31:02.6655Z\",\"2022-02-18T19:32:00.0777Z\",\"2022-02-18T19:33:01.2188Z\",\"2022-02-18T19:34:00.4184Z\",\"2022-02-18T19:35:00.0453Z\",\"2022-02-18T19:36:00.5791Z\",\"2022-02-18T19:37:00.1824Z\",\"2022-02-18T19:38:00.2986Z\",\"2022-02-18T19:39:00.3612Z\",\"2022-02-18T19:40:00.3373Z\",\"2022-02-18T19:41:00.5931Z\",\"2022-02-18T19:42:00.4322Z\",\"2022-02-18T19:43:00.4516Z\",\"2022-02-18T19:44:00.1591Z\",\"2022-02-18T19:45:00.1492Z\",\"2022-02-18T19:46:00.0326Z\",\"2022-02-18T19:47:00.9903Z\",\"2022-02-18T19:48:01.4398Z\",\"2022-02-18T19:49:00.0346Z\",\"2022-02-18T19:50:00.0387Z\",\"2022-02-18T19:51:00.1456Z\",\"2022-02-18T19:52:00.4523Z\",\"2022-02-18T19:53:03.12Z\",\"2022-02-18T19:54:00.0096Z\",\"2022-02-18T19:55:00.7078Z\",\"2022-02-18T19:56:00.0436Z\",\"2022-02-18T19:57:01.0936Z\",\"2022-02-18T19:58:00.1809Z\",\"2022-02-18T19:59:00.0516Z\",\"2022-02-18T19:59:59.0195Z\"],\"y\":[null,null,null,null,null,null,null,null,null,null,null,null,null,null,null,null,null,null,null,null,null,null,null,null,null,null,null,null,null,null,null,null,null,null,null,null,null,null,null,null,null,null,null,null,null,null,null,null,null,null,null,null,null,null,null,null,null,null,null,null,null,null,null,null,null,null,null,null,null,null,null,null,null,null,null,null,null,null,null,null,null,null,null,null,null,null,null,null,null,null,null,null,null,null,null,null,null,null,null,null,null,null,null,null,null,null,null,null,null,null,null,null,null,null,null,null,null,null,null,null,null,null,null,null,null,null,null,null,null,null,null,null,null,null,null,null,null,null,null,null,null,null,null,null,null,null,null,null,null,null,null,null,null,null,null,null,null,null,null,null,null,null,null,null,null,null,null,null,null,null,null,null,null,null,null,null,null,null,null,null,null,null,null,null,null,null,null,null,null,null,null,null,null,null,null,null,null,null,null,169.41112500000003,169.40587500000004,169.39957500000008,169.39202500000007,169.38452500000005,169.37722500000007,169.3699750000001,169.36322500000009,169.35597500000011,169.3483250000001,169.34072500000013,169.33152500000014,169.32127500000013,169.31037500000014,169.30012500000012,169.2899750000001,169.27997500000012,169.2700750000001,169.26012500000013,169.25032500000012,169.2397250000001,169.22822500000012,169.21702500000015,169.20627500000012,169.19597500000015,169.18622500000015,169.17697500000017,169.16812500000015,169.15877500000013,169.14912500000014,169.13882500000014,169.12827500000014,169.11757500000013,169.10772500000013,169.09787500000013,169.08832500000014,169.07862500000013,169.06957500000016,169.05997500000015,169.0497250000002,169.03987500000017,169.0296250000002,169.01957500000017,169.0088750000002,168.9961750000002,168.9831750000002,168.9709250000002,168.95872500000024,168.94697500000024,168.93467500000025,168.92202500000025,168.90882500000026,168.89622500000024,168.88407500000022,168.87142500000024,168.85962500000022,168.84697500000024,168.83527500000022,168.82432550000019,168.81352550000022,168.80312550000025,168.79395050000025,168.78455050000022,168.7752005000002,168.76560050000018,168.75595050000018,168.7471505000002,168.7378505000002,168.7285505000002,168.7194505000002,168.7108505000002,168.70290050000023,168.69585050000023,168.6880005000002,168.6792505000002,168.6713505000002,168.6635005000002,168.6561505000002,168.6493505000002,168.64310050000017,168.63610050000017,168.6292005000002,168.6240005000002,168.61830050000017,168.61275050000017,168.60710050000017,168.60175050000015,168.59750050000014,168.59315050000012,168.58795050000012,168.58240050000012,168.57670050000007,168.57055050000005,168.56470050000007,168.55915050000007,168.55305050000007,168.54635050000007,168.5399005000001,168.53215050000014,168.52345050000014,168.51420050000016,168.50570050000016,168.49675050000016,168.48800050000017,168.47845050000018,168.4690005000002,168.4604005000002,168.45175050000017,168.44340050000014,168.4349005000001,168.42725050000013,168.41980050000012,168.41150050000016,168.40270050000018,168.39335050000017,168.38435050000018,168.3752505000002,168.36640050000017,168.35865050000015,168.35095050000018,168.3430005000002,168.3357005000002,168.3274505000002,168.31845050000018,168.30955050000014,168.29975050000016,168.29075050000017,168.2818505000002,168.27310050000017,168.26480050000018,168.25630050000015,168.24770050000015,168.23925050000017,168.23055050000016,168.22105050000016,168.2107505000002,168.20075050000017,168.1899505000002,168.1778005000002,168.1658005000002,168.1537505000002,168.1421505000002,168.1314755000002,168.1200255000002,168.1086755000002,168.09687550000024,168.08202550000024,168.06817550000022,168.0518755000002,168.0383255000002,168.02377550000023,168.00682550000022,167.99077550000024,167.97662550000024,167.96292550000024,167.94932550000024,167.93592550000022,167.92457550000026,167.91217550000022,167.90007550000024,167.88880050000023,167.8775505000002,167.8676505000002,167.85880050000017,167.8504505000002,167.8426505000002,167.83410050000018,167.82435050000015,167.81407550000014,167.80567550000015,167.79747550000013,167.78827550000014,167.7785755000001,167.76852550000015,167.75687550000018,167.74422550000017,167.7326755000002,167.71982550000016,167.70647550000015,167.69367550000018,167.6800755000002,167.66782550000022,167.65672550000022,167.6456755000002,167.63522550000025,167.62452550000023,167.61312550000025,167.60232550000026,167.59152550000027,167.58077550000027,167.57022550000028,167.55907550000026,167.54927550000025,167.53987550000028,167.53012550000028,167.5196255000003,167.5075255000003,167.49737550000026,167.48602550000024,167.47587550000026,167.46617550000025,167.45592550000023,167.44637550000022,167.43727550000023,167.4280755000002,167.4189755000002,167.4102255000002,167.4014755000002,167.3937255000002,167.38637550000018,167.37912550000016,167.3739755000001,167.3696755000001,167.3660255000001,167.3619755000001,167.35827550000013,167.35432550000013,167.35002550000013,167.3459755000001,167.34182550000008,167.3381255000001,167.33497550000007,167.3327255000001,167.3295755000001,167.3258755000001,167.32177550000011,167.31737550000014,167.31177550000015,167.30702550000015,167.30292550000016,167.29922550000015,167.29557550000015,167.29207550000018,167.28767550000018,167.2831255000002,167.27802550000018,167.2731755000002,167.2688755000002,167.2649255000002,167.26172550000018,167.2585255000002,167.25592550000016,167.2533255000002,167.2511255000002,167.25177550000024,167.25342550000022,167.25402550000024,167.25442550000022,167.25457550000021,167.2566755000002,167.2592255000002,167.26305050000022,167.26755050000023,167.27165050000022,167.27630050000022,167.28035050000025,167.28530050000023,167.28895050000025,167.29235000000025,167.29575000000025,167.29800000000026,167.29817500000027,167.29872500000027,167.2991250000003,167.29935000000032,167.2994000000003,167.2989500000003,167.2988500000003,167.29820000000032,167.29730000000032,167.29575000000034,167.29490000000035,167.29355000000032,167.29255000000035,167.29250000000033,167.29445000000032,167.29695000000032,167.29840000000033,167.29875000000033,167.29875000000033,167.29945000000032],\"mode\":\"lines\",\"name\":\"200-points SMA\"},{\"type\":\"scattergl\",\"x\":[\"2022-02-18T12:02:30.1796Z\",\"2022-02-18T12:02:30.1796Z\",\"2022-02-18T12:04:52.1222Z\",\"2022-02-18T12:04:52.1222Z\",\"2022-02-18T12:06:07.8669Z\",\"2022-02-18T12:06:07.8669Z\",\"2022-02-18T12:15:16.1606Z\",\"2022-02-18T12:15:16.1606Z\",\"2022-02-18T12:15:16.1606Z\",\"2022-02-18T12:15:16.1606Z\",\"2022-02-18T12:15:16.1606Z\",\"2022-02-18T12:15:16.1606Z\",\"2022-02-18T12:15:16.1606Z\",\"2022-02-18T12:15:16.1606Z\",\"2022-02-18T12:15:16.1606Z\",\"2022-02-18T12:16:22.475Z\",\"2022-02-18T12:20:57.4042Z\",\"2022-02-18T12:20:57.4042Z\",\"2022-02-18T12:20:57.4042Z\",\"2022-02-18T12:20:57.4042Z\",\"2022-02-18T12:26:52.8925Z\",\"2022-02-18T12:26:52.8925Z\",\"2022-02-18T12:26:52.8925Z\",\"2022-02-18T12:26:52.8925Z\",\"2022-02-18T12:26:52.8925Z\",\"2022-02-18T12:26:52.8925Z\",\"2022-02-18T12:27:20.9579Z\",\"2022-02-18T12:28:13.7387Z\",\"2022-02-18T12:30:02.232Z\",\"2022-02-18T12:30:02.232Z\",\"2022-02-18T12:32:45.2367Z\",\"2022-02-18T12:32:45.2367Z\",\"2022-02-18T12:42:36.5051Z\",\"2022-02-18T12:42:36.5051Z\",\"2022-02-18T12:42:36.5051Z\",\"2022-02-18T12:42:36.5051Z\",\"2022-02-18T12:42:36.5051Z\",\"2022-02-18T12:42:36.5051Z\",\"2022-02-18T12:42:36.5051Z\",\"2022-02-18T12:42:36.5051Z\",\"2022-02-18T12:42:36.5051Z\",\"2022-02-18T12:42:36.5051Z\",\"2022-02-18T12:48:51.0231Z\",\"2022-02-18T12:48:51.0231Z\",\"2022-02-18T12:48:51.0231Z\",\"2022-02-18T12:48:51.0231Z\",\"2022-02-18T12:48:51.0231Z\",\"2022-02-18T12:48:51.0231Z\",\"2022-02-18T12:50:43.0792Z\",\"2022-02-18T12:50:43.0792Z\",\"2022-02-18T12:53:20.298Z\",\"2022-02-18T12:53:20.298Z\",\"2022-02-18T12:53:20.298Z\",\"2022-02-18T12:54:36.8801Z\",\"2022-02-18T12:55:54.9804Z\",\"2022-02-18T12:56:35.7423Z\",\"2022-02-18T12:57:41.7356Z\",\"2022-02-18T12:58:23.5701Z\",\"2022-02-18T13:01:28.3917Z\",\"2022-02-18T13:01:28.3917Z\",\"2022-02-18T13:01:28.3917Z\",\"2022-02-18T13:02:09.6535Z\",\"2022-02-18T13:03:20.0713Z\",\"2022-02-18T13:04:12.1663Z\",\"2022-02-18T13:07:15.05Z\",\"2022-02-18T13:07:15.05Z\",\"2022-02-18T13:07:15.05Z\",\"2022-02-18T13:09:07.4503Z\",\"2022-02-18T13:09:07.4503Z\",\"2022-02-18T13:10:14.7432Z\",\"2022-02-18T13:11:07.0203Z\",\"2022-02-18T13:12:24.2175Z\",\"2022-02-18T13:13:11.1026Z\",\"2022-02-18T13:14:16.1957Z\",\"2022-02-18T13:15:07.2142Z\",\"2022-02-18T13:16:21.4848Z\",\"2022-02-18T13:17:12.3438Z\",\"2022-02-18T13:18:11.0805Z\",\"2022-02-18T13:19:41.7073Z\",\"2022-02-18T13:21:03.6987Z\",\"2022-02-18T13:21:03.6987Z\",\"2022-02-18T13:22:08.5945Z\",\"2022-02-18T13:23:16.444Z\",\"2022-02-18T13:24:06.2841Z\",\"2022-02-18T13:25:39.9145Z\",\"2022-02-18T13:26:10.9593Z\",\"2022-02-18T13:27:02.4703Z\",\"2022-02-18T13:28:12.3869Z\",\"2022-02-18T13:29:15.1486Z\",\"2022-02-18T13:30:55.2173Z\",\"2022-02-18T13:31:08.4791Z\",\"2022-02-18T13:32:51.9778Z\",\"2022-02-18T13:33:01.1537Z\",\"2022-02-18T13:34:45.3542Z\",\"2022-02-18T13:35:24.696Z\",\"2022-02-18T13:36:16.8407Z\",\"2022-02-18T13:38:17.3437Z\",\"2022-02-18T13:38:17.3437Z\",\"2022-02-18T13:39:27.3322Z\",\"2022-02-18T13:40:46.1205Z\",\"2022-02-18T13:41:05.6894Z\",\"2022-02-18T13:43:43.408Z\",\"2022-02-18T13:43:43.408Z\",\"2022-02-18T13:44:09.3654Z\",\"2022-02-18T13:45:04.0956Z\",\"2022-02-18T13:46:02.55Z\",\"2022-02-18T13:48:07.4297Z\",\"2022-02-18T13:48:07.4297Z\",\"2022-02-18T13:49:32.1737Z\",\"2022-02-18T13:51:12.4693Z\",\"2022-02-18T13:51:12.4693Z\",\"2022-02-18T13:52:42.9699Z\",\"2022-02-18T13:53:09.4433Z\",\"2022-02-18T13:54:35.4883Z\",\"2022-02-18T13:56:12.2059Z\",\"2022-02-18T13:56:12.2059Z\",\"2022-02-18T13:57:11.8987Z\",\"2022-02-18T13:58:23.6761Z\",\"2022-02-18T13:59:34.4502Z\",\"2022-02-18T14:00:08.8701Z\",\"2022-02-18T14:01:03.7621Z\",\"2022-02-18T14:02:09.6944Z\",\"2022-02-18T14:03:07.6644Z\",\"2022-02-18T14:04:09.2581Z\",\"2022-02-18T14:05:03.1376Z\",\"2022-02-18T14:06:18.7915Z\",\"2022-02-18T14:07:52.1633Z\",\"2022-02-18T14:08:39.1547Z\",\"2022-02-18T14:09:59.2839Z\",\"2022-02-18T14:10:01.4086Z\",\"2022-02-18T14:11:53.457Z\",\"2022-02-18T14:12:09.9873Z\",\"2022-02-18T14:14:49.3502Z\",\"2022-02-18T14:14:49.3502Z\",\"2022-02-18T14:15:03.4267Z\",\"2022-02-18T14:16:39.1687Z\",\"2022-02-18T14:17:57.9342Z\",\"2022-02-18T14:18:20.8559Z\",\"2022-02-18T14:19:01.4907Z\",\"2022-02-18T14:20:02.9097Z\",\"2022-02-18T14:21:53.2799Z\",\"2022-02-18T14:22:52.9737Z\",\"2022-02-18T14:23:24.9637Z\",\"2022-02-18T14:24:08.8351Z\",\"2022-02-18T14:25:00.2067Z\",\"2022-02-18T14:26:00.0596Z\",\"2022-02-18T14:27:00.0333Z\",\"2022-02-18T14:28:00.1794Z\",\"2022-02-18T14:29:14.0551Z\",\"2022-02-18T14:30:00.0274Z\",\"2022-02-18T14:31:00.0566Z\",\"2022-02-18T14:32:00.8638Z\",\"2022-02-18T14:33:00.0512Z\",\"2022-02-18T14:34:00.5132Z\",\"2022-02-18T14:35:00.7343Z\",\"2022-02-18T14:36:00.2937Z\",\"2022-02-18T14:37:00.0347Z\",\"2022-02-18T14:38:00.11Z\",\"2022-02-18T14:39:00.8473Z\",\"2022-02-18T14:40:00.1223Z\",\"2022-02-18T14:41:00.122Z\",\"2022-02-18T14:42:00.2688Z\",\"2022-02-18T14:43:00.9674Z\",\"2022-02-18T14:44:00.3447Z\",\"2022-02-18T14:45:00.0849Z\",\"2022-02-18T14:46:00.26Z\",\"2022-02-18T14:47:01.9508Z\",\"2022-02-18T14:48:00.0439Z\",\"2022-02-18T14:49:00.1126Z\",\"2022-02-18T14:50:00.0322Z\",\"2022-02-18T14:51:00.0823Z\",\"2022-02-18T14:52:00.2604Z\",\"2022-02-18T14:53:00.9866Z\",\"2022-02-18T14:54:00.0386Z\",\"2022-02-18T14:55:00.2795Z\",\"2022-02-18T14:56:00.0342Z\",\"2022-02-18T14:57:00.0667Z\",\"2022-02-18T14:58:00.0271Z\",\"2022-02-18T14:59:00.3527Z\",\"2022-02-18T15:00:00.0302Z\",\"2022-02-18T15:01:00.3707Z\",\"2022-02-18T15:02:00.0237Z\",\"2022-02-18T15:03:00.1106Z\",\"2022-02-18T15:04:00.2506Z\",\"2022-02-18T15:05:00.1291Z\",\"2022-02-18T15:06:00.6934Z\",\"2022-02-18T15:07:00.9473Z\",\"2022-02-18T15:08:02.9857Z\",\"2022-02-18T15:09:00.0114Z\",\"2022-02-18T15:10:00.0599Z\",\"2022-02-18T15:11:02.7341Z\",\"2022-02-18T15:12:00.0472Z\",\"2022-02-18T15:13:01.8883Z\",\"2022-02-18T15:14:01.967Z\",\"2022-02-18T15:15:00.5796Z\",\"2022-02-18T15:16:00.1508Z\",\"2022-02-18T15:17:00.3246Z\",\"2022-02-18T15:18:00.1489Z\",\"2022-02-18T15:19:00.6013Z\",\"2022-02-18T15:20:00.5028Z\",\"2022-02-18T15:21:00.6969Z\",\"2022-02-18T15:22:00.4036Z\",\"2022-02-18T15:23:00.318Z\",\"2022-02-18T15:24:00.1579Z\",\"2022-02-18T15:25:01.9438Z\",\"2022-02-18T15:26:05.6695Z\",\"2022-02-18T15:27:00.0492Z\",\"2022-02-18T15:28:00.489Z\",\"2022-02-18T15:29:00.4156Z\",\"2022-02-18T15:30:00.8291Z\",\"2022-02-18T15:31:00.4575Z\",\"2022-02-18T15:32:00.3638Z\",\"2022-02-18T15:33:00.0303Z\",\"2022-02-18T15:34:00.2365Z\",\"2022-02-18T15:35:00.448Z\",\"2022-02-18T15:36:00.8436Z\",\"2022-02-18T15:37:00.1438Z\",\"2022-02-18T15:38:00.0259Z\",\"2022-02-18T15:39:00.0448Z\",\"2022-02-18T15:40:00.3389Z\",\"2022-02-18T15:41:01.899Z\",\"2022-02-18T15:42:00.4202Z\",\"2022-02-18T15:43:00.4664Z\",\"2022-02-18T15:44:00.0355Z\",\"2022-02-18T15:45:00.051Z\",\"2022-02-18T15:46:00.8996Z\",\"2022-02-18T15:47:00.0557Z\",\"2022-02-18T15:48:01.3618Z\",\"2022-02-18T15:49:00.2933Z\",\"2022-02-18T15:50:00.5764Z\",\"2022-02-18T15:51:00.0399Z\",\"2022-02-18T15:52:00.0406Z\",\"2022-02-18T15:53:02.6976Z\",\"2022-02-18T15:54:00.6822Z\",\"2022-02-18T15:55:00.197Z\",\"2022-02-18T15:56:00.4329Z\",\"2022-02-18T15:57:00.0508Z\",\"2022-02-18T15:58:01.5625Z\",\"2022-02-18T15:59:00.1808Z\",\"2022-02-18T16:00:00.0419Z\",\"2022-02-18T16:01:00.3392Z\",\"2022-02-18T16:02:00.3328Z\",\"2022-02-18T16:03:00.1208Z\",\"2022-02-18T16:04:00.7056Z\",\"2022-02-18T16:05:00.0563Z\",\"2022-02-18T16:06:00.0487Z\",\"2022-02-18T16:07:00.452Z\",\"2022-02-18T16:08:00.0386Z\",\"2022-02-18T16:09:01.6379Z\",\"2022-02-18T16:10:00.8646Z\",\"2022-02-18T16:11:00.1465Z\",\"2022-02-18T16:12:03.7497Z\",\"2022-02-18T16:13:00.0305Z\",\"2022-02-18T16:14:04.004Z\",\"2022-02-18T16:15:00.2407Z\",\"2022-02-18T16:16:00.9446Z\",\"2022-02-18T16:17:00.6174Z\",\"2022-02-18T16:18:00.1658Z\",\"2022-02-18T16:19:00.0847Z\",\"2022-02-18T16:20:03.6044Z\",\"2022-02-18T16:21:00.3018Z\",\"2022-02-18T16:22:02.1341Z\",\"2022-02-18T16:23:01.7157Z\",\"2022-02-18T16:24:01.1671Z\",\"2022-02-18T16:25:00.2084Z\",\"2022-02-18T16:26:01.1882Z\",\"2022-02-18T16:27:00.0783Z\",\"2022-02-18T16:28:00.0721Z\",\"2022-02-18T16:29:01.1636Z\",\"2022-02-18T16:30:00.064Z\",\"2022-02-18T16:31:00.0581Z\",\"2022-02-18T16:32:01.1899Z\",\"2022-02-18T16:33:04.8637Z\",\"2022-02-18T16:34:00.3491Z\",\"2022-02-18T16:35:00.0649Z\",\"2022-02-18T16:36:03.0277Z\",\"2022-02-18T16:37:00.0386Z\",\"2022-02-18T16:38:00.2608Z\",\"2022-02-18T16:39:01.0108Z\",\"2022-02-18T16:40:00.454Z\",\"2022-02-18T16:41:00.4175Z\",\"2022-02-18T16:42:00.4346Z\",\"2022-02-18T16:43:02.1959Z\",\"2022-02-18T16:44:00.585Z\",\"2022-02-18T16:45:00.5445Z\",\"2022-02-18T16:46:00.2101Z\",\"2022-02-18T16:47:00.1873Z\",\"2022-02-18T16:48:01.0969Z\",\"2022-02-18T16:49:01.8941Z\",\"2022-02-18T16:50:00.044Z\",\"2022-02-18T16:51:00.21Z\",\"2022-02-18T16:52:00.0903Z\",\"2022-02-18T16:53:00.6974Z\",\"2022-02-18T16:54:00.1558Z\",\"2022-02-18T16:55:00.4867Z\",\"2022-02-18T16:56:01.7721Z\",\"2022-02-18T16:57:00.5376Z\",\"2022-02-18T16:58:00.7886Z\",\"2022-02-18T16:59:00.9961Z\",\"2022-02-18T17:00:00.0817Z\",\"2022-02-18T17:01:00.0451Z\",\"2022-02-18T17:02:00.7035Z\",\"2022-02-18T17:03:00.1671Z\",\"2022-02-18T17:04:00.9339Z\",\"2022-02-18T17:05:00.0404Z\",\"2022-02-18T17:06:00.1267Z\",\"2022-02-18T17:07:00.0395Z\",\"2022-02-18T17:08:00.4397Z\",\"2022-02-18T17:09:00.3668Z\",\"2022-02-18T17:10:00.2562Z\",\"2022-02-18T17:11:02.6984Z\",\"2022-02-18T17:12:00.1787Z\",\"2022-02-18T17:13:00.0576Z\",\"2022-02-18T17:14:00.2312Z\",\"2022-02-18T17:15:00.6407Z\",\"2022-02-18T17:16:02.8291Z\",\"2022-02-18T17:17:00.1809Z\",\"2022-02-18T17:18:00.4491Z\",\"2022-02-18T17:19:01.2308Z\",\"2022-02-18T17:20:02.7674Z\",\"2022-02-18T17:21:00.9381Z\",\"2022-02-18T17:22:00.1553Z\",\"2022-02-18T17:23:00.3036Z\",\"2022-02-18T17:24:00.0466Z\",\"2022-02-18T17:25:00.3667Z\",\"2022-02-18T17:26:00.2528Z\",\"2022-02-18T17:27:00.2763Z\",\"2022-02-18T17:28:00.3704Z\",\"2022-02-18T17:29:00.3136Z\",\"2022-02-18T17:30:00.073Z\",\"2022-02-18T17:31:00.2094Z\",\"2022-02-18T17:32:00.4888Z\",\"2022-02-18T17:33:00.1743Z\",\"2022-02-18T17:34:00.8716Z\",\"2022-02-18T17:35:00.5178Z\",\"2022-02-18T17:36:01.0301Z\",\"2022-02-18T17:37:00.3277Z\",\"2022-02-18T17:38:00.725Z\",\"2022-02-18T17:39:00.9831Z\",\"2022-02-18T17:40:00.2051Z\",\"2022-02-18T17:41:00.0015Z\",\"2022-02-18T17:42:00.2596Z\",\"2022-02-18T17:43:00.173Z\",\"2022-02-18T17:44:00.0469Z\",\"2022-02-18T17:45:00.0521Z\",\"2022-02-18T17:46:00.1166Z\",\"2022-02-18T17:47:00.2814Z\",\"2022-02-18T17:48:02.1191Z\",\"2022-02-18T17:49:00.9365Z\",\"2022-02-18T17:50:00.5027Z\",\"2022-02-18T17:51:00.2317Z\",\"2022-02-18T17:52:02.0242Z\",\"2022-02-18T17:53:01.9721Z\",\"2022-02-18T17:54:00.3621Z\",\"2022-02-18T17:55:01.532Z\",\"2022-02-18T17:56:01.1178Z\",\"2022-02-18T17:57:00.0132Z\",\"2022-02-18T17:58:00.1419Z\",\"2022-02-18T17:59:00.3305Z\",\"2022-02-18T18:00:00.0415Z\",\"2022-02-18T18:01:00.1561Z\",\"2022-02-18T18:02:00.4444Z\",\"2022-02-18T18:03:00.8067Z\",\"2022-02-18T18:04:00.0453Z\",\"2022-02-18T18:05:00.2542Z\",\"2022-02-18T18:06:00.1625Z\",\"2022-02-18T18:07:00.083Z\",\"2022-02-18T18:08:00.9908Z\",\"2022-02-18T18:09:00.0572Z\",\"2022-02-18T18:10:00.3246Z\",\"2022-02-18T18:11:00.29Z\",\"2022-02-18T18:12:00.0058Z\",\"2022-02-18T18:13:01.5121Z\",\"2022-02-18T18:14:00.5221Z\",\"2022-02-18T18:15:00.1974Z\",\"2022-02-18T18:16:00.1199Z\",\"2022-02-18T18:17:00.3549Z\",\"2022-02-18T18:18:01.2511Z\",\"2022-02-18T18:19:00.1536Z\",\"2022-02-18T18:20:03.8261Z\",\"2022-02-18T18:21:01.1975Z\",\"2022-02-18T18:22:01.5871Z\",\"2022-02-18T18:23:00.133Z\",\"2022-02-18T18:24:00.3561Z\",\"2022-02-18T18:25:00.5433Z\",\"2022-02-18T18:26:02.361Z\",\"2022-02-18T18:27:01.9328Z\",\"2022-02-18T18:28:00.4134Z\",\"2022-02-18T18:29:00.021Z\",\"2022-02-18T18:30:01.3254Z\",\"2022-02-18T18:31:01.0707Z\",\"2022-02-18T18:32:00.03Z\",\"2022-02-18T18:33:00.043Z\",\"2022-02-18T18:34:00.9831Z\",\"2022-02-18T18:35:03.0079Z\",\"2022-02-18T18:36:00.9242Z\",\"2022-02-18T18:37:00.4293Z\",\"2022-02-18T18:38:01.0212Z\",\"2022-02-18T18:39:00.0471Z\",\"2022-02-18T18:40:00.8115Z\",\"2022-02-18T18:41:00.1864Z\",\"2022-02-18T18:42:01.0347Z\",\"2022-02-18T18:43:02.5654Z\",\"2022-02-18T18:44:00.0484Z\",\"2022-02-18T18:45:00.0676Z\",\"2022-02-18T18:46:00.6786Z\",\"2022-02-18T18:47:01.014Z\",\"2022-02-18T18:48:00.1367Z\",\"2022-02-18T18:49:00.1237Z\",\"2022-02-18T18:50:00.2096Z\",\"2022-02-18T18:51:00.5316Z\",\"2022-02-18T18:52:00.412Z\",\"2022-02-18T18:53:00.1627Z\",\"2022-02-18T18:54:01.0386Z\",\"2022-02-18T18:55:00.0507Z\",\"2022-02-18T18:56:01.8637Z\",\"2022-02-18T18:57:00.9256Z\",\"2022-02-18T18:58:00.1797Z\",\"2022-02-18T18:59:01.9507Z\",\"2022-02-18T19:00:00.7329Z\",\"2022-02-18T19:01:00.2151Z\",\"2022-02-18T19:02:00.6213Z\",\"2022-02-18T19:03:00.562Z\",\"2022-02-18T19:04:00.3026Z\",\"2022-02-18T19:05:00.9528Z\",\"2022-02-18T19:06:01.4983Z\",\"2022-02-18T19:07:00.7825Z\",\"2022-02-18T19:08:00.0606Z\",\"2022-02-18T19:09:00.0601Z\",\"2022-02-18T19:10:00.8098Z\",\"2022-02-18T19:11:00.0999Z\",\"2022-02-18T19:12:03.6972Z\",\"2022-02-18T19:13:00.7289Z\",\"2022-02-18T19:14:01.4029Z\",\"2022-02-18T19:15:01.5981Z\",\"2022-02-18T19:16:00.0666Z\",\"2022-02-18T19:17:00.916Z\",\"2022-02-18T19:18:00.1634Z\",\"2022-02-18T19:19:01.2542Z\",\"2022-02-18T19:20:00.954Z\",\"2022-02-18T19:21:00.0693Z\",\"2022-02-18T19:22:00.0769Z\",\"2022-02-18T19:23:03.0173Z\",\"2022-02-18T19:24:01.0718Z\",\"2022-02-18T19:25:00.6753Z\",\"2022-02-18T19:26:00.0745Z\",\"2022-02-18T19:27:01.2053Z\",\"2022-02-18T19:28:00.0866Z\",\"2022-02-18T19:29:00.067Z\",\"2022-02-18T19:30:00.5663Z\",\"2022-02-18T19:31:02.6655Z\",\"2022-02-18T19:32:00.0777Z\",\"2022-02-18T19:33:01.2188Z\",\"2022-02-18T19:34:00.4184Z\",\"2022-02-18T19:35:00.0453Z\",\"2022-02-18T19:36:00.5791Z\",\"2022-02-18T19:37:00.1824Z\",\"2022-02-18T19:38:00.2986Z\",\"2022-02-18T19:39:00.3612Z\",\"2022-02-18T19:40:00.3373Z\",\"2022-02-18T19:41:00.5931Z\",\"2022-02-18T19:42:00.4322Z\",\"2022-02-18T19:43:00.4516Z\",\"2022-02-18T19:44:00.1591Z\",\"2022-02-18T19:45:00.1492Z\",\"2022-02-18T19:46:00.0326Z\",\"2022-02-18T19:47:00.9903Z\",\"2022-02-18T19:48:01.4398Z\",\"2022-02-18T19:49:00.0346Z\",\"2022-02-18T19:50:00.0387Z\",\"2022-02-18T19:51:00.1456Z\",\"2022-02-18T19:52:00.4523Z\",\"2022-02-18T19:53:03.12Z\",\"2022-02-18T19:54:00.0096Z\",\"2022-02-18T19:55:00.7078Z\",\"2022-02-18T19:56:00.0436Z\",\"2022-02-18T19:57:01.0936Z\",\"2022-02-18T19:58:00.1809Z\",\"2022-02-18T19:59:00.0516Z\",\"2022-02-18T19:59:59.0195Z\"],\"y\":[null,null,null,null,null,null,null,null,null,null,null,null,null,null,null,null,null,null,null,null,null,null,null,null,null,null,null,null,null,null,null,null,null,null,null,null,null,null,null,null,null,null,null,null,null,null,null,null,null,169.99659999999992,170.00119999999995,170.0058,170.00799999999998,170.01,170.01139999999998,170.0128,170.01219999999998,170.011,170.00859999999997,170.00619999999995,170.00379999999993,170.00259999999994,170.00259999999994,170.00219999999993,170.00119999999995,170.00079999999997,170.00119999999998,170.00199999999998,170.00279999999995,170.00079999999994,169.99279999999996,169.98419999999996,169.97759999999994,169.97139999999996,169.96299999999997,169.95319999999995,169.94359999999995,169.93339999999992,169.92339999999993,169.91479999999993,169.9055999999999,169.89259999999987,169.87859999999986,169.86219999999983,169.8459999999998,169.8287999999998,169.80779999999976,169.78799999999978,169.76859999999976,169.74779999999973,169.7267999999997,169.7055999999997,169.6827999999997,169.6577999999997,169.63379999999972,169.61319999999975,169.59099999999978,169.56879999999978,169.5479999999998,169.52979999999982,169.5107999999998,169.4919999999998,169.4731999999998,169.45599999999976,169.43919999999977,169.42099999999976,169.40259999999978,169.38479999999973,169.36819999999975,169.35239999999976,169.33659999999978,169.3233999999998,169.30959999999976,169.29799999999977,169.28659999999974,169.2751999999997,169.2635999999997,169.25419999999974,169.24379999999977,169.23619999999977,169.23199999999974,169.22859999999974,169.22639999999973,169.22239999999974,169.22299999999973,169.22359999999975,169.22099999999978,169.21879999999976,169.21619999999976,169.21299999999977,169.20639999999977,169.2035999999998,169.20139999999978,169.2015999999998,169.20499999999979,169.20819999999978,169.2155999999998,169.22239999999977,169.2281999999998,169.23599999999976,169.24179999999978,169.2455999999998,169.25319999999977,169.2633999999998,169.27159999999978,169.28619999999978,169.30099999999976,169.32419999999976,169.33739999999977,169.35059999999976,169.37219999999976,169.39239999999975,169.40599999999978,169.41619999999978,169.4255999999998,169.43279999999982,169.43539999999982,169.44099999999983,169.44359999999986,169.44029999999984,169.43529999999984,169.42209999999986,169.40309999999988,169.38289999999986,169.35949999999985,169.33789999999988,169.31869999999984,169.30009999999984,169.2776999999998,169.25429999999983,169.23409999999984,169.21369999999987,169.1916999999999,169.1768999999999,169.16249999999988,169.1472999999999,169.13689999999988,169.1282999999999,169.11849999999987,169.1106999999999,169.0992999999999,169.0860999999999,169.07369999999992,169.05989999999994,169.04649999999995,169.03469999999993,169.01909999999992,169.00189999999995,168.98509999999996,168.96689999999995,168.95229999999995,168.93629999999996,168.9171,168.89790000000002,168.88330000000002,168.8631,168.84029999999998,168.81249999999997,168.79049999999995,168.76749999999996,168.73929999999996,168.70809999999994,168.68089999999992,168.65589999999992,168.6326999999999,168.61329999999987,168.60269999999986,168.58709999999985,168.57289999999983,168.56399999999982,168.55039999999983,168.53699999999984,168.52619999999982,168.51739999999984,168.51259999999985,168.50599999999983,168.49679999999987,168.48419999999987,168.47699999999986,168.46759999999983,168.45399999999984,168.44159999999982,168.42939999999982,168.41319999999982,168.39639999999986,168.38379999999984,168.37099999999984,168.3545999999998,168.3383999999998,168.31679999999983,168.30179999999982,168.2879999999998,168.2771999999998,168.26779999999977,168.2557999999998,168.24279999999982,168.2357999999998,168.2275999999998,168.21699999999979,168.2087999999998,168.19759999999977,168.19079999999977,168.18239999999977,168.16559999999976,168.14399999999972,168.12119999999973,168.10259999999977,168.08239999999975,168.06279999999978,168.0401999999998,168.01299999999978,167.9923999999998,167.9761999999998,167.95759999999981,167.9409999999998,167.9207999999998,167.9003999999998,167.8844019999998,167.86940199999978,167.85580199999978,167.8535019999998,167.85570199999975,167.86190199999976,167.86410199999972,167.86510199999975,167.86950199999978,167.87230199999976,167.87570199999976,167.87930199999977,167.8853019999998,167.89150199999978,167.89950199999979,167.90450199999978,167.90450199999978,167.90350199999975,167.89930199999978,167.89570199999977,167.89570199999977,167.89930199999978,167.90390199999976,167.90930199999977,167.91830199999978,167.9209019999998,167.9217019999998,167.92110199999982,167.92130199999983,167.91950199999982,167.9207019999998,167.9215019999998,167.9179019999998,167.91510199999982,167.9095019999998,167.9061019999998,167.9097019999998,167.91330199999982,167.9149019999998,167.9157019999998,167.9095019999998,167.90310199999982,167.89850199999978,167.89830199999977,167.89410199999978,167.88890199999977,167.88410199999976,167.8767019999998,167.87470199999981,167.86850199999984,167.86109999999982,167.85369999999983,167.84889999999984,167.83999999999986,167.83119999999988,167.8195999999999,167.8089999999999,167.8001999999999,167.78759999999988,167.77779999999987,167.77459999999988,167.7697999999999,167.7647999999999,167.7631999999999,167.75499999999988,167.74819999999988,167.7435999999999,167.7365999999999,167.73259999999988,167.72379999999987,167.71379999999988,167.70299999999986,167.69379999999984,167.68039999999982,167.6645999999998,167.6503999999998,167.63479999999979,167.61959999999976,167.60419999999976,167.5853999999998,167.5609999999998,167.5395999999998,167.5213999999998,167.50359999999984,167.48929999999982,167.47449999999984,167.4614999999998,167.4468999999998,167.4288999999998,167.41409999999982,167.40309999999982,167.39689999999982,167.3888999999998,167.37669999999983,167.36849999999984,167.36049999999986,167.35409999999985,167.34689999999983,167.33489999999983,167.32669999999985,167.31609999999986,167.30429999999987,167.28649999999988,167.26629999999986,167.24669999999983,167.22749999999985,167.21129999999982,167.19269999999983,167.17329999999984,167.15049999999982,167.1217999999998,167.09659999999982,167.07219999999984,167.04439999999985,167.01819999999987,166.99199999999985,166.96619999999987,166.94039999999987,166.91499999999985,166.88879999999986,166.86179999999985,166.83399999999986,166.80579999999986,166.77979999999985,166.75599999999983,166.73419999999984,166.71659999999986,166.70159999999984,166.68419999999983,166.66859999999986,166.65679999999986,166.64499999999987,166.63279999999983,166.61999999999986,166.60749999999985,166.59649999999982,166.58369999999985,166.57429999999985,166.5650999999999,166.55709999999988,166.5490999999999,166.5406999999999,166.5370999999999,166.53569999999988,166.53049999999988,166.52349999999987,166.51649999999987,166.51129999999986,166.51049999999984,166.51029999999983,166.51329999999984,166.51809999999983,166.52529999999985,166.53609999999983,166.5450999999998,166.5550999999998,166.5634999999998,166.5750999999998,166.58689999999982,166.59949999999978,166.6117999999998,166.62159999999977,166.63019999999977,166.64079999999979,166.65819999999977,166.6735999999998,166.6891999999998,166.70659999999978,166.72259999999977,166.73879999999974,166.75679999999974,166.77539999999976,166.79339999999974,166.81279999999973,166.82939999999974,166.84519999999972,166.85939999999974,166.86979999999974,166.88299999999973,166.90199999999976,166.92119999999977,166.94079999999977,166.96199999999976,166.98499999999976,167.00699999999975,167.02739999999977,167.05219999999974,167.07919999999976,167.10719999999975,167.13079999999977,167.15659999999977,167.18599999999978,167.2123999999998,167.24149999999983,167.27709999999985,167.31369999999984,167.35049999999984,167.38649999999987,167.4210999999999,167.4502999999999,167.47889999999992,167.50689999999992,167.5312999999999,167.5502999999999,167.5718999999999,167.5942999999999,167.6135999999999,167.62959999999993,167.6479999999999,167.6675999999999,167.68459999999993,167.70119999999991,167.71579999999992,167.73119999999992,167.7427999999999,167.75639999999993,167.7709999999999,167.7941999999999,167.8175999999999,167.8421999999999,167.8625999999999,167.8825999999999,167.90479999999988],\"mode\":\"lines\",\"name\":\"50-points SMA\"},{\"type\":\"scattergl\",\"x\":[\"2022-02-18T12:02:30.1796Z\",\"2022-02-18T12:02:30.1796Z\",\"2022-02-18T12:04:52.1222Z\",\"2022-02-18T12:04:52.1222Z\",\"2022-02-18T12:06:07.8669Z\",\"2022-02-18T12:06:07.8669Z\",\"2022-02-18T12:15:16.1606Z\",\"2022-02-18T12:15:16.1606Z\",\"2022-02-18T12:15:16.1606Z\",\"2022-02-18T12:15:16.1606Z\",\"2022-02-18T12:15:16.1606Z\",\"2022-02-18T12:15:16.1606Z\",\"2022-02-18T12:15:16.1606Z\",\"2022-02-18T12:15:16.1606Z\",\"2022-02-18T12:15:16.1606Z\",\"2022-02-18T12:16:22.475Z\",\"2022-02-18T12:20:57.4042Z\",\"2022-02-18T12:20:57.4042Z\",\"2022-02-18T12:20:57.4042Z\",\"2022-02-18T12:20:57.4042Z\",\"2022-02-18T12:26:52.8925Z\",\"2022-02-18T12:26:52.8925Z\",\"2022-02-18T12:26:52.8925Z\",\"2022-02-18T12:26:52.8925Z\",\"2022-02-18T12:26:52.8925Z\",\"2022-02-18T12:26:52.8925Z\",\"2022-02-18T12:27:20.9579Z\",\"2022-02-18T12:28:13.7387Z\",\"2022-02-18T12:30:02.232Z\",\"2022-02-18T12:30:02.232Z\",\"2022-02-18T12:32:45.2367Z\",\"2022-02-18T12:32:45.2367Z\",\"2022-02-18T12:42:36.5051Z\",\"2022-02-18T12:42:36.5051Z\",\"2022-02-18T12:42:36.5051Z\",\"2022-02-18T12:42:36.5051Z\",\"2022-02-18T12:42:36.5051Z\",\"2022-02-18T12:42:36.5051Z\",\"2022-02-18T12:42:36.5051Z\",\"2022-02-18T12:42:36.5051Z\",\"2022-02-18T12:42:36.5051Z\",\"2022-02-18T12:42:36.5051Z\",\"2022-02-18T12:48:51.0231Z\",\"2022-02-18T12:48:51.0231Z\",\"2022-02-18T12:48:51.0231Z\",\"2022-02-18T12:48:51.0231Z\",\"2022-02-18T12:48:51.0231Z\",\"2022-02-18T12:48:51.0231Z\",\"2022-02-18T12:50:43.0792Z\",\"2022-02-18T12:50:43.0792Z\",\"2022-02-18T12:53:20.298Z\",\"2022-02-18T12:53:20.298Z\",\"2022-02-18T12:53:20.298Z\",\"2022-02-18T12:54:36.8801Z\",\"2022-02-18T12:55:54.9804Z\",\"2022-02-18T12:56:35.7423Z\",\"2022-02-18T12:57:41.7356Z\",\"2022-02-18T12:58:23.5701Z\",\"2022-02-18T13:01:28.3917Z\",\"2022-02-18T13:01:28.3917Z\",\"2022-02-18T13:01:28.3917Z\",\"2022-02-18T13:02:09.6535Z\",\"2022-02-18T13:03:20.0713Z\",\"2022-02-18T13:04:12.1663Z\",\"2022-02-18T13:07:15.05Z\",\"2022-02-18T13:07:15.05Z\",\"2022-02-18T13:07:15.05Z\",\"2022-02-18T13:09:07.4503Z\",\"2022-02-18T13:09:07.4503Z\",\"2022-02-18T13:10:14.7432Z\",\"2022-02-18T13:11:07.0203Z\",\"2022-02-18T13:12:24.2175Z\",\"2022-02-18T13:13:11.1026Z\",\"2022-02-18T13:14:16.1957Z\",\"2022-02-18T13:15:07.2142Z\",\"2022-02-18T13:16:21.4848Z\",\"2022-02-18T13:17:12.3438Z\",\"2022-02-18T13:18:11.0805Z\",\"2022-02-18T13:19:41.7073Z\",\"2022-02-18T13:21:03.6987Z\",\"2022-02-18T13:21:03.6987Z\",\"2022-02-18T13:22:08.5945Z\",\"2022-02-18T13:23:16.444Z\",\"2022-02-18T13:24:06.2841Z\",\"2022-02-18T13:25:39.9145Z\",\"2022-02-18T13:26:10.9593Z\",\"2022-02-18T13:27:02.4703Z\",\"2022-02-18T13:28:12.3869Z\",\"2022-02-18T13:29:15.1486Z\",\"2022-02-18T13:30:55.2173Z\",\"2022-02-18T13:31:08.4791Z\",\"2022-02-18T13:32:51.9778Z\",\"2022-02-18T13:33:01.1537Z\",\"2022-02-18T13:34:45.3542Z\",\"2022-02-18T13:35:24.696Z\",\"2022-02-18T13:36:16.8407Z\",\"2022-02-18T13:38:17.3437Z\",\"2022-02-18T13:38:17.3437Z\",\"2022-02-18T13:39:27.3322Z\",\"2022-02-18T13:40:46.1205Z\",\"2022-02-18T13:41:05.6894Z\",\"2022-02-18T13:43:43.408Z\",\"2022-02-18T13:43:43.408Z\",\"2022-02-18T13:44:09.3654Z\",\"2022-02-18T13:45:04.0956Z\",\"2022-02-18T13:46:02.55Z\",\"2022-02-18T13:48:07.4297Z\",\"2022-02-18T13:48:07.4297Z\",\"2022-02-18T13:49:32.1737Z\",\"2022-02-18T13:51:12.4693Z\",\"2022-02-18T13:51:12.4693Z\",\"2022-02-18T13:52:42.9699Z\",\"2022-02-18T13:53:09.4433Z\",\"2022-02-18T13:54:35.4883Z\",\"2022-02-18T13:56:12.2059Z\",\"2022-02-18T13:56:12.2059Z\",\"2022-02-18T13:57:11.8987Z\",\"2022-02-18T13:58:23.6761Z\",\"2022-02-18T13:59:34.4502Z\",\"2022-02-18T14:00:08.8701Z\",\"2022-02-18T14:01:03.7621Z\",\"2022-02-18T14:02:09.6944Z\",\"2022-02-18T14:03:07.6644Z\",\"2022-02-18T14:04:09.2581Z\",\"2022-02-18T14:05:03.1376Z\",\"2022-02-18T14:06:18.7915Z\",\"2022-02-18T14:07:52.1633Z\",\"2022-02-18T14:08:39.1547Z\",\"2022-02-18T14:09:59.2839Z\",\"2022-02-18T14:10:01.4086Z\",\"2022-02-18T14:11:53.457Z\",\"2022-02-18T14:12:09.9873Z\",\"2022-02-18T14:14:49.3502Z\",\"2022-02-18T14:14:49.3502Z\",\"2022-02-18T14:15:03.4267Z\",\"2022-02-18T14:16:39.1687Z\",\"2022-02-18T14:17:57.9342Z\",\"2022-02-18T14:18:20.8559Z\",\"2022-02-18T14:19:01.4907Z\",\"2022-02-18T14:20:02.9097Z\",\"2022-02-18T14:21:53.2799Z\",\"2022-02-18T14:22:52.9737Z\",\"2022-02-18T14:23:24.9637Z\",\"2022-02-18T14:24:08.8351Z\",\"2022-02-18T14:25:00.2067Z\",\"2022-02-18T14:26:00.0596Z\",\"2022-02-18T14:27:00.0333Z\",\"2022-02-18T14:28:00.1794Z\",\"2022-02-18T14:29:14.0551Z\",\"2022-02-18T14:30:00.0274Z\",\"2022-02-18T14:31:00.0566Z\",\"2022-02-18T14:32:00.8638Z\",\"2022-02-18T14:33:00.0512Z\",\"2022-02-18T14:34:00.5132Z\",\"2022-02-18T14:35:00.7343Z\",\"2022-02-18T14:36:00.2937Z\",\"2022-02-18T14:37:00.0347Z\",\"2022-02-18T14:38:00.11Z\",\"2022-02-18T14:39:00.8473Z\",\"2022-02-18T14:40:00.1223Z\",\"2022-02-18T14:41:00.122Z\",\"2022-02-18T14:42:00.2688Z\",\"2022-02-18T14:43:00.9674Z\",\"2022-02-18T14:44:00.3447Z\",\"2022-02-18T14:45:00.0849Z\",\"2022-02-18T14:46:00.26Z\",\"2022-02-18T14:47:01.9508Z\",\"2022-02-18T14:48:00.0439Z\",\"2022-02-18T14:49:00.1126Z\",\"2022-02-18T14:50:00.0322Z\",\"2022-02-18T14:51:00.0823Z\",\"2022-02-18T14:52:00.2604Z\",\"2022-02-18T14:53:00.9866Z\",\"2022-02-18T14:54:00.0386Z\",\"2022-02-18T14:55:00.2795Z\",\"2022-02-18T14:56:00.0342Z\",\"2022-02-18T14:57:00.0667Z\",\"2022-02-18T14:58:00.0271Z\",\"2022-02-18T14:59:00.3527Z\",\"2022-02-18T15:00:00.0302Z\",\"2022-02-18T15:01:00.3707Z\",\"2022-02-18T15:02:00.0237Z\",\"2022-02-18T15:03:00.1106Z\",\"2022-02-18T15:04:00.2506Z\",\"2022-02-18T15:05:00.1291Z\",\"2022-02-18T15:06:00.6934Z\",\"2022-02-18T15:07:00.9473Z\",\"2022-02-18T15:08:02.9857Z\",\"2022-02-18T15:09:00.0114Z\",\"2022-02-18T15:10:00.0599Z\",\"2022-02-18T15:11:02.7341Z\",\"2022-02-18T15:12:00.0472Z\",\"2022-02-18T15:13:01.8883Z\",\"2022-02-18T15:14:01.967Z\",\"2022-02-18T15:15:00.5796Z\",\"2022-02-18T15:16:00.1508Z\",\"2022-02-18T15:17:00.3246Z\",\"2022-02-18T15:18:00.1489Z\",\"2022-02-18T15:19:00.6013Z\",\"2022-02-18T15:20:00.5028Z\",\"2022-02-18T15:21:00.6969Z\",\"2022-02-18T15:22:00.4036Z\",\"2022-02-18T15:23:00.318Z\",\"2022-02-18T15:24:00.1579Z\",\"2022-02-18T15:25:01.9438Z\",\"2022-02-18T15:26:05.6695Z\",\"2022-02-18T15:27:00.0492Z\",\"2022-02-18T15:28:00.489Z\",\"2022-02-18T15:29:00.4156Z\",\"2022-02-18T15:30:00.8291Z\",\"2022-02-18T15:31:00.4575Z\",\"2022-02-18T15:32:00.3638Z\",\"2022-02-18T15:33:00.0303Z\",\"2022-02-18T15:34:00.2365Z\",\"2022-02-18T15:35:00.448Z\",\"2022-02-18T15:36:00.8436Z\",\"2022-02-18T15:37:00.1438Z\",\"2022-02-18T15:38:00.0259Z\",\"2022-02-18T15:39:00.0448Z\",\"2022-02-18T15:40:00.3389Z\",\"2022-02-18T15:41:01.899Z\",\"2022-02-18T15:42:00.4202Z\",\"2022-02-18T15:43:00.4664Z\",\"2022-02-18T15:44:00.0355Z\",\"2022-02-18T15:45:00.051Z\",\"2022-02-18T15:46:00.8996Z\",\"2022-02-18T15:47:00.0557Z\",\"2022-02-18T15:48:01.3618Z\",\"2022-02-18T15:49:00.2933Z\",\"2022-02-18T15:50:00.5764Z\",\"2022-02-18T15:51:00.0399Z\",\"2022-02-18T15:52:00.0406Z\",\"2022-02-18T15:53:02.6976Z\",\"2022-02-18T15:54:00.6822Z\",\"2022-02-18T15:55:00.197Z\",\"2022-02-18T15:56:00.4329Z\",\"2022-02-18T15:57:00.0508Z\",\"2022-02-18T15:58:01.5625Z\",\"2022-02-18T15:59:00.1808Z\",\"2022-02-18T16:00:00.0419Z\",\"2022-02-18T16:01:00.3392Z\",\"2022-02-18T16:02:00.3328Z\",\"2022-02-18T16:03:00.1208Z\",\"2022-02-18T16:04:00.7056Z\",\"2022-02-18T16:05:00.0563Z\",\"2022-02-18T16:06:00.0487Z\",\"2022-02-18T16:07:00.452Z\",\"2022-02-18T16:08:00.0386Z\",\"2022-02-18T16:09:01.6379Z\",\"2022-02-18T16:10:00.8646Z\",\"2022-02-18T16:11:00.1465Z\",\"2022-02-18T16:12:03.7497Z\",\"2022-02-18T16:13:00.0305Z\",\"2022-02-18T16:14:04.004Z\",\"2022-02-18T16:15:00.2407Z\",\"2022-02-18T16:16:00.9446Z\",\"2022-02-18T16:17:00.6174Z\",\"2022-02-18T16:18:00.1658Z\",\"2022-02-18T16:19:00.0847Z\",\"2022-02-18T16:20:03.6044Z\",\"2022-02-18T16:21:00.3018Z\",\"2022-02-18T16:22:02.1341Z\",\"2022-02-18T16:23:01.7157Z\",\"2022-02-18T16:24:01.1671Z\",\"2022-02-18T16:25:00.2084Z\",\"2022-02-18T16:26:01.1882Z\",\"2022-02-18T16:27:00.0783Z\",\"2022-02-18T16:28:00.0721Z\",\"2022-02-18T16:29:01.1636Z\",\"2022-02-18T16:30:00.064Z\",\"2022-02-18T16:31:00.0581Z\",\"2022-02-18T16:32:01.1899Z\",\"2022-02-18T16:33:04.8637Z\",\"2022-02-18T16:34:00.3491Z\",\"2022-02-18T16:35:00.0649Z\",\"2022-02-18T16:36:03.0277Z\",\"2022-02-18T16:37:00.0386Z\",\"2022-02-18T16:38:00.2608Z\",\"2022-02-18T16:39:01.0108Z\",\"2022-02-18T16:40:00.454Z\",\"2022-02-18T16:41:00.4175Z\",\"2022-02-18T16:42:00.4346Z\",\"2022-02-18T16:43:02.1959Z\",\"2022-02-18T16:44:00.585Z\",\"2022-02-18T16:45:00.5445Z\",\"2022-02-18T16:46:00.2101Z\",\"2022-02-18T16:47:00.1873Z\",\"2022-02-18T16:48:01.0969Z\",\"2022-02-18T16:49:01.8941Z\",\"2022-02-18T16:50:00.044Z\",\"2022-02-18T16:51:00.21Z\",\"2022-02-18T16:52:00.0903Z\",\"2022-02-18T16:53:00.6974Z\",\"2022-02-18T16:54:00.1558Z\",\"2022-02-18T16:55:00.4867Z\",\"2022-02-18T16:56:01.7721Z\",\"2022-02-18T16:57:00.5376Z\",\"2022-02-18T16:58:00.7886Z\",\"2022-02-18T16:59:00.9961Z\",\"2022-02-18T17:00:00.0817Z\",\"2022-02-18T17:01:00.0451Z\",\"2022-02-18T17:02:00.7035Z\",\"2022-02-18T17:03:00.1671Z\",\"2022-02-18T17:04:00.9339Z\",\"2022-02-18T17:05:00.0404Z\",\"2022-02-18T17:06:00.1267Z\",\"2022-02-18T17:07:00.0395Z\",\"2022-02-18T17:08:00.4397Z\",\"2022-02-18T17:09:00.3668Z\",\"2022-02-18T17:10:00.2562Z\",\"2022-02-18T17:11:02.6984Z\",\"2022-02-18T17:12:00.1787Z\",\"2022-02-18T17:13:00.0576Z\",\"2022-02-18T17:14:00.2312Z\",\"2022-02-18T17:15:00.6407Z\",\"2022-02-18T17:16:02.8291Z\",\"2022-02-18T17:17:00.1809Z\",\"2022-02-18T17:18:00.4491Z\",\"2022-02-18T17:19:01.2308Z\",\"2022-02-18T17:20:02.7674Z\",\"2022-02-18T17:21:00.9381Z\",\"2022-02-18T17:22:00.1553Z\",\"2022-02-18T17:23:00.3036Z\",\"2022-02-18T17:24:00.0466Z\",\"2022-02-18T17:25:00.3667Z\",\"2022-02-18T17:26:00.2528Z\",\"2022-02-18T17:27:00.2763Z\",\"2022-02-18T17:28:00.3704Z\",\"2022-02-18T17:29:00.3136Z\",\"2022-02-18T17:30:00.073Z\",\"2022-02-18T17:31:00.2094Z\",\"2022-02-18T17:32:00.4888Z\",\"2022-02-18T17:33:00.1743Z\",\"2022-02-18T17:34:00.8716Z\",\"2022-02-18T17:35:00.5178Z\",\"2022-02-18T17:36:01.0301Z\",\"2022-02-18T17:37:00.3277Z\",\"2022-02-18T17:38:00.725Z\",\"2022-02-18T17:39:00.9831Z\",\"2022-02-18T17:40:00.2051Z\",\"2022-02-18T17:41:00.0015Z\",\"2022-02-18T17:42:00.2596Z\",\"2022-02-18T17:43:00.173Z\",\"2022-02-18T17:44:00.0469Z\",\"2022-02-18T17:45:00.0521Z\",\"2022-02-18T17:46:00.1166Z\",\"2022-02-18T17:47:00.2814Z\",\"2022-02-18T17:48:02.1191Z\",\"2022-02-18T17:49:00.9365Z\",\"2022-02-18T17:50:00.5027Z\",\"2022-02-18T17:51:00.2317Z\",\"2022-02-18T17:52:02.0242Z\",\"2022-02-18T17:53:01.9721Z\",\"2022-02-18T17:54:00.3621Z\",\"2022-02-18T17:55:01.532Z\",\"2022-02-18T17:56:01.1178Z\",\"2022-02-18T17:57:00.0132Z\",\"2022-02-18T17:58:00.1419Z\",\"2022-02-18T17:59:00.3305Z\",\"2022-02-18T18:00:00.0415Z\",\"2022-02-18T18:01:00.1561Z\",\"2022-02-18T18:02:00.4444Z\",\"2022-02-18T18:03:00.8067Z\",\"2022-02-18T18:04:00.0453Z\",\"2022-02-18T18:05:00.2542Z\",\"2022-02-18T18:06:00.1625Z\",\"2022-02-18T18:07:00.083Z\",\"2022-02-18T18:08:00.9908Z\",\"2022-02-18T18:09:00.0572Z\",\"2022-02-18T18:10:00.3246Z\",\"2022-02-18T18:11:00.29Z\",\"2022-02-18T18:12:00.0058Z\",\"2022-02-18T18:13:01.5121Z\",\"2022-02-18T18:14:00.5221Z\",\"2022-02-18T18:15:00.1974Z\",\"2022-02-18T18:16:00.1199Z\",\"2022-02-18T18:17:00.3549Z\",\"2022-02-18T18:18:01.2511Z\",\"2022-02-18T18:19:00.1536Z\",\"2022-02-18T18:20:03.8261Z\",\"2022-02-18T18:21:01.1975Z\",\"2022-02-18T18:22:01.5871Z\",\"2022-02-18T18:23:00.133Z\",\"2022-02-18T18:24:00.3561Z\",\"2022-02-18T18:25:00.5433Z\",\"2022-02-18T18:26:02.361Z\",\"2022-02-18T18:27:01.9328Z\",\"2022-02-18T18:28:00.4134Z\",\"2022-02-18T18:29:00.021Z\",\"2022-02-18T18:30:01.3254Z\",\"2022-02-18T18:31:01.0707Z\",\"2022-02-18T18:32:00.03Z\",\"2022-02-18T18:33:00.043Z\",\"2022-02-18T18:34:00.9831Z\",\"2022-02-18T18:35:03.0079Z\",\"2022-02-18T18:36:00.9242Z\",\"2022-02-18T18:37:00.4293Z\",\"2022-02-18T18:38:01.0212Z\",\"2022-02-18T18:39:00.0471Z\",\"2022-02-18T18:40:00.8115Z\",\"2022-02-18T18:41:00.1864Z\",\"2022-02-18T18:42:01.0347Z\",\"2022-02-18T18:43:02.5654Z\",\"2022-02-18T18:44:00.0484Z\",\"2022-02-18T18:45:00.0676Z\",\"2022-02-18T18:46:00.6786Z\",\"2022-02-18T18:47:01.014Z\",\"2022-02-18T18:48:00.1367Z\",\"2022-02-18T18:49:00.1237Z\",\"2022-02-18T18:50:00.2096Z\",\"2022-02-18T18:51:00.5316Z\",\"2022-02-18T18:52:00.412Z\",\"2022-02-18T18:53:00.1627Z\",\"2022-02-18T18:54:01.0386Z\",\"2022-02-18T18:55:00.0507Z\",\"2022-02-18T18:56:01.8637Z\",\"2022-02-18T18:57:00.9256Z\",\"2022-02-18T18:58:00.1797Z\",\"2022-02-18T18:59:01.9507Z\",\"2022-02-18T19:00:00.7329Z\",\"2022-02-18T19:01:00.2151Z\",\"2022-02-18T19:02:00.6213Z\",\"2022-02-18T19:03:00.562Z\",\"2022-02-18T19:04:00.3026Z\",\"2022-02-18T19:05:00.9528Z\",\"2022-02-18T19:06:01.4983Z\",\"2022-02-18T19:07:00.7825Z\",\"2022-02-18T19:08:00.0606Z\",\"2022-02-18T19:09:00.0601Z\",\"2022-02-18T19:10:00.8098Z\",\"2022-02-18T19:11:00.0999Z\",\"2022-02-18T19:12:03.6972Z\",\"2022-02-18T19:13:00.7289Z\",\"2022-02-18T19:14:01.4029Z\",\"2022-02-18T19:15:01.5981Z\",\"2022-02-18T19:16:00.0666Z\",\"2022-02-18T19:17:00.916Z\",\"2022-02-18T19:18:00.1634Z\",\"2022-02-18T19:19:01.2542Z\",\"2022-02-18T19:20:00.954Z\",\"2022-02-18T19:21:00.0693Z\",\"2022-02-18T19:22:00.0769Z\",\"2022-02-18T19:23:03.0173Z\",\"2022-02-18T19:24:01.0718Z\",\"2022-02-18T19:25:00.6753Z\",\"2022-02-18T19:26:00.0745Z\",\"2022-02-18T19:27:01.2053Z\",\"2022-02-18T19:28:00.0866Z\",\"2022-02-18T19:29:00.067Z\",\"2022-02-18T19:30:00.5663Z\",\"2022-02-18T19:31:02.6655Z\",\"2022-02-18T19:32:00.0777Z\",\"2022-02-18T19:33:01.2188Z\",\"2022-02-18T19:34:00.4184Z\",\"2022-02-18T19:35:00.0453Z\",\"2022-02-18T19:36:00.5791Z\",\"2022-02-18T19:37:00.1824Z\",\"2022-02-18T19:38:00.2986Z\",\"2022-02-18T19:39:00.3612Z\",\"2022-02-18T19:40:00.3373Z\",\"2022-02-18T19:41:00.5931Z\",\"2022-02-18T19:42:00.4322Z\",\"2022-02-18T19:43:00.4516Z\",\"2022-02-18T19:44:00.1591Z\",\"2022-02-18T19:45:00.1492Z\",\"2022-02-18T19:46:00.0326Z\",\"2022-02-18T19:47:00.9903Z\",\"2022-02-18T19:48:01.4398Z\",\"2022-02-18T19:49:00.0346Z\",\"2022-02-18T19:50:00.0387Z\",\"2022-02-18T19:51:00.1456Z\",\"2022-02-18T19:52:00.4523Z\",\"2022-02-18T19:53:03.12Z\",\"2022-02-18T19:54:00.0096Z\",\"2022-02-18T19:55:00.7078Z\",\"2022-02-18T19:56:00.0436Z\",\"2022-02-18T19:57:01.0936Z\",\"2022-02-18T19:58:00.1809Z\",\"2022-02-18T19:59:00.0516Z\",\"2022-02-18T19:59:59.0195Z\"],\"y\":[169.81,169.81,169.93,169.93,169.92,169.92,170.0,170.0,170.0,170.0,170.0,170.0,170.0,170.0,170.0,169.97,169.93,169.93,169.93,169.93,169.99,169.99,169.99,169.99,169.99,169.99,170.04,170.0,170.0,170.0,170.03,170.03,170.03,170.03,170.03,170.03,170.03,170.03,170.03,170.03,170.03,170.03,170.06,170.06,170.06,170.06,170.06,170.06,170.06,170.06,170.04,170.04,170.04,170.03,169.99,169.99,169.97,169.94,169.88,169.88,169.88,169.94,170.0,169.98,169.95,169.95,169.95,169.97,169.97,169.83,169.59,169.56,169.66,169.68,169.57,169.5,169.56,169.49,169.5,169.57,169.57,169.38,169.33,169.21,169.22,169.17,168.98,169.04,169.06,168.99,168.98,168.97,168.92,168.81,168.86,169.03,168.95,168.95,169.02,169.15,169.09,169.1,169.1,169.17,169.15,169.08,169.05,169.05,169.05,169.09,169.09,169.28,169.31,169.4,169.38,169.38,169.37,169.5,169.45,169.45,169.38,169.39,169.55,169.48,169.6,169.53,169.43,169.38,169.37,169.41,169.24,169.24,169.22,169.22,169.39,169.33,169.35,169.38,169.35,169.38,169.27,169.16,169.3,169.32,169.27,169.76,169.69,170.11,169.68,169.81,170.17,170.11,169.78,169.68,169.62,169.44,169.18,169.33,169.18,168.925,168.84,168.62,168.36,168.39,168.21,168.3,168.41,168.57,168.33,168.28,168.37,168.37,168.45,168.74,168.88,168.77,168.91,168.95,168.88,169.02,168.67,168.58,168.6,168.53,168.72,168.74,168.57,168.52,168.51,168.47,168.54,168.36,168.34,168.36,168.54,168.75,168.55,168.72,168.58,168.66,168.76,168.55,168.42,168.43,168.46,168.47,168.65,168.55,168.47,168.48,168.16,167.95,167.82,167.95,167.97,167.97,167.95,167.94,167.97,167.81,167.69,167.75,167.84,167.93,168.04,168.14,168.27,168.13,168.07,167.94,167.92,167.89,168.06,168.06,168.12,168.09,168.22,168.11,167.98,168.06,167.98,168.02,167.92,167.52,167.46,167.61,167.62,167.71,167.6,167.53,167.4,167.52,167.61,167.5,167.63,167.46,167.63,167.7501,167.72,167.8,168.045,168.06,168.13,168.06,168.02,168.19,168.09,168.11,168.15,168.11,168.0,168.15,168.09,167.93,167.99,167.93,168.09,168.13,168.25,168.17,168.19,168.34,168.19,168.1,168.09,168.1,168.13,168.17,168.02,167.88,167.84,167.74,167.75,167.7,167.64,167.69,167.66,167.4,167.28,167.3,167.39,167.31,167.35,167.26,167.26,167.36,167.32,167.38,167.35,167.56,167.6,167.62,167.55,167.53,167.58,167.56,167.6,167.95,167.91,167.86,167.92,167.74,167.75,167.7,167.64,167.73,167.65,167.63,167.71,167.71,167.52,167.55,167.48,167.32,167.33,167.33,167.19,166.95,166.95,166.97,166.95,167.025,167.01,167.05,166.91,166.79,166.92,166.85,166.97,166.9,166.78,166.9,166.95,166.94,166.9,166.76,166.91,166.85,166.76,166.67,166.59,166.64,166.59,166.72,166.65,166.59,166.46,166.515,166.65,166.64,166.53,166.43,166.44,166.41,166.35,166.46,166.34,166.28,166.32,166.3,166.22,166.36,166.39,166.44,166.58,166.46,166.41,166.36,166.36,166.36,166.31,166.4,166.46,166.41,166.44,166.33,166.52,166.45,166.55,166.72,166.71,166.64,166.6,166.59,166.64,166.72,166.9,167.0,167.0,167.03,167.13,167.09,167.09,167.14,167.23,167.18,167.09,167.13,167.14,167.07,167.06,167.3,167.21,167.19,167.22,167.26,167.15,167.18,167.25,167.2,167.19,167.19,167.18,167.15,167.1,167.12,167.36,167.32,167.34,167.42,167.46,167.5,167.48,167.65,167.79,167.73,167.7,167.74,168.02,168.04,168.165,168.42,168.43,168.43,168.44,168.45,168.36,168.43,168.4,168.25,168.08,168.17,168.21,168.105,168.03,168.1,168.07,167.98,167.97,167.8,167.83,167.88,167.89,167.92,168.38,168.43,168.38,168.2,168.25,168.31],\"mode\":\"lines\",\"name\":\"Prices\"}];\n",
       "           var layout = {\"title\":\"SMAs and prices for AAPL\",\"xaxis\":{\"title\":\"Time\",\"_isSubplotObj\":true},\"yaxis\":{\"title\":\"Price\",\"_isSubplotObj\":true}};\n",
       "           Plotly.newPlot('a514d775-5d67-4a38-b5a6-f8dbdd9cdf57', data, layout);\n",
       "        \n",
       "});\n",
       "};\n",
       "// ensure `require` is available globally\n",
       "if ((typeof(require) !==  typeof(Function)) || (typeof(require.config) !== typeof(Function))) {\n",
       "    let require_script = document.createElement('script');\n",
       "    require_script.setAttribute('src', 'https://cdnjs.cloudflare.com/ajax/libs/require.js/2.3.6/require.min.js');\n",
       "    require_script.setAttribute('type', 'text/javascript');\n",
       "    \n",
       "    \n",
       "    require_script.onload = function() {\n",
       "        renderPlotly();\n",
       "    };\n",
       "\n",
       "    document.getElementsByTagName('head')[0].appendChild(require_script);\n",
       "}\n",
       "else {\n",
       "    renderPlotly();\n",
       "}\n",
       "\n",
       "</script>\n"
      ]
     },
     "metadata": {},
     "output_type": "display_data"
    }
   ],
   "source": [
    "// Plot simultaneously prices and simple moving averages\n",
    "var smaPlots = new List<Scattergl>\n",
    "{\n",
    "    new Scattergl\n",
    "    {\n",
    "        name = \"200-points SMA\",\n",
    "        mode = \"lines\",\n",
    "        x = smalong.Select(l => l.TimeStamp.ToDateTime()),\n",
    "        y = smalong.Select(l => l.Average)\n",
    "    },\n",
    "    new Scattergl\n",
    "    {\n",
    "        name = \"50-points SMA\",\n",
    "        mode = \"lines\",\n",
    "        x = smashort.Select(l => l.TimeStamp.ToDateTime()),\n",
    "        y = smashort.Select(l => l.Average)\n",
    "    },\n",
    "    new Scattergl\n",
    "    {\n",
    "        name = \"Prices\",\n",
    "        mode = \"lines\",\n",
    "        x = smashort.Select(l => l.TimeStamp.ToDateTime()),\n",
    "        y = smashort.Select(l => l.Value)\n",
    "    }\n",
    "};\n",
    "var chart = Chart.Plot(smaPlots);\n",
    "chart.WithTitle($\"SMAs and prices for {ticker}\");\n",
    "chart.WithXTitle($\"Time\");\n",
    "chart.WithYTitle($\"Price\");\n",
    "chart.Width = 1500;\n",
    "chart.Height = 800;\n",
    "display(chart);"
   ]
  }
 ],
 "metadata": {
  "kernelspec": {
   "display_name": ".NET (C#)",
   "language": "C#",
   "name": ".net-csharp"
  },
  "language_info": {
   "file_extension": ".cs",
   "mimetype": "text/x-csharp",
   "name": "C#",
   "pygments_lexer": "csharp",
   "version": "10.0"
  }
 },
 "nbformat": 4,
 "nbformat_minor": 5
}
