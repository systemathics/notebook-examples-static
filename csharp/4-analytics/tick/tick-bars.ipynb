{
 "cells": [
  {
   "cell_type": "markdown",
   "metadata": {},
   "source": [
    "# Generate intraday bars using bars data service - C#\n",
    "\n",
    "### Overview\n",
    "Bars are widely used to illustrate price movements for an instrument over a look back period. Commonly used in financial analysis and trading strategies as per a deicion making technical indicator.<br>\n",
    "\n",
    "This sample demonstrates how to directly request and plot `intraday bars` with a **customizable** time range sampling.<br>\n",
    "\n",
    "It enables to retrieve **on-demand** data by calling a dedicated bars service on a tick by tick data store. \n",
    "\n",
    "### Inputs/outputs\n",
    "Bars sample requires instrument's identifier, date time intervals as per inputs. It returns open-high-low-close (OHLC) and volume.\n",
    "This sample also shows how to plot a simple graph for basis financial analysis using an open source library.\n",
    "\n",
    "### Services used\n",
    "This sample uses *gRPC requests* in order to retrieve bars from the dedicated hosted service. The queried endpoint in this script are:\n",
    "* *TickBarsService*: to directly retrieve bars objects from the server\n",
    "\n",
    "### Packages required\n",
    "1. Systemathics packages:\n",
    "    * *Systemathics.Apis.Type.Shared.V1*\n",
    "    * *Systemathics.Apis.Services.TickAnalytics.V1*\n",
    "2. Open source packages\n",
    "    * *Google.Protobuf.WellKnownTypes*\n",
    "    * *Google.Type*\n",
    "    * *Grpc.Net.Client*\n",
    "    * *Grpc.Core*\n",
    "    * *XPlot.Plotly* as per display package\n",
    "\n",
    "***"
   ]
  },
  {
   "cell_type": "markdown",
   "metadata": {},
   "source": [
    "# Run bars sample"
   ]
  },
  {
   "cell_type": "markdown",
   "metadata": {},
   "source": [
    "### Step 1: Install packages"
   ]
  },
  {
   "cell_type": "code",
   "execution_count": 1,
   "metadata": {
    "dotnet_interactive": {
     "language": "csharp"
    },
    "execution": {
     "iopub.execute_input": "2022-10-25T16:15:32.933811Z",
     "iopub.status.busy": "2022-10-25T16:15:32.924409Z",
     "iopub.status.idle": "2022-10-25T16:15:38.289853Z",
     "shell.execute_reply": "2022-10-25T16:15:38.281506Z"
    },
    "vscode": {
     "languageId": "dotnet-interactive.csharp"
    }
   },
   "outputs": [
    {
     "data": {
      "text/html": [
       "\n",
       "<div>\n",
       "    <div id='dotnet-interactive-this-cell-18416.Microsoft.DotNet.Interactive.Http.HttpPort' style='display: none'>\n",
       "        The below script needs to be able to find the current output cell; this is an easy method to get it.\n",
       "    </div>\n",
       "    <script type='text/javascript'>\n",
       "async function probeAddresses(probingAddresses) {\n",
       "    function timeout(ms, promise) {\n",
       "        return new Promise(function (resolve, reject) {\n",
       "            setTimeout(function () {\n",
       "                reject(new Error('timeout'))\n",
       "            }, ms)\n",
       "            promise.then(resolve, reject)\n",
       "        })\n",
       "    }\n",
       "\n",
       "    if (Array.isArray(probingAddresses)) {\n",
       "        for (let i = 0; i < probingAddresses.length; i++) {\n",
       "\n",
       "            let rootUrl = probingAddresses[i];\n",
       "\n",
       "            if (!rootUrl.endsWith('/')) {\n",
       "                rootUrl = `${rootUrl}/`;\n",
       "            }\n",
       "\n",
       "            try {\n",
       "                let response = await timeout(1000, fetch(`${rootUrl}discovery`, {\n",
       "                    method: 'POST',\n",
       "                    cache: 'no-cache',\n",
       "                    mode: 'cors',\n",
       "                    timeout: 1000,\n",
       "                    headers: {\n",
       "                        'Content-Type': 'text/plain'\n",
       "                    },\n",
       "                    body: probingAddresses[i]\n",
       "                }));\n",
       "\n",
       "                if (response.status == 200) {\n",
       "                    return rootUrl;\n",
       "                }\n",
       "            }\n",
       "            catch (e) { }\n",
       "        }\n",
       "    }\n",
       "}\n",
       "\n",
       "function loadDotnetInteractiveApi() {\n",
       "    probeAddresses([\"http://172.28.169.63:2983/\", \"http://127.0.0.1:2983/\"])\n",
       "        .then((root) => {\n",
       "        // use probing to find host url and api resources\n",
       "        // load interactive helpers and language services\n",
       "        let dotnetInteractiveRequire = require.config({\n",
       "        context: '18416.Microsoft.DotNet.Interactive.Http.HttpPort',\n",
       "                paths:\n",
       "            {\n",
       "                'dotnet-interactive': `${root}resources`\n",
       "                }\n",
       "        }) || require;\n",
       "\n",
       "            window.dotnetInteractiveRequire = dotnetInteractiveRequire;\n",
       "\n",
       "            window.configureRequireFromExtension = function(extensionName, extensionCacheBuster) {\n",
       "                let paths = {};\n",
       "                paths[extensionName] = `${root}extensions/${extensionName}/resources/`;\n",
       "                \n",
       "                let internalRequire = require.config({\n",
       "                    context: extensionCacheBuster,\n",
       "                    paths: paths,\n",
       "                    urlArgs: `cacheBuster=${extensionCacheBuster}`\n",
       "                    }) || require;\n",
       "\n",
       "                return internalRequire\n",
       "            };\n",
       "        \n",
       "            dotnetInteractiveRequire([\n",
       "                    'dotnet-interactive/dotnet-interactive'\n",
       "                ],\n",
       "                function (dotnet) {\n",
       "                    dotnet.init(window);\n",
       "                },\n",
       "                function (error) {\n",
       "                    console.log(error);\n",
       "                }\n",
       "            );\n",
       "        })\n",
       "        .catch(error => {console.log(error);});\n",
       "    }\n",
       "\n",
       "// ensure `require` is available globally\n",
       "if ((typeof(require) !==  typeof(Function)) || (typeof(require.config) !== typeof(Function))) {\n",
       "    let require_script = document.createElement('script');\n",
       "    require_script.setAttribute('src', 'https://cdnjs.cloudflare.com/ajax/libs/require.js/2.3.6/require.min.js');\n",
       "    require_script.setAttribute('type', 'text/javascript');\n",
       "    \n",
       "    \n",
       "    require_script.onload = function() {\n",
       "        loadDotnetInteractiveApi();\n",
       "    };\n",
       "\n",
       "    document.getElementsByTagName('head')[0].appendChild(require_script);\n",
       "}\n",
       "else {\n",
       "    loadDotnetInteractiveApi();\n",
       "}\n",
       "\n",
       "    </script>\n",
       "</div>"
      ]
     },
     "metadata": {},
     "output_type": "display_data"
    },
    {
     "data": {
      "text/html": [
       "<div><div><strong>Restore sources</strong><ul><li><span> file://~/.nuget/packages/</span></li><li><span> https://api.nuget.org/v3/index.json</span></li></ul></div><div></div><div><strong>Installed Packages</strong><ul><li><span>Systemathics.Apis, 0.13.2-pre</span></li><li><span>XPlot.Plotly.Interactive, 4.0.6</span></li></ul></div></div>"
      ]
     },
     "metadata": {},
     "output_type": "display_data"
    },
    {
     "data": {
      "text/markdown": [
       "Loading extensions from `XPlot.Plotly.Interactive.dll`"
      ]
     },
     "metadata": {},
     "output_type": "display_data"
    },
    {
     "data": {
      "text/markdown": [
       "Configuring PowerShell Kernel for XPlot.Plotly integration."
      ]
     },
     "metadata": {},
     "output_type": "display_data"
    },
    {
     "data": {
      "text/markdown": [
       "Installed support for XPlot.Plotly."
      ]
     },
     "metadata": {},
     "output_type": "display_data"
    }
   ],
   "source": [
    "#i \"nuget: file://~/.nuget/packages/\"\n",
    "#i \"nuget: https://api.nuget.org/v3/index.json\"\n",
    "#r \"nuget: Systemathics.Apis, 0.*-pre*\"\n",
    "#r \"nuget: XPlot.Plotly.Interactive\""
   ]
  },
  {
   "cell_type": "code",
   "execution_count": 2,
   "metadata": {
    "dotnet_interactive": {
     "language": "csharp"
    },
    "execution": {
     "iopub.execute_input": "2022-10-25T16:15:38.291953Z",
     "iopub.status.busy": "2022-10-25T16:15:38.291640Z",
     "iopub.status.idle": "2022-10-25T16:15:38.397289Z",
     "shell.execute_reply": "2022-10-25T16:15:38.396980Z"
    },
    "vscode": {
     "languageId": "dotnet-interactive.csharp"
    }
   },
   "outputs": [],
   "source": [
    "using Systemathics.Apis.Helpers;\n",
    "using Systemathics.Apis.Type.Shared.V1;\n",
    "using Systemathics.Apis.Services.TickAnalytics.V1;\n",
    "using Google.Protobuf.WellKnownTypes;\n",
    "using Google.Type;\n",
    "using Grpc.Net.Client;\n",
    "using Grpc.Core;\n",
    "using XPlot.Plotly;\n",
    "using XPlot.Plotly.Interactive;"
   ]
  },
  {
   "cell_type": "markdown",
   "metadata": {},
   "source": [
    "### Step 2: Prepare API requests\n",
    "The following code snippets retrieve authentication token and prepare the API request by: opening the *channel* and adding the *token* to the request header:"
   ]
  },
  {
   "cell_type": "code",
   "execution_count": 3,
   "metadata": {
    "dotnet_interactive": {
     "language": "csharp"
    },
    "execution": {
     "iopub.execute_input": "2022-10-25T16:15:38.399710Z",
     "iopub.status.busy": "2022-10-25T16:15:38.399348Z",
     "iopub.status.idle": "2022-10-25T16:15:39.451428Z",
     "shell.execute_reply": "2022-10-25T16:15:39.451098Z"
    },
    "vscode": {
     "languageId": "dotnet-interactive.csharp"
    }
   },
   "outputs": [],
   "source": [
    "// Get token as metadata\n",
    "var headers = TokenHelpers.GetTokenAsMetaData();\n",
    "\n",
    "// Create communication channel\n",
    "var channel = ChannelHelpers.GetChannel();"
   ]
  },
  {
   "cell_type": "markdown",
   "metadata": {},
   "source": [
    "### Step 3: Create and process request\n",
    "To request *tick bars service*, we need to specify:\n",
    "* Instrument identifier\n",
    "* Time period selection: select start and end dates\n",
    "* Bars request parameters"
   ]
  },
  {
   "cell_type": "markdown",
   "metadata": {},
   "source": [
    "#### 3.1 Instrument selection"
   ]
  },
  {
   "cell_type": "code",
   "execution_count": 4,
   "metadata": {
    "dotnet_interactive": {
     "language": "csharp"
    },
    "execution": {
     "iopub.execute_input": "2022-10-25T16:15:39.453907Z",
     "iopub.status.busy": "2022-10-25T16:15:39.453593Z",
     "iopub.status.idle": "2022-10-25T16:15:39.519950Z",
     "shell.execute_reply": "2022-10-25T16:15:39.519703Z"
    },
    "vscode": {
     "languageId": "dotnet-interactive.csharp"
    }
   },
   "outputs": [],
   "source": [
    "var ticker = \"AAPL\";\n",
    "var exchange = \"BATS\";"
   ]
  },
  {
   "cell_type": "markdown",
   "metadata": {},
   "source": [
    "#### 3.2 Bars calculation parameters"
   ]
  },
  {
   "cell_type": "code",
   "execution_count": 5,
   "metadata": {
    "dotnet_interactive": {
     "language": "csharp"
    },
    "execution": {
     "iopub.execute_input": "2022-10-25T16:15:39.521937Z",
     "iopub.status.busy": "2022-10-25T16:15:39.521589Z",
     "iopub.status.idle": "2022-10-25T16:15:39.606714Z",
     "shell.execute_reply": "2022-10-25T16:15:39.606468Z"
    },
    "vscode": {
     "languageId": "dotnet-interactive.csharp"
    }
   },
   "outputs": [],
   "source": [
    "// Set the bar duration\n",
    "var sampling = 5 * 60;\n",
    "\n",
    "// Set the bar calculation field\n",
    "var field = BarPrice.Trade; "
   ]
  },
  {
   "cell_type": "markdown",
   "metadata": {},
   "source": [
    "#### 3.3 Time period delimitation"
   ]
  },
  {
   "cell_type": "code",
   "execution_count": 6,
   "metadata": {
    "dotnet_interactive": {
     "language": "csharp"
    },
    "execution": {
     "iopub.execute_input": "2022-10-25T16:15:39.608638Z",
     "iopub.status.busy": "2022-10-25T16:15:39.608330Z",
     "iopub.status.idle": "2022-10-25T16:15:39.783170Z",
     "shell.execute_reply": "2022-10-25T16:15:39.782898Z"
    },
    "vscode": {
     "languageId": "dotnet-interactive.csharp"
    }
   },
   "outputs": [],
   "source": [
    "// Create time intervals\n",
    "var yesterday = DateTime.Today.AddDays(-1);\n",
    "var start = yesterday.AddDays(-50);\n",
    "\n",
    "// Build the bars request date interval (we are using Google date time format : we have to cast the dates)\n",
    "var dateIntervals = new DateInterval()\n",
    "{\n",
    "  StartDate = new Date { Year = start.Year, Month = start.Month, Day = start.Day },\n",
    "  EndDate = new Date { Year = yesterday.Year, Month = yesterday.Month, Day = yesterday.Day }\n",
    "};\n",
    "\n",
    "// Build the bars request time interval (we are using Google date time format : we have to cast the dates)\n",
    "// UTC time zone\n",
    "var timeInterval = new TimeInterval()\n",
    "{\n",
    " StartTime = new TimeOfDay { Hours = 14, Minutes = 00, Seconds = 00 },\n",
    " EndTime = new TimeOfDay { Hours = 20, Minutes = 00, Seconds = 00 } \n",
    "};"
   ]
  },
  {
   "cell_type": "markdown",
   "metadata": {},
   "source": [
    "#### 3.4 Request creation\n",
    "The following code snippet creates *gRPC client*, process request and returns the request reply:"
   ]
  },
  {
   "cell_type": "code",
   "execution_count": 7,
   "metadata": {
    "dotnet_interactive": {
     "language": "csharp"
    },
    "execution": {
     "iopub.execute_input": "2022-10-25T16:15:39.785698Z",
     "iopub.status.busy": "2022-10-25T16:15:39.785372Z",
     "iopub.status.idle": "2022-10-25T16:15:39.872389Z",
     "shell.execute_reply": "2022-10-25T16:15:39.872140Z"
    },
    "vscode": {
     "languageId": "dotnet-interactive.csharp"
    }
   },
   "outputs": [],
   "source": [
    "// Generate constraints based on the previous space selection:\n",
    "var constraints = new Constraints(); \n",
    "constraints.DateIntervals.Add(dateIntervals);\n",
    "constraints.TimeIntervals.Add(timeInterval);"
   ]
  },
  {
   "cell_type": "code",
   "execution_count": 8,
   "metadata": {
    "dotnet_interactive": {
     "language": "csharp"
    },
    "execution": {
     "iopub.execute_input": "2022-10-25T16:15:39.874318Z",
     "iopub.status.busy": "2022-10-25T16:15:39.873968Z",
     "iopub.status.idle": "2022-10-25T16:15:39.939730Z",
     "shell.execute_reply": "2022-10-25T16:15:39.939469Z"
    },
    "vscode": {
     "languageId": "dotnet-interactive.csharp"
    }
   },
   "outputs": [],
   "source": [
    "// Generate intraday bars request\n",
    "var request = new TickBarsRequest  \n",
    "{ \n",
    "    Identifier = new Identifier { Exchange = exchange, Ticker = ticker}, \n",
    "    Constraints = constraints,  \n",
    "    Sampling = new Duration {Seconds = sampling},\n",
    "    Field = field\n",
    "};"
   ]
  },
  {
   "cell_type": "code",
   "execution_count": 9,
   "metadata": {
    "dotnet_interactive": {
     "language": "csharp"
    },
    "execution": {
     "iopub.execute_input": "2022-10-25T16:15:39.941549Z",
     "iopub.status.busy": "2022-10-25T16:15:39.941211Z",
     "iopub.status.idle": "2022-10-25T16:15:40.004350Z",
     "shell.execute_reply": "2022-10-25T16:15:40.004104Z"
    },
    "vscode": {
     "languageId": "dotnet-interactive.csharp"
    }
   },
   "outputs": [],
   "source": [
    "// Instantiate the intraday bars service\n",
    "var service = new TickBarsService.TickBarsServiceClient(channel);"
   ]
  },
  {
   "cell_type": "code",
   "execution_count": 10,
   "metadata": {
    "dotnet_interactive": {
     "language": "csharp"
    },
    "execution": {
     "iopub.execute_input": "2022-10-25T16:15:40.006355Z",
     "iopub.status.busy": "2022-10-25T16:15:40.006026Z",
     "iopub.status.idle": "2022-10-25T16:15:40.995117Z",
     "shell.execute_reply": "2022-10-25T16:15:40.994639Z"
    },
    "vscode": {
     "languageId": "dotnet-interactive.csharp"
    }
   },
   "outputs": [],
   "source": [
    "// Process intraday bars request\n",
    "var bars = new List<TickBarsResponse>();\n",
    "\n",
    "var call = service.TickBars(request, headers);\n",
    "await foreach (var bar in call.ResponseStream.ReadAllAsync())\n",
    "{\n",
    "    bars.Add(bar);\n",
    "}"
   ]
  },
  {
   "cell_type": "code",
   "execution_count": 11,
   "metadata": {
    "dotnet_interactive": {
     "language": "csharp"
    },
    "execution": {
     "iopub.execute_input": "2022-10-25T16:15:40.997252Z",
     "iopub.status.busy": "2022-10-25T16:15:40.996905Z",
     "iopub.status.idle": "2022-10-25T16:15:41.380669Z",
     "shell.execute_reply": "2022-10-25T16:15:41.380415Z"
    },
    "vscode": {
     "languageId": "dotnet-interactive.csharp"
    }
   },
   "outputs": [
    {
     "name": "stdout",
     "output_type": "stream",
     "text": [
      "Fetched 432 bars from (Total trades=236,735)\n"
     ]
    }
   ],
   "source": [
    "// Calculate the total ticks inside all the bars we received\n",
    "var ticks = bars.Sum(bar => bar.Count);\n",
    "\n",
    "// Display\n",
    "Console.WriteLine($\"Fetched {bars.Count:N0} bars from (Total trades={ticks:N0})\");"
   ]
  },
  {
   "cell_type": "code",
   "execution_count": 12,
   "metadata": {
    "dotnet_interactive": {
     "language": "csharp"
    },
    "execution": {
     "iopub.execute_input": "2022-10-25T16:15:41.382781Z",
     "iopub.status.busy": "2022-10-25T16:15:41.382430Z",
     "iopub.status.idle": "2022-10-25T16:15:41.411949Z",
     "shell.execute_reply": "2022-10-25T16:15:41.411385Z"
    },
    "vscode": {
     "languageId": "dotnet-interactive.csharp"
    }
   },
   "outputs": [],
   "source": [
    "// Display the data\n",
    "//--> Note : the time stamp is displayed by default (using the unix format)\n",
    "//--> We can use other displayers for different output formats \n",
    "//--> For more details about the time stamp: https://developers.google.com/protocol-buffers/docs/reference/google.protobuf#google.protobuf.Timestamp \n",
    "//display(bars);"
   ]
  },
  {
   "cell_type": "markdown",
   "metadata": {},
   "source": [
    "### Step 4: Visualize data"
   ]
  },
  {
   "cell_type": "markdown",
   "metadata": {},
   "source": [
    "#### 4.1 Plot the bars Chart\n",
    "Plot the bars request result and plot them with the package of your choice.<br>*`XPlot.Plotly`* is used as per open source display package. "
   ]
  },
  {
   "cell_type": "code",
   "execution_count": 13,
   "metadata": {
    "dotnet_interactive": {
     "language": "csharp"
    },
    "execution": {
     "iopub.execute_input": "2022-10-25T16:15:41.414857Z",
     "iopub.status.busy": "2022-10-25T16:15:41.414441Z",
     "iopub.status.idle": "2022-10-25T16:15:41.457739Z",
     "shell.execute_reply": "2022-10-25T16:15:41.457449Z"
    },
    "vscode": {
     "languageId": "dotnet-interactive.csharp"
    }
   },
   "outputs": [],
   "source": [
    "var tuples = bars.Select(b => new Tuple<DateTime,double,double,double,double>(b.TimeStamp.ToDateTime(), b.Open, b.High, b.Low, b.Close));"
   ]
  },
  {
   "cell_type": "code",
   "execution_count": 14,
   "metadata": {
    "dotnet_interactive": {
     "language": "csharp"
    },
    "execution": {
     "iopub.execute_input": "2022-10-25T16:15:41.459779Z",
     "iopub.status.busy": "2022-10-25T16:15:41.459473Z",
     "iopub.status.idle": "2022-10-25T16:15:41.702102Z",
     "shell.execute_reply": "2022-10-25T16:15:41.701831Z"
    },
    "vscode": {
     "languageId": "dotnet-interactive.csharp"
    }
   },
   "outputs": [
    {
     "data": {
      "text/html": [
       "<!DOCTYPE html>\n",
       "<div style=\"width: 1500px; height: 800px;\" id=\"d0d4e95a-b48b-41f3-ad34-84160e28bc16\"></div><script type=\"text/javascript\">\n",
       "\n",
       "var renderPlotly = function() {\n",
       "    var xplotRequire = require.config({context:'xplot-3.0.1',paths:{plotly:'https://cdn.plot.ly/plotly-1.49.2.min'}}) || require;\n",
       "    xplotRequire(['plotly'], function(Plotly) { \n",
       "\n",
       "            var data = [{\"type\":\"candlestick\",\"showlegend\":false,\"x\":[\"2022-09-06T14:00:00Z\",\"2022-09-06T14:05:00Z\",\"2022-09-06T14:10:00Z\",\"2022-09-06T14:15:00Z\",\"2022-09-06T14:20:00Z\",\"2022-09-06T14:25:00Z\",\"2022-09-06T14:30:00Z\",\"2022-09-06T14:35:00Z\",\"2022-09-06T14:40:00Z\",\"2022-09-06T14:45:00Z\",\"2022-09-06T14:50:00Z\",\"2022-09-06T14:55:00Z\",\"2022-09-06T15:00:00Z\",\"2022-09-06T15:05:00Z\",\"2022-09-06T15:10:00Z\",\"2022-09-06T15:15:00Z\",\"2022-09-06T15:20:00Z\",\"2022-09-06T15:25:00Z\",\"2022-09-06T15:30:00Z\",\"2022-09-06T15:35:00Z\",\"2022-09-06T15:40:00Z\",\"2022-09-06T15:45:00Z\",\"2022-09-06T15:50:00Z\",\"2022-09-06T15:55:00Z\",\"2022-09-06T16:00:00Z\",\"2022-09-06T16:05:00Z\",\"2022-09-06T16:10:00Z\",\"2022-09-06T16:15:00Z\",\"2022-09-06T16:20:00Z\",\"2022-09-06T16:25:00Z\",\"2022-09-06T16:30:00Z\",\"2022-09-06T16:35:00Z\",\"2022-09-06T16:40:00Z\",\"2022-09-06T16:45:00Z\",\"2022-09-06T16:50:00Z\",\"2022-09-06T16:55:00Z\",\"2022-09-06T17:00:00Z\",\"2022-09-06T17:05:00Z\",\"2022-09-06T17:10:00Z\",\"2022-09-06T17:15:00Z\",\"2022-09-06T17:20:00Z\",\"2022-09-06T17:25:00Z\",\"2022-09-06T17:30:00Z\",\"2022-09-06T17:35:00Z\",\"2022-09-06T17:40:00Z\",\"2022-09-06T17:45:00Z\",\"2022-09-06T17:50:00Z\",\"2022-09-06T17:55:00Z\",\"2022-09-06T18:00:00Z\",\"2022-09-06T18:05:00Z\",\"2022-09-06T18:10:00Z\",\"2022-09-06T18:15:00Z\",\"2022-09-06T18:20:00Z\",\"2022-09-06T18:25:00Z\",\"2022-09-06T18:30:00Z\",\"2022-09-06T18:35:00Z\",\"2022-09-06T18:40:00Z\",\"2022-09-06T18:45:00Z\",\"2022-09-06T18:50:00Z\",\"2022-09-06T18:55:00Z\",\"2022-09-06T19:00:00Z\",\"2022-09-06T19:05:00Z\",\"2022-09-06T19:10:00Z\",\"2022-09-06T19:15:00Z\",\"2022-09-06T19:20:00Z\",\"2022-09-06T19:25:00Z\",\"2022-09-06T19:30:00Z\",\"2022-09-06T19:35:00Z\",\"2022-09-06T19:40:00Z\",\"2022-09-06T19:45:00Z\",\"2022-09-06T19:50:00Z\",\"2022-09-06T19:55:00Z\",\"2022-09-08T14:00:00Z\",\"2022-09-08T14:05:00Z\",\"2022-09-08T14:10:00Z\",\"2022-09-08T14:15:00Z\",\"2022-09-08T14:20:00Z\",\"2022-09-08T14:25:00Z\",\"2022-09-08T14:30:00Z\",\"2022-09-08T14:35:00Z\",\"2022-09-08T14:40:00Z\",\"2022-09-08T14:45:00Z\",\"2022-09-08T14:50:00Z\",\"2022-09-08T14:55:00Z\",\"2022-09-08T15:00:00Z\",\"2022-09-08T15:05:00Z\",\"2022-09-08T15:10:00Z\",\"2022-09-08T15:15:00Z\",\"2022-09-08T15:20:00Z\",\"2022-09-08T15:25:00Z\",\"2022-09-08T15:30:00Z\",\"2022-09-08T15:35:00Z\",\"2022-09-08T15:40:00Z\",\"2022-09-08T15:45:00Z\",\"2022-09-08T15:50:00Z\",\"2022-09-08T15:55:00Z\",\"2022-09-08T16:00:00Z\",\"2022-09-08T16:05:00Z\",\"2022-09-08T16:10:00Z\",\"2022-09-08T16:15:00Z\",\"2022-09-08T16:20:00Z\",\"2022-09-08T16:25:00Z\",\"2022-09-08T16:30:00Z\",\"2022-09-08T16:35:00Z\",\"2022-09-08T16:40:00Z\",\"2022-09-08T16:45:00Z\",\"2022-09-08T16:50:00Z\",\"2022-09-08T16:55:00Z\",\"2022-09-08T17:00:00Z\",\"2022-09-08T17:05:00Z\",\"2022-09-08T17:10:00Z\",\"2022-09-08T17:15:00Z\",\"2022-09-08T17:20:00Z\",\"2022-09-08T17:25:00Z\",\"2022-09-08T17:30:00Z\",\"2022-09-08T17:35:00Z\",\"2022-09-08T17:40:00Z\",\"2022-09-08T17:45:00Z\",\"2022-09-08T17:50:00Z\",\"2022-09-08T17:55:00Z\",\"2022-09-08T18:00:00Z\",\"2022-09-08T18:05:00Z\",\"2022-09-08T18:10:00Z\",\"2022-09-08T18:15:00Z\",\"2022-09-08T18:20:00Z\",\"2022-09-08T18:25:00Z\",\"2022-09-08T18:30:00Z\",\"2022-09-08T18:35:00Z\",\"2022-09-08T18:40:00Z\",\"2022-09-08T18:45:00Z\",\"2022-09-08T18:50:00Z\",\"2022-09-08T18:55:00Z\",\"2022-09-08T19:00:00Z\",\"2022-09-08T19:05:00Z\",\"2022-09-08T19:10:00Z\",\"2022-09-08T19:15:00Z\",\"2022-09-08T19:20:00Z\",\"2022-09-08T19:25:00Z\",\"2022-09-08T19:30:00Z\",\"2022-09-08T19:35:00Z\",\"2022-09-08T19:40:00Z\",\"2022-09-08T19:45:00Z\",\"2022-09-08T19:50:00Z\",\"2022-09-08T19:55:00Z\",\"2022-09-09T14:00:00Z\",\"2022-09-09T14:05:00Z\",\"2022-09-09T14:10:00Z\",\"2022-09-09T14:15:00Z\",\"2022-09-09T14:20:00Z\",\"2022-09-09T14:25:00Z\",\"2022-09-09T14:30:00Z\",\"2022-09-09T14:35:00Z\",\"2022-09-09T14:40:00Z\",\"2022-09-09T14:45:00Z\",\"2022-09-09T14:50:00Z\",\"2022-09-09T14:55:00Z\",\"2022-09-09T15:00:00Z\",\"2022-09-09T15:05:00Z\",\"2022-09-09T15:10:00Z\",\"2022-09-09T15:15:00Z\",\"2022-09-09T15:20:00Z\",\"2022-09-09T15:25:00Z\",\"2022-09-09T15:30:00Z\",\"2022-09-09T15:35:00Z\",\"2022-09-09T15:40:00Z\",\"2022-09-09T15:45:00Z\",\"2022-09-09T15:50:00Z\",\"2022-09-09T15:55:00Z\",\"2022-09-09T16:00:00Z\",\"2022-09-09T16:05:00Z\",\"2022-09-09T16:10:00Z\",\"2022-09-09T16:15:00Z\",\"2022-09-09T16:20:00Z\",\"2022-09-09T16:25:00Z\",\"2022-09-09T16:30:00Z\",\"2022-09-09T16:35:00Z\",\"2022-09-09T16:40:00Z\",\"2022-09-09T16:45:00Z\",\"2022-09-09T16:50:00Z\",\"2022-09-09T16:55:00Z\",\"2022-09-09T17:00:00Z\",\"2022-09-09T17:05:00Z\",\"2022-09-09T17:10:00Z\",\"2022-09-09T17:15:00Z\",\"2022-09-09T17:20:00Z\",\"2022-09-09T17:25:00Z\",\"2022-09-09T17:30:00Z\",\"2022-09-09T17:35:00Z\",\"2022-09-09T17:40:00Z\",\"2022-09-09T17:45:00Z\",\"2022-09-09T17:50:00Z\",\"2022-09-09T17:55:00Z\",\"2022-09-09T18:00:00Z\",\"2022-09-09T18:05:00Z\",\"2022-09-09T18:10:00Z\",\"2022-09-09T18:15:00Z\",\"2022-09-09T18:20:00Z\",\"2022-09-09T18:25:00Z\",\"2022-09-09T18:30:00Z\",\"2022-09-09T18:35:00Z\",\"2022-09-09T18:40:00Z\",\"2022-09-09T18:45:00Z\",\"2022-09-09T18:50:00Z\",\"2022-09-09T18:55:00Z\",\"2022-09-09T19:00:00Z\",\"2022-09-09T19:05:00Z\",\"2022-09-09T19:10:00Z\",\"2022-09-09T19:15:00Z\",\"2022-09-09T19:20:00Z\",\"2022-09-09T19:25:00Z\",\"2022-09-09T19:30:00Z\",\"2022-09-09T19:35:00Z\",\"2022-09-09T19:40:00Z\",\"2022-09-09T19:45:00Z\",\"2022-09-09T19:50:00Z\",\"2022-09-09T19:55:00Z\",\"2022-09-12T14:00:00Z\",\"2022-09-12T14:05:00Z\",\"2022-09-12T14:10:00Z\",\"2022-09-12T14:15:00Z\",\"2022-09-12T14:20:00Z\",\"2022-09-12T14:25:00Z\",\"2022-09-12T14:30:00Z\",\"2022-09-12T14:35:00Z\",\"2022-09-12T14:40:00Z\",\"2022-09-12T14:45:00Z\",\"2022-09-12T14:50:00Z\",\"2022-09-12T14:55:00Z\",\"2022-09-12T15:00:00Z\",\"2022-09-12T15:05:00Z\",\"2022-09-12T15:10:00Z\",\"2022-09-12T15:15:00Z\",\"2022-09-12T15:20:00Z\",\"2022-09-12T15:25:00Z\",\"2022-09-12T15:30:00Z\",\"2022-09-12T15:35:00Z\",\"2022-09-12T15:40:00Z\",\"2022-09-12T15:45:00Z\",\"2022-09-12T15:50:00Z\",\"2022-09-12T15:55:00Z\",\"2022-09-12T16:00:00Z\",\"2022-09-12T16:05:00Z\",\"2022-09-12T16:10:00Z\",\"2022-09-12T16:15:00Z\",\"2022-09-12T16:20:00Z\",\"2022-09-12T16:25:00Z\",\"2022-09-12T16:30:00Z\",\"2022-09-12T16:35:00Z\",\"2022-09-12T16:40:00Z\",\"2022-09-12T16:45:00Z\",\"2022-09-12T16:50:00Z\",\"2022-09-12T16:55:00Z\",\"2022-09-12T17:00:00Z\",\"2022-09-12T17:05:00Z\",\"2022-09-12T17:10:00Z\",\"2022-09-12T17:15:00Z\",\"2022-09-12T17:20:00Z\",\"2022-09-12T17:25:00Z\",\"2022-09-12T17:30:00Z\",\"2022-09-12T17:35:00Z\",\"2022-09-12T17:40:00Z\",\"2022-09-12T17:45:00Z\",\"2022-09-12T17:50:00Z\",\"2022-09-12T17:55:00Z\",\"2022-09-12T18:00:00Z\",\"2022-09-12T18:05:00Z\",\"2022-09-12T18:10:00Z\",\"2022-09-12T18:15:00Z\",\"2022-09-12T18:20:00Z\",\"2022-09-12T18:25:00Z\",\"2022-09-12T18:30:00Z\",\"2022-09-12T18:35:00Z\",\"2022-09-12T18:40:00Z\",\"2022-09-12T18:45:00Z\",\"2022-09-12T18:50:00Z\",\"2022-09-12T18:55:00Z\",\"2022-09-12T19:00:00Z\",\"2022-09-12T19:05:00Z\",\"2022-09-12T19:10:00Z\",\"2022-09-12T19:15:00Z\",\"2022-09-12T19:20:00Z\",\"2022-09-12T19:25:00Z\",\"2022-09-12T19:30:00Z\",\"2022-09-12T19:35:00Z\",\"2022-09-12T19:40:00Z\",\"2022-09-12T19:45:00Z\",\"2022-09-12T19:50:00Z\",\"2022-09-12T19:55:00Z\",\"2022-09-13T14:00:00Z\",\"2022-09-13T14:05:00Z\",\"2022-09-13T14:10:00Z\",\"2022-09-13T14:15:00Z\",\"2022-09-13T14:20:00Z\",\"2022-09-13T14:25:00Z\",\"2022-09-13T14:30:00Z\",\"2022-09-13T14:35:00Z\",\"2022-09-13T14:40:00Z\",\"2022-09-13T14:45:00Z\",\"2022-09-13T14:50:00Z\",\"2022-09-13T14:55:00Z\",\"2022-09-13T15:00:00Z\",\"2022-09-13T15:05:00Z\",\"2022-09-13T15:10:00Z\",\"2022-09-13T15:15:00Z\",\"2022-09-13T15:20:00Z\",\"2022-09-13T15:25:00Z\",\"2022-09-13T15:30:00Z\",\"2022-09-13T15:35:00Z\",\"2022-09-13T15:40:00Z\",\"2022-09-13T15:45:00Z\",\"2022-09-13T15:50:00Z\",\"2022-09-13T15:55:00Z\",\"2022-09-13T16:00:00Z\",\"2022-09-13T16:05:00Z\",\"2022-09-13T16:10:00Z\",\"2022-09-13T16:15:00Z\",\"2022-09-13T16:20:00Z\",\"2022-09-13T16:25:00Z\",\"2022-09-13T16:30:00Z\",\"2022-09-13T16:35:00Z\",\"2022-09-13T16:40:00Z\",\"2022-09-13T16:45:00Z\",\"2022-09-13T16:50:00Z\",\"2022-09-13T16:55:00Z\",\"2022-09-13T17:00:00Z\",\"2022-09-13T17:05:00Z\",\"2022-09-13T17:10:00Z\",\"2022-09-13T17:15:00Z\",\"2022-09-13T17:20:00Z\",\"2022-09-13T17:25:00Z\",\"2022-09-13T17:30:00Z\",\"2022-09-13T17:35:00Z\",\"2022-09-13T17:40:00Z\",\"2022-09-13T17:45:00Z\",\"2022-09-13T17:50:00Z\",\"2022-09-13T17:55:00Z\",\"2022-09-13T18:00:00Z\",\"2022-09-13T18:05:00Z\",\"2022-09-13T18:10:00Z\",\"2022-09-13T18:15:00Z\",\"2022-09-13T18:20:00Z\",\"2022-09-13T18:25:00Z\",\"2022-09-13T18:30:00Z\",\"2022-09-13T18:35:00Z\",\"2022-09-13T18:40:00Z\",\"2022-09-13T18:45:00Z\",\"2022-09-13T18:50:00Z\",\"2022-09-13T18:55:00Z\",\"2022-09-13T19:00:00Z\",\"2022-09-13T19:05:00Z\",\"2022-09-13T19:10:00Z\",\"2022-09-13T19:15:00Z\",\"2022-09-13T19:20:00Z\",\"2022-09-13T19:25:00Z\",\"2022-09-13T19:30:00Z\",\"2022-09-13T19:35:00Z\",\"2022-09-13T19:40:00Z\",\"2022-09-13T19:45:00Z\",\"2022-09-13T19:50:00Z\",\"2022-09-13T19:55:00Z\",\"2022-09-14T14:00:00Z\",\"2022-09-14T14:05:00Z\",\"2022-09-14T14:10:00Z\",\"2022-09-14T14:15:00Z\",\"2022-09-14T14:20:00Z\",\"2022-09-14T14:25:00Z\",\"2022-09-14T14:30:00Z\",\"2022-09-14T14:35:00Z\",\"2022-09-14T14:40:00Z\",\"2022-09-14T14:45:00Z\",\"2022-09-14T14:50:00Z\",\"2022-09-14T14:55:00Z\",\"2022-09-14T15:00:00Z\",\"2022-09-14T15:05:00Z\",\"2022-09-14T15:10:00Z\",\"2022-09-14T15:15:00Z\",\"2022-09-14T15:20:00Z\",\"2022-09-14T15:25:00Z\",\"2022-09-14T15:30:00Z\",\"2022-09-14T15:35:00Z\",\"2022-09-14T15:40:00Z\",\"2022-09-14T15:45:00Z\",\"2022-09-14T15:50:00Z\",\"2022-09-14T15:55:00Z\",\"2022-09-14T16:00:00Z\",\"2022-09-14T16:05:00Z\",\"2022-09-14T16:10:00Z\",\"2022-09-14T16:15:00Z\",\"2022-09-14T16:20:00Z\",\"2022-09-14T16:25:00Z\",\"2022-09-14T16:30:00Z\",\"2022-09-14T16:35:00Z\",\"2022-09-14T16:40:00Z\",\"2022-09-14T16:45:00Z\",\"2022-09-14T16:50:00Z\",\"2022-09-14T16:55:00Z\",\"2022-09-14T17:00:00Z\",\"2022-09-14T17:05:00Z\",\"2022-09-14T17:10:00Z\",\"2022-09-14T17:15:00Z\",\"2022-09-14T17:20:00Z\",\"2022-09-14T17:25:00Z\",\"2022-09-14T17:30:00Z\",\"2022-09-14T17:35:00Z\",\"2022-09-14T17:40:00Z\",\"2022-09-14T17:45:00Z\",\"2022-09-14T17:50:00Z\",\"2022-09-14T17:55:00Z\",\"2022-09-14T18:00:00Z\",\"2022-09-14T18:05:00Z\",\"2022-09-14T18:10:00Z\",\"2022-09-14T18:15:00Z\",\"2022-09-14T18:20:00Z\",\"2022-09-14T18:25:00Z\",\"2022-09-14T18:30:00Z\",\"2022-09-14T18:35:00Z\",\"2022-09-14T18:40:00Z\",\"2022-09-14T18:45:00Z\",\"2022-09-14T18:50:00Z\",\"2022-09-14T18:55:00Z\",\"2022-09-14T19:00:00Z\",\"2022-09-14T19:05:00Z\",\"2022-09-14T19:10:00Z\",\"2022-09-14T19:15:00Z\",\"2022-09-14T19:20:00Z\",\"2022-09-14T19:25:00Z\",\"2022-09-14T19:30:00Z\",\"2022-09-14T19:35:00Z\",\"2022-09-14T19:40:00Z\",\"2022-09-14T19:45:00Z\",\"2022-09-14T19:50:00Z\",\"2022-09-14T19:55:00Z\"],\"open\":[155.25,154.45,154.11,154.15,154.26,154.11,154.655,154.7,155.18,155.56,155.44,155.95,156.14,155.82,156.28,156.01,155.7,155.99,155.585,156.06,155.75,156.07,155.76,156.02,156.08,156.06,155.55,155.52,155.11,154.89,154.905,154.97,154.92,155.28,155.12,155.24,155.2,154.95,154.29,154.2,154.32,154.34,154.2,154.49,154.56,154.39,154.17,154.08,154.515,154.53,154.62,154.98,154.97,154.94,154.81,154.57,154.66,154.39,154.525,154.47,154.36,154.26,154.64,154.76,154.76,154.66,154.55,154.22,154.05,154.53,154.46,154.33,155.4,154.71,154.87,154.52,155.09,154.77,154.91,155.15,155.55,155.69,155.37,155.36,155.76,156.03,156.19,156.15,156.19,156.18,155.985,156.12,155.67,155.66,155.56,155.79,155.53,154.58,153.87,153.35,153.02,153.01,153.16,153.39,153.16,153.59,153.29,153.21,153.19,152.87,152.98,153.67,153.82,153.76,153.74,153.67,153.87,154.01,154.06,153.81,153.55,153.73,153.65,153.5,153.75,153.75,153.8,154.18,154.34,154.08,153.96,154.105,153.81,153.67,153.645,154.0,154.03,154.07,154.1,154.0,153.98,153.69,153.89,154.25,156.07,156.26,156.23,156.185,156.3,156.13,156.45,156.34,156.39,156.69,156.82,156.59,156.65,156.73,156.65,156.76,156.57,156.73,156.95,156.97,157.12,156.96,157.0,156.76,156.86,156.47,156.65,156.57,156.46,156.16,156.3,156.32,156.44,156.41,156.65,156.68,156.88,156.92,156.94,157.03,157.07,157.09,157.06,157.17,157.27,157.03,157.05,156.99,157.065,156.83,157.02,157.195,157.25,157.45,157.505,157.23,157.18,157.15,157.055,156.99,157.16,157.345,157.35,157.49,157.52,157.39,157.43,157.61,157.53,157.68,157.51,157.58,161.62,161.6,161.88,161.54,161.92,161.85,161.63,161.7,161.66,161.34,161.605,161.46,161.39,161.5,161.66,161.965,162.21,162.59,162.64,162.73,162.61,162.5,162.31,162.165,161.9,161.82,161.91,162.19,162.34,162.53,162.59,162.69,162.82,162.98,162.99,162.99,163.09,162.99,163.3,163.33,163.25,163.31,163.61,163.89,163.74,163.59,163.77,164.21,164.135,163.9,163.67,164.01,163.645,163.63,163.46,163.4,163.705,163.53,163.7,163.525,163.58,163.55,163.9,163.55,163.31,163.19,163.33,163.42,163.47,163.695,163.53,163.27,158.27,157.88,158.03,157.835,158.02,157.72,157.8,157.71,157.44,157.295,156.97,157.07,157.22,157.04,156.95,156.71,156.75,156.37,156.465,156.56,156.625,156.56,156.37,156.55,156.32,156.48,156.61,156.68,156.59,156.43,156.25,156.45,156.62,156.52,156.55,156.45,156.29,156.23,156.03,156.37,156.08,156.41,156.51,156.48,156.32,156.15,156.16,155.88,155.79,155.56,155.48,155.61,155.55,155.21,155.08,155.09,155.12,155.08,154.92,154.65,154.79,154.71,154.57,154.38,154.54,154.46,154.05,153.71,153.85,153.71,153.71,153.93,156.07,155.91,156.01,156.02,155.875,155.69,155.01,155.46,155.97,156.49,156.22,156.44,156.56,156.42,156.93,156.93,156.72,156.3,155.92,155.88,156.03,156.28,156.14,156.08,155.81,155.54,155.5,155.72,155.65,155.6,155.34,155.07,155.07,155.28,155.12,155.32,155.16,155.03,154.96,155.05,155.17,155.13,155.07,155.06,154.78,154.9,154.4,154.48,154.33,154.06,154.09,154.05,154.36,154.37,154.3,154.53,154.58,154.29,154.38,154.14,154.12,154.19,154.48,154.01,153.83,153.995,153.99,154.085,154.15,154.49,154.65,155.25],\"high\":[155.29,154.54,154.22,154.29,154.33,154.8,154.71,155.29,155.7,155.69,156.14,156.44,156.14,156.52,156.34,156.04,156.06,156.15,156.35,156.1,156.45,156.19,156.19,156.27,156.265,156.26,155.65,155.56,155.225,155.06,155.08,155.115,155.31,155.3,155.28,155.41,155.26,154.95,154.42,154.37,154.42,154.405,154.68,154.64,154.58,154.59,154.24,154.54,154.73,154.655,155.1,155.07,155.01,154.99,154.905,154.785,154.66,154.56,154.525,154.64,154.47,154.65,154.91,155.1,154.84,154.76,154.57,154.33,154.67,154.67,154.47,154.64,155.43,155.08,155.12,155.13,155.27,154.96,155.18,155.62,155.7,155.74,155.52,155.8,156.13,156.26,156.2,156.24,156.35,156.19,156.17,156.18,155.76,155.78,155.78,155.79,155.67,154.64,153.88,153.45,153.13,153.22,153.54,153.5,153.72,153.62,153.63,153.29,153.32,153.03,153.72,153.85,153.89,154.01,153.86,154.12,154.11,154.1,154.07,153.82,153.73,153.845,153.81,153.825,153.86,153.89,154.2,154.4,154.365,154.16,154.13,154.11,154.02,153.86,154.04,154.15,154.16,154.16,154.35,154.05,154.04,154.09,154.38,154.47,156.43,156.36,156.23,156.61,156.48,156.47,156.48,156.42,156.69,156.835,156.83,156.68,156.76,156.86,156.77,156.93,156.735,156.96,157.17,157.12,157.17,157.07,157.04,156.86,156.93,156.64,156.68,156.59,156.46,156.32,156.39,156.57,156.55,156.68,156.72,156.87,156.91,156.98,157.08,157.16,157.16,157.15,157.25,157.34,157.28,157.11,157.07,157.095,157.07,157.07,157.25,157.28,157.465,157.51,157.52,157.27,157.26,157.215,157.09,157.18,157.35,157.43,157.535,157.54,157.52,157.47,157.6,157.65,157.81,157.74,157.73,157.58,161.71,162.04,161.945,161.98,161.94,161.86,161.77,161.85,161.7,161.655,161.66,161.56,161.63,161.715,161.97,162.33,162.6,162.66,162.88,162.775,162.735,162.61,162.31,162.17,161.99,162.26,162.315,162.49,162.62,162.65,162.78,162.84,162.97,163.1,163.07,163.13,163.13,163.32,163.42,163.4,163.47,163.64,163.9,163.91,163.785,163.82,164.26,164.23,164.17,163.9,164.02,164.07,163.85,163.69,163.54,163.735,163.75,163.73,163.75,163.715,163.62,163.94,163.965,163.55,163.39,163.46,163.53,163.5,163.735,163.695,163.56,163.52,158.36,158.17,158.11,158.195,158.03,157.97,158.19,157.71,157.51,157.295,157.16,157.33,157.27,157.15,156.99,156.89,156.85,156.54,156.635,156.68,156.625,156.56,156.68,156.64,156.55,156.7,156.7,156.76,156.64,156.43,156.49,156.69,156.67,156.57,156.57,156.47,156.47,156.45,156.45,156.56,156.49,156.6,156.66,156.55,156.38,156.21,156.2,155.99,155.87,155.64,155.64,155.64,155.625,155.3,155.14,155.24,155.19,155.11,154.995,154.93,154.89,154.82,154.59,154.63,154.62,154.51,154.14,153.93,153.87,153.89,154.05,154.26,156.13,156.25,156.36,156.44,156.055,155.75,155.67,156.09,156.57,156.6,156.47,156.56,156.59,157.06,157.09,156.98,156.725,156.34,156.17,156.06,156.3,156.31,156.16,156.12,155.86,155.56,155.77,155.825,155.65,155.67,155.44,155.29,155.395,155.3,155.33,155.36,155.295,155.05,155.12,155.29,155.23,155.13,155.16,155.13,154.96,154.93,154.64,154.48,154.435,154.32,154.16,154.34,154.46,154.39,154.62,154.61,154.63,154.4,154.44,154.3,154.29,154.49,154.505,154.01,154.13,154.05,154.115,154.24,154.61,154.755,155.3,155.58],\"low\":[154.16,154.03,153.71,153.92,153.85,153.94,154.49,154.53,155.13,155.34,155.4,155.92,155.75,155.71,155.87,155.66,155.57,155.485,155.48,155.58,155.72,155.73,155.71,155.97,155.93,155.46,155.44,155.09,154.81,154.64,154.905,154.85,154.67,155.04,154.89,155.12,154.87,154.26,154.1,154.09,154.25,154.2,154.14,154.34,154.19,154.17,153.91,154.08,154.4,154.39,154.62,154.825,154.79,154.71,154.47,154.41,154.34,154.24,154.21,154.21,154.09,154.2,154.52,154.72,154.41,154.53,153.99,154.02,154.03,154.205,154.07,154.02,154.58,154.64,154.38,154.38,154.73,154.72,154.71,155.01,155.36,155.375,155.21,155.31,155.76,155.98,155.93,155.96,156.105,155.92,155.91,155.66,155.52,155.48,155.38,155.52,154.59,153.55,153.33,152.92,152.68,152.94,153.06,153.15,153.06,153.22,153.12,152.97,152.81,152.7,152.98,153.63,153.67,153.54,153.42,153.61,153.82,153.88,153.75,153.24,153.49,153.5,153.5,153.38,153.66,153.66,153.75,154.07,153.71,153.85,153.74,153.72,153.49,153.62,153.56,153.91,153.93,153.93,153.92,153.895,153.63,153.685,153.87,154.1,155.91,156.07,155.95,156.1,156.07,155.98,156.225,156.225,156.34,156.57,156.59,156.47,156.47,156.6,156.53,156.54,156.515,156.68,156.79,156.94,156.91,156.92,156.705,156.695,156.42,156.42,156.51,156.23,156.1,156.11,156.15,156.275,156.36,156.285,156.61,156.65,156.7,156.82,156.87,157.0,156.96,157.05,157.06,157.17,157.02,156.925,156.93,156.95,156.78,156.78,156.93,157.13,157.25,157.33,157.19,157.08,157.08,157.03,156.91,156.99,157.06,157.28,157.31,157.38,157.31,157.3,157.36,157.44,157.49,157.47,157.32,157.35,161.4,161.42,161.5,161.51,161.63,161.52,161.51,161.62,161.22,161.3,161.29,161.23,161.23,161.5,161.62,161.84,162.12,162.46,162.43,162.42,162.405,162.185,162.03,161.68,161.745,161.82,161.73,162.05,162.25,162.4,162.52,162.43,162.74,162.85,162.93,162.98,162.74,162.93,163.26,163.21,163.21,163.26,163.52,163.67,163.585,163.53,163.75,163.975,163.89,163.68,163.65,163.54,163.43,163.445,163.28,163.4,163.48,163.5,163.51,163.52,163.43,163.54,163.51,163.21,163.14,163.08,163.32,163.29,163.35,163.43,163.2,163.23,157.82,157.82,157.68,157.54,157.65,157.61,157.61,157.35,157.19,156.92,156.84,157.05,156.92,156.77,156.625,156.61,156.31,156.26,156.35,156.44,156.26,156.27,156.37,156.26,156.15,156.34,156.47,156.56,156.365,156.15,156.2,156.45,156.45,156.4,156.38,156.26,155.92,156.02,156.01,156.04,156.06,156.3,156.34,156.16,156.13,156.08,155.84,155.77,155.46,155.46,155.44,155.47,155.2,154.95,154.99,155.005,155.045,154.91,154.6,154.6,154.68,154.55,154.27,154.38,154.3,154.03,153.555,153.385,153.53,153.38,153.51,153.57,155.68,155.71,155.92,155.69,155.54,154.98,154.89,155.46,155.83,156.11,156.09,156.11,156.26,156.26,156.83,156.62,156.28,155.91,155.78,155.78,155.96,156.11,155.72,155.77,155.47,155.33,155.43,155.58,155.42,155.195,155.05,154.94,155.06,154.93,155.09,155.0,155.005,154.91,154.815,154.96,155.06,154.91,154.975,154.76,154.78,154.29,154.39,154.15,154.03,154.02,153.89,154.04,154.295,154.24,154.3,154.46,154.25,154.07,154.06,154.02,154.07,154.17,153.96,153.62,153.68,153.81,153.66,153.99,154.04,154.42,154.53,155.0],\"close\":[154.44,154.11,154.14,154.28,154.06,154.69,154.69,155.17,155.55,155.44,155.89,156.11,155.83,156.25,155.97,155.71,155.99,155.58,155.99,155.79,156.06,155.76,156.06,156.07,156.08,155.54,155.52,155.11,154.9,154.9,154.96,154.91,155.28,155.11,155.23,155.21,154.93,154.28,154.2,154.33,154.36,154.21,154.51,154.6,154.37,154.19,154.09,154.5,154.53,154.62,154.98,154.94,154.94,154.81,154.56,154.64,154.42,154.51,154.46,154.33,154.22,154.64,154.77,154.76,154.67,154.55,154.21,154.06,154.58,154.46,154.34,154.55,154.71,154.88,154.57,155.09,154.76,154.92,155.15,155.54,155.7,155.375,155.4,155.79,156.03,156.18,156.14,156.18,156.16,155.98,156.14,155.68,155.69,155.57,155.77,155.52,154.59,153.89,153.39,153.01,152.95,153.15,153.39,153.18,153.58,153.29,153.22,153.19,152.875,152.96,153.65,153.82,153.78,153.74,153.67,153.86,154.03,154.07,153.81,153.55,153.7,153.63,153.52,153.76,153.75,153.79,154.15,154.34,154.07,153.98,154.11,153.8,153.68,153.64,154.0,154.03,154.07,154.1,154.01,153.98,153.71,153.88,154.26,154.47,156.28,156.18,156.16,156.29,156.12,156.44,156.34,156.385,156.67,156.77,156.59,156.65,156.72,156.62,156.75,156.57,156.72,156.96,156.97,157.11,156.98,156.99,156.77,156.85,156.44,156.64,156.57,156.44,156.18,156.29,156.33,156.43,156.405,156.64,156.66,156.86,156.91,156.96,157.02,157.08,157.085,157.05,157.18,157.27,157.04,157.05,157.02,157.08,156.84,157.0,157.19,157.26,157.445,157.5,157.25,157.19,157.135,157.06,156.98,157.16,157.34,157.34,157.5,157.51,157.39,157.42,157.6,157.54,157.7,157.51,157.58,157.36,161.6,161.88,161.56,161.92,161.84,161.61,161.69,161.65,161.34,161.64,161.43,161.34,161.49,161.65,161.97,162.205,162.59,162.64,162.76,162.61,162.52,162.3,162.16,161.89,161.81,161.92,162.21,162.34,162.53,162.6,162.7,162.83,162.97,162.99,163.01,163.09,163.01,163.28,163.33,163.24,163.285,163.62,163.9,163.76,163.59,163.76,164.22,164.13,163.905,163.68,164.01,163.61,163.63,163.47,163.41,163.71,163.55,163.71,163.53,163.57,163.57,163.91,163.54,163.3,163.19,163.33,163.42,163.49,163.71,163.54,163.27,163.43,157.85,158.0,157.84,158.02,157.7,157.81,157.69,157.45,157.3,156.985,157.08,157.23,157.04,156.97,156.72,156.79,156.37,156.46,156.55,156.625,156.56,156.37,156.55,156.33,156.495,156.62,156.69,156.58,156.435,156.25,156.45,156.615,156.51,156.56,156.45,156.31,156.21,156.025,156.39,156.08,156.42,156.5,156.51,156.32,156.155,156.16,155.87,155.79,155.57,155.475,155.62,155.55,155.23,155.06,155.08,155.12,155.09,154.92,154.63,154.8,154.69,154.57,154.39,154.54,154.47,154.05,153.72,153.85,153.7,153.7,153.93,153.88,155.91,156.0,156.02,155.86,155.68,155.01,155.48,155.955,156.48,156.21,156.43,156.56,156.4,156.92,156.91,156.7,156.36,155.93,155.87,156.02,156.28,156.12,156.07,155.79,155.55,155.51,155.68,155.62,155.61,155.32,155.07,155.1,155.27,155.12,155.29,155.14,155.035,154.98,155.05,155.16,155.115,155.06,155.07,154.8,154.93,154.4,154.48,154.33,154.07,154.1,154.07,154.33,154.375,154.33,154.54,154.57,154.3,154.36,154.13,154.125,154.17,154.48,154.03,153.82,154.01,153.99,154.085,154.18,154.52,154.64,155.24,155.32]}];\n",
       "           var layout = {\"title\":\"5-min Bars for AAPL\",\"xaxis\":{\"title\":\"Time\",\"_isSubplotObj\":true},\"yaxis\":{\"title\":\"OHLC\",\"_isSubplotObj\":true}};\n",
       "           Plotly.newPlot('d0d4e95a-b48b-41f3-ad34-84160e28bc16', data, layout);\n",
       "        \n",
       "});\n",
       "};\n",
       "// ensure `require` is available globally\n",
       "if ((typeof(require) !==  typeof(Function)) || (typeof(require.config) !== typeof(Function))) {\n",
       "    let require_script = document.createElement('script');\n",
       "    require_script.setAttribute('src', 'https://cdnjs.cloudflare.com/ajax/libs/require.js/2.3.6/require.min.js');\n",
       "    require_script.setAttribute('type', 'text/javascript');\n",
       "    \n",
       "    \n",
       "    require_script.onload = function() {\n",
       "        renderPlotly();\n",
       "    };\n",
       "\n",
       "    document.getElementsByTagName('head')[0].appendChild(require_script);\n",
       "}\n",
       "else {\n",
       "    renderPlotly();\n",
       "}\n",
       "\n",
       "</script>\n"
      ]
     },
     "metadata": {},
     "output_type": "display_data"
    }
   ],
   "source": [
    "// Plot selected bars\n",
    "var chart = Chart.Candlestick(tuples);\n",
    "chart.WithTitle($\"{sampling/60}-min Bars for {ticker}\");\n",
    "chart.WithXTitle(\"Time\");\n",
    "chart.WithYTitle(\"OHLC\");\n",
    "chart.Width = 1500;\n",
    "chart.Height = 800;\n",
    "display(chart);"
   ]
  }
 ],
 "metadata": {
  "kernelspec": {
   "display_name": ".NET (C#)",
   "language": "C#",
   "name": ".net-csharp"
  },
  "language_info": {
   "file_extension": ".cs",
   "mimetype": "text/x-csharp",
   "name": "C#",
   "pygments_lexer": "csharp",
   "version": "10.0"
  }
 },
 "nbformat": 4,
 "nbformat_minor": 4
}
