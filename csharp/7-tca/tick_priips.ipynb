{
 "cells": [
  {
   "cell_type": "markdown",
   "id": "individual-console",
   "metadata": {},
   "source": [
    "# 9 - Tick Priips (C#)"
   ]
  },
  {
   "cell_type": "markdown",
   "id": "integral-aside",
   "metadata": {},
   "source": [
    "### Setup and import packages"
   ]
  },
  {
   "cell_type": "code",
   "execution_count": 1,
   "id": "theoretical-seller",
   "metadata": {
    "dotnet_interactive": {
     "language": "csharp"
    },
    "execution": {
     "iopub.execute_input": "2022-10-25T16:17:45.061713Z",
     "iopub.status.busy": "2022-10-25T16:17:45.053322Z",
     "iopub.status.idle": "2022-10-25T16:17:49.061424Z",
     "shell.execute_reply": "2022-10-25T16:17:49.052352Z"
    },
    "vscode": {
     "languageId": "dotnet-interactive.csharp"
    }
   },
   "outputs": [
    {
     "data": {
      "text/html": [
       "\n",
       "<div>\n",
       "    <div id='dotnet-interactive-this-cell-19677.Microsoft.DotNet.Interactive.Http.HttpPort' style='display: none'>\n",
       "        The below script needs to be able to find the current output cell; this is an easy method to get it.\n",
       "    </div>\n",
       "    <script type='text/javascript'>\n",
       "async function probeAddresses(probingAddresses) {\n",
       "    function timeout(ms, promise) {\n",
       "        return new Promise(function (resolve, reject) {\n",
       "            setTimeout(function () {\n",
       "                reject(new Error('timeout'))\n",
       "            }, ms)\n",
       "            promise.then(resolve, reject)\n",
       "        })\n",
       "    }\n",
       "\n",
       "    if (Array.isArray(probingAddresses)) {\n",
       "        for (let i = 0; i < probingAddresses.length; i++) {\n",
       "\n",
       "            let rootUrl = probingAddresses[i];\n",
       "\n",
       "            if (!rootUrl.endsWith('/')) {\n",
       "                rootUrl = `${rootUrl}/`;\n",
       "            }\n",
       "\n",
       "            try {\n",
       "                let response = await timeout(1000, fetch(`${rootUrl}discovery`, {\n",
       "                    method: 'POST',\n",
       "                    cache: 'no-cache',\n",
       "                    mode: 'cors',\n",
       "                    timeout: 1000,\n",
       "                    headers: {\n",
       "                        'Content-Type': 'text/plain'\n",
       "                    },\n",
       "                    body: probingAddresses[i]\n",
       "                }));\n",
       "\n",
       "                if (response.status == 200) {\n",
       "                    return rootUrl;\n",
       "                }\n",
       "            }\n",
       "            catch (e) { }\n",
       "        }\n",
       "    }\n",
       "}\n",
       "\n",
       "function loadDotnetInteractiveApi() {\n",
       "    probeAddresses([\"http://172.28.169.63:1456/\", \"http://127.0.0.1:1456/\"])\n",
       "        .then((root) => {\n",
       "        // use probing to find host url and api resources\n",
       "        // load interactive helpers and language services\n",
       "        let dotnetInteractiveRequire = require.config({\n",
       "        context: '19677.Microsoft.DotNet.Interactive.Http.HttpPort',\n",
       "                paths:\n",
       "            {\n",
       "                'dotnet-interactive': `${root}resources`\n",
       "                }\n",
       "        }) || require;\n",
       "\n",
       "            window.dotnetInteractiveRequire = dotnetInteractiveRequire;\n",
       "\n",
       "            window.configureRequireFromExtension = function(extensionName, extensionCacheBuster) {\n",
       "                let paths = {};\n",
       "                paths[extensionName] = `${root}extensions/${extensionName}/resources/`;\n",
       "                \n",
       "                let internalRequire = require.config({\n",
       "                    context: extensionCacheBuster,\n",
       "                    paths: paths,\n",
       "                    urlArgs: `cacheBuster=${extensionCacheBuster}`\n",
       "                    }) || require;\n",
       "\n",
       "                return internalRequire\n",
       "            };\n",
       "        \n",
       "            dotnetInteractiveRequire([\n",
       "                    'dotnet-interactive/dotnet-interactive'\n",
       "                ],\n",
       "                function (dotnet) {\n",
       "                    dotnet.init(window);\n",
       "                },\n",
       "                function (error) {\n",
       "                    console.log(error);\n",
       "                }\n",
       "            );\n",
       "        })\n",
       "        .catch(error => {console.log(error);});\n",
       "    }\n",
       "\n",
       "// ensure `require` is available globally\n",
       "if ((typeof(require) !==  typeof(Function)) || (typeof(require.config) !== typeof(Function))) {\n",
       "    let require_script = document.createElement('script');\n",
       "    require_script.setAttribute('src', 'https://cdnjs.cloudflare.com/ajax/libs/require.js/2.3.6/require.min.js');\n",
       "    require_script.setAttribute('type', 'text/javascript');\n",
       "    \n",
       "    \n",
       "    require_script.onload = function() {\n",
       "        loadDotnetInteractiveApi();\n",
       "    };\n",
       "\n",
       "    document.getElementsByTagName('head')[0].appendChild(require_script);\n",
       "}\n",
       "else {\n",
       "    loadDotnetInteractiveApi();\n",
       "}\n",
       "\n",
       "    </script>\n",
       "</div>"
      ]
     },
     "metadata": {},
     "output_type": "display_data"
    },
    {
     "data": {
      "text/html": [
       "<div><div><strong>Restore sources</strong><ul><li><span> file://~/.nuget/packages/</span></li><li><span> https://api.nuget.org/v3/index.json</span></li></ul></div><div></div><div><strong>Installed Packages</strong><ul><li><span>Systemathics.Apis, 0.13.2-pre</span></li></ul></div></div>"
      ]
     },
     "metadata": {},
     "output_type": "display_data"
    }
   ],
   "source": [
    "#i \"nuget: file://~/.nuget/packages/\"\n",
    "#i \"nuget: https://api.nuget.org/v3/index.json\"\n",
    "#r \"nuget: Systemathics.Apis, 0.*-pre*\""
   ]
  },
  {
   "cell_type": "code",
   "execution_count": 2,
   "id": "geological-buying",
   "metadata": {
    "dotnet_interactive": {
     "language": "csharp"
    },
    "execution": {
     "iopub.execute_input": "2022-10-25T16:17:49.063445Z",
     "iopub.status.busy": "2022-10-25T16:17:49.063130Z",
     "iopub.status.idle": "2022-10-25T16:17:49.091858Z",
     "shell.execute_reply": "2022-10-25T16:17:49.091595Z"
    },
    "vscode": {
     "languageId": "dotnet-interactive.csharp"
    }
   },
   "outputs": [],
   "source": [
    "using Systemathics.Apis.Helpers;\n",
    "using Systemathics.Apis.Type.Shared.V1;\n",
    "using Systemathics.Apis.Services.TickAnalytics.V1;\n",
    "using Google.Protobuf.WellKnownTypes;\n",
    "using Google.Type;\n",
    "using Grpc.Net.Client;\n",
    "using Grpc.Core;"
   ]
  },
  {
   "cell_type": "markdown",
   "id": "functioning-boston",
   "metadata": {},
   "source": [
    "### Retrieve the token"
   ]
  },
  {
   "cell_type": "code",
   "execution_count": 3,
   "id": "victorian-beijing",
   "metadata": {
    "dotnet_interactive": {
     "language": "csharp"
    },
    "execution": {
     "iopub.execute_input": "2022-10-25T16:17:49.094017Z",
     "iopub.status.busy": "2022-10-25T16:17:49.093698Z",
     "iopub.status.idle": "2022-10-25T16:17:50.099838Z",
     "shell.execute_reply": "2022-10-25T16:17:50.099313Z"
    },
    "vscode": {
     "languageId": "dotnet-interactive.csharp"
    }
   },
   "outputs": [],
   "source": [
    "var headers = TokenHelpers.GetTokenAsMetaData();"
   ]
  },
  {
   "cell_type": "markdown",
   "id": "alternate-phone",
   "metadata": {},
   "source": [
    "### Create the request / service"
   ]
  },
  {
   "cell_type": "code",
   "execution_count": 4,
   "id": "arbitrary-citizenship",
   "metadata": {
    "dotnet_interactive": {
     "language": "csharp"
    },
    "execution": {
     "iopub.execute_input": "2022-10-25T16:17:50.102626Z",
     "iopub.status.busy": "2022-10-25T16:17:50.102058Z",
     "iopub.status.idle": "2022-10-25T16:17:50.324522Z",
     "shell.execute_reply": "2022-10-25T16:17:50.323997Z"
    },
    "vscode": {
     "languageId": "dotnet-interactive.csharp"
    }
   },
   "outputs": [],
   "source": [
    "var identifier = new Identifier { Exchange = \"XPAR\", Ticker = \"SAVE\"};\n",
    "var ordertime     = Timestamp.FromDateTime(DateTime.Parse(\"2021-11-02 11:25:39.000\").ToUniversalTime());\n",
    "var executiontime = Timestamp.FromDateTime(DateTime.Parse(\"2021-11-02 16:35:13.000\").ToUniversalTime());\n",
    "var executionprice = 64.096;\n",
    "var field = PriipsPrice.Trade;\n",
    "var latency = new Duration { Seconds = 1 * 60 };"
   ]
  },
  {
   "cell_type": "code",
   "execution_count": 5,
   "id": "interim-measurement",
   "metadata": {
    "dotnet_interactive": {
     "language": "csharp"
    },
    "execution": {
     "iopub.execute_input": "2022-10-25T16:17:50.326614Z",
     "iopub.status.busy": "2022-10-25T16:17:50.326307Z",
     "iopub.status.idle": "2022-10-25T16:17:50.376056Z",
     "shell.execute_reply": "2022-10-25T16:17:50.375597Z"
    },
    "vscode": {
     "languageId": "dotnet-interactive.csharp"
    }
   },
   "outputs": [],
   "source": [
    "var channel = ChannelHelpers.GetChannel();\n",
    "var request = new TickPriipsRequest \n",
    "                                    { \n",
    "                                        Identifier = identifier,\n",
    "                                        OrderTime = ordertime,\n",
    "                                        ExecutionTime = executiontime,\n",
    "                                        ExecutionPrice = executionprice,\n",
    "                                        Field = field,\n",
    "                                        Latency = latency\n",
    "                                    };"
   ]
  },
  {
   "cell_type": "markdown",
   "id": "improved-anchor",
   "metadata": {},
   "source": [
    "### Retrieve the data"
   ]
  },
  {
   "cell_type": "code",
   "execution_count": 6,
   "id": "obvious-generic",
   "metadata": {
    "dotnet_interactive": {
     "language": "csharp"
    },
    "execution": {
     "iopub.execute_input": "2022-10-25T16:17:50.378255Z",
     "iopub.status.busy": "2022-10-25T16:17:50.377916Z",
     "iopub.status.idle": "2022-10-25T16:17:50.411169Z",
     "shell.execute_reply": "2022-10-25T16:17:50.410922Z"
    },
    "vscode": {
     "languageId": "dotnet-interactive.csharp"
    }
   },
   "outputs": [],
   "source": [
    "var service = new TickPriipsService.TickPriipsServiceClient(channel);"
   ]
  },
  {
   "cell_type": "markdown",
   "id": "stylish-canyon",
   "metadata": {},
   "source": [
    "### Display / Plot"
   ]
  },
  {
   "cell_type": "code",
   "execution_count": 7,
   "id": "injured-economics",
   "metadata": {
    "dotnet_interactive": {
     "language": "csharp"
    },
    "execution": {
     "iopub.execute_input": "2022-10-25T16:17:50.413138Z",
     "iopub.status.busy": "2022-10-25T16:17:50.412836Z",
     "iopub.status.idle": "2022-10-25T16:17:51.434351Z",
     "shell.execute_reply": "2022-10-25T16:17:51.434002Z"
    },
    "vscode": {
     "languageId": "dotnet-interactive.csharp"
    }
   },
   "outputs": [
    {
     "data": {
      "text/html": [
       "<table><thead><tr><th>ArrivalTime</th><th>ArrivalPrice</th><th>ArrivalCost</th><th>OpenTime</th><th>CloseTime</th><th>OrderTime</th><th>ExecutionTime</th><th>Duration</th><th>Latency</th><th>ExecutionPrice</th><th>Count</th><th>OpenPrice</th><th>HighPrice</th><th>LowPrice</th><th>ClosePrice</th><th>Vwap</th><th>Volume</th></tr></thead><tbody><tr><td><div class=\"dni-plaintext\">{ &quot;2021-11-02T10:55:19.431Z&quot;: Seconds: 1635850519, Nanos: 431000000 }</div></td><td><div class=\"dni-plaintext\">64</div></td><td><div class=\"dni-plaintext\">0.0015000000000000568</div></td><td><div class=\"dni-plaintext\">{ &quot;2021-11-02T10:55:19.431Z&quot;: Seconds: 1635850519, Nanos: 431000000 }</div></td><td><div class=\"dni-plaintext\">{ &quot;2021-11-02T15:03:20.386300Z&quot;: Seconds: 1635865400, Nanos: 386300000 }</div></td><td><div class=\"dni-plaintext\">{ &quot;2021-11-02T10:25:39Z&quot;: Seconds: 1635848739, Nanos: 0 }</div></td><td><div class=\"dni-plaintext\">{ &quot;2021-11-02T15:35:13Z&quot;: Seconds: 1635867313, Nanos: 0 }</div></td><td><div class=\"dni-plaintext\">{ &quot;16793.569s&quot;: Seconds: 16793, Nanos: 569000000 }</div></td><td><div class=\"dni-plaintext\">{ &quot;60s&quot;: Seconds: 60, Nanos: 0 }</div></td><td><div class=\"dni-plaintext\">64.096</div></td><td><div class=\"dni-plaintext\">12</div></td><td><div class=\"dni-plaintext\">64</div></td><td><div class=\"dni-plaintext\">64.2</div></td><td><div class=\"dni-plaintext\">64</div></td><td><div class=\"dni-plaintext\">64.2</div></td><td><div class=\"dni-plaintext\">64.09599999999999</div></td><td><div class=\"dni-plaintext\">550</div></td></tr></tbody></table>"
      ]
     },
     "metadata": {},
     "output_type": "display_data"
    }
   ],
   "source": [
    "var call = service.TickPriips(request, headers);\n",
    "await foreach (var current in call.ResponseStream.ReadAllAsync())\n",
    "{\n",
    "    display(current);  \n",
    "}\n",
    "\n"
   ]
  }
 ],
 "metadata": {
  "kernelspec": {
   "display_name": ".NET (C#)",
   "language": "C#",
   "name": ".net-csharp"
  },
  "language_info": {
   "file_extension": ".cs",
   "mimetype": "text/x-csharp",
   "name": "C#",
   "pygments_lexer": "csharp",
   "version": "10.0"
  }
 },
 "nbformat": 4,
 "nbformat_minor": 5
}
