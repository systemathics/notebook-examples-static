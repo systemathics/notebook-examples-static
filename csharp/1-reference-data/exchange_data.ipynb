{
 "cells": [
  {
   "cell_type": "markdown",
   "id": "sublime-brass",
   "metadata": {},
   "source": [
    "# Generate exchange data using dedicated service - C#\n",
    "\n",
    "### Overview\n",
    "Reference data encompasses a wide range of specification data about:\n",
    "* financial instrument such as asset class, symbol, maturity, etc.\n",
    "* counterparties such as issuer information.\n",
    "* pricing such as Open, high low and close prices.\n",
    "\n",
    "The challenge with reference data is that it tends to be sourced from multiple sources: internal, counterparties and providers.\n",
    "\n",
    "Reference data dedicated service is a result of various data sources and fields sourcing, validation, cross-checking and normalization.<br>\n",
    "\n",
    "This sample requests **on-demand** exchange data and enables fields mapping by calling a dedicated static data service, making available clean data.\n",
    "\n",
    "### Inputs/outputs\n",
    "Exchange data sample is designed to help you searching and requesting exchange reference data by using a wide range of commonly used fields.\n",
    "\n",
    "It takes exchange identifier as per input filter and returns the *entries* matching the *request*:\n",
    "* List of instruments' identifiers\n",
    "* Countries\n",
    "* Currencies \n",
    "* Tick size rules\n",
    "* etc. \n",
    "\n",
    "### Services used\n",
    "This sample uses *gRPC requests* in order to retrieve exchange reference data from the hosted service. The queried endpoint in this script are:\n",
    "* *StaticDataService*: to directly retrieve reference data objects from the server\n",
    "\n",
    "### Packages required\n",
    "1. Systemathics packages:\n",
    "    * *Systemathics.Apis.Type.Shared.V1*\n",
    "    * *Systemathics.Apis.Services.StaticData.V1*\n",
    "2. Open source packages\n",
    "    * *Google.Protobuf.WellKnownTypes*\n",
    "    * *Google.Type*\n",
    "    * *Grpc.Net.Client*\n",
    "    * *Grpc.Core*\n",
    "\n",
    "***"
   ]
  },
  {
   "cell_type": "markdown",
   "id": "continental-tissue",
   "metadata": {},
   "source": [
    "# Run Exchange data sample"
   ]
  },
  {
   "cell_type": "markdown",
   "id": "banned-obligation",
   "metadata": {},
   "source": [
    "### Step 1: Install packages"
   ]
  },
  {
   "cell_type": "code",
   "execution_count": 1,
   "id": "vietnamese-affiliation",
   "metadata": {
    "dotnet_interactive": {
     "language": "csharp"
    },
    "execution": {
     "iopub.execute_input": "2022-10-25T16:13:35.083313Z",
     "iopub.status.busy": "2022-10-25T16:13:35.070809Z",
     "iopub.status.idle": "2022-10-25T16:13:40.162915Z",
     "shell.execute_reply": "2022-10-25T16:13:40.154190Z"
    },
    "vscode": {
     "languageId": "dotnet-interactive.csharp"
    }
   },
   "outputs": [
    {
     "data": {
      "text/html": [
       "\n",
       "<div>\n",
       "    <div id='dotnet-interactive-this-cell-17375.Microsoft.DotNet.Interactive.Http.HttpPort' style='display: none'>\n",
       "        The below script needs to be able to find the current output cell; this is an easy method to get it.\n",
       "    </div>\n",
       "    <script type='text/javascript'>\n",
       "async function probeAddresses(probingAddresses) {\n",
       "    function timeout(ms, promise) {\n",
       "        return new Promise(function (resolve, reject) {\n",
       "            setTimeout(function () {\n",
       "                reject(new Error('timeout'))\n",
       "            }, ms)\n",
       "            promise.then(resolve, reject)\n",
       "        })\n",
       "    }\n",
       "\n",
       "    if (Array.isArray(probingAddresses)) {\n",
       "        for (let i = 0; i < probingAddresses.length; i++) {\n",
       "\n",
       "            let rootUrl = probingAddresses[i];\n",
       "\n",
       "            if (!rootUrl.endsWith('/')) {\n",
       "                rootUrl = `${rootUrl}/`;\n",
       "            }\n",
       "\n",
       "            try {\n",
       "                let response = await timeout(1000, fetch(`${rootUrl}discovery`, {\n",
       "                    method: 'POST',\n",
       "                    cache: 'no-cache',\n",
       "                    mode: 'cors',\n",
       "                    timeout: 1000,\n",
       "                    headers: {\n",
       "                        'Content-Type': 'text/plain'\n",
       "                    },\n",
       "                    body: probingAddresses[i]\n",
       "                }));\n",
       "\n",
       "                if (response.status == 200) {\n",
       "                    return rootUrl;\n",
       "                }\n",
       "            }\n",
       "            catch (e) { }\n",
       "        }\n",
       "    }\n",
       "}\n",
       "\n",
       "function loadDotnetInteractiveApi() {\n",
       "    probeAddresses([\"http://172.28.169.63:2817/\", \"http://127.0.0.1:2817/\"])\n",
       "        .then((root) => {\n",
       "        // use probing to find host url and api resources\n",
       "        // load interactive helpers and language services\n",
       "        let dotnetInteractiveRequire = require.config({\n",
       "        context: '17375.Microsoft.DotNet.Interactive.Http.HttpPort',\n",
       "                paths:\n",
       "            {\n",
       "                'dotnet-interactive': `${root}resources`\n",
       "                }\n",
       "        }) || require;\n",
       "\n",
       "            window.dotnetInteractiveRequire = dotnetInteractiveRequire;\n",
       "\n",
       "            window.configureRequireFromExtension = function(extensionName, extensionCacheBuster) {\n",
       "                let paths = {};\n",
       "                paths[extensionName] = `${root}extensions/${extensionName}/resources/`;\n",
       "                \n",
       "                let internalRequire = require.config({\n",
       "                    context: extensionCacheBuster,\n",
       "                    paths: paths,\n",
       "                    urlArgs: `cacheBuster=${extensionCacheBuster}`\n",
       "                    }) || require;\n",
       "\n",
       "                return internalRequire\n",
       "            };\n",
       "        \n",
       "            dotnetInteractiveRequire([\n",
       "                    'dotnet-interactive/dotnet-interactive'\n",
       "                ],\n",
       "                function (dotnet) {\n",
       "                    dotnet.init(window);\n",
       "                },\n",
       "                function (error) {\n",
       "                    console.log(error);\n",
       "                }\n",
       "            );\n",
       "        })\n",
       "        .catch(error => {console.log(error);});\n",
       "    }\n",
       "\n",
       "// ensure `require` is available globally\n",
       "if ((typeof(require) !==  typeof(Function)) || (typeof(require.config) !== typeof(Function))) {\n",
       "    let require_script = document.createElement('script');\n",
       "    require_script.setAttribute('src', 'https://cdnjs.cloudflare.com/ajax/libs/require.js/2.3.6/require.min.js');\n",
       "    require_script.setAttribute('type', 'text/javascript');\n",
       "    \n",
       "    \n",
       "    require_script.onload = function() {\n",
       "        loadDotnetInteractiveApi();\n",
       "    };\n",
       "\n",
       "    document.getElementsByTagName('head')[0].appendChild(require_script);\n",
       "}\n",
       "else {\n",
       "    loadDotnetInteractiveApi();\n",
       "}\n",
       "\n",
       "    </script>\n",
       "</div>"
      ]
     },
     "metadata": {},
     "output_type": "display_data"
    },
    {
     "data": {
      "text/html": [
       "<div><div><strong>Restore sources</strong><ul><li><span> file://~/.nuget/packages/</span></li><li><span> https://api.nuget.org/v3/index.json</span></li></ul></div><div></div><div><strong>Installed Packages</strong><ul><li><span>CsvHelper, 29.0.0</span></li><li><span>Systemathics.Apis, 0.13.2-pre</span></li></ul></div></div>"
      ]
     },
     "metadata": {},
     "output_type": "display_data"
    }
   ],
   "source": [
    "#i \"nuget: file://~/.nuget/packages/\"\n",
    "#i \"nuget: https://api.nuget.org/v3/index.json\"\n",
    "#r \"nuget: Systemathics.Apis, 0.*-pre*\"\n",
    "#r \"nuget: CsvHelper\""
   ]
  },
  {
   "cell_type": "code",
   "execution_count": 2,
   "id": "chronic-penny",
   "metadata": {
    "dotnet_interactive": {
     "language": "csharp"
    },
    "execution": {
     "iopub.execute_input": "2022-10-25T16:13:40.165625Z",
     "iopub.status.busy": "2022-10-25T16:13:40.165052Z",
     "iopub.status.idle": "2022-10-25T16:13:40.198880Z",
     "shell.execute_reply": "2022-10-25T16:13:40.198609Z"
    },
    "vscode": {
     "languageId": "dotnet-interactive.csharp"
    }
   },
   "outputs": [],
   "source": [
    "using Systemathics.Apis.Helpers;\n",
    "using Systemathics.Apis.Type.Shared.V1;\n",
    "using Systemathics.Apis.Services.StaticData.V1;\n",
    "using Google.Protobuf.WellKnownTypes;\n",
    "using Google.Type;\n",
    "using Grpc.Net.Client;\n",
    "using Grpc.Core;\n",
    "// Import/export csv files\n",
    "using CsvHelper;\n",
    "using System.IO;\n",
    "using System.Globalization;"
   ]
  },
  {
   "cell_type": "markdown",
   "id": "available-stocks",
   "metadata": {},
   "source": [
    "### Step 2: Prepare API requests\n",
    "The following code snippets retrieve authentication token and prepare the API request by: opening the *channel* and adding the *token* to the request header:"
   ]
  },
  {
   "cell_type": "code",
   "execution_count": 3,
   "id": "maritime-storage",
   "metadata": {
    "dotnet_interactive": {
     "language": "csharp"
    },
    "execution": {
     "iopub.execute_input": "2022-10-25T16:13:40.200833Z",
     "iopub.status.busy": "2022-10-25T16:13:40.200480Z",
     "iopub.status.idle": "2022-10-25T16:13:42.154255Z",
     "shell.execute_reply": "2022-10-25T16:13:42.153791Z"
    },
    "vscode": {
     "languageId": "dotnet-interactive.csharp"
    }
   },
   "outputs": [],
   "source": [
    "// Get token as metadata\n",
    "var headers = TokenHelpers.GetTokenAsMetaData();\n",
    "\n",
    "// Create communication channel\n",
    "var channel = ChannelHelpers.GetChannel();"
   ]
  },
  {
   "cell_type": "markdown",
   "id": "expensive-award",
   "metadata": {},
   "source": [
    "The following code snippet enables to select the **exchange** by its *Market Identifier Code*:"
   ]
  },
  {
   "cell_type": "code",
   "execution_count": 4,
   "id": "endless-puzzle",
   "metadata": {
    "dotnet_interactive": {
     "language": "csharp"
    },
    "execution": {
     "iopub.execute_input": "2022-10-25T16:13:42.157763Z",
     "iopub.status.busy": "2022-10-25T16:13:42.156883Z",
     "iopub.status.idle": "2022-10-25T16:13:42.233158Z",
     "shell.execute_reply": "2022-10-25T16:13:42.232793Z"
    },
    "vscode": {
     "languageId": "dotnet-interactive.csharp"
    }
   },
   "outputs": [],
   "source": [
    "// Set exchange\n",
    "var exchange = \"XNGS\";"
   ]
  },
  {
   "cell_type": "markdown",
   "id": "brazilian-taiwan",
   "metadata": {},
   "source": [
    "The following code snippets call the service, generate the request and return the reply: "
   ]
  },
  {
   "cell_type": "code",
   "execution_count": 5,
   "id": "colored-reflection",
   "metadata": {
    "dotnet_interactive": {
     "language": "csharp"
    },
    "execution": {
     "iopub.execute_input": "2022-10-25T16:13:42.235887Z",
     "iopub.status.busy": "2022-10-25T16:13:42.235281Z",
     "iopub.status.idle": "2022-10-25T16:13:42.896088Z",
     "shell.execute_reply": "2022-10-25T16:13:42.895752Z"
    },
    "vscode": {
     "languageId": "dotnet-interactive.csharp"
    }
   },
   "outputs": [],
   "source": [
    "// Instantiate the service\n",
    "var service = new StaticDataService.StaticDataServiceClient(channel);\n",
    "\n",
    "// Generate request\n",
    "var request = new StaticDataRequest { AssetType = AssetType.Equity, Exchange = exchange, Count = 100};\n",
    "\n",
    "// Call the service\n",
    "var reply = service.StaticData(request, headers);\n",
    "\n",
    "// Display the results\n",
    "//display(reply.Equities)"
   ]
  },
  {
   "cell_type": "markdown",
   "id": "modern-hands",
   "metadata": {},
   "source": [
    "### Step 4: Retrieve data"
   ]
  },
  {
   "cell_type": "markdown",
   "id": "lined-anchor",
   "metadata": {},
   "source": [
    "#### 4.1 Retrieve instruments' identifiers (mapping)"
   ]
  },
  {
   "cell_type": "code",
   "execution_count": 6,
   "id": "expressed-liver",
   "metadata": {
    "dotnet_interactive": {
     "language": "csharp"
    },
    "execution": {
     "iopub.execute_input": "2022-10-25T16:13:42.898432Z",
     "iopub.status.busy": "2022-10-25T16:13:42.898056Z",
     "iopub.status.idle": "2022-10-25T16:13:43.604096Z",
     "shell.execute_reply": "2022-10-25T16:13:43.603827Z"
    },
    "vscode": {
     "languageId": "dotnet-interactive.csharp"
    }
   },
   "outputs": [],
   "source": [
    "// Create a class to handle the instrument's mapping codes\n",
    "public class Instrument\n",
    "{\n",
    "    public string Ticker{get; set;}\n",
    "    public string Name{get; set;}\n",
    "    public string Isin{get; set;}\n",
    "    public string Cusip{get; set;}\n",
    "    public string Sedol{get; set;}\n",
    "    public string Bloomberg{get; set;}\n",
    "}\n",
    "var instruments = new List<Instrument>();\n",
    "\n",
    "// Get mapping codes for the requested instruments\n",
    "foreach (var reply in reply.Equities) \n",
    "{\n",
    "    // Get mapping codes\n",
    "    var ticker = reply.Identifier.Ticker;\n",
    "    reply.Mapping.TryGetValue(\"Bloomberg\", out var bloomberg);\n",
    "    \n",
    "    // Add the instruments\n",
    "    instruments.Add(new Instrument(){Ticker = ticker, Name = reply.Name, Isin = reply.Isin, Cusip = reply.Cusip, Sedol = reply.Sedol, Bloomberg = bloomberg});\n",
    "}"
   ]
  },
  {
   "cell_type": "code",
   "execution_count": 7,
   "id": "exceptional-webmaster",
   "metadata": {
    "dotnet_interactive": {
     "language": "csharp"
    },
    "execution": {
     "iopub.execute_input": "2022-10-25T16:13:43.606018Z",
     "iopub.status.busy": "2022-10-25T16:13:43.605591Z",
     "iopub.status.idle": "2022-10-25T16:13:43.848173Z",
     "shell.execute_reply": "2022-10-25T16:13:43.847887Z"
    },
    "vscode": {
     "languageId": "dotnet-interactive.csharp"
    }
   },
   "outputs": [
    {
     "data": {
      "text/html": [
       "<table><thead><tr><th><i>index</i></th><th>Ticker</th><th>Name</th><th>Isin</th><th>Cusip</th><th>Sedol</th><th>Bloomberg</th></tr></thead><tbody><tr><td>0</td><td>USAP</td><td>Universal Stainless Alloy Products</td><td>US9138371003</td><td>913837100</td><td>2944281</td><td>USAP US Equity</td></tr><tr><td>1</td><td>PCVX</td><td>Vaxcyte Inc</td><td>US92243G1085</td><td>92243G108</td><td>BKPVGH6</td><td>PCVX US Equity</td></tr><tr><td>2</td><td>RELL</td><td>Richardson Electronics Ltd</td><td>US7631651079</td><td>763165107</td><td>2736109</td><td>RELL US Equity</td></tr><tr><td>3</td><td>IDXX</td><td>Idexx Laboratories Inc</td><td>US45168D1046</td><td>45168D104</td><td>2459202</td><td>IDXX US Equity</td></tr><tr><td>4</td><td>SSRM</td><td>Ssr Mining</td><td>CA7847301032</td><td>784730103</td><td>BF7MQ72</td><td>SSRM US Equity</td></tr><tr><td>5</td><td>BCOV</td><td>Brightcove Inc</td><td>US10921T1016</td><td></td><td>B4XS3D2</td><td>BCOV US Equity</td></tr><tr><td>6</td><td>TRIP</td><td>Tripadvisor Inc</td><td>US8969452015</td><td>896945201</td><td>B6ZC3N6</td><td>TRIP US Equity</td></tr><tr><td>7</td><td>AMD</td><td>Advanced Micro Devices Inc</td><td>US0079031078</td><td>007903107</td><td>2007849</td><td>AMD US Equity</td></tr><tr><td>8</td><td>OBNK</td><td>Origin Bancorp Inc</td><td>US68621T1025</td><td></td><td>BDFFBM9</td><td>OBNK US Equity</td></tr><tr><td>9</td><td>RLYB</td><td>Rallybio Co</td><td>US75120L1008</td><td>75120L100</td><td>BMGTPL0</td><td>RLYB US Equity</td></tr><tr><td>10</td><td>GABC</td><td>German American Bancorp</td><td>US3738651047</td><td>373865104</td><td>2502151</td><td>GABC US Equity</td></tr><tr><td>11</td><td>ISEE</td><td>Iveric Bio Inc</td><td>US46583P1021</td><td>46583P102</td><td>BK8Y8K9</td><td>ISEE US Equity</td></tr><tr><td>12</td><td>LASR</td><td>Nlight Inc</td><td>US65487K1007</td><td>65487K100</td><td>BFZP4R9</td><td>LASR US Equity</td></tr><tr><td>13</td><td>CHX</td><td>Championx Corp</td><td>US15872M1045</td><td>15872M104</td><td>BMW7N69</td><td>CHX US Equity</td></tr><tr><td>14</td><td>MRTN</td><td>Marten Transport L</td><td>US5730751089</td><td>573075108</td><td>2568357</td><td>MRTN US Equity</td></tr><tr><td>15</td><td>UBX</td><td>Unity Biotechnology Inc</td><td></td><td>91381U101</td><td>BDT5LR0</td><td>UBX US Equity</td></tr><tr><td>16</td><td>BMEA</td><td>Biomea Fusion Inc</td><td>US09077A1060</td><td>09077A106</td><td>BNKF6N0</td><td>BMEA US Equity</td></tr><tr><td>17</td><td>TZOO</td><td>Travelzoo</td><td>US89421Q2057</td><td>89421Q205</td><td>BGDFSM1</td><td>TZOO US Equity</td></tr><tr><td>18</td><td>HONE</td><td>Harborone Bancorp Inc</td><td>US41165Y1001</td><td></td><td>BK1KX10</td><td>HONE US Equity</td></tr><tr><td>19</td><td>MTEX</td><td>Mannatech Inc</td><td>US5637712036</td><td>563771203</td><td>B76YLF6</td><td>MTEX US Equity</td></tr><tr><td colspan=\"7\"><i>(80 more)</i></td></tr></tbody></table>"
      ]
     },
     "metadata": {},
     "output_type": "display_data"
    }
   ],
   "source": [
    "display(instruments)"
   ]
  },
  {
   "cell_type": "markdown",
   "id": "weighted-wages",
   "metadata": {},
   "source": [
    "The following code snippet exports data to *csv* file:"
   ]
  },
  {
   "cell_type": "code",
   "execution_count": 8,
   "id": "requested-corporation",
   "metadata": {
    "dotnet_interactive": {
     "language": "csharp"
    },
    "execution": {
     "iopub.execute_input": "2022-10-25T16:13:43.850585Z",
     "iopub.status.busy": "2022-10-25T16:13:43.849946Z",
     "iopub.status.idle": "2022-10-25T16:13:44.254884Z",
     "shell.execute_reply": "2022-10-25T16:13:44.254382Z"
    },
    "vscode": {
     "languageId": "dotnet-interactive.csharp"
    }
   },
   "outputs": [
    {
     "data": {
      "text/plain": [
       "~/github/notebook-examples/_generated_static/csharp/1-reference-data/output"
      ]
     },
     "metadata": {},
     "output_type": "display_data"
    }
   ],
   "source": [
    "var d = new DirectoryInfo(\"output\"); if (!d.Exists) { d.Create(); }\n",
    "display(d.FullName);\n",
    "using (var writer = new StreamWriter($\"output/{exchange}.csv\"))\n",
    "using (var csv = new CsvWriter(writer, CultureInfo.InvariantCulture))\n",
    "{\n",
    "    csv.WriteRecords(instruments);\n",
    "}"
   ]
  },
  {
   "cell_type": "markdown",
   "id": "premium-client",
   "metadata": {},
   "source": [
    "#### 4.2 Retrieve countries"
   ]
  },
  {
   "cell_type": "code",
   "execution_count": 9,
   "id": "lightweight-short",
   "metadata": {
    "dotnet_interactive": {
     "language": "csharp"
    },
    "execution": {
     "iopub.execute_input": "2022-10-25T16:13:44.258130Z",
     "iopub.status.busy": "2022-10-25T16:13:44.257434Z",
     "iopub.status.idle": "2022-10-25T16:13:44.614964Z",
     "shell.execute_reply": "2022-10-25T16:13:44.614427Z"
    },
    "vscode": {
     "languageId": "dotnet-interactive.csharp"
    }
   },
   "outputs": [
    {
     "data": {
      "text/html": [
       "<table><thead><tr><th><i>index</i></th><th>value</th></tr></thead><tbody><tr><td>0</td><td>US</td></tr><tr><td>1</td><td></td></tr></tbody></table>"
      ]
     },
     "metadata": {},
     "output_type": "display_data"
    }
   ],
   "source": [
    "var countries = reply.Equities.Select(r => r.Country).Distinct();\n",
    "display(countries)"
   ]
  },
  {
   "cell_type": "markdown",
   "id": "mysterious-school",
   "metadata": {},
   "source": [
    "#### 4.3 Retrieve currencies"
   ]
  },
  {
   "cell_type": "code",
   "execution_count": 10,
   "id": "agricultural-replication",
   "metadata": {
    "dotnet_interactive": {
     "language": "csharp"
    },
    "execution": {
     "iopub.execute_input": "2022-10-25T16:13:44.618031Z",
     "iopub.status.busy": "2022-10-25T16:13:44.617412Z",
     "iopub.status.idle": "2022-10-25T16:13:44.670205Z",
     "shell.execute_reply": "2022-10-25T16:13:44.669743Z"
    },
    "vscode": {
     "languageId": "dotnet-interactive.csharp"
    }
   },
   "outputs": [
    {
     "data": {
      "text/html": [
       "<table><thead><tr><th><i>index</i></th><th>value</th></tr></thead><tbody><tr><td>0</td><td>USD</td></tr></tbody></table>"
      ]
     },
     "metadata": {},
     "output_type": "display_data"
    }
   ],
   "source": [
    "var currencies = reply.Equities.Select(r => r.Currency).Distinct();\n",
    "display(currencies)"
   ]
  },
  {
   "cell_type": "markdown",
   "id": "retired-implementation",
   "metadata": {},
   "source": [
    "#### 4.4 Retrieve tick size rules"
   ]
  },
  {
   "cell_type": "code",
   "execution_count": 11,
   "id": "residential-strain",
   "metadata": {
    "dotnet_interactive": {
     "language": "csharp"
    },
    "execution": {
     "iopub.execute_input": "2022-10-25T16:13:44.673095Z",
     "iopub.status.busy": "2022-10-25T16:13:44.672387Z",
     "iopub.status.idle": "2022-10-25T16:13:44.921659Z",
     "shell.execute_reply": "2022-10-25T16:13:44.921131Z"
    },
    "vscode": {
     "languageId": "dotnet-interactive.csharp"
    }
   },
   "outputs": [
    {
     "data": {
      "text/html": [
       "<table><thead><tr><th><i>index</i></th><th>value</th></tr></thead><tbody><tr><td>0</td><td><div class=\"dni-plaintext\">[ { { &quot;tick&quot;: 0.0001 }: Price: 0, Tick: 0.0001 }, { { &quot;price&quot;: 1, &quot;tick&quot;: 0.01 }: Price: 1, Tick: 0.01 } ]</div></td></tr></tbody></table>"
      ]
     },
     "metadata": {},
     "output_type": "display_data"
    }
   ],
   "source": [
    "var tsr = reply.Equities.Select(r => r.TickSizeRule).Distinct();\n",
    "display(tsr)"
   ]
  }
 ],
 "metadata": {
  "interpreter": {
   "hash": "f92b2924b84ff19c1c3dc485f7644d4486f64738191026bf8e6de303969141b5"
  },
  "kernelspec": {
   "display_name": ".NET (C#)",
   "language": "C#",
   "name": ".net-csharp"
  },
  "language_info": {
   "file_extension": ".cs",
   "mimetype": "text/x-csharp",
   "name": "C#",
   "pygments_lexer": "csharp",
   "version": "10.0"
  }
 },
 "nbformat": 4,
 "nbformat_minor": 5
}
