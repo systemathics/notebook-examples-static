{
 "cells": [
  {
   "cell_type": "markdown",
   "metadata": {},
   "source": [
    "# Generate intraday bars using bars data service - F#\n",
    "\n",
    "### Overview\n",
    "Bars are widely used to illustrate price movements for an instrument over a look back period. Commonly used in financial analysis and trading strategies as per a deicion making technical indicator.<br>\n",
    "\n",
    "This sample demonstrates how to directly request and plot `intraday bars` with a **customizable** time range sampling.<br>\n",
    "\n",
    "It enables to retrieve **on-demand** data by calling a dedicated bars service on a tick by tick data store. \n",
    "\n",
    "### Inputs/outputs\n",
    "Bars sample requires instrument's identifier, date time intervals as per inputs. It returns open-high-low-close (OHLC) and volume.\n",
    "This sample also shows how to plot a simple graph for basis financial analysis using an open source library.\n",
    "\n",
    "### Services used\n",
    "This sample uses *gRPC requests* in order to retrieve bars from the dedicated hosted service. The queried endpoint in this script are:\n",
    "* *TickBarsService*: to directly retrieve bars objects from the server\n",
    "\n",
    "### Packages required\n",
    "1. Systemathics packages:\n",
    "    * *Systemathics.Apis.Type.Shared.V1*\n",
    "    * *Systemathics.Apis.Services.TickAnalytics.V1*\n",
    "2. Open source packages\n",
    "    * *Google.Protobuf.WellKnownTypes*\n",
    "    * *Google.Type*\n",
    "    * *Grpc.Net.Client*\n",
    "    * *Grpc.Core*\n",
    "    * *XPlot.Plotly* as per display package\n",
    "\n",
    "***"
   ]
  },
  {
   "cell_type": "markdown",
   "metadata": {},
   "source": [
    "# Run bars sample"
   ]
  },
  {
   "cell_type": "markdown",
   "metadata": {},
   "source": [
    "### Step 1: Install packages"
   ]
  },
  {
   "cell_type": "code",
   "execution_count": 1,
   "metadata": {
    "dotnet_interactive": {
     "language": "fsharp"
    },
    "execution": {
     "iopub.execute_input": "2022-10-25T16:23:46.677001Z",
     "iopub.status.busy": "2022-10-25T16:23:46.669482Z",
     "iopub.status.idle": "2022-10-25T16:23:52.657960Z",
     "shell.execute_reply": "2022-10-25T16:23:52.651140Z"
    }
   },
   "outputs": [
    {
     "data": {
      "text/html": [
       "\n",
       "<div>\n",
       "    <div id='dotnet-interactive-this-cell-23240.Microsoft.DotNet.Interactive.Http.HttpPort' style='display: none'>\n",
       "        The below script needs to be able to find the current output cell; this is an easy method to get it.\n",
       "    </div>\n",
       "    <script type='text/javascript'>\n",
       "async function probeAddresses(probingAddresses) {\n",
       "    function timeout(ms, promise) {\n",
       "        return new Promise(function (resolve, reject) {\n",
       "            setTimeout(function () {\n",
       "                reject(new Error('timeout'))\n",
       "            }, ms)\n",
       "            promise.then(resolve, reject)\n",
       "        })\n",
       "    }\n",
       "\n",
       "    if (Array.isArray(probingAddresses)) {\n",
       "        for (let i = 0; i < probingAddresses.length; i++) {\n",
       "\n",
       "            let rootUrl = probingAddresses[i];\n",
       "\n",
       "            if (!rootUrl.endsWith('/')) {\n",
       "                rootUrl = `${rootUrl}/`;\n",
       "            }\n",
       "\n",
       "            try {\n",
       "                let response = await timeout(1000, fetch(`${rootUrl}discovery`, {\n",
       "                    method: 'POST',\n",
       "                    cache: 'no-cache',\n",
       "                    mode: 'cors',\n",
       "                    timeout: 1000,\n",
       "                    headers: {\n",
       "                        'Content-Type': 'text/plain'\n",
       "                    },\n",
       "                    body: probingAddresses[i]\n",
       "                }));\n",
       "\n",
       "                if (response.status == 200) {\n",
       "                    return rootUrl;\n",
       "                }\n",
       "            }\n",
       "            catch (e) { }\n",
       "        }\n",
       "    }\n",
       "}\n",
       "\n",
       "function loadDotnetInteractiveApi() {\n",
       "    probeAddresses([\"http://172.28.169.63:2598/\", \"http://127.0.0.1:2598/\"])\n",
       "        .then((root) => {\n",
       "        // use probing to find host url and api resources\n",
       "        // load interactive helpers and language services\n",
       "        let dotnetInteractiveRequire = require.config({\n",
       "        context: '23240.Microsoft.DotNet.Interactive.Http.HttpPort',\n",
       "                paths:\n",
       "            {\n",
       "                'dotnet-interactive': `${root}resources`\n",
       "                }\n",
       "        }) || require;\n",
       "\n",
       "            window.dotnetInteractiveRequire = dotnetInteractiveRequire;\n",
       "\n",
       "            window.configureRequireFromExtension = function(extensionName, extensionCacheBuster) {\n",
       "                let paths = {};\n",
       "                paths[extensionName] = `${root}extensions/${extensionName}/resources/`;\n",
       "                \n",
       "                let internalRequire = require.config({\n",
       "                    context: extensionCacheBuster,\n",
       "                    paths: paths,\n",
       "                    urlArgs: `cacheBuster=${extensionCacheBuster}`\n",
       "                    }) || require;\n",
       "\n",
       "                return internalRequire\n",
       "            };\n",
       "        \n",
       "            dotnetInteractiveRequire([\n",
       "                    'dotnet-interactive/dotnet-interactive'\n",
       "                ],\n",
       "                function (dotnet) {\n",
       "                    dotnet.init(window);\n",
       "                },\n",
       "                function (error) {\n",
       "                    console.log(error);\n",
       "                }\n",
       "            );\n",
       "        })\n",
       "        .catch(error => {console.log(error);});\n",
       "    }\n",
       "\n",
       "// ensure `require` is available globally\n",
       "if ((typeof(require) !==  typeof(Function)) || (typeof(require.config) !== typeof(Function))) {\n",
       "    let require_script = document.createElement('script');\n",
       "    require_script.setAttribute('src', 'https://cdnjs.cloudflare.com/ajax/libs/require.js/2.3.6/require.min.js');\n",
       "    require_script.setAttribute('type', 'text/javascript');\n",
       "    \n",
       "    \n",
       "    require_script.onload = function() {\n",
       "        loadDotnetInteractiveApi();\n",
       "    };\n",
       "\n",
       "    document.getElementsByTagName('head')[0].appendChild(require_script);\n",
       "}\n",
       "else {\n",
       "    loadDotnetInteractiveApi();\n",
       "}\n",
       "\n",
       "    </script>\n",
       "</div>"
      ]
     },
     "metadata": {},
     "output_type": "display_data"
    },
    {
     "data": {
      "text/html": [
       "<div><div><strong>Restore sources</strong><ul><li><span> file://~/.nuget/packages/</span></li><li><span> https://api.nuget.org/v3/index.json</span></li></ul></div><div></div><div><strong>Installed Packages</strong><ul><li><span>Systemathics.Apis, 0.13.2-pre</span></li><li><span>TaskBuilder.fs, 2.1.0</span></li><li><span>XPlot.Plotly.Interactive, 4.0.6</span></li></ul></div></div>"
      ]
     },
     "metadata": {},
     "output_type": "display_data"
    },
    {
     "data": {
      "text/markdown": [
       "Loading extensions from `XPlot.Plotly.Interactive.dll`"
      ]
     },
     "metadata": {},
     "output_type": "display_data"
    },
    {
     "data": {
      "text/markdown": [
       "Configuring PowerShell Kernel for XPlot.Plotly integration."
      ]
     },
     "metadata": {},
     "output_type": "display_data"
    },
    {
     "data": {
      "text/markdown": [
       "Installed support for XPlot.Plotly."
      ]
     },
     "metadata": {},
     "output_type": "display_data"
    }
   ],
   "source": [
    "#i \"nuget: file://~/.nuget/packages/\"\n",
    "#i \"nuget: https://api.nuget.org/v3/index.json\"\n",
    "#r \"nuget: Systemathics.Apis, 0.*-pre*\"\n",
    "#r \"nuget: XPlot.Plotly.Interactive\"\n",
    "#r \"nuget: TaskBuilder.fs\""
   ]
  },
  {
   "cell_type": "code",
   "execution_count": 2,
   "metadata": {
    "dotnet_interactive": {
     "language": "fsharp"
    },
    "execution": {
     "iopub.execute_input": "2022-10-25T16:23:52.660115Z",
     "iopub.status.busy": "2022-10-25T16:23:52.659809Z",
     "iopub.status.idle": "2022-10-25T16:23:53.026192Z",
     "shell.execute_reply": "2022-10-25T16:23:53.025943Z"
    }
   },
   "outputs": [],
   "source": [
    "open Systemathics.Apis.Helpers\n",
    "open Systemathics.Apis.Type.Shared.V1\n",
    "open Systemathics.Apis.Services.TickAnalytics.V1\n",
    "open Google.Protobuf.WellKnownTypes\n",
    "open Google.Type\n",
    "open Grpc.Net.Client\n",
    "open Grpc.Core\n",
    "open XPlot.Plotly\n",
    "open XPlot.Plotly.Interactive"
   ]
  },
  {
   "cell_type": "markdown",
   "metadata": {},
   "source": [
    "### Step 2: Prepare API requests\n",
    "The following code snippets retrieve authentication token and prepare the API request by: opening the *channel* and adding the *token* to the request header:"
   ]
  },
  {
   "cell_type": "code",
   "execution_count": 3,
   "metadata": {
    "dotnet_interactive": {
     "language": "fsharp"
    },
    "execution": {
     "iopub.execute_input": "2022-10-25T16:23:53.028283Z",
     "iopub.status.busy": "2022-10-25T16:23:53.027743Z",
     "iopub.status.idle": "2022-10-25T16:23:53.612244Z",
     "shell.execute_reply": "2022-10-25T16:23:53.611975Z"
    }
   },
   "outputs": [],
   "source": [
    "// Get token as metadata\n",
    "let headers = TokenHelpers.GetTokenAsMetaData();\n",
    "\n",
    "// Create communication channel\n",
    "let channel = ChannelHelpers.GetChannel();"
   ]
  },
  {
   "cell_type": "markdown",
   "metadata": {},
   "source": [
    "### Step 3: Create and process request\n",
    "To request *tick bars service*, we need to specify:\n",
    "* Instrument identifier\n",
    "* Time period selection: select start and end dates\n",
    "* Bars request parameters"
   ]
  },
  {
   "cell_type": "markdown",
   "metadata": {},
   "source": [
    "#### 3.1 Instrument selection"
   ]
  },
  {
   "cell_type": "code",
   "execution_count": 4,
   "metadata": {
    "dotnet_interactive": {
     "language": "fsharp"
    },
    "execution": {
     "iopub.execute_input": "2022-10-25T16:23:53.614804Z",
     "iopub.status.busy": "2022-10-25T16:23:53.614449Z",
     "iopub.status.idle": "2022-10-25T16:23:53.642084Z",
     "shell.execute_reply": "2022-10-25T16:23:53.641828Z"
    }
   },
   "outputs": [],
   "source": [
    "let ticker = \"AAPL\"\n",
    "let exchange = \"BATS\""
   ]
  },
  {
   "cell_type": "markdown",
   "metadata": {},
   "source": [
    "#### 3.2 Bars calculation parameters"
   ]
  },
  {
   "cell_type": "code",
   "execution_count": 5,
   "metadata": {
    "dotnet_interactive": {
     "language": "fsharp"
    },
    "execution": {
     "iopub.execute_input": "2022-10-25T16:23:53.644364Z",
     "iopub.status.busy": "2022-10-25T16:23:53.643876Z",
     "iopub.status.idle": "2022-10-25T16:23:53.881764Z",
     "shell.execute_reply": "2022-10-25T16:23:53.881492Z"
    }
   },
   "outputs": [],
   "source": [
    "// Set the bar duration\n",
    "let sampling = 5L * 60L\n",
    "\n",
    "// Set the bar calculation field\n",
    "let field = BarPrice.Trade "
   ]
  },
  {
   "cell_type": "markdown",
   "metadata": {},
   "source": [
    "#### 3.3 Time period delimitation"
   ]
  },
  {
   "cell_type": "code",
   "execution_count": 6,
   "metadata": {
    "dotnet_interactive": {
     "language": "fsharp"
    },
    "execution": {
     "iopub.execute_input": "2022-10-25T16:23:53.884901Z",
     "iopub.status.busy": "2022-10-25T16:23:53.883834Z",
     "iopub.status.idle": "2022-10-25T16:23:54.076006Z",
     "shell.execute_reply": "2022-10-25T16:23:54.075746Z"
    }
   },
   "outputs": [],
   "source": [
    "// Create time intervals\n",
    "let yesterday = DateTime.Today.AddDays(-1.)\n",
    "let start = yesterday.AddDays(-50.)\n",
    "\n",
    "// Build the bars request date interval (we are using Google date time format : we have to cast the dates)\n",
    "let dateIntervals = \n",
    "  new DateInterval(\n",
    "    StartDate = new Date ( Year = start.Year, Month = start.Month, Day = start.Day ),\n",
    "    EndDate = new Date ( Year = yesterday.Year, Month = yesterday.Month, Day = yesterday.Day )\n",
    "  )\n",
    "\n",
    "// Build the bars request time interval (we are using Google date time format : we have to cast the dates)\n",
    "// UTC time zone\n",
    "let timeInterval = \n",
    "  new TimeInterval(\n",
    "    StartTime = new TimeOfDay ( Hours = 15, Minutes = 00, Seconds = 00 ),\n",
    "    EndTime = new TimeOfDay ( Hours = 16, Minutes = 00, Seconds = 00 ) \n",
    "  )"
   ]
  },
  {
   "cell_type": "markdown",
   "metadata": {},
   "source": [
    "#### 3.4 Request creation\n",
    "The following code snippet creates *gRPC client*, process request and returns the request reply:"
   ]
  },
  {
   "cell_type": "code",
   "execution_count": 7,
   "metadata": {
    "dotnet_interactive": {
     "language": "fsharp"
    },
    "execution": {
     "iopub.execute_input": "2022-10-25T16:23:54.077915Z",
     "iopub.status.busy": "2022-10-25T16:23:54.077603Z",
     "iopub.status.idle": "2022-10-25T16:23:54.108505Z",
     "shell.execute_reply": "2022-10-25T16:23:54.108254Z"
    }
   },
   "outputs": [],
   "source": [
    "// Generate constraints based on the previous space selection:\n",
    "let constraints = new Constraints() \n",
    "constraints.DateIntervals.Add(dateIntervals)\n",
    "constraints.TimeIntervals.Add(timeInterval)"
   ]
  },
  {
   "cell_type": "code",
   "execution_count": 8,
   "metadata": {
    "dotnet_interactive": {
     "language": "fsharp"
    },
    "execution": {
     "iopub.execute_input": "2022-10-25T16:23:54.110674Z",
     "iopub.status.busy": "2022-10-25T16:23:54.110287Z",
     "iopub.status.idle": "2022-10-25T16:23:54.124067Z",
     "shell.execute_reply": "2022-10-25T16:23:54.123819Z"
    }
   },
   "outputs": [],
   "source": [
    "// Generate intraday bars request\n",
    "let request = \n",
    "    new TickBarsRequest(\n",
    "        Identifier = new Identifier ( Exchange = exchange, Ticker = ticker), \n",
    "        Constraints = constraints,  \n",
    "        Sampling = new Duration (Seconds = sampling),\n",
    "        Field = field\n",
    "    )"
   ]
  },
  {
   "cell_type": "code",
   "execution_count": 9,
   "metadata": {
    "dotnet_interactive": {
     "language": "fsharp"
    },
    "execution": {
     "iopub.execute_input": "2022-10-25T16:23:54.126052Z",
     "iopub.status.busy": "2022-10-25T16:23:54.125705Z",
     "iopub.status.idle": "2022-10-25T16:23:54.144094Z",
     "shell.execute_reply": "2022-10-25T16:23:54.143846Z"
    }
   },
   "outputs": [],
   "source": [
    "// Instantiate the intraday bars service\n",
    "let service = new TickBarsService.TickBarsServiceClient(channel)"
   ]
  },
  {
   "cell_type": "code",
   "execution_count": 10,
   "metadata": {
    "dotnet_interactive": {
     "language": "fsharp"
    },
    "execution": {
     "iopub.execute_input": "2022-10-25T16:23:54.146324Z",
     "iopub.status.busy": "2022-10-25T16:23:54.145730Z",
     "iopub.status.idle": "2022-10-25T16:23:55.016133Z",
     "shell.execute_reply": "2022-10-25T16:23:55.015881Z"
    }
   },
   "outputs": [],
   "source": [
    "// Process intraday bars request\n",
    "open FSharp.Control.Tasks.V2\n",
    "open System.Collections.Generic\n",
    "\n",
    "let bars = new List<TickBarsResponse>()\n",
    "\n",
    "let iterAsync (t: IAsyncEnumerable<'T>) (f : 'T -> unit) =\n",
    "    let task = \n",
    "        task {\n",
    "            let e = t.GetAsyncEnumerator()\n",
    "            let mutable go = true\n",
    "            try\n",
    "                let! step = e.MoveNextAsync()\n",
    "                go <- step\n",
    "                while go do \n",
    "                    f e.Current\n",
    "                    let! step = e.MoveNextAsync()\n",
    "                    go <- step\n",
    "            finally\n",
    "                e.DisposeAsync().AsTask().Wait()\n",
    "        }\n",
    "    task.Wait()\n",
    "    \n",
    "let call = service.TickBars(request, headers)\n",
    "let e = call.ResponseStream.ReadAllAsync()\n",
    "\n",
    "iterAsync e bars.Add\n"
   ]
  },
  {
   "cell_type": "code",
   "execution_count": 11,
   "metadata": {
    "dotnet_interactive": {
     "language": "fsharp"
    },
    "execution": {
     "iopub.execute_input": "2022-10-25T16:23:55.018511Z",
     "iopub.status.busy": "2022-10-25T16:23:55.018130Z",
     "iopub.status.idle": "2022-10-25T16:23:55.263679Z",
     "shell.execute_reply": "2022-10-25T16:23:55.263378Z"
    }
   },
   "outputs": [
    {
     "name": "stdout",
     "output_type": "stream",
     "text": [
      "Fetched 72 bars from (Total trades=36,201)\n"
     ]
    },
    {
     "data": {
      "text/html": [
       "<table><thead><tr><th><i>index</i></th><th>TimeStamp</th><th>Open</th><th>High</th><th>Low</th><th>Close</th><th>Volume</th><th>Count</th><th>Vwap</th></tr></thead><tbody><tr><td>0</td><td><table><thead><tr><th>Seconds</th><th>Nanos</th></tr></thead><tbody><tr><td><div class=\"dni-plaintext\">1662476400</div></td><td><div class=\"dni-plaintext\">0</div></td></tr></tbody></table></td><td><div class=\"dni-plaintext\">156.14</div></td><td><div class=\"dni-plaintext\">156.14</div></td><td><div class=\"dni-plaintext\">155.75</div></td><td><div class=\"dni-plaintext\">155.83</div></td><td><div class=\"dni-plaintext\">49054</div></td><td><div class=\"dni-plaintext\">690</div></td><td><div class=\"dni-plaintext\">155.90354537856228</div></td></tr><tr><td>1</td><td><table><thead><tr><th>Seconds</th><th>Nanos</th></tr></thead><tbody><tr><td><div class=\"dni-plaintext\">1662476700</div></td><td><div class=\"dni-plaintext\">0</div></td></tr></tbody></table></td><td><div class=\"dni-plaintext\">155.82</div></td><td><div class=\"dni-plaintext\">156.52</div></td><td><div class=\"dni-plaintext\">155.71</div></td><td><div class=\"dni-plaintext\">156.25</div></td><td><div class=\"dni-plaintext\">59009</div></td><td><div class=\"dni-plaintext\">776</div></td><td><div class=\"dni-plaintext\">156.13603407954722</div></td></tr><tr><td>2</td><td><table><thead><tr><th>Seconds</th><th>Nanos</th></tr></thead><tbody><tr><td><div class=\"dni-plaintext\">1662477000</div></td><td><div class=\"dni-plaintext\">0</div></td></tr></tbody></table></td><td><div class=\"dni-plaintext\">156.28</div></td><td><div class=\"dni-plaintext\">156.34</div></td><td><div class=\"dni-plaintext\">155.87</div></td><td><div class=\"dni-plaintext\">155.97</div></td><td><div class=\"dni-plaintext\">30035</div></td><td><div class=\"dni-plaintext\">428</div></td><td><div class=\"dni-plaintext\">156.06097386382544</div></td></tr><tr><td>3</td><td><table><thead><tr><th>Seconds</th><th>Nanos</th></tr></thead><tbody><tr><td><div class=\"dni-plaintext\">1662477300</div></td><td><div class=\"dni-plaintext\">0</div></td></tr></tbody></table></td><td><div class=\"dni-plaintext\">156.01</div></td><td><div class=\"dni-plaintext\">156.04</div></td><td><div class=\"dni-plaintext\">155.66</div></td><td><div class=\"dni-plaintext\">155.71</div></td><td><div class=\"dni-plaintext\">36753</div></td><td><div class=\"dni-plaintext\">636</div></td><td><div class=\"dni-plaintext\">155.80791431991938</div></td></tr><tr><td>4</td><td><table><thead><tr><th>Seconds</th><th>Nanos</th></tr></thead><tbody><tr><td><div class=\"dni-plaintext\">1662477600</div></td><td><div class=\"dni-plaintext\">0</div></td></tr></tbody></table></td><td><div class=\"dni-plaintext\">155.7</div></td><td><div class=\"dni-plaintext\">156.06</div></td><td><div class=\"dni-plaintext\">155.57</div></td><td><div class=\"dni-plaintext\">155.99</div></td><td><div class=\"dni-plaintext\">59571</div></td><td><div class=\"dni-plaintext\">522</div></td><td><div class=\"dni-plaintext\">155.73472688052917</div></td></tr><tr><td>5</td><td><table><thead><tr><th>Seconds</th><th>Nanos</th></tr></thead><tbody><tr><td><div class=\"dni-plaintext\">1662477900</div></td><td><div class=\"dni-plaintext\">0</div></td></tr></tbody></table></td><td><div class=\"dni-plaintext\">155.99</div></td><td><div class=\"dni-plaintext\">156.15</div></td><td><div class=\"dni-plaintext\">155.485</div></td><td><div class=\"dni-plaintext\">155.58</div></td><td><div class=\"dni-plaintext\">38637</div></td><td><div class=\"dni-plaintext\">580</div></td><td><div class=\"dni-plaintext\">155.78379597277228</div></td></tr><tr><td>6</td><td><table><thead><tr><th>Seconds</th><th>Nanos</th></tr></thead><tbody><tr><td><div class=\"dni-plaintext\">1662478200</div></td><td><div class=\"dni-plaintext\">0</div></td></tr></tbody></table></td><td><div class=\"dni-plaintext\">155.585</div></td><td><div class=\"dni-plaintext\">156.35</div></td><td><div class=\"dni-plaintext\">155.48</div></td><td><div class=\"dni-plaintext\">155.99</div></td><td><div class=\"dni-plaintext\">47321</div></td><td><div class=\"dni-plaintext\">710</div></td><td><div class=\"dni-plaintext\">155.88639959003396</div></td></tr><tr><td>7</td><td><table><thead><tr><th>Seconds</th><th>Nanos</th></tr></thead><tbody><tr><td><div class=\"dni-plaintext\">1662478500</div></td><td><div class=\"dni-plaintext\">0</div></td></tr></tbody></table></td><td><div class=\"dni-plaintext\">156.06</div></td><td><div class=\"dni-plaintext\">156.1</div></td><td><div class=\"dni-plaintext\">155.58</div></td><td><div class=\"dni-plaintext\">155.79</div></td><td><div class=\"dni-plaintext\">37659</div></td><td><div class=\"dni-plaintext\">573</div></td><td><div class=\"dni-plaintext\">155.79888884463196</div></td></tr><tr><td>8</td><td><table><thead><tr><th>Seconds</th><th>Nanos</th></tr></thead><tbody><tr><td><div class=\"dni-plaintext\">1662478800</div></td><td><div class=\"dni-plaintext\">0</div></td></tr></tbody></table></td><td><div class=\"dni-plaintext\">155.75</div></td><td><div class=\"dni-plaintext\">156.45</div></td><td><div class=\"dni-plaintext\">155.72</div></td><td><div class=\"dni-plaintext\">156.06</div></td><td><div class=\"dni-plaintext\">35609</div></td><td><div class=\"dni-plaintext\">579</div></td><td><div class=\"dni-plaintext\">156.1537507371734</div></td></tr><tr><td>9</td><td><table><thead><tr><th>Seconds</th><th>Nanos</th></tr></thead><tbody><tr><td><div class=\"dni-plaintext\">1662479100</div></td><td><div class=\"dni-plaintext\">0</div></td></tr></tbody></table></td><td><div class=\"dni-plaintext\">156.07</div></td><td><div class=\"dni-plaintext\">156.19</div></td><td><div class=\"dni-plaintext\">155.73</div></td><td><div class=\"dni-plaintext\">155.76</div></td><td><div class=\"dni-plaintext\">25739</div></td><td><div class=\"dni-plaintext\">393</div></td><td><div class=\"dni-plaintext\">155.93557034072808</div></td></tr><tr><td>10</td><td><table><thead><tr><th>Seconds</th><th>Nanos</th></tr></thead><tbody><tr><td><div class=\"dni-plaintext\">1662479400</div></td><td><div class=\"dni-plaintext\">0</div></td></tr></tbody></table></td><td><div class=\"dni-plaintext\">155.76</div></td><td><div class=\"dni-plaintext\">156.19</div></td><td><div class=\"dni-plaintext\">155.71</div></td><td><div class=\"dni-plaintext\">156.06</div></td><td><div class=\"dni-plaintext\">25825</div></td><td><div class=\"dni-plaintext\">432</div></td><td><div class=\"dni-plaintext\">155.98441200387234</div></td></tr><tr><td>11</td><td><table><thead><tr><th>Seconds</th><th>Nanos</th></tr></thead><tbody><tr><td><div class=\"dni-plaintext\">1662479700</div></td><td><div class=\"dni-plaintext\">0</div></td></tr></tbody></table></td><td><div class=\"dni-plaintext\">156.02</div></td><td><div class=\"dni-plaintext\">156.27</div></td><td><div class=\"dni-plaintext\">155.97</div></td><td><div class=\"dni-plaintext\">156.07</div></td><td><div class=\"dni-plaintext\">24166</div></td><td><div class=\"dni-plaintext\">417</div></td><td><div class=\"dni-plaintext\">156.14830050484156</div></td></tr><tr><td>12</td><td><table><thead><tr><th>Seconds</th><th>Nanos</th></tr></thead><tbody><tr><td><div class=\"dni-plaintext\">1662649200</div></td><td><div class=\"dni-plaintext\">0</div></td></tr></tbody></table></td><td><div class=\"dni-plaintext\">155.76</div></td><td><div class=\"dni-plaintext\">156.13</div></td><td><div class=\"dni-plaintext\">155.76</div></td><td><div class=\"dni-plaintext\">156.03</div></td><td><div class=\"dni-plaintext\">55373</div></td><td><div class=\"dni-plaintext\">734</div></td><td><div class=\"dni-plaintext\">155.95811180539232</div></td></tr><tr><td>13</td><td><table><thead><tr><th>Seconds</th><th>Nanos</th></tr></thead><tbody><tr><td><div class=\"dni-plaintext\">1662649500</div></td><td><div class=\"dni-plaintext\">0</div></td></tr></tbody></table></td><td><div class=\"dni-plaintext\">156.03</div></td><td><div class=\"dni-plaintext\">156.26</div></td><td><div class=\"dni-plaintext\">155.98</div></td><td><div class=\"dni-plaintext\">156.18</div></td><td><div class=\"dni-plaintext\">33564</div></td><td><div class=\"dni-plaintext\">412</div></td><td><div class=\"dni-plaintext\">156.13940576212616</div></td></tr><tr><td>14</td><td><table><thead><tr><th>Seconds</th><th>Nanos</th></tr></thead><tbody><tr><td><div class=\"dni-plaintext\">1662649800</div></td><td><div class=\"dni-plaintext\">0</div></td></tr></tbody></table></td><td><div class=\"dni-plaintext\">156.19</div></td><td><div class=\"dni-plaintext\">156.2</div></td><td><div class=\"dni-plaintext\">155.93</div></td><td><div class=\"dni-plaintext\">156.14</div></td><td><div class=\"dni-plaintext\">40067</div></td><td><div class=\"dni-plaintext\">437</div></td><td><div class=\"dni-plaintext\">156.04044762522773</div></td></tr><tr><td>15</td><td><table><thead><tr><th>Seconds</th><th>Nanos</th></tr></thead><tbody><tr><td><div class=\"dni-plaintext\">1662650100</div></td><td><div class=\"dni-plaintext\">0</div></td></tr></tbody></table></td><td><div class=\"dni-plaintext\">156.15</div></td><td><div class=\"dni-plaintext\">156.24</div></td><td><div class=\"dni-plaintext\">155.96</div></td><td><div class=\"dni-plaintext\">156.18</div></td><td><div class=\"dni-plaintext\">28876</div></td><td><div class=\"dni-plaintext\">364</div></td><td><div class=\"dni-plaintext\">156.09069763817703</div></td></tr><tr><td>16</td><td><table><thead><tr><th>Seconds</th><th>Nanos</th></tr></thead><tbody><tr><td><div class=\"dni-plaintext\">1662650400</div></td><td><div class=\"dni-plaintext\">0</div></td></tr></tbody></table></td><td><div class=\"dni-plaintext\">156.19</div></td><td><div class=\"dni-plaintext\">156.35</div></td><td><div class=\"dni-plaintext\">156.105</div></td><td><div class=\"dni-plaintext\">156.16</div></td><td><div class=\"dni-plaintext\">31987</div></td><td><div class=\"dni-plaintext\">387</div></td><td><div class=\"dni-plaintext\">156.20363772782702</div></td></tr><tr><td>17</td><td><table><thead><tr><th>Seconds</th><th>Nanos</th></tr></thead><tbody><tr><td><div class=\"dni-plaintext\">1662650700</div></td><td><div class=\"dni-plaintext\">0</div></td></tr></tbody></table></td><td><div class=\"dni-plaintext\">156.18</div></td><td><div class=\"dni-plaintext\">156.19</div></td><td><div class=\"dni-plaintext\">155.92</div></td><td><div class=\"dni-plaintext\">155.98</div></td><td><div class=\"dni-plaintext\">43564</div></td><td><div class=\"dni-plaintext\">457</div></td><td><div class=\"dni-plaintext\">156.05151019190146</div></td></tr><tr><td>18</td><td><table><thead><tr><th>Seconds</th><th>Nanos</th></tr></thead><tbody><tr><td><div class=\"dni-plaintext\">1662651000</div></td><td><div class=\"dni-plaintext\">0</div></td></tr></tbody></table></td><td><div class=\"dni-plaintext\">155.985</div></td><td><div class=\"dni-plaintext\">156.17</div></td><td><div class=\"dni-plaintext\">155.91</div></td><td><div class=\"dni-plaintext\">156.14</div></td><td><div class=\"dni-plaintext\">30041</div></td><td><div class=\"dni-plaintext\">401</div></td><td><div class=\"dni-plaintext\">156.0437220798241</div></td></tr><tr><td>19</td><td><table><thead><tr><th>Seconds</th><th>Nanos</th></tr></thead><tbody><tr><td><div class=\"dni-plaintext\">1662651300</div></td><td><div class=\"dni-plaintext\">0</div></td></tr></tbody></table></td><td><div class=\"dni-plaintext\">156.12</div></td><td><div class=\"dni-plaintext\">156.18</div></td><td><div class=\"dni-plaintext\">155.66</div></td><td><div class=\"dni-plaintext\">155.68</div></td><td><div class=\"dni-plaintext\">40910</div></td><td><div class=\"dni-plaintext\">504</div></td><td><div class=\"dni-plaintext\">155.9594530677096</div></td></tr><tr><td colspan=\"9\"><i>(52 more)</i></td></tr></tbody></table>"
      ]
     },
     "metadata": {},
     "output_type": "display_data"
    }
   ],
   "source": [
    "// Calculate the total ticks inside all the bars we received\n",
    "let ticks = bars |> Seq.sumBy (fun bar -> bar.Count)\n",
    "\n",
    "// Display\n",
    "Console.WriteLine($\"Fetched {bars.Count:N0} bars from (Total trades={ticks:N0})\")\n",
    "display(bars)"
   ]
  },
  {
   "cell_type": "markdown",
   "metadata": {},
   "source": [
    "### Step 4: Visualize data"
   ]
  },
  {
   "cell_type": "markdown",
   "metadata": {},
   "source": [
    "#### 4.1 Plot the bars Chart\n",
    "Plot the bars request result and plot them with the package of your choice.<br>*`XPlot.Plotly`* is used as per open source display package. "
   ]
  },
  {
   "cell_type": "code",
   "execution_count": 12,
   "metadata": {
    "dotnet_interactive": {
     "language": "fsharp"
    },
    "execution": {
     "iopub.execute_input": "2022-10-25T16:23:55.265880Z",
     "iopub.status.busy": "2022-10-25T16:23:55.265535Z",
     "iopub.status.idle": "2022-10-25T16:23:55.501239Z",
     "shell.execute_reply": "2022-10-25T16:23:55.500984Z"
    }
   },
   "outputs": [
    {
     "data": {
      "text/html": [
       "<!DOCTYPE html>\n",
       "<div style=\"width: 1500px; height: 800px;\" id=\"c8e7b4c5-8889-4049-8dcc-1c66096cfed0\"></div><script type=\"text/javascript\">\n",
       "\n",
       "var renderPlotly = function() {\n",
       "    var xplotRequire = require.config({context:'xplot-3.0.1',paths:{plotly:'https://cdn.plot.ly/plotly-1.49.2.min'}}) || require;\n",
       "    xplotRequire(['plotly'], function(Plotly) { \n",
       "\n",
       "            var data = [{\"type\":\"candlestick\",\"showlegend\":false,\"x\":[\"2022-09-06T15:00:00Z\",\"2022-09-06T15:05:00Z\",\"2022-09-06T15:10:00Z\",\"2022-09-06T15:15:00Z\",\"2022-09-06T15:20:00Z\",\"2022-09-06T15:25:00Z\",\"2022-09-06T15:30:00Z\",\"2022-09-06T15:35:00Z\",\"2022-09-06T15:40:00Z\",\"2022-09-06T15:45:00Z\",\"2022-09-06T15:50:00Z\",\"2022-09-06T15:55:00Z\",\"2022-09-08T15:00:00Z\",\"2022-09-08T15:05:00Z\",\"2022-09-08T15:10:00Z\",\"2022-09-08T15:15:00Z\",\"2022-09-08T15:20:00Z\",\"2022-09-08T15:25:00Z\",\"2022-09-08T15:30:00Z\",\"2022-09-08T15:35:00Z\",\"2022-09-08T15:40:00Z\",\"2022-09-08T15:45:00Z\",\"2022-09-08T15:50:00Z\",\"2022-09-08T15:55:00Z\",\"2022-09-09T15:00:00Z\",\"2022-09-09T15:05:00Z\",\"2022-09-09T15:10:00Z\",\"2022-09-09T15:15:00Z\",\"2022-09-09T15:20:00Z\",\"2022-09-09T15:25:00Z\",\"2022-09-09T15:30:00Z\",\"2022-09-09T15:35:00Z\",\"2022-09-09T15:40:00Z\",\"2022-09-09T15:45:00Z\",\"2022-09-09T15:50:00Z\",\"2022-09-09T15:55:00Z\",\"2022-09-12T15:00:00Z\",\"2022-09-12T15:05:00Z\",\"2022-09-12T15:10:00Z\",\"2022-09-12T15:15:00Z\",\"2022-09-12T15:20:00Z\",\"2022-09-12T15:25:00Z\",\"2022-09-12T15:30:00Z\",\"2022-09-12T15:35:00Z\",\"2022-09-12T15:40:00Z\",\"2022-09-12T15:45:00Z\",\"2022-09-12T15:50:00Z\",\"2022-09-12T15:55:00Z\",\"2022-09-13T15:00:00Z\",\"2022-09-13T15:05:00Z\",\"2022-09-13T15:10:00Z\",\"2022-09-13T15:15:00Z\",\"2022-09-13T15:20:00Z\",\"2022-09-13T15:25:00Z\",\"2022-09-13T15:30:00Z\",\"2022-09-13T15:35:00Z\",\"2022-09-13T15:40:00Z\",\"2022-09-13T15:45:00Z\",\"2022-09-13T15:50:00Z\",\"2022-09-13T15:55:00Z\",\"2022-09-14T15:00:00Z\",\"2022-09-14T15:05:00Z\",\"2022-09-14T15:10:00Z\",\"2022-09-14T15:15:00Z\",\"2022-09-14T15:20:00Z\",\"2022-09-14T15:25:00Z\",\"2022-09-14T15:30:00Z\",\"2022-09-14T15:35:00Z\",\"2022-09-14T15:40:00Z\",\"2022-09-14T15:45:00Z\",\"2022-09-14T15:50:00Z\",\"2022-09-14T15:55:00Z\"],\"open\":[156.14,155.82,156.28,156.01,155.7,155.99,155.585,156.06,155.75,156.07,155.76,156.02,155.76,156.03,156.19,156.15,156.19,156.18,155.985,156.12,155.67,155.66,155.56,155.79,156.65,156.73,156.65,156.76,156.57,156.73,156.95,156.97,157.12,156.96,157.0,156.76,161.39,161.5,161.66,161.965,162.21,162.59,162.64,162.73,162.61,162.5,162.31,162.165,157.22,157.04,156.95,156.71,156.75,156.37,156.465,156.56,156.625,156.56,156.37,156.55,156.56,156.42,156.93,156.93,156.72,156.3,155.92,155.88,156.03,156.28,156.14,156.08],\"high\":[156.14,156.52,156.34,156.04,156.06,156.15,156.35,156.1,156.45,156.19,156.19,156.27,156.13,156.26,156.2,156.24,156.35,156.19,156.17,156.18,155.76,155.78,155.78,155.79,156.76,156.86,156.77,156.93,156.735,156.96,157.17,157.12,157.17,157.07,157.04,156.86,161.63,161.715,161.97,162.33,162.6,162.66,162.88,162.775,162.735,162.61,162.31,162.17,157.27,157.15,156.99,156.89,156.85,156.54,156.635,156.68,156.625,156.56,156.68,156.64,156.59,157.06,157.09,156.98,156.725,156.34,156.17,156.06,156.3,156.31,156.16,156.12],\"low\":[155.75,155.71,155.87,155.66,155.57,155.485,155.48,155.58,155.72,155.73,155.71,155.97,155.76,155.98,155.93,155.96,156.105,155.92,155.91,155.66,155.52,155.48,155.38,155.52,156.47,156.6,156.53,156.54,156.515,156.68,156.79,156.94,156.91,156.92,156.705,156.695,161.23,161.5,161.62,161.84,162.12,162.46,162.43,162.42,162.405,162.185,162.03,161.68,156.92,156.77,156.625,156.61,156.31,156.26,156.35,156.44,156.26,156.27,156.37,156.26,156.26,156.26,156.83,156.62,156.28,155.91,155.78,155.78,155.96,156.11,155.72,155.77],\"close\":[155.83,156.25,155.97,155.71,155.99,155.58,155.99,155.79,156.06,155.76,156.06,156.07,156.03,156.18,156.14,156.18,156.16,155.98,156.14,155.68,155.69,155.57,155.77,155.52,156.72,156.62,156.75,156.57,156.72,156.96,156.97,157.11,156.98,156.99,156.77,156.85,161.49,161.65,161.97,162.205,162.59,162.64,162.76,162.61,162.52,162.3,162.16,161.89,157.04,156.97,156.72,156.79,156.37,156.46,156.55,156.625,156.56,156.37,156.55,156.33,156.4,156.92,156.91,156.7,156.36,155.93,155.87,156.02,156.28,156.12,156.07,155.79]}];\n",
       "           var layout = {\"title\":\"5-min Bars for AAPL\",\"xaxis\":{\"title\":\"Time\",\"_isSubplotObj\":true},\"yaxis\":{\"title\":\"OHLC\",\"_isSubplotObj\":true}};\n",
       "           Plotly.newPlot('c8e7b4c5-8889-4049-8dcc-1c66096cfed0', data, layout);\n",
       "        \n",
       "});\n",
       "};\n",
       "// ensure `require` is available globally\n",
       "if ((typeof(require) !==  typeof(Function)) || (typeof(require.config) !== typeof(Function))) {\n",
       "    let require_script = document.createElement('script');\n",
       "    require_script.setAttribute('src', 'https://cdnjs.cloudflare.com/ajax/libs/require.js/2.3.6/require.min.js');\n",
       "    require_script.setAttribute('type', 'text/javascript');\n",
       "    \n",
       "    \n",
       "    require_script.onload = function() {\n",
       "        renderPlotly();\n",
       "    };\n",
       "\n",
       "    document.getElementsByTagName('head')[0].appendChild(require_script);\n",
       "}\n",
       "else {\n",
       "    renderPlotly();\n",
       "}\n",
       "\n",
       "</script>\n"
      ]
     },
     "metadata": {},
     "output_type": "display_data"
    }
   ],
   "source": [
    "// Plot selected bars\n",
    "bars \n",
    "|> Seq.map (fun b -> (b.TimeStamp.ToDateTime(), b.Open, b.High, b.Low, b.Close))\n",
    "|> Chart.Candlestick\n",
    "|> Chart.WithTitle $\"{sampling/60L}-min Bars for {ticker}\"\n",
    "|> Chart.WithXTitle \"Time\"\n",
    "|> Chart.WithYTitle \"OHLC\"\n",
    "|> Chart.WithWidth 1500\n",
    "|> Chart.WithHeight 800\n",
    "|> display"
   ]
  }
 ],
 "metadata": {
  "kernelspec": {
   "display_name": ".NET (F#)",
   "language": "F#",
   "name": ".net-fsharp"
  },
  "language_info": {
   "file_extension": ".fs",
   "mimetype": "text/x-fsharp",
   "name": "F#",
   "pygments_lexer": "fsharp",
   "version": "6.0"
  }
 },
 "nbformat": 4,
 "nbformat_minor": 4
}
