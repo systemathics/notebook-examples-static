{
 "cells": [
  {
   "cell_type": "markdown",
   "id": "direct-stamp",
   "metadata": {},
   "source": [
    "# Generate index weights open dedicated service - F#\n",
    "\n",
    "### Overview\n",
    "Reference data encompasses a wide range of specification data about:\n",
    "* financial instrument such as asset class, symbol, maturity, etc.\n",
    "* counterparties such as issuer information.\n",
    "* pricing such as Open, high low and close prices.\n",
    "\n",
    "The challenge with reference data is that it tends to be sourced from multiple sources: internal, counterparties and providers.\n",
    "\n",
    "Reference data dedicated service is a result of various data sources and fields sourcing, validation, cross-checking and normalization.<br>\n",
    "\n",
    "This sample requests **on-demand** exchange data and enables fields mapping by calling a dedicated static data service, making available clean data.\n",
    "\n",
    "### Inputs/outputs\n",
    "Index weights sample is designed to help you searching and requesting index components reference data by using a wide range of commonly used fields.\n",
    "\n",
    "It takes an index code as per input filter and returns index components and weights.\n",
    "\n",
    "### Services used\n",
    "This sample uses *gRPC requests* in order to retrieve index components and weights from the hosted service. The queried endpoint in this script are:\n",
    "* *ComponentsService*: to directly retrieve index data objects from the server\n",
    "\n",
    "### Packages required\n",
    "1. Systemathics packages:\n",
    "    * *Systemathics.Apis.Type.Shared.V1*\n",
    "    * *Systemathics.Apis.Services.Indices.V1*\n",
    "2. Open source packages\n",
    "    * *Google.Protobuf.WellKnownTypes*\n",
    "    * *Google.Type*\n",
    "    * *Grpc.Net.Client*\n",
    "    * *Grpc.Core*\n",
    "\n",
    "***"
   ]
  },
  {
   "cell_type": "markdown",
   "id": "quarterly-orientation",
   "metadata": {},
   "source": [
    "# Run Index weights sample"
   ]
  },
  {
   "cell_type": "markdown",
   "id": "norwegian-indonesia",
   "metadata": {},
   "source": [
    "### Step 1: Install packages"
   ]
  },
  {
   "cell_type": "code",
   "execution_count": 1,
   "id": "permanent-opinion",
   "metadata": {
    "dotnet_interactive": {
     "language": "fsharp"
    },
    "execution": {
     "iopub.execute_input": "2022-10-25T16:21:52.644469Z",
     "iopub.status.busy": "2022-10-25T16:21:52.635816Z",
     "iopub.status.idle": "2022-10-25T16:21:58.552706Z",
     "shell.execute_reply": "2022-10-25T16:21:58.539889Z"
    },
    "vscode": {
     "languageId": "dotnet-interactive.fsharp"
    }
   },
   "outputs": [
    {
     "data": {
      "text/html": [
       "\n",
       "<div>\n",
       "    <div id='dotnet-interactive-this-cell-22020.Microsoft.DotNet.Interactive.Http.HttpPort' style='display: none'>\n",
       "        The below script needs to be able to find the current output cell; this is an easy method to get it.\n",
       "    </div>\n",
       "    <script type='text/javascript'>\n",
       "async function probeAddresses(probingAddresses) {\n",
       "    function timeout(ms, promise) {\n",
       "        return new Promise(function (resolve, reject) {\n",
       "            setTimeout(function () {\n",
       "                reject(new Error('timeout'))\n",
       "            }, ms)\n",
       "            promise.then(resolve, reject)\n",
       "        })\n",
       "    }\n",
       "\n",
       "    if (Array.isArray(probingAddresses)) {\n",
       "        for (let i = 0; i < probingAddresses.length; i++) {\n",
       "\n",
       "            let rootUrl = probingAddresses[i];\n",
       "\n",
       "            if (!rootUrl.endsWith('/')) {\n",
       "                rootUrl = `${rootUrl}/`;\n",
       "            }\n",
       "\n",
       "            try {\n",
       "                let response = await timeout(1000, fetch(`${rootUrl}discovery`, {\n",
       "                    method: 'POST',\n",
       "                    cache: 'no-cache',\n",
       "                    mode: 'cors',\n",
       "                    timeout: 1000,\n",
       "                    headers: {\n",
       "                        'Content-Type': 'text/plain'\n",
       "                    },\n",
       "                    body: probingAddresses[i]\n",
       "                }));\n",
       "\n",
       "                if (response.status == 200) {\n",
       "                    return rootUrl;\n",
       "                }\n",
       "            }\n",
       "            catch (e) { }\n",
       "        }\n",
       "    }\n",
       "}\n",
       "\n",
       "function loadDotnetInteractiveApi() {\n",
       "    probeAddresses([\"http://172.28.169.63:2600/\", \"http://127.0.0.1:2600/\"])\n",
       "        .then((root) => {\n",
       "        // use probing to find host url and api resources\n",
       "        // load interactive helpers and language services\n",
       "        let dotnetInteractiveRequire = require.config({\n",
       "        context: '22020.Microsoft.DotNet.Interactive.Http.HttpPort',\n",
       "                paths:\n",
       "            {\n",
       "                'dotnet-interactive': `${root}resources`\n",
       "                }\n",
       "        }) || require;\n",
       "\n",
       "            window.dotnetInteractiveRequire = dotnetInteractiveRequire;\n",
       "\n",
       "            window.configureRequireFromExtension = function(extensionName, extensionCacheBuster) {\n",
       "                let paths = {};\n",
       "                paths[extensionName] = `${root}extensions/${extensionName}/resources/`;\n",
       "                \n",
       "                let internalRequire = require.config({\n",
       "                    context: extensionCacheBuster,\n",
       "                    paths: paths,\n",
       "                    urlArgs: `cacheBuster=${extensionCacheBuster}`\n",
       "                    }) || require;\n",
       "\n",
       "                return internalRequire\n",
       "            };\n",
       "        \n",
       "            dotnetInteractiveRequire([\n",
       "                    'dotnet-interactive/dotnet-interactive'\n",
       "                ],\n",
       "                function (dotnet) {\n",
       "                    dotnet.init(window);\n",
       "                },\n",
       "                function (error) {\n",
       "                    console.log(error);\n",
       "                }\n",
       "            );\n",
       "        })\n",
       "        .catch(error => {console.log(error);});\n",
       "    }\n",
       "\n",
       "// ensure `require` is available globally\n",
       "if ((typeof(require) !==  typeof(Function)) || (typeof(require.config) !== typeof(Function))) {\n",
       "    let require_script = document.createElement('script');\n",
       "    require_script.setAttribute('src', 'https://cdnjs.cloudflare.com/ajax/libs/require.js/2.3.6/require.min.js');\n",
       "    require_script.setAttribute('type', 'text/javascript');\n",
       "    \n",
       "    \n",
       "    require_script.onload = function() {\n",
       "        loadDotnetInteractiveApi();\n",
       "    };\n",
       "\n",
       "    document.getElementsByTagName('head')[0].appendChild(require_script);\n",
       "}\n",
       "else {\n",
       "    loadDotnetInteractiveApi();\n",
       "}\n",
       "\n",
       "    </script>\n",
       "</div>"
      ]
     },
     "metadata": {},
     "output_type": "display_data"
    },
    {
     "data": {
      "text/html": [
       "<div><div><strong>Restore sources</strong><ul><li><span> file://~/.nuget/packages/</span></li><li><span> https://api.nuget.org/v3/index.json</span></li></ul></div><div></div><div><strong>Installed Packages</strong><ul><li><span>CsvHelper, 29.0.0</span></li><li><span>Systemathics.Apis, 0.13.2-pre</span></li><li><span>XPlot.Plotly.Interactive, 4.0.6</span></li></ul></div></div>"
      ]
     },
     "metadata": {},
     "output_type": "display_data"
    },
    {
     "data": {
      "text/markdown": [
       "Loading extensions from `XPlot.Plotly.Interactive.dll`"
      ]
     },
     "metadata": {},
     "output_type": "display_data"
    },
    {
     "data": {
      "text/markdown": [
       "Configuring PowerShell Kernel for XPlot.Plotly integration."
      ]
     },
     "metadata": {},
     "output_type": "display_data"
    },
    {
     "data": {
      "text/markdown": [
       "Installed support for XPlot.Plotly."
      ]
     },
     "metadata": {},
     "output_type": "display_data"
    }
   ],
   "source": [
    "#i \"nuget: file://~/.nuget/packages/\"\n",
    "#i \"nuget: https://api.nuget.org/v3/index.json\"\n",
    "#r \"nuget: Systemathics.Apis, 0.*-pre*\"\n",
    "#r \"nuget: CsvHelper\"\n",
    "#r \"nuget: XPlot.Plotly.Interactive\""
   ]
  },
  {
   "cell_type": "code",
   "execution_count": 2,
   "id": "still-arrest",
   "metadata": {
    "dotnet_interactive": {
     "language": "fsharp"
    },
    "execution": {
     "iopub.execute_input": "2022-10-25T16:21:58.555387Z",
     "iopub.status.busy": "2022-10-25T16:21:58.555004Z",
     "iopub.status.idle": "2022-10-25T16:21:58.956364Z",
     "shell.execute_reply": "2022-10-25T16:21:58.956095Z"
    },
    "vscode": {
     "languageId": "dotnet-interactive.fsharp"
    }
   },
   "outputs": [],
   "source": [
    "open Systemathics.Apis.Helpers\n",
    "open Systemathics.Apis.Type.Shared.V1\n",
    "open Systemathics.Apis.Services.Indices.V1\n",
    "open Google.Protobuf.WellKnownTypes\n",
    "open Google.Type\n",
    "open Grpc.Net.Client\n",
    "open Grpc.Core\n",
    "// Import/export csv files\n",
    "open CsvHelper\n",
    "open System.IO\n",
    "open System.Globalization\n",
    "// Plot graphs\n",
    "open XPlot.Plotly\n",
    "open XPlot.Plotly.Interactive"
   ]
  },
  {
   "cell_type": "markdown",
   "id": "minimal-partition",
   "metadata": {},
   "source": [
    "### Step 2: Prepare API requests\n",
    "The following code snippets retrieve authentication token and prepare the API request by: opening the *channel* and adding the *token* to the request header:"
   ]
  },
  {
   "cell_type": "code",
   "execution_count": 3,
   "id": "endless-mother",
   "metadata": {
    "dotnet_interactive": {
     "language": "fsharp"
    },
    "execution": {
     "iopub.execute_input": "2022-10-25T16:21:58.958626Z",
     "iopub.status.busy": "2022-10-25T16:21:58.958061Z",
     "iopub.status.idle": "2022-10-25T16:21:59.539914Z",
     "shell.execute_reply": "2022-10-25T16:21:59.539638Z"
    },
    "vscode": {
     "languageId": "dotnet-interactive.fsharp"
    }
   },
   "outputs": [],
   "source": [
    "// Get token as metadata\n",
    "let headers = TokenHelpers.GetTokenAsMetaData();\n",
    "\n",
    "// Create communication channel\n",
    "let channel = ChannelHelpers.GetChannel();"
   ]
  },
  {
   "cell_type": "markdown",
   "id": "coastal-tanzania",
   "metadata": {},
   "source": [
    "### Step 3: Request creation"
   ]
  },
  {
   "cell_type": "markdown",
   "id": "pleased-career",
   "metadata": {},
   "source": [
    "The following code snippet enables to select the **index** by its *Name*:"
   ]
  },
  {
   "cell_type": "code",
   "execution_count": 4,
   "id": "incident-pollution",
   "metadata": {
    "dotnet_interactive": {
     "language": "fsharp"
    },
    "execution": {
     "iopub.execute_input": "2022-10-25T16:21:59.542380Z",
     "iopub.status.busy": "2022-10-25T16:21:59.541734Z",
     "iopub.status.idle": "2022-10-25T16:21:59.567610Z",
     "shell.execute_reply": "2022-10-25T16:21:59.567362Z"
    },
    "vscode": {
     "languageId": "dotnet-interactive.fsharp"
    }
   },
   "outputs": [],
   "source": [
    "// Set index name\n",
    "let index = \"nasdaq 100\""
   ]
  },
  {
   "cell_type": "markdown",
   "id": "prospective-constitutional",
   "metadata": {},
   "source": [
    "The following code snippets call the service, generate the request and return the reply: "
   ]
  },
  {
   "cell_type": "code",
   "execution_count": 5,
   "id": "incredible-farming",
   "metadata": {
    "dotnet_interactive": {
     "language": "fsharp"
    },
    "execution": {
     "iopub.execute_input": "2022-10-25T16:21:59.569656Z",
     "iopub.status.busy": "2022-10-25T16:21:59.569341Z",
     "iopub.status.idle": "2022-10-25T16:22:00.454973Z",
     "shell.execute_reply": "2022-10-25T16:22:00.454587Z"
    },
    "vscode": {
     "languageId": "dotnet-interactive.fsharp"
    }
   },
   "outputs": [
    {
     "data": {
      "text/html": [
       "<table><thead><tr><th><i>index</i></th><th>Identifier</th><th>Weight</th></tr></thead><tbody><tr><td>0</td><td><table><thead><tr><th>Exchange</th><th>Ticker</th><th>Provider</th></tr></thead><tbody><tr><td><div class=\"dni-plaintext\">XNGS</div></td><td><div class=\"dni-plaintext\">WBA</div></td><td><div class=\"dni-plaintext\">ICE</div></td></tr></tbody></table></td><td><div class=\"dni-plaintext\">0.286</div></td></tr><tr><td>1</td><td><table><thead><tr><th>Exchange</th><th>Ticker</th><th>Provider</th></tr></thead><tbody><tr><td><div class=\"dni-plaintext\">XNGS</div></td><td><div class=\"dni-plaintext\">AAPL</div></td><td><div class=\"dni-plaintext\">ICE</div></td></tr></tbody></table></td><td><div class=\"dni-plaintext\">13.752</div></td></tr><tr><td>2</td><td><table><thead><tr><th>Exchange</th><th>Ticker</th><th>Provider</th></tr></thead><tbody><tr><td><div class=\"dni-plaintext\">XNGS</div></td><td><div class=\"dni-plaintext\">PCAR</div></td><td><div class=\"dni-plaintext\">ICE</div></td></tr></tbody></table></td><td><div class=\"dni-plaintext\">0.302</div></td></tr><tr><td>3</td><td><table><thead><tr><th>Exchange</th><th>Ticker</th><th>Provider</th></tr></thead><tbody><tr><td><div class=\"dni-plaintext\">XNGS</div></td><td><div class=\"dni-plaintext\">ANSS</div></td><td><div class=\"dni-plaintext\">ICE</div></td></tr></tbody></table></td><td><div class=\"dni-plaintext\">0.18</div></td></tr><tr><td>4</td><td><table><thead><tr><th>Exchange</th><th>Ticker</th><th>Provider</th></tr></thead><tbody><tr><td><div class=\"dni-plaintext\">XNGS</div></td><td><div class=\"dni-plaintext\">AEP</div></td><td><div class=\"dni-plaintext\">ICE</div></td></tr></tbody></table></td><td><div class=\"dni-plaintext\">0.424</div></td></tr><tr><td>5</td><td><table><thead><tr><th>Exchange</th><th>Ticker</th><th>Provider</th></tr></thead><tbody><tr><td><div class=\"dni-plaintext\">XNGS</div></td><td><div class=\"dni-plaintext\">WDAY</div></td><td><div class=\"dni-plaintext\">ICE</div></td></tr></tbody></table></td><td><div class=\"dni-plaintext\">0.29</div></td></tr><tr><td>6</td><td><table><thead><tr><th>Exchange</th><th>Ticker</th><th>Provider</th></tr></thead><tbody><tr><td><div class=\"dni-plaintext\">XNGS</div></td><td><div class=\"dni-plaintext\">ROST</div></td><td><div class=\"dni-plaintext\">ICE</div></td></tr></tbody></table></td><td><div class=\"dni-plaintext\">0.287</div></td></tr><tr><td>7</td><td><table><thead><tr><th>Exchange</th><th>Ticker</th><th>Provider</th></tr></thead><tbody><tr><td><div class=\"dni-plaintext\">XNGS</div></td><td><div class=\"dni-plaintext\">MELI</div></td><td><div class=\"dni-plaintext\">ICE</div></td></tr></tbody></table></td><td><div class=\"dni-plaintext\">0.41</div></td></tr><tr><td>8</td><td><table><thead><tr><th>Exchange</th><th>Ticker</th><th>Provider</th></tr></thead><tbody><tr><td><div class=\"dni-plaintext\">XNGS</div></td><td><div class=\"dni-plaintext\">LCID</div></td><td><div class=\"dni-plaintext\">ICE</div></td></tr></tbody></table></td><td><div class=\"dni-plaintext\">0.215</div></td></tr><tr><td>9</td><td><table><thead><tr><th>Exchange</th><th>Ticker</th><th>Provider</th></tr></thead><tbody><tr><td><div class=\"dni-plaintext\">XNGS</div></td><td><div class=\"dni-plaintext\">CPRT</div></td><td><div class=\"dni-plaintext\">ICE</div></td></tr></tbody></table></td><td><div class=\"dni-plaintext\">0.251</div></td></tr><tr><td>10</td><td><table><thead><tr><th>Exchange</th><th>Ticker</th><th>Provider</th></tr></thead><tbody><tr><td><div class=\"dni-plaintext\">XNGS</div></td><td><div class=\"dni-plaintext\">MCHP</div></td><td><div class=\"dni-plaintext\">ICE</div></td></tr></tbody></table></td><td><div class=\"dni-plaintext\">0.329</div></td></tr><tr><td>11</td><td><table><thead><tr><th>Exchange</th><th>Ticker</th><th>Provider</th></tr></thead><tbody><tr><td><div class=\"dni-plaintext\">XXXX</div></td><td><div class=\"dni-plaintext\">CEG</div></td><td><div class=\"dni-plaintext\">ICE</div></td></tr></tbody></table></td><td><div class=\"dni-plaintext\">0.275</div></td></tr><tr><td>12</td><td><table><thead><tr><th>Exchange</th><th>Ticker</th><th>Provider</th></tr></thead><tbody><tr><td><div class=\"dni-plaintext\">XNGS</div></td><td><div class=\"dni-plaintext\">MTCH</div></td><td><div class=\"dni-plaintext\">ICE</div></td></tr></tbody></table></td><td><div class=\"dni-plaintext\">0.117</div></td></tr><tr><td>13</td><td><table><thead><tr><th>Exchange</th><th>Ticker</th><th>Provider</th></tr></thead><tbody><tr><td><div class=\"dni-plaintext\">XNGS</div></td><td><div class=\"dni-plaintext\">ADP</div></td><td><div class=\"dni-plaintext\">ICE</div></td></tr></tbody></table></td><td><div class=\"dni-plaintext\">0.932</div></td></tr><tr><td>14</td><td><table><thead><tr><th>Exchange</th><th>Ticker</th><th>Provider</th></tr></thead><tbody><tr><td><div class=\"dni-plaintext\">XNGS</div></td><td><div class=\"dni-plaintext\">EA</div></td><td><div class=\"dni-plaintext\">ICE</div></td></tr></tbody></table></td><td><div class=\"dni-plaintext\">0.335</div></td></tr><tr><td>15</td><td><table><thead><tr><th>Exchange</th><th>Ticker</th><th>Provider</th></tr></thead><tbody><tr><td><div class=\"dni-plaintext\">XNGS</div></td><td><div class=\"dni-plaintext\">KHC</div></td><td><div class=\"dni-plaintext\">ICE</div></td></tr></tbody></table></td><td><div class=\"dni-plaintext\">0.416</div></td></tr><tr><td>16</td><td><table><thead><tr><th>Exchange</th><th>Ticker</th><th>Provider</th></tr></thead><tbody><tr><td><div class=\"dni-plaintext\">XNGS</div></td><td><div class=\"dni-plaintext\">ADI</div></td><td><div class=\"dni-plaintext\">ICE</div></td></tr></tbody></table></td><td><div class=\"dni-plaintext\">0.727</div></td></tr><tr><td>17</td><td><table><thead><tr><th>Exchange</th><th>Ticker</th><th>Provider</th></tr></thead><tbody><tr><td><div class=\"dni-plaintext\">XNGS</div></td><td><div class=\"dni-plaintext\">PAYX</div></td><td><div class=\"dni-plaintext\">ICE</div></td></tr></tbody></table></td><td><div class=\"dni-plaintext\">0.389</div></td></tr><tr><td>18</td><td><table><thead><tr><th>Exchange</th><th>Ticker</th><th>Provider</th></tr></thead><tbody><tr><td><div class=\"dni-plaintext\">XNGS</div></td><td><div class=\"dni-plaintext\">NTES</div></td><td><div class=\"dni-plaintext\">ICE</div></td></tr></tbody></table></td><td><div class=\"dni-plaintext\">0.098</div></td></tr><tr><td>19</td><td><table><thead><tr><th>Exchange</th><th>Ticker</th><th>Provider</th></tr></thead><tbody><tr><td><div class=\"dni-plaintext\">XNGS</div></td><td><div class=\"dni-plaintext\">BIDU</div></td><td><div class=\"dni-plaintext\">ICE</div></td></tr></tbody></table></td><td><div class=\"dni-plaintext\">0.16</div></td></tr><tr><td colspan=\"3\"><i>(82 more)</i></td></tr></tbody></table>"
      ]
     },
     "metadata": {},
     "output_type": "display_data"
    }
   ],
   "source": [
    "// Instantiate the indice components service\n",
    "let service = new ComponentsService.ComponentsServiceClient(channel)\n",
    "\n",
    "// Generate the indice components request\n",
    "let request = new ComponentsRequest( Identifier = index )\n",
    "\n",
    "// Process the indice components response\n",
    "let reply = service.Components(request, headers)\n",
    "\n",
    "// Display the results\n",
    "display(reply.Components)"
   ]
  },
  {
   "cell_type": "markdown",
   "id": "intermediate-humanitarian",
   "metadata": {},
   "source": [
    "### Step 4: Retrieve index data"
   ]
  },
  {
   "cell_type": "markdown",
   "id": "metric-trash",
   "metadata": {},
   "source": [
    "#### 4.1 Export index data"
   ]
  },
  {
   "cell_type": "markdown",
   "id": "binding-detail",
   "metadata": {},
   "source": [
    "The following code snippet exports index data to a *csv file*:"
   ]
  },
  {
   "cell_type": "code",
   "execution_count": 6,
   "id": "neither-inspection",
   "metadata": {
    "dotnet_interactive": {
     "language": "fsharp"
    },
    "execution": {
     "iopub.execute_input": "2022-10-25T16:22:00.457211Z",
     "iopub.status.busy": "2022-10-25T16:22:00.456900Z",
     "iopub.status.idle": "2022-10-25T16:22:00.923498Z",
     "shell.execute_reply": "2022-10-25T16:22:00.923228Z"
    },
    "vscode": {
     "languageId": "dotnet-interactive.fsharp"
    }
   },
   "outputs": [],
   "source": [
    "let d = new DirectoryInfo(\"output\") \n",
    "d.Create()\n",
    "let write instruments =\n",
    "    let writeRecords (csv : CsvWriter) i =\n",
    "        csv.WriteRecords(i)\n",
    "    let write' (writer : StreamWriter )  i =\n",
    "        using (new CsvWriter(writer, CultureInfo.InvariantCulture)) (fun csv -> writeRecords csv i )\n",
    "    using (new StreamWriter($\"output/{index}.csv\")) (fun writer -> write' writer instruments)\n",
    "\n",
    "\n",
    "reply.Components\n",
    "|> write"
   ]
  },
  {
   "cell_type": "markdown",
   "id": "presidential-economy",
   "metadata": {},
   "source": [
    "#### 4.2 Visualize index data"
   ]
  },
  {
   "cell_type": "markdown",
   "id": "progressive-requirement",
   "metadata": {},
   "source": [
    "The following code snippet displays index components and weights. <br>*`XPlot.Plotly`* is used as per open source display package. "
   ]
  },
  {
   "cell_type": "code",
   "execution_count": 7,
   "id": "quick-visiting",
   "metadata": {
    "dotnet_interactive": {
     "language": "fsharp"
    },
    "execution": {
     "iopub.execute_input": "2022-10-25T16:22:00.926406Z",
     "iopub.status.busy": "2022-10-25T16:22:00.925692Z",
     "iopub.status.idle": "2022-10-25T16:22:01.156360Z",
     "shell.execute_reply": "2022-10-25T16:22:01.156730Z"
    },
    "vscode": {
     "languageId": "dotnet-interactive.fsharp"
    }
   },
   "outputs": [
    {
     "data": {
      "text/html": [
       "<!DOCTYPE html>\n",
       "<div style=\"width: 1500px; height: 800px;\" id=\"164fae17-0add-47c4-8c8b-99a0d546ec03\"></div><script type=\"text/javascript\">\n",
       "\n",
       "var renderPlotly = function() {\n",
       "    var xplotRequire = require.config({context:'xplot-3.0.1',paths:{plotly:'https://cdn.plot.ly/plotly-1.49.2.min'}}) || require;\n",
       "    xplotRequire(['plotly'], function(Plotly) { \n",
       "\n",
       "            var data = [{\"type\":\"pie\",\"labels\":[\"WBA\",\"AAPL\",\"PCAR\",\"ANSS\",\"AEP\",\"WDAY\",\"ROST\",\"MELI\",\"LCID\",\"CPRT\",\"MCHP\",\"CEG\",\"MTCH\",\"ADP\",\"EA\",\"KHC\",\"ADI\",\"PAYX\",\"NTES\",\"BIDU\",\"CTSH\",\"FAST\",\"NVDA\",\"SIRI\",\"SPLK\",\"FTNT\",\"PEP\",\"COST\",\"ADSK\",\"KLAC\",\"NXPI\",\"SGEN\",\"SWKS\",\"MNST\",\"ASML\",\"CHTR\",\"INTC\",\"OKTA\",\"ADBE\",\"PANW\",\"ZS\",\"LRCX\",\"HON\",\"AMZN\",\"META\",\"DLTR\",\"SNPS\",\"AVGO\",\"FISV\",\"TEAM\",\"ISRG\",\"CMCSA\",\"DDOG\",\"DXCM\",\"GOOG\",\"TSLA\",\"GILD\",\"CTAS\",\"VRSN\",\"EBAY\",\"ATVI\",\"AMAT\",\"LULU\",\"PYPL\",\"CDNS\",\"QCOM\",\"DOCU\",\"AMGN\",\"AMD\",\"INTU\",\"MRNA\",\"NFLX\",\"KDP\",\"JD\",\"ABNB\",\"VRTX\",\"GOOGL\",\"TXN\",\"PDD\",\"CSX\",\"ORLY\",\"REGN\",\"ZM\",\"BIIB\",\"MDLZ\",\"BKNG\",\"MRVL\",\"CRWD\",\"MAR\",\"CSCO\",\"ILMN\",\"EXC\",\"SBUX\",\"TMUS\",\"MSFT\",\"ALGN\",\"XEL\",\"AZN\",\"ODFL\",\"IDXX\",\"MU\",\"VRSK\"],\"values\":[0.286,13.752,0.302,0.18,0.424,0.29,0.287,0.41,0.215,0.251,0.329,0.275,0.117,0.932,0.335,0.416,0.727,0.389,0.098,0.16,0.301,0.255,2.538,0.232,0.124,0.409,2.302,2.042,0.419,0.397,0.368,0.229,0.13,0.445,0.384,0.512,1.068,0.08,1.382,0.467,0.206,0.488,1.187,7.063,2.58,0.31,0.437,1.756,0.596,0.271,0.752,1.294,0.23,0.362,3.634,3.873,0.819,0.393,0.185,0.203,0.548,0.684,0.352,0.936,0.418,1.253,0.092,1.299,0.915,1.134,0.484,1.241,0.514,0.205,0.462,0.742,3.523,1.407,0.266,0.568,0.454,0.738,0.196,0.374,0.758,0.698,0.325,0.324,0.48,1.709,0.334,0.352,0.98,1.65,10.492,0.156,0.321,0.314,0.281,0.271,0.596,0.253]}];\n",
       "           var layout = {\"title\":\"nasdaq 100 components and weights\"};\n",
       "           Plotly.newPlot('164fae17-0add-47c4-8c8b-99a0d546ec03', data, layout);\n",
       "        \n",
       "});\n",
       "};\n",
       "// ensure `require` is available globally\n",
       "if ((typeof(require) !==  typeof(Function)) || (typeof(require.config) !== typeof(Function))) {\n",
       "    let require_script = document.createElement('script');\n",
       "    require_script.setAttribute('src', 'https://cdnjs.cloudflare.com/ajax/libs/require.js/2.3.6/require.min.js');\n",
       "    require_script.setAttribute('type', 'text/javascript');\n",
       "    \n",
       "    \n",
       "    require_script.onload = function() {\n",
       "        renderPlotly();\n",
       "    };\n",
       "\n",
       "    document.getElementsByTagName('head')[0].appendChild(require_script);\n",
       "}\n",
       "else {\n",
       "    renderPlotly();\n",
       "}\n",
       "\n",
       "</script>\n"
      ]
     },
     "metadata": {},
     "output_type": "display_data"
    }
   ],
   "source": [
    "reply.Components\n",
    "|> Seq.map (fun elt -> (elt.Identifier.Ticker, elt.Weight))\n",
    "|> Chart.Pie\n",
    "|> Chart.WithTitle $\"{index} components and weights\"\n",
    "|> Chart.WithWidth 1500\n",
    "|> Chart.WithHeight 800\n",
    "|> display\n",
    "\n"
   ]
  }
 ],
 "metadata": {
  "kernelspec": {
   "display_name": ".NET (F#)",
   "language": "F#",
   "name": ".net-fsharp"
  },
  "language_info": {
   "file_extension": ".fs",
   "mimetype": "text/x-fsharp",
   "name": "F#",
   "pygments_lexer": "fsharp",
   "version": "6.0"
  }
 },
 "nbformat": 4,
 "nbformat_minor": 5
}
