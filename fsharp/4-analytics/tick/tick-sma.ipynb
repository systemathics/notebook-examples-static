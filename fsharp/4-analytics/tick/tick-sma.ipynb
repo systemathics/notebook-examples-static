{
 "cells": [
  {
   "cell_type": "markdown",
   "id": "exposed-blink",
   "metadata": {},
   "source": [
    "# Generate SMA using dedicated service - F#\n",
    "\n",
    "### Overview\n",
    "Moving averages smooth the price movements by filtering out the \"noise\" caused by short-term price fluctuations.They also form the building blocks for a wide range of technical indicators.\n",
    "\n",
    "Computing moving averages over a defined number of time periods is useful to:\n",
    "* identify the trend direction\n",
    "* determine support and resistance levels\n",
    "\n",
    "This sample demonstrates how to request and plot **on-demand** *simple moving average - SMA* from a dedicated data service.\n",
    "\n",
    "### Inputs/outputs\n",
    "Simple moving averages' requests require instrument's identifier, date time intervals and number of periods as per inputs.\n",
    "\n",
    "Basically, SMA is formed by computing the average price of a security over a specific number of points. As its name implies, simple moving average is an average that moves. Old data is dropped and new data becomes available, causing the average to move along the time.\n",
    "\n",
    "N-points SMA data point is computed by adding up the last N period's trade prices and then dividing by N as follows:\n",
    "\n",
    "$$ SMA = \\frac{\\Sigma Price n}{N} $$\n",
    "Where:\n",
    "* *Price n* is the trade price of the *period n*\n",
    "* *N* is the count of time periods\n",
    "\n",
    "This sample shows how to plot a simple graph for basis technical analysis using an open source library. \n",
    "\n",
    "### Services used\n",
    "This sample uses *gRPC requests* in order to retrieve SMA indicator from the hosted service. The queried endpoint in this script are:\n",
    "* *TickSmaService*: to directly retrieve SMA data from the server\n",
    "\n",
    "### Packages required\n",
    "1. Systemathics packages:\n",
    "    * *Systemathics.Apis.Type.Shared.V1*\n",
    "    * *Systemathics.Apis.Services.TickAnalytics.V1*\n",
    "2. Open source packages\n",
    "    * *Google.Protobuf.WellKnownTypes*\n",
    "    * *Google.Type*\n",
    "    * *Grpc.Net.Client*\n",
    "    * *Grpc.Core*\n",
    "    * *XPlot.Plotly* as per display package\n",
    "\n",
    "***"
   ]
  },
  {
   "cell_type": "markdown",
   "id": "reasonable-adobe",
   "metadata": {},
   "source": [
    "# Run SMA sample"
   ]
  },
  {
   "cell_type": "markdown",
   "id": "radio-position",
   "metadata": {},
   "source": [
    "### Step 1: Install packages"
   ]
  },
  {
   "cell_type": "code",
   "execution_count": 1,
   "id": "fatal-steal",
   "metadata": {
    "dotnet_interactive": {
     "language": "fsharp"
    },
    "execution": {
     "iopub.execute_input": "2022-10-25T16:24:43.560612Z",
     "iopub.status.busy": "2022-10-25T16:24:43.551760Z",
     "iopub.status.idle": "2022-10-25T16:24:49.602592Z",
     "shell.execute_reply": "2022-10-25T16:24:49.594749Z"
    }
   },
   "outputs": [
    {
     "data": {
      "text/html": [
       "\n",
       "<div>\n",
       "    <div id='dotnet-interactive-this-cell-23796.Microsoft.DotNet.Interactive.Http.HttpPort' style='display: none'>\n",
       "        The below script needs to be able to find the current output cell; this is an easy method to get it.\n",
       "    </div>\n",
       "    <script type='text/javascript'>\n",
       "async function probeAddresses(probingAddresses) {\n",
       "    function timeout(ms, promise) {\n",
       "        return new Promise(function (resolve, reject) {\n",
       "            setTimeout(function () {\n",
       "                reject(new Error('timeout'))\n",
       "            }, ms)\n",
       "            promise.then(resolve, reject)\n",
       "        })\n",
       "    }\n",
       "\n",
       "    if (Array.isArray(probingAddresses)) {\n",
       "        for (let i = 0; i < probingAddresses.length; i++) {\n",
       "\n",
       "            let rootUrl = probingAddresses[i];\n",
       "\n",
       "            if (!rootUrl.endsWith('/')) {\n",
       "                rootUrl = `${rootUrl}/`;\n",
       "            }\n",
       "\n",
       "            try {\n",
       "                let response = await timeout(1000, fetch(`${rootUrl}discovery`, {\n",
       "                    method: 'POST',\n",
       "                    cache: 'no-cache',\n",
       "                    mode: 'cors',\n",
       "                    timeout: 1000,\n",
       "                    headers: {\n",
       "                        'Content-Type': 'text/plain'\n",
       "                    },\n",
       "                    body: probingAddresses[i]\n",
       "                }));\n",
       "\n",
       "                if (response.status == 200) {\n",
       "                    return rootUrl;\n",
       "                }\n",
       "            }\n",
       "            catch (e) { }\n",
       "        }\n",
       "    }\n",
       "}\n",
       "\n",
       "function loadDotnetInteractiveApi() {\n",
       "    probeAddresses([\"http://172.28.169.63:1257/\", \"http://127.0.0.1:1257/\"])\n",
       "        .then((root) => {\n",
       "        // use probing to find host url and api resources\n",
       "        // load interactive helpers and language services\n",
       "        let dotnetInteractiveRequire = require.config({\n",
       "        context: '23796.Microsoft.DotNet.Interactive.Http.HttpPort',\n",
       "                paths:\n",
       "            {\n",
       "                'dotnet-interactive': `${root}resources`\n",
       "                }\n",
       "        }) || require;\n",
       "\n",
       "            window.dotnetInteractiveRequire = dotnetInteractiveRequire;\n",
       "\n",
       "            window.configureRequireFromExtension = function(extensionName, extensionCacheBuster) {\n",
       "                let paths = {};\n",
       "                paths[extensionName] = `${root}extensions/${extensionName}/resources/`;\n",
       "                \n",
       "                let internalRequire = require.config({\n",
       "                    context: extensionCacheBuster,\n",
       "                    paths: paths,\n",
       "                    urlArgs: `cacheBuster=${extensionCacheBuster}`\n",
       "                    }) || require;\n",
       "\n",
       "                return internalRequire\n",
       "            };\n",
       "        \n",
       "            dotnetInteractiveRequire([\n",
       "                    'dotnet-interactive/dotnet-interactive'\n",
       "                ],\n",
       "                function (dotnet) {\n",
       "                    dotnet.init(window);\n",
       "                },\n",
       "                function (error) {\n",
       "                    console.log(error);\n",
       "                }\n",
       "            );\n",
       "        })\n",
       "        .catch(error => {console.log(error);});\n",
       "    }\n",
       "\n",
       "// ensure `require` is available globally\n",
       "if ((typeof(require) !==  typeof(Function)) || (typeof(require.config) !== typeof(Function))) {\n",
       "    let require_script = document.createElement('script');\n",
       "    require_script.setAttribute('src', 'https://cdnjs.cloudflare.com/ajax/libs/require.js/2.3.6/require.min.js');\n",
       "    require_script.setAttribute('type', 'text/javascript');\n",
       "    \n",
       "    \n",
       "    require_script.onload = function() {\n",
       "        loadDotnetInteractiveApi();\n",
       "    };\n",
       "\n",
       "    document.getElementsByTagName('head')[0].appendChild(require_script);\n",
       "}\n",
       "else {\n",
       "    loadDotnetInteractiveApi();\n",
       "}\n",
       "\n",
       "    </script>\n",
       "</div>"
      ]
     },
     "metadata": {},
     "output_type": "display_data"
    },
    {
     "data": {
      "text/html": [
       "<div><div><strong>Restore sources</strong><ul><li><span> file://~/.nuget/packages/</span></li><li><span> https://api.nuget.org/v3/index.json</span></li></ul></div><div></div><div><strong>Installed Packages</strong><ul><li><span>Systemathics.Apis, 0.13.2-pre</span></li><li><span>TaskBuilder.fs, 2.1.0</span></li><li><span>XPlot.Plotly.Interactive, 4.0.6</span></li></ul></div></div>"
      ]
     },
     "metadata": {},
     "output_type": "display_data"
    },
    {
     "data": {
      "text/markdown": [
       "Loading extensions from `XPlot.Plotly.Interactive.dll`"
      ]
     },
     "metadata": {},
     "output_type": "display_data"
    },
    {
     "data": {
      "text/markdown": [
       "Configuring PowerShell Kernel for XPlot.Plotly integration."
      ]
     },
     "metadata": {},
     "output_type": "display_data"
    },
    {
     "data": {
      "text/markdown": [
       "Installed support for XPlot.Plotly."
      ]
     },
     "metadata": {},
     "output_type": "display_data"
    }
   ],
   "source": [
    "#i \"nuget: file://~/.nuget/packages/\"\n",
    "#i \"nuget: https://api.nuget.org/v3/index.json\"\n",
    "#r \"nuget: Systemathics.Apis, 0.*-pre*\"\n",
    "#r \"nuget: XPlot.Plotly.Interactive\"\n",
    "#r \"nuget: TaskBuilder.fs\""
   ]
  },
  {
   "cell_type": "code",
   "execution_count": 2,
   "id": "going-current",
   "metadata": {
    "dotnet_interactive": {
     "language": "fsharp"
    },
    "execution": {
     "iopub.execute_input": "2022-10-25T16:24:49.605731Z",
     "iopub.status.busy": "2022-10-25T16:24:49.605179Z",
     "iopub.status.idle": "2022-10-25T16:24:50.025452Z",
     "shell.execute_reply": "2022-10-25T16:24:50.025197Z"
    }
   },
   "outputs": [],
   "source": [
    "open Systemathics.Apis.Helpers\n",
    "open Systemathics.Apis.Type.Shared.V1\n",
    "open Systemathics.Apis.Services.TickAnalytics.V1\n",
    "open Google.Protobuf.WellKnownTypes\n",
    "open Google.Type\n",
    "open Grpc.Core\n",
    "open Grpc.Net.Client\n",
    "open XPlot.Plotly\n",
    "open XPlot.Plotly.Interactive"
   ]
  },
  {
   "cell_type": "markdown",
   "id": "chief-oxygen",
   "metadata": {},
   "source": [
    "### Step 2: Prepare API requests\n",
    "The following code snippets retrieve authentication token and prepare the API request by: opening the *channel* and adding the *token* to the request header:"
   ]
  },
  {
   "cell_type": "code",
   "execution_count": 3,
   "id": "cubic-affair",
   "metadata": {
    "dotnet_interactive": {
     "language": "fsharp"
    },
    "execution": {
     "iopub.execute_input": "2022-10-25T16:24:50.027349Z",
     "iopub.status.busy": "2022-10-25T16:24:50.027011Z",
     "iopub.status.idle": "2022-10-25T16:24:50.595882Z",
     "shell.execute_reply": "2022-10-25T16:24:50.595409Z"
    }
   },
   "outputs": [],
   "source": [
    "// Get token as metadata\n",
    "let headers = TokenHelpers.GetTokenAsMetaData();\n",
    "\n",
    "// Create communication channel\n",
    "let channel = ChannelHelpers.GetChannel();"
   ]
  },
  {
   "cell_type": "markdown",
   "id": "complete-fellow",
   "metadata": {},
   "source": [
    "### Step 3: Create and process request\n",
    "To request *SMA* service, we need to specify:\n",
    "* Instrument identifier\n",
    "* Time period selection: select start and end dates\n",
    "* Simple moving average request parameters"
   ]
  },
  {
   "cell_type": "markdown",
   "id": "fluid-intervention",
   "metadata": {},
   "source": [
    "#### 3.1 Instrument selection"
   ]
  },
  {
   "cell_type": "code",
   "execution_count": 4,
   "id": "fundamental-worth",
   "metadata": {
    "dotnet_interactive": {
     "language": "fsharp"
    },
    "execution": {
     "iopub.execute_input": "2022-10-25T16:24:50.598400Z",
     "iopub.status.busy": "2022-10-25T16:24:50.597841Z",
     "iopub.status.idle": "2022-10-25T16:24:50.622689Z",
     "shell.execute_reply": "2022-10-25T16:24:50.622442Z"
    }
   },
   "outputs": [],
   "source": [
    "let ticker = \"AAPL\"\n",
    "let exchange = \"BATS\""
   ]
  },
  {
   "cell_type": "markdown",
   "id": "incoming-cemetery",
   "metadata": {},
   "source": [
    "#### 3.2 SMA parameters"
   ]
  },
  {
   "cell_type": "code",
   "execution_count": 5,
   "id": "aboriginal-newsletter",
   "metadata": {
    "dotnet_interactive": {
     "language": "fsharp"
    },
    "execution": {
     "iopub.execute_input": "2022-10-25T16:24:50.624704Z",
     "iopub.status.busy": "2022-10-25T16:24:50.624367Z",
     "iopub.status.idle": "2022-10-25T16:24:50.780998Z",
     "shell.execute_reply": "2022-10-25T16:24:50.780745Z"
    }
   },
   "outputs": [],
   "source": [
    "let field = SmaPrice.Trade\n",
    "let longSma = 200\n",
    "let shortSma = 50\n",
    "let sampling = new Duration ( Seconds = 60L )"
   ]
  },
  {
   "cell_type": "markdown",
   "id": "virgin-angola",
   "metadata": {},
   "source": [
    "#### 3.3 Time period delimitation"
   ]
  },
  {
   "cell_type": "code",
   "execution_count": 6,
   "id": "previous-record",
   "metadata": {
    "dotnet_interactive": {
     "language": "fsharp"
    },
    "execution": {
     "iopub.execute_input": "2022-10-25T16:24:50.783628Z",
     "iopub.status.busy": "2022-10-25T16:24:50.783280Z",
     "iopub.status.idle": "2022-10-25T16:24:50.807658Z",
     "shell.execute_reply": "2022-10-25T16:24:50.807409Z"
    }
   },
   "outputs": [],
   "source": [
    "// Build the bars request date interval (we are using Google date time format : we have to cast the dates)\n",
    "let dateIntervals = \n",
    "  new DateInterval(\n",
    "    StartDate = new Date ( Year = 2020, Month = 02, Day = 18 ),\n",
    "    EndDate = new Date ( Year = 2020, Month = 02, Day = 18 )\n",
    "  )\n",
    "\n",
    "// Build the bars request time interval (we are using Google date time format : we have to cast the dates)\n",
    "// UTC time zone\n",
    "let timeInterval = \n",
    "  new TimeInterval(\n",
    "    StartTime = new TimeOfDay ( Hours = 08, Minutes = 00, Seconds = 00 ),\n",
    "    EndTime = new TimeOfDay ( Hours = 20, Minutes = 00, Seconds = 00 ) \n",
    "  )"
   ]
  },
  {
   "cell_type": "markdown",
   "id": "residential-registrar",
   "metadata": {},
   "source": [
    "#### 3.4 Request creation\n",
    "The following code snippets creates *gRPC client*, process request and returns the request reply:"
   ]
  },
  {
   "cell_type": "code",
   "execution_count": 7,
   "id": "muslim-mobile",
   "metadata": {
    "dotnet_interactive": {
     "language": "fsharp"
    },
    "execution": {
     "iopub.execute_input": "2022-10-25T16:24:50.809690Z",
     "iopub.status.busy": "2022-10-25T16:24:50.809377Z",
     "iopub.status.idle": "2022-10-25T16:24:50.866868Z",
     "shell.execute_reply": "2022-10-25T16:24:50.866621Z"
    }
   },
   "outputs": [],
   "source": [
    "// Generate constraints based on the previous time selection:\n",
    "let constraints = new Constraints()\n",
    "constraints.DateIntervals.Add(dateIntervals)\n",
    "constraints.TimeIntervals.Add(timeInterval)   "
   ]
  },
  {
   "cell_type": "markdown",
   "id": "automotive-uncle",
   "metadata": {},
   "source": [
    "The following code snippets create requests for: *Long SMA*, *Short SMA* and *Prices*:"
   ]
  },
  {
   "cell_type": "code",
   "execution_count": 8,
   "id": "needed-philippines",
   "metadata": {
    "dotnet_interactive": {
     "language": "fsharp"
    },
    "execution": {
     "iopub.execute_input": "2022-10-25T16:24:50.869243Z",
     "iopub.status.busy": "2022-10-25T16:24:50.868812Z",
     "iopub.status.idle": "2022-10-25T16:24:50.901246Z",
     "shell.execute_reply": "2022-10-25T16:24:50.900992Z"
    }
   },
   "outputs": [],
   "source": [
    "// Generate 200-points SMA request\n",
    "let smaLongRequest = \n",
    "    new TickSmaRequest(\n",
    "        Identifier = new Identifier ( Exchange = exchange, Ticker = ticker), \n",
    "        Constraints = constraints,  \n",
    "        Field = field,\n",
    "        Length = longSma, \n",
    "        Sampling = sampling\n",
    "    )\n",
    "\n",
    "// Generate 50-points SMA request\n",
    "let smaShortRequest = \n",
    "    new TickSmaRequest(\n",
    "        Identifier = new Identifier ( Exchange = exchange, Ticker = ticker), \n",
    "        Constraints = constraints,  \n",
    "        Field = field,\n",
    "        Length = shortSma, \n",
    "        Sampling = sampling\n",
    "    )\n",
    "\n",
    "// Instantiate the tick SMA service\n",
    "let service = new TickSmaService.TickSmaServiceClient(channel)"
   ]
  },
  {
   "cell_type": "markdown",
   "id": "heard-norman",
   "metadata": {},
   "source": [
    "### Step 4: Visualize data"
   ]
  },
  {
   "cell_type": "markdown",
   "id": "intermediate-arizona",
   "metadata": {},
   "source": [
    "#### 4.1 Retrieve long SMA data"
   ]
  },
  {
   "cell_type": "code",
   "execution_count": 9,
   "id": "guided-argument",
   "metadata": {
    "dotnet_interactive": {
     "language": "fsharp"
    },
    "execution": {
     "iopub.execute_input": "2022-10-25T16:24:50.903815Z",
     "iopub.status.busy": "2022-10-25T16:24:50.903320Z",
     "iopub.status.idle": "2022-10-25T16:24:51.498513Z",
     "shell.execute_reply": "2022-10-25T16:24:51.498103Z"
    }
   },
   "outputs": [],
   "source": [
    "open FSharp.Control.Tasks.V2\n",
    "open System.Collections.Generic\n",
    "\n",
    "let iterAsync (t: IAsyncEnumerable<'T>) (f : 'T -> unit) =\n",
    "    let task = \n",
    "        task {\n",
    "            let e = t.GetAsyncEnumerator()\n",
    "            let mutable go = true\n",
    "            try\n",
    "                let! step = e.MoveNextAsync()\n",
    "                go <- step\n",
    "                while go do \n",
    "                    f e.Current\n",
    "                    let! step = e.MoveNextAsync()\n",
    "                    go <- step\n",
    "            finally\n",
    "                e.DisposeAsync().AsTask().Wait()\n",
    "        }\n",
    "    task.Wait()"
   ]
  },
  {
   "cell_type": "code",
   "execution_count": 10,
   "id": "organic-simon",
   "metadata": {
    "dotnet_interactive": {
     "language": "fsharp"
    },
    "execution": {
     "iopub.execute_input": "2022-10-25T16:24:51.500799Z",
     "iopub.status.busy": "2022-10-25T16:24:51.500454Z",
     "iopub.status.idle": "2022-10-25T16:24:51.830093Z",
     "shell.execute_reply": "2022-10-25T16:24:51.829709Z"
    }
   },
   "outputs": [],
   "source": [
    "// smalong includes long SMA data points\n",
    "let smalong = new List<TickSmaResponse>()\n",
    "\n",
    "let call = service.TickSma(smaLongRequest, headers)\n",
    "let e =  call.ResponseStream.ReadAllAsync()\n",
    "iterAsync e smalong.Add\n",
    "// smalong |> display"
   ]
  },
  {
   "cell_type": "markdown",
   "id": "traditional-concentration",
   "metadata": {},
   "source": [
    "#### 4.2 Retrieve short SMA data"
   ]
  },
  {
   "cell_type": "code",
   "execution_count": 11,
   "id": "iraqi-sherman",
   "metadata": {
    "dotnet_interactive": {
     "language": "fsharp"
    },
    "execution": {
     "iopub.execute_input": "2022-10-25T16:24:51.832956Z",
     "iopub.status.busy": "2022-10-25T16:24:51.832205Z",
     "iopub.status.idle": "2022-10-25T16:24:51.896385Z",
     "shell.execute_reply": "2022-10-25T16:24:51.896129Z"
    }
   },
   "outputs": [],
   "source": [
    "// smashort includes short SMA data points\n",
    "let smashort = new List<TickSmaResponse>()\n",
    "\n",
    "let call = service.TickSma(smaShortRequest, headers)\n",
    "let e' = call.ResponseStream.ReadAllAsync()\n",
    "iterAsync e' smashort.Add\n",
    "\n",
    "//smashort |> display"
   ]
  },
  {
   "cell_type": "markdown",
   "id": "composed-corruption",
   "metadata": {},
   "source": [
    "#### 4.4 Plot SMAs and prices\n",
    "Plot SMA and prices request' results with the package of your choice.<br>*`XPlot.Plotly`* is used as per open source display package. Plot a simple line graph with the SMA data points and prices: "
   ]
  },
  {
   "cell_type": "code",
   "execution_count": 12,
   "id": "sustainable-albany",
   "metadata": {
    "dotnet_interactive": {
     "language": "fsharp"
    },
    "execution": {
     "iopub.execute_input": "2022-10-25T16:24:51.899153Z",
     "iopub.status.busy": "2022-10-25T16:24:51.898618Z",
     "iopub.status.idle": "2022-10-25T16:24:52.340150Z",
     "shell.execute_reply": "2022-10-25T16:24:52.339833Z"
    }
   },
   "outputs": [
    {
     "data": {
      "text/html": [
       "<!DOCTYPE html>\n",
       "<div style=\"width: 1500px; height: 800px;\" id=\"5f5d7bc5-3fe0-471e-813c-02883669680f\"></div><script type=\"text/javascript\">\n",
       "\n",
       "var renderPlotly = function() {\n",
       "    var xplotRequire = require.config({context:'xplot-3.0.1',paths:{plotly:'https://cdn.plot.ly/plotly-1.49.2.min'}}) || require;\n",
       "    xplotRequire(['plotly'], function(Plotly) { \n",
       "\n",
       "            var data = [{\"type\":\"scattergl\",\"x\":[],\"y\":[],\"mode\":\"lines\",\"name\":\"200-points SMA\"},{\"type\":\"scattergl\",\"x\":[],\"y\":[],\"mode\":\"lines\",\"name\":\"50-points SMA\"},{\"type\":\"scattergl\",\"x\":[],\"y\":[],\"mode\":\"lines\",\"name\":\"Prices\"}];\n",
       "           var layout = {\"title\":\"SMAs and prices for AAPL\",\"xaxis\":{\"title\":\"Time\",\"_isSubplotObj\":true},\"yaxis\":{\"title\":\"Price\",\"_isSubplotObj\":true}};\n",
       "           Plotly.newPlot('5f5d7bc5-3fe0-471e-813c-02883669680f', data, layout);\n",
       "        \n",
       "});\n",
       "};\n",
       "// ensure `require` is available globally\n",
       "if ((typeof(require) !==  typeof(Function)) || (typeof(require.config) !== typeof(Function))) {\n",
       "    let require_script = document.createElement('script');\n",
       "    require_script.setAttribute('src', 'https://cdnjs.cloudflare.com/ajax/libs/require.js/2.3.6/require.min.js');\n",
       "    require_script.setAttribute('type', 'text/javascript');\n",
       "    \n",
       "    \n",
       "    require_script.onload = function() {\n",
       "        renderPlotly();\n",
       "    };\n",
       "\n",
       "    document.getElementsByTagName('head')[0].appendChild(require_script);\n",
       "}\n",
       "else {\n",
       "    renderPlotly();\n",
       "}\n",
       "\n",
       "</script>\n"
      ]
     },
     "metadata": {},
     "output_type": "display_data"
    }
   ],
   "source": [
    "// Plot simultaneously prices and simple moving averages\n",
    "[\n",
    "    new Scattergl(\n",
    "        name = \"200-points SMA\",\n",
    "        mode = \"lines\",\n",
    "        x = (smalong |> Seq.map (fun l -> l.TimeStamp.ToDateTime())),\n",
    "        y = (smalong |> Seq.map (fun l -> l.Average))\n",
    "    )\n",
    "    new Scattergl(\n",
    "        name = \"50-points SMA\",\n",
    "        mode = \"lines\",\n",
    "        x = (smashort |> Seq.map (fun l -> l.TimeStamp.ToDateTime())),\n",
    "        y = (smashort |> Seq.map (fun l -> l.Average))\n",
    "    )\n",
    "    new Scattergl(\n",
    "        name = \"Prices\",\n",
    "        mode = \"lines\",\n",
    "        x = (smashort |> Seq.map (fun l -> l.TimeStamp.ToDateTime())),\n",
    "        y = (smashort |> Seq.map (fun l -> l.Value))\n",
    "    )\n",
    "]\n",
    "|> Chart.Plot\n",
    "|> Chart.WithTitle $\"SMAs and prices for {ticker}\"\n",
    "|> Chart.WithXTitle \"Time\"\n",
    "|> Chart.WithYTitle \"Price\"\n",
    "|> Chart.WithWidth 1500\n",
    "|> Chart.WithHeight 800\n",
    "|> display"
   ]
  }
 ],
 "metadata": {
  "kernelspec": {
   "display_name": ".NET (F#)",
   "language": "F#",
   "name": ".net-fsharp"
  },
  "language_info": {
   "file_extension": ".fs",
   "mimetype": "text/x-fsharp",
   "name": "F#",
   "pygments_lexer": "fsharp",
   "version": "6.0"
  }
 },
 "nbformat": 4,
 "nbformat_minor": 5
}
