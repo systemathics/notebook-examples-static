{
 "cells": [
  {
   "cell_type": "markdown",
   "id": "nervous-celebrity",
   "metadata": {},
   "source": [
    "# Dividends extraction using dedicated service - C#\n",
    "\n",
    "### Overview\n",
    "This sample requests **on-demand** dividends by calling a dedicated data service.\n",
    "\n",
    "### Inputs/outputs\n",
    "Dividends sample is designed to help you searching and requesting dividends for a given instrument.\n",
    "* It takes instrument specification parameter(s) as per input filter and returns *Dividends*\n",
    "\n",
    "### Services used\n",
    "This sample uses *gRPC requests* in order to retrieve dividends from the hosted service. The queried endpoint in this script are:\n",
    "* *DividendsService*: to directly retrieve dividends data objects from the server\n",
    "\n",
    "### Packages required\n",
    "1. Systemathics packages:\n",
    "    * *Systemathics.Apis.Type.Shared.V1*\n",
    "    * *Systemathics.Apis.Services.CorporateActions.V1*\n",
    "2. Open source packages\n",
    "    * *Google.Protobuf.WellKnownTypes*\n",
    "    * *Google.Type*\n",
    "    * *Grpc.Net.Client*\n",
    "    * *Grpc.Core*\n",
    "\n",
    "***"
   ]
  },
  {
   "cell_type": "markdown",
   "id": "satellite-charge",
   "metadata": {},
   "source": [
    "# Run dividends sample"
   ]
  },
  {
   "cell_type": "markdown",
   "id": "behind-container",
   "metadata": {},
   "source": [
    "### Step 1: Install packages"
   ]
  },
  {
   "cell_type": "code",
   "execution_count": 1,
   "id": "muslim-encoding",
   "metadata": {
    "dotnet_interactive": {
     "language": "csharp"
    },
    "execution": {
     "iopub.execute_input": "2022-10-25T16:17:35.336552Z",
     "iopub.status.busy": "2022-10-25T16:17:35.328387Z",
     "iopub.status.idle": "2022-10-25T16:17:39.317888Z",
     "shell.execute_reply": "2022-10-25T16:17:39.309693Z"
    },
    "vscode": {
     "languageId": "dotnet-interactive.csharp"
    }
   },
   "outputs": [
    {
     "data": {
      "text/html": [
       "\n",
       "<div>\n",
       "    <div id='dotnet-interactive-this-cell-19574.Microsoft.DotNet.Interactive.Http.HttpPort' style='display: none'>\n",
       "        The below script needs to be able to find the current output cell; this is an easy method to get it.\n",
       "    </div>\n",
       "    <script type='text/javascript'>\n",
       "async function probeAddresses(probingAddresses) {\n",
       "    function timeout(ms, promise) {\n",
       "        return new Promise(function (resolve, reject) {\n",
       "            setTimeout(function () {\n",
       "                reject(new Error('timeout'))\n",
       "            }, ms)\n",
       "            promise.then(resolve, reject)\n",
       "        })\n",
       "    }\n",
       "\n",
       "    if (Array.isArray(probingAddresses)) {\n",
       "        for (let i = 0; i < probingAddresses.length; i++) {\n",
       "\n",
       "            let rootUrl = probingAddresses[i];\n",
       "\n",
       "            if (!rootUrl.endsWith('/')) {\n",
       "                rootUrl = `${rootUrl}/`;\n",
       "            }\n",
       "\n",
       "            try {\n",
       "                let response = await timeout(1000, fetch(`${rootUrl}discovery`, {\n",
       "                    method: 'POST',\n",
       "                    cache: 'no-cache',\n",
       "                    mode: 'cors',\n",
       "                    timeout: 1000,\n",
       "                    headers: {\n",
       "                        'Content-Type': 'text/plain'\n",
       "                    },\n",
       "                    body: probingAddresses[i]\n",
       "                }));\n",
       "\n",
       "                if (response.status == 200) {\n",
       "                    return rootUrl;\n",
       "                }\n",
       "            }\n",
       "            catch (e) { }\n",
       "        }\n",
       "    }\n",
       "}\n",
       "\n",
       "function loadDotnetInteractiveApi() {\n",
       "    probeAddresses([\"http://172.28.169.63:2982/\", \"http://127.0.0.1:2982/\"])\n",
       "        .then((root) => {\n",
       "        // use probing to find host url and api resources\n",
       "        // load interactive helpers and language services\n",
       "        let dotnetInteractiveRequire = require.config({\n",
       "        context: '19574.Microsoft.DotNet.Interactive.Http.HttpPort',\n",
       "                paths:\n",
       "            {\n",
       "                'dotnet-interactive': `${root}resources`\n",
       "                }\n",
       "        }) || require;\n",
       "\n",
       "            window.dotnetInteractiveRequire = dotnetInteractiveRequire;\n",
       "\n",
       "            window.configureRequireFromExtension = function(extensionName, extensionCacheBuster) {\n",
       "                let paths = {};\n",
       "                paths[extensionName] = `${root}extensions/${extensionName}/resources/`;\n",
       "                \n",
       "                let internalRequire = require.config({\n",
       "                    context: extensionCacheBuster,\n",
       "                    paths: paths,\n",
       "                    urlArgs: `cacheBuster=${extensionCacheBuster}`\n",
       "                    }) || require;\n",
       "\n",
       "                return internalRequire\n",
       "            };\n",
       "        \n",
       "            dotnetInteractiveRequire([\n",
       "                    'dotnet-interactive/dotnet-interactive'\n",
       "                ],\n",
       "                function (dotnet) {\n",
       "                    dotnet.init(window);\n",
       "                },\n",
       "                function (error) {\n",
       "                    console.log(error);\n",
       "                }\n",
       "            );\n",
       "        })\n",
       "        .catch(error => {console.log(error);});\n",
       "    }\n",
       "\n",
       "// ensure `require` is available globally\n",
       "if ((typeof(require) !==  typeof(Function)) || (typeof(require.config) !== typeof(Function))) {\n",
       "    let require_script = document.createElement('script');\n",
       "    require_script.setAttribute('src', 'https://cdnjs.cloudflare.com/ajax/libs/require.js/2.3.6/require.min.js');\n",
       "    require_script.setAttribute('type', 'text/javascript');\n",
       "    \n",
       "    \n",
       "    require_script.onload = function() {\n",
       "        loadDotnetInteractiveApi();\n",
       "    };\n",
       "\n",
       "    document.getElementsByTagName('head')[0].appendChild(require_script);\n",
       "}\n",
       "else {\n",
       "    loadDotnetInteractiveApi();\n",
       "}\n",
       "\n",
       "    </script>\n",
       "</div>"
      ]
     },
     "metadata": {},
     "output_type": "display_data"
    },
    {
     "data": {
      "text/html": [
       "<div><div><strong>Restore sources</strong><ul><li><span> file://~/.nuget/packages/</span></li><li><span> https://api.nuget.org/v3/index.json</span></li></ul></div><div></div><div><strong>Installed Packages</strong><ul><li><span>Systemathics.Apis, 0.13.2-pre</span></li></ul></div></div>"
      ]
     },
     "metadata": {},
     "output_type": "display_data"
    }
   ],
   "source": [
    "#i \"nuget: file://~/.nuget/packages/\"\n",
    "#i \"nuget: https://api.nuget.org/v3/index.json\"\n",
    "#r \"nuget: Systemathics.Apis, 0.*-pre*\""
   ]
  },
  {
   "cell_type": "code",
   "execution_count": 2,
   "id": "technological-induction",
   "metadata": {
    "dotnet_interactive": {
     "language": "csharp"
    },
    "execution": {
     "iopub.execute_input": "2022-10-25T16:17:39.320402Z",
     "iopub.status.busy": "2022-10-25T16:17:39.319838Z",
     "iopub.status.idle": "2022-10-25T16:17:39.346739Z",
     "shell.execute_reply": "2022-10-25T16:17:39.346473Z"
    },
    "vscode": {
     "languageId": "dotnet-interactive.csharp"
    }
   },
   "outputs": [],
   "source": [
    "using Systemathics.Apis.Helpers;\n",
    "using Systemathics.Apis.Type.Shared.V1;\n",
    "using Systemathics.Apis.Services.CorporateActions.V1;\n",
    "using Google.Protobuf.WellKnownTypes;\n",
    "using Google.Type;\n",
    "using Grpc.Net.Client;\n",
    "using Grpc.Core;"
   ]
  },
  {
   "cell_type": "markdown",
   "id": "vertical-behalf",
   "metadata": {},
   "source": [
    "### Step 2: Prepare API requests\n",
    "The following code snippets retrieve authentication token and prepare the API request by: opening the *channel* and adding the *token* to the request header:"
   ]
  },
  {
   "cell_type": "code",
   "execution_count": 3,
   "id": "patent-background",
   "metadata": {
    "dotnet_interactive": {
     "language": "csharp"
    },
    "execution": {
     "iopub.execute_input": "2022-10-25T16:17:39.349188Z",
     "iopub.status.busy": "2022-10-25T16:17:39.348545Z",
     "iopub.status.idle": "2022-10-25T16:17:40.363851Z",
     "shell.execute_reply": "2022-10-25T16:17:40.363593Z"
    },
    "vscode": {
     "languageId": "dotnet-interactive.csharp"
    }
   },
   "outputs": [],
   "source": [
    "// Get token as metadata\n",
    "var headers = TokenHelpers.GetTokenAsMetaData();\n",
    "\n",
    "// Create communication channel\n",
    "var channel = ChannelHelpers.GetChannel();"
   ]
  },
  {
   "cell_type": "markdown",
   "id": "infinite-finance",
   "metadata": {},
   "source": [
    "### Step 3: Retrieve dividends"
   ]
  },
  {
   "cell_type": "markdown",
   "id": "timely-serial",
   "metadata": {},
   "source": [
    "#### 3.1 Equity selection"
   ]
  },
  {
   "cell_type": "code",
   "execution_count": 4,
   "id": "premium-settlement",
   "metadata": {
    "dotnet_interactive": {
     "language": "csharp"
    },
    "execution": {
     "iopub.execute_input": "2022-10-25T16:17:40.366104Z",
     "iopub.status.busy": "2022-10-25T16:17:40.365685Z",
     "iopub.status.idle": "2022-10-25T16:17:40.405981Z",
     "shell.execute_reply": "2022-10-25T16:17:40.405570Z"
    },
    "vscode": {
     "languageId": "dotnet-interactive.csharp"
    }
   },
   "outputs": [],
   "source": [
    "// Set the instrument identifier \n",
    "var ticker = \"AAPL\";\n",
    "var exchange = \"XNGS\";"
   ]
  },
  {
   "cell_type": "markdown",
   "id": "brown-shower",
   "metadata": {},
   "source": [
    "#### 3.2 Create and process request"
   ]
  },
  {
   "cell_type": "code",
   "execution_count": 5,
   "id": "careful-horror",
   "metadata": {
    "dotnet_interactive": {
     "language": "csharp"
    },
    "execution": {
     "iopub.execute_input": "2022-10-25T16:17:40.409151Z",
     "iopub.status.busy": "2022-10-25T16:17:40.408603Z",
     "iopub.status.idle": "2022-10-25T16:17:41.406254Z",
     "shell.execute_reply": "2022-10-25T16:17:41.405889Z"
    },
    "vscode": {
     "languageId": "dotnet-interactive.csharp"
    }
   },
   "outputs": [],
   "source": [
    "// instantiate the dividends service\n",
    "var service = new DividendsService.DividendsServiceClient(channel);\n",
    "\n",
    "// Generate the dividends request\n",
    "var request = new DividendsRequest \n",
    "{ \n",
    "    Identifier = new Identifier { Exchange = exchange, Ticker = ticker} \n",
    "};\n",
    "\n",
    "// Get the dividends reply\n",
    "var reply = service.Dividends(request, headers);"
   ]
  },
  {
   "cell_type": "markdown",
   "id": "actual-gossip",
   "metadata": {},
   "source": [
    "#### 3.3 Retrieve dividends"
   ]
  },
  {
   "cell_type": "code",
   "execution_count": 6,
   "id": "numerical-tiger",
   "metadata": {
    "dotnet_interactive": {
     "language": "csharp"
    },
    "execution": {
     "iopub.execute_input": "2022-10-25T16:17:41.408350Z",
     "iopub.status.busy": "2022-10-25T16:17:41.408040Z",
     "iopub.status.idle": "2022-10-25T16:17:41.634527Z",
     "shell.execute_reply": "2022-10-25T16:17:41.633979Z"
    },
    "vscode": {
     "languageId": "dotnet-interactive.csharp"
    }
   },
   "outputs": [
    {
     "data": {
      "text/html": [
       "<table><thead><tr><th><i>index</i></th><th>Date</th><th>Type</th><th>Amount</th><th>Score</th></tr></thead><tbody><tr><td>0</td><td><table><thead><tr><th>Year</th><th>Month</th><th>Day</th></tr></thead><tbody><tr><td><div class=\"dni-plaintext\">1988</div></td><td><div class=\"dni-plaintext\">11</div></td><td><div class=\"dni-plaintext\">21</div></td></tr></tbody></table></td><td><span>Cash</span></td><td><div class=\"dni-plaintext\">0.1</div></td><td><div class=\"dni-plaintext\">0</div></td></tr><tr><td>1</td><td><table><thead><tr><th>Year</th><th>Month</th><th>Day</th></tr></thead><tbody><tr><td><div class=\"dni-plaintext\">1989</div></td><td><div class=\"dni-plaintext\">2</div></td><td><div class=\"dni-plaintext\">17</div></td></tr></tbody></table></td><td><span>Cash</span></td><td><div class=\"dni-plaintext\">0.1</div></td><td><div class=\"dni-plaintext\">0</div></td></tr><tr><td>2</td><td><table><thead><tr><th>Year</th><th>Month</th><th>Day</th></tr></thead><tbody><tr><td><div class=\"dni-plaintext\">1989</div></td><td><div class=\"dni-plaintext\">5</div></td><td><div class=\"dni-plaintext\">22</div></td></tr></tbody></table></td><td><span>Cash</span></td><td><div class=\"dni-plaintext\">0.1</div></td><td><div class=\"dni-plaintext\">0</div></td></tr><tr><td>3</td><td><table><thead><tr><th>Year</th><th>Month</th><th>Day</th></tr></thead><tbody><tr><td><div class=\"dni-plaintext\">1989</div></td><td><div class=\"dni-plaintext\">8</div></td><td><div class=\"dni-plaintext\">21</div></td></tr></tbody></table></td><td><span>Cash</span></td><td><div class=\"dni-plaintext\">0.1</div></td><td><div class=\"dni-plaintext\">0</div></td></tr><tr><td>4</td><td><table><thead><tr><th>Year</th><th>Month</th><th>Day</th></tr></thead><tbody><tr><td><div class=\"dni-plaintext\">1989</div></td><td><div class=\"dni-plaintext\">11</div></td><td><div class=\"dni-plaintext\">17</div></td></tr></tbody></table></td><td><span>Cash</span></td><td><div class=\"dni-plaintext\">0.11</div></td><td><div class=\"dni-plaintext\">0</div></td></tr><tr><td>5</td><td><table><thead><tr><th>Year</th><th>Month</th><th>Day</th></tr></thead><tbody><tr><td><div class=\"dni-plaintext\">1990</div></td><td><div class=\"dni-plaintext\">2</div></td><td><div class=\"dni-plaintext\">16</div></td></tr></tbody></table></td><td><span>Cash</span></td><td><div class=\"dni-plaintext\">0.11</div></td><td><div class=\"dni-plaintext\">0</div></td></tr><tr><td>6</td><td><table><thead><tr><th>Year</th><th>Month</th><th>Day</th></tr></thead><tbody><tr><td><div class=\"dni-plaintext\">1990</div></td><td><div class=\"dni-plaintext\">5</div></td><td><div class=\"dni-plaintext\">21</div></td></tr></tbody></table></td><td><span>Cash</span></td><td><div class=\"dni-plaintext\">0.11</div></td><td><div class=\"dni-plaintext\">0</div></td></tr><tr><td>7</td><td><table><thead><tr><th>Year</th><th>Month</th><th>Day</th></tr></thead><tbody><tr><td><div class=\"dni-plaintext\">1990</div></td><td><div class=\"dni-plaintext\">8</div></td><td><div class=\"dni-plaintext\">20</div></td></tr></tbody></table></td><td><span>Cash</span></td><td><div class=\"dni-plaintext\">0.11</div></td><td><div class=\"dni-plaintext\">0</div></td></tr><tr><td>8</td><td><table><thead><tr><th>Year</th><th>Month</th><th>Day</th></tr></thead><tbody><tr><td><div class=\"dni-plaintext\">1990</div></td><td><div class=\"dni-plaintext\">11</div></td><td><div class=\"dni-plaintext\">16</div></td></tr></tbody></table></td><td><span>Cash</span></td><td><div class=\"dni-plaintext\">0.12</div></td><td><div class=\"dni-plaintext\">0</div></td></tr><tr><td>9</td><td><table><thead><tr><th>Year</th><th>Month</th><th>Day</th></tr></thead><tbody><tr><td><div class=\"dni-plaintext\">1991</div></td><td><div class=\"dni-plaintext\">2</div></td><td><div class=\"dni-plaintext\">15</div></td></tr></tbody></table></td><td><span>Cash</span></td><td><div class=\"dni-plaintext\">0.12</div></td><td><div class=\"dni-plaintext\">0</div></td></tr><tr><td>10</td><td><table><thead><tr><th>Year</th><th>Month</th><th>Day</th></tr></thead><tbody><tr><td><div class=\"dni-plaintext\">1991</div></td><td><div class=\"dni-plaintext\">5</div></td><td><div class=\"dni-plaintext\">20</div></td></tr></tbody></table></td><td><span>Cash</span></td><td><div class=\"dni-plaintext\">0.12</div></td><td><div class=\"dni-plaintext\">0</div></td></tr><tr><td>11</td><td><table><thead><tr><th>Year</th><th>Month</th><th>Day</th></tr></thead><tbody><tr><td><div class=\"dni-plaintext\">1991</div></td><td><div class=\"dni-plaintext\">8</div></td><td><div class=\"dni-plaintext\">19</div></td></tr></tbody></table></td><td><span>Cash</span></td><td><div class=\"dni-plaintext\">0.12</div></td><td><div class=\"dni-plaintext\">0</div></td></tr><tr><td>12</td><td><table><thead><tr><th>Year</th><th>Month</th><th>Day</th></tr></thead><tbody><tr><td><div class=\"dni-plaintext\">1991</div></td><td><div class=\"dni-plaintext\">11</div></td><td><div class=\"dni-plaintext\">18</div></td></tr></tbody></table></td><td><span>Cash</span></td><td><div class=\"dni-plaintext\">0.12</div></td><td><div class=\"dni-plaintext\">0</div></td></tr><tr><td>13</td><td><table><thead><tr><th>Year</th><th>Month</th><th>Day</th></tr></thead><tbody><tr><td><div class=\"dni-plaintext\">1992</div></td><td><div class=\"dni-plaintext\">2</div></td><td><div class=\"dni-plaintext\">14</div></td></tr></tbody></table></td><td><span>Cash</span></td><td><div class=\"dni-plaintext\">0.12</div></td><td><div class=\"dni-plaintext\">0</div></td></tr><tr><td>14</td><td><table><thead><tr><th>Year</th><th>Month</th><th>Day</th></tr></thead><tbody><tr><td><div class=\"dni-plaintext\">1992</div></td><td><div class=\"dni-plaintext\">6</div></td><td><div class=\"dni-plaintext\">1</div></td></tr></tbody></table></td><td><span>Cash</span></td><td><div class=\"dni-plaintext\">0.12</div></td><td><div class=\"dni-plaintext\">0</div></td></tr><tr><td>15</td><td><table><thead><tr><th>Year</th><th>Month</th><th>Day</th></tr></thead><tbody><tr><td><div class=\"dni-plaintext\">1992</div></td><td><div class=\"dni-plaintext\">8</div></td><td><div class=\"dni-plaintext\">17</div></td></tr></tbody></table></td><td><span>Cash</span></td><td><div class=\"dni-plaintext\">0.12</div></td><td><div class=\"dni-plaintext\">0</div></td></tr><tr><td>16</td><td><table><thead><tr><th>Year</th><th>Month</th><th>Day</th></tr></thead><tbody><tr><td><div class=\"dni-plaintext\">1992</div></td><td><div class=\"dni-plaintext\">11</div></td><td><div class=\"dni-plaintext\">30</div></td></tr></tbody></table></td><td><span>Cash</span></td><td><div class=\"dni-plaintext\">0.12</div></td><td><div class=\"dni-plaintext\">0</div></td></tr><tr><td>17</td><td><table><thead><tr><th>Year</th><th>Month</th><th>Day</th></tr></thead><tbody><tr><td><div class=\"dni-plaintext\">1993</div></td><td><div class=\"dni-plaintext\">2</div></td><td><div class=\"dni-plaintext\">12</div></td></tr></tbody></table></td><td><span>Cash</span></td><td><div class=\"dni-plaintext\">0.12</div></td><td><div class=\"dni-plaintext\">0</div></td></tr><tr><td>18</td><td><table><thead><tr><th>Year</th><th>Month</th><th>Day</th></tr></thead><tbody><tr><td><div class=\"dni-plaintext\">1993</div></td><td><div class=\"dni-plaintext\">5</div></td><td><div class=\"dni-plaintext\">28</div></td></tr></tbody></table></td><td><span>Cash</span></td><td><div class=\"dni-plaintext\">0.12</div></td><td><div class=\"dni-plaintext\">0</div></td></tr><tr><td>19</td><td><table><thead><tr><th>Year</th><th>Month</th><th>Day</th></tr></thead><tbody><tr><td><div class=\"dni-plaintext\">1993</div></td><td><div class=\"dni-plaintext\">8</div></td><td><div class=\"dni-plaintext\">16</div></td></tr></tbody></table></td><td><span>Cash</span></td><td><div class=\"dni-plaintext\">0.12</div></td><td><div class=\"dni-plaintext\">0</div></td></tr><tr><td colspan=\"5\"><i>(49 more)</i></td></tr></tbody></table>"
      ]
     },
     "metadata": {},
     "output_type": "display_data"
    }
   ],
   "source": [
    "// Visualize dividends results\n",
    "display(reply.Data)"
   ]
  },
  {
   "cell_type": "markdown",
   "id": "developmental-camel",
   "metadata": {},
   "source": [
    "#### 3.4 Add dates constraints"
   ]
  },
  {
   "cell_type": "code",
   "execution_count": 7,
   "id": "economic-cylinder",
   "metadata": {
    "dotnet_interactive": {
     "language": "csharp"
    },
    "execution": {
     "iopub.execute_input": "2022-10-25T16:17:41.636904Z",
     "iopub.status.busy": "2022-10-25T16:17:41.636588Z",
     "iopub.status.idle": "2022-10-25T16:17:41.660031Z",
     "shell.execute_reply": "2022-10-25T16:17:41.659775Z"
    },
    "vscode": {
     "languageId": "dotnet-interactive.csharp"
    }
   },
   "outputs": [],
   "source": [
    "// Set data interval (we are using Google date time format)\n",
    "var dateInterval = new DateInterval()\n",
    "{\n",
    "  StartDate = new Date { Year = 2020, Month = 01, Day = 01 },\n",
    "  EndDate = new Date { Year = 2021, Month = 03, Day = 31 }\n",
    "};"
   ]
  },
  {
   "cell_type": "code",
   "execution_count": 8,
   "id": "moving-spectrum",
   "metadata": {
    "dotnet_interactive": {
     "language": "csharp"
    },
    "execution": {
     "iopub.execute_input": "2022-10-25T16:17:41.662580Z",
     "iopub.status.busy": "2022-10-25T16:17:41.661941Z",
     "iopub.status.idle": "2022-10-25T16:17:42.041696Z",
     "shell.execute_reply": "2022-10-25T16:17:42.041376Z"
    },
    "vscode": {
     "languageId": "dotnet-interactive.csharp"
    }
   },
   "outputs": [],
   "source": [
    "// Generate the dividends request with dates constraints\n",
    "var request = new DividendsRequest \n",
    "{ \n",
    "    Identifier = new Identifier { Exchange = exchange, Ticker = ticker},\n",
    "    DateInterval = dateInterval\n",
    "};\n",
    "\n",
    "// Get the dividends reply with dates constraints\n",
    "var reply = service.Dividends(request, headers);"
   ]
  },
  {
   "cell_type": "markdown",
   "id": "genetic-marking",
   "metadata": {},
   "source": [
    "#### 3.5 Retrieve dividends"
   ]
  },
  {
   "cell_type": "code",
   "execution_count": 9,
   "id": "alike-joyce",
   "metadata": {
    "dotnet_interactive": {
     "language": "csharp"
    },
    "execution": {
     "iopub.execute_input": "2022-10-25T16:17:42.043734Z",
     "iopub.status.busy": "2022-10-25T16:17:42.043414Z",
     "iopub.status.idle": "2022-10-25T16:17:42.063519Z",
     "shell.execute_reply": "2022-10-25T16:17:42.063271Z"
    },
    "vscode": {
     "languageId": "dotnet-interactive.csharp"
    }
   },
   "outputs": [
    {
     "data": {
      "text/html": [
       "<table><thead><tr><th><i>index</i></th><th>Date</th><th>Type</th><th>Amount</th><th>Score</th></tr></thead><tbody><tr><td>0</td><td><table><thead><tr><th>Year</th><th>Month</th><th>Day</th></tr></thead><tbody><tr><td><div class=\"dni-plaintext\">2020</div></td><td><div class=\"dni-plaintext\">2</div></td><td><div class=\"dni-plaintext\">7</div></td></tr></tbody></table></td><td><span>Cash</span></td><td><div class=\"dni-plaintext\">0.77</div></td><td><div class=\"dni-plaintext\">0</div></td></tr><tr><td>1</td><td><table><thead><tr><th>Year</th><th>Month</th><th>Day</th></tr></thead><tbody><tr><td><div class=\"dni-plaintext\">2020</div></td><td><div class=\"dni-plaintext\">5</div></td><td><div class=\"dni-plaintext\">8</div></td></tr></tbody></table></td><td><span>Cash</span></td><td><div class=\"dni-plaintext\">0.82</div></td><td><div class=\"dni-plaintext\">0</div></td></tr><tr><td>2</td><td><table><thead><tr><th>Year</th><th>Month</th><th>Day</th></tr></thead><tbody><tr><td><div class=\"dni-plaintext\">2020</div></td><td><div class=\"dni-plaintext\">8</div></td><td><div class=\"dni-plaintext\">7</div></td></tr></tbody></table></td><td><span>Cash</span></td><td><div class=\"dni-plaintext\">0.82</div></td><td><div class=\"dni-plaintext\">0</div></td></tr><tr><td>3</td><td><table><thead><tr><th>Year</th><th>Month</th><th>Day</th></tr></thead><tbody><tr><td><div class=\"dni-plaintext\">2020</div></td><td><div class=\"dni-plaintext\">11</div></td><td><div class=\"dni-plaintext\">6</div></td></tr></tbody></table></td><td><span>Cash</span></td><td><div class=\"dni-plaintext\">0.205</div></td><td><div class=\"dni-plaintext\">0</div></td></tr><tr><td>4</td><td><table><thead><tr><th>Year</th><th>Month</th><th>Day</th></tr></thead><tbody><tr><td><div class=\"dni-plaintext\">2021</div></td><td><div class=\"dni-plaintext\">2</div></td><td><div class=\"dni-plaintext\">5</div></td></tr></tbody></table></td><td><span>Cash</span></td><td><div class=\"dni-plaintext\">0.205</div></td><td><div class=\"dni-plaintext\">0</div></td></tr></tbody></table>"
      ]
     },
     "metadata": {},
     "output_type": "display_data"
    }
   ],
   "source": [
    "// Visualize dividends results\n",
    "display(reply.Data)"
   ]
  }
 ],
 "metadata": {
  "kernelspec": {
   "display_name": ".NET (C#)",
   "language": "C#",
   "name": ".net-csharp"
  },
  "language_info": {
   "file_extension": ".cs",
   "mimetype": "text/x-csharp",
   "name": "C#",
   "pygments_lexer": "csharp",
   "version": "10.0"
  }
 },
 "nbformat": 4,
 "nbformat_minor": 5
}
