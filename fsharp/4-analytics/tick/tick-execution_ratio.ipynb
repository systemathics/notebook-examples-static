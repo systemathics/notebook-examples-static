{
 "cells": [
  {
   "cell_type": "markdown",
   "metadata": {},
   "source": [
    "## Compute execution ratio using dedicated service(F#)\n",
    "\n",
    "### Overview\n",
    "Tick count enriched with trade count can be used as an indicator to illustrate market activity and measure market quality by:\n",
    "* computing the technical transactions/transmissions count on a tick by tick basis, *tick count*,\n",
    "* comparing it to the total *trade count*\n",
    "\n",
    "Correlated with a set of other indicators such as traded volume and price volatility, over the same look back period and the same sampling granularity, it repserents a good measurement of the market quality.\n",
    "\n",
    "This samples enables to retrieve **on-demand** tick count data points (L1 and L1L2) by calling a dedicated service.\n",
    "\n",
    "### Inputs/outputs\n",
    "Execution ratio sample requires instrument's identifier, date time intervals and time granularity as per inputs. It returns the tick count Vs trade count sampled using the input time granularity.\n",
    "\n",
    "This sample also shows how to plot a simple graph for basis financial analysis using an open source library.\n",
    "\n",
    "<div class=\"alert alert-block alert-info\">\n",
    "    <b>Note:</b> Similar scenarios are available and enable to enrich tick count with price volatility or trade sizes.\n",
    "</div>\n",
    "\n",
    "### Services used\n",
    "This sample uses *gRPC requests* in order to retrieve tick by tick data from the dedicated hosted service. The queried endpoint in this script are:\n",
    "* *TopologiesService*: to directly retrieve tick by tick data data from the server.\n",
    "\n",
    "### Packages required\n",
    "1. Systemathics packages:\n",
    "    * *Systemathics.Apis.Type.Shared.V1*\n",
    "    * *Systemathics.Apis.Services.Topology.V1*\n",
    "2. Open source packages\n",
    "    * *Google.Protobuf.WellKnownTypes*\n",
    "    * *Google.Type*\n",
    "    * *Grpc.Net.Client*\n",
    "    * *Grpc.Core*\n",
    "    * *XPlot.Plotly* as per display package\n",
    "\n",
    "***"
   ]
  },
  {
   "cell_type": "markdown",
   "metadata": {},
   "source": [
    "# Run tick count sample"
   ]
  },
  {
   "cell_type": "markdown",
   "metadata": {},
   "source": [
    "### Step 1: Install packages"
   ]
  },
  {
   "cell_type": "code",
   "execution_count": 1,
   "metadata": {
    "dotnet_interactive": {
     "language": "fsharp"
    },
    "execution": {
     "iopub.execute_input": "2022-10-25T16:23:35.135594Z",
     "iopub.status.busy": "2022-10-25T16:23:35.126657Z",
     "iopub.status.idle": "2022-10-25T16:23:41.085677Z",
     "shell.execute_reply": "2022-10-25T16:23:41.077521Z"
    }
   },
   "outputs": [
    {
     "data": {
      "text/html": [
       "\n",
       "<div>\n",
       "    <div id='dotnet-interactive-this-cell-23130.Microsoft.DotNet.Interactive.Http.HttpPort' style='display: none'>\n",
       "        The below script needs to be able to find the current output cell; this is an easy method to get it.\n",
       "    </div>\n",
       "    <script type='text/javascript'>\n",
       "async function probeAddresses(probingAddresses) {\n",
       "    function timeout(ms, promise) {\n",
       "        return new Promise(function (resolve, reject) {\n",
       "            setTimeout(function () {\n",
       "                reject(new Error('timeout'))\n",
       "            }, ms)\n",
       "            promise.then(resolve, reject)\n",
       "        })\n",
       "    }\n",
       "\n",
       "    if (Array.isArray(probingAddresses)) {\n",
       "        for (let i = 0; i < probingAddresses.length; i++) {\n",
       "\n",
       "            let rootUrl = probingAddresses[i];\n",
       "\n",
       "            if (!rootUrl.endsWith('/')) {\n",
       "                rootUrl = `${rootUrl}/`;\n",
       "            }\n",
       "\n",
       "            try {\n",
       "                let response = await timeout(1000, fetch(`${rootUrl}discovery`, {\n",
       "                    method: 'POST',\n",
       "                    cache: 'no-cache',\n",
       "                    mode: 'cors',\n",
       "                    timeout: 1000,\n",
       "                    headers: {\n",
       "                        'Content-Type': 'text/plain'\n",
       "                    },\n",
       "                    body: probingAddresses[i]\n",
       "                }));\n",
       "\n",
       "                if (response.status == 200) {\n",
       "                    return rootUrl;\n",
       "                }\n",
       "            }\n",
       "            catch (e) { }\n",
       "        }\n",
       "    }\n",
       "}\n",
       "\n",
       "function loadDotnetInteractiveApi() {\n",
       "    probeAddresses([\"http://172.28.169.63:2858/\", \"http://127.0.0.1:2858/\"])\n",
       "        .then((root) => {\n",
       "        // use probing to find host url and api resources\n",
       "        // load interactive helpers and language services\n",
       "        let dotnetInteractiveRequire = require.config({\n",
       "        context: '23130.Microsoft.DotNet.Interactive.Http.HttpPort',\n",
       "                paths:\n",
       "            {\n",
       "                'dotnet-interactive': `${root}resources`\n",
       "                }\n",
       "        }) || require;\n",
       "\n",
       "            window.dotnetInteractiveRequire = dotnetInteractiveRequire;\n",
       "\n",
       "            window.configureRequireFromExtension = function(extensionName, extensionCacheBuster) {\n",
       "                let paths = {};\n",
       "                paths[extensionName] = `${root}extensions/${extensionName}/resources/`;\n",
       "                \n",
       "                let internalRequire = require.config({\n",
       "                    context: extensionCacheBuster,\n",
       "                    paths: paths,\n",
       "                    urlArgs: `cacheBuster=${extensionCacheBuster}`\n",
       "                    }) || require;\n",
       "\n",
       "                return internalRequire\n",
       "            };\n",
       "        \n",
       "            dotnetInteractiveRequire([\n",
       "                    'dotnet-interactive/dotnet-interactive'\n",
       "                ],\n",
       "                function (dotnet) {\n",
       "                    dotnet.init(window);\n",
       "                },\n",
       "                function (error) {\n",
       "                    console.log(error);\n",
       "                }\n",
       "            );\n",
       "        })\n",
       "        .catch(error => {console.log(error);});\n",
       "    }\n",
       "\n",
       "// ensure `require` is available globally\n",
       "if ((typeof(require) !==  typeof(Function)) || (typeof(require.config) !== typeof(Function))) {\n",
       "    let require_script = document.createElement('script');\n",
       "    require_script.setAttribute('src', 'https://cdnjs.cloudflare.com/ajax/libs/require.js/2.3.6/require.min.js');\n",
       "    require_script.setAttribute('type', 'text/javascript');\n",
       "    \n",
       "    \n",
       "    require_script.onload = function() {\n",
       "        loadDotnetInteractiveApi();\n",
       "    };\n",
       "\n",
       "    document.getElementsByTagName('head')[0].appendChild(require_script);\n",
       "}\n",
       "else {\n",
       "    loadDotnetInteractiveApi();\n",
       "}\n",
       "\n",
       "    </script>\n",
       "</div>"
      ]
     },
     "metadata": {},
     "output_type": "display_data"
    },
    {
     "data": {
      "text/html": [
       "<div><div><strong>Restore sources</strong><ul><li><span> file://~/.nuget/packages/</span></li><li><span> https://api.nuget.org/v3/index.json</span></li></ul></div><div></div><div><strong>Installed Packages</strong><ul><li><span>Systemathics.Apis, 0.13.2-pre</span></li><li><span>TaskBuilder.fs, 2.1.0</span></li><li><span>XPlot.Plotly.Interactive, 4.0.6</span></li></ul></div></div>"
      ]
     },
     "metadata": {},
     "output_type": "display_data"
    },
    {
     "data": {
      "text/markdown": [
       "Loading extensions from `XPlot.Plotly.Interactive.dll`"
      ]
     },
     "metadata": {},
     "output_type": "display_data"
    },
    {
     "data": {
      "text/markdown": [
       "Configuring PowerShell Kernel for XPlot.Plotly integration."
      ]
     },
     "metadata": {},
     "output_type": "display_data"
    },
    {
     "data": {
      "text/markdown": [
       "Installed support for XPlot.Plotly."
      ]
     },
     "metadata": {},
     "output_type": "display_data"
    }
   ],
   "source": [
    "#i \"nuget: file://~/.nuget/packages/\"\n",
    "#i \"nuget: https://api.nuget.org/v3/index.json\"\n",
    "#r \"nuget: Systemathics.Apis, 0.*-pre*\"\n",
    "#r \"nuget: XPlot.Plotly.Interactive\"\n",
    "#r \"nuget: TaskBuilder.fs\""
   ]
  },
  {
   "cell_type": "code",
   "execution_count": 2,
   "metadata": {
    "dotnet_interactive": {
     "language": "fsharp"
    },
    "execution": {
     "iopub.execute_input": "2022-10-25T16:23:41.087775Z",
     "iopub.status.busy": "2022-10-25T16:23:41.087464Z",
     "iopub.status.idle": "2022-10-25T16:23:41.550568Z",
     "shell.execute_reply": "2022-10-25T16:23:41.550240Z"
    }
   },
   "outputs": [],
   "source": [
    "open Systemathics.Apis.Helpers\n",
    "open Systemathics.Apis.Type.Shared.V1\n",
    "open Systemathics.Apis.Services.Topology.V1\n",
    "open Google.Protobuf.WellKnownTypes\n",
    "open Google.Type\n",
    "open Grpc.Net.Client\n",
    "open Grpc.Core\n",
    "open XPlot.Plotly\n",
    "open XPlot.Plotly.Interactive"
   ]
  },
  {
   "cell_type": "markdown",
   "metadata": {},
   "source": [
    "### Step 2: Prepare API requests\n",
    "The following code snippets retrieve authentication token and prepare the API request by: opening the *channel* and adding the *token* to the request header:"
   ]
  },
  {
   "cell_type": "code",
   "execution_count": 3,
   "metadata": {
    "dotnet_interactive": {
     "language": "fsharp"
    },
    "execution": {
     "iopub.execute_input": "2022-10-25T16:23:41.553120Z",
     "iopub.status.busy": "2022-10-25T16:23:41.552791Z",
     "iopub.status.idle": "2022-10-25T16:23:42.123399Z",
     "shell.execute_reply": "2022-10-25T16:23:42.123128Z"
    }
   },
   "outputs": [],
   "source": [
    "// Get token as metadata\n",
    "let headers = TokenHelpers.GetTokenAsMetaData();\n",
    "\n",
    "// Create communication channel\n",
    "let channel = ChannelHelpers.GetChannel();"
   ]
  },
  {
   "cell_type": "markdown",
   "metadata": {},
   "source": [
    "### Step 3: Create and process request\n",
    "To request *TopologiesService*, we need to specify:\n",
    "* Instrument identifier\n",
    "* Time period selection: select start and end dates\n",
    "* Topology request parameters"
   ]
  },
  {
   "cell_type": "markdown",
   "metadata": {},
   "source": [
    "#### 3.1 Instrument selection"
   ]
  },
  {
   "cell_type": "code",
   "execution_count": 4,
   "metadata": {
    "dotnet_interactive": {
     "language": "fsharp"
    },
    "execution": {
     "iopub.execute_input": "2022-10-25T16:23:42.125467Z",
     "iopub.status.busy": "2022-10-25T16:23:42.125161Z",
     "iopub.status.idle": "2022-10-25T16:23:42.149145Z",
     "shell.execute_reply": "2022-10-25T16:23:42.148703Z"
    }
   },
   "outputs": [],
   "source": [
    "let ticker = \"AAPL\"\n",
    "let exchange = \"BATS\""
   ]
  },
  {
   "cell_type": "markdown",
   "metadata": {},
   "source": [
    "#### 3.2 Execution ratio granularity"
   ]
  },
  {
   "cell_type": "code",
   "execution_count": 5,
   "metadata": {
    "dotnet_interactive": {
     "language": "fsharp"
    },
    "execution": {
     "iopub.execute_input": "2022-10-25T16:23:42.151188Z",
     "iopub.status.busy": "2022-10-25T16:23:42.150855Z",
     "iopub.status.idle": "2022-10-25T16:23:42.163067Z",
     "shell.execute_reply": "2022-10-25T16:23:42.162755Z"
    }
   },
   "outputs": [],
   "source": [
    "let granularity = TopologyGranularity.Daily"
   ]
  },
  {
   "cell_type": "markdown",
   "metadata": {},
   "source": [
    "#### 3.2 Request creation\n",
    "The following code snippet creates *gRPC client*, process request and returns the request reply:"
   ]
  },
  {
   "cell_type": "code",
   "execution_count": 6,
   "metadata": {
    "dotnet_interactive": {
     "language": "fsharp"
    },
    "execution": {
     "iopub.execute_input": "2022-10-25T16:23:42.165679Z",
     "iopub.status.busy": "2022-10-25T16:23:42.165318Z",
     "iopub.status.idle": "2022-10-25T16:23:42.329542Z",
     "shell.execute_reply": "2022-10-25T16:23:42.329030Z"
    }
   },
   "outputs": [],
   "source": [
    "// Generate Trades request\n",
    "let requestL1 = \n",
    "    new TopologiesRequest(\n",
    "        Identifier = new Identifier ( Exchange = exchange, Ticker = ticker), \n",
    "        Granularity = granularity,\n",
    "        Level = Level.Trades\n",
    "    )\n",
    "\n",
    "// Generate Trades and Book request\n",
    "let requestL2 = \n",
    "    new TopologiesRequest (\n",
    "        Identifier = new Identifier ( Exchange = exchange, Ticker = ticker), \n",
    "        Granularity = granularity,\n",
    "        Level = Level.TradesAndBook\n",
    "    )"
   ]
  },
  {
   "cell_type": "code",
   "execution_count": 7,
   "metadata": {
    "dotnet_interactive": {
     "language": "fsharp"
    },
    "execution": {
     "iopub.execute_input": "2022-10-25T16:23:42.331934Z",
     "iopub.status.busy": "2022-10-25T16:23:42.331569Z",
     "iopub.status.idle": "2022-10-25T16:23:42.361442Z",
     "shell.execute_reply": "2022-10-25T16:23:42.361189Z"
    }
   },
   "outputs": [],
   "source": [
    "// Instantiate the topologies service\n",
    "let service = new TopologiesService.TopologiesServiceClient(channel)        "
   ]
  },
  {
   "cell_type": "markdown",
   "metadata": {},
   "source": [
    "#### 3.3 Retrieve data"
   ]
  },
  {
   "cell_type": "code",
   "execution_count": 8,
   "metadata": {
    "dotnet_interactive": {
     "language": "fsharp"
    },
    "execution": {
     "iopub.execute_input": "2022-10-25T16:23:42.364471Z",
     "iopub.status.busy": "2022-10-25T16:23:42.363879Z",
     "iopub.status.idle": "2022-10-25T16:23:43.105243Z",
     "shell.execute_reply": "2022-10-25T16:23:43.104973Z"
    }
   },
   "outputs": [
    {
     "data": {
      "text/html": [
       "<table><thead><tr><th><i>index</i></th><th>Begin</th><th>End</th><th>TicksCount</th></tr></thead><tbody><tr><td>0</td><td><table><thead><tr><th>Year</th><th>Month</th><th>Day</th></tr></thead><tbody><tr><td><div class=\"dni-plaintext\">2021</div></td><td><div class=\"dni-plaintext\">4</div></td><td><div class=\"dni-plaintext\">1</div></td></tr></tbody></table></td><td><table><thead><tr><th>Year</th><th>Month</th><th>Day</th></tr></thead><tbody><tr><td><div class=\"dni-plaintext\">2021</div></td><td><div class=\"dni-plaintext\">4</div></td><td><div class=\"dni-plaintext\">1</div></td></tr></tbody></table></td><td><div class=\"dni-plaintext\">28859</div></td></tr><tr><td>1</td><td><table><thead><tr><th>Year</th><th>Month</th><th>Day</th></tr></thead><tbody><tr><td><div class=\"dni-plaintext\">2021</div></td><td><div class=\"dni-plaintext\">4</div></td><td><div class=\"dni-plaintext\">5</div></td></tr></tbody></table></td><td><table><thead><tr><th>Year</th><th>Month</th><th>Day</th></tr></thead><tbody><tr><td><div class=\"dni-plaintext\">2021</div></td><td><div class=\"dni-plaintext\">4</div></td><td><div class=\"dni-plaintext\">5</div></td></tr></tbody></table></td><td><div class=\"dni-plaintext\">37733</div></td></tr><tr><td>2</td><td><table><thead><tr><th>Year</th><th>Month</th><th>Day</th></tr></thead><tbody><tr><td><div class=\"dni-plaintext\">2021</div></td><td><div class=\"dni-plaintext\">4</div></td><td><div class=\"dni-plaintext\">6</div></td></tr></tbody></table></td><td><table><thead><tr><th>Year</th><th>Month</th><th>Day</th></tr></thead><tbody><tr><td><div class=\"dni-plaintext\">2021</div></td><td><div class=\"dni-plaintext\">4</div></td><td><div class=\"dni-plaintext\">6</div></td></tr></tbody></table></td><td><div class=\"dni-plaintext\">31124</div></td></tr><tr><td>3</td><td><table><thead><tr><th>Year</th><th>Month</th><th>Day</th></tr></thead><tbody><tr><td><div class=\"dni-plaintext\">2021</div></td><td><div class=\"dni-plaintext\">4</div></td><td><div class=\"dni-plaintext\">7</div></td></tr></tbody></table></td><td><table><thead><tr><th>Year</th><th>Month</th><th>Day</th></tr></thead><tbody><tr><td><div class=\"dni-plaintext\">2021</div></td><td><div class=\"dni-plaintext\">4</div></td><td><div class=\"dni-plaintext\">7</div></td></tr></tbody></table></td><td><div class=\"dni-plaintext\">31290</div></td></tr><tr><td>4</td><td><table><thead><tr><th>Year</th><th>Month</th><th>Day</th></tr></thead><tbody><tr><td><div class=\"dni-plaintext\">2021</div></td><td><div class=\"dni-plaintext\">4</div></td><td><div class=\"dni-plaintext\">8</div></td></tr></tbody></table></td><td><table><thead><tr><th>Year</th><th>Month</th><th>Day</th></tr></thead><tbody><tr><td><div class=\"dni-plaintext\">2021</div></td><td><div class=\"dni-plaintext\">4</div></td><td><div class=\"dni-plaintext\">8</div></td></tr></tbody></table></td><td><div class=\"dni-plaintext\">34942</div></td></tr><tr><td>5</td><td><table><thead><tr><th>Year</th><th>Month</th><th>Day</th></tr></thead><tbody><tr><td><div class=\"dni-plaintext\">2021</div></td><td><div class=\"dni-plaintext\">4</div></td><td><div class=\"dni-plaintext\">9</div></td></tr></tbody></table></td><td><table><thead><tr><th>Year</th><th>Month</th><th>Day</th></tr></thead><tbody><tr><td><div class=\"dni-plaintext\">2021</div></td><td><div class=\"dni-plaintext\">4</div></td><td><div class=\"dni-plaintext\">9</div></td></tr></tbody></table></td><td><div class=\"dni-plaintext\">40412</div></td></tr><tr><td>6</td><td><table><thead><tr><th>Year</th><th>Month</th><th>Day</th></tr></thead><tbody><tr><td><div class=\"dni-plaintext\">2021</div></td><td><div class=\"dni-plaintext\">4</div></td><td><div class=\"dni-plaintext\">12</div></td></tr></tbody></table></td><td><table><thead><tr><th>Year</th><th>Month</th><th>Day</th></tr></thead><tbody><tr><td><div class=\"dni-plaintext\">2021</div></td><td><div class=\"dni-plaintext\">4</div></td><td><div class=\"dni-plaintext\">12</div></td></tr></tbody></table></td><td><div class=\"dni-plaintext\">32098</div></td></tr><tr><td>7</td><td><table><thead><tr><th>Year</th><th>Month</th><th>Day</th></tr></thead><tbody><tr><td><div class=\"dni-plaintext\">2021</div></td><td><div class=\"dni-plaintext\">4</div></td><td><div class=\"dni-plaintext\">13</div></td></tr></tbody></table></td><td><table><thead><tr><th>Year</th><th>Month</th><th>Day</th></tr></thead><tbody><tr><td><div class=\"dni-plaintext\">2021</div></td><td><div class=\"dni-plaintext\">4</div></td><td><div class=\"dni-plaintext\">13</div></td></tr></tbody></table></td><td><div class=\"dni-plaintext\">34567</div></td></tr><tr><td>8</td><td><table><thead><tr><th>Year</th><th>Month</th><th>Day</th></tr></thead><tbody><tr><td><div class=\"dni-plaintext\">2021</div></td><td><div class=\"dni-plaintext\">4</div></td><td><div class=\"dni-plaintext\">14</div></td></tr></tbody></table></td><td><table><thead><tr><th>Year</th><th>Month</th><th>Day</th></tr></thead><tbody><tr><td><div class=\"dni-plaintext\">2021</div></td><td><div class=\"dni-plaintext\">4</div></td><td><div class=\"dni-plaintext\">14</div></td></tr></tbody></table></td><td><div class=\"dni-plaintext\">37553</div></td></tr><tr><td>9</td><td><table><thead><tr><th>Year</th><th>Month</th><th>Day</th></tr></thead><tbody><tr><td><div class=\"dni-plaintext\">2021</div></td><td><div class=\"dni-plaintext\">4</div></td><td><div class=\"dni-plaintext\">15</div></td></tr></tbody></table></td><td><table><thead><tr><th>Year</th><th>Month</th><th>Day</th></tr></thead><tbody><tr><td><div class=\"dni-plaintext\">2021</div></td><td><div class=\"dni-plaintext\">4</div></td><td><div class=\"dni-plaintext\">15</div></td></tr></tbody></table></td><td><div class=\"dni-plaintext\">36459</div></td></tr><tr><td>10</td><td><table><thead><tr><th>Year</th><th>Month</th><th>Day</th></tr></thead><tbody><tr><td><div class=\"dni-plaintext\">2021</div></td><td><div class=\"dni-plaintext\">4</div></td><td><div class=\"dni-plaintext\">16</div></td></tr></tbody></table></td><td><table><thead><tr><th>Year</th><th>Month</th><th>Day</th></tr></thead><tbody><tr><td><div class=\"dni-plaintext\">2021</div></td><td><div class=\"dni-plaintext\">4</div></td><td><div class=\"dni-plaintext\">16</div></td></tr></tbody></table></td><td><div class=\"dni-plaintext\">29948</div></td></tr><tr><td>11</td><td><table><thead><tr><th>Year</th><th>Month</th><th>Day</th></tr></thead><tbody><tr><td><div class=\"dni-plaintext\">2021</div></td><td><div class=\"dni-plaintext\">4</div></td><td><div class=\"dni-plaintext\">19</div></td></tr></tbody></table></td><td><table><thead><tr><th>Year</th><th>Month</th><th>Day</th></tr></thead><tbody><tr><td><div class=\"dni-plaintext\">2021</div></td><td><div class=\"dni-plaintext\">4</div></td><td><div class=\"dni-plaintext\">19</div></td></tr></tbody></table></td><td><div class=\"dni-plaintext\">38576</div></td></tr><tr><td>12</td><td><table><thead><tr><th>Year</th><th>Month</th><th>Day</th></tr></thead><tbody><tr><td><div class=\"dni-plaintext\">2021</div></td><td><div class=\"dni-plaintext\">4</div></td><td><div class=\"dni-plaintext\">20</div></td></tr></tbody></table></td><td><table><thead><tr><th>Year</th><th>Month</th><th>Day</th></tr></thead><tbody><tr><td><div class=\"dni-plaintext\">2021</div></td><td><div class=\"dni-plaintext\">4</div></td><td><div class=\"dni-plaintext\">20</div></td></tr></tbody></table></td><td><div class=\"dni-plaintext\">41884</div></td></tr><tr><td>13</td><td><table><thead><tr><th>Year</th><th>Month</th><th>Day</th></tr></thead><tbody><tr><td><div class=\"dni-plaintext\">2021</div></td><td><div class=\"dni-plaintext\">4</div></td><td><div class=\"dni-plaintext\">21</div></td></tr></tbody></table></td><td><table><thead><tr><th>Year</th><th>Month</th><th>Day</th></tr></thead><tbody><tr><td><div class=\"dni-plaintext\">2021</div></td><td><div class=\"dni-plaintext\">4</div></td><td><div class=\"dni-plaintext\">21</div></td></tr></tbody></table></td><td><div class=\"dni-plaintext\">29839</div></td></tr><tr><td>14</td><td><table><thead><tr><th>Year</th><th>Month</th><th>Day</th></tr></thead><tbody><tr><td><div class=\"dni-plaintext\">2021</div></td><td><div class=\"dni-plaintext\">4</div></td><td><div class=\"dni-plaintext\">22</div></td></tr></tbody></table></td><td><table><thead><tr><th>Year</th><th>Month</th><th>Day</th></tr></thead><tbody><tr><td><div class=\"dni-plaintext\">2021</div></td><td><div class=\"dni-plaintext\">4</div></td><td><div class=\"dni-plaintext\">22</div></td></tr></tbody></table></td><td><div class=\"dni-plaintext\">39850</div></td></tr><tr><td>15</td><td><table><thead><tr><th>Year</th><th>Month</th><th>Day</th></tr></thead><tbody><tr><td><div class=\"dni-plaintext\">2021</div></td><td><div class=\"dni-plaintext\">4</div></td><td><div class=\"dni-plaintext\">23</div></td></tr></tbody></table></td><td><table><thead><tr><th>Year</th><th>Month</th><th>Day</th></tr></thead><tbody><tr><td><div class=\"dni-plaintext\">2021</div></td><td><div class=\"dni-plaintext\">4</div></td><td><div class=\"dni-plaintext\">23</div></td></tr></tbody></table></td><td><div class=\"dni-plaintext\">29610</div></td></tr><tr><td>16</td><td><table><thead><tr><th>Year</th><th>Month</th><th>Day</th></tr></thead><tbody><tr><td><div class=\"dni-plaintext\">2021</div></td><td><div class=\"dni-plaintext\">4</div></td><td><div class=\"dni-plaintext\">26</div></td></tr></tbody></table></td><td><table><thead><tr><th>Year</th><th>Month</th><th>Day</th></tr></thead><tbody><tr><td><div class=\"dni-plaintext\">2021</div></td><td><div class=\"dni-plaintext\">4</div></td><td><div class=\"dni-plaintext\">26</div></td></tr></tbody></table></td><td><div class=\"dni-plaintext\">27292</div></td></tr><tr><td>17</td><td><table><thead><tr><th>Year</th><th>Month</th><th>Day</th></tr></thead><tbody><tr><td><div class=\"dni-plaintext\">2021</div></td><td><div class=\"dni-plaintext\">4</div></td><td><div class=\"dni-plaintext\">27</div></td></tr></tbody></table></td><td><table><thead><tr><th>Year</th><th>Month</th><th>Day</th></tr></thead><tbody><tr><td><div class=\"dni-plaintext\">2021</div></td><td><div class=\"dni-plaintext\">4</div></td><td><div class=\"dni-plaintext\">27</div></td></tr></tbody></table></td><td><div class=\"dni-plaintext\">28133</div></td></tr><tr><td>18</td><td><table><thead><tr><th>Year</th><th>Month</th><th>Day</th></tr></thead><tbody><tr><td><div class=\"dni-plaintext\">2021</div></td><td><div class=\"dni-plaintext\">4</div></td><td><div class=\"dni-plaintext\">28</div></td></tr></tbody></table></td><td><table><thead><tr><th>Year</th><th>Month</th><th>Day</th></tr></thead><tbody><tr><td><div class=\"dni-plaintext\">2021</div></td><td><div class=\"dni-plaintext\">4</div></td><td><div class=\"dni-plaintext\">28</div></td></tr></tbody></table></td><td><div class=\"dni-plaintext\">43553</div></td></tr><tr><td>19</td><td><table><thead><tr><th>Year</th><th>Month</th><th>Day</th></tr></thead><tbody><tr><td><div class=\"dni-plaintext\">2021</div></td><td><div class=\"dni-plaintext\">4</div></td><td><div class=\"dni-plaintext\">29</div></td></tr></tbody></table></td><td><table><thead><tr><th>Year</th><th>Month</th><th>Day</th></tr></thead><tbody><tr><td><div class=\"dni-plaintext\">2021</div></td><td><div class=\"dni-plaintext\">4</div></td><td><div class=\"dni-plaintext\">29</div></td></tr></tbody></table></td><td><div class=\"dni-plaintext\">60946</div></td></tr><tr><td colspan=\"4\"><i>(341 more)</i></td></tr></tbody></table>"
      ]
     },
     "metadata": {},
     "output_type": "display_data"
    }
   ],
   "source": [
    "// Process Trades request\n",
    "let replyL1 = service.Topologies(requestL1, headers)\n",
    " \n",
    "// Retrieve topologies service response for Trades\n",
    "let topologiesL1 = replyL1.Entries\n",
    "let totalTicksL1 = topologiesL1 |> Seq.sumBy (fun t -> t.TicksCount)\n",
    "\n",
    "topologiesL1 |> display"
   ]
  },
  {
   "cell_type": "code",
   "execution_count": 9,
   "metadata": {
    "dotnet_interactive": {
     "language": "fsharp"
    },
    "execution": {
     "iopub.execute_input": "2022-10-25T16:23:43.107203Z",
     "iopub.status.busy": "2022-10-25T16:23:43.106891Z",
     "iopub.status.idle": "2022-10-25T16:23:43.191121Z",
     "shell.execute_reply": "2022-10-25T16:23:43.190865Z"
    }
   },
   "outputs": [
    {
     "data": {
      "text/html": [
       "<table><thead><tr><th><i>index</i></th><th>Begin</th><th>End</th><th>TicksCount</th></tr></thead><tbody><tr><td>0</td><td><table><thead><tr><th>Year</th><th>Month</th><th>Day</th></tr></thead><tbody><tr><td><div class=\"dni-plaintext\">2021</div></td><td><div class=\"dni-plaintext\">4</div></td><td><div class=\"dni-plaintext\">1</div></td></tr></tbody></table></td><td><table><thead><tr><th>Year</th><th>Month</th><th>Day</th></tr></thead><tbody><tr><td><div class=\"dni-plaintext\">2021</div></td><td><div class=\"dni-plaintext\">4</div></td><td><div class=\"dni-plaintext\">1</div></td></tr></tbody></table></td><td><div class=\"dni-plaintext\">889467</div></td></tr><tr><td>1</td><td><table><thead><tr><th>Year</th><th>Month</th><th>Day</th></tr></thead><tbody><tr><td><div class=\"dni-plaintext\">2021</div></td><td><div class=\"dni-plaintext\">4</div></td><td><div class=\"dni-plaintext\">5</div></td></tr></tbody></table></td><td><table><thead><tr><th>Year</th><th>Month</th><th>Day</th></tr></thead><tbody><tr><td><div class=\"dni-plaintext\">2021</div></td><td><div class=\"dni-plaintext\">4</div></td><td><div class=\"dni-plaintext\">5</div></td></tr></tbody></table></td><td><div class=\"dni-plaintext\">1062575</div></td></tr><tr><td>2</td><td><table><thead><tr><th>Year</th><th>Month</th><th>Day</th></tr></thead><tbody><tr><td><div class=\"dni-plaintext\">2021</div></td><td><div class=\"dni-plaintext\">4</div></td><td><div class=\"dni-plaintext\">6</div></td></tr></tbody></table></td><td><table><thead><tr><th>Year</th><th>Month</th><th>Day</th></tr></thead><tbody><tr><td><div class=\"dni-plaintext\">2021</div></td><td><div class=\"dni-plaintext\">4</div></td><td><div class=\"dni-plaintext\">6</div></td></tr></tbody></table></td><td><div class=\"dni-plaintext\">1136315</div></td></tr><tr><td>3</td><td><table><thead><tr><th>Year</th><th>Month</th><th>Day</th></tr></thead><tbody><tr><td><div class=\"dni-plaintext\">2021</div></td><td><div class=\"dni-plaintext\">4</div></td><td><div class=\"dni-plaintext\">7</div></td></tr></tbody></table></td><td><table><thead><tr><th>Year</th><th>Month</th><th>Day</th></tr></thead><tbody><tr><td><div class=\"dni-plaintext\">2021</div></td><td><div class=\"dni-plaintext\">4</div></td><td><div class=\"dni-plaintext\">7</div></td></tr></tbody></table></td><td><div class=\"dni-plaintext\">1033019</div></td></tr><tr><td>4</td><td><table><thead><tr><th>Year</th><th>Month</th><th>Day</th></tr></thead><tbody><tr><td><div class=\"dni-plaintext\">2021</div></td><td><div class=\"dni-plaintext\">4</div></td><td><div class=\"dni-plaintext\">8</div></td></tr></tbody></table></td><td><table><thead><tr><th>Year</th><th>Month</th><th>Day</th></tr></thead><tbody><tr><td><div class=\"dni-plaintext\">2021</div></td><td><div class=\"dni-plaintext\">4</div></td><td><div class=\"dni-plaintext\">8</div></td></tr></tbody></table></td><td><div class=\"dni-plaintext\">951853</div></td></tr><tr><td>5</td><td><table><thead><tr><th>Year</th><th>Month</th><th>Day</th></tr></thead><tbody><tr><td><div class=\"dni-plaintext\">2021</div></td><td><div class=\"dni-plaintext\">4</div></td><td><div class=\"dni-plaintext\">9</div></td></tr></tbody></table></td><td><table><thead><tr><th>Year</th><th>Month</th><th>Day</th></tr></thead><tbody><tr><td><div class=\"dni-plaintext\">2021</div></td><td><div class=\"dni-plaintext\">4</div></td><td><div class=\"dni-plaintext\">9</div></td></tr></tbody></table></td><td><div class=\"dni-plaintext\">1147311</div></td></tr><tr><td>6</td><td><table><thead><tr><th>Year</th><th>Month</th><th>Day</th></tr></thead><tbody><tr><td><div class=\"dni-plaintext\">2021</div></td><td><div class=\"dni-plaintext\">4</div></td><td><div class=\"dni-plaintext\">12</div></td></tr></tbody></table></td><td><table><thead><tr><th>Year</th><th>Month</th><th>Day</th></tr></thead><tbody><tr><td><div class=\"dni-plaintext\">2021</div></td><td><div class=\"dni-plaintext\">4</div></td><td><div class=\"dni-plaintext\">12</div></td></tr></tbody></table></td><td><div class=\"dni-plaintext\">1087082</div></td></tr><tr><td>7</td><td><table><thead><tr><th>Year</th><th>Month</th><th>Day</th></tr></thead><tbody><tr><td><div class=\"dni-plaintext\">2021</div></td><td><div class=\"dni-plaintext\">4</div></td><td><div class=\"dni-plaintext\">13</div></td></tr></tbody></table></td><td><table><thead><tr><th>Year</th><th>Month</th><th>Day</th></tr></thead><tbody><tr><td><div class=\"dni-plaintext\">2021</div></td><td><div class=\"dni-plaintext\">4</div></td><td><div class=\"dni-plaintext\">13</div></td></tr></tbody></table></td><td><div class=\"dni-plaintext\">1104602</div></td></tr><tr><td>8</td><td><table><thead><tr><th>Year</th><th>Month</th><th>Day</th></tr></thead><tbody><tr><td><div class=\"dni-plaintext\">2021</div></td><td><div class=\"dni-plaintext\">4</div></td><td><div class=\"dni-plaintext\">14</div></td></tr></tbody></table></td><td><table><thead><tr><th>Year</th><th>Month</th><th>Day</th></tr></thead><tbody><tr><td><div class=\"dni-plaintext\">2021</div></td><td><div class=\"dni-plaintext\">4</div></td><td><div class=\"dni-plaintext\">14</div></td></tr></tbody></table></td><td><div class=\"dni-plaintext\">1591828</div></td></tr><tr><td>9</td><td><table><thead><tr><th>Year</th><th>Month</th><th>Day</th></tr></thead><tbody><tr><td><div class=\"dni-plaintext\">2021</div></td><td><div class=\"dni-plaintext\">4</div></td><td><div class=\"dni-plaintext\">15</div></td></tr></tbody></table></td><td><table><thead><tr><th>Year</th><th>Month</th><th>Day</th></tr></thead><tbody><tr><td><div class=\"dni-plaintext\">2021</div></td><td><div class=\"dni-plaintext\">4</div></td><td><div class=\"dni-plaintext\">15</div></td></tr></tbody></table></td><td><div class=\"dni-plaintext\">1193781</div></td></tr><tr><td>10</td><td><table><thead><tr><th>Year</th><th>Month</th><th>Day</th></tr></thead><tbody><tr><td><div class=\"dni-plaintext\">2021</div></td><td><div class=\"dni-plaintext\">4</div></td><td><div class=\"dni-plaintext\">16</div></td></tr></tbody></table></td><td><table><thead><tr><th>Year</th><th>Month</th><th>Day</th></tr></thead><tbody><tr><td><div class=\"dni-plaintext\">2021</div></td><td><div class=\"dni-plaintext\">4</div></td><td><div class=\"dni-plaintext\">16</div></td></tr></tbody></table></td><td><div class=\"dni-plaintext\">1146046</div></td></tr><tr><td>11</td><td><table><thead><tr><th>Year</th><th>Month</th><th>Day</th></tr></thead><tbody><tr><td><div class=\"dni-plaintext\">2021</div></td><td><div class=\"dni-plaintext\">4</div></td><td><div class=\"dni-plaintext\">19</div></td></tr></tbody></table></td><td><table><thead><tr><th>Year</th><th>Month</th><th>Day</th></tr></thead><tbody><tr><td><div class=\"dni-plaintext\">2021</div></td><td><div class=\"dni-plaintext\">4</div></td><td><div class=\"dni-plaintext\">19</div></td></tr></tbody></table></td><td><div class=\"dni-plaintext\">1563066</div></td></tr><tr><td>12</td><td><table><thead><tr><th>Year</th><th>Month</th><th>Day</th></tr></thead><tbody><tr><td><div class=\"dni-plaintext\">2021</div></td><td><div class=\"dni-plaintext\">4</div></td><td><div class=\"dni-plaintext\">20</div></td></tr></tbody></table></td><td><table><thead><tr><th>Year</th><th>Month</th><th>Day</th></tr></thead><tbody><tr><td><div class=\"dni-plaintext\">2021</div></td><td><div class=\"dni-plaintext\">4</div></td><td><div class=\"dni-plaintext\">20</div></td></tr></tbody></table></td><td><div class=\"dni-plaintext\">1540185</div></td></tr><tr><td>13</td><td><table><thead><tr><th>Year</th><th>Month</th><th>Day</th></tr></thead><tbody><tr><td><div class=\"dni-plaintext\">2021</div></td><td><div class=\"dni-plaintext\">4</div></td><td><div class=\"dni-plaintext\">21</div></td></tr></tbody></table></td><td><table><thead><tr><th>Year</th><th>Month</th><th>Day</th></tr></thead><tbody><tr><td><div class=\"dni-plaintext\">2021</div></td><td><div class=\"dni-plaintext\">4</div></td><td><div class=\"dni-plaintext\">21</div></td></tr></tbody></table></td><td><div class=\"dni-plaintext\">1144926</div></td></tr><tr><td>14</td><td><table><thead><tr><th>Year</th><th>Month</th><th>Day</th></tr></thead><tbody><tr><td><div class=\"dni-plaintext\">2021</div></td><td><div class=\"dni-plaintext\">4</div></td><td><div class=\"dni-plaintext\">22</div></td></tr></tbody></table></td><td><table><thead><tr><th>Year</th><th>Month</th><th>Day</th></tr></thead><tbody><tr><td><div class=\"dni-plaintext\">2021</div></td><td><div class=\"dni-plaintext\">4</div></td><td><div class=\"dni-plaintext\">22</div></td></tr></tbody></table></td><td><div class=\"dni-plaintext\">1668561</div></td></tr><tr><td>15</td><td><table><thead><tr><th>Year</th><th>Month</th><th>Day</th></tr></thead><tbody><tr><td><div class=\"dni-plaintext\">2021</div></td><td><div class=\"dni-plaintext\">4</div></td><td><div class=\"dni-plaintext\">23</div></td></tr></tbody></table></td><td><table><thead><tr><th>Year</th><th>Month</th><th>Day</th></tr></thead><tbody><tr><td><div class=\"dni-plaintext\">2021</div></td><td><div class=\"dni-plaintext\">4</div></td><td><div class=\"dni-plaintext\">23</div></td></tr></tbody></table></td><td><div class=\"dni-plaintext\">1013004</div></td></tr><tr><td>16</td><td><table><thead><tr><th>Year</th><th>Month</th><th>Day</th></tr></thead><tbody><tr><td><div class=\"dni-plaintext\">2021</div></td><td><div class=\"dni-plaintext\">4</div></td><td><div class=\"dni-plaintext\">26</div></td></tr></tbody></table></td><td><table><thead><tr><th>Year</th><th>Month</th><th>Day</th></tr></thead><tbody><tr><td><div class=\"dni-plaintext\">2021</div></td><td><div class=\"dni-plaintext\">4</div></td><td><div class=\"dni-plaintext\">26</div></td></tr></tbody></table></td><td><div class=\"dni-plaintext\">851317</div></td></tr><tr><td>17</td><td><table><thead><tr><th>Year</th><th>Month</th><th>Day</th></tr></thead><tbody><tr><td><div class=\"dni-plaintext\">2021</div></td><td><div class=\"dni-plaintext\">4</div></td><td><div class=\"dni-plaintext\">27</div></td></tr></tbody></table></td><td><table><thead><tr><th>Year</th><th>Month</th><th>Day</th></tr></thead><tbody><tr><td><div class=\"dni-plaintext\">2021</div></td><td><div class=\"dni-plaintext\">4</div></td><td><div class=\"dni-plaintext\">27</div></td></tr></tbody></table></td><td><div class=\"dni-plaintext\">846691</div></td></tr><tr><td>18</td><td><table><thead><tr><th>Year</th><th>Month</th><th>Day</th></tr></thead><tbody><tr><td><div class=\"dni-plaintext\">2021</div></td><td><div class=\"dni-plaintext\">4</div></td><td><div class=\"dni-plaintext\">28</div></td></tr></tbody></table></td><td><table><thead><tr><th>Year</th><th>Month</th><th>Day</th></tr></thead><tbody><tr><td><div class=\"dni-plaintext\">2021</div></td><td><div class=\"dni-plaintext\">4</div></td><td><div class=\"dni-plaintext\">28</div></td></tr></tbody></table></td><td><div class=\"dni-plaintext\">1138584</div></td></tr><tr><td>19</td><td><table><thead><tr><th>Year</th><th>Month</th><th>Day</th></tr></thead><tbody><tr><td><div class=\"dni-plaintext\">2021</div></td><td><div class=\"dni-plaintext\">4</div></td><td><div class=\"dni-plaintext\">29</div></td></tr></tbody></table></td><td><table><thead><tr><th>Year</th><th>Month</th><th>Day</th></tr></thead><tbody><tr><td><div class=\"dni-plaintext\">2021</div></td><td><div class=\"dni-plaintext\">4</div></td><td><div class=\"dni-plaintext\">29</div></td></tr></tbody></table></td><td><div class=\"dni-plaintext\">1370772</div></td></tr><tr><td colspan=\"4\"><i>(342 more)</i></td></tr></tbody></table>"
      ]
     },
     "metadata": {},
     "output_type": "display_data"
    }
   ],
   "source": [
    "// Process Trades and Book request\n",
    "let replyL2 = service.Topologies(requestL2, headers)\n",
    " \n",
    "// Retrieve topologies service response for Trades and Book\n",
    "let topologiesL2 = replyL2.Entries\n",
    "let totalTicksL2 = topologiesL2 |> Seq.sumBy (fun t -> t.TicksCount)\n",
    "\n",
    "// Store tick count starting from the date of your choice\n",
    "topologiesL2 |> display"
   ]
  },
  {
   "cell_type": "markdown",
   "metadata": {},
   "source": [
    "### Step4: Visualize data"
   ]
  },
  {
   "cell_type": "markdown",
   "metadata": {},
   "source": [
    "#### 4.1 Retrieve tick counts\n",
    "The following code snippet retrieves *Trades ticks* and *Trades and Book ticks* counts:"
   ]
  },
  {
   "cell_type": "code",
   "execution_count": 10,
   "metadata": {
    "dotnet_interactive": {
     "language": "fsharp"
    },
    "execution": {
     "iopub.execute_input": "2022-10-25T16:23:43.193145Z",
     "iopub.status.busy": "2022-10-25T16:23:43.192817Z",
     "iopub.status.idle": "2022-10-25T16:23:43.306217Z",
     "shell.execute_reply": "2022-10-25T16:23:43.305964Z"
    }
   },
   "outputs": [],
   "source": [
    "// Extract ticks count for Trades\n",
    "let trades        = topologiesL1 |> Seq.map (fun t -> (new DateTime(t.Begin.Year, t.Begin.Month, t.Begin.Day), t.TicksCount))\n",
    "// Extract the price Trades and Book\n",
    "let tradesAndBook = topologiesL2 |> Seq.map (fun t -> (new DateTime(t.Begin.Year, t.Begin.Month, t.Begin.Day), t.TicksCount))"
   ]
  },
  {
   "cell_type": "markdown",
   "metadata": {},
   "source": [
    "#### 4.2 Compute execution ratio\n",
    "The following code snippet computes execution ratio by dividing  *Trades ticks* and *Trades and Book ticks* counts:"
   ]
  },
  {
   "cell_type": "code",
   "execution_count": 11,
   "metadata": {
    "dotnet_interactive": {
     "language": "fsharp"
    },
    "execution": {
     "iopub.execute_input": "2022-10-25T16:23:43.308390Z",
     "iopub.status.busy": "2022-10-25T16:23:43.308011Z",
     "iopub.status.idle": "2022-10-25T16:23:43.443600Z",
     "shell.execute_reply": "2022-10-25T16:23:43.443324Z"
    }
   },
   "outputs": [],
   "source": [
    "let computeExecutionRatioPercent (d1,tradeCount) (d2,tickCount) =\n",
    "    (d1, (double tradeCount ) / (double tickCount) * 100.)\n",
    "\n",
    "let executionRatio = Seq.map2 computeExecutionRatioPercent trades tradesAndBook\n"
   ]
  },
  {
   "cell_type": "markdown",
   "metadata": {},
   "source": [
    "#### 4.2 Plot execution ratio"
   ]
  },
  {
   "cell_type": "code",
   "execution_count": 12,
   "metadata": {
    "dotnet_interactive": {
     "language": "fsharp"
    },
    "execution": {
     "iopub.execute_input": "2022-10-25T16:23:43.446254Z",
     "iopub.status.busy": "2022-10-25T16:23:43.445462Z",
     "iopub.status.idle": "2022-10-25T16:23:43.799433Z",
     "shell.execute_reply": "2022-10-25T16:23:43.799166Z"
    }
   },
   "outputs": [
    {
     "data": {
      "text/html": [
       "<!DOCTYPE html>\n",
       "<div style=\"width: 1500px; height: 800px;\" id=\"f9c21603-7069-45ad-8cf9-2bdd0a50c683\"></div><script type=\"text/javascript\">\n",
       "\n",
       "var renderPlotly = function() {\n",
       "    var xplotRequire = require.config({context:'xplot-3.0.1',paths:{plotly:'https://cdn.plot.ly/plotly-1.49.2.min'}}) || require;\n",
       "    xplotRequire(['plotly'], function(Plotly) { \n",
       "\n",
       "            var data = [{\"type\":\"scattergl\",\"x\":[\"2021-04-01T00:00:00\",\"2021-04-05T00:00:00\",\"2021-04-06T00:00:00\",\"2021-04-07T00:00:00\",\"2021-04-08T00:00:00\",\"2021-04-09T00:00:00\",\"2021-04-12T00:00:00\",\"2021-04-13T00:00:00\",\"2021-04-14T00:00:00\",\"2021-04-15T00:00:00\",\"2021-04-16T00:00:00\",\"2021-04-19T00:00:00\",\"2021-04-20T00:00:00\",\"2021-04-21T00:00:00\",\"2021-04-22T00:00:00\",\"2021-04-23T00:00:00\",\"2021-04-26T00:00:00\",\"2021-04-27T00:00:00\",\"2021-04-28T00:00:00\",\"2021-04-29T00:00:00\",\"2021-04-30T00:00:00\",\"2021-05-03T00:00:00\",\"2021-05-04T00:00:00\",\"2021-05-05T00:00:00\",\"2021-05-06T00:00:00\",\"2021-05-07T00:00:00\",\"2021-05-10T00:00:00\",\"2021-05-11T00:00:00\",\"2021-05-12T00:00:00\",\"2021-05-13T00:00:00\",\"2021-05-14T00:00:00\",\"2021-05-17T00:00:00\",\"2021-05-18T00:00:00\",\"2021-05-19T00:00:00\",\"2021-05-20T00:00:00\",\"2021-05-21T00:00:00\",\"2021-05-24T00:00:00\",\"2021-05-25T00:00:00\",\"2021-05-26T00:00:00\",\"2021-05-27T00:00:00\",\"2021-05-28T00:00:00\",\"2021-06-01T00:00:00\",\"2021-06-02T00:00:00\",\"2021-06-03T00:00:00\",\"2021-06-04T00:00:00\",\"2021-06-07T00:00:00\",\"2021-06-08T00:00:00\",\"2021-06-09T00:00:00\",\"2021-06-10T00:00:00\",\"2021-06-11T00:00:00\",\"2021-06-14T00:00:00\",\"2021-06-15T00:00:00\",\"2021-06-16T00:00:00\",\"2021-06-17T00:00:00\",\"2021-06-18T00:00:00\",\"2021-06-21T00:00:00\",\"2021-06-22T00:00:00\",\"2021-06-23T00:00:00\",\"2021-06-24T00:00:00\",\"2021-06-25T00:00:00\",\"2021-06-28T00:00:00\",\"2021-06-29T00:00:00\",\"2021-06-30T00:00:00\",\"2021-07-01T00:00:00\",\"2021-07-02T00:00:00\",\"2021-07-06T00:00:00\",\"2021-07-07T00:00:00\",\"2021-07-08T00:00:00\",\"2021-07-09T00:00:00\",\"2021-07-12T00:00:00\",\"2021-07-13T00:00:00\",\"2021-07-14T00:00:00\",\"2021-07-15T00:00:00\",\"2021-07-16T00:00:00\",\"2021-07-19T00:00:00\",\"2021-07-20T00:00:00\",\"2021-07-21T00:00:00\",\"2021-07-22T00:00:00\",\"2021-07-23T00:00:00\",\"2021-07-26T00:00:00\",\"2021-07-27T00:00:00\",\"2021-07-28T00:00:00\",\"2021-07-29T00:00:00\",\"2021-07-30T00:00:00\",\"2021-08-02T00:00:00\",\"2021-08-03T00:00:00\",\"2021-08-04T00:00:00\",\"2021-08-05T00:00:00\",\"2021-08-06T00:00:00\",\"2021-08-09T00:00:00\",\"2021-08-10T00:00:00\",\"2021-08-11T00:00:00\",\"2021-08-12T00:00:00\",\"2021-08-13T00:00:00\",\"2021-08-16T00:00:00\",\"2021-08-17T00:00:00\",\"2021-08-18T00:00:00\",\"2021-08-19T00:00:00\",\"2021-08-20T00:00:00\",\"2021-08-23T00:00:00\",\"2021-08-24T00:00:00\",\"2021-08-25T00:00:00\",\"2021-08-26T00:00:00\",\"2021-08-27T00:00:00\",\"2021-08-30T00:00:00\",\"2021-08-31T00:00:00\",\"2021-09-01T00:00:00\",\"2021-09-02T00:00:00\",\"2021-09-03T00:00:00\",\"2021-09-07T00:00:00\",\"2021-09-08T00:00:00\",\"2021-09-09T00:00:00\",\"2021-09-10T00:00:00\",\"2021-09-13T00:00:00\",\"2021-09-14T00:00:00\",\"2021-09-15T00:00:00\",\"2021-09-16T00:00:00\",\"2021-09-17T00:00:00\",\"2021-09-20T00:00:00\",\"2021-09-21T00:00:00\",\"2021-09-22T00:00:00\",\"2021-09-23T00:00:00\",\"2021-09-24T00:00:00\",\"2021-09-27T00:00:00\",\"2021-09-28T00:00:00\",\"2021-09-29T00:00:00\",\"2021-09-30T00:00:00\",\"2021-10-01T00:00:00\",\"2021-10-04T00:00:00\",\"2021-10-05T00:00:00\",\"2021-10-06T00:00:00\",\"2021-10-07T00:00:00\",\"2021-10-08T00:00:00\",\"2021-10-11T00:00:00\",\"2021-10-12T00:00:00\",\"2021-10-13T00:00:00\",\"2021-10-14T00:00:00\",\"2021-10-15T00:00:00\",\"2021-10-18T00:00:00\",\"2021-10-19T00:00:00\",\"2021-10-20T00:00:00\",\"2021-10-21T00:00:00\",\"2021-10-22T00:00:00\",\"2021-10-25T00:00:00\",\"2021-10-26T00:00:00\",\"2021-10-27T00:00:00\",\"2021-10-28T00:00:00\",\"2021-10-29T00:00:00\",\"2021-11-01T00:00:00\",\"2021-11-02T00:00:00\",\"2021-11-03T00:00:00\",\"2021-11-04T00:00:00\",\"2021-11-05T00:00:00\",\"2021-11-08T00:00:00\",\"2021-11-09T00:00:00\",\"2021-11-10T00:00:00\",\"2021-11-11T00:00:00\",\"2021-11-12T00:00:00\",\"2021-11-15T00:00:00\",\"2021-11-16T00:00:00\",\"2021-11-17T00:00:00\",\"2021-11-18T00:00:00\",\"2021-11-19T00:00:00\",\"2021-11-22T00:00:00\",\"2021-11-23T00:00:00\",\"2021-11-24T00:00:00\",\"2021-11-26T00:00:00\",\"2021-11-29T00:00:00\",\"2021-11-30T00:00:00\",\"2021-12-01T00:00:00\",\"2021-12-02T00:00:00\",\"2021-12-03T00:00:00\",\"2021-12-06T00:00:00\",\"2021-12-07T00:00:00\",\"2021-12-08T00:00:00\",\"2021-12-09T00:00:00\",\"2021-12-10T00:00:00\",\"2021-12-13T00:00:00\",\"2021-12-14T00:00:00\",\"2021-12-15T00:00:00\",\"2021-12-16T00:00:00\",\"2021-12-17T00:00:00\",\"2021-12-20T00:00:00\",\"2021-12-21T00:00:00\",\"2021-12-22T00:00:00\",\"2021-12-23T00:00:00\",\"2021-12-27T00:00:00\",\"2021-12-28T00:00:00\",\"2021-12-29T00:00:00\",\"2021-12-30T00:00:00\",\"2021-12-31T00:00:00\",\"2022-01-03T00:00:00\",\"2022-01-04T00:00:00\",\"2022-01-05T00:00:00\",\"2022-01-06T00:00:00\",\"2022-01-07T00:00:00\",\"2022-01-10T00:00:00\",\"2022-01-11T00:00:00\",\"2022-01-12T00:00:00\",\"2022-01-13T00:00:00\",\"2022-01-14T00:00:00\",\"2022-01-18T00:00:00\",\"2022-01-19T00:00:00\",\"2022-01-20T00:00:00\",\"2022-01-21T00:00:00\",\"2022-01-24T00:00:00\",\"2022-01-25T00:00:00\",\"2022-01-26T00:00:00\",\"2022-01-27T00:00:00\",\"2022-01-28T00:00:00\",\"2022-01-31T00:00:00\",\"2022-02-01T00:00:00\",\"2022-02-02T00:00:00\",\"2022-02-03T00:00:00\",\"2022-02-04T00:00:00\",\"2022-02-07T00:00:00\",\"2022-02-08T00:00:00\",\"2022-02-09T00:00:00\",\"2022-02-10T00:00:00\",\"2022-02-11T00:00:00\",\"2022-02-14T00:00:00\",\"2022-02-15T00:00:00\",\"2022-02-16T00:00:00\",\"2022-02-17T00:00:00\",\"2022-02-18T00:00:00\",\"2022-02-22T00:00:00\",\"2022-02-23T00:00:00\",\"2022-02-24T00:00:00\",\"2022-02-25T00:00:00\",\"2022-02-28T00:00:00\",\"2022-03-01T00:00:00\",\"2022-03-02T00:00:00\",\"2022-03-03T00:00:00\",\"2022-03-04T00:00:00\",\"2022-03-07T00:00:00\",\"2022-03-08T00:00:00\",\"2022-03-09T00:00:00\",\"2022-03-10T00:00:00\",\"2022-03-11T00:00:00\",\"2022-03-14T00:00:00\",\"2022-03-15T00:00:00\",\"2022-03-16T00:00:00\",\"2022-03-17T00:00:00\",\"2022-03-18T00:00:00\",\"2022-03-21T00:00:00\",\"2022-03-22T00:00:00\",\"2022-03-23T00:00:00\",\"2022-03-24T00:00:00\",\"2022-03-25T00:00:00\",\"2022-03-28T00:00:00\",\"2022-03-29T00:00:00\",\"2022-03-30T00:00:00\",\"2022-03-31T00:00:00\",\"2022-04-01T00:00:00\",\"2022-04-04T00:00:00\",\"2022-04-05T00:00:00\",\"2022-04-06T00:00:00\",\"2022-04-07T00:00:00\",\"2022-04-08T00:00:00\",\"2022-04-11T00:00:00\",\"2022-04-12T00:00:00\",\"2022-04-13T00:00:00\",\"2022-04-14T00:00:00\",\"2022-04-18T00:00:00\",\"2022-04-19T00:00:00\",\"2022-04-20T00:00:00\",\"2022-04-21T00:00:00\",\"2022-04-22T00:00:00\",\"2022-04-25T00:00:00\",\"2022-04-29T00:00:00\",\"2022-05-02T00:00:00\",\"2022-05-03T00:00:00\",\"2022-05-04T00:00:00\",\"2022-05-05T00:00:00\",\"2022-05-06T00:00:00\",\"2022-05-09T00:00:00\",\"2022-05-10T00:00:00\",\"2022-05-11T00:00:00\",\"2022-05-12T00:00:00\",\"2022-05-13T00:00:00\",\"2022-05-16T00:00:00\",\"2022-05-17T00:00:00\",\"2022-05-18T00:00:00\",\"2022-05-19T00:00:00\",\"2022-05-20T00:00:00\",\"2022-05-23T00:00:00\",\"2022-05-24T00:00:00\",\"2022-05-25T00:00:00\",\"2022-05-26T00:00:00\",\"2022-05-27T00:00:00\",\"2022-05-31T00:00:00\",\"2022-06-01T00:00:00\",\"2022-06-02T00:00:00\",\"2022-06-03T00:00:00\",\"2022-06-06T00:00:00\",\"2022-06-07T00:00:00\",\"2022-06-08T00:00:00\",\"2022-06-09T00:00:00\",\"2022-06-10T00:00:00\",\"2022-06-13T00:00:00\",\"2022-06-14T00:00:00\",\"2022-06-15T00:00:00\",\"2022-06-16T00:00:00\",\"2022-06-17T00:00:00\",\"2022-06-21T00:00:00\",\"2022-06-22T00:00:00\",\"2022-06-23T00:00:00\",\"2022-06-24T00:00:00\",\"2022-06-27T00:00:00\",\"2022-06-29T00:00:00\",\"2022-06-30T00:00:00\",\"2022-07-01T00:00:00\",\"2022-07-05T00:00:00\",\"2022-07-06T00:00:00\",\"2022-07-07T00:00:00\",\"2022-07-08T00:00:00\",\"2022-07-11T00:00:00\",\"2022-07-12T00:00:00\",\"2022-07-13T00:00:00\",\"2022-07-14T00:00:00\",\"2022-07-15T00:00:00\",\"2022-07-18T00:00:00\",\"2022-07-19T00:00:00\",\"2022-07-20T00:00:00\",\"2022-07-21T00:00:00\",\"2022-07-22T00:00:00\",\"2022-07-25T00:00:00\",\"2022-07-26T00:00:00\",\"2022-07-27T00:00:00\",\"2022-07-28T00:00:00\",\"2022-07-29T00:00:00\",\"2022-08-01T00:00:00\",\"2022-08-02T00:00:00\",\"2022-08-03T00:00:00\",\"2022-08-04T00:00:00\",\"2022-08-05T00:00:00\",\"2022-08-09T00:00:00\",\"2022-08-10T00:00:00\",\"2022-08-11T00:00:00\",\"2022-08-12T00:00:00\",\"2022-08-15T00:00:00\",\"2022-08-16T00:00:00\",\"2022-08-17T00:00:00\",\"2022-08-18T00:00:00\",\"2022-08-19T00:00:00\",\"2022-08-22T00:00:00\",\"2022-08-23T00:00:00\",\"2022-08-24T00:00:00\",\"2022-08-25T00:00:00\",\"2022-08-26T00:00:00\",\"2022-08-29T00:00:00\",\"2022-08-30T00:00:00\",\"2022-08-31T00:00:00\",\"2022-09-01T00:00:00\",\"2022-09-02T00:00:00\",\"2022-09-06T00:00:00\",\"2022-09-08T00:00:00\",\"2022-09-09T00:00:00\",\"2022-09-12T00:00:00\",\"2022-09-13T00:00:00\",\"2022-09-14T00:00:00\"],\"y\":[28859,37733,31124,31290,34942,40412,32098,34567,37553,36459,29948,38576,41884,29839,39850,29610,27292,28133,43553,60946,44276,36323,62907,40202,41144,37053,41264,57580,53692,49819,32878,32160,28390,46503,29252,32398,23828,23366,20340,26949,26994,22485,22549,28329,24109,25543,27232,18826,28002,20067,27273,23697,39314,38106,33817,27944,24735,20237,21867,19951,21905,22952,22108,19717,29620,42847,43549,49497,35210,28598,39206,42926,40785,32599,56107,36137,27751,27554,27187,26079,42745,46817,23448,27485,25758,27304,25662,20208,21101,18521,26118,21518,30086,22639,39735,39746,42828,45817,29175,24845,23896,23937,28224,26808,38568,39372,35404,32010,24462,37333,36663,27159,80733,48842,48254,36380,34528,46818,62324,39609,39280,28807,26725,33381,55039,34882,42696,45761,51089,29596,41340,25084,26080,23471,33768,30022,22360,22995,27579,26069,21497,22010,23670,22065,25273,23243,35734,46072,27898,28209,23180,29045,25429,20952,32487,33287,19046,24926,24386,20903,32829,56578,50572,63318,53971,33872,47492,49599,87778,89060,89959,86824,68796,57769,61151,52389,65702,81321,70691,66000,90721,73797,52970,44309,44184,31230,36664,38548,32090,32512,29585,46637,51627,59655,72173,48064,66130,40908,50144,52438,52477,52296,53823,55451,81401,132925,74932,82084,82863,112773,62810,50693,48433,50618,54542,43536,44278,42537,65913,75428,62004,42625,42185,44422,54059,67372,61256,114476,63619,60474,72844,59614,55006,62320,69688,107604,56966,65213,65174,67744,54530,68723,46168,58980,56669,49141,66159,49995,50003,52965,55088,47798,57138,50286,43990,41658,57169,47914,46822,46762,50912,38474,44787,35806,35831,43198,63415,53329,68575,62433,94524,63483,73696,84162,96696,77501,98119,97595,127939,63448,49802,44359,65250,79712,79923,52072,48782,47782,43445,40927,47861,42380,40631,46333,38890,32710,24540,33225,51374,59532,40530,49642,56467,56277,35784,38803,40576,35974,33626,57198,57450,42149,41118,41760,36820,35531,31756,43247,41394,45277,41982,42298,42765,35966,37152,40060,30795,35985,43181,49457,47487,37277,36797,47697,33729,35836,30682,35853,34140,35182,28126,30760,45232,34116,34700,38597,32166,33017,30402,54440,38827,44077,42434,46048,46644,47453,49496,35470,48162,61769,43097],\"mode\":\"lines\",\"name\":\"Trades ticks count\"},{\"type\":\"scattergl\",\"x\":[\"2021-04-01T00:00:00\",\"2021-04-05T00:00:00\",\"2021-04-06T00:00:00\",\"2021-04-07T00:00:00\",\"2021-04-08T00:00:00\",\"2021-04-09T00:00:00\",\"2021-04-12T00:00:00\",\"2021-04-13T00:00:00\",\"2021-04-14T00:00:00\",\"2021-04-15T00:00:00\",\"2021-04-16T00:00:00\",\"2021-04-19T00:00:00\",\"2021-04-20T00:00:00\",\"2021-04-21T00:00:00\",\"2021-04-22T00:00:00\",\"2021-04-23T00:00:00\",\"2021-04-26T00:00:00\",\"2021-04-27T00:00:00\",\"2021-04-28T00:00:00\",\"2021-04-29T00:00:00\",\"2021-04-30T00:00:00\",\"2021-05-03T00:00:00\",\"2021-05-04T00:00:00\",\"2021-05-05T00:00:00\",\"2021-05-06T00:00:00\",\"2021-05-07T00:00:00\",\"2021-05-10T00:00:00\",\"2021-05-11T00:00:00\",\"2021-05-12T00:00:00\",\"2021-05-13T00:00:00\",\"2021-05-14T00:00:00\",\"2021-05-17T00:00:00\",\"2021-05-18T00:00:00\",\"2021-05-19T00:00:00\",\"2021-05-20T00:00:00\",\"2021-05-21T00:00:00\",\"2021-05-24T00:00:00\",\"2021-05-25T00:00:00\",\"2021-05-26T00:00:00\",\"2021-05-27T00:00:00\",\"2021-05-28T00:00:00\",\"2021-06-01T00:00:00\",\"2021-06-02T00:00:00\",\"2021-06-03T00:00:00\",\"2021-06-04T00:00:00\",\"2021-06-07T00:00:00\",\"2021-06-08T00:00:00\",\"2021-06-09T00:00:00\",\"2021-06-10T00:00:00\",\"2021-06-11T00:00:00\",\"2021-06-14T00:00:00\",\"2021-06-15T00:00:00\",\"2021-06-16T00:00:00\",\"2021-06-17T00:00:00\",\"2021-06-18T00:00:00\",\"2021-06-21T00:00:00\",\"2021-06-22T00:00:00\",\"2021-06-23T00:00:00\",\"2021-06-24T00:00:00\",\"2021-06-25T00:00:00\",\"2021-06-28T00:00:00\",\"2021-06-29T00:00:00\",\"2021-06-30T00:00:00\",\"2021-07-01T00:00:00\",\"2021-07-02T00:00:00\",\"2021-07-06T00:00:00\",\"2021-07-07T00:00:00\",\"2021-07-08T00:00:00\",\"2021-07-09T00:00:00\",\"2021-07-12T00:00:00\",\"2021-07-13T00:00:00\",\"2021-07-14T00:00:00\",\"2021-07-15T00:00:00\",\"2021-07-16T00:00:00\",\"2021-07-19T00:00:00\",\"2021-07-20T00:00:00\",\"2021-07-21T00:00:00\",\"2021-07-22T00:00:00\",\"2021-07-23T00:00:00\",\"2021-07-26T00:00:00\",\"2021-07-27T00:00:00\",\"2021-07-28T00:00:00\",\"2021-07-29T00:00:00\",\"2021-07-30T00:00:00\",\"2021-08-02T00:00:00\",\"2021-08-03T00:00:00\",\"2021-08-04T00:00:00\",\"2021-08-05T00:00:00\",\"2021-08-06T00:00:00\",\"2021-08-09T00:00:00\",\"2021-08-10T00:00:00\",\"2021-08-11T00:00:00\",\"2021-08-12T00:00:00\",\"2021-08-13T00:00:00\",\"2021-08-16T00:00:00\",\"2021-08-17T00:00:00\",\"2021-08-18T00:00:00\",\"2021-08-19T00:00:00\",\"2021-08-20T00:00:00\",\"2021-08-23T00:00:00\",\"2021-08-24T00:00:00\",\"2021-08-25T00:00:00\",\"2021-08-26T00:00:00\",\"2021-08-27T00:00:00\",\"2021-08-30T00:00:00\",\"2021-08-31T00:00:00\",\"2021-09-01T00:00:00\",\"2021-09-02T00:00:00\",\"2021-09-03T00:00:00\",\"2021-09-07T00:00:00\",\"2021-09-08T00:00:00\",\"2021-09-09T00:00:00\",\"2021-09-10T00:00:00\",\"2021-09-13T00:00:00\",\"2021-09-14T00:00:00\",\"2021-09-15T00:00:00\",\"2021-09-16T00:00:00\",\"2021-09-17T00:00:00\",\"2021-09-20T00:00:00\",\"2021-09-21T00:00:00\",\"2021-09-22T00:00:00\",\"2021-09-23T00:00:00\",\"2021-09-24T00:00:00\",\"2021-09-27T00:00:00\",\"2021-09-28T00:00:00\",\"2021-09-29T00:00:00\",\"2021-09-30T00:00:00\",\"2021-10-01T00:00:00\",\"2021-10-04T00:00:00\",\"2021-10-05T00:00:00\",\"2021-10-06T00:00:00\",\"2021-10-07T00:00:00\",\"2021-10-08T00:00:00\",\"2021-10-11T00:00:00\",\"2021-10-12T00:00:00\",\"2021-10-13T00:00:00\",\"2021-10-14T00:00:00\",\"2021-10-15T00:00:00\",\"2021-10-18T00:00:00\",\"2021-10-19T00:00:00\",\"2021-10-20T00:00:00\",\"2021-10-21T00:00:00\",\"2021-10-22T00:00:00\",\"2021-10-25T00:00:00\",\"2021-10-26T00:00:00\",\"2021-10-27T00:00:00\",\"2021-10-28T00:00:00\",\"2021-10-29T00:00:00\",\"2021-11-01T00:00:00\",\"2021-11-02T00:00:00\",\"2021-11-03T00:00:00\",\"2021-11-04T00:00:00\",\"2021-11-05T00:00:00\",\"2021-11-08T00:00:00\",\"2021-11-09T00:00:00\",\"2021-11-10T00:00:00\",\"2021-11-11T00:00:00\",\"2021-11-12T00:00:00\",\"2021-11-15T00:00:00\",\"2021-11-16T00:00:00\",\"2021-11-17T00:00:00\",\"2021-11-18T00:00:00\",\"2021-11-19T00:00:00\",\"2021-11-22T00:00:00\",\"2021-11-23T00:00:00\",\"2021-11-24T00:00:00\",\"2021-11-26T00:00:00\",\"2021-11-29T00:00:00\",\"2021-11-30T00:00:00\",\"2021-12-01T00:00:00\",\"2021-12-02T00:00:00\",\"2021-12-03T00:00:00\",\"2021-12-06T00:00:00\",\"2021-12-07T00:00:00\",\"2021-12-08T00:00:00\",\"2021-12-09T00:00:00\",\"2021-12-10T00:00:00\",\"2021-12-13T00:00:00\",\"2021-12-14T00:00:00\",\"2021-12-15T00:00:00\",\"2021-12-16T00:00:00\",\"2021-12-17T00:00:00\",\"2021-12-20T00:00:00\",\"2021-12-21T00:00:00\",\"2021-12-22T00:00:00\",\"2021-12-23T00:00:00\",\"2021-12-27T00:00:00\",\"2021-12-28T00:00:00\",\"2021-12-29T00:00:00\",\"2021-12-30T00:00:00\",\"2021-12-31T00:00:00\",\"2022-01-03T00:00:00\",\"2022-01-04T00:00:00\",\"2022-01-05T00:00:00\",\"2022-01-06T00:00:00\",\"2022-01-07T00:00:00\",\"2022-01-10T00:00:00\",\"2022-01-11T00:00:00\",\"2022-01-12T00:00:00\",\"2022-01-13T00:00:00\",\"2022-01-14T00:00:00\",\"2022-01-18T00:00:00\",\"2022-01-19T00:00:00\",\"2022-01-20T00:00:00\",\"2022-01-21T00:00:00\",\"2022-01-24T00:00:00\",\"2022-01-25T00:00:00\",\"2022-01-26T00:00:00\",\"2022-01-27T00:00:00\",\"2022-01-28T00:00:00\",\"2022-01-31T00:00:00\",\"2022-02-01T00:00:00\",\"2022-02-02T00:00:00\",\"2022-02-03T00:00:00\",\"2022-02-04T00:00:00\",\"2022-02-07T00:00:00\",\"2022-02-08T00:00:00\",\"2022-02-09T00:00:00\",\"2022-02-10T00:00:00\",\"2022-02-11T00:00:00\",\"2022-02-14T00:00:00\",\"2022-02-15T00:00:00\",\"2022-02-16T00:00:00\",\"2022-02-17T00:00:00\",\"2022-02-18T00:00:00\",\"2022-02-22T00:00:00\",\"2022-02-23T00:00:00\",\"2022-02-24T00:00:00\",\"2022-02-25T00:00:00\",\"2022-02-28T00:00:00\",\"2022-03-01T00:00:00\",\"2022-03-02T00:00:00\",\"2022-03-03T00:00:00\",\"2022-03-04T00:00:00\",\"2022-03-07T00:00:00\",\"2022-03-08T00:00:00\",\"2022-03-09T00:00:00\",\"2022-03-10T00:00:00\",\"2022-03-11T00:00:00\",\"2022-03-14T00:00:00\",\"2022-03-15T00:00:00\",\"2022-03-16T00:00:00\",\"2022-03-17T00:00:00\",\"2022-03-18T00:00:00\",\"2022-03-21T00:00:00\",\"2022-03-22T00:00:00\",\"2022-03-23T00:00:00\",\"2022-03-24T00:00:00\",\"2022-03-25T00:00:00\",\"2022-03-28T00:00:00\",\"2022-03-29T00:00:00\",\"2022-03-30T00:00:00\",\"2022-03-31T00:00:00\",\"2022-04-01T00:00:00\",\"2022-04-04T00:00:00\",\"2022-04-05T00:00:00\",\"2022-04-06T00:00:00\",\"2022-04-07T00:00:00\",\"2022-04-08T00:00:00\",\"2022-04-11T00:00:00\",\"2022-04-12T00:00:00\",\"2022-04-13T00:00:00\",\"2022-04-14T00:00:00\",\"2022-04-18T00:00:00\",\"2022-04-19T00:00:00\",\"2022-04-20T00:00:00\",\"2022-04-21T00:00:00\",\"2022-04-22T00:00:00\",\"2022-04-25T00:00:00\",\"2022-04-29T00:00:00\",\"2022-05-02T00:00:00\",\"2022-05-03T00:00:00\",\"2022-05-04T00:00:00\",\"2022-05-05T00:00:00\",\"2022-05-06T00:00:00\",\"2022-05-09T00:00:00\",\"2022-05-10T00:00:00\",\"2022-05-11T00:00:00\",\"2022-05-12T00:00:00\",\"2022-05-13T00:00:00\",\"2022-05-16T00:00:00\",\"2022-05-17T00:00:00\",\"2022-05-18T00:00:00\",\"2022-05-19T00:00:00\",\"2022-05-20T00:00:00\",\"2022-05-23T00:00:00\",\"2022-05-24T00:00:00\",\"2022-05-25T00:00:00\",\"2022-05-26T00:00:00\",\"2022-05-27T00:00:00\",\"2022-05-31T00:00:00\",\"2022-06-01T00:00:00\",\"2022-06-02T00:00:00\",\"2022-06-03T00:00:00\",\"2022-06-06T00:00:00\",\"2022-06-07T00:00:00\",\"2022-06-08T00:00:00\",\"2022-06-09T00:00:00\",\"2022-06-10T00:00:00\",\"2022-06-13T00:00:00\",\"2022-06-14T00:00:00\",\"2022-06-15T00:00:00\",\"2022-06-16T00:00:00\",\"2022-06-17T00:00:00\",\"2022-06-21T00:00:00\",\"2022-06-22T00:00:00\",\"2022-06-23T00:00:00\",\"2022-06-24T00:00:00\",\"2022-06-27T00:00:00\",\"2022-06-29T00:00:00\",\"2022-06-30T00:00:00\",\"2022-07-01T00:00:00\",\"2022-07-05T00:00:00\",\"2022-07-06T00:00:00\",\"2022-07-07T00:00:00\",\"2022-07-08T00:00:00\",\"2022-07-11T00:00:00\",\"2022-07-12T00:00:00\",\"2022-07-13T00:00:00\",\"2022-07-14T00:00:00\",\"2022-07-15T00:00:00\",\"2022-07-18T00:00:00\",\"2022-07-19T00:00:00\",\"2022-07-20T00:00:00\",\"2022-07-21T00:00:00\",\"2022-07-22T00:00:00\",\"2022-07-25T00:00:00\",\"2022-07-26T00:00:00\",\"2022-07-27T00:00:00\",\"2022-07-28T00:00:00\",\"2022-07-29T00:00:00\",\"2022-08-01T00:00:00\",\"2022-08-02T00:00:00\",\"2022-08-03T00:00:00\",\"2022-08-04T00:00:00\",\"2022-08-05T00:00:00\",\"2022-08-09T00:00:00\",\"2022-08-10T00:00:00\",\"2022-08-11T00:00:00\",\"2022-08-12T00:00:00\",\"2022-08-15T00:00:00\",\"2022-08-16T00:00:00\",\"2022-08-17T00:00:00\",\"2022-08-18T00:00:00\",\"2022-08-19T00:00:00\",\"2022-08-22T00:00:00\",\"2022-08-23T00:00:00\",\"2022-08-24T00:00:00\",\"2022-08-25T00:00:00\",\"2022-08-26T00:00:00\",\"2022-08-29T00:00:00\",\"2022-08-30T00:00:00\",\"2022-08-31T00:00:00\",\"2022-09-01T00:00:00\",\"2022-09-02T00:00:00\",\"2022-09-06T00:00:00\",\"2022-09-07T00:00:00\",\"2022-09-08T00:00:00\",\"2022-09-09T00:00:00\",\"2022-09-12T00:00:00\",\"2022-09-13T00:00:00\",\"2022-09-14T00:00:00\"],\"y\":[889467,1062575,1136315,1033019,951853,1147311,1087082,1104602,1591828,1193781,1146046,1563066,1540185,1144926,1668561,1013004,851317,846691,1138584,1370772,1680411,1429682,2314990,1477139,1666797,1545752,1536752,2732864,2259597,1753189,1020933,1608893,1269367,1926716,989710,1190179,730692,1006201,735108,813780,837671,808423,854734,1040551,707020,718729,947421,824940,942572,626375,827794,840184,1576747,1145941,1212877,934072,730190,644869,682682,582919,558311,542606,535707,568078,585602,874622,710222,1020833,889642,646290,740021,1035992,1023785,926720,1326122,956327,679434,802951,614091,588089,1029378,970529,610534,718319,651702,750120,620984,536233,535311,476544,654098,593392,586672,503225,864242,1024195,950056,1296710,763708,586799,553667,619671,799501,656301,721247,723066,655410,817553,632364,870787,998319,794592,1176933,1416562,1135892,1106769,966113,1121715,1624404,1385993,1191094,865688,764657,960129,1591048,1159178,1320260,1098735,1522867,924845,1270825,690724,1008951,809199,1093336,896113,615991,573604,575869,701438,701596,640544,825814,527393,1014483,987617,874566,936184,899234,774372,735220,855623,839499,724332,975613,1287894,752040,741178,761600,749866,1007377,1467651,1040794,1423348,1707208,1067463,1201066,1099733,2264102,1823063,2053664,2798981,2085471,1465130,1476722,1429017,1540666,1947583,1821282,1874908,2497234,1885422,1788907,1663290,1404649,870135,988888,1218367,1037911,889538,924140,1322180,1508308,1940242,2429684,1941640,2117509,1583767,2858078,2884445,2924598,2226214,2475768,2071272,2784471,2885389,2239656,1981855,2287028,2478267,1913499,1632448,2099236,2018889,1951090,2120333,2523065,1642428,2960764,3609341,2417736,1678912,1570072,1459972,2113356,2367626,2064957,3207673,2361272,2600651,2531227,1665009,1648424,2052195,2517810,3707021,1780715,1720077,1582176,2040874,1592125,2320343,1384938,1468119,1633691,1229237,1568617,1294736,1616527,1467315,1536737,1397635,1336693,1506307,1074249,1287631,1602658,1504469,1185312,1421049,1405297,1121740,1323775,1339697,1079286,1266517,1547961,1386127,1818900,1234924,1916175,1453342,1502371,1828520,2027961,1646353,1945780,1652132,1913249,1185742,1782789,1196904,1470975,1552634,1787076,1224091,1525632,1254455,1204446,984776,1390215,1373141,1293693,1616445,1604024,1258872,1227715,1539521,1170864,1746544,2002754,1574058,1216007,1446991,983167,1046982,1332930,735290,961020,1285219,1220365,1538701,1370106,1615957,937024,1365846,1033487,1200794,1106793,1511510,1258590,1300095,1168684,1001322,1435502,1646372,1357979,1169970,1423073,1448833,981545,1401147,1497420,1447645,1409001,1387113,1191817,1003512,1318711,1068285,878344,1138143,1326247,1169021,1139880,1154469,1428805,1306742,1125523,1469173,1433966,1705259,1624593,1735318,1917254,1776536,1728999,1184720,1292581,1295101,1574108,1707513],\"mode\":\"lines\",\"name\":\"Trades and Book ticks count\"},{\"type\":\"scattergl\",\"x\":[\"2021-04-01T00:00:00\",\"2021-04-05T00:00:00\",\"2021-04-06T00:00:00\",\"2021-04-07T00:00:00\",\"2021-04-08T00:00:00\",\"2021-04-09T00:00:00\",\"2021-04-12T00:00:00\",\"2021-04-13T00:00:00\",\"2021-04-14T00:00:00\",\"2021-04-15T00:00:00\",\"2021-04-16T00:00:00\",\"2021-04-19T00:00:00\",\"2021-04-20T00:00:00\",\"2021-04-21T00:00:00\",\"2021-04-22T00:00:00\",\"2021-04-23T00:00:00\",\"2021-04-26T00:00:00\",\"2021-04-27T00:00:00\",\"2021-04-28T00:00:00\",\"2021-04-29T00:00:00\",\"2021-04-30T00:00:00\",\"2021-05-03T00:00:00\",\"2021-05-04T00:00:00\",\"2021-05-05T00:00:00\",\"2021-05-06T00:00:00\",\"2021-05-07T00:00:00\",\"2021-05-10T00:00:00\",\"2021-05-11T00:00:00\",\"2021-05-12T00:00:00\",\"2021-05-13T00:00:00\",\"2021-05-14T00:00:00\",\"2021-05-17T00:00:00\",\"2021-05-18T00:00:00\",\"2021-05-19T00:00:00\",\"2021-05-20T00:00:00\",\"2021-05-21T00:00:00\",\"2021-05-24T00:00:00\",\"2021-05-25T00:00:00\",\"2021-05-26T00:00:00\",\"2021-05-27T00:00:00\",\"2021-05-28T00:00:00\",\"2021-06-01T00:00:00\",\"2021-06-02T00:00:00\",\"2021-06-03T00:00:00\",\"2021-06-04T00:00:00\",\"2021-06-07T00:00:00\",\"2021-06-08T00:00:00\",\"2021-06-09T00:00:00\",\"2021-06-10T00:00:00\",\"2021-06-11T00:00:00\",\"2021-06-14T00:00:00\",\"2021-06-15T00:00:00\",\"2021-06-16T00:00:00\",\"2021-06-17T00:00:00\",\"2021-06-18T00:00:00\",\"2021-06-21T00:00:00\",\"2021-06-22T00:00:00\",\"2021-06-23T00:00:00\",\"2021-06-24T00:00:00\",\"2021-06-25T00:00:00\",\"2021-06-28T00:00:00\",\"2021-06-29T00:00:00\",\"2021-06-30T00:00:00\",\"2021-07-01T00:00:00\",\"2021-07-02T00:00:00\",\"2021-07-06T00:00:00\",\"2021-07-07T00:00:00\",\"2021-07-08T00:00:00\",\"2021-07-09T00:00:00\",\"2021-07-12T00:00:00\",\"2021-07-13T00:00:00\",\"2021-07-14T00:00:00\",\"2021-07-15T00:00:00\",\"2021-07-16T00:00:00\",\"2021-07-19T00:00:00\",\"2021-07-20T00:00:00\",\"2021-07-21T00:00:00\",\"2021-07-22T00:00:00\",\"2021-07-23T00:00:00\",\"2021-07-26T00:00:00\",\"2021-07-27T00:00:00\",\"2021-07-28T00:00:00\",\"2021-07-29T00:00:00\",\"2021-07-30T00:00:00\",\"2021-08-02T00:00:00\",\"2021-08-03T00:00:00\",\"2021-08-04T00:00:00\",\"2021-08-05T00:00:00\",\"2021-08-06T00:00:00\",\"2021-08-09T00:00:00\",\"2021-08-10T00:00:00\",\"2021-08-11T00:00:00\",\"2021-08-12T00:00:00\",\"2021-08-13T00:00:00\",\"2021-08-16T00:00:00\",\"2021-08-17T00:00:00\",\"2021-08-18T00:00:00\",\"2021-08-19T00:00:00\",\"2021-08-20T00:00:00\",\"2021-08-23T00:00:00\",\"2021-08-24T00:00:00\",\"2021-08-25T00:00:00\",\"2021-08-26T00:00:00\",\"2021-08-27T00:00:00\",\"2021-08-30T00:00:00\",\"2021-08-31T00:00:00\",\"2021-09-01T00:00:00\",\"2021-09-02T00:00:00\",\"2021-09-03T00:00:00\",\"2021-09-07T00:00:00\",\"2021-09-08T00:00:00\",\"2021-09-09T00:00:00\",\"2021-09-10T00:00:00\",\"2021-09-13T00:00:00\",\"2021-09-14T00:00:00\",\"2021-09-15T00:00:00\",\"2021-09-16T00:00:00\",\"2021-09-17T00:00:00\",\"2021-09-20T00:00:00\",\"2021-09-21T00:00:00\",\"2021-09-22T00:00:00\",\"2021-09-23T00:00:00\",\"2021-09-24T00:00:00\",\"2021-09-27T00:00:00\",\"2021-09-28T00:00:00\",\"2021-09-29T00:00:00\",\"2021-09-30T00:00:00\",\"2021-10-01T00:00:00\",\"2021-10-04T00:00:00\",\"2021-10-05T00:00:00\",\"2021-10-06T00:00:00\",\"2021-10-07T00:00:00\",\"2021-10-08T00:00:00\",\"2021-10-11T00:00:00\",\"2021-10-12T00:00:00\",\"2021-10-13T00:00:00\",\"2021-10-14T00:00:00\",\"2021-10-15T00:00:00\",\"2021-10-18T00:00:00\",\"2021-10-19T00:00:00\",\"2021-10-20T00:00:00\",\"2021-10-21T00:00:00\",\"2021-10-22T00:00:00\",\"2021-10-25T00:00:00\",\"2021-10-26T00:00:00\",\"2021-10-27T00:00:00\",\"2021-10-28T00:00:00\",\"2021-10-29T00:00:00\",\"2021-11-01T00:00:00\",\"2021-11-02T00:00:00\",\"2021-11-03T00:00:00\",\"2021-11-04T00:00:00\",\"2021-11-05T00:00:00\",\"2021-11-08T00:00:00\",\"2021-11-09T00:00:00\",\"2021-11-10T00:00:00\",\"2021-11-11T00:00:00\",\"2021-11-12T00:00:00\",\"2021-11-15T00:00:00\",\"2021-11-16T00:00:00\",\"2021-11-17T00:00:00\",\"2021-11-18T00:00:00\",\"2021-11-19T00:00:00\",\"2021-11-22T00:00:00\",\"2021-11-23T00:00:00\",\"2021-11-24T00:00:00\",\"2021-11-26T00:00:00\",\"2021-11-29T00:00:00\",\"2021-11-30T00:00:00\",\"2021-12-01T00:00:00\",\"2021-12-02T00:00:00\",\"2021-12-03T00:00:00\",\"2021-12-06T00:00:00\",\"2021-12-07T00:00:00\",\"2021-12-08T00:00:00\",\"2021-12-09T00:00:00\",\"2021-12-10T00:00:00\",\"2021-12-13T00:00:00\",\"2021-12-14T00:00:00\",\"2021-12-15T00:00:00\",\"2021-12-16T00:00:00\",\"2021-12-17T00:00:00\",\"2021-12-20T00:00:00\",\"2021-12-21T00:00:00\",\"2021-12-22T00:00:00\",\"2021-12-23T00:00:00\",\"2021-12-27T00:00:00\",\"2021-12-28T00:00:00\",\"2021-12-29T00:00:00\",\"2021-12-30T00:00:00\",\"2021-12-31T00:00:00\",\"2022-01-03T00:00:00\",\"2022-01-04T00:00:00\",\"2022-01-05T00:00:00\",\"2022-01-06T00:00:00\",\"2022-01-07T00:00:00\",\"2022-01-10T00:00:00\",\"2022-01-11T00:00:00\",\"2022-01-12T00:00:00\",\"2022-01-13T00:00:00\",\"2022-01-14T00:00:00\",\"2022-01-18T00:00:00\",\"2022-01-19T00:00:00\",\"2022-01-20T00:00:00\",\"2022-01-21T00:00:00\",\"2022-01-24T00:00:00\",\"2022-01-25T00:00:00\",\"2022-01-26T00:00:00\",\"2022-01-27T00:00:00\",\"2022-01-28T00:00:00\",\"2022-01-31T00:00:00\",\"2022-02-01T00:00:00\",\"2022-02-02T00:00:00\",\"2022-02-03T00:00:00\",\"2022-02-04T00:00:00\",\"2022-02-07T00:00:00\",\"2022-02-08T00:00:00\",\"2022-02-09T00:00:00\",\"2022-02-10T00:00:00\",\"2022-02-11T00:00:00\",\"2022-02-14T00:00:00\",\"2022-02-15T00:00:00\",\"2022-02-16T00:00:00\",\"2022-02-17T00:00:00\",\"2022-02-18T00:00:00\",\"2022-02-22T00:00:00\",\"2022-02-23T00:00:00\",\"2022-02-24T00:00:00\",\"2022-02-25T00:00:00\",\"2022-02-28T00:00:00\",\"2022-03-01T00:00:00\",\"2022-03-02T00:00:00\",\"2022-03-03T00:00:00\",\"2022-03-04T00:00:00\",\"2022-03-07T00:00:00\",\"2022-03-08T00:00:00\",\"2022-03-09T00:00:00\",\"2022-03-10T00:00:00\",\"2022-03-11T00:00:00\",\"2022-03-14T00:00:00\",\"2022-03-15T00:00:00\",\"2022-03-16T00:00:00\",\"2022-03-17T00:00:00\",\"2022-03-18T00:00:00\",\"2022-03-21T00:00:00\",\"2022-03-22T00:00:00\",\"2022-03-23T00:00:00\",\"2022-03-24T00:00:00\",\"2022-03-25T00:00:00\",\"2022-03-28T00:00:00\",\"2022-03-29T00:00:00\",\"2022-03-30T00:00:00\",\"2022-03-31T00:00:00\",\"2022-04-01T00:00:00\",\"2022-04-04T00:00:00\",\"2022-04-05T00:00:00\",\"2022-04-06T00:00:00\",\"2022-04-07T00:00:00\",\"2022-04-08T00:00:00\",\"2022-04-11T00:00:00\",\"2022-04-12T00:00:00\",\"2022-04-13T00:00:00\",\"2022-04-14T00:00:00\",\"2022-04-18T00:00:00\",\"2022-04-19T00:00:00\",\"2022-04-20T00:00:00\",\"2022-04-21T00:00:00\",\"2022-04-22T00:00:00\",\"2022-04-25T00:00:00\",\"2022-04-29T00:00:00\",\"2022-05-02T00:00:00\",\"2022-05-03T00:00:00\",\"2022-05-04T00:00:00\",\"2022-05-05T00:00:00\",\"2022-05-06T00:00:00\",\"2022-05-09T00:00:00\",\"2022-05-10T00:00:00\",\"2022-05-11T00:00:00\",\"2022-05-12T00:00:00\",\"2022-05-13T00:00:00\",\"2022-05-16T00:00:00\",\"2022-05-17T00:00:00\",\"2022-05-18T00:00:00\",\"2022-05-19T00:00:00\",\"2022-05-20T00:00:00\",\"2022-05-23T00:00:00\",\"2022-05-24T00:00:00\",\"2022-05-25T00:00:00\",\"2022-05-26T00:00:00\",\"2022-05-27T00:00:00\",\"2022-05-31T00:00:00\",\"2022-06-01T00:00:00\",\"2022-06-02T00:00:00\",\"2022-06-03T00:00:00\",\"2022-06-06T00:00:00\",\"2022-06-07T00:00:00\",\"2022-06-08T00:00:00\",\"2022-06-09T00:00:00\",\"2022-06-10T00:00:00\",\"2022-06-13T00:00:00\",\"2022-06-14T00:00:00\",\"2022-06-15T00:00:00\",\"2022-06-16T00:00:00\",\"2022-06-17T00:00:00\",\"2022-06-21T00:00:00\",\"2022-06-22T00:00:00\",\"2022-06-23T00:00:00\",\"2022-06-24T00:00:00\",\"2022-06-27T00:00:00\",\"2022-06-29T00:00:00\",\"2022-06-30T00:00:00\",\"2022-07-01T00:00:00\",\"2022-07-05T00:00:00\",\"2022-07-06T00:00:00\",\"2022-07-07T00:00:00\",\"2022-07-08T00:00:00\",\"2022-07-11T00:00:00\",\"2022-07-12T00:00:00\",\"2022-07-13T00:00:00\",\"2022-07-14T00:00:00\",\"2022-07-15T00:00:00\",\"2022-07-18T00:00:00\",\"2022-07-19T00:00:00\",\"2022-07-20T00:00:00\",\"2022-07-21T00:00:00\",\"2022-07-22T00:00:00\",\"2022-07-25T00:00:00\",\"2022-07-26T00:00:00\",\"2022-07-27T00:00:00\",\"2022-07-28T00:00:00\",\"2022-07-29T00:00:00\",\"2022-08-01T00:00:00\",\"2022-08-02T00:00:00\",\"2022-08-03T00:00:00\",\"2022-08-04T00:00:00\",\"2022-08-05T00:00:00\",\"2022-08-09T00:00:00\",\"2022-08-10T00:00:00\",\"2022-08-11T00:00:00\",\"2022-08-12T00:00:00\",\"2022-08-15T00:00:00\",\"2022-08-16T00:00:00\",\"2022-08-17T00:00:00\",\"2022-08-18T00:00:00\",\"2022-08-19T00:00:00\",\"2022-08-22T00:00:00\",\"2022-08-23T00:00:00\",\"2022-08-24T00:00:00\",\"2022-08-25T00:00:00\",\"2022-08-26T00:00:00\",\"2022-08-29T00:00:00\",\"2022-08-30T00:00:00\",\"2022-08-31T00:00:00\",\"2022-09-01T00:00:00\",\"2022-09-02T00:00:00\",\"2022-09-06T00:00:00\",\"2022-09-08T00:00:00\",\"2022-09-09T00:00:00\",\"2022-09-12T00:00:00\",\"2022-09-13T00:00:00\",\"2022-09-14T00:00:00\"],\"y\":[3.244527340530902,3.5510905112580287,2.739029230451063,3.0289859141022575,3.6709449883542944,3.5223230667186143,2.9526751431814713,3.1293624309932446,2.359111662817842,3.0540777579807354,2.6131586341211435,2.4679700025462776,2.7194135769404326,2.6061946361598918,2.3882854747294227,2.922989445253918,3.205856337885887,3.322699780675595,3.8251898849799395,4.446107740747549,2.6348315977460275,2.5406349104206387,2.7173767489276415,2.721612522585891,2.4684469674471456,2.397085690330661,2.6851437317146813,2.106947144094986,2.3761759287164925,2.841621753273606,3.2203876258285318,1.9988899199636023,2.236547822654914,2.4135887177975373,2.955613260450031,2.7221115479268243,3.2610183223574367,2.322200037567047,2.7669403679459346,3.31158298311583,3.2225062106722087,2.7813409564052485,2.638130693291714,2.722499906299643,3.4099459704110204,3.5539125317052744,2.8743293636092084,2.282105365238684,2.97080753512729,3.2036719217721012,3.294660265718283,2.8204536149224455,2.4933613319067676,3.325302087978351,2.788164010035642,2.991632336693531,3.3874744929401936,3.138156741911923,3.20310188345379,3.422602454200326,3.923440519710341,4.229956911644914,4.126882792272641,3.47082618936132,5.05804283455316,4.898916331855362,6.131744722072817,4.848687297530546,3.9577717778612067,4.424948552507389,5.297957760658144,4.1434682893304196,3.9837465874182567,3.5176752417127073,4.230907865188874,3.778728405660407,4.0844290983377345,3.431591716057393,4.427194015219243,4.434532868324352,4.152507630821719,4.823864098857427,3.8405723514169563,3.8262944457824446,3.9524199710910812,3.6399509411827444,4.132473622508793,3.7685110763418144,3.941820735983382,3.8865246441042167,3.9929796452519346,3.626270660878475,5.128248834101508,4.4987828506135425,4.597670559866334,3.8807063108099533,4.507944794833146,3.5333266497520652,3.8201773452680867,4.233988128814126,4.315951646025499,3.862856257594756,3.5302019634747177,4.084711131020675,5.347405257838161,5.445146086249388,5.401809554324774,3.915342491557122,3.8683416513273996,4.287271169643093,3.672473427832186,3.4179805485079138,6.859608830749074,3.447925329071371,4.248115137706754,3.2870454448941016,3.5739090561870093,4.173787459381393,3.836730271533436,2.8578066411590823,3.297808569264894,3.3276422914491137,3.4950311054498946,3.476720315707577,3.4592922400832657,3.009201347851667,3.233908472573584,4.164880521690853,3.354790667865283,3.2001038011774945,3.2530049377372965,3.631551820987833,2.5848628922514574,2.9005226155741664,3.0885290523681648,3.350247122851694,3.6299231644618186,4.008863257578399,4.789110023286546,3.716508087671327,3.0640140479706273,3.436141779487436,2.866262863066017,4.183787043058971,2.491219665583356,2.3534426807152973,4.085912326799807,4.921254796065731,3.102418280447581,3.6428228293378377,3.1527978020184437,3.394602529385021,3.029068527776686,2.8925962127864016,3.329906428061127,2.584607118287685,2.532578054358811,3.3630248064567483,3.2019432773109244,2.787564711561799,3.2588593942486277,3.855003675942033,4.858982661314343,4.448525588963486,3.161360537204606,3.1731310593435094,3.954154059810202,4.5100947229918535,3.876945473304648,4.885184988121639,4.380414712435919,3.1019860442068024,3.298823143548867,3.942926566243268,4.140996071027587,3.666086547605802,4.264519370194448,4.175483150140456,3.8813868472866915,3.520172723141615,3.632859395635331,3.914083955740413,2.9610259225325857,2.6639371366388302,3.1455545121948614,3.589098243376028,3.7075988382910907,3.1639070986000113,3.0917872534350246,3.654930986647001,3.201354773086329,3.527280703081275,3.4228420190040763,3.074616465368753,2.9704685876846537,2.4754331389959003,3.1230091584026325,2.5829556999230316,1.7544657633556535,1.8179580473886656,1.7943320757245953,2.349100311111151,2.1739920703393856,2.6771471829870728,2.923391911785039,4.606831175969687,3.3456923741860356,4.141776265165716,3.623173830840724,4.550478217238094,3.2824683995131427,3.1053362802367976,2.3071727047363897,2.507220555463921,2.795463048859868,2.0532623885021835,1.754929024817038,2.5898852187127837,2.226215936157019,2.0897997723130066,2.5645479903513038,2.5388465863606906,2.6868194579611635,3.042661092130534,2.557969409791819,2.8455507753336042,2.9664540230135543,3.5688176444419364,2.694268174102772,2.3253408473493753,2.877813803345176,3.58040106690114,3.3368841996961947,3.0367484571397942,2.7678021772889934,2.902708131407942,3.199052066164434,3.791283762296688,4.119263596464616,3.319362194824374,3.424982334929733,2.9617603949071323,3.333578831687772,4.017385511664926,3.4687710221822856,3.997683115623757,4.217664350188733,3.8614049505072847,3.0932363022702374,3.609654368693839,3.5847383124112975,3.4199200792767783,4.2745791292390996,3.338363295131736,4.094953777010731,3.235243637346414,3.567136594332665,3.184778150962233,3.9501835803569016,3.2906676687433016,3.6228640636107525,3.429850054379803,3.383278880474401,2.6726939001878782,3.3198799947372613,3.410771430624303,4.096679438306262,3.847338663773233,3.7701357963604374,5.055614758479064,4.932952366041723,4.368070282149693,4.905313001914973,4.60273882702951,4.768139032259496,4.707435161232129,5.042656415422093,5.907215646207446,6.687002057756204,5.350911075090535,2.793488180597928,3.7061451879181617,4.435833375822159,5.133985214802716,4.472277619978109,4.253932101453241,3.197494546522359,3.8089847782503155,3.6070525370170183,4.155970494813033,3.4427049053563654,3.086354569559863,3.1406987592883318,2.8663517781304035,2.4245273138057786,2.5983578950044164,1.998835234561767,2.158138797716952,4.387700023230709,3.4085599904726136,2.0237133467215647,3.153759264271075,4.6436410316716925,3.889243264125347,3.6396665063005575,3.706176419460889,3.0441208465560834,4.8924913979518285,3.4989906557615864,4.450447744703432,4.707607969746756,2.7392586343935568,3.0010816681337067,2.584227179312321,3.9294617853971725,2.6013913720873365,3.072704349449969,3.601533651900326,3.7399947415641406,2.995481339852201,3.335637499106143,3.2534545552440397,3.659244072820369,3.591851572221523,2.5880841684651084,2.433228942183176,2.267708116252166,3.075719890253596,3.0343489055023882,3.4135749254745025,4.837985013422716,2.6604631776680105,2.4573599925204683,3.2947994846802913,2.3938237091386023,2.5834953605077597,2.5743885177002843,3.5727524932437285,2.588891728362014,3.2933159222492128,3.2021622507810155,2.7026480855217665,3.4105260935557253,2.918339362594855,3.044180089132189,3.3432686369231224,2.251251920311029,2.526665554485889,2.7011442680425013,3.7054860115180444,2.7076653142403653,2.5847686480470125,2.611977276770243,2.6535770389058375,2.432854488763617,2.6710970112623666,2.8626968552324206,2.9939563778783174,3.7260334168613034,4.769434970708848,2.737868049714505],\"mode\":\"lines\",\"yaxis\":\"y2\",\"name\":\"Execution ratio Percent\"}];\n",
       "           var layout = {\"title\":\"Execution ratio for AAPL\",\"xaxis\":{\"title\":\"Time\",\"_isSubplotObj\":true},\"yaxis\":{\"title\":\"Ticks count\",\"autorange\":true,\"side\":\"left\",\"_isSubplotObj\":true},\"yaxis2\":{\"title\":\"Ratio\",\"autorange\":true,\"side\":\"right\",\"_isSubplotObj\":true}};\n",
       "           Plotly.newPlot('f9c21603-7069-45ad-8cf9-2bdd0a50c683', data, layout);\n",
       "        \n",
       "});\n",
       "};\n",
       "// ensure `require` is available globally\n",
       "if ((typeof(require) !==  typeof(Function)) || (typeof(require.config) !== typeof(Function))) {\n",
       "    let require_script = document.createElement('script');\n",
       "    require_script.setAttribute('src', 'https://cdnjs.cloudflare.com/ajax/libs/require.js/2.3.6/require.min.js');\n",
       "    require_script.setAttribute('type', 'text/javascript');\n",
       "    \n",
       "    \n",
       "    require_script.onload = function() {\n",
       "        renderPlotly();\n",
       "    };\n",
       "\n",
       "    document.getElementsByTagName('head')[0].appendChild(require_script);\n",
       "}\n",
       "else {\n",
       "    renderPlotly();\n",
       "}\n",
       "\n",
       "</script>\n"
      ]
     },
     "metadata": {},
     "output_type": "display_data"
    }
   ],
   "source": [
    "let executionRatiochart =\n",
    "    [\n",
    "        new Scattergl(\n",
    "            name = \"Trades ticks count\",\n",
    "            mode = \"lines\",\n",
    "            x = (trades |> Seq.map fst),\n",
    "            y = (trades |> Seq.map snd)\n",
    "        )\n",
    "        new Scattergl(\n",
    "            name = \"Trades and Book ticks count\",\n",
    "            mode = \"lines\",\n",
    "            x = (tradesAndBook |> Seq.map fst),\n",
    "            y = (tradesAndBook |> Seq.map snd)\n",
    "        )\n",
    "        new Scattergl(\n",
    "            name = \"Execution ratio Percent\",\n",
    "            mode = \"lines\",\n",
    "            x = (executionRatio |> Seq.map fst),\n",
    "            y = (executionRatio |> Seq.map snd),\n",
    "            yaxis = \"y2\"\n",
    "        )\n",
    "    ]\n",
    "\n",
    "\n",
    "let layout = \n",
    "    new Layout.Layout( \n",
    "        title = $\"Execution ratio for {ticker}\",\n",
    "        xaxis = new Xaxis( title = \"Time\"),\n",
    "        yaxis = new Yaxis (\n",
    "            title = \"Ticks count\", \n",
    "            autorange = true,\n",
    "            side = \"left\"\n",
    "        ),\n",
    "        yaxis2 = new Yaxis (\n",
    "            title = \"Ratio\", \n",
    "            autorange = true,\n",
    "            side = \"right\"\n",
    "        )\n",
    "    )\n",
    "\n",
    "Chart.Plot(executionRatiochart, layout)\n",
    "|> Chart.WithWidth 1500\n",
    "|> Chart.WithHeight 800\n",
    "|> display"
   ]
  }
 ],
 "metadata": {
  "kernelspec": {
   "display_name": ".NET (F#)",
   "language": "F#",
   "name": ".net-fsharp"
  },
  "language_info": {
   "file_extension": ".fs",
   "mimetype": "text/x-fsharp",
   "name": "F#",
   "pygments_lexer": "fsharp",
   "version": "6.0"
  }
 },
 "nbformat": 4,
 "nbformat_minor": 4
}
