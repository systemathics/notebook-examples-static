{
 "cells": [
  {
   "cell_type": "markdown",
   "id": "suffering-garage",
   "metadata": {},
   "source": [
    "# Generate point-in-time best execution data using dedicated service - C#\n",
    "\n",
    "### Overview\n",
    "Best execution aims to measure the performance of executed trades, an execution algorithm or an execution venue.\n",
    "\n",
    "This sample is based on an `point-in-time` approach and designed to highlight individual trades within market activity over a look back period. \n",
    "\n",
    "<div class=\"alert alert-block alert-info\">\n",
    "    <b>Note:</b> To explore the interval approach, suitable to analyze market activity over a look back period. Please refer to <i>bestex-interval</i> notebooks.\n",
    "</div>\n",
    "\n",
    "This sample demonstrates how to request and plot from a dedicated data service **on-demand** best execution *point-in-time* results.\n",
    "\n",
    "### Inputs/outputs\n",
    "Best execution PIT sample requires instrument's identifier, **a list of trades** and time window as per inputs. Results are as follows:\n",
    "* a snapshot of occured trades around the given trade based on the input time window\n",
    "* plot the request result and export data\n",
    "\n",
    "### Services used\n",
    "This sample uses *gRPC requests* in order to retrieve trades information from the hosted service. The queried endpoint in this script are:\n",
    "* *TickTradesService*: to directly retrieve trades data from the server.\n",
    "\n",
    "### Packages required\n",
    "1. Systemathics:\n",
    "    * *Systemathics.Apis.Type.Shared.V1*\n",
    "    * *Systemathics.Apis.Services.Tick.V1*\n",
    "2. Open source:\n",
    "    * *Google.Protobuf.WellKnownTypes*\n",
    "    * *Google.Type*\n",
    "    * *Grpc.Net.Client*\n",
    "    * *Grpc.Core*\n",
    "    * *XPlot.Plotly* as per display package\n",
    "    \n",
    "***\n"
   ]
  },
  {
   "cell_type": "markdown",
   "id": "personalized-earthquake",
   "metadata": {},
   "source": [
    "# Run BestEx Point-in-time sample"
   ]
  },
  {
   "cell_type": "markdown",
   "id": "forced-jonathan",
   "metadata": {},
   "source": [
    "### Step 1: Install packages"
   ]
  },
  {
   "cell_type": "code",
   "execution_count": 1,
   "id": "fatal-defeat",
   "metadata": {
    "dotnet_interactive": {
     "language": "csharp"
    },
    "execution": {
     "iopub.execute_input": "2022-10-25T16:12:39.986582Z",
     "iopub.status.busy": "2022-10-25T16:12:39.976880Z",
     "iopub.status.idle": "2022-10-25T16:12:45.622591Z",
     "shell.execute_reply": "2022-10-25T16:12:45.614703Z"
    },
    "vscode": {
     "languageId": "dotnet-interactive.csharp"
    }
   },
   "outputs": [
    {
     "data": {
      "text/html": [
       "\n",
       "<div>\n",
       "    <div id='dotnet-interactive-this-cell-16857.Microsoft.DotNet.Interactive.Http.HttpPort' style='display: none'>\n",
       "        The below script needs to be able to find the current output cell; this is an easy method to get it.\n",
       "    </div>\n",
       "    <script type='text/javascript'>\n",
       "async function probeAddresses(probingAddresses) {\n",
       "    function timeout(ms, promise) {\n",
       "        return new Promise(function (resolve, reject) {\n",
       "            setTimeout(function () {\n",
       "                reject(new Error('timeout'))\n",
       "            }, ms)\n",
       "            promise.then(resolve, reject)\n",
       "        })\n",
       "    }\n",
       "\n",
       "    if (Array.isArray(probingAddresses)) {\n",
       "        for (let i = 0; i < probingAddresses.length; i++) {\n",
       "\n",
       "            let rootUrl = probingAddresses[i];\n",
       "\n",
       "            if (!rootUrl.endsWith('/')) {\n",
       "                rootUrl = `${rootUrl}/`;\n",
       "            }\n",
       "\n",
       "            try {\n",
       "                let response = await timeout(1000, fetch(`${rootUrl}discovery`, {\n",
       "                    method: 'POST',\n",
       "                    cache: 'no-cache',\n",
       "                    mode: 'cors',\n",
       "                    timeout: 1000,\n",
       "                    headers: {\n",
       "                        'Content-Type': 'text/plain'\n",
       "                    },\n",
       "                    body: probingAddresses[i]\n",
       "                }));\n",
       "\n",
       "                if (response.status == 200) {\n",
       "                    return rootUrl;\n",
       "                }\n",
       "            }\n",
       "            catch (e) { }\n",
       "        }\n",
       "    }\n",
       "}\n",
       "\n",
       "function loadDotnetInteractiveApi() {\n",
       "    probeAddresses([\"http://172.28.169.63:2220/\", \"http://127.0.0.1:2220/\"])\n",
       "        .then((root) => {\n",
       "        // use probing to find host url and api resources\n",
       "        // load interactive helpers and language services\n",
       "        let dotnetInteractiveRequire = require.config({\n",
       "        context: '16857.Microsoft.DotNet.Interactive.Http.HttpPort',\n",
       "                paths:\n",
       "            {\n",
       "                'dotnet-interactive': `${root}resources`\n",
       "                }\n",
       "        }) || require;\n",
       "\n",
       "            window.dotnetInteractiveRequire = dotnetInteractiveRequire;\n",
       "\n",
       "            window.configureRequireFromExtension = function(extensionName, extensionCacheBuster) {\n",
       "                let paths = {};\n",
       "                paths[extensionName] = `${root}extensions/${extensionName}/resources/`;\n",
       "                \n",
       "                let internalRequire = require.config({\n",
       "                    context: extensionCacheBuster,\n",
       "                    paths: paths,\n",
       "                    urlArgs: `cacheBuster=${extensionCacheBuster}`\n",
       "                    }) || require;\n",
       "\n",
       "                return internalRequire\n",
       "            };\n",
       "        \n",
       "            dotnetInteractiveRequire([\n",
       "                    'dotnet-interactive/dotnet-interactive'\n",
       "                ],\n",
       "                function (dotnet) {\n",
       "                    dotnet.init(window);\n",
       "                },\n",
       "                function (error) {\n",
       "                    console.log(error);\n",
       "                }\n",
       "            );\n",
       "        })\n",
       "        .catch(error => {console.log(error);});\n",
       "    }\n",
       "\n",
       "// ensure `require` is available globally\n",
       "if ((typeof(require) !==  typeof(Function)) || (typeof(require.config) !== typeof(Function))) {\n",
       "    let require_script = document.createElement('script');\n",
       "    require_script.setAttribute('src', 'https://cdnjs.cloudflare.com/ajax/libs/require.js/2.3.6/require.min.js');\n",
       "    require_script.setAttribute('type', 'text/javascript');\n",
       "    \n",
       "    \n",
       "    require_script.onload = function() {\n",
       "        loadDotnetInteractiveApi();\n",
       "    };\n",
       "\n",
       "    document.getElementsByTagName('head')[0].appendChild(require_script);\n",
       "}\n",
       "else {\n",
       "    loadDotnetInteractiveApi();\n",
       "}\n",
       "\n",
       "    </script>\n",
       "</div>"
      ]
     },
     "metadata": {},
     "output_type": "display_data"
    },
    {
     "data": {
      "text/html": [
       "<div><div><strong>Restore sources</strong><ul><li><span> file://~/.nuget/packages/</span></li><li><span> https://api.nuget.org/v3/index.json</span></li></ul></div><div></div><div><strong>Installed Packages</strong><ul><li><span>CsvHelper, 29.0.0</span></li><li><span>Systemathics.Apis, 0.13.2-pre</span></li><li><span>XPlot.Plotly.Interactive, 4.0.6</span></li></ul></div></div>"
      ]
     },
     "metadata": {},
     "output_type": "display_data"
    },
    {
     "data": {
      "text/markdown": [
       "Loading extensions from `XPlot.Plotly.Interactive.dll`"
      ]
     },
     "metadata": {},
     "output_type": "display_data"
    },
    {
     "data": {
      "text/markdown": [
       "Configuring PowerShell Kernel for XPlot.Plotly integration."
      ]
     },
     "metadata": {},
     "output_type": "display_data"
    },
    {
     "data": {
      "text/markdown": [
       "Installed support for XPlot.Plotly."
      ]
     },
     "metadata": {},
     "output_type": "display_data"
    }
   ],
   "source": [
    "#i \"nuget: file://~/.nuget/packages/\"\n",
    "#i \"nuget: https://api.nuget.org/v3/index.json\"\n",
    "#r \"nuget: Systemathics.Apis, 0.*-pre*\"\n",
    "#r \"nuget: XPlot.Plotly.Interactive\"\n",
    "#r \"nuget: CsvHelper\""
   ]
  },
  {
   "cell_type": "code",
   "execution_count": 2,
   "id": "stopped-showcase",
   "metadata": {
    "dotnet_interactive": {
     "language": "csharp"
    },
    "execution": {
     "iopub.execute_input": "2022-10-25T16:12:45.625008Z",
     "iopub.status.busy": "2022-10-25T16:12:45.624651Z",
     "iopub.status.idle": "2022-10-25T16:12:45.739260Z",
     "shell.execute_reply": "2022-10-25T16:12:45.738715Z"
    },
    "vscode": {
     "languageId": "dotnet-interactive.csharp"
    }
   },
   "outputs": [],
   "source": [
    "using Systemathics.Apis.Helpers;\n",
    "using Systemathics.Apis.Type.Shared.V1;\n",
    "using Systemathics.Apis.Services.Tick.V1;\n",
    "using Google.Protobuf.WellKnownTypes;\n",
    "using Google.Type;\n",
    "using Grpc.Net.Client;\n",
    "using Grpc.Core;\n",
    "// Plot charts\n",
    "using XPlot.Plotly;\n",
    "using XPlot.Plotly.Interactive;\n",
    "// Import/export csv files \n",
    "using CsvHelper;\n",
    "using System.IO;\n",
    "using System.Globalization;"
   ]
  },
  {
   "cell_type": "markdown",
   "id": "commercial-irrigation",
   "metadata": {},
   "source": [
    "### Step 2: Prepare API requests\n",
    "The following code snippets retrieve authentication token and prepare the API request by: opening the *channel* and adding the *token* to the request header:"
   ]
  },
  {
   "cell_type": "code",
   "execution_count": 3,
   "id": "asian-mumbai",
   "metadata": {
    "dotnet_interactive": {
     "language": "csharp"
    },
    "execution": {
     "iopub.execute_input": "2022-10-25T16:12:45.741919Z",
     "iopub.status.busy": "2022-10-25T16:12:45.741312Z",
     "iopub.status.idle": "2022-10-25T16:12:46.766277Z",
     "shell.execute_reply": "2022-10-25T16:12:46.765564Z"
    },
    "vscode": {
     "languageId": "dotnet-interactive.csharp"
    }
   },
   "outputs": [],
   "source": [
    "// Get token as metadata\n",
    "var headers = TokenHelpers.GetTokenAsMetaData();\n",
    "\n",
    "// Create communication channel\n",
    "var channel = ChannelHelpers.GetChannel();"
   ]
  },
  {
   "cell_type": "markdown",
   "id": "numerous-sunglasses",
   "metadata": {},
   "source": [
    "### Step 3: Retrieve data"
   ]
  },
  {
   "cell_type": "markdown",
   "id": "educated-arctic",
   "metadata": {},
   "source": [
    "#### 3.1 Input trades import\n",
    "We assume our trades are in a *csv file* that we imported in the same folder as the current data sample.\n",
    "\n",
    "We aim to to ensure that it was the best possible execution for each and every trade. To do so, we have to retrieve the *trades as a market snapshot* and mark out the *individual trades*.\n",
    "\n",
    "The following code snippets import *individual trades* from the *csv file*:"
   ]
  },
  {
   "cell_type": "code",
   "execution_count": 4,
   "id": "dominant-opening",
   "metadata": {
    "dotnet_interactive": {
     "language": "csharp"
    },
    "execution": {
     "iopub.execute_input": "2022-10-25T16:12:46.769344Z",
     "iopub.status.busy": "2022-10-25T16:12:46.768946Z",
     "iopub.status.idle": "2022-10-25T16:12:47.024675Z",
     "shell.execute_reply": "2022-10-25T16:12:47.024334Z"
    },
    "vscode": {
     "languageId": "dotnet-interactive.csharp"
    }
   },
   "outputs": [],
   "source": [
    "// Input trade to load from the csv file\n",
    "public class InputTrade\n",
    "{\n",
    "    public DateTime Timestamp { get; set; }\n",
    "    public double Price { get; set; }\n",
    "    public long Size { get; set; }\n",
    "    public string Flag { get; set; }\n",
    "}"
   ]
  },
  {
   "cell_type": "code",
   "execution_count": 5,
   "id": "native-reasoning",
   "metadata": {
    "dotnet_interactive": {
     "language": "csharp"
    },
    "execution": {
     "iopub.execute_input": "2022-10-25T16:12:47.027705Z",
     "iopub.status.busy": "2022-10-25T16:12:47.026903Z",
     "iopub.status.idle": "2022-10-25T16:12:47.779456Z",
     "shell.execute_reply": "2022-10-25T16:12:47.779193Z"
    },
    "vscode": {
     "languageId": "dotnet-interactive.csharp"
    }
   },
   "outputs": [
    {
     "data": {
      "text/html": [
       "<table><thead><tr><th><i>index</i></th><th>Timestamp</th><th>Price</th><th>Size</th><th>Flag</th></tr></thead><tbody><tr><td>0</td><td><span>2021-11-05 13:17:07Z</span></td><td><div class=\"dni-plaintext\">151.09</div></td><td><div class=\"dni-plaintext\">45</div></td><td>input</td></tr><tr><td>1</td><td><span>2021-11-05 13:22:39Z</span></td><td><div class=\"dni-plaintext\">151.05</div></td><td><div class=\"dni-plaintext\">13</div></td><td>input</td></tr><tr><td>2</td><td><span>2021-11-05 13:32:12Z</span></td><td><div class=\"dni-plaintext\">150.92</div></td><td><div class=\"dni-plaintext\">900</div></td><td>input</td></tr><tr><td>3</td><td><span>2021-11-05 13:34:09Z</span></td><td><div class=\"dni-plaintext\">151.3</div></td><td><div class=\"dni-plaintext\">1</div></td><td>input</td></tr><tr><td>4</td><td><span>2021-11-05 13:37:02Z</span></td><td><div class=\"dni-plaintext\">151.41</div></td><td><div class=\"dni-plaintext\">50</div></td><td>input</td></tr></tbody></table>"
      ]
     },
     "metadata": {},
     "output_type": "display_data"
    }
   ],
   "source": [
    "// Load the trades from the csv input file\n",
    "var records = new List<InputTrade>();\n",
    "using (var reader = new StreamReader(\"input/input_trades.csv\"))\n",
    "using (var csv = new CsvReader(reader, CultureInfo.InvariantCulture))\n",
    "{\n",
    "    records = csv.GetRecords<InputTrade>().ToList();\n",
    "}\n",
    "\n",
    "// Sort the trades by time stamp\n",
    "var inputTrades = records.OrderBy(t => t.Timestamp).ToArray();\n",
    "\n",
    "// Display the loaded trades\n",
    "display(inputTrades); "
   ]
  },
  {
   "cell_type": "markdown",
   "id": "norman-dallas",
   "metadata": {},
   "source": [
    "### Step 3: Create and process request\n",
    "To request *tick trades* service, we need to specify:\n",
    "* Instrument identifier\n",
    "* Time period selection: select start and end dates\n",
    "* Tick trades request parameters"
   ]
  },
  {
   "cell_type": "markdown",
   "id": "medium-format",
   "metadata": {},
   "source": [
    "#### 3.1 Instrument selection"
   ]
  },
  {
   "cell_type": "code",
   "execution_count": 6,
   "id": "homeless-torture",
   "metadata": {
    "dotnet_interactive": {
     "language": "csharp"
    },
    "execution": {
     "iopub.execute_input": "2022-10-25T16:12:47.781515Z",
     "iopub.status.busy": "2022-10-25T16:12:47.781164Z",
     "iopub.status.idle": "2022-10-25T16:12:47.850101Z",
     "shell.execute_reply": "2022-10-25T16:12:47.849477Z"
    },
    "vscode": {
     "languageId": "dotnet-interactive.csharp"
    }
   },
   "outputs": [],
   "source": [
    "// Set the instrument  identifier: a ticker and an exchange code\n",
    "var ticker = \"AAPL\";\n",
    "var exchange = \"BATS\";"
   ]
  },
  {
   "cell_type": "markdown",
   "id": "unnecessary-hopkins",
   "metadata": {},
   "source": [
    "#### 3.2 Best execution interval selection"
   ]
  },
  {
   "cell_type": "code",
   "execution_count": 7,
   "id": "pointed-manor",
   "metadata": {
    "dotnet_interactive": {
     "language": "csharp"
    },
    "execution": {
     "iopub.execute_input": "2022-10-25T16:12:47.852923Z",
     "iopub.status.busy": "2022-10-25T16:12:47.852559Z",
     "iopub.status.idle": "2022-10-25T16:12:47.948269Z",
     "shell.execute_reply": "2022-10-25T16:12:47.947990Z"
    },
    "vscode": {
     "languageId": "dotnet-interactive.csharp"
    }
   },
   "outputs": [],
   "source": [
    "// Set the time window to delimit the input trade in seconds\n",
    "var window = TimeSpan.FromSeconds(5 * 60);"
   ]
  },
  {
   "cell_type": "markdown",
   "id": "current-merchandise",
   "metadata": {},
   "source": [
    "#### 3.3 Time period delimitation"
   ]
  },
  {
   "cell_type": "markdown",
   "id": "balanced-cornell",
   "metadata": {},
   "source": [
    "The following code snippets delimits the best execution time interval around each input trade based on the previously chosen time window."
   ]
  },
  {
   "cell_type": "code",
   "execution_count": 8,
   "id": "natural-darkness",
   "metadata": {
    "dotnet_interactive": {
     "language": "csharp"
    },
    "execution": {
     "iopub.execute_input": "2022-10-25T16:12:47.950556Z",
     "iopub.status.busy": "2022-10-25T16:12:47.950183Z",
     "iopub.status.idle": "2022-10-25T16:12:48.159491Z",
     "shell.execute_reply": "2022-10-25T16:12:48.159186Z"
    },
    "vscode": {
     "languageId": "dotnet-interactive.csharp"
    }
   },
   "outputs": [],
   "source": [
    "// Get the first and the last dates from the input trades\n",
    "var firstDate = inputTrades.First().Timestamp.Date;\n",
    "var lastDate = inputTrades.Last().Timestamp.Date;\n",
    "\n",
    "// Build the tick trades date interval (we are using Google date time format)\n",
    "var dateIntervals = new DateInterval()\n",
    "{ \n",
    "    StartDate = new Date { Year = firstDate.Year, Month = firstDate.Month, Day = firstDate.Day },\n",
    "    EndDate = new Date { Year = lastDate.Year, Month = lastDate.Month, Day = lastDate.Day }\n",
    "};\n",
    "\n",
    "// Get the first and the last timestamps from the input trades\n",
    "var firstTime = inputTrades.Min(t => t.Timestamp.TimeOfDay).Add(-window);\n",
    "var lastTime = inputTrades.Max(t => t.Timestamp.TimeOfDay).Add(window);\n",
    "\n",
    "// Build the tick trades time interval (we are using Google date time format)\n",
    "var timeInterval = new TimeInterval() \n",
    "{ \n",
    "    StartTime = new TimeOfDay { Hours = firstTime.Hours, Minutes = firstTime.Minutes, Seconds = firstTime.Seconds },\n",
    "    EndTime = new TimeOfDay { Hours = lastTime.Hours, Minutes = lastTime.Minutes, Seconds = lastTime.Seconds }\n",
    "};"
   ]
  },
  {
   "cell_type": "markdown",
   "id": "canadian-plane",
   "metadata": {},
   "source": [
    "#### 3.4 Request creation\n",
    "The following code snippet creates *gRPC client*, process request and returns request reply."
   ]
  },
  {
   "cell_type": "code",
   "execution_count": 9,
   "id": "recognized-scout",
   "metadata": {
    "dotnet_interactive": {
     "language": "csharp"
    },
    "execution": {
     "iopub.execute_input": "2022-10-25T16:12:48.161542Z",
     "iopub.status.busy": "2022-10-25T16:12:48.161202Z",
     "iopub.status.idle": "2022-10-25T16:12:48.220916Z",
     "shell.execute_reply": "2022-10-25T16:12:48.220653Z"
    },
    "vscode": {
     "languageId": "dotnet-interactive.csharp"
    }
   },
   "outputs": [],
   "source": [
    "// Generate constraints based on the previous time selection\n",
    "var constraints = new Constraints(); \n",
    "constraints.DateIntervals.Add(dateIntervals);\n",
    "constraints.TimeIntervals.Add(timeInterval);"
   ]
  },
  {
   "cell_type": "code",
   "execution_count": 10,
   "id": "selective-portugal",
   "metadata": {
    "dotnet_interactive": {
     "language": "csharp"
    },
    "execution": {
     "iopub.execute_input": "2022-10-25T16:12:48.251007Z",
     "iopub.status.busy": "2022-10-25T16:12:48.250662Z",
     "iopub.status.idle": "2022-10-25T16:12:48.332526Z",
     "shell.execute_reply": "2022-10-25T16:12:48.332282Z"
    },
    "vscode": {
     "languageId": "dotnet-interactive.csharp"
    }
   },
   "outputs": [],
   "source": [
    "// Generate the tick trades request\n",
    "var request = new TickTradesRequest { Constraints = constraints };\n",
    "var identifier = new Identifier { Exchange = exchange, Ticker = ticker};\n",
    "request.Identifiers.Add(new [] {identifier}); "
   ]
  },
  {
   "cell_type": "code",
   "execution_count": 11,
   "id": "understood-current",
   "metadata": {
    "dotnet_interactive": {
     "language": "csharp"
    },
    "execution": {
     "iopub.execute_input": "2022-10-25T16:12:48.334519Z",
     "iopub.status.busy": "2022-10-25T16:12:48.334145Z",
     "iopub.status.idle": "2022-10-25T16:12:48.392029Z",
     "shell.execute_reply": "2022-10-25T16:12:48.391704Z"
    },
    "vscode": {
     "languageId": "dotnet-interactive.csharp"
    }
   },
   "outputs": [],
   "source": [
    "// Instantiate the tick trades service\n",
    "var service = new TickTradesService.TickTradesServiceClient(channel);"
   ]
  },
  {
   "cell_type": "markdown",
   "id": "bibliographic-fundamental",
   "metadata": {},
   "source": [
    "### Step 4: Visualize data"
   ]
  },
  {
   "cell_type": "markdown",
   "id": "abroad-annual",
   "metadata": {},
   "source": [
    "#### 4.1 Retrieve occured trades"
   ]
  },
  {
   "cell_type": "code",
   "execution_count": 12,
   "id": "postal-investigation",
   "metadata": {
    "dotnet_interactive": {
     "language": "csharp"
    },
    "execution": {
     "iopub.execute_input": "2022-10-25T16:12:48.394551Z",
     "iopub.status.busy": "2022-10-25T16:12:48.394107Z",
     "iopub.status.idle": "2022-10-25T16:12:49.036634Z",
     "shell.execute_reply": "2022-10-25T16:12:49.036254Z"
    },
    "vscode": {
     "languageId": "dotnet-interactive.csharp"
    }
   },
   "outputs": [],
   "source": [
    "// Get the trades \n",
    "// store the list of trades\n",
    "var trades = new List<Tuple<Timestamp, Trade>>();\n",
    "\n",
    "// Call the service\n",
    "var call = service.TickTrades(request, headers);\n",
    "\n",
    "// Process the responses\n",
    "await foreach (var current in call.ResponseStream.ReadAllAsync())\n",
    "{\n",
    "    if(current.Mapping != null)\n",
    "    {\n",
    "        // First response contains the mapping fields\n",
    "        // Skip the mapping data\n",
    "        continue;\n",
    "    }\n",
    "\n",
    "    // Get the time stamp for the current trade\n",
    "    var ts = current.Data.TimeStamp;\n",
    "\n",
    "    // Trade\n",
    "    if (current.Data.Trade != null) \n",
    "    {      \n",
    "        trades.Add(new Tuple<Timestamp, Trade>(ts, current.Data.Trade));\n",
    "    }\n",
    "}"
   ]
  },
  {
   "cell_type": "code",
   "execution_count": 13,
   "id": "solved-atmosphere",
   "metadata": {
    "dotnet_interactive": {
     "language": "csharp"
    },
    "execution": {
     "iopub.execute_input": "2022-10-25T16:12:49.039740Z",
     "iopub.status.busy": "2022-10-25T16:12:49.039038Z",
     "iopub.status.idle": "2022-10-25T16:12:49.089388Z",
     "shell.execute_reply": "2022-10-25T16:12:49.088867Z"
    },
    "vscode": {
     "languageId": "dotnet-interactive.csharp"
    }
   },
   "outputs": [],
   "source": [
    "// Display the trades\n",
    "//--> Note : the time stamp is displayed by default (using the unix format)\n",
    "//--> We can use other displayers for different output formats \n",
    "//--> For more details about the time stamp: https://developers.google.com/protocol-buffers/docs/reference/google.protobuf#google.protobuf.Timestamp \n",
    "//display(trades);"
   ]
  },
  {
   "cell_type": "markdown",
   "id": "alive-efficiency",
   "metadata": {},
   "source": [
    "#### 4.3 Plot individual trades within market snapshot\n",
    "Display trade prices and highlight the individual trades over the look back period with the package of your choice.<br>*`XPlot.Plotly`* is used as per open source display package.\n",
    "Plot a simple line graph with the trade prices and mark out the individual trades as follows: "
   ]
  },
  {
   "cell_type": "code",
   "execution_count": 14,
   "id": "martial-plumbing",
   "metadata": {
    "dotnet_interactive": {
     "language": "csharp"
    },
    "execution": {
     "iopub.execute_input": "2022-10-25T16:12:49.091812Z",
     "iopub.status.busy": "2022-10-25T16:12:49.091368Z",
     "iopub.status.idle": "2022-10-25T16:12:49.187374Z",
     "shell.execute_reply": "2022-10-25T16:12:49.187116Z"
    },
    "vscode": {
     "languageId": "dotnet-interactive.csharp"
    }
   },
   "outputs": [],
   "source": [
    "// Create the time series for the graph\n",
    "var market = new Dictionary<DateTime, double>();\n",
    "foreach (var trade in trades) \n",
    "{\n",
    "    market[trade.Item1.ToDateTime()] = trade.Item2.Price;\n",
    "}\n",
    "\n",
    "var input = new Dictionary<DateTime, double>();\n",
    "foreach (var inputTrade in inputTrades) \n",
    "{\n",
    "    input[inputTrade.Timestamp] = inputTrade.Price;\n",
    "}"
   ]
  },
  {
   "cell_type": "code",
   "execution_count": 15,
   "id": "assumed-brick",
   "metadata": {
    "dotnet_interactive": {
     "language": "csharp"
    },
    "execution": {
     "iopub.execute_input": "2022-10-25T16:12:49.190153Z",
     "iopub.status.busy": "2022-10-25T16:12:49.189395Z",
     "iopub.status.idle": "2022-10-25T16:12:49.500342Z",
     "shell.execute_reply": "2022-10-25T16:12:49.500068Z"
    },
    "vscode": {
     "languageId": "dotnet-interactive.csharp"
    }
   },
   "outputs": [
    {
     "data": {
      "text/html": [
       "<!DOCTYPE html>\n",
       "<div style=\"width: 1500px; height: 800px;\" id=\"4d1cbff9-d168-4d29-99a9-0579bbfda2b2\"></div><script type=\"text/javascript\">\n",
       "\n",
       "var renderPlotly = function() {\n",
       "    var xplotRequire = require.config({context:'xplot-3.0.1',paths:{plotly:'https://cdn.plot.ly/plotly-1.49.2.min'}}) || require;\n",
       "    xplotRequire(['plotly'], function(Plotly) { \n",
       "\n",
       "            var data = [{\"type\":\"scattergl\",\"x\":[\"2021-11-05T13:12:31.002Z\",\"2021-11-05T13:12:31.0554Z\",\"2021-11-05T13:13:45.5686Z\",\"2021-11-05T13:14:16.0833Z\",\"2021-11-05T13:14:47.451Z\",\"2021-11-05T13:14:59.2561Z\",\"2021-11-05T13:15:45.435Z\",\"2021-11-05T13:15:59.5949Z\",\"2021-11-05T13:16:26.1062Z\",\"2021-11-05T13:16:33.5226Z\",\"2021-11-05T13:17:09.4578Z\",\"2021-11-05T13:18:29.8265Z\",\"2021-11-05T13:18:59.3321Z\",\"2021-11-05T13:19:08.4032Z\",\"2021-11-05T13:20:00.0485Z\",\"2021-11-05T13:20:32.2382Z\",\"2021-11-05T13:21:02.2751Z\",\"2021-11-05T13:21:40.1283Z\",\"2021-11-05T13:21:55.1349Z\",\"2021-11-05T13:21:55.6039Z\",\"2021-11-05T13:21:56.3681Z\",\"2021-11-05T13:22:09.3122Z\",\"2021-11-05T13:22:21.1951Z\",\"2021-11-05T13:22:22.6819Z\",\"2021-11-05T13:22:23.2129Z\",\"2021-11-05T13:22:26.6275Z\",\"2021-11-05T13:22:53.4114Z\",\"2021-11-05T13:22:57.5189Z\",\"2021-11-05T13:23:01.5818Z\",\"2021-11-05T13:23:04.0368Z\",\"2021-11-05T13:23:11.1052Z\",\"2021-11-05T13:23:19.4904Z\",\"2021-11-05T13:24:36.3217Z\",\"2021-11-05T13:24:46.9139Z\",\"2021-11-05T13:25:00.1311Z\",\"2021-11-05T13:25:16.1022Z\",\"2021-11-05T13:25:48.9328Z\",\"2021-11-05T13:26:15.2924Z\",\"2021-11-05T13:26:15.3009Z\",\"2021-11-05T13:26:15.3102Z\",\"2021-11-05T13:26:32.1456Z\",\"2021-11-05T13:26:40.7187Z\",\"2021-11-05T13:27:20.1647Z\",\"2021-11-05T13:27:36.6525Z\",\"2021-11-05T13:27:40.2106Z\",\"2021-11-05T13:27:40.2166Z\",\"2021-11-05T13:27:40.2219Z\",\"2021-11-05T13:27:40.2474Z\",\"2021-11-05T13:27:50.1448Z\",\"2021-11-05T13:27:51.1513Z\",\"2021-11-05T13:28:00.2735Z\",\"2021-11-05T13:29:05.7894Z\",\"2021-11-05T13:29:05.7967Z\",\"2021-11-05T13:29:23.2748Z\",\"2021-11-05T13:29:36.869Z\",\"2021-11-05T13:29:54.3314Z\",\"2021-11-05T13:30:00.0206Z\",\"2021-11-05T13:30:00.1936Z\",\"2021-11-05T13:30:00.2592Z\",\"2021-11-05T13:30:00.3704Z\",\"2021-11-05T13:30:00.3761Z\",\"2021-11-05T13:30:00.5079Z\",\"2021-11-05T13:30:00.5351Z\",\"2021-11-05T13:30:00.58Z\",\"2021-11-05T13:30:00.5863Z\",\"2021-11-05T13:30:00.6147Z\",\"2021-11-05T13:30:00.9079Z\",\"2021-11-05T13:30:00.959Z\",\"2021-11-05T13:30:00.9646Z\",\"2021-11-05T13:30:01.201Z\",\"2021-11-05T13:30:01.2898Z\",\"2021-11-05T13:30:01.3173Z\",\"2021-11-05T13:30:01.3883Z\",\"2021-11-05T13:30:01.5081Z\",\"2021-11-05T13:30:01.514Z\",\"2021-11-05T13:30:01.7691Z\",\"2021-11-05T13:30:02.5159Z\",\"2021-11-05T13:30:02.5382Z\",\"2021-11-05T13:30:02.5566Z\",\"2021-11-05T13:30:02.5621Z\",\"2021-11-05T13:30:02.6217Z\",\"2021-11-05T13:30:02.674Z\",\"2021-11-05T13:30:02.7431Z\",\"2021-11-05T13:30:02.8751Z\",\"2021-11-05T13:30:03.1212Z\",\"2021-11-05T13:30:03.2444Z\",\"2021-11-05T13:30:03.2554Z\",\"2021-11-05T13:30:03.3551Z\",\"2021-11-05T13:30:03.3715Z\",\"2021-11-05T13:30:03.5344Z\",\"2021-11-05T13:30:03.5403Z\",\"2021-11-05T13:30:03.5786Z\",\"2021-11-05T13:30:03.6561Z\",\"2021-11-05T13:30:03.79Z\",\"2021-11-05T13:30:03.8303Z\",\"2021-11-05T13:30:03.8463Z\",\"2021-11-05T13:30:03.8529Z\",\"2021-11-05T13:30:03.8755Z\",\"2021-11-05T13:30:03.9154Z\",\"2021-11-05T13:30:03.9798Z\",\"2021-11-05T13:30:04.1426Z\",\"2021-11-05T13:30:04.2326Z\",\"2021-11-05T13:30:04.2429Z\",\"2021-11-05T13:30:04.2547Z\",\"2021-11-05T13:30:04.3584Z\",\"2021-11-05T13:30:04.3636Z\",\"2021-11-05T13:30:04.3866Z\",\"2021-11-05T13:30:04.3918Z\",\"2021-11-05T13:30:04.4193Z\",\"2021-11-05T13:30:04.4475Z\",\"2021-11-05T13:30:04.4586Z\",\"2021-11-05T13:30:04.4701Z\",\"2021-11-05T13:30:04.4759Z\",\"2021-11-05T13:30:04.4869Z\",\"2021-11-05T13:30:04.5151Z\",\"2021-11-05T13:30:04.533Z\",\"2021-11-05T13:30:04.5444Z\",\"2021-11-05T13:30:04.5496Z\",\"2021-11-05T13:30:04.6954Z\",\"2021-11-05T13:30:04.8651Z\",\"2021-11-05T13:30:04.8711Z\",\"2021-11-05T13:30:04.9789Z\",\"2021-11-05T13:30:05.0299Z\",\"2021-11-05T13:30:05.0868Z\",\"2021-11-05T13:30:05.151Z\",\"2021-11-05T13:30:05.1566Z\",\"2021-11-05T13:30:05.1729Z\",\"2021-11-05T13:30:05.2432Z\",\"2021-11-05T13:30:05.3567Z\",\"2021-11-05T13:30:05.9826Z\",\"2021-11-05T13:30:06.1072Z\",\"2021-11-05T13:30:06.4138Z\",\"2021-11-05T13:30:06.4252Z\",\"2021-11-05T13:30:06.7965Z\",\"2021-11-05T13:30:06.8019Z\",\"2021-11-05T13:30:06.8896Z\",\"2021-11-05T13:30:06.8951Z\",\"2021-11-05T13:30:07.5978Z\",\"2021-11-05T13:30:07.6039Z\",\"2021-11-05T13:30:08.2452Z\",\"2021-11-05T13:30:08.4085Z\",\"2021-11-05T13:30:08.7182Z\",\"2021-11-05T13:30:08.9986Z\",\"2021-11-05T13:30:09.2001Z\",\"2021-11-05T13:30:09.2242Z\",\"2021-11-05T13:30:09.2298Z\",\"2021-11-05T13:30:09.2583Z\",\"2021-11-05T13:30:09.2952Z\",\"2021-11-05T13:30:09.7723Z\",\"2021-11-05T13:30:09.8245Z\",\"2021-11-05T13:30:10.0289Z\",\"2021-11-05T13:30:10.0351Z\",\"2021-11-05T13:30:10.1932Z\",\"2021-11-05T13:30:10.2353Z\",\"2021-11-05T13:30:11.0093Z\",\"2021-11-05T13:30:11.0151Z\",\"2021-11-05T13:30:11.0774Z\",\"2021-11-05T13:30:11.0899Z\",\"2021-11-05T13:30:11.096Z\",\"2021-11-05T13:30:11.1186Z\",\"2021-11-05T13:30:11.1429Z\",\"2021-11-05T13:30:11.3082Z\",\"2021-11-05T13:30:11.343Z\",\"2021-11-05T13:30:11.3779Z\",\"2021-11-05T13:30:11.3835Z\",\"2021-11-05T13:30:11.4402Z\",\"2021-11-05T13:30:11.5209Z\",\"2021-11-05T13:30:11.5445Z\",\"2021-11-05T13:30:11.8143Z\",\"2021-11-05T13:30:12.0549Z\",\"2021-11-05T13:30:12.1548Z\",\"2021-11-05T13:30:12.4162Z\",\"2021-11-05T13:30:12.4421Z\",\"2021-11-05T13:30:12.4669Z\",\"2021-11-05T13:30:12.4847Z\",\"2021-11-05T13:30:12.5925Z\",\"2021-11-05T13:30:12.8231Z\",\"2021-11-05T13:30:13.0368Z\",\"2021-11-05T13:30:13.0669Z\",\"2021-11-05T13:30:13.0748Z\",\"2021-11-05T13:30:13.1054Z\",\"2021-11-05T13:30:13.1977Z\",\"2021-11-05T13:30:13.2786Z\",\"2021-11-05T13:30:13.2839Z\",\"2021-11-05T13:30:13.3478Z\",\"2021-11-05T13:30:13.3808Z\",\"2021-11-05T13:30:13.3865Z\",\"2021-11-05T13:30:13.4148Z\",\"2021-11-05T13:30:13.4831Z\",\"2021-11-05T13:30:13.5407Z\",\"2021-11-05T13:30:13.72Z\",\"2021-11-05T13:30:14.1621Z\",\"2021-11-05T13:30:14.1676Z\",\"2021-11-05T13:30:14.5495Z\",\"2021-11-05T13:30:14.6331Z\",\"2021-11-05T13:30:14.833Z\",\"2021-11-05T13:30:14.8592Z\",\"2021-11-05T13:30:15.1303Z\",\"2021-11-05T13:30:15.2379Z\",\"2021-11-05T13:30:15.2844Z\",\"2021-11-05T13:30:15.4992Z\",\"2021-11-05T13:30:15.9138Z\",\"2021-11-05T13:30:16.0374Z\",\"2021-11-05T13:30:16.2503Z\",\"2021-11-05T13:30:16.2554Z\",\"2021-11-05T13:30:16.6976Z\",\"2021-11-05T13:30:16.7031Z\",\"2021-11-05T13:30:17.2075Z\",\"2021-11-05T13:30:17.4429Z\",\"2021-11-05T13:30:17.5444Z\",\"2021-11-05T13:30:18.1323Z\",\"2021-11-05T13:30:18.4921Z\",\"2021-11-05T13:30:18.6589Z\",\"2021-11-05T13:30:18.923Z\",\"2021-11-05T13:30:19.0091Z\",\"2021-11-05T13:30:19.3295Z\",\"2021-11-05T13:30:19.9321Z\",\"2021-11-05T13:30:20.2899Z\",\"2021-11-05T13:30:20.2954Z\",\"2021-11-05T13:30:20.4307Z\",\"2021-11-05T13:30:20.6208Z\",\"2021-11-05T13:30:20.6499Z\",\"2021-11-05T13:30:20.6555Z\",\"2021-11-05T13:30:20.6922Z\",\"2021-11-05T13:30:20.7083Z\",\"2021-11-05T13:30:20.7309Z\",\"2021-11-05T13:30:20.7376Z\",\"2021-11-05T13:30:20.7428Z\",\"2021-11-05T13:30:20.7479Z\",\"2021-11-05T13:30:20.7596Z\",\"2021-11-05T13:30:20.7649Z\",\"2021-11-05T13:30:20.7711Z\",\"2021-11-05T13:30:20.7766Z\",\"2021-11-05T13:30:20.7891Z\",\"2021-11-05T13:30:20.7999Z\",\"2021-11-05T13:30:20.8121Z\",\"2021-11-05T13:30:20.9297Z\",\"2021-11-05T13:30:21.4304Z\",\"2021-11-05T13:30:21.9049Z\",\"2021-11-05T13:30:21.9274Z\",\"2021-11-05T13:30:22.4479Z\",\"2021-11-05T13:30:22.6291Z\",\"2021-11-05T13:30:22.8776Z\",\"2021-11-05T13:30:23.0485Z\",\"2021-11-05T13:30:23.4805Z\",\"2021-11-05T13:30:23.5329Z\",\"2021-11-05T13:30:23.5502Z\",\"2021-11-05T13:30:23.5554Z\",\"2021-11-05T13:30:23.6355Z\",\"2021-11-05T13:30:24.255Z\",\"2021-11-05T13:30:24.763Z\",\"2021-11-05T13:30:24.7738Z\",\"2021-11-05T13:30:24.786Z\",\"2021-11-05T13:30:24.7916Z\",\"2021-11-05T13:30:24.8092Z\",\"2021-11-05T13:30:24.8204Z\",\"2021-11-05T13:30:24.878Z\",\"2021-11-05T13:30:24.9385Z\",\"2021-11-05T13:30:25.0707Z\",\"2021-11-05T13:30:25.0761Z\",\"2021-11-05T13:30:25.0891Z\",\"2021-11-05T13:30:25.2855Z\",\"2021-11-05T13:30:25.293Z\",\"2021-11-05T13:30:25.3063Z\",\"2021-11-05T13:30:25.5906Z\",\"2021-11-05T13:30:25.7661Z\",\"2021-11-05T13:30:25.7767Z\",\"2021-11-05T13:30:26.0572Z\",\"2021-11-05T13:30:26.2204Z\",\"2021-11-05T13:30:26.4302Z\",\"2021-11-05T13:30:26.5156Z\",\"2021-11-05T13:30:26.6134Z\",\"2021-11-05T13:30:26.823Z\",\"2021-11-05T13:30:26.9946Z\",\"2021-11-05T13:30:27.0827Z\",\"2021-11-05T13:30:27.1646Z\",\"2021-11-05T13:30:27.1706Z\",\"2021-11-05T13:30:27.1875Z\",\"2021-11-05T13:30:27.2008Z\",\"2021-11-05T13:30:27.5751Z\",\"2021-11-05T13:30:27.6421Z\",\"2021-11-05T13:30:27.6625Z\",\"2021-11-05T13:30:28.0716Z\",\"2021-11-05T13:30:28.0779Z\",\"2021-11-05T13:30:28.3045Z\",\"2021-11-05T13:30:28.5839Z\",\"2021-11-05T13:30:28.8686Z\",\"2021-11-05T13:30:29.0144Z\",\"2021-11-05T13:30:29.0924Z\",\"2021-11-05T13:30:29.2302Z\",\"2021-11-05T13:30:29.9475Z\",\"2021-11-05T13:30:29.9781Z\",\"2021-11-05T13:30:30.0474Z\",\"2021-11-05T13:30:30.3104Z\",\"2021-11-05T13:30:30.4954Z\",\"2021-11-05T13:30:30.7416Z\",\"2021-11-05T13:30:31.3161Z\",\"2021-11-05T13:30:31.8243Z\",\"2021-11-05T13:30:32.4449Z\",\"2021-11-05T13:30:32.5416Z\",\"2021-11-05T13:30:32.6639Z\",\"2021-11-05T13:30:33.0747Z\",\"2021-11-05T13:30:33.444Z\",\"2021-11-05T13:30:34.0279Z\",\"2021-11-05T13:30:34.0456Z\",\"2021-11-05T13:30:34.0755Z\",\"2021-11-05T13:30:34.5675Z\",\"2021-11-05T13:30:34.683Z\",\"2021-11-05T13:30:34.7651Z\",\"2021-11-05T13:30:35.237Z\",\"2021-11-05T13:30:35.2487Z\",\"2021-11-05T13:30:35.2673Z\",\"2021-11-05T13:30:35.7715Z\",\"2021-11-05T13:30:36.2212Z\",\"2021-11-05T13:30:37.2018Z\",\"2021-11-05T13:30:37.2531Z\",\"2021-11-05T13:30:37.3219Z\",\"2021-11-05T13:30:38.1555Z\",\"2021-11-05T13:30:38.6037Z\",\"2021-11-05T13:30:38.7101Z\",\"2021-11-05T13:30:38.7342Z\",\"2021-11-05T13:30:39.2136Z\",\"2021-11-05T13:30:40.1585Z\",\"2021-11-05T13:30:40.1639Z\",\"2021-11-05T13:30:40.5954Z\",\"2021-11-05T13:30:41.1746Z\",\"2021-11-05T13:30:41.2044Z\",\"2021-11-05T13:30:41.2161Z\",\"2021-11-05T13:30:41.5157Z\",\"2021-11-05T13:30:41.521Z\",\"2021-11-05T13:30:42.5613Z\",\"2021-11-05T13:30:43.0335Z\",\"2021-11-05T13:30:43.0458Z\",\"2021-11-05T13:30:44.7965Z\",\"2021-11-05T13:30:44.808Z\",\"2021-11-05T13:30:46.2914Z\",\"2021-11-05T13:30:47.0544Z\",\"2021-11-05T13:30:47.0599Z\",\"2021-11-05T13:30:47.4781Z\",\"2021-11-05T13:30:47.7242Z\",\"2021-11-05T13:30:47.7684Z\",\"2021-11-05T13:30:48.0381Z\",\"2021-11-05T13:30:48.2456Z\",\"2021-11-05T13:30:48.2515Z\",\"2021-11-05T13:30:48.3482Z\",\"2021-11-05T13:30:48.6509Z\",\"2021-11-05T13:30:48.6651Z\",\"2021-11-05T13:30:48.8183Z\",\"2021-11-05T13:30:48.9032Z\",\"2021-11-05T13:30:49.3775Z\",\"2021-11-05T13:30:50.0449Z\",\"2021-11-05T13:30:50.255Z\",\"2021-11-05T13:30:51.1491Z\",\"2021-11-05T13:30:51.5343Z\",\"2021-11-05T13:30:52.0948Z\",\"2021-11-05T13:30:52.1293Z\",\"2021-11-05T13:30:52.1758Z\",\"2021-11-05T13:30:52.2803Z\",\"2021-11-05T13:30:52.4882Z\",\"2021-11-05T13:30:52.495Z\",\"2021-11-05T13:30:52.7329Z\",\"2021-11-05T13:30:52.8068Z\",\"2021-11-05T13:30:53.443Z\",\"2021-11-05T13:30:54.0971Z\",\"2021-11-05T13:30:54.1049Z\",\"2021-11-05T13:30:54.1743Z\",\"2021-11-05T13:30:55.8895Z\",\"2021-11-05T13:30:55.8953Z\",\"2021-11-05T13:30:55.9007Z\",\"2021-11-05T13:30:55.9058Z\",\"2021-11-05T13:30:55.9116Z\",\"2021-11-05T13:30:56.1592Z\",\"2021-11-05T13:30:56.2409Z\",\"2021-11-05T13:30:56.8389Z\",\"2021-11-05T13:30:57.0538Z\",\"2021-11-05T13:30:57.0976Z\",\"2021-11-05T13:30:57.9675Z\",\"2021-11-05T13:30:57.9736Z\",\"2021-11-05T13:30:58.1608Z\",\"2021-11-05T13:30:58.4233Z\",\"2021-11-05T13:30:58.4484Z\",\"2021-11-05T13:30:58.6132Z\",\"2021-11-05T13:30:59.0542Z\",\"2021-11-05T13:30:59.0829Z\",\"2021-11-05T13:30:59.1179Z\",\"2021-11-05T13:30:59.178Z\",\"2021-11-05T13:31:00.0062Z\",\"2021-11-05T13:31:00.0184Z\",\"2021-11-05T13:31:00.0241Z\",\"2021-11-05T13:31:00.0294Z\",\"2021-11-05T13:31:00.04Z\",\"2021-11-05T13:31:00.0568Z\",\"2021-11-05T13:31:00.2008Z\",\"2021-11-05T13:31:00.3031Z\",\"2021-11-05T13:31:00.3193Z\",\"2021-11-05T13:31:00.3307Z\",\"2021-11-05T13:31:00.3432Z\",\"2021-11-05T13:31:00.3485Z\",\"2021-11-05T13:31:00.6411Z\",\"2021-11-05T13:31:00.6471Z\",\"2021-11-05T13:31:00.6692Z\",\"2021-11-05T13:31:00.7007Z\",\"2021-11-05T13:31:00.7991Z\",\"2021-11-05T13:31:01.068Z\",\"2021-11-05T13:31:01.1669Z\",\"2021-11-05T13:31:01.1782Z\",\"2021-11-05T13:31:01.786Z\",\"2021-11-05T13:31:01.8406Z\",\"2021-11-05T13:31:01.9333Z\",\"2021-11-05T13:31:02.1666Z\",\"2021-11-05T13:31:02.3283Z\",\"2021-11-05T13:31:02.347Z\",\"2021-11-05T13:31:02.3537Z\",\"2021-11-05T13:31:03.0031Z\",\"2021-11-05T13:31:03.0142Z\",\"2021-11-05T13:31:03.2478Z\",\"2021-11-05T13:31:03.2635Z\",\"2021-11-05T13:31:03.2761Z\",\"2021-11-05T13:31:03.2814Z\",\"2021-11-05T13:31:03.3208Z\",\"2021-11-05T13:31:03.6538Z\",\"2021-11-05T13:31:04.5027Z\",\"2021-11-05T13:31:04.5564Z\",\"2021-11-05T13:31:04.6939Z\",\"2021-11-05T13:31:06.0099Z\",\"2021-11-05T13:31:06.8758Z\",\"2021-11-05T13:31:06.8823Z\",\"2021-11-05T13:31:08.2646Z\",\"2021-11-05T13:31:08.2982Z\",\"2021-11-05T13:31:09.1549Z\",\"2021-11-05T13:31:09.1732Z\",\"2021-11-05T13:31:09.2898Z\",\"2021-11-05T13:31:09.3899Z\",\"2021-11-05T13:31:09.909Z\",\"2021-11-05T13:31:10.4409Z\",\"2021-11-05T13:31:10.4583Z\",\"2021-11-05T13:31:10.96Z\",\"2021-11-05T13:31:11.0265Z\",\"2021-11-05T13:31:11.4913Z\",\"2021-11-05T13:31:11.6471Z\",\"2021-11-05T13:31:11.8881Z\",\"2021-11-05T13:31:11.9307Z\",\"2021-11-05T13:31:12.2669Z\",\"2021-11-05T13:31:12.2723Z\",\"2021-11-05T13:31:12.3904Z\",\"2021-11-05T13:31:13.2479Z\",\"2021-11-05T13:31:13.3141Z\",\"2021-11-05T13:31:14.617Z\",\"2021-11-05T13:31:15.5032Z\",\"2021-11-05T13:31:15.5163Z\",\"2021-11-05T13:31:15.5779Z\",\"2021-11-05T13:31:15.7788Z\",\"2021-11-05T13:31:16.0429Z\",\"2021-11-05T13:31:16.1497Z\",\"2021-11-05T13:31:16.174Z\",\"2021-11-05T13:31:16.682Z\",\"2021-11-05T13:31:16.6873Z\",\"2021-11-05T13:31:16.8642Z\",\"2021-11-05T13:31:17.146Z\",\"2021-11-05T13:31:17.1523Z\",\"2021-11-05T13:31:17.6024Z\",\"2021-11-05T13:31:18.1497Z\",\"2021-11-05T13:31:18.3054Z\",\"2021-11-05T13:31:18.3936Z\",\"2021-11-05T13:31:18.4413Z\",\"2021-11-05T13:31:19.151Z\",\"2021-11-05T13:31:19.2686Z\",\"2021-11-05T13:31:19.9261Z\",\"2021-11-05T13:31:19.9464Z\",\"2021-11-05T13:31:20.1495Z\",\"2021-11-05T13:31:20.4035Z\",\"2021-11-05T13:31:20.411Z\",\"2021-11-05T13:31:20.4469Z\",\"2021-11-05T13:31:21.0296Z\",\"2021-11-05T13:31:21.1504Z\",\"2021-11-05T13:31:21.1621Z\",\"2021-11-05T13:31:21.4673Z\",\"2021-11-05T13:31:21.5031Z\",\"2021-11-05T13:31:21.5154Z\",\"2021-11-05T13:31:22.151Z\",\"2021-11-05T13:31:22.5085Z\",\"2021-11-05T13:31:22.5137Z\",\"2021-11-05T13:31:23.0617Z\",\"2021-11-05T13:31:23.1498Z\",\"2021-11-05T13:31:23.1628Z\",\"2021-11-05T13:31:23.1749Z\",\"2021-11-05T13:31:23.19Z\",\"2021-11-05T13:31:23.31Z\",\"2021-11-05T13:31:23.3329Z\",\"2021-11-05T13:31:23.4689Z\",\"2021-11-05T13:31:23.8947Z\",\"2021-11-05T13:31:24.3099Z\",\"2021-11-05T13:31:24.3153Z\",\"2021-11-05T13:31:24.321Z\",\"2021-11-05T13:31:24.3264Z\",\"2021-11-05T13:31:24.9093Z\",\"2021-11-05T13:31:25.2471Z\",\"2021-11-05T13:31:25.2528Z\",\"2021-11-05T13:31:25.361Z\",\"2021-11-05T13:31:25.4025Z\",\"2021-11-05T13:31:26.3911Z\",\"2021-11-05T13:31:28.3624Z\",\"2021-11-05T13:31:28.3675Z\",\"2021-11-05T13:31:28.3781Z\",\"2021-11-05T13:31:30.6701Z\",\"2021-11-05T13:31:31.7998Z\",\"2021-11-05T13:31:33.8628Z\",\"2021-11-05T13:31:34.0486Z\",\"2021-11-05T13:31:34.0597Z\",\"2021-11-05T13:31:34.0652Z\",\"2021-11-05T13:31:34.3974Z\",\"2021-11-05T13:31:34.4161Z\",\"2021-11-05T13:31:34.4216Z\",\"2021-11-05T13:31:35.9856Z\",\"2021-11-05T13:31:36.0387Z\",\"2021-11-05T13:31:38.0738Z\",\"2021-11-05T13:31:38.0813Z\",\"2021-11-05T13:31:38.0869Z\",\"2021-11-05T13:31:38.3774Z\",\"2021-11-05T13:31:38.6201Z\",\"2021-11-05T13:31:39.0466Z\",\"2021-11-05T13:31:39.1955Z\",\"2021-11-05T13:31:40.3678Z\",\"2021-11-05T13:31:40.9118Z\",\"2021-11-05T13:31:41.1147Z\",\"2021-11-05T13:31:41.1202Z\",\"2021-11-05T13:31:41.2931Z\",\"2021-11-05T13:31:41.3091Z\",\"2021-11-05T13:31:41.3234Z\",\"2021-11-05T13:31:41.3355Z\",\"2021-11-05T13:31:42.3897Z\",\"2021-11-05T13:31:42.5505Z\",\"2021-11-05T13:31:42.6864Z\",\"2021-11-05T13:31:42.7918Z\",\"2021-11-05T13:31:43.0306Z\",\"2021-11-05T13:31:43.319Z\",\"2021-11-05T13:31:43.4148Z\",\"2021-11-05T13:31:44.5184Z\",\"2021-11-05T13:31:44.5237Z\",\"2021-11-05T13:31:44.6385Z\",\"2021-11-05T13:31:44.8389Z\",\"2021-11-05T13:31:44.845Z\",\"2021-11-05T13:31:45.3828Z\",\"2021-11-05T13:31:45.598Z\",\"2021-11-05T13:31:45.7189Z\",\"2021-11-05T13:31:45.9296Z\",\"2021-11-05T13:31:47.1458Z\",\"2021-11-05T13:31:48.1235Z\",\"2021-11-05T13:31:51.9366Z\",\"2021-11-05T13:31:51.9427Z\",\"2021-11-05T13:31:52.204Z\",\"2021-11-05T13:31:52.8371Z\",\"2021-11-05T13:31:52.8567Z\",\"2021-11-05T13:31:53.1277Z\",\"2021-11-05T13:31:53.139Z\",\"2021-11-05T13:31:53.2055Z\",\"2021-11-05T13:31:53.2116Z\",\"2021-11-05T13:31:54.5261Z\",\"2021-11-05T13:31:55.5725Z\",\"2021-11-05T13:31:56.2166Z\",\"2021-11-05T13:31:56.2571Z\",\"2021-11-05T13:31:56.5022Z\",\"2021-11-05T13:31:56.6509Z\",\"2021-11-05T13:31:56.6616Z\",\"2021-11-05T13:31:56.9886Z\",\"2021-11-05T13:31:58.1512Z\",\"2021-11-05T13:31:58.5858Z\",\"2021-11-05T13:31:59.6581Z\",\"2021-11-05T13:32:00.8023Z\",\"2021-11-05T13:32:01.5742Z\",\"2021-11-05T13:32:01.5803Z\",\"2021-11-05T13:32:01.5858Z\",\"2021-11-05T13:32:01.6687Z\",\"2021-11-05T13:32:02.1341Z\",\"2021-11-05T13:32:02.4563Z\",\"2021-11-05T13:32:02.4614Z\",\"2021-11-05T13:32:02.986Z\",\"2021-11-05T13:32:02.9926Z\",\"2021-11-05T13:32:02.9995Z\",\"2021-11-05T13:32:03.0048Z\",\"2021-11-05T13:32:03.0116Z\",\"2021-11-05T13:32:03.3439Z\",\"2021-11-05T13:32:03.7543Z\",\"2021-11-05T13:32:03.9263Z\",\"2021-11-05T13:32:03.938Z\",\"2021-11-05T13:32:03.9438Z\",\"2021-11-05T13:32:03.9625Z\",\"2021-11-05T13:32:03.9734Z\",\"2021-11-05T13:32:03.9796Z\",\"2021-11-05T13:32:03.9927Z\",\"2021-11-05T13:32:04.039Z\",\"2021-11-05T13:32:04.2659Z\",\"2021-11-05T13:32:04.5487Z\",\"2021-11-05T13:32:04.555Z\",\"2021-11-05T13:32:04.5662Z\",\"2021-11-05T13:32:04.6027Z\",\"2021-11-05T13:32:05.1135Z\",\"2021-11-05T13:32:05.3956Z\",\"2021-11-05T13:32:05.4012Z\",\"2021-11-05T13:32:05.7662Z\",\"2021-11-05T13:32:05.9763Z\",\"2021-11-05T13:32:06.3231Z\",\"2021-11-05T13:32:06.7084Z\",\"2021-11-05T13:32:07.0316Z\",\"2021-11-05T13:32:07.275Z\",\"2021-11-05T13:32:07.3406Z\",\"2021-11-05T13:32:07.8354Z\",\"2021-11-05T13:32:08.0691Z\",\"2021-11-05T13:32:08.2739Z\",\"2021-11-05T13:32:08.5904Z\",\"2021-11-05T13:32:08.8124Z\",\"2021-11-05T13:32:09.504Z\",\"2021-11-05T13:32:10.0686Z\",\"2021-11-05T13:32:10.1615Z\",\"2021-11-05T13:32:10.1674Z\",\"2021-11-05T13:32:10.1732Z\",\"2021-11-05T13:32:10.2946Z\",\"2021-11-05T13:32:10.4776Z\",\"2021-11-05T13:32:11.0899Z\",\"2021-11-05T13:32:11.7841Z\",\"2021-11-05T13:32:12.053Z\",\"2021-11-05T13:32:12.1602Z\",\"2021-11-05T13:32:12.3649Z\",\"2021-11-05T13:32:12.6924Z\",\"2021-11-05T13:32:12.8735Z\",\"2021-11-05T13:32:14.0174Z\",\"2021-11-05T13:32:14.0239Z\",\"2021-11-05T13:32:15.154Z\",\"2021-11-05T13:32:15.1603Z\",\"2021-11-05T13:32:15.4457Z\",\"2021-11-05T13:32:16.8695Z\",\"2021-11-05T13:32:17.4412Z\",\"2021-11-05T13:32:19.1219Z\",\"2021-11-05T13:32:19.1285Z\",\"2021-11-05T13:32:19.4227Z\",\"2021-11-05T13:32:19.4311Z\",\"2021-11-05T13:32:19.4427Z\",\"2021-11-05T13:32:20.0794Z\",\"2021-11-05T13:32:20.2671Z\",\"2021-11-05T13:32:20.2785Z\",\"2021-11-05T13:32:20.679Z\",\"2021-11-05T13:32:21.1364Z\",\"2021-11-05T13:32:22.238Z\",\"2021-11-05T13:32:22.2488Z\",\"2021-11-05T13:32:22.2543Z\",\"2021-11-05T13:32:22.299Z\",\"2021-11-05T13:32:22.8013Z\",\"2021-11-05T13:32:22.9238Z\",\"2021-11-05T13:32:22.9425Z\",\"2021-11-05T13:32:22.9496Z\",\"2021-11-05T13:32:22.9608Z\",\"2021-11-05T13:32:22.9663Z\",\"2021-11-05T13:32:22.9722Z\",\"2021-11-05T13:32:22.9775Z\",\"2021-11-05T13:32:22.983Z\",\"2021-11-05T13:32:23.281Z\",\"2021-11-05T13:32:23.5987Z\",\"2021-11-05T13:32:24.0764Z\",\"2021-11-05T13:32:24.5985Z\",\"2021-11-05T13:32:24.606Z\",\"2021-11-05T13:32:24.6238Z\",\"2021-11-05T13:32:24.8049Z\",\"2021-11-05T13:32:25.1892Z\",\"2021-11-05T13:32:25.2254Z\",\"2021-11-05T13:32:25.5083Z\",\"2021-11-05T13:32:26.3936Z\",\"2021-11-05T13:32:26.4713Z\",\"2021-11-05T13:32:27.1548Z\",\"2021-11-05T13:32:28.3763Z\",\"2021-11-05T13:32:31.0355Z\",\"2021-11-05T13:32:31.7715Z\",\"2021-11-05T13:32:32.0011Z\",\"2021-11-05T13:32:32.0064Z\",\"2021-11-05T13:32:32.5627Z\",\"2021-11-05T13:32:32.9018Z\",\"2021-11-05T13:32:33.2427Z\",\"2021-11-05T13:32:33.248Z\",\"2021-11-05T13:32:33.7175Z\",\"2021-11-05T13:32:33.7306Z\",\"2021-11-05T13:32:35.0566Z\",\"2021-11-05T13:32:35.1174Z\",\"2021-11-05T13:32:35.6025Z\",\"2021-11-05T13:32:35.6935Z\",\"2021-11-05T13:32:35.7252Z\",\"2021-11-05T13:32:35.7767Z\",\"2021-11-05T13:32:35.8719Z\",\"2021-11-05T13:32:36.0241Z\",\"2021-11-05T13:32:36.4077Z\",\"2021-11-05T13:32:36.77Z\",\"2021-11-05T13:32:38.2168Z\",\"2021-11-05T13:32:39.3389Z\",\"2021-11-05T13:32:39.8795Z\",\"2021-11-05T13:32:39.8851Z\",\"2021-11-05T13:32:39.949Z\",\"2021-11-05T13:32:40.0066Z\",\"2021-11-05T13:32:40.2281Z\",\"2021-11-05T13:32:40.2741Z\",\"2021-11-05T13:32:40.3138Z\",\"2021-11-05T13:32:40.3192Z\",\"2021-11-05T13:32:40.5265Z\",\"2021-11-05T13:32:40.6998Z\",\"2021-11-05T13:32:41.1459Z\",\"2021-11-05T13:32:41.1571Z\",\"2021-11-05T13:32:41.1637Z\",\"2021-11-05T13:32:42.0764Z\",\"2021-11-05T13:32:42.3507Z\",\"2021-11-05T13:32:42.3569Z\",\"2021-11-05T13:32:42.6178Z\",\"2021-11-05T13:32:42.6361Z\",\"2021-11-05T13:32:42.7387Z\",\"2021-11-05T13:32:43.0778Z\",\"2021-11-05T13:32:43.1308Z\",\"2021-11-05T13:32:43.1415Z\",\"2021-11-05T13:32:43.1597Z\",\"2021-11-05T13:32:43.2453Z\",\"2021-11-05T13:32:44.7839Z\",\"2021-11-05T13:32:44.8604Z\",\"2021-11-05T13:32:45.5199Z\",\"2021-11-05T13:32:47.3939Z\",\"2021-11-05T13:32:49.0325Z\",\"2021-11-05T13:32:49.5414Z\",\"2021-11-05T13:32:50.318Z\",\"2021-11-05T13:32:50.464Z\",\"2021-11-05T13:32:50.4915Z\",\"2021-11-05T13:32:50.8909Z\",\"2021-11-05T13:32:51.1583Z\",\"2021-11-05T13:32:51.6489Z\",\"2021-11-05T13:32:51.9674Z\",\"2021-11-05T13:32:52.2523Z\",\"2021-11-05T13:32:53.1908Z\",\"2021-11-05T13:32:53.6614Z\",\"2021-11-05T13:32:53.6675Z\",\"2021-11-05T13:32:53.6738Z\",\"2021-11-05T13:32:54.7843Z\",\"2021-11-05T13:32:55.2045Z\",\"2021-11-05T13:32:55.5799Z\",\"2021-11-05T13:32:55.647Z\",\"2021-11-05T13:32:55.7365Z\",\"2021-11-05T13:32:56.0822Z\",\"2021-11-05T13:32:56.0883Z\",\"2021-11-05T13:32:56.2033Z\",\"2021-11-05T13:32:56.4287Z\",\"2021-11-05T13:32:56.6941Z\",\"2021-11-05T13:32:56.8487Z\",\"2021-11-05T13:32:57.1846Z\",\"2021-11-05T13:32:57.3064Z\",\"2021-11-05T13:32:57.7289Z\",\"2021-11-05T13:32:57.7351Z\",\"2021-11-05T13:32:57.7431Z\",\"2021-11-05T13:32:57.7514Z\",\"2021-11-05T13:32:57.8467Z\",\"2021-11-05T13:32:57.8542Z\",\"2021-11-05T13:32:57.9988Z\",\"2021-11-05T13:32:58.1547Z\",\"2021-11-05T13:32:58.3973Z\",\"2021-11-05T13:32:58.8849Z\",\"2021-11-05T13:32:59.2882Z\",\"2021-11-05T13:32:59.4472Z\",\"2021-11-05T13:32:59.5342Z\",\"2021-11-05T13:32:59.8866Z\",\"2021-11-05T13:33:00.037Z\",\"2021-11-05T13:33:00.3493Z\",\"2021-11-05T13:33:00.6578Z\",\"2021-11-05T13:33:00.6638Z\",\"2021-11-05T13:33:00.7109Z\",\"2021-11-05T13:33:00.8883Z\",\"2021-11-05T13:33:01.8175Z\",\"2021-11-05T13:33:02.0198Z\",\"2021-11-05T13:33:02.4308Z\",\"2021-11-05T13:33:02.6189Z\",\"2021-11-05T13:33:02.9132Z\",\"2021-11-05T13:33:02.9186Z\",\"2021-11-05T13:33:02.924Z\",\"2021-11-05T13:33:02.9297Z\",\"2021-11-05T13:33:02.9411Z\",\"2021-11-05T13:33:02.9588Z\",\"2021-11-05T13:33:03.424Z\",\"2021-11-05T13:33:03.6515Z\",\"2021-11-05T13:33:03.9219Z\",\"2021-11-05T13:33:03.9353Z\",\"2021-11-05T13:33:03.9408Z\",\"2021-11-05T13:33:03.9477Z\",\"2021-11-05T13:33:03.9537Z\",\"2021-11-05T13:33:03.9597Z\",\"2021-11-05T13:33:03.9657Z\",\"2021-11-05T13:33:03.9713Z\",\"2021-11-05T13:33:03.9777Z\",\"2021-11-05T13:33:04.842Z\",\"2021-11-05T13:33:04.9974Z\",\"2021-11-05T13:33:05.0035Z\",\"2021-11-05T13:33:05.4271Z\",\"2021-11-05T13:33:05.5948Z\",\"2021-11-05T13:33:05.6153Z\",\"2021-11-05T13:33:05.6216Z\",\"2021-11-05T13:33:05.627Z\",\"2021-11-05T13:33:05.6352Z\",\"2021-11-05T13:33:05.641Z\",\"2021-11-05T13:33:05.6465Z\",\"2021-11-05T13:33:05.6758Z\",\"2021-11-05T13:33:07.4878Z\",\"2021-11-05T13:33:07.9394Z\",\"2021-11-05T13:33:07.9446Z\",\"2021-11-05T13:33:07.9499Z\",\"2021-11-05T13:33:08.0872Z\",\"2021-11-05T13:33:08.9107Z\",\"2021-11-05T13:33:08.9161Z\",\"2021-11-05T13:33:10.5563Z\",\"2021-11-05T13:33:11.1624Z\",\"2021-11-05T13:33:11.7703Z\",\"2021-11-05T13:33:12.7431Z\",\"2021-11-05T13:33:12.8198Z\",\"2021-11-05T13:33:12.8363Z\",\"2021-11-05T13:33:12.8422Z\",\"2021-11-05T13:33:13.2482Z\",\"2021-11-05T13:33:13.687Z\",\"2021-11-05T13:33:14.2306Z\",\"2021-11-05T13:33:14.237Z\",\"2021-11-05T13:33:14.942Z\",\"2021-11-05T13:33:15.6623Z\",\"2021-11-05T13:33:15.9631Z\",\"2021-11-05T13:33:15.9689Z\",\"2021-11-05T13:33:16.0385Z\",\"2021-11-05T13:33:16.044Z\",\"2021-11-05T13:33:17.8151Z\",\"2021-11-05T13:33:18.4978Z\",\"2021-11-05T13:33:19.0075Z\",\"2021-11-05T13:33:20.3618Z\",\"2021-11-05T13:33:21.2291Z\",\"2021-11-05T13:33:21.2703Z\",\"2021-11-05T13:33:21.8402Z\",\"2021-11-05T13:33:21.8999Z\",\"2021-11-05T13:33:22.3229Z\",\"2021-11-05T13:33:22.6195Z\",\"2021-11-05T13:33:23.4032Z\",\"2021-11-05T13:33:23.9876Z\",\"2021-11-05T13:33:25.2279Z\",\"2021-11-05T13:33:25.3343Z\",\"2021-11-05T13:33:25.8429Z\",\"2021-11-05T13:33:26.9273Z\",\"2021-11-05T13:33:26.9724Z\",\"2021-11-05T13:33:27.2171Z\",\"2021-11-05T13:33:27.4453Z\",\"2021-11-05T13:33:28.2671Z\",\"2021-11-05T13:33:28.2786Z\",\"2021-11-05T13:33:28.2852Z\",\"2021-11-05T13:33:28.2997Z\",\"2021-11-05T13:33:30.147Z\",\"2021-11-05T13:33:30.1789Z\",\"2021-11-05T13:33:30.1843Z\",\"2021-11-05T13:33:30.3223Z\",\"2021-11-05T13:33:31.9206Z\",\"2021-11-05T13:33:32.7146Z\",\"2021-11-05T13:33:32.7252Z\",\"2021-11-05T13:33:33.232Z\",\"2021-11-05T13:33:33.4879Z\",\"2021-11-05T13:33:35.0399Z\",\"2021-11-05T13:33:36.0501Z\",\"2021-11-05T13:33:36.5912Z\",\"2021-11-05T13:33:36.8784Z\",\"2021-11-05T13:33:37.2497Z\",\"2021-11-05T13:33:37.2547Z\",\"2021-11-05T13:33:38.0064Z\",\"2021-11-05T13:33:38.221Z\",\"2021-11-05T13:33:38.3819Z\",\"2021-11-05T13:33:38.4179Z\",\"2021-11-05T13:33:39.6159Z\",\"2021-11-05T13:33:43.2741Z\",\"2021-11-05T13:33:44.3242Z\",\"2021-11-05T13:33:44.3294Z\",\"2021-11-05T13:33:44.7913Z\",\"2021-11-05T13:33:44.7989Z\",\"2021-11-05T13:33:44.9478Z\",\"2021-11-05T13:33:45.1355Z\",\"2021-11-05T13:33:49.0877Z\",\"2021-11-05T13:33:50.5493Z\",\"2021-11-05T13:33:51.48Z\",\"2021-11-05T13:33:51.6378Z\",\"2021-11-05T13:33:52.2347Z\",\"2021-11-05T13:33:52.2982Z\",\"2021-11-05T13:33:52.7086Z\",\"2021-11-05T13:33:52.7206Z\",\"2021-11-05T13:33:55.2446Z\",\"2021-11-05T13:33:55.2518Z\",\"2021-11-05T13:33:55.2571Z\",\"2021-11-05T13:33:55.2684Z\",\"2021-11-05T13:33:56.4305Z\",\"2021-11-05T13:33:57.0027Z\",\"2021-11-05T13:33:57.3417Z\",\"2021-11-05T13:33:57.565Z\",\"2021-11-05T13:33:57.6675Z\",\"2021-11-05T13:33:57.9817Z\",\"2021-11-05T13:33:57.9931Z\",\"2021-11-05T13:33:58.3432Z\",\"2021-11-05T13:33:58.4158Z\",\"2021-11-05T13:33:59.768Z\",\"2021-11-05T13:34:00.9819Z\",\"2021-11-05T13:34:01.2322Z\",\"2021-11-05T13:34:01.7523Z\",\"2021-11-05T13:34:01.9344Z\",\"2021-11-05T13:34:01.9843Z\",\"2021-11-05T13:34:02.4612Z\",\"2021-11-05T13:34:02.4671Z\",\"2021-11-05T13:34:02.5401Z\",\"2021-11-05T13:34:02.6779Z\",\"2021-11-05T13:34:04.3875Z\",\"2021-11-05T13:34:04.8336Z\",\"2021-11-05T13:34:05.1921Z\",\"2021-11-05T13:34:06.1805Z\",\"2021-11-05T13:34:06.3823Z\",\"2021-11-05T13:34:07.2051Z\",\"2021-11-05T13:34:07.3226Z\",\"2021-11-05T13:34:07.4388Z\",\"2021-11-05T13:34:07.8559Z\",\"2021-11-05T13:34:08.1866Z\",\"2021-11-05T13:34:09.203Z\",\"2021-11-05T13:34:10.001Z\",\"2021-11-05T13:34:10.046Z\",\"2021-11-05T13:34:12.1984Z\",\"2021-11-05T13:34:12.3331Z\",\"2021-11-05T13:34:13.6886Z\",\"2021-11-05T13:34:16.3372Z\",\"2021-11-05T13:34:16.4511Z\",\"2021-11-05T13:34:17.7875Z\",\"2021-11-05T13:34:17.9255Z\",\"2021-11-05T13:34:18.7704Z\",\"2021-11-05T13:34:18.7756Z\",\"2021-11-05T13:34:19.8393Z\",\"2021-11-05T13:34:21.3492Z\",\"2021-11-05T13:34:21.5058Z\",\"2021-11-05T13:34:22.3582Z\",\"2021-11-05T13:34:22.3636Z\",\"2021-11-05T13:34:22.9471Z\",\"2021-11-05T13:34:23.1029Z\",\"2021-11-05T13:34:23.697Z\",\"2021-11-05T13:34:25.3903Z\",\"2021-11-05T13:34:26.4897Z\",\"2021-11-05T13:34:26.7915Z\",\"2021-11-05T13:34:26.8673Z\",\"2021-11-05T13:34:26.9Z\",\"2021-11-05T13:34:26.9053Z\",\"2021-11-05T13:34:28.3785Z\",\"2021-11-05T13:34:28.5027Z\",\"2021-11-05T13:34:29.2386Z\",\"2021-11-05T13:34:29.4758Z\",\"2021-11-05T13:34:29.66Z\",\"2021-11-05T13:34:29.6655Z\",\"2021-11-05T13:34:30.6627Z\",\"2021-11-05T13:34:32.6295Z\",\"2021-11-05T13:34:33.9619Z\",\"2021-11-05T13:34:36.6282Z\",\"2021-11-05T13:34:36.6338Z\",\"2021-11-05T13:34:38.0396Z\",\"2021-11-05T13:34:38.0768Z\",\"2021-11-05T13:34:38.0954Z\",\"2021-11-05T13:34:39.4164Z\",\"2021-11-05T13:34:40.4425Z\",\"2021-11-05T13:34:40.697Z\",\"2021-11-05T13:34:42.1164Z\",\"2021-11-05T13:34:42.6972Z\",\"2021-11-05T13:34:42.7119Z\",\"2021-11-05T13:34:42.7494Z\",\"2021-11-05T13:34:43.6275Z\",\"2021-11-05T13:34:45.6557Z\",\"2021-11-05T13:34:45.6611Z\",\"2021-11-05T13:34:45.9315Z\",\"2021-11-05T13:34:48.5059Z\",\"2021-11-05T13:34:48.5115Z\",\"2021-11-05T13:34:48.5849Z\",\"2021-11-05T13:34:48.6146Z\",\"2021-11-05T13:34:48.6277Z\",\"2021-11-05T13:34:48.641Z\",\"2021-11-05T13:34:50.5387Z\",\"2021-11-05T13:34:51.2882Z\",\"2021-11-05T13:34:51.657Z\",\"2021-11-05T13:34:52.5951Z\",\"2021-11-05T13:34:52.7158Z\",\"2021-11-05T13:34:52.7334Z\",\"2021-11-05T13:34:53.24Z\",\"2021-11-05T13:34:53.3559Z\",\"2021-11-05T13:34:53.9045Z\",\"2021-11-05T13:34:54.1113Z\",\"2021-11-05T13:34:54.1167Z\",\"2021-11-05T13:34:54.123Z\",\"2021-11-05T13:34:54.944Z\",\"2021-11-05T13:34:55.294Z\",\"2021-11-05T13:34:55.302Z\",\"2021-11-05T13:34:55.3669Z\",\"2021-11-05T13:34:55.532Z\",\"2021-11-05T13:34:55.557Z\",\"2021-11-05T13:34:55.7068Z\",\"2021-11-05T13:34:55.8002Z\",\"2021-11-05T13:34:56.2692Z\",\"2021-11-05T13:34:58.5427Z\",\"2021-11-05T13:34:58.5485Z\",\"2021-11-05T13:34:59.1445Z\",\"2021-11-05T13:35:00.137Z\",\"2021-11-05T13:35:00.1423Z\",\"2021-11-05T13:35:00.1531Z\",\"2021-11-05T13:35:00.1809Z\",\"2021-11-05T13:35:00.2329Z\",\"2021-11-05T13:35:00.4147Z\",\"2021-11-05T13:35:00.4201Z\",\"2021-11-05T13:35:00.4975Z\",\"2021-11-05T13:35:00.6877Z\",\"2021-11-05T13:35:00.7424Z\",\"2021-11-05T13:35:00.9791Z\",\"2021-11-05T13:35:01.036Z\",\"2021-11-05T13:35:01.0834Z\",\"2021-11-05T13:35:01.4803Z\",\"2021-11-05T13:35:02.1556Z\",\"2021-11-05T13:35:02.6148Z\",\"2021-11-05T13:35:02.6324Z\",\"2021-11-05T13:35:02.6429Z\",\"2021-11-05T13:35:03.9471Z\",\"2021-11-05T13:35:04.427Z\",\"2021-11-05T13:35:04.4321Z\",\"2021-11-05T13:35:04.7279Z\",\"2021-11-05T13:35:04.734Z\",\"2021-11-05T13:35:04.9462Z\",\"2021-11-05T13:35:05.6621Z\",\"2021-11-05T13:35:05.6779Z\",\"2021-11-05T13:35:06.3989Z\",\"2021-11-05T13:35:07.9897Z\",\"2021-11-05T13:35:08.2082Z\",\"2021-11-05T13:35:08.2137Z\",\"2021-11-05T13:35:08.2192Z\",\"2021-11-05T13:35:08.4165Z\",\"2021-11-05T13:35:08.7573Z\",\"2021-11-05T13:35:08.7765Z\",\"2021-11-05T13:35:09.1084Z\",\"2021-11-05T13:35:09.1484Z\",\"2021-11-05T13:35:09.181Z\",\"2021-11-05T13:35:09.2241Z\",\"2021-11-05T13:35:10.7952Z\",\"2021-11-05T13:35:11.9379Z\",\"2021-11-05T13:35:12.4011Z\",\"2021-11-05T13:35:14.0475Z\",\"2021-11-05T13:35:14.2406Z\",\"2021-11-05T13:35:14.3051Z\",\"2021-11-05T13:35:14.8436Z\",\"2021-11-05T13:35:14.849Z\",\"2021-11-05T13:35:15.1506Z\",\"2021-11-05T13:35:15.2447Z\",\"2021-11-05T13:35:15.3545Z\",\"2021-11-05T13:35:16.2607Z\",\"2021-11-05T13:35:16.7388Z\",\"2021-11-05T13:35:16.8858Z\",\"2021-11-05T13:35:16.9185Z\",\"2021-11-05T13:35:16.924Z\",\"2021-11-05T13:35:16.9798Z\",\"2021-11-05T13:35:17.8125Z\",\"2021-11-05T13:35:18.3814Z\",\"2021-11-05T13:35:18.4943Z\",\"2021-11-05T13:35:18.5498Z\",\"2021-11-05T13:35:18.5561Z\",\"2021-11-05T13:35:18.8452Z\",\"2021-11-05T13:35:21.9551Z\",\"2021-11-05T13:35:22.5687Z\",\"2021-11-05T13:35:23.0656Z\",\"2021-11-05T13:35:23.6059Z\",\"2021-11-05T13:35:25.2489Z\",\"2021-11-05T13:35:26.4212Z\",\"2021-11-05T13:35:27.7551Z\",\"2021-11-05T13:35:27.7695Z\",\"2021-11-05T13:35:27.799Z\",\"2021-11-05T13:35:27.8051Z\",\"2021-11-05T13:35:27.8171Z\",\"2021-11-05T13:35:28.687Z\",\"2021-11-05T13:35:28.8303Z\",\"2021-11-05T13:35:29.0161Z\",\"2021-11-05T13:35:29.3526Z\",\"2021-11-05T13:35:29.88Z\",\"2021-11-05T13:35:32.1483Z\",\"2021-11-05T13:35:33.5026Z\",\"2021-11-05T13:35:34.0096Z\",\"2021-11-05T13:35:34.5895Z\",\"2021-11-05T13:35:34.8749Z\",\"2021-11-05T13:35:36.035Z\",\"2021-11-05T13:35:36.1252Z\",\"2021-11-05T13:35:36.3647Z\",\"2021-11-05T13:35:36.4301Z\",\"2021-11-05T13:35:36.4689Z\",\"2021-11-05T13:35:37.0914Z\",\"2021-11-05T13:35:37.7735Z\",\"2021-11-05T13:35:37.8631Z\",\"2021-11-05T13:35:37.8785Z\",\"2021-11-05T13:35:37.9359Z\",\"2021-11-05T13:35:38.2339Z\",\"2021-11-05T13:35:38.2411Z\",\"2021-11-05T13:35:38.2773Z\",\"2021-11-05T13:35:39.2108Z\",\"2021-11-05T13:35:40.3427Z\",\"2021-11-05T13:35:40.3556Z\",\"2021-11-05T13:35:40.6109Z\",\"2021-11-05T13:35:42.1373Z\",\"2021-11-05T13:35:43.3723Z\",\"2021-11-05T13:35:43.3803Z\",\"2021-11-05T13:35:43.5534Z\",\"2021-11-05T13:35:43.5638Z\",\"2021-11-05T13:35:46.4121Z\",\"2021-11-05T13:35:46.7279Z\",\"2021-11-05T13:35:46.7981Z\",\"2021-11-05T13:35:46.8038Z\",\"2021-11-05T13:35:46.81Z\",\"2021-11-05T13:35:46.8328Z\",\"2021-11-05T13:35:47.1531Z\",\"2021-11-05T13:35:47.3411Z\",\"2021-11-05T13:35:47.5433Z\",\"2021-11-05T13:35:47.7936Z\",\"2021-11-05T13:35:47.8001Z\",\"2021-11-05T13:35:47.8542Z\",\"2021-11-05T13:35:48.4547Z\",\"2021-11-05T13:35:48.9769Z\",\"2021-11-05T13:35:48.9824Z\",\"2021-11-05T13:35:48.9968Z\",\"2021-11-05T13:35:49.1964Z\",\"2021-11-05T13:35:49.3308Z\",\"2021-11-05T13:35:49.3379Z\",\"2021-11-05T13:35:49.3497Z\",\"2021-11-05T13:35:49.3619Z\",\"2021-11-05T13:35:50.6287Z\",\"2021-11-05T13:35:51.3205Z\",\"2021-11-05T13:35:53.9007Z\",\"2021-11-05T13:35:54.0653Z\",\"2021-11-05T13:35:54.2881Z\",\"2021-11-05T13:35:54.5912Z\",\"2021-11-05T13:35:55.0385Z\",\"2021-11-05T13:35:55.1476Z\",\"2021-11-05T13:35:55.1556Z\",\"2021-11-05T13:35:55.8377Z\",\"2021-11-05T13:35:55.9798Z\",\"2021-11-05T13:35:56.1669Z\",\"2021-11-05T13:35:56.2089Z\",\"2021-11-05T13:35:56.251Z\",\"2021-11-05T13:35:57.1566Z\",\"2021-11-05T13:35:57.2766Z\",\"2021-11-05T13:35:58.5147Z\",\"2021-11-05T13:35:58.5199Z\",\"2021-11-05T13:35:58.8997Z\",\"2021-11-05T13:35:58.9051Z\",\"2021-11-05T13:35:59.3223Z\",\"2021-11-05T13:36:00.0176Z\",\"2021-11-05T13:36:00.7085Z\",\"2021-11-05T13:36:00.7554Z\",\"2021-11-05T13:36:00.9677Z\",\"2021-11-05T13:36:01.0964Z\",\"2021-11-05T13:36:01.5753Z\",\"2021-11-05T13:36:02.4498Z\",\"2021-11-05T13:36:03.2926Z\",\"2021-11-05T13:36:03.6587Z\",\"2021-11-05T13:36:04.5297Z\",\"2021-11-05T13:36:04.8932Z\",\"2021-11-05T13:36:04.904Z\",\"2021-11-05T13:36:04.9336Z\",\"2021-11-05T13:36:05.3057Z\",\"2021-11-05T13:36:05.9348Z\",\"2021-11-05T13:36:05.9421Z\",\"2021-11-05T13:36:05.979Z\",\"2021-11-05T13:36:05.9909Z\",\"2021-11-05T13:36:06.0337Z\",\"2021-11-05T13:36:06.1939Z\",\"2021-11-05T13:36:07.6048Z\",\"2021-11-05T13:36:08.7324Z\",\"2021-11-05T13:36:10.607Z\",\"2021-11-05T13:36:11.0203Z\",\"2021-11-05T13:36:11.1155Z\",\"2021-11-05T13:36:11.1207Z\",\"2021-11-05T13:36:11.1598Z\",\"2021-11-05T13:36:11.2601Z\",\"2021-11-05T13:36:11.4958Z\",\"2021-11-05T13:36:11.6083Z\",\"2021-11-05T13:36:11.6182Z\",\"2021-11-05T13:36:11.637Z\",\"2021-11-05T13:36:12.6107Z\",\"2021-11-05T13:36:12.7061Z\",\"2021-11-05T13:36:12.7211Z\",\"2021-11-05T13:36:13.1228Z\",\"2021-11-05T13:36:13.1349Z\",\"2021-11-05T13:36:13.2654Z\",\"2021-11-05T13:36:13.6122Z\",\"2021-11-05T13:36:13.9745Z\",\"2021-11-05T13:36:14.3373Z\",\"2021-11-05T13:36:14.7581Z\",\"2021-11-05T13:36:14.8603Z\",\"2021-11-05T13:36:14.9251Z\",\"2021-11-05T13:36:14.9859Z\",\"2021-11-05T13:36:15.1347Z\",\"2021-11-05T13:36:15.3216Z\",\"2021-11-05T13:36:15.6799Z\",\"2021-11-05T13:36:15.6857Z\",\"2021-11-05T13:36:15.8636Z\",\"2021-11-05T13:36:15.9163Z\",\"2021-11-05T13:36:15.9221Z\",\"2021-11-05T13:36:15.9277Z\",\"2021-11-05T13:36:15.9917Z\",\"2021-11-05T13:36:16.7457Z\",\"2021-11-05T13:36:16.8643Z\",\"2021-11-05T13:36:17.5296Z\",\"2021-11-05T13:36:17.944Z\",\"2021-11-05T13:36:19.0866Z\",\"2021-11-05T13:36:19.851Z\",\"2021-11-05T13:36:19.8586Z\",\"2021-11-05T13:36:20.4794Z\",\"2021-11-05T13:36:20.7343Z\",\"2021-11-05T13:36:20.7403Z\",\"2021-11-05T13:36:20.7702Z\",\"2021-11-05T13:36:21.1359Z\",\"2021-11-05T13:36:21.1688Z\",\"2021-11-05T13:36:21.9413Z\",\"2021-11-05T13:36:22.2107Z\",\"2021-11-05T13:36:22.218Z\",\"2021-11-05T13:36:22.5904Z\",\"2021-11-05T13:36:23.1366Z\",\"2021-11-05T13:36:24.3615Z\",\"2021-11-05T13:36:24.7397Z\",\"2021-11-05T13:36:25.365Z\",\"2021-11-05T13:36:25.9122Z\",\"2021-11-05T13:36:26.0651Z\",\"2021-11-05T13:36:26.3703Z\",\"2021-11-05T13:36:27.2782Z\",\"2021-11-05T13:36:27.3836Z\",\"2021-11-05T13:36:27.737Z\",\"2021-11-05T13:36:28.3839Z\",\"2021-11-05T13:36:28.3898Z\",\"2021-11-05T13:36:29.7381Z\",\"2021-11-05T13:36:30.1296Z\",\"2021-11-05T13:36:32.9481Z\",\"2021-11-05T13:36:33.5248Z\",\"2021-11-05T13:36:33.6501Z\",\"2021-11-05T13:36:33.6949Z\",\"2021-11-05T13:36:33.8206Z\",\"2021-11-05T13:36:34.3535Z\",\"2021-11-05T13:36:34.3699Z\",\"2021-11-05T13:36:34.4631Z\",\"2021-11-05T13:36:34.961Z\",\"2021-11-05T13:36:34.9725Z\",\"2021-11-05T13:36:36.5555Z\",\"2021-11-05T13:36:37.9081Z\",\"2021-11-05T13:36:39.5749Z\",\"2021-11-05T13:36:39.5802Z\",\"2021-11-05T13:36:39.5868Z\",\"2021-11-05T13:36:39.592Z\",\"2021-11-05T13:36:39.5972Z\",\"2021-11-05T13:36:39.7728Z\",\"2021-11-05T13:36:39.9523Z\",\"2021-11-05T13:36:39.9833Z\",\"2021-11-05T13:36:40.4509Z\",\"2021-11-05T13:36:40.9412Z\",\"2021-11-05T13:36:40.9578Z\",\"2021-11-05T13:36:40.9633Z\",\"2021-11-05T13:36:43.1486Z\",\"2021-11-05T13:36:44.0351Z\",\"2021-11-05T13:36:47.1473Z\",\"2021-11-05T13:36:49.2164Z\",\"2021-11-05T13:36:49.8023Z\",\"2021-11-05T13:36:49.9199Z\",\"2021-11-05T13:36:50.1127Z\",\"2021-11-05T13:36:52.2518Z\",\"2021-11-05T13:36:54.0456Z\",\"2021-11-05T13:36:54.6717Z\",\"2021-11-05T13:36:54.6771Z\",\"2021-11-05T13:36:54.7957Z\",\"2021-11-05T13:36:54.8028Z\",\"2021-11-05T13:36:56.2276Z\",\"2021-11-05T13:36:56.2415Z\",\"2021-11-05T13:36:56.869Z\",\"2021-11-05T13:36:56.8746Z\",\"2021-11-05T13:36:56.951Z\",\"2021-11-05T13:36:57.1147Z\",\"2021-11-05T13:36:57.1222Z\",\"2021-11-05T13:36:57.2798Z\",\"2021-11-05T13:36:58.4013Z\",\"2021-11-05T13:36:59.6856Z\",\"2021-11-05T13:36:59.6908Z\",\"2021-11-05T13:37:00.6859Z\",\"2021-11-05T13:37:01.3473Z\",\"2021-11-05T13:37:01.5889Z\",\"2021-11-05T13:37:03.4621Z\",\"2021-11-05T13:37:03.4676Z\",\"2021-11-05T13:37:03.4732Z\",\"2021-11-05T13:37:03.479Z\",\"2021-11-05T13:37:03.4855Z\",\"2021-11-05T13:37:03.8494Z\",\"2021-11-05T13:37:04.1676Z\",\"2021-11-05T13:37:04.4627Z\",\"2021-11-05T13:37:07.1642Z\",\"2021-11-05T13:37:07.2638Z\",\"2021-11-05T13:37:08.5101Z\",\"2021-11-05T13:37:08.5157Z\",\"2021-11-05T13:37:09.9046Z\",\"2021-11-05T13:37:13.1657Z\",\"2021-11-05T13:37:13.1717Z\",\"2021-11-05T13:37:13.4065Z\",\"2021-11-05T13:37:13.9369Z\",\"2021-11-05T13:37:15.1385Z\",\"2021-11-05T13:37:15.1444Z\",\"2021-11-05T13:37:16.5325Z\",\"2021-11-05T13:37:17.8114Z\",\"2021-11-05T13:37:17.8176Z\",\"2021-11-05T13:37:19.6446Z\",\"2021-11-05T13:37:19.6628Z\",\"2021-11-05T13:37:22.5671Z\",\"2021-11-05T13:37:22.8926Z\",\"2021-11-05T13:37:23.4249Z\",\"2021-11-05T13:37:24.5063Z\",\"2021-11-05T13:37:25.1184Z\",\"2021-11-05T13:37:25.3601Z\",\"2021-11-05T13:37:28.382Z\",\"2021-11-05T13:37:29.4311Z\",\"2021-11-05T13:37:30.5317Z\",\"2021-11-05T13:37:30.5948Z\",\"2021-11-05T13:37:32.0553Z\",\"2021-11-05T13:37:32.4924Z\",\"2021-11-05T13:37:34.1265Z\",\"2021-11-05T13:37:34.1329Z\",\"2021-11-05T13:37:34.5604Z\",\"2021-11-05T13:37:35.2Z\",\"2021-11-05T13:37:35.8828Z\",\"2021-11-05T13:37:37.272Z\",\"2021-11-05T13:37:41.5286Z\",\"2021-11-05T13:37:42.0764Z\",\"2021-11-05T13:37:43.1556Z\",\"2021-11-05T13:37:44.2436Z\",\"2021-11-05T13:37:44.45Z\",\"2021-11-05T13:37:45.8294Z\",\"2021-11-05T13:37:49.1263Z\",\"2021-11-05T13:37:49.4711Z\",\"2021-11-05T13:37:50.4035Z\",\"2021-11-05T13:37:51.3843Z\",\"2021-11-05T13:37:54.1471Z\",\"2021-11-05T13:37:58.4396Z\",\"2021-11-05T13:37:58.5531Z\",\"2021-11-05T13:37:58.5584Z\",\"2021-11-05T13:37:59.9707Z\",\"2021-11-05T13:38:00.4948Z\",\"2021-11-05T13:38:02.0387Z\",\"2021-11-05T13:38:03.6794Z\",\"2021-11-05T13:38:03.7558Z\",\"2021-11-05T13:38:03.7623Z\",\"2021-11-05T13:38:03.7679Z\",\"2021-11-05T13:38:03.9083Z\",\"2021-11-05T13:38:04.2254Z\",\"2021-11-05T13:38:05.2394Z\",\"2021-11-05T13:38:05.2461Z\",\"2021-11-05T13:38:05.3719Z\",\"2021-11-05T13:38:06.1129Z\",\"2021-11-05T13:38:06.1729Z\",\"2021-11-05T13:38:06.6675Z\",\"2021-11-05T13:38:07.4556Z\",\"2021-11-05T13:38:07.6502Z\",\"2021-11-05T13:38:09.4469Z\",\"2021-11-05T13:38:09.9784Z\",\"2021-11-05T13:38:10.0174Z\",\"2021-11-05T13:38:10.5031Z\",\"2021-11-05T13:38:12.0177Z\",\"2021-11-05T13:38:12.2474Z\",\"2021-11-05T13:38:13.6333Z\",\"2021-11-05T13:38:13.6551Z\",\"2021-11-05T13:38:14.3501Z\",\"2021-11-05T13:38:16.9912Z\",\"2021-11-05T13:38:18.2106Z\",\"2021-11-05T13:38:18.7486Z\",\"2021-11-05T13:38:18.7553Z\",\"2021-11-05T13:38:18.7703Z\",\"2021-11-05T13:38:18.8244Z\",\"2021-11-05T13:38:18.9169Z\",\"2021-11-05T13:38:21.358Z\",\"2021-11-05T13:38:21.929Z\",\"2021-11-05T13:38:21.9351Z\",\"2021-11-05T13:38:22.0564Z\",\"2021-11-05T13:38:22.0634Z\",\"2021-11-05T13:38:22.2429Z\",\"2021-11-05T13:38:22.7613Z\",\"2021-11-05T13:38:22.7727Z\",\"2021-11-05T13:38:23.4703Z\",\"2021-11-05T13:38:24.5081Z\",\"2021-11-05T13:38:25.7319Z\",\"2021-11-05T13:38:25.9509Z\",\"2021-11-05T13:38:26.9648Z\",\"2021-11-05T13:38:27.7555Z\",\"2021-11-05T13:38:29.2405Z\",\"2021-11-05T13:38:29.9035Z\",\"2021-11-05T13:38:30.5382Z\",\"2021-11-05T13:38:31.6893Z\",\"2021-11-05T13:38:32.5051Z\",\"2021-11-05T13:38:33.859Z\",\"2021-11-05T13:38:34.2578Z\",\"2021-11-05T13:38:35.2525Z\",\"2021-11-05T13:38:37.0221Z\",\"2021-11-05T13:38:37.0276Z\",\"2021-11-05T13:38:37.6839Z\",\"2021-11-05T13:38:37.8753Z\",\"2021-11-05T13:38:38.1812Z\",\"2021-11-05T13:38:39.4899Z\",\"2021-11-05T13:38:39.4966Z\",\"2021-11-05T13:38:40.2586Z\",\"2021-11-05T13:38:41.3897Z\",\"2021-11-05T13:38:42.6974Z\",\"2021-11-05T13:38:43.386Z\",\"2021-11-05T13:38:43.4964Z\",\"2021-11-05T13:38:46.8998Z\",\"2021-11-05T13:38:46.9941Z\",\"2021-11-05T13:38:48.5801Z\",\"2021-11-05T13:38:48.5854Z\",\"2021-11-05T13:38:51.9514Z\",\"2021-11-05T13:38:51.9581Z\",\"2021-11-05T13:38:53.2143Z\",\"2021-11-05T13:38:53.2602Z\",\"2021-11-05T13:38:54.0207Z\",\"2021-11-05T13:38:55.1383Z\",\"2021-11-05T13:38:55.5679Z\",\"2021-11-05T13:38:55.5842Z\",\"2021-11-05T13:38:55.7414Z\",\"2021-11-05T13:38:57.2121Z\",\"2021-11-05T13:38:57.2178Z\",\"2021-11-05T13:38:57.4771Z\",\"2021-11-05T13:38:57.6703Z\",\"2021-11-05T13:38:57.7593Z\",\"2021-11-05T13:38:57.8659Z\",\"2021-11-05T13:38:57.9907Z\",\"2021-11-05T13:38:58.1912Z\",\"2021-11-05T13:38:59.0798Z\",\"2021-11-05T13:38:59.1264Z\",\"2021-11-05T13:38:59.4441Z\",\"2021-11-05T13:38:59.9807Z\",\"2021-11-05T13:39:00.4584Z\",\"2021-11-05T13:39:01.0024Z\",\"2021-11-05T13:39:01.1948Z\",\"2021-11-05T13:39:01.5069Z\",\"2021-11-05T13:39:02.8945Z\",\"2021-11-05T13:39:03.566Z\",\"2021-11-05T13:39:03.8984Z\",\"2021-11-05T13:39:04.5736Z\",\"2021-11-05T13:39:05.3137Z\",\"2021-11-05T13:39:05.5879Z\",\"2021-11-05T13:39:06.5384Z\",\"2021-11-05T13:39:06.642Z\",\"2021-11-05T13:39:07.3837Z\",\"2021-11-05T13:39:07.3891Z\",\"2021-11-05T13:39:07.6422Z\",\"2021-11-05T13:39:08.6483Z\",\"2021-11-05T13:39:09.7233Z\",\"2021-11-05T13:39:10.0199Z\",\"2021-11-05T13:39:11.2298Z\",\"2021-11-05T13:39:11.2624Z\",\"2021-11-05T13:39:11.5843Z\",\"2021-11-05T13:39:11.5901Z\",\"2021-11-05T13:39:14.2582Z\",\"2021-11-05T13:39:15.1488Z\",\"2021-11-05T13:39:15.7581Z\",\"2021-11-05T13:39:16.1018Z\",\"2021-11-05T13:39:16.9924Z\",\"2021-11-05T13:39:17.1805Z\",\"2021-11-05T13:39:18.087Z\",\"2021-11-05T13:39:19.0313Z\",\"2021-11-05T13:39:19.0366Z\",\"2021-11-05T13:39:19.0421Z\",\"2021-11-05T13:39:19.1043Z\",\"2021-11-05T13:39:19.1925Z\",\"2021-11-05T13:39:19.2604Z\",\"2021-11-05T13:39:20.0475Z\",\"2021-11-05T13:39:20.0529Z\",\"2021-11-05T13:39:20.0833Z\",\"2021-11-05T13:39:20.0907Z\",\"2021-11-05T13:39:20.9324Z\",\"2021-11-05T13:39:21.0025Z\",\"2021-11-05T13:39:23.2489Z\",\"2021-11-05T13:39:23.2541Z\",\"2021-11-05T13:39:23.2603Z\",\"2021-11-05T13:39:24.55Z\",\"2021-11-05T13:39:25.6649Z\",\"2021-11-05T13:39:26.1553Z\",\"2021-11-05T13:39:26.2742Z\",\"2021-11-05T13:39:26.4801Z\",\"2021-11-05T13:39:27.6973Z\",\"2021-11-05T13:39:29.0381Z\",\"2021-11-05T13:39:29.1113Z\",\"2021-11-05T13:39:31.2053Z\",\"2021-11-05T13:39:32.8382Z\",\"2021-11-05T13:39:34.099Z\",\"2021-11-05T13:39:35.3216Z\",\"2021-11-05T13:39:37.7929Z\",\"2021-11-05T13:39:38.7642Z\",\"2021-11-05T13:39:38.77Z\",\"2021-11-05T13:39:39.4715Z\",\"2021-11-05T13:39:39.6614Z\",\"2021-11-05T13:39:41.9735Z\",\"2021-11-05T13:39:42.968Z\",\"2021-11-05T13:39:43.1067Z\",\"2021-11-05T13:39:43.138Z\",\"2021-11-05T13:39:43.6424Z\",\"2021-11-05T13:39:43.8345Z\",\"2021-11-05T13:39:44.4658Z\",\"2021-11-05T13:39:44.7703Z\",\"2021-11-05T13:39:45.5782Z\",\"2021-11-05T13:39:46.5211Z\",\"2021-11-05T13:39:47.2504Z\",\"2021-11-05T13:39:48.6493Z\",\"2021-11-05T13:39:49.6484Z\",\"2021-11-05T13:39:50.9853Z\",\"2021-11-05T13:39:50.993Z\",\"2021-11-05T13:39:52.145Z\",\"2021-11-05T13:39:54.8218Z\",\"2021-11-05T13:39:54.833Z\",\"2021-11-05T13:39:56.6566Z\",\"2021-11-05T13:39:56.9151Z\",\"2021-11-05T13:39:58.3817Z\",\"2021-11-05T13:39:58.4393Z\",\"2021-11-05T13:39:59.1362Z\",\"2021-11-05T13:39:59.4711Z\",\"2021-11-05T13:40:00.0756Z\",\"2021-11-05T13:40:00.1705Z\",\"2021-11-05T13:40:00.176Z\",\"2021-11-05T13:40:00.3217Z\",\"2021-11-05T13:40:00.6825Z\",\"2021-11-05T13:40:00.7278Z\",\"2021-11-05T13:40:01.459Z\",\"2021-11-05T13:40:01.7059Z\",\"2021-11-05T13:40:02.0397Z\",\"2021-11-05T13:40:02.2464Z\",\"2021-11-05T13:40:03.8265Z\",\"2021-11-05T13:40:04.7903Z\",\"2021-11-05T13:40:05.9614Z\",\"2021-11-05T13:40:06.1181Z\",\"2021-11-05T13:40:06.6705Z\",\"2021-11-05T13:40:07.3555Z\",\"2021-11-05T13:40:07.6721Z\",\"2021-11-05T13:40:07.6833Z\",\"2021-11-05T13:40:07.6941Z\",\"2021-11-05T13:40:08.2035Z\",\"2021-11-05T13:40:09.3446Z\",\"2021-11-05T13:40:10.6882Z\",\"2021-11-05T13:40:11.0072Z\",\"2021-11-05T13:40:11.351Z\",\"2021-11-05T13:40:11.445Z\",\"2021-11-05T13:40:11.6537Z\",\"2021-11-05T13:40:13.3981Z\",\"2021-11-05T13:40:14.7158Z\",\"2021-11-05T13:40:14.9536Z\",\"2021-11-05T13:40:15.4216Z\",\"2021-11-05T13:40:16.2751Z\",\"2021-11-05T13:40:18.5747Z\",\"2021-11-05T13:40:18.6094Z\",\"2021-11-05T13:40:21.3707Z\",\"2021-11-05T13:40:21.4231Z\",\"2021-11-05T13:40:23.0958Z\",\"2021-11-05T13:40:24.4223Z\",\"2021-11-05T13:40:26.481Z\",\"2021-11-05T13:40:26.6102Z\",\"2021-11-05T13:40:27.9789Z\",\"2021-11-05T13:40:29.0536Z\",\"2021-11-05T13:40:30.0078Z\",\"2021-11-05T13:40:30.0188Z\",\"2021-11-05T13:40:30.1575Z\",\"2021-11-05T13:40:30.1629Z\",\"2021-11-05T13:40:30.523Z\",\"2021-11-05T13:40:30.7411Z\",\"2021-11-05T13:40:31.8008Z\",\"2021-11-05T13:40:32.0155Z\",\"2021-11-05T13:40:32.0632Z\",\"2021-11-05T13:40:32.4431Z\",\"2021-11-05T13:40:32.4605Z\",\"2021-11-05T13:40:34.0268Z\",\"2021-11-05T13:40:34.2082Z\",\"2021-11-05T13:40:35.0571Z\",\"2021-11-05T13:40:35.1994Z\",\"2021-11-05T13:40:35.3908Z\",\"2021-11-05T13:40:35.6041Z\",\"2021-11-05T13:40:35.8482Z\",\"2021-11-05T13:40:36.0348Z\",\"2021-11-05T13:40:36.4163Z\",\"2021-11-05T13:40:37.1515Z\",\"2021-11-05T13:40:38.0168Z\",\"2021-11-05T13:40:38.4581Z\",\"2021-11-05T13:40:38.4712Z\",\"2021-11-05T13:40:38.624Z\",\"2021-11-05T13:40:39.3864Z\",\"2021-11-05T13:40:39.8123Z\",\"2021-11-05T13:40:40.0066Z\",\"2021-11-05T13:40:40.1349Z\",\"2021-11-05T13:40:40.3515Z\",\"2021-11-05T13:40:40.3571Z\",\"2021-11-05T13:40:40.3789Z\",\"2021-11-05T13:40:41.6601Z\",\"2021-11-05T13:40:41.904Z\",\"2021-11-05T13:40:41.9463Z\",\"2021-11-05T13:40:45.9809Z\",\"2021-11-05T13:40:45.9972Z\",\"2021-11-05T13:40:46.1228Z\",\"2021-11-05T13:40:47.568Z\",\"2021-11-05T13:40:48.0719Z\",\"2021-11-05T13:40:48.1634Z\",\"2021-11-05T13:40:48.8043Z\",\"2021-11-05T13:40:49.147Z\",\"2021-11-05T13:40:49.8784Z\",\"2021-11-05T13:40:50.1573Z\",\"2021-11-05T13:40:50.2447Z\",\"2021-11-05T13:40:53.9107Z\",\"2021-11-05T13:40:54.4358Z\",\"2021-11-05T13:40:54.5094Z\",\"2021-11-05T13:40:54.9269Z\",\"2021-11-05T13:40:55.4686Z\",\"2021-11-05T13:40:56.0725Z\",\"2021-11-05T13:40:56.0788Z\",\"2021-11-05T13:40:56.3382Z\",\"2021-11-05T13:40:56.7109Z\",\"2021-11-05T13:40:56.8544Z\",\"2021-11-05T13:40:56.8889Z\",\"2021-11-05T13:40:56.8942Z\",\"2021-11-05T13:40:57.3932Z\",\"2021-11-05T13:40:59.3485Z\",\"2021-11-05T13:40:59.3554Z\",\"2021-11-05T13:40:59.8477Z\",\"2021-11-05T13:41:00.1984Z\",\"2021-11-05T13:41:00.2963Z\",\"2021-11-05T13:41:00.3255Z\",\"2021-11-05T13:41:00.8649Z\",\"2021-11-05T13:41:00.995Z\",\"2021-11-05T13:41:01.2625Z\",\"2021-11-05T13:41:01.7794Z\",\"2021-11-05T13:41:01.9313Z\",\"2021-11-05T13:41:02.1524Z\",\"2021-11-05T13:41:04.4218Z\",\"2021-11-05T13:41:04.4616Z\",\"2021-11-05T13:41:05.0791Z\",\"2021-11-05T13:41:05.2057Z\",\"2021-11-05T13:41:06.8934Z\",\"2021-11-05T13:41:07.4649Z\",\"2021-11-05T13:41:07.4705Z\",\"2021-11-05T13:41:08.071Z\",\"2021-11-05T13:41:08.813Z\",\"2021-11-05T13:41:09.5265Z\",\"2021-11-05T13:41:09.8021Z\",\"2021-11-05T13:41:10.098Z\",\"2021-11-05T13:41:10.4536Z\",\"2021-11-05T13:41:10.4596Z\",\"2021-11-05T13:41:10.4655Z\",\"2021-11-05T13:41:11.2457Z\",\"2021-11-05T13:41:12.7281Z\",\"2021-11-05T13:41:12.7335Z\",\"2021-11-05T13:41:12.7697Z\",\"2021-11-05T13:41:12.8627Z\",\"2021-11-05T13:41:14.0216Z\",\"2021-11-05T13:41:14.3029Z\",\"2021-11-05T13:41:14.8802Z\",\"2021-11-05T13:41:17.1093Z\",\"2021-11-05T13:41:17.1245Z\",\"2021-11-05T13:41:17.4809Z\",\"2021-11-05T13:41:18.1192Z\",\"2021-11-05T13:41:19.5773Z\",\"2021-11-05T13:41:23.1976Z\",\"2021-11-05T13:41:23.6895Z\",\"2021-11-05T13:41:24.4529Z\",\"2021-11-05T13:41:24.6086Z\",\"2021-11-05T13:41:24.6544Z\",\"2021-11-05T13:41:24.697Z\",\"2021-11-05T13:41:25.4963Z\",\"2021-11-05T13:41:25.8655Z\",\"2021-11-05T13:41:25.9512Z\",\"2021-11-05T13:41:26.3937Z\",\"2021-11-05T13:41:27.8009Z\",\"2021-11-05T13:41:27.9103Z\",\"2021-11-05T13:41:28.414Z\",\"2021-11-05T13:41:28.8977Z\",\"2021-11-05T13:41:28.9644Z\",\"2021-11-05T13:41:29.0306Z\",\"2021-11-05T13:41:29.0883Z\",\"2021-11-05T13:41:29.6258Z\",\"2021-11-05T13:41:29.9815Z\",\"2021-11-05T13:41:30.1058Z\",\"2021-11-05T13:41:31.6103Z\",\"2021-11-05T13:41:31.616Z\",\"2021-11-05T13:41:31.6214Z\",\"2021-11-05T13:41:31.7343Z\",\"2021-11-05T13:41:33.4462Z\",\"2021-11-05T13:41:34.2644Z\",\"2021-11-05T13:41:34.3492Z\",\"2021-11-05T13:41:36.6611Z\",\"2021-11-05T13:41:37.1906Z\",\"2021-11-05T13:41:37.2581Z\",\"2021-11-05T13:41:38.1485Z\",\"2021-11-05T13:41:38.1655Z\",\"2021-11-05T13:41:38.7476Z\",\"2021-11-05T13:41:39.1081Z\",\"2021-11-05T13:41:40.1439Z\",\"2021-11-05T13:41:40.422Z\",\"2021-11-05T13:41:40.5838Z\",\"2021-11-05T13:41:41.4885Z\",\"2021-11-05T13:41:41.5962Z\",\"2021-11-05T13:41:41.6031Z\",\"2021-11-05T13:41:42.2143Z\",\"2021-11-05T13:41:43.2203Z\",\"2021-11-05T13:41:43.5427Z\",\"2021-11-05T13:41:45.0143Z\",\"2021-11-05T13:41:46.5848Z\",\"2021-11-05T13:41:46.8493Z\",\"2021-11-05T13:41:47.4624Z\",\"2021-11-05T13:41:48.1721Z\",\"2021-11-05T13:41:48.7998Z\",\"2021-11-05T13:41:49.4667Z\",\"2021-11-05T13:41:49.6794Z\",\"2021-11-05T13:41:50.5469Z\",\"2021-11-05T13:41:50.6697Z\",\"2021-11-05T13:41:50.8463Z\",\"2021-11-05T13:41:50.884Z\",\"2021-11-05T13:41:51.111Z\",\"2021-11-05T13:41:51.871Z\",\"2021-11-05T13:41:52.3472Z\",\"2021-11-05T13:41:53.1305Z\",\"2021-11-05T13:41:53.1528Z\",\"2021-11-05T13:41:53.3908Z\",\"2021-11-05T13:41:55.2232Z\",\"2021-11-05T13:41:55.2552Z\",\"2021-11-05T13:41:55.9726Z\",\"2021-11-05T13:41:56.1955Z\",\"2021-11-05T13:41:56.9843Z\",\"2021-11-05T13:41:57.3034Z\",\"2021-11-05T13:41:58.661Z\",\"2021-11-05T13:41:58.8271Z\",\"2021-11-05T13:41:59.3874Z\",\"2021-11-05T13:41:59.4172Z\",\"2021-11-05T13:41:59.4284Z\",\"2021-11-05T13:41:59.7038Z\",\"2021-11-05T13:42:00.7681Z\",\"2021-11-05T13:42:01.5588Z\"],\"y\":[151.42,151.42,151.45,151.49,151.47,151.52,151.54,151.55,151.57,151.53,151.5,151.49,151.48,151.47,151.52,151.52,151.52,151.53,151.57,151.58,151.6,151.67,151.65,151.66,151.66,151.67,151.64,151.69,151.68,151.65,151.64,151.66,151.68,151.66,151.57,151.58,151.53,151.52,151.5,151.48,151.52,151.55,151.51,151.68,151.75,151.86,151.86,151.82,151.83,151.83,151.87,151.83,151.81,151.9,151.9,151.85,151.855,151.82,151.86,151.82,151.9,151.95,151.88,151.89,151.85,151.91,151.93,151.96,151.9,151.95,151.95,151.9,151.91,151.96,151.95,151.97,151.89,151.86,151.88,151.88,151.86,151.85,151.85,151.84,151.83,151.86,151.82,151.82,151.82,151.85,151.86,151.87,151.86,151.88,151.88,151.89,151.9,151.91,151.9,151.86,151.88,151.88,151.86,151.86,151.88,151.86,151.87,151.88,151.88,151.87,151.86,151.84,151.85,151.85,151.84,151.84,151.82,151.84,151.83,151.85,151.85,151.83,151.82,151.86,151.84,151.84,151.84,151.8,151.83,151.83,151.84,151.86,151.86,151.87,151.85,151.85,151.86,151.86,151.86,151.81,151.77,151.75,151.81,151.79,151.8,151.79,151.78,151.73,151.79,151.75,151.75,151.74,151.78,151.77,151.81,151.82,151.88,151.86,151.85,151.81,151.79,151.8,151.85,151.88,151.89,151.88,151.89,151.91,151.92,151.91,151.89,151.92,151.92,151.93,151.92,151.93,151.93,151.92,151.94,151.96,151.96,151.93,151.93,151.97,151.93,151.97,151.96,151.94,151.93,151.91,151.91,151.91,151.89,151.87,151.83,151.83,151.81,151.81,151.78,151.71,151.75,151.82,151.79,151.77,151.77,151.75,151.75,151.8,151.86,151.83,151.83,151.82,151.8,151.84,151.82,151.81,151.77,151.74,151.74,151.745,151.7,151.7,151.7,151.71,151.71,151.7,151.72,151.73,151.72,151.71,151.71,151.7,151.7,151.7,151.69,151.68,151.7,151.65,151.63,151.62,151.66,151.68,151.69,151.66,151.69,151.71,151.72,151.73,151.71,151.7,151.73,151.72,151.73,151.74,151.74,151.76,151.75,151.76,151.76,151.74,151.74,151.74,151.72,151.71,151.71,151.68,151.67,151.71,151.72,151.7,151.69,151.68,151.67,151.67,151.67,151.68,151.68,151.67,151.67,151.69,151.66,151.65,151.62,151.64,151.64,151.61,151.62,151.61,151.63,151.61,151.63,151.65,151.65,151.65,151.63,151.66,151.64,151.64,151.65,151.67,151.67,151.69,151.66,151.7,151.72,151.69,151.69,151.68,151.71,151.69,151.68,151.69,151.67,151.71,151.74,151.74,151.72,151.69,151.67,151.68,151.66,151.61,151.63,151.61,151.64,151.61,151.58,151.58,151.55,151.55,151.53,151.55,151.54,151.59,151.61,151.58,151.62,151.63,151.63,151.62,151.62,151.62,151.63,151.63,151.62,151.62,151.62,151.61,151.62,151.57,151.59,151.61,151.57,151.56,151.6,151.6,151.59,151.58,151.54,151.55,151.57,151.56,151.58,151.58,151.58,151.59,151.57,151.58,151.59,151.58,151.59,151.6,151.61,151.59,151.61,151.61,151.62,151.61,151.63,151.59,151.6,151.59,151.56,151.58,151.58,151.6,151.53,151.56,151.54,151.56,151.55,151.55,151.55,151.55,151.56,151.57,151.56,151.56,151.58,151.58,151.61,151.6,151.58,151.6,151.58,151.57,151.57,151.56,151.59,151.57,151.59,151.59,151.58,151.59,151.57,151.56,151.55,151.56,151.59,151.59,151.59,151.61,151.61,151.61,151.59,151.6,151.6,151.58,151.58,151.57,151.54,151.54,151.55,151.58,151.6,151.62,151.63,151.65,151.66,151.65,151.66,151.68,151.65,151.65,151.64,151.68,151.66,151.68,151.69,151.7,151.71,151.72,151.73,151.71,151.7,151.72,151.72,151.73,151.71,151.72,151.71,151.71,151.72,151.72,151.72,151.71,151.74,151.75,151.76,151.75,151.76,151.76,151.78,151.75,151.75,151.75,151.77,151.79,151.8,151.77,151.77,151.76,151.79,151.78,151.77,151.76,151.75,151.76,151.76,151.78,151.76,151.74,151.72,151.72,151.71,151.71,151.71,151.71,151.71,151.74,151.75,151.71,151.72,151.7,151.76,151.79,151.82,151.85,151.87,151.87,151.85,151.86,151.86,151.83,151.82,151.84,151.84,151.84,151.84,151.86,151.89,151.9,151.91,151.93,151.92,151.93,151.95,151.93,151.92,151.92,151.94,151.94,151.94,151.95,151.94,151.92,151.92,151.9,151.91,151.91,151.9,151.9,151.9,151.89,151.87,151.86,151.87,151.87,151.91,151.91,151.9,151.89,151.89,151.87,151.88,151.88,151.9,151.88,151.87,151.9,151.9,151.9,151.91,151.92,151.92,151.86,151.87,151.95,151.95,151.97,151.98,151.97,151.95,151.97,151.99,151.96,151.98,151.99,151.99,152.0,152.04,152.04,152.05,152.04,152.06,152.06,152.08,152.08,152.08,152.09,152.1,152.07,152.09,152.09,152.08,152.1,152.13,152.13,152.11,152.11,152.09,152.11,152.11,152.13,152.15,152.16,152.14,152.13,152.14,152.14,152.13,152.14,152.17,152.18,152.19,152.18,152.17,152.15,152.14,152.14,152.14,152.15,152.17,152.17,152.17,152.16,152.15,152.12,152.1,152.12,152.13,152.11,152.07,152.06,152.06,152.05,152.04,152.04,152.05,152.05,152.04,152.03,152.07,152.06,152.07,152.06,152.05,152.05,152.02,152.01,152.0,152.0,151.99,151.98,151.97,151.99,151.97,151.96,151.96,151.96,151.95,151.94,151.91,151.89,151.89,151.97,151.96,151.97,151.97,151.96,151.98,152.0,152.0,151.94,151.88,151.88,151.9,151.88,151.88,151.9,151.89,151.87,151.87,151.88,151.87,151.86,151.83,151.78,151.77,151.76,151.73,151.72,151.72,151.71,151.71,151.73,151.71,151.71,151.7,151.7,151.7,151.71,151.71,151.7,151.73,151.74,151.75,151.79,151.79,151.78,151.78,151.79,151.79,151.78,151.79,151.74,151.74,151.73,151.69,151.7,151.68,151.66,151.65,151.67,151.67,151.67,151.66,151.67,151.66,151.71,151.71,151.71,151.7,151.69,151.69,151.69,151.67,151.64,151.65,151.66,151.67,151.65,151.67,151.68,151.71,151.71,151.71,151.69,151.68,151.67,151.67,151.66,151.66,151.68,151.68,151.68,151.68,151.68,151.68,151.69,151.69,151.71,151.73,151.75,151.75,151.77,151.8,151.77,151.78,151.78,151.79,151.81,151.82,151.81,151.81,151.82,151.78,151.82,151.84,151.83,151.84,151.84,151.84,151.85,151.85,151.85,151.86,151.83,151.82,151.83,151.84,151.83,151.82,151.8,151.79,151.78,151.77,151.76,151.78,151.82,151.87,151.88,151.89,151.89,151.91,151.91,151.87,151.85,151.86,151.88,151.89,151.86,151.85,151.86,151.87,151.86,151.87,151.86,151.88,151.88,151.89,151.89,151.89,151.87,151.84,151.81,151.81,151.83,151.85,151.81,151.8,151.83,151.85,151.87,151.85,151.87,151.86,151.87,151.87,151.87,151.86,151.86,151.89,151.9,151.91,151.88,151.89,151.9,151.9,151.89,151.89,151.89,151.88,151.88,151.88,151.88,151.9,151.89,151.89,151.87,151.86,151.83,151.78,151.79,151.8,151.77,151.77,151.79,151.78,151.77,151.77,151.77,151.76,151.75,151.73,151.725,151.72,151.69,151.68,151.68,151.66,151.65,151.65,151.64,151.62,151.61,151.61,151.6,151.6,151.6,151.6,151.62,151.63,151.61,151.59,151.6,151.6,151.62,151.63,151.65,151.61,151.61,151.62,151.61,151.56,151.57,151.59,151.62,151.61,151.63,151.64,151.66,151.67,151.64,151.61,151.63,151.64,151.63,151.64,151.63,151.62,151.64,151.64,151.64,151.65,151.66,151.68,151.67,151.68,151.69,151.69,151.71,151.71,151.68,151.7,151.69,151.69,151.69,151.68,151.69,151.71,151.72,151.75,151.74,151.74,151.74,151.7,151.69,151.7,151.69,151.69,151.67,151.68,151.69,151.69,151.69,151.68,151.66,151.62,151.61,151.61,151.63,151.69,151.69,151.69,151.68,151.67,151.69,151.69,151.69,151.68,151.68,151.67,151.68,151.67,151.68,151.68,151.67,151.66,151.67,151.67,151.67,151.66,151.65,151.66,151.67,151.67,151.67,151.67,151.65,151.65,151.66,151.65,151.65,151.68,151.7,151.71,151.72,151.73,151.75,151.74,151.74,151.75,151.75,151.75,151.74,151.74,151.75,151.76,151.78,151.78,151.79,151.79,151.77,151.79,151.78,151.79,151.79,151.78,151.78,151.79,151.79,151.79,151.8,151.81,151.81,151.83,151.82,151.82,151.81,151.81,151.84,151.83,151.84,151.86,151.85,151.84,151.83,151.82,151.84,151.84,151.84,151.85,151.85,151.87,151.89,151.88,151.88,151.89,151.88,151.88,151.89,151.88,151.88,151.88,151.87,151.88,151.89,151.89,151.89,151.87,151.86,151.89,151.89,151.89,151.89,151.89,151.88,151.88,151.89,151.87,151.86,151.89,151.89,151.89,151.89,151.88,151.89,151.89,151.89,151.89,151.89,151.89,151.89,151.87,151.86,151.87,151.89,151.89,151.87,151.85,151.84,151.85,151.84,151.84,151.85,151.85,151.86,151.86,151.85,151.86,151.86,151.85,151.85,151.84,151.86,151.86,151.86,151.86,151.87,151.88,151.91,151.92,151.91,151.9,151.92,151.92,151.92,151.92,151.92,151.93,151.94,151.88,151.86,151.86,151.85,151.85,151.84,151.84,151.84,151.83,151.83,151.83,151.83,151.82,151.82,151.8,151.81,151.82,151.82,151.78,151.77,151.76,151.77,151.78,151.77,151.77,151.79,151.81,151.8,151.81,151.85,151.86,151.86,151.84,151.87,151.87,151.87,151.88,151.87,151.86,151.87,151.89,151.905,151.93,151.94,151.94,151.94,151.92,151.93,151.91,151.92,151.92,151.91,151.92,151.93,151.94,151.95,151.93,151.93,151.95,151.92,151.94,151.94,151.92,151.94,151.93,151.95,151.96,151.99,151.97,151.95,151.95,151.95,151.96,151.95,151.95,151.95,151.94,151.93,151.96,151.96,151.98,152.0,152.0,151.98,151.99,152.0,152.0,151.98,151.98,152.0,151.99,151.98,151.99,151.99,151.99,152.01,152.0,152.02,152.01,152.02,152.01,152.01,152.01,152.0,152.03,152.03,152.04,152.04,152.03,152.04,152.03,152.04,152.05,152.05,152.03,152.01,151.95,151.93,151.91,151.89,151.9,151.89,151.88,151.89,151.89,151.9,151.91,151.91,151.88,151.89,151.88,151.87,151.85,151.84,151.86,151.85,151.85,151.81,151.8,151.79,151.8,151.75,151.75,151.77,151.76,151.76,151.77,151.77,151.77,151.78,151.79,151.79,151.78,151.79,151.78,151.81,151.8,151.77,151.78,151.78,151.78,151.78,151.78,151.8,151.79,151.78,151.79,151.8,151.8,151.8,151.81,151.82,151.82,151.82,151.81,151.82,151.82,151.8,151.8,151.76,151.76,151.75,151.76,151.75,151.74,151.74,151.75,151.76,151.78,151.81,151.82,151.82,151.83,151.82,151.83,151.83,151.83,151.81,151.8,151.79,151.79,151.79,151.79,151.79,151.81,151.79,151.79,151.8,151.8,151.8,151.8,151.83,151.85,151.84,151.84,151.83,151.83,151.83,151.83,151.83,151.83,151.83,151.84,151.83,151.83,151.85,151.85,151.86,151.87,151.85,151.87,151.88,151.89,151.88,151.87,151.88,151.85,151.83,151.8,151.78,151.78,151.77,151.77,151.78,151.76,151.73,151.73,151.71,151.71,151.73,151.75,151.75,151.75,151.73,151.71,151.72,151.74,151.74,151.73,151.74,151.77,151.77,151.76,151.77,151.78,151.77,151.73,151.73,151.73,151.72,151.73,151.73,151.73,151.72,151.72,151.7,151.7,151.7,151.67,151.67,151.67,151.67,151.68,151.69,151.69,151.7,151.7,151.7,151.7,151.7,151.7,151.69,151.7,151.68,151.67,151.67,151.67,151.67,151.67,151.66,151.66,151.67,151.68,151.69,151.7,151.72,151.73,151.74,151.74,151.74,151.75,151.73,151.69,151.7,151.71,151.7,151.69,151.68,151.67,151.68,151.68,151.66,151.66,151.67,151.69,151.68,151.67,151.68,151.68,151.67,151.67,151.66,151.65,151.64,151.63,151.63,151.62,151.62,151.62,151.62,151.62,151.62,151.61,151.61,151.6,151.6,151.61,151.63,151.68,151.7,151.69,151.69,151.72,151.74,151.74,151.73,151.75,151.73,151.72,151.73,151.73,151.73,151.75,151.76,151.77,151.78,151.78,151.78,151.78,151.78,151.77,151.77,151.76,151.76,151.75,151.76,151.76,151.76,151.76,151.75,151.74,151.73,151.7,151.7,151.73,151.74,151.74,151.73,151.72,151.73,151.74,151.75,151.77,151.76,151.72,151.71,151.71,151.73,151.77,151.78,151.81,151.81,151.81,151.82,151.81,151.8,151.8,151.8,151.78,151.77,151.75,151.75,151.79,151.8,151.79,151.73,151.74,151.74,151.75,151.78,151.78,151.75,151.74,151.73,151.71,151.7,151.71,151.72,151.71,151.69,151.69,151.7,151.7,151.7,151.69,151.69,151.68,151.67,151.66,151.68,151.71,151.69,151.69,151.68,151.68,151.67,151.67,151.66,151.66,151.67,151.66,151.66,151.67,151.67,151.67,151.67,151.67,151.67,151.66,151.65,151.65,151.65,151.67,151.67,151.67,151.68,151.68,151.69,151.71,151.71,151.73,151.73,151.73,151.74,151.73,151.71,151.7,151.7,151.7,151.69,151.68,151.68,151.67,151.68,151.68,151.68,151.68,151.69,151.69,151.69,151.7,151.69,151.69,151.69,151.68,151.68,151.69,151.67,151.67,151.67,151.66,151.67,151.67,151.66,151.66,151.66,151.66,151.66,151.66,151.67,151.67,151.69,151.7,151.69,151.69,151.69,151.67,151.65,151.66,151.68,151.7,151.71,151.72,151.74,151.74,151.75,151.75,151.75,151.77,151.78,151.76,151.76,151.77,151.775,151.79,151.79,151.79,151.79,151.78,151.78,151.77,151.75,151.74,151.72,151.72,151.73,151.74,151.74,151.75,151.75,151.75,151.75,151.74,151.73,151.71,151.72,151.72,151.7,151.71,151.72,151.72,151.72,151.71,151.7,151.7,151.67,151.66,151.66,151.66,151.65,151.65,151.65,151.65,151.65,151.65,151.65,151.65,151.65,151.65,151.67,151.67,151.67,151.68,151.7,151.7,151.68,151.67,151.66,151.68,151.65,151.65,151.66,151.66,151.65,151.66,151.66,151.66,151.65,151.66,151.66,151.66,151.645,151.65],\"name\":\"Market trades\"},{\"type\":\"scattergl\",\"x\":[\"2021-11-05T13:17:07.3378+01:00\",\"2021-11-05T13:22:39.4692+01:00\",\"2021-11-05T13:32:12.6021+01:00\",\"2021-11-05T13:34:09.2252+01:00\",\"2021-11-05T13:37:02.467+01:00\"],\"y\":[151.09,151.05,150.92,151.3,151.41],\"mode\":\"markers\",\"name\":\"Input trades\"}];\n",
       "           var layout = {\"title\":\"Market snapshot and input trades for AAPL\",\"xaxis\":{\"title\":\"Time\",\"_isSubplotObj\":true},\"yaxis\":{\"title\":\"Price\",\"_isSubplotObj\":true}};\n",
       "           Plotly.newPlot('4d1cbff9-d168-4d29-99a9-0579bbfda2b2', data, layout);\n",
       "        \n",
       "});\n",
       "};\n",
       "// ensure `require` is available globally\n",
       "if ((typeof(require) !==  typeof(Function)) || (typeof(require.config) !== typeof(Function))) {\n",
       "    let require_script = document.createElement('script');\n",
       "    require_script.setAttribute('src', 'https://cdnjs.cloudflare.com/ajax/libs/require.js/2.3.6/require.min.js');\n",
       "    require_script.setAttribute('type', 'text/javascript');\n",
       "    \n",
       "    \n",
       "    require_script.onload = function() {\n",
       "        renderPlotly();\n",
       "    };\n",
       "\n",
       "    document.getElementsByTagName('head')[0].appendChild(require_script);\n",
       "}\n",
       "else {\n",
       "    renderPlotly();\n",
       "}\n",
       "\n",
       "</script>\n"
      ]
     },
     "metadata": {},
     "output_type": "display_data"
    }
   ],
   "source": [
    "// Create the graph\n",
    "var bestexPitList = new List<Scattergl>\n",
    "{\n",
    "    new Scattergl\n",
    "    { name = \"Market trades\", x = market.Keys, y = market.Values},\n",
    "    new Scattergl\n",
    "    { name = \"Input trades\", x = input.Keys, y = input.Values, mode=\"markers\"}\n",
    "};\n",
    "var chart = Chart.Plot(bestexPitList);\n",
    "chart.WithTitle($\"Market snapshot and input trades for {ticker}\");\n",
    "chart.WithXTitle($\"Time\");\n",
    "chart.WithYTitle($\"Price\");\n",
    "chart.Width = 1500;\n",
    "chart.Height = 800;\n",
    "display(chart);"
   ]
  },
  {
   "cell_type": "markdown",
   "id": "executed-chair",
   "metadata": {},
   "source": [
    "#### 4.4 Export market snapshot file"
   ]
  },
  {
   "cell_type": "code",
   "execution_count": 16,
   "id": "comfortable-nomination",
   "metadata": {
    "dotnet_interactive": {
     "language": "csharp"
    },
    "execution": {
     "iopub.execute_input": "2022-10-25T16:12:49.502883Z",
     "iopub.status.busy": "2022-10-25T16:12:49.502362Z",
     "iopub.status.idle": "2022-10-25T16:12:49.663089Z",
     "shell.execute_reply": "2022-10-25T16:12:49.662632Z"
    },
    "vscode": {
     "languageId": "dotnet-interactive.csharp"
    }
   },
   "outputs": [],
   "source": [
    "// Export market and input trades to a csv file\n",
    "var d = new DirectoryInfo(\"output\"); if (!d.Exists) { d.Create(); }\n",
    "using (var writer = new StreamWriter($\"output/{ticker}_bestex_pit.csv\"))\n",
    "using (var csv = new CsvWriter(writer, CultureInfo.InvariantCulture))\n",
    "{\n",
    "    // Store the market and input data into the snapshot list\n",
    "    var snapshot = new List<InputTrade>();\n",
    "\n",
    "    // First loop all market trades\n",
    "    foreach (var trade in trades)\n",
    "    {\n",
    "        var flag = string.Empty;\n",
    "        var keep = false;\n",
    "        var time = trade.Item1.ToDateTime();\n",
    "        \n",
    "        // Check if the current market trade belongs to the interval (window)\n",
    "        // Then check if the trade is our input trade\n",
    "        foreach (var inputTrade in inputTrades)\n",
    "        {\n",
    "            var start = inputTrade.Timestamp.Add(-window);\n",
    "            var end = inputTrade.Timestamp.Add(window);\n",
    "            \n",
    "            if (time > start && time < end)\n",
    "            {\n",
    "                keep = true;\n",
    "                \n",
    "                // Check if the trade is our input trade\n",
    "                if((time == inputTrade.Timestamp) && (trade.Item2.Price == inputTrade.Price) && (trade.Item2.Size == inputTrade.Size)) \n",
    "                {\n",
    "                    flag = \"INPUT\";\n",
    "                    goto store; \n",
    "                }  \n",
    "            }   \n",
    "        }\n",
    "        \n",
    "        store:\n",
    "        if(keep)\n",
    "        {\n",
    "            snapshot.Add(new InputTrade(){Timestamp = time,Price = trade.Item2.Price, Size = trade.Item2.Size,Flag = flag });\n",
    "        }\n",
    "    }\n",
    "    \n",
    "    // Save csv file\n",
    "    csv.WriteRecords(snapshot);\n",
    "}"
   ]
  }
 ],
 "metadata": {
  "kernelspec": {
   "display_name": ".NET (C#)",
   "language": "C#",
   "name": ".net-csharp"
  },
  "language_info": {
   "file_extension": ".cs",
   "mimetype": "text/x-csharp",
   "name": "C#",
   "pygments_lexer": "csharp",
   "version": "10.0"
  }
 },
 "nbformat": 4,
 "nbformat_minor": 5
}
