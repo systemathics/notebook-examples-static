{
 "cells": [
  {
   "cell_type": "markdown",
   "id": "pursuant-latvia",
   "metadata": {},
   "source": [
    "# Symbol changes extraction using dedicated service - F#\n",
    "\n",
    "### Overview\n",
    "Name and ticker changes can be seen as a corporate actions event or a static data update. In this sample we are dealing with changes automated updates as a corporate actions event.\n",
    "\n",
    "A name change or a ticker change can be handled as a corporate actions event and occurs in various use-cases such as: \n",
    "* a company decide to change its name and the issued secuities from from an old name to a current name.\n",
    "* in mergers and acquisitions, old names are combined to a new one\n",
    "\n",
    "Symbol change should be spread all along the investment, risk and data management workflow. Here are few examples of immediate consequent symbol updates: \n",
    "* data collection robots\n",
    "* watchlists and analytics dahsboards\n",
    "* strategy building and simulation bots\n",
    "* indices components if the symbol belongs to one or more indices\n",
    "* risk models\n",
    "\n",
    "### Inputs/outputs\n",
    "Changes sample is designed to help you searching and requesting symbol changes for a given instrument.\n",
    "* It takes instrument specification parameter(s) as per input filter and returns *Changes*.\n",
    "\n",
    "### Services used\n",
    "This sample uses *gRPC requests* in order to retrieve the corporate actions changesfrom the hosted service. The queried endpoint in this script are:\n",
    "* *ChangesService*: to directly retrieve changes data objects from the server\n",
    "\n",
    "### Packages required\n",
    "1. Systemathics packages:\n",
    "    * *Systemathics.Apis.Type.Shared.V1*\n",
    "    * *Systemathics.Apis.Services.CorporateActions.V1*\n",
    "2. Open source packages\n",
    "    * *Google.Protobuf.WellKnownTypes*\n",
    "    * *Google.Type*\n",
    "    * *Grpc.Net.Client*\n",
    "    * *Grpc.Core*\n",
    "\n",
    "***"
   ]
  },
  {
   "cell_type": "markdown",
   "id": "clear-cricket",
   "metadata": {},
   "source": [
    "# Run symbol changes sample"
   ]
  },
  {
   "cell_type": "markdown",
   "id": "everyday-smooth",
   "metadata": {},
   "source": [
    "### Step 1: Install packages"
   ]
  },
  {
   "cell_type": "code",
   "execution_count": 1,
   "id": "orange-gather",
   "metadata": {
    "dotnet_interactive": {
     "language": "fsharp"
    },
    "execution": {
     "iopub.execute_input": "2022-10-25T16:25:30.063308Z",
     "iopub.status.busy": "2022-10-25T16:25:30.055334Z",
     "iopub.status.idle": "2022-10-25T16:25:34.790254Z",
     "shell.execute_reply": "2022-10-25T16:25:34.782315Z"
    },
    "vscode": {
     "languageId": "dotnet-interactive.fsharp"
    }
   },
   "outputs": [
    {
     "data": {
      "text/html": [
       "\n",
       "<div>\n",
       "    <div id='dotnet-interactive-this-cell-24241.Microsoft.DotNet.Interactive.Http.HttpPort' style='display: none'>\n",
       "        The below script needs to be able to find the current output cell; this is an easy method to get it.\n",
       "    </div>\n",
       "    <script type='text/javascript'>\n",
       "async function probeAddresses(probingAddresses) {\n",
       "    function timeout(ms, promise) {\n",
       "        return new Promise(function (resolve, reject) {\n",
       "            setTimeout(function () {\n",
       "                reject(new Error('timeout'))\n",
       "            }, ms)\n",
       "            promise.then(resolve, reject)\n",
       "        })\n",
       "    }\n",
       "\n",
       "    if (Array.isArray(probingAddresses)) {\n",
       "        for (let i = 0; i < probingAddresses.length; i++) {\n",
       "\n",
       "            let rootUrl = probingAddresses[i];\n",
       "\n",
       "            if (!rootUrl.endsWith('/')) {\n",
       "                rootUrl = `${rootUrl}/`;\n",
       "            }\n",
       "\n",
       "            try {\n",
       "                let response = await timeout(1000, fetch(`${rootUrl}discovery`, {\n",
       "                    method: 'POST',\n",
       "                    cache: 'no-cache',\n",
       "                    mode: 'cors',\n",
       "                    timeout: 1000,\n",
       "                    headers: {\n",
       "                        'Content-Type': 'text/plain'\n",
       "                    },\n",
       "                    body: probingAddresses[i]\n",
       "                }));\n",
       "\n",
       "                if (response.status == 200) {\n",
       "                    return rootUrl;\n",
       "                }\n",
       "            }\n",
       "            catch (e) { }\n",
       "        }\n",
       "    }\n",
       "}\n",
       "\n",
       "function loadDotnetInteractiveApi() {\n",
       "    probeAddresses([\"http://172.28.169.63:2219/\", \"http://127.0.0.1:2219/\"])\n",
       "        .then((root) => {\n",
       "        // use probing to find host url and api resources\n",
       "        // load interactive helpers and language services\n",
       "        let dotnetInteractiveRequire = require.config({\n",
       "        context: '24241.Microsoft.DotNet.Interactive.Http.HttpPort',\n",
       "                paths:\n",
       "            {\n",
       "                'dotnet-interactive': `${root}resources`\n",
       "                }\n",
       "        }) || require;\n",
       "\n",
       "            window.dotnetInteractiveRequire = dotnetInteractiveRequire;\n",
       "\n",
       "            window.configureRequireFromExtension = function(extensionName, extensionCacheBuster) {\n",
       "                let paths = {};\n",
       "                paths[extensionName] = `${root}extensions/${extensionName}/resources/`;\n",
       "                \n",
       "                let internalRequire = require.config({\n",
       "                    context: extensionCacheBuster,\n",
       "                    paths: paths,\n",
       "                    urlArgs: `cacheBuster=${extensionCacheBuster}`\n",
       "                    }) || require;\n",
       "\n",
       "                return internalRequire\n",
       "            };\n",
       "        \n",
       "            dotnetInteractiveRequire([\n",
       "                    'dotnet-interactive/dotnet-interactive'\n",
       "                ],\n",
       "                function (dotnet) {\n",
       "                    dotnet.init(window);\n",
       "                },\n",
       "                function (error) {\n",
       "                    console.log(error);\n",
       "                }\n",
       "            );\n",
       "        })\n",
       "        .catch(error => {console.log(error);});\n",
       "    }\n",
       "\n",
       "// ensure `require` is available globally\n",
       "if ((typeof(require) !==  typeof(Function)) || (typeof(require.config) !== typeof(Function))) {\n",
       "    let require_script = document.createElement('script');\n",
       "    require_script.setAttribute('src', 'https://cdnjs.cloudflare.com/ajax/libs/require.js/2.3.6/require.min.js');\n",
       "    require_script.setAttribute('type', 'text/javascript');\n",
       "    \n",
       "    \n",
       "    require_script.onload = function() {\n",
       "        loadDotnetInteractiveApi();\n",
       "    };\n",
       "\n",
       "    document.getElementsByTagName('head')[0].appendChild(require_script);\n",
       "}\n",
       "else {\n",
       "    loadDotnetInteractiveApi();\n",
       "}\n",
       "\n",
       "    </script>\n",
       "</div>"
      ]
     },
     "metadata": {},
     "output_type": "display_data"
    },
    {
     "data": {
      "text/html": [
       "<div><div><strong>Restore sources</strong><ul><li><span> file://~/.nuget/packages/</span></li><li><span> https://api.nuget.org/v3/index.json</span></li></ul></div><div></div><div><strong>Installed Packages</strong><ul><li><span>Systemathics.Apis, 0.13.2-pre</span></li></ul></div></div>"
      ]
     },
     "metadata": {},
     "output_type": "display_data"
    }
   ],
   "source": [
    "#i \"nuget: file://~/.nuget/packages/\"\n",
    "#i \"nuget: https://api.nuget.org/v3/index.json\"\n",
    "#r \"nuget: Systemathics.Apis, 0.*-pre*\""
   ]
  },
  {
   "cell_type": "code",
   "execution_count": 2,
   "id": "spectacular-garden",
   "metadata": {
    "dotnet_interactive": {
     "language": "fsharp"
    },
    "execution": {
     "iopub.execute_input": "2022-10-25T16:25:34.792481Z",
     "iopub.status.busy": "2022-10-25T16:25:34.792176Z",
     "iopub.status.idle": "2022-10-25T16:25:34.832121Z",
     "shell.execute_reply": "2022-10-25T16:25:34.831878Z"
    },
    "vscode": {
     "languageId": "dotnet-interactive.fsharp"
    }
   },
   "outputs": [],
   "source": [
    "open Systemathics.Apis.Helpers\n",
    "open Systemathics.Apis.Type.Shared.V1\n",
    "open Systemathics.Apis.Services.CorporateActions.V1\n",
    "open Google.Protobuf.WellKnownTypes\n",
    "open Google.Type\n",
    "open Grpc.Net.Client\n",
    "open Grpc.Core"
   ]
  },
  {
   "cell_type": "markdown",
   "id": "engaging-circuit",
   "metadata": {},
   "source": [
    "### Step 2: Prepare API requests\n",
    "The following code snippets retrieve authentication token and prepare the API request by: opening the *channel* and adding the *token* to the request header:"
   ]
  },
  {
   "cell_type": "code",
   "execution_count": 3,
   "id": "social-wrist",
   "metadata": {
    "dotnet_interactive": {
     "language": "fsharp"
    },
    "execution": {
     "iopub.execute_input": "2022-10-25T16:25:34.834426Z",
     "iopub.status.busy": "2022-10-25T16:25:34.834027Z",
     "iopub.status.idle": "2022-10-25T16:25:35.421634Z",
     "shell.execute_reply": "2022-10-25T16:25:35.421314Z"
    },
    "vscode": {
     "languageId": "dotnet-interactive.fsharp"
    }
   },
   "outputs": [],
   "source": [
    "// Get token as metadata\n",
    "let headers = TokenHelpers.GetTokenAsMetaData();\n",
    "\n",
    "// Create communication channel\n",
    "let channel = ChannelHelpers.GetChannel();"
   ]
  },
  {
   "cell_type": "markdown",
   "id": "informative-microphone",
   "metadata": {},
   "source": [
    "### Step 3: Retrieve changes"
   ]
  },
  {
   "cell_type": "markdown",
   "id": "resistant-blood",
   "metadata": {},
   "source": [
    "#### 3.1 Equity selection"
   ]
  },
  {
   "cell_type": "code",
   "execution_count": 4,
   "id": "tough-making",
   "metadata": {
    "dotnet_interactive": {
     "language": "fsharp"
    },
    "execution": {
     "iopub.execute_input": "2022-10-25T16:25:35.424219Z",
     "iopub.status.busy": "2022-10-25T16:25:35.423913Z",
     "iopub.status.idle": "2022-10-25T16:25:35.446332Z",
     "shell.execute_reply": "2022-10-25T16:25:35.446089Z"
    },
    "vscode": {
     "languageId": "dotnet-interactive.fsharp"
    }
   },
   "outputs": [],
   "source": [
    "// Set the instrument identifier \n",
    "let ticker = \"ISCB\"\n",
    "let exchange = \"XNYS\""
   ]
  },
  {
   "cell_type": "markdown",
   "id": "according-notice",
   "metadata": {},
   "source": [
    "#### 3.2 Create and process request"
   ]
  },
  {
   "cell_type": "code",
   "execution_count": 5,
   "id": "secure-contract",
   "metadata": {
    "dotnet_interactive": {
     "language": "fsharp"
    },
    "execution": {
     "iopub.execute_input": "2022-10-25T16:25:35.448471Z",
     "iopub.status.busy": "2022-10-25T16:25:35.448174Z",
     "iopub.status.idle": "2022-10-25T16:25:36.217204Z",
     "shell.execute_reply": "2022-10-25T16:25:36.216838Z"
    },
    "vscode": {
     "languageId": "dotnet-interactive.fsharp"
    }
   },
   "outputs": [],
   "source": [
    "// instantiate the changes service\n",
    "let service = new ChangesService.ChangesServiceClient(channel)\n",
    "\n",
    "// Generate the changes request\n",
    "let request = \n",
    "    new ChangesRequest(\n",
    "        Identifier = new Identifier(Exchange = exchange, Ticker = ticker)\n",
    "    )\n",
    "\n",
    "// Get the changes reply\n",
    "let reply = service.Changes(request, headers)"
   ]
  },
  {
   "cell_type": "markdown",
   "id": "perceived-apache",
   "metadata": {},
   "source": [
    "#### 3.3 Retrieve changes"
   ]
  },
  {
   "cell_type": "code",
   "execution_count": 6,
   "id": "civilian-charles",
   "metadata": {
    "dotnet_interactive": {
     "language": "html"
    },
    "execution": {
     "iopub.execute_input": "2022-10-25T16:25:36.219506Z",
     "iopub.status.busy": "2022-10-25T16:25:36.219176Z",
     "iopub.status.idle": "2022-10-25T16:25:36.438486Z",
     "shell.execute_reply": "2022-10-25T16:25:36.438154Z"
    },
    "vscode": {
     "languageId": "dotnet-interactive.html"
    }
   },
   "outputs": [
    {
     "data": {
      "text/html": [
       "<table><thead><tr><th><i>index</i></th><th>Date</th><th>NewSymbol</th><th>OldSymbol</th><th>Score</th></tr></thead><tbody><tr><td>0</td><td><table><thead><tr><th>Year</th><th>Month</th><th>Day</th></tr></thead><tbody><tr><td><div class=\"dni-plaintext\">2021</div></td><td><div class=\"dni-plaintext\">3</div></td><td><div class=\"dni-plaintext\">22</div></td></tr></tbody></table></td><td>ISCB</td><td>JKJ</td><td><div class=\"dni-plaintext\">0</div></td></tr></tbody></table>"
      ]
     },
     "metadata": {},
     "output_type": "display_data"
    }
   ],
   "source": [
    "// Visualize changes results\n",
    "reply.Data\n",
    "|> display"
   ]
  }
 ],
 "metadata": {
  "kernelspec": {
   "display_name": ".NET (F#)",
   "language": "F#",
   "name": ".net-fsharp"
  },
  "language_info": {
   "file_extension": ".fs",
   "mimetype": "text/x-fsharp",
   "name": "F#",
   "pygments_lexer": "fsharp",
   "version": "6.0"
  }
 },
 "nbformat": 4,
 "nbformat_minor": 5
}
