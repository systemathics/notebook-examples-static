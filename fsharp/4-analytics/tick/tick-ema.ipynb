{
 "cells": [
  {
   "cell_type": "markdown",
   "id": "intermediate-component",
   "metadata": {},
   "source": [
    "# Generate EMA using dedicated service - F#\n",
    "\n",
    "### Overview\n",
    "Moving averages smooth the price movements by filtering out the \"noise\" caused by short-term price fluctuations.They also form the building blocks for a wide range of technical indicators.\n",
    "\n",
    "Computing moving averages over a defined number of time periods is useful to:\n",
    "* identify the trend direction\n",
    "* determine support and resistance levels\n",
    "\n",
    "This sample demonstrates how to request and plot **on-demand** *exponential moving average - EMA* from a dedicated data service.\n",
    "\n",
    "### Inputs/outputs\n",
    "Exponential moving averages' requests require instrument's identifier, date time intervals and number of points as per inputs.\n",
    "\n",
    "EMA reduces the lag by applying greater weight to recent data points.The weighting applied to the most recent price depends on the number of points in the moving average The smaller the point count is, the more weight is applied to the most recent price.\n",
    "\n",
    "N-points EMA data point is computed using the previous' *EMA* value and the wighting multiplier as follows:\n",
    "\n",
    "$$ EMA = (Price-EMAp)*k+EMAp $$\n",
    "\n",
    "Where:\n",
    "* *Price* is the trade price\n",
    "* *EMAp* is the previous points' *EMA* value, *SMA* is used as the EMAp in the first calculation\n",
    "* *N* is the count of points\n",
    "* *$ k = \\frac{2}{N+1} $* is the *Weighting Multiplier*\n",
    "\n",
    "<div class=\"alert alert-block alert-info\">\n",
    "    <b>Note:</b> <i>EMA</i> adapts quickly to price changes than the <i>SMA</i>, when a price reverses direction, the <i>EMA</i> will reverse direction quicker than the <i>SMA</i> dur to the weighting \n",
    "</div>\n",
    "\n",
    "This sample shows how to plot a simple graph for basis technical analysis using an open source library. \n",
    "\n",
    "### Services used\n",
    "This sample uses *gRPC requests* in order to retrieve EMA indicator from the hosted service. The queried endpoint in this script are:\n",
    "* *TickEmaService*: to directly retrieve EMA data from the server\n",
    "\n",
    "### Packages required\n",
    "1. Systemathics packages:\n",
    "    * *Systemathics.Apis.Type.Shared.V1*\n",
    "    * *Systemathics.Apis.Services.TickAnalytics.V1*\n",
    "2. Open source packages\n",
    "    * *Google.Protobuf.WellKnownTypes*\n",
    "    * *Google.Type*\n",
    "    * *Grpc.Net.Client*\n",
    "    * *Grpc.Core*\n",
    "    * *XPlot.Plotly* as per display package\n",
    "\n",
    "***"
   ]
  },
  {
   "cell_type": "markdown",
   "id": "going-silence",
   "metadata": {},
   "source": [
    "# Run EMA sample"
   ]
  },
  {
   "cell_type": "markdown",
   "id": "rapid-flavor",
   "metadata": {},
   "source": [
    "### Step 1: Install packages"
   ]
  },
  {
   "cell_type": "code",
   "execution_count": 1,
   "id": "attempted-dispatch",
   "metadata": {
    "dotnet_interactive": {
     "language": "fsharp"
    },
    "execution": {
     "iopub.execute_input": "2022-10-25T16:24:10.045351Z",
     "iopub.status.busy": "2022-10-25T16:24:10.038257Z",
     "iopub.status.idle": "2022-10-25T16:24:15.974398Z",
     "shell.execute_reply": "2022-10-25T16:24:15.966496Z"
    }
   },
   "outputs": [
    {
     "data": {
      "text/html": [
       "\n",
       "<div>\n",
       "    <div id='dotnet-interactive-this-cell-23462.Microsoft.DotNet.Interactive.Http.HttpPort' style='display: none'>\n",
       "        The below script needs to be able to find the current output cell; this is an easy method to get it.\n",
       "    </div>\n",
       "    <script type='text/javascript'>\n",
       "async function probeAddresses(probingAddresses) {\n",
       "    function timeout(ms, promise) {\n",
       "        return new Promise(function (resolve, reject) {\n",
       "            setTimeout(function () {\n",
       "                reject(new Error('timeout'))\n",
       "            }, ms)\n",
       "            promise.then(resolve, reject)\n",
       "        })\n",
       "    }\n",
       "\n",
       "    if (Array.isArray(probingAddresses)) {\n",
       "        for (let i = 0; i < probingAddresses.length; i++) {\n",
       "\n",
       "            let rootUrl = probingAddresses[i];\n",
       "\n",
       "            if (!rootUrl.endsWith('/')) {\n",
       "                rootUrl = `${rootUrl}/`;\n",
       "            }\n",
       "\n",
       "            try {\n",
       "                let response = await timeout(1000, fetch(`${rootUrl}discovery`, {\n",
       "                    method: 'POST',\n",
       "                    cache: 'no-cache',\n",
       "                    mode: 'cors',\n",
       "                    timeout: 1000,\n",
       "                    headers: {\n",
       "                        'Content-Type': 'text/plain'\n",
       "                    },\n",
       "                    body: probingAddresses[i]\n",
       "                }));\n",
       "\n",
       "                if (response.status == 200) {\n",
       "                    return rootUrl;\n",
       "                }\n",
       "            }\n",
       "            catch (e) { }\n",
       "        }\n",
       "    }\n",
       "}\n",
       "\n",
       "function loadDotnetInteractiveApi() {\n",
       "    probeAddresses([\"http://172.28.169.63:1824/\", \"http://127.0.0.1:1824/\"])\n",
       "        .then((root) => {\n",
       "        // use probing to find host url and api resources\n",
       "        // load interactive helpers and language services\n",
       "        let dotnetInteractiveRequire = require.config({\n",
       "        context: '23462.Microsoft.DotNet.Interactive.Http.HttpPort',\n",
       "                paths:\n",
       "            {\n",
       "                'dotnet-interactive': `${root}resources`\n",
       "                }\n",
       "        }) || require;\n",
       "\n",
       "            window.dotnetInteractiveRequire = dotnetInteractiveRequire;\n",
       "\n",
       "            window.configureRequireFromExtension = function(extensionName, extensionCacheBuster) {\n",
       "                let paths = {};\n",
       "                paths[extensionName] = `${root}extensions/${extensionName}/resources/`;\n",
       "                \n",
       "                let internalRequire = require.config({\n",
       "                    context: extensionCacheBuster,\n",
       "                    paths: paths,\n",
       "                    urlArgs: `cacheBuster=${extensionCacheBuster}`\n",
       "                    }) || require;\n",
       "\n",
       "                return internalRequire\n",
       "            };\n",
       "        \n",
       "            dotnetInteractiveRequire([\n",
       "                    'dotnet-interactive/dotnet-interactive'\n",
       "                ],\n",
       "                function (dotnet) {\n",
       "                    dotnet.init(window);\n",
       "                },\n",
       "                function (error) {\n",
       "                    console.log(error);\n",
       "                }\n",
       "            );\n",
       "        })\n",
       "        .catch(error => {console.log(error);});\n",
       "    }\n",
       "\n",
       "// ensure `require` is available globally\n",
       "if ((typeof(require) !==  typeof(Function)) || (typeof(require.config) !== typeof(Function))) {\n",
       "    let require_script = document.createElement('script');\n",
       "    require_script.setAttribute('src', 'https://cdnjs.cloudflare.com/ajax/libs/require.js/2.3.6/require.min.js');\n",
       "    require_script.setAttribute('type', 'text/javascript');\n",
       "    \n",
       "    \n",
       "    require_script.onload = function() {\n",
       "        loadDotnetInteractiveApi();\n",
       "    };\n",
       "\n",
       "    document.getElementsByTagName('head')[0].appendChild(require_script);\n",
       "}\n",
       "else {\n",
       "    loadDotnetInteractiveApi();\n",
       "}\n",
       "\n",
       "    </script>\n",
       "</div>"
      ]
     },
     "metadata": {},
     "output_type": "display_data"
    },
    {
     "data": {
      "text/html": [
       "<div><div><strong>Restore sources</strong><ul><li><span> file://~/.nuget/packages/</span></li><li><span> https://api.nuget.org/v3/index.json</span></li></ul></div><div></div><div><strong>Installed Packages</strong><ul><li><span>Systemathics.Apis, 0.13.2-pre</span></li><li><span>TaskBuilder.fs, 2.1.0</span></li><li><span>XPlot.Plotly.Interactive, 4.0.6</span></li></ul></div></div>"
      ]
     },
     "metadata": {},
     "output_type": "display_data"
    },
    {
     "data": {
      "text/markdown": [
       "Loading extensions from `XPlot.Plotly.Interactive.dll`"
      ]
     },
     "metadata": {},
     "output_type": "display_data"
    },
    {
     "data": {
      "text/markdown": [
       "Configuring PowerShell Kernel for XPlot.Plotly integration."
      ]
     },
     "metadata": {},
     "output_type": "display_data"
    },
    {
     "data": {
      "text/markdown": [
       "Installed support for XPlot.Plotly."
      ]
     },
     "metadata": {},
     "output_type": "display_data"
    }
   ],
   "source": [
    "#i \"nuget: file://~/.nuget/packages/\"\n",
    "#i \"nuget: https://api.nuget.org/v3/index.json\"\n",
    "#r \"nuget: Systemathics.Apis, 0.*-pre*\"\n",
    "#r \"nuget: XPlot.Plotly.Interactive\"\n",
    "#r \"nuget: TaskBuilder.fs\""
   ]
  },
  {
   "cell_type": "code",
   "execution_count": 2,
   "id": "directed-software",
   "metadata": {
    "dotnet_interactive": {
     "language": "fsharp"
    },
    "execution": {
     "iopub.execute_input": "2022-10-25T16:24:15.976466Z",
     "iopub.status.busy": "2022-10-25T16:24:15.976169Z",
     "iopub.status.idle": "2022-10-25T16:24:16.409777Z",
     "shell.execute_reply": "2022-10-25T16:24:16.409524Z"
    }
   },
   "outputs": [],
   "source": [
    "open Systemathics.Apis.Helpers\n",
    "open Systemathics.Apis.Type.Shared.V1\n",
    "open Systemathics.Apis.Services.TickAnalytics.V1\n",
    "open Google.Protobuf.WellKnownTypes\n",
    "open Google.Type\n",
    "open Grpc.Core\n",
    "open Grpc.Net.Client\n",
    "open XPlot.Plotly\n",
    "open XPlot.Plotly.Interactive"
   ]
  },
  {
   "cell_type": "markdown",
   "id": "japanese-carbon",
   "metadata": {},
   "source": [
    "### Step 2: Prepare API requests\n",
    "The following code snippets retrieve authentication token and prepare the API request by: opening the *channel* and adding the *token* to the request header:"
   ]
  },
  {
   "cell_type": "code",
   "execution_count": 3,
   "id": "extraordinary-million",
   "metadata": {
    "dotnet_interactive": {
     "language": "fsharp"
    },
    "execution": {
     "iopub.execute_input": "2022-10-25T16:24:16.411813Z",
     "iopub.status.busy": "2022-10-25T16:24:16.411489Z",
     "iopub.status.idle": "2022-10-25T16:24:16.998694Z",
     "shell.execute_reply": "2022-10-25T16:24:16.998427Z"
    }
   },
   "outputs": [],
   "source": [
    "// Get token as metadata\n",
    "let headers = TokenHelpers.GetTokenAsMetaData();\n",
    "\n",
    "// Create communication channel\n",
    "let channel = ChannelHelpers.GetChannel();"
   ]
  },
  {
   "cell_type": "markdown",
   "id": "efficient-console",
   "metadata": {},
   "source": [
    "### Step 3: Create and process request\n",
    "To request *EMA* service, we need to specify:\n",
    "* Instrument identifier\n",
    "* Time period selection: select start and end dates\n",
    "* Exponential moving average request parameters"
   ]
  },
  {
   "cell_type": "markdown",
   "id": "operational-fifty",
   "metadata": {},
   "source": [
    "#### 3.1 Instrument selection"
   ]
  },
  {
   "cell_type": "code",
   "execution_count": 4,
   "id": "turkish-journal",
   "metadata": {
    "dotnet_interactive": {
     "language": "fsharp"
    },
    "execution": {
     "iopub.execute_input": "2022-10-25T16:24:17.001072Z",
     "iopub.status.busy": "2022-10-25T16:24:17.000766Z",
     "iopub.status.idle": "2022-10-25T16:24:17.024818Z",
     "shell.execute_reply": "2022-10-25T16:24:17.024571Z"
    }
   },
   "outputs": [],
   "source": [
    "let ticker = \"AAPL\"\n",
    "let exchange = \"BATS\""
   ]
  },
  {
   "cell_type": "markdown",
   "id": "personal-portsmouth",
   "metadata": {},
   "source": [
    "#### 3.2 EMA parameters"
   ]
  },
  {
   "cell_type": "code",
   "execution_count": 5,
   "id": "sublime-memorial",
   "metadata": {
    "dotnet_interactive": {
     "language": "fsharp"
    },
    "execution": {
     "iopub.execute_input": "2022-10-25T16:24:17.026836Z",
     "iopub.status.busy": "2022-10-25T16:24:17.026504Z",
     "iopub.status.idle": "2022-10-25T16:24:17.184343Z",
     "shell.execute_reply": "2022-10-25T16:24:17.184098Z"
    }
   },
   "outputs": [],
   "source": [
    "let field = EmaPrice.Trade\n",
    "let longEma = 200\n",
    "let shortEma = 50\n",
    "let sampling = new Duration ( Seconds = 60L )"
   ]
  },
  {
   "cell_type": "markdown",
   "id": "appropriate-spell",
   "metadata": {},
   "source": [
    "#### 3.2 Time period delimitation"
   ]
  },
  {
   "cell_type": "code",
   "execution_count": 6,
   "id": "ready-removal",
   "metadata": {
    "dotnet_interactive": {
     "language": "fsharp"
    },
    "execution": {
     "iopub.execute_input": "2022-10-25T16:24:17.186887Z",
     "iopub.status.busy": "2022-10-25T16:24:17.186380Z",
     "iopub.status.idle": "2022-10-25T16:24:17.214671Z",
     "shell.execute_reply": "2022-10-25T16:24:17.214198Z"
    }
   },
   "outputs": [],
   "source": [
    "// Build the bars request date interval (we are using Google date time format : we have to cast the dates)\n",
    "let dateIntervals = \n",
    "  new DateInterval(\n",
    "    StartDate = new Date ( Year = 2020, Month = 02, Day = 18 ),\n",
    "    EndDate = new Date ( Year = 2020, Month = 02, Day = 18 )\n",
    "  )\n",
    "\n",
    "// Build the bars request time interval (we are using Google date time format : we have to cast the dates)\n",
    "// UTC time zone\n",
    "let timeInterval = \n",
    "  new TimeInterval(\n",
    "    StartTime = new TimeOfDay ( Hours = 08, Minutes = 00, Seconds = 00 ),\n",
    "    EndTime = new TimeOfDay ( Hours = 20, Minutes = 00, Seconds = 00 ) \n",
    "  )"
   ]
  },
  {
   "cell_type": "markdown",
   "id": "amended-sleeve",
   "metadata": {},
   "source": [
    "#### 3.3 Request creation\n",
    "The following code snippets creates *gRPC client*, process request and returns the request reply:"
   ]
  },
  {
   "cell_type": "code",
   "execution_count": 7,
   "id": "consecutive-productivity",
   "metadata": {
    "dotnet_interactive": {
     "language": "fsharp"
    },
    "execution": {
     "iopub.execute_input": "2022-10-25T16:24:17.216888Z",
     "iopub.status.busy": "2022-10-25T16:24:17.216502Z",
     "iopub.status.idle": "2022-10-25T16:24:17.274174Z",
     "shell.execute_reply": "2022-10-25T16:24:17.273923Z"
    }
   },
   "outputs": [],
   "source": [
    "// Generate constraints based on the previous space selection:\n",
    "let constraints = new Constraints()\n",
    "constraints.DateIntervals.Add(dateIntervals)\n",
    "constraints.TimeIntervals.Add(timeInterval)   "
   ]
  },
  {
   "cell_type": "markdown",
   "id": "western-charm",
   "metadata": {},
   "source": [
    "The following code snippets create requests for: *Long EMA*, *Short EMA* and *Prices*:"
   ]
  },
  {
   "cell_type": "code",
   "execution_count": 8,
   "id": "sweet-dubai",
   "metadata": {
    "dotnet_interactive": {
     "language": "fsharp"
    },
    "execution": {
     "iopub.execute_input": "2022-10-25T16:24:17.276168Z",
     "iopub.status.busy": "2022-10-25T16:24:17.275862Z",
     "iopub.status.idle": "2022-10-25T16:24:17.308559Z",
     "shell.execute_reply": "2022-10-25T16:24:17.308312Z"
    }
   },
   "outputs": [],
   "source": [
    "// Generate 200-points EMA request\n",
    "let emaLongRequest = \n",
    "    new TickEmaRequest(\n",
    "        Identifier = new Identifier ( Exchange = exchange, Ticker = ticker), \n",
    "        Constraints = constraints,  \n",
    "        Field = field,\n",
    "        Length = longEma, \n",
    "        Sampling = sampling\n",
    "    )\n",
    "\n",
    "// Generate 50-points EMA request\n",
    "let emaShortRequest = \n",
    "    new TickEmaRequest(\n",
    "        Identifier = new Identifier ( Exchange = exchange, Ticker = ticker), \n",
    "        Constraints = constraints,  \n",
    "        Field = field,\n",
    "        Length = shortEma, \n",
    "        Sampling = sampling\n",
    "    )\n",
    "\n",
    "// Instantiate the tick EMA service\n",
    "let service = new TickEmaService.TickEmaServiceClient(channel)"
   ]
  },
  {
   "cell_type": "markdown",
   "id": "perceived-nylon",
   "metadata": {},
   "source": [
    "### Step 4: Visualize data"
   ]
  },
  {
   "cell_type": "markdown",
   "id": "empty-heart",
   "metadata": {},
   "source": [
    "#### 4.1 Retrieve long EMA data"
   ]
  },
  {
   "cell_type": "code",
   "execution_count": 9,
   "id": "optional-optimum",
   "metadata": {
    "dotnet_interactive": {
     "language": "fsharp"
    },
    "execution": {
     "iopub.execute_input": "2022-10-25T16:24:17.310796Z",
     "iopub.status.busy": "2022-10-25T16:24:17.310492Z",
     "iopub.status.idle": "2022-10-25T16:24:18.213898Z",
     "shell.execute_reply": "2022-10-25T16:24:18.213561Z"
    }
   },
   "outputs": [],
   "source": [
    "open FSharp.Control.Tasks.V2\n",
    "open System.Collections.Generic\n",
    "\n",
    "let iterAsync (t: IAsyncEnumerable<'T>) (f : 'T -> unit) =\n",
    "    let task = \n",
    "        task {\n",
    "            let e = t.GetAsyncEnumerator()\n",
    "            let mutable go = true\n",
    "            try\n",
    "                let! step = e.MoveNextAsync()\n",
    "                go <- step\n",
    "                while go do \n",
    "                    f e.Current\n",
    "                    let! step = e.MoveNextAsync()\n",
    "                    go <- step\n",
    "            finally\n",
    "                e.DisposeAsync().AsTask().Wait()\n",
    "        }\n",
    "    task.Wait()\n",
    "\n",
    "let emalong = new List<TickEmaResponse>()\n",
    "let call = service.TickEma(emaLongRequest, headers)\n",
    "let e = call.ResponseStream.ReadAllAsync()\n",
    "\n",
    "iterAsync e emalong.Add\n",
    "\n",
    "//emalong |> display"
   ]
  },
  {
   "cell_type": "markdown",
   "id": "weekly-actress",
   "metadata": {},
   "source": [
    "#### 4.2 Retrieve short EMA data"
   ]
  },
  {
   "cell_type": "code",
   "execution_count": 10,
   "id": "deadly-decision",
   "metadata": {
    "dotnet_interactive": {
     "language": "fsharp"
    },
    "execution": {
     "iopub.execute_input": "2022-10-25T16:24:18.216092Z",
     "iopub.status.busy": "2022-10-25T16:24:18.215763Z",
     "iopub.status.idle": "2022-10-25T16:24:18.364540Z",
     "shell.execute_reply": "2022-10-25T16:24:18.364241Z"
    }
   },
   "outputs": [],
   "source": [
    "open FSharp.Control.Tasks.V2\n",
    "open System.Collections.Generic\n",
    "\n",
    "let iterAsync (t: IAsyncEnumerable<'T>) (f : 'T -> unit) =\n",
    "    let task = \n",
    "        task {\n",
    "            let e = t.GetAsyncEnumerator()\n",
    "            let mutable go = true\n",
    "            try\n",
    "                let! step = e.MoveNextAsync()\n",
    "                go <- step\n",
    "                while go do \n",
    "                    f e.Current\n",
    "                    let! step = e.MoveNextAsync()\n",
    "                    go <- step\n",
    "            finally\n",
    "                e.DisposeAsync().AsTask().Wait()\n",
    "        }\n",
    "    task.Wait()\n",
    "\n",
    "let emashort = new List<TickEmaResponse>()\n",
    "let call = service.TickEma(emaShortRequest, headers)\n",
    "let e = call.ResponseStream.ReadAllAsync()\n",
    "\n",
    "iterAsync e emalong.Add\n",
    "\n",
    "//emashort |> display"
   ]
  },
  {
   "cell_type": "markdown",
   "id": "desirable-leisure",
   "metadata": {},
   "source": [
    "#### 4.1 Plot EMA and prices\n",
    "Plot the EMA and prices request' results with the package of your choice.<br>*`XPlot.Plotly`* is used as per open source display package. Plot a simple line graph with the EMA and prices data points: "
   ]
  },
  {
   "cell_type": "code",
   "execution_count": 11,
   "id": "third-nirvana",
   "metadata": {
    "dotnet_interactive": {
     "language": "fsharp"
    },
    "execution": {
     "iopub.execute_input": "2022-10-25T16:24:18.367427Z",
     "iopub.status.busy": "2022-10-25T16:24:18.366931Z",
     "iopub.status.idle": "2022-10-25T16:24:18.789786Z",
     "shell.execute_reply": "2022-10-25T16:24:18.789494Z"
    }
   },
   "outputs": [
    {
     "data": {
      "text/html": [
       "<!DOCTYPE html>\n",
       "<div style=\"width: 1500px; height: 800px;\" id=\"3385debc-a45f-4a45-9e9e-0923c1733b13\"></div><script type=\"text/javascript\">\n",
       "\n",
       "var renderPlotly = function() {\n",
       "    var xplotRequire = require.config({context:'xplot-3.0.1',paths:{plotly:'https://cdn.plot.ly/plotly-1.49.2.min'}}) || require;\n",
       "    xplotRequire(['plotly'], function(Plotly) { \n",
       "\n",
       "            var data = [{\"type\":\"scattergl\",\"x\":[],\"y\":[],\"mode\":\"lines\",\"name\":\"200-points EMA\"},{\"type\":\"scattergl\",\"x\":[],\"y\":[],\"mode\":\"lines\",\"name\":\"50-points EMA\"},{\"type\":\"scattergl\",\"x\":[],\"y\":[],\"mode\":\"lines\",\"name\":\"Prices\"}];\n",
       "           var layout = {\"title\":\"EMAs and prices for AAPL\",\"xaxis\":{\"title\":\"Time\",\"_isSubplotObj\":true},\"yaxis\":{\"title\":\"Price\",\"_isSubplotObj\":true}};\n",
       "           Plotly.newPlot('3385debc-a45f-4a45-9e9e-0923c1733b13', data, layout);\n",
       "        \n",
       "});\n",
       "};\n",
       "// ensure `require` is available globally\n",
       "if ((typeof(require) !==  typeof(Function)) || (typeof(require.config) !== typeof(Function))) {\n",
       "    let require_script = document.createElement('script');\n",
       "    require_script.setAttribute('src', 'https://cdnjs.cloudflare.com/ajax/libs/require.js/2.3.6/require.min.js');\n",
       "    require_script.setAttribute('type', 'text/javascript');\n",
       "    \n",
       "    \n",
       "    require_script.onload = function() {\n",
       "        renderPlotly();\n",
       "    };\n",
       "\n",
       "    document.getElementsByTagName('head')[0].appendChild(require_script);\n",
       "}\n",
       "else {\n",
       "    renderPlotly();\n",
       "}\n",
       "\n",
       "</script>\n"
      ]
     },
     "metadata": {},
     "output_type": "display_data"
    }
   ],
   "source": [
    "[\n",
    "    new Scattergl(\n",
    "        name = \"200-points EMA\",\n",
    "        mode = \"lines\",\n",
    "        x = (emalong |> Seq.map (fun l -> l.TimeStamp.ToDateTime())),\n",
    "        y = (emalong |> Seq.map (fun l -> l.Average))\n",
    "    )\n",
    "    new Scattergl(\n",
    "        name = \"50-points EMA\",\n",
    "        mode = \"lines\",\n",
    "        x = (emashort |> Seq.map ( fun l -> l.TimeStamp.ToDateTime())),\n",
    "        y = (emashort |> Seq.map ( fun l -> l.Average))\n",
    "    )\n",
    "    new Scattergl(\n",
    "        name = \"Prices\",\n",
    "        mode = \"lines\",\n",
    "        x = (emalong |> Seq.map (fun l -> l.TimeStamp.ToDateTime())),\n",
    "        y = (emalong |> Seq.map (fun l -> l.Value))\n",
    "    )\n",
    "]\n",
    "|> Chart.Plot\n",
    "|> Chart.WithTitle $\"EMAs and prices for {ticker}\"\n",
    "|> Chart.WithXTitle \"Time\"\n",
    "|> Chart.WithYTitle \"Price\"\n",
    "|> Chart.WithWidth 1500\n",
    "|> Chart.WithHeight 800\n",
    "|> display"
   ]
  }
 ],
 "metadata": {
  "kernelspec": {
   "display_name": ".NET (F#)",
   "language": "F#",
   "name": ".net-fsharp"
  },
  "language_info": {
   "file_extension": ".fs",
   "mimetype": "text/x-fsharp",
   "name": "F#",
   "pygments_lexer": "fsharp",
   "version": "6.0"
  }
 },
 "nbformat": 4,
 "nbformat_minor": 5
}
