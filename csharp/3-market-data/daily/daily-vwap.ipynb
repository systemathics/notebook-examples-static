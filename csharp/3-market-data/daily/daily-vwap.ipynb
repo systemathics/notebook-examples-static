{
 "cells": [
  {
   "cell_type": "markdown",
   "metadata": {},
   "source": [
    "# Generate daily VWAP using dedicated service - C#\n",
    "\n",
    "### Overview\n",
    "The Volume Weighted Average price is similar to a moving average, except volume is included to weight the average price over a one trading day period.\n",
    "\n",
    "It serves as a reference point for one trading day prices. Comparing current prices with the VWAP values enables to:\n",
    "* mesure trading efficiency by comparing individual trades to VWAP\n",
    "* highlight liquidity points as vwap reflects prices levels weighted by volume\n",
    "* determine the intraday trend\n",
    "* etc.\n",
    "\n",
    "This sample demonstrates how to request and plot from a dedicated data service **on-demand** `daily` VWAP price.\n",
    "\n",
    "### Inputs/outputs\n",
    "Daily VWAP indicator requires instrument's identifier, date time intervals and time range as per inputs and returns the daily VWAP data points.\n",
    "\n",
    "VWAP is a cumulative indicator which means the number of data points progressively increases throughtout the day.\n",
    "\n",
    "This sample shows how to plot a simple daily vwap for basis technical analysis using an open source library. \n",
    "\n",
    "### Services used\n",
    "This sample uses gRPC requests in order to retrieve VWAP indicator from the hosted service. The queried endpoint in this script are:\n",
    "* *DailyVwapsService*: to directly retrieve daily VWAP objects from the server\n",
    "\n",
    "### Packages required\n",
    "1. Systemathics packages:\n",
    "    * *Systemathics.Apis.Type.Shared.V1*\n",
    "    * *Systemathics.Apis.Services.Daily.V1*\n",
    "2. Open source packages\n",
    "    * *Google.Protobuf.WellKnownTypes*\n",
    "    * *Google.Type*\n",
    "    * *Grpc.Net.Client*\n",
    "    * *Grpc.Core*\n",
    "    * *XPlot.Plotly* as per display package\n",
    "\n",
    "***"
   ]
  },
  {
   "cell_type": "markdown",
   "metadata": {},
   "source": [
    "# Run daily VWAP sample"
   ]
  },
  {
   "cell_type": "markdown",
   "metadata": {},
   "source": [
    "### Step 1: Install packages"
   ]
  },
  {
   "cell_type": "code",
   "execution_count": 1,
   "metadata": {
    "dotnet_interactive": {
     "language": "csharp"
    },
    "execution": {
     "iopub.execute_input": "2022-10-25T16:18:15.546044Z",
     "iopub.status.busy": "2022-10-25T16:18:15.538534Z",
     "iopub.status.idle": "2022-10-25T16:18:20.853645Z",
     "shell.execute_reply": "2022-10-25T16:18:20.845657Z"
    },
    "vscode": {
     "languageId": "dotnet-interactive.csharp"
    }
   },
   "outputs": [
    {
     "data": {
      "text/html": [
       "\n",
       "<div>\n",
       "    <div id='dotnet-interactive-this-cell-19988.Microsoft.DotNet.Interactive.Http.HttpPort' style='display: none'>\n",
       "        The below script needs to be able to find the current output cell; this is an easy method to get it.\n",
       "    </div>\n",
       "    <script type='text/javascript'>\n",
       "async function probeAddresses(probingAddresses) {\n",
       "    function timeout(ms, promise) {\n",
       "        return new Promise(function (resolve, reject) {\n",
       "            setTimeout(function () {\n",
       "                reject(new Error('timeout'))\n",
       "            }, ms)\n",
       "            promise.then(resolve, reject)\n",
       "        })\n",
       "    }\n",
       "\n",
       "    if (Array.isArray(probingAddresses)) {\n",
       "        for (let i = 0; i < probingAddresses.length; i++) {\n",
       "\n",
       "            let rootUrl = probingAddresses[i];\n",
       "\n",
       "            if (!rootUrl.endsWith('/')) {\n",
       "                rootUrl = `${rootUrl}/`;\n",
       "            }\n",
       "\n",
       "            try {\n",
       "                let response = await timeout(1000, fetch(`${rootUrl}discovery`, {\n",
       "                    method: 'POST',\n",
       "                    cache: 'no-cache',\n",
       "                    mode: 'cors',\n",
       "                    timeout: 1000,\n",
       "                    headers: {\n",
       "                        'Content-Type': 'text/plain'\n",
       "                    },\n",
       "                    body: probingAddresses[i]\n",
       "                }));\n",
       "\n",
       "                if (response.status == 200) {\n",
       "                    return rootUrl;\n",
       "                }\n",
       "            }\n",
       "            catch (e) { }\n",
       "        }\n",
       "    }\n",
       "}\n",
       "\n",
       "function loadDotnetInteractiveApi() {\n",
       "    probeAddresses([\"http://172.28.169.63:2794/\", \"http://127.0.0.1:2794/\"])\n",
       "        .then((root) => {\n",
       "        // use probing to find host url and api resources\n",
       "        // load interactive helpers and language services\n",
       "        let dotnetInteractiveRequire = require.config({\n",
       "        context: '19988.Microsoft.DotNet.Interactive.Http.HttpPort',\n",
       "                paths:\n",
       "            {\n",
       "                'dotnet-interactive': `${root}resources`\n",
       "                }\n",
       "        }) || require;\n",
       "\n",
       "            window.dotnetInteractiveRequire = dotnetInteractiveRequire;\n",
       "\n",
       "            window.configureRequireFromExtension = function(extensionName, extensionCacheBuster) {\n",
       "                let paths = {};\n",
       "                paths[extensionName] = `${root}extensions/${extensionName}/resources/`;\n",
       "                \n",
       "                let internalRequire = require.config({\n",
       "                    context: extensionCacheBuster,\n",
       "                    paths: paths,\n",
       "                    urlArgs: `cacheBuster=${extensionCacheBuster}`\n",
       "                    }) || require;\n",
       "\n",
       "                return internalRequire\n",
       "            };\n",
       "        \n",
       "            dotnetInteractiveRequire([\n",
       "                    'dotnet-interactive/dotnet-interactive'\n",
       "                ],\n",
       "                function (dotnet) {\n",
       "                    dotnet.init(window);\n",
       "                },\n",
       "                function (error) {\n",
       "                    console.log(error);\n",
       "                }\n",
       "            );\n",
       "        })\n",
       "        .catch(error => {console.log(error);});\n",
       "    }\n",
       "\n",
       "// ensure `require` is available globally\n",
       "if ((typeof(require) !==  typeof(Function)) || (typeof(require.config) !== typeof(Function))) {\n",
       "    let require_script = document.createElement('script');\n",
       "    require_script.setAttribute('src', 'https://cdnjs.cloudflare.com/ajax/libs/require.js/2.3.6/require.min.js');\n",
       "    require_script.setAttribute('type', 'text/javascript');\n",
       "    \n",
       "    \n",
       "    require_script.onload = function() {\n",
       "        loadDotnetInteractiveApi();\n",
       "    };\n",
       "\n",
       "    document.getElementsByTagName('head')[0].appendChild(require_script);\n",
       "}\n",
       "else {\n",
       "    loadDotnetInteractiveApi();\n",
       "}\n",
       "\n",
       "    </script>\n",
       "</div>"
      ]
     },
     "metadata": {},
     "output_type": "display_data"
    },
    {
     "data": {
      "text/html": [
       "<div><div><strong>Restore sources</strong><ul><li><span> file://~/.nuget/packages/</span></li><li><span> https://api.nuget.org/v3/index.json</span></li></ul></div><div></div><div><strong>Installed Packages</strong><ul><li><span>Systemathics.Apis, 0.13.2-pre</span></li><li><span>XPlot.Plotly.Interactive, 4.0.6</span></li></ul></div></div>"
      ]
     },
     "metadata": {},
     "output_type": "display_data"
    },
    {
     "data": {
      "text/markdown": [
       "Loading extensions from `XPlot.Plotly.Interactive.dll`"
      ]
     },
     "metadata": {},
     "output_type": "display_data"
    },
    {
     "data": {
      "text/markdown": [
       "Configuring PowerShell Kernel for XPlot.Plotly integration."
      ]
     },
     "metadata": {},
     "output_type": "display_data"
    },
    {
     "data": {
      "text/markdown": [
       "Installed support for XPlot.Plotly."
      ]
     },
     "metadata": {},
     "output_type": "display_data"
    }
   ],
   "source": [
    "#i \"nuget: file://~/.nuget/packages/\"\n",
    "#i \"nuget: https://api.nuget.org/v3/index.json\"\n",
    "#r \"nuget: Systemathics.Apis, 0.*-pre*\"\n",
    "#r \"nuget: XPlot.Plotly.Interactive\""
   ]
  },
  {
   "cell_type": "code",
   "execution_count": 2,
   "metadata": {
    "dotnet_interactive": {
     "language": "csharp"
    },
    "execution": {
     "iopub.execute_input": "2022-10-25T16:18:20.856205Z",
     "iopub.status.busy": "2022-10-25T16:18:20.855717Z",
     "iopub.status.idle": "2022-10-25T16:18:20.956186Z",
     "shell.execute_reply": "2022-10-25T16:18:20.955814Z"
    },
    "vscode": {
     "languageId": "dotnet-interactive.csharp"
    }
   },
   "outputs": [],
   "source": [
    "using Systemathics.Apis.Helpers;\n",
    "using Systemathics.Apis.Type.Shared.V1;\n",
    "using Systemathics.Apis.Services.Daily.V1;\n",
    "using Google.Protobuf.WellKnownTypes;\n",
    "using Google.Type;\n",
    "using Grpc.Net.Client;\n",
    "using Grpc.Core;\n",
    "using XPlot.Plotly;\n",
    "using XPlot.Plotly.Interactive;"
   ]
  },
  {
   "cell_type": "markdown",
   "metadata": {},
   "source": [
    "### Step 2: Prepare API requests\n",
    "The following code snippets retrieve authentication token and prepare the API request by: opening the *channel* and adding the *token* to the request header:"
   ]
  },
  {
   "cell_type": "code",
   "execution_count": 3,
   "metadata": {
    "dotnet_interactive": {
     "language": "csharp"
    },
    "execution": {
     "iopub.execute_input": "2022-10-25T16:18:20.958660Z",
     "iopub.status.busy": "2022-10-25T16:18:20.958317Z",
     "iopub.status.idle": "2022-10-25T16:18:21.962940Z",
     "shell.execute_reply": "2022-10-25T16:18:21.962671Z"
    },
    "vscode": {
     "languageId": "dotnet-interactive.csharp"
    }
   },
   "outputs": [],
   "source": [
    "// Get token as metadata\n",
    "var headers = TokenHelpers.GetTokenAsMetaData();\n",
    "\n",
    "// Create communication channel\n",
    "var channel = ChannelHelpers.GetChannel();"
   ]
  },
  {
   "cell_type": "markdown",
   "metadata": {},
   "source": [
    "### Step 3: Create and process request"
   ]
  },
  {
   "cell_type": "markdown",
   "metadata": {},
   "source": [
    "#### 3.1 Request Parameters\n",
    "To request *daily vwap* service, we need to specify:\n",
    "* Instrument identifier\n",
    "* Time period selection: select start and end dates\n",
    "* Service called: *DailyVwapsService* in order to retrieve daily data"
   ]
  },
  {
   "cell_type": "code",
   "execution_count": 4,
   "metadata": {
    "dotnet_interactive": {
     "language": "csharp"
    },
    "execution": {
     "iopub.execute_input": "2022-10-25T16:18:21.965099Z",
     "iopub.status.busy": "2022-10-25T16:18:21.964790Z",
     "iopub.status.idle": "2022-10-25T16:18:22.030861Z",
     "shell.execute_reply": "2022-10-25T16:18:22.030614Z"
    },
    "vscode": {
     "languageId": "dotnet-interactive.csharp"
    }
   },
   "outputs": [],
   "source": [
    "// Set instrument\n",
    "var ticker = \"ACA\";\n",
    "var exchange = \"XPAR\";"
   ]
  },
  {
   "cell_type": "markdown",
   "metadata": {},
   "source": [
    "#### 3.2 Request creation\n",
    "The following code snippet creates *gRPC client*, process request and returns request reply."
   ]
  },
  {
   "cell_type": "code",
   "execution_count": 5,
   "metadata": {
    "dotnet_interactive": {
     "language": "csharp"
    },
    "execution": {
     "iopub.execute_input": "2022-10-25T16:18:22.032893Z",
     "iopub.status.busy": "2022-10-25T16:18:22.032591Z",
     "iopub.status.idle": "2022-10-25T16:18:22.829590Z",
     "shell.execute_reply": "2022-10-25T16:18:22.829326Z"
    },
    "vscode": {
     "languageId": "dotnet-interactive.csharp"
    }
   },
   "outputs": [],
   "source": [
    "// Instantiate the daily vwap service\n",
    "var service = new DailyVwapsService.DailyVwapsServiceClient(channel);\n",
    "\n",
    "// Create and process daily vwap request\n",
    "var request = new DailyVwapsRequest \n",
    "{ \n",
    "    Identifier = new Identifier { Exchange = exchange, Ticker = ticker}\n",
    "};\n",
    "var reply = service.DailyVwaps(request, headers);"
   ]
  },
  {
   "cell_type": "markdown",
   "metadata": {},
   "source": [
    "The following code snippet displays the *daily vwap* data points:"
   ]
  },
  {
   "cell_type": "code",
   "execution_count": 6,
   "metadata": {
    "dotnet_interactive": {
     "language": "csharp"
    },
    "execution": {
     "iopub.execute_input": "2022-10-25T16:18:22.831622Z",
     "iopub.status.busy": "2022-10-25T16:18:22.831319Z",
     "iopub.status.idle": "2022-10-25T16:18:23.092767Z",
     "shell.execute_reply": "2022-10-25T16:18:23.092518Z"
    },
    "vscode": {
     "languageId": "dotnet-interactive.csharp"
    }
   },
   "outputs": [
    {
     "data": {
      "text/html": [
       "<table><thead><tr><th><i>index</i></th><th>Date</th><th>Price</th><th>Volume</th><th>Score</th></tr></thead><tbody><tr><td>0</td><td><table><thead><tr><th>Year</th><th>Month</th><th>Day</th></tr></thead><tbody><tr><td><div class=\"dni-plaintext\">2020</div></td><td><div class=\"dni-plaintext\">10</div></td><td><div class=\"dni-plaintext\">26</div></td></tr></tbody></table></td><td><div class=\"dni-plaintext\">7.385</div></td><td><div class=\"dni-plaintext\">5742545</div></td><td><div class=\"dni-plaintext\">0</div></td></tr><tr><td>1</td><td><table><thead><tr><th>Year</th><th>Month</th><th>Day</th></tr></thead><tbody><tr><td><div class=\"dni-plaintext\">2020</div></td><td><div class=\"dni-plaintext\">10</div></td><td><div class=\"dni-plaintext\">27</div></td></tr></tbody></table></td><td><div class=\"dni-plaintext\">7.1299</div></td><td><div class=\"dni-plaintext\">7725116</div></td><td><div class=\"dni-plaintext\">0</div></td></tr><tr><td>2</td><td><table><thead><tr><th>Year</th><th>Month</th><th>Day</th></tr></thead><tbody><tr><td><div class=\"dni-plaintext\">2020</div></td><td><div class=\"dni-plaintext\">10</div></td><td><div class=\"dni-plaintext\">28</div></td></tr></tbody></table></td><td><div class=\"dni-plaintext\">6.7162</div></td><td><div class=\"dni-plaintext\">11676944</div></td><td><div class=\"dni-plaintext\">0</div></td></tr><tr><td>3</td><td><table><thead><tr><th>Year</th><th>Month</th><th>Day</th></tr></thead><tbody><tr><td><div class=\"dni-plaintext\">2020</div></td><td><div class=\"dni-plaintext\">10</div></td><td><div class=\"dni-plaintext\">29</div></td></tr></tbody></table></td><td><div class=\"dni-plaintext\">6.6424</div></td><td><div class=\"dni-plaintext\">8725304</div></td><td><div class=\"dni-plaintext\">0</div></td></tr><tr><td>4</td><td><table><thead><tr><th>Year</th><th>Month</th><th>Day</th></tr></thead><tbody><tr><td><div class=\"dni-plaintext\">2020</div></td><td><div class=\"dni-plaintext\">10</div></td><td><div class=\"dni-plaintext\">30</div></td></tr></tbody></table></td><td><div class=\"dni-plaintext\">6.7282</div></td><td><div class=\"dni-plaintext\">6559964</div></td><td><div class=\"dni-plaintext\">0</div></td></tr><tr><td>5</td><td><table><thead><tr><th>Year</th><th>Month</th><th>Day</th></tr></thead><tbody><tr><td><div class=\"dni-plaintext\">2020</div></td><td><div class=\"dni-plaintext\">11</div></td><td><div class=\"dni-plaintext\">2</div></td></tr></tbody></table></td><td><div class=\"dni-plaintext\">6.9343</div></td><td><div class=\"dni-plaintext\">5612951</div></td><td><div class=\"dni-plaintext\">0</div></td></tr><tr><td>6</td><td><table><thead><tr><th>Year</th><th>Month</th><th>Day</th></tr></thead><tbody><tr><td><div class=\"dni-plaintext\">2020</div></td><td><div class=\"dni-plaintext\">11</div></td><td><div class=\"dni-plaintext\">3</div></td></tr></tbody></table></td><td><div class=\"dni-plaintext\">7.2903</div></td><td><div class=\"dni-plaintext\">12646540</div></td><td><div class=\"dni-plaintext\">0</div></td></tr><tr><td>7</td><td><table><thead><tr><th>Year</th><th>Month</th><th>Day</th></tr></thead><tbody><tr><td><div class=\"dni-plaintext\">2020</div></td><td><div class=\"dni-plaintext\">11</div></td><td><div class=\"dni-plaintext\">4</div></td></tr></tbody></table></td><td><div class=\"dni-plaintext\">7.3554</div></td><td><div class=\"dni-plaintext\">7999349</div></td><td><div class=\"dni-plaintext\">0</div></td></tr><tr><td>8</td><td><table><thead><tr><th>Year</th><th>Month</th><th>Day</th></tr></thead><tbody><tr><td><div class=\"dni-plaintext\">2020</div></td><td><div class=\"dni-plaintext\">11</div></td><td><div class=\"dni-plaintext\">5</div></td></tr></tbody></table></td><td><div class=\"dni-plaintext\">7.4724</div></td><td><div class=\"dni-plaintext\">7188295</div></td><td><div class=\"dni-plaintext\">0</div></td></tr><tr><td>9</td><td><table><thead><tr><th>Year</th><th>Month</th><th>Day</th></tr></thead><tbody><tr><td><div class=\"dni-plaintext\">2020</div></td><td><div class=\"dni-plaintext\">11</div></td><td><div class=\"dni-plaintext\">6</div></td></tr></tbody></table></td><td><div class=\"dni-plaintext\">7.4893</div></td><td><div class=\"dni-plaintext\">6323426</div></td><td><div class=\"dni-plaintext\">0</div></td></tr><tr><td>10</td><td><table><thead><tr><th>Year</th><th>Month</th><th>Day</th></tr></thead><tbody><tr><td><div class=\"dni-plaintext\">2020</div></td><td><div class=\"dni-plaintext\">11</div></td><td><div class=\"dni-plaintext\">9</div></td></tr></tbody></table></td><td><div class=\"dni-plaintext\">8.2196</div></td><td><div class=\"dni-plaintext\">19934709</div></td><td><div class=\"dni-plaintext\">0</div></td></tr><tr><td>11</td><td><table><thead><tr><th>Year</th><th>Month</th><th>Day</th></tr></thead><tbody><tr><td><div class=\"dni-plaintext\">2020</div></td><td><div class=\"dni-plaintext\">11</div></td><td><div class=\"dni-plaintext\">10</div></td></tr></tbody></table></td><td><div class=\"dni-plaintext\">8.7428</div></td><td><div class=\"dni-plaintext\">19264718</div></td><td><div class=\"dni-plaintext\">0</div></td></tr><tr><td>12</td><td><table><thead><tr><th>Year</th><th>Month</th><th>Day</th></tr></thead><tbody><tr><td><div class=\"dni-plaintext\">2020</div></td><td><div class=\"dni-plaintext\">11</div></td><td><div class=\"dni-plaintext\">11</div></td></tr></tbody></table></td><td><div class=\"dni-plaintext\">8.7795</div></td><td><div class=\"dni-plaintext\">8502072</div></td><td><div class=\"dni-plaintext\">0</div></td></tr><tr><td>13</td><td><table><thead><tr><th>Year</th><th>Month</th><th>Day</th></tr></thead><tbody><tr><td><div class=\"dni-plaintext\">2020</div></td><td><div class=\"dni-plaintext\">11</div></td><td><div class=\"dni-plaintext\">12</div></td></tr></tbody></table></td><td><div class=\"dni-plaintext\">8.4918</div></td><td><div class=\"dni-plaintext\">8483692</div></td><td><div class=\"dni-plaintext\">0</div></td></tr><tr><td>14</td><td><table><thead><tr><th>Year</th><th>Month</th><th>Day</th></tr></thead><tbody><tr><td><div class=\"dni-plaintext\">2020</div></td><td><div class=\"dni-plaintext\">11</div></td><td><div class=\"dni-plaintext\">13</div></td></tr></tbody></table></td><td><div class=\"dni-plaintext\">8.5986</div></td><td><div class=\"dni-plaintext\">10049235</div></td><td><div class=\"dni-plaintext\">0</div></td></tr><tr><td>15</td><td><table><thead><tr><th>Year</th><th>Month</th><th>Day</th></tr></thead><tbody><tr><td><div class=\"dni-plaintext\">2020</div></td><td><div class=\"dni-plaintext\">11</div></td><td><div class=\"dni-plaintext\">16</div></td></tr></tbody></table></td><td><div class=\"dni-plaintext\">8.8412</div></td><td><div class=\"dni-plaintext\">12781132</div></td><td><div class=\"dni-plaintext\">0</div></td></tr><tr><td>16</td><td><table><thead><tr><th>Year</th><th>Month</th><th>Day</th></tr></thead><tbody><tr><td><div class=\"dni-plaintext\">2020</div></td><td><div class=\"dni-plaintext\">11</div></td><td><div class=\"dni-plaintext\">17</div></td></tr></tbody></table></td><td><div class=\"dni-plaintext\">8.7522</div></td><td><div class=\"dni-plaintext\">8032282</div></td><td><div class=\"dni-plaintext\">0</div></td></tr><tr><td>17</td><td><table><thead><tr><th>Year</th><th>Month</th><th>Day</th></tr></thead><tbody><tr><td><div class=\"dni-plaintext\">2020</div></td><td><div class=\"dni-plaintext\">11</div></td><td><div class=\"dni-plaintext\">18</div></td></tr></tbody></table></td><td><div class=\"dni-plaintext\">8.8949</div></td><td><div class=\"dni-plaintext\">7221409</div></td><td><div class=\"dni-plaintext\">0</div></td></tr><tr><td>18</td><td><table><thead><tr><th>Year</th><th>Month</th><th>Day</th></tr></thead><tbody><tr><td><div class=\"dni-plaintext\">2020</div></td><td><div class=\"dni-plaintext\">11</div></td><td><div class=\"dni-plaintext\">19</div></td></tr></tbody></table></td><td><div class=\"dni-plaintext\">8.8312</div></td><td><div class=\"dni-plaintext\">6998034</div></td><td><div class=\"dni-plaintext\">0</div></td></tr><tr><td>19</td><td><table><thead><tr><th>Year</th><th>Month</th><th>Day</th></tr></thead><tbody><tr><td><div class=\"dni-plaintext\">2020</div></td><td><div class=\"dni-plaintext\">11</div></td><td><div class=\"dni-plaintext\">20</div></td></tr></tbody></table></td><td><div class=\"dni-plaintext\">8.9634</div></td><td><div class=\"dni-plaintext\">7467662</div></td><td><div class=\"dni-plaintext\">0</div></td></tr><tr><td colspan=\"5\"><i>(494 more)</i></td></tr></tbody></table>"
      ]
     },
     "metadata": {},
     "output_type": "display_data"
    }
   ],
   "source": [
    "display(reply.Data)"
   ]
  },
  {
   "cell_type": "markdown",
   "metadata": {},
   "source": [
    "### Step 4: Visualize data"
   ]
  },
  {
   "cell_type": "markdown",
   "metadata": {},
   "source": [
    "#### 4.1 Plot vwap and volume\n",
    "The following code snippets retrive *Close prices* over the look back period from the request result and plot them with the package of your choice.<br><i>`XPlot.Plotly`</i> is used as per open source display package."
   ]
  },
  {
   "cell_type": "code",
   "execution_count": 7,
   "metadata": {
    "dotnet_interactive": {
     "language": "csharp"
    },
    "execution": {
     "iopub.execute_input": "2022-10-25T16:18:23.094864Z",
     "iopub.status.busy": "2022-10-25T16:18:23.094556Z",
     "iopub.status.idle": "2022-10-25T16:18:23.381589Z",
     "shell.execute_reply": "2022-10-25T16:18:23.381294Z"
    },
    "vscode": {
     "languageId": "dotnet-interactive.csharp"
    }
   },
   "outputs": [],
   "source": [
    "// Extract the daily vwap and the volume\n",
    "var vwaps = reply.Data.Select(t => new Tuple<DateTime, double>(new DateTime(t.Date.Year, t.Date.Month, t.Date.Day), t.Price));\n",
    "var volumes = reply.Data.Select(t => new Tuple<DateTime, double>(new DateTime(t.Date.Year, t.Date.Month, t.Date.Day), t.Volume));"
   ]
  },
  {
   "cell_type": "code",
   "execution_count": 8,
   "metadata": {
    "dotnet_interactive": {
     "language": "csharp"
    },
    "execution": {
     "iopub.execute_input": "2022-10-25T16:18:23.383707Z",
     "iopub.status.busy": "2022-10-25T16:18:23.383204Z",
     "iopub.status.idle": "2022-10-25T16:18:23.719181Z",
     "shell.execute_reply": "2022-10-25T16:18:23.718914Z"
    },
    "vscode": {
     "languageId": "dotnet-interactive.csharp"
    }
   },
   "outputs": [
    {
     "data": {
      "text/html": [
       "<!DOCTYPE html>\n",
       "<div style=\"width: 1500px; height: 800px;\" id=\"be07fe2b-3728-4c8a-b867-98ae8855ec8b\"></div><script type=\"text/javascript\">\n",
       "\n",
       "var renderPlotly = function() {\n",
       "    var xplotRequire = require.config({context:'xplot-3.0.1',paths:{plotly:'https://cdn.plot.ly/plotly-1.49.2.min'}}) || require;\n",
       "    xplotRequire(['plotly'], function(Plotly) { \n",
       "\n",
       "            var data = [{\"type\":\"scattergl\",\"x\":[\"2020-10-26T00:00:00\",\"2020-10-27T00:00:00\",\"2020-10-28T00:00:00\",\"2020-10-29T00:00:00\",\"2020-10-30T00:00:00\",\"2020-11-02T00:00:00\",\"2020-11-03T00:00:00\",\"2020-11-04T00:00:00\",\"2020-11-05T00:00:00\",\"2020-11-06T00:00:00\",\"2020-11-09T00:00:00\",\"2020-11-10T00:00:00\",\"2020-11-11T00:00:00\",\"2020-11-12T00:00:00\",\"2020-11-13T00:00:00\",\"2020-11-16T00:00:00\",\"2020-11-17T00:00:00\",\"2020-11-18T00:00:00\",\"2020-11-19T00:00:00\",\"2020-11-20T00:00:00\",\"2020-11-23T00:00:00\",\"2020-11-24T00:00:00\",\"2020-11-25T00:00:00\",\"2020-11-26T00:00:00\",\"2020-11-27T00:00:00\",\"2020-11-30T00:00:00\",\"2020-12-01T00:00:00\",\"2020-12-02T00:00:00\",\"2020-12-03T00:00:00\",\"2020-12-04T00:00:00\",\"2020-12-07T00:00:00\",\"2020-12-08T00:00:00\",\"2020-12-09T00:00:00\",\"2020-12-10T00:00:00\",\"2020-12-11T00:00:00\",\"2020-12-14T00:00:00\",\"2020-12-15T00:00:00\",\"2020-12-16T00:00:00\",\"2020-12-17T00:00:00\",\"2020-12-18T00:00:00\",\"2020-12-21T00:00:00\",\"2020-12-22T00:00:00\",\"2020-12-23T00:00:00\",\"2020-12-24T00:00:00\",\"2020-12-28T00:00:00\",\"2020-12-29T00:00:00\",\"2020-12-30T00:00:00\",\"2020-12-31T00:00:00\",\"2021-01-04T00:00:00\",\"2021-01-05T00:00:00\",\"2021-01-06T00:00:00\",\"2021-01-07T00:00:00\",\"2021-01-08T00:00:00\",\"2021-01-11T00:00:00\",\"2021-01-12T00:00:00\",\"2021-01-13T00:00:00\",\"2021-01-14T00:00:00\",\"2021-01-15T00:00:00\",\"2021-01-18T00:00:00\",\"2021-01-19T00:00:00\",\"2021-01-20T00:00:00\",\"2021-01-21T00:00:00\",\"2021-01-22T00:00:00\",\"2021-01-25T00:00:00\",\"2021-01-26T00:00:00\",\"2021-01-27T00:00:00\",\"2021-01-28T00:00:00\",\"2021-01-29T00:00:00\",\"2021-02-01T00:00:00\",\"2021-02-02T00:00:00\",\"2021-02-03T00:00:00\",\"2021-02-04T00:00:00\",\"2021-02-05T00:00:00\",\"2021-02-08T00:00:00\",\"2021-02-09T00:00:00\",\"2021-02-10T00:00:00\",\"2021-02-11T00:00:00\",\"2021-02-12T00:00:00\",\"2021-02-15T00:00:00\",\"2021-02-16T00:00:00\",\"2021-02-17T00:00:00\",\"2021-02-18T00:00:00\",\"2021-02-19T00:00:00\",\"2021-02-22T00:00:00\",\"2021-02-23T00:00:00\",\"2021-02-24T00:00:00\",\"2021-02-25T00:00:00\",\"2021-02-26T00:00:00\",\"2021-03-01T00:00:00\",\"2021-03-02T00:00:00\",\"2021-03-03T00:00:00\",\"2021-03-04T00:00:00\",\"2021-03-05T00:00:00\",\"2021-03-08T00:00:00\",\"2021-03-09T00:00:00\",\"2021-03-10T00:00:00\",\"2021-03-11T00:00:00\",\"2021-03-12T00:00:00\",\"2021-03-15T00:00:00\",\"2021-03-16T00:00:00\",\"2021-03-17T00:00:00\",\"2021-03-18T00:00:00\",\"2021-03-19T00:00:00\",\"2021-03-22T00:00:00\",\"2021-03-23T00:00:00\",\"2021-03-24T00:00:00\",\"2021-03-25T00:00:00\",\"2021-03-26T00:00:00\",\"2021-03-29T00:00:00\",\"2021-03-30T00:00:00\",\"2021-03-31T00:00:00\",\"2021-04-01T00:00:00\",\"2021-04-06T00:00:00\",\"2021-04-07T00:00:00\",\"2021-04-08T00:00:00\",\"2021-04-09T00:00:00\",\"2021-04-12T00:00:00\",\"2021-04-13T00:00:00\",\"2021-04-14T00:00:00\",\"2021-04-15T00:00:00\",\"2021-04-16T00:00:00\",\"2021-04-19T00:00:00\",\"2021-04-20T00:00:00\",\"2021-04-21T00:00:00\",\"2021-04-22T00:00:00\",\"2021-04-23T00:00:00\",\"2021-04-26T00:00:00\",\"2021-04-27T00:00:00\",\"2021-04-28T00:00:00\",\"2021-04-29T00:00:00\",\"2021-04-30T00:00:00\",\"2021-05-03T00:00:00\",\"2021-05-04T00:00:00\",\"2021-05-05T00:00:00\",\"2021-05-06T00:00:00\",\"2021-05-07T00:00:00\",\"2021-05-10T00:00:00\",\"2021-05-11T00:00:00\",\"2021-05-12T00:00:00\",\"2021-05-13T00:00:00\",\"2021-05-14T00:00:00\",\"2021-05-17T00:00:00\",\"2021-05-18T00:00:00\",\"2021-05-19T00:00:00\",\"2021-05-20T00:00:00\",\"2021-05-21T00:00:00\",\"2021-05-24T00:00:00\",\"2021-05-25T00:00:00\",\"2021-05-26T00:00:00\",\"2021-05-27T00:00:00\",\"2021-05-28T00:00:00\",\"2021-05-31T00:00:00\",\"2021-06-01T00:00:00\",\"2021-06-02T00:00:00\",\"2021-06-03T00:00:00\",\"2021-06-04T00:00:00\",\"2021-06-07T00:00:00\",\"2021-06-08T00:00:00\",\"2021-06-09T00:00:00\",\"2021-06-10T00:00:00\",\"2021-06-11T00:00:00\",\"2021-06-14T00:00:00\",\"2021-06-15T00:00:00\",\"2021-06-16T00:00:00\",\"2021-06-17T00:00:00\",\"2021-06-18T00:00:00\",\"2021-06-21T00:00:00\",\"2021-06-22T00:00:00\",\"2021-06-23T00:00:00\",\"2021-06-24T00:00:00\",\"2021-06-25T00:00:00\",\"2021-06-28T00:00:00\",\"2021-06-29T00:00:00\",\"2021-06-30T00:00:00\",\"2021-07-01T00:00:00\",\"2021-07-02T00:00:00\",\"2021-07-05T00:00:00\",\"2021-07-06T00:00:00\",\"2021-07-07T00:00:00\",\"2021-07-08T00:00:00\",\"2021-07-09T00:00:00\",\"2021-07-12T00:00:00\",\"2021-07-13T00:00:00\",\"2021-07-14T00:00:00\",\"2021-07-15T00:00:00\",\"2021-07-16T00:00:00\",\"2021-07-19T00:00:00\",\"2021-07-20T00:00:00\",\"2021-07-21T00:00:00\",\"2021-07-22T00:00:00\",\"2021-07-23T00:00:00\",\"2021-07-26T00:00:00\",\"2021-07-27T00:00:00\",\"2021-07-28T00:00:00\",\"2021-07-29T00:00:00\",\"2021-07-30T00:00:00\",\"2021-08-02T00:00:00\",\"2021-08-03T00:00:00\",\"2021-08-04T00:00:00\",\"2021-08-05T00:00:00\",\"2021-08-06T00:00:00\",\"2021-08-09T00:00:00\",\"2021-08-10T00:00:00\",\"2021-08-11T00:00:00\",\"2021-08-12T00:00:00\",\"2021-08-13T00:00:00\",\"2021-08-16T00:00:00\",\"2021-08-17T00:00:00\",\"2021-08-18T00:00:00\",\"2021-08-19T00:00:00\",\"2021-08-20T00:00:00\",\"2021-08-23T00:00:00\",\"2021-08-24T00:00:00\",\"2021-08-25T00:00:00\",\"2021-08-26T00:00:00\",\"2021-08-27T00:00:00\",\"2021-08-30T00:00:00\",\"2021-08-31T00:00:00\",\"2021-09-01T00:00:00\",\"2021-09-02T00:00:00\",\"2021-09-03T00:00:00\",\"2021-09-06T00:00:00\",\"2021-09-07T00:00:00\",\"2021-09-08T00:00:00\",\"2021-09-09T00:00:00\",\"2021-09-10T00:00:00\",\"2021-09-13T00:00:00\",\"2021-09-14T00:00:00\",\"2021-09-15T00:00:00\",\"2021-09-16T00:00:00\",\"2021-09-17T00:00:00\",\"2021-09-20T00:00:00\",\"2021-09-21T00:00:00\",\"2021-09-22T00:00:00\",\"2021-09-23T00:00:00\",\"2021-09-24T00:00:00\",\"2021-09-27T00:00:00\",\"2021-09-28T00:00:00\",\"2021-09-29T00:00:00\",\"2021-09-30T00:00:00\",\"2021-10-01T00:00:00\",\"2021-10-04T00:00:00\",\"2021-10-05T00:00:00\",\"2021-10-06T00:00:00\",\"2021-10-07T00:00:00\",\"2021-10-08T00:00:00\",\"2021-10-11T00:00:00\",\"2021-10-12T00:00:00\",\"2021-10-13T00:00:00\",\"2021-10-14T00:00:00\",\"2021-10-15T00:00:00\",\"2021-10-18T00:00:00\",\"2021-10-19T00:00:00\",\"2021-10-20T00:00:00\",\"2021-10-21T00:00:00\",\"2021-10-22T00:00:00\",\"2021-10-25T00:00:00\",\"2021-10-26T00:00:00\",\"2021-10-27T00:00:00\",\"2021-10-28T00:00:00\",\"2021-10-29T00:00:00\",\"2021-11-01T00:00:00\",\"2021-11-02T00:00:00\",\"2021-11-03T00:00:00\",\"2021-11-04T00:00:00\",\"2021-11-05T00:00:00\",\"2021-11-08T00:00:00\",\"2021-11-09T00:00:00\",\"2021-11-10T00:00:00\",\"2021-11-11T00:00:00\",\"2021-11-12T00:00:00\",\"2021-11-15T00:00:00\",\"2021-11-16T00:00:00\",\"2021-11-17T00:00:00\",\"2021-11-18T00:00:00\",\"2021-11-19T00:00:00\",\"2021-11-22T00:00:00\",\"2021-11-23T00:00:00\",\"2021-11-24T00:00:00\",\"2021-11-25T00:00:00\",\"2021-11-26T00:00:00\",\"2021-11-29T00:00:00\",\"2021-11-30T00:00:00\",\"2021-12-01T00:00:00\",\"2021-12-02T00:00:00\",\"2021-12-03T00:00:00\",\"2021-12-06T00:00:00\",\"2021-12-07T00:00:00\",\"2021-12-08T00:00:00\",\"2021-12-09T00:00:00\",\"2021-12-10T00:00:00\",\"2021-12-13T00:00:00\",\"2021-12-14T00:00:00\",\"2021-12-15T00:00:00\",\"2021-12-16T00:00:00\",\"2021-12-17T00:00:00\",\"2021-12-20T00:00:00\",\"2021-12-21T00:00:00\",\"2021-12-22T00:00:00\",\"2021-12-23T00:00:00\",\"2021-12-24T00:00:00\",\"2021-12-27T00:00:00\",\"2021-12-28T00:00:00\",\"2021-12-29T00:00:00\",\"2021-12-30T00:00:00\",\"2021-12-31T00:00:00\",\"2022-01-03T00:00:00\",\"2022-01-04T00:00:00\",\"2022-01-05T00:00:00\",\"2022-01-06T00:00:00\",\"2022-01-07T00:00:00\",\"2022-01-10T00:00:00\",\"2022-01-11T00:00:00\",\"2022-01-12T00:00:00\",\"2022-01-13T00:00:00\",\"2022-01-14T00:00:00\",\"2022-01-17T00:00:00\",\"2022-01-18T00:00:00\",\"2022-01-19T00:00:00\",\"2022-01-20T00:00:00\",\"2022-01-21T00:00:00\",\"2022-01-24T00:00:00\",\"2022-01-25T00:00:00\",\"2022-01-26T00:00:00\",\"2022-01-27T00:00:00\",\"2022-01-28T00:00:00\",\"2022-01-31T00:00:00\",\"2022-02-01T00:00:00\",\"2022-02-02T00:00:00\",\"2022-02-03T00:00:00\",\"2022-02-04T00:00:00\",\"2022-02-07T00:00:00\",\"2022-02-08T00:00:00\",\"2022-02-09T00:00:00\",\"2022-02-10T00:00:00\",\"2022-02-11T00:00:00\",\"2022-02-14T00:00:00\",\"2022-02-15T00:00:00\",\"2022-02-16T00:00:00\",\"2022-02-17T00:00:00\",\"2022-02-18T00:00:00\",\"2022-02-21T00:00:00\",\"2022-02-22T00:00:00\",\"2022-02-23T00:00:00\",\"2022-02-24T00:00:00\",\"2022-02-25T00:00:00\",\"2022-02-28T00:00:00\",\"2022-03-01T00:00:00\",\"2022-03-02T00:00:00\",\"2022-03-03T00:00:00\",\"2022-03-04T00:00:00\",\"2022-03-07T00:00:00\",\"2022-03-08T00:00:00\",\"2022-03-09T00:00:00\",\"2022-03-10T00:00:00\",\"2022-03-11T00:00:00\",\"2022-03-14T00:00:00\",\"2022-03-15T00:00:00\",\"2022-03-16T00:00:00\",\"2022-03-17T00:00:00\",\"2022-03-18T00:00:00\",\"2022-03-21T00:00:00\",\"2022-03-22T00:00:00\",\"2022-03-23T00:00:00\",\"2022-03-24T00:00:00\",\"2022-03-25T00:00:00\",\"2022-03-28T00:00:00\",\"2022-03-29T00:00:00\",\"2022-03-30T00:00:00\",\"2022-03-31T00:00:00\",\"2022-04-01T00:00:00\",\"2022-04-04T00:00:00\",\"2022-04-05T00:00:00\",\"2022-04-06T00:00:00\",\"2022-04-07T00:00:00\",\"2022-04-08T00:00:00\",\"2022-04-11T00:00:00\",\"2022-04-12T00:00:00\",\"2022-04-13T00:00:00\",\"2022-04-14T00:00:00\",\"2022-04-19T00:00:00\",\"2022-04-20T00:00:00\",\"2022-04-21T00:00:00\",\"2022-04-22T00:00:00\",\"2022-04-25T00:00:00\",\"2022-04-26T00:00:00\",\"2022-04-27T00:00:00\",\"2022-04-28T00:00:00\",\"2022-04-29T00:00:00\",\"2022-05-02T00:00:00\",\"2022-05-03T00:00:00\",\"2022-05-04T00:00:00\",\"2022-05-05T00:00:00\",\"2022-05-06T00:00:00\",\"2022-05-09T00:00:00\",\"2022-05-10T00:00:00\",\"2022-05-11T00:00:00\",\"2022-05-12T00:00:00\",\"2022-05-13T00:00:00\",\"2022-05-16T00:00:00\",\"2022-05-17T00:00:00\",\"2022-05-18T00:00:00\",\"2022-05-19T00:00:00\",\"2022-05-20T00:00:00\",\"2022-05-23T00:00:00\",\"2022-05-24T00:00:00\",\"2022-05-25T00:00:00\",\"2022-05-26T00:00:00\",\"2022-05-27T00:00:00\",\"2022-05-30T00:00:00\",\"2022-05-31T00:00:00\",\"2022-06-01T00:00:00\",\"2022-06-02T00:00:00\",\"2022-06-03T00:00:00\",\"2022-06-06T00:00:00\",\"2022-06-07T00:00:00\",\"2022-06-08T00:00:00\",\"2022-06-09T00:00:00\",\"2022-06-10T00:00:00\",\"2022-06-13T00:00:00\",\"2022-06-14T00:00:00\",\"2022-06-15T00:00:00\",\"2022-06-16T00:00:00\",\"2022-06-17T00:00:00\",\"2022-06-20T00:00:00\",\"2022-06-21T00:00:00\",\"2022-06-22T00:00:00\",\"2022-06-23T00:00:00\",\"2022-06-24T00:00:00\",\"2022-06-27T00:00:00\",\"2022-06-28T00:00:00\",\"2022-06-29T00:00:00\",\"2022-06-30T00:00:00\",\"2022-07-01T00:00:00\",\"2022-07-04T00:00:00\",\"2022-07-05T00:00:00\",\"2022-07-06T00:00:00\",\"2022-07-07T00:00:00\",\"2022-07-08T00:00:00\",\"2022-07-11T00:00:00\",\"2022-07-12T00:00:00\",\"2022-07-13T00:00:00\",\"2022-07-14T00:00:00\",\"2022-07-15T00:00:00\",\"2022-07-18T00:00:00\",\"2022-07-19T00:00:00\",\"2022-07-20T00:00:00\",\"2022-07-21T00:00:00\",\"2022-07-22T00:00:00\",\"2022-07-25T00:00:00\",\"2022-07-26T00:00:00\",\"2022-07-27T00:00:00\",\"2022-07-28T00:00:00\",\"2022-07-29T00:00:00\",\"2022-08-01T00:00:00\",\"2022-08-02T00:00:00\",\"2022-08-03T00:00:00\",\"2022-08-04T00:00:00\",\"2022-08-05T00:00:00\",\"2022-08-08T00:00:00\",\"2022-08-09T00:00:00\",\"2022-08-10T00:00:00\",\"2022-08-11T00:00:00\",\"2022-08-12T00:00:00\",\"2022-08-15T00:00:00\",\"2022-08-16T00:00:00\",\"2022-08-17T00:00:00\",\"2022-08-18T00:00:00\",\"2022-08-19T00:00:00\",\"2022-08-22T00:00:00\",\"2022-08-23T00:00:00\",\"2022-08-24T00:00:00\",\"2022-08-25T00:00:00\",\"2022-08-26T00:00:00\",\"2022-08-29T00:00:00\",\"2022-08-30T00:00:00\",\"2022-08-31T00:00:00\",\"2022-09-01T00:00:00\",\"2022-09-02T00:00:00\",\"2022-09-05T00:00:00\",\"2022-09-06T00:00:00\",\"2022-09-07T00:00:00\",\"2022-09-08T00:00:00\",\"2022-09-09T00:00:00\",\"2022-09-12T00:00:00\",\"2022-09-13T00:00:00\",\"2022-09-14T00:00:00\",\"2022-09-15T00:00:00\",\"2022-09-16T00:00:00\",\"2022-09-19T00:00:00\",\"2022-09-20T00:00:00\",\"2022-09-21T00:00:00\",\"2022-09-22T00:00:00\",\"2022-09-23T00:00:00\",\"2022-09-26T00:00:00\",\"2022-09-27T00:00:00\",\"2022-09-28T00:00:00\",\"2022-09-29T00:00:00\",\"2022-09-30T00:00:00\",\"2022-10-03T00:00:00\",\"2022-10-04T00:00:00\",\"2022-10-05T00:00:00\",\"2022-10-06T00:00:00\",\"2022-10-07T00:00:00\",\"2022-10-10T00:00:00\",\"2022-10-11T00:00:00\",\"2022-10-12T00:00:00\",\"2022-10-13T00:00:00\",\"2022-10-14T00:00:00\",\"2022-10-17T00:00:00\",\"2022-10-18T00:00:00\",\"2022-10-19T00:00:00\",\"2022-10-20T00:00:00\",\"2022-10-21T00:00:00\"],\"y\":[7.385,7.1299,6.7162,6.6424,6.7282,6.9343,7.2903,7.3554,7.4724,7.4893,8.2196,8.7428,8.7795,8.4918,8.5986,8.8412,8.7522,8.8949,8.8312,8.9634,9.2629,9.6861,9.8231,9.8262,9.8806,9.7052,10.0642,10.271,10.4682,10.9225,10.8083,10.4836,10.5198,10.3914,10.2574,10.5473,10.6615,10.558,10.4942,10.415,9.9068,10.1408,10.3996,10.5438,10.4822,10.4435,10.399,10.3312,10.27,10.2617,10.645,10.6769,10.6619,10.5473,10.6685,10.6136,10.4726,10.2375,10.2469,10.0993,10.179,10.091,9.8975,9.5933,9.6586,9.4569,9.476,9.3975,9.5283,9.7527,9.9265,9.8927,10.1518,10.2466,10.1406,10.2482,10.6902,10.7981,11.1125,11.1532,11.2513,11.0684,11.2697,11.3824,11.389,11.6339,11.8533,11.6464,11.7831,11.9505,12.1976,12.099,12.0849,12.5383,12.3655,12.4429,12.1957,12.3118,12.1952,12.1721,12.198,12.4264,11.6525,12.0839,11.907,11.944,11.9933,12.244,12.1841,12.4313,12.3776,12.3917,12.497,12.4953,12.5137,12.5304,12.5227,12.56,12.5708,12.4931,12.4843,12.5441,12.284,11.4489,12.1298,12.1289,12.3842,12.5433,12.7404,12.8742,12.8679,12.8981,12.8673,12.9804,13.067,12.7358,13.2861,12.7825,12.6767,13.1429,11.9479,11.2349,12.473,12.1517,12.1682,12.4018,12.224,12.1513,11.9449,12.1193,12.3054,12.2302,12.4396,12.3685,12.2895,12.3646,12.4395,12.2628,12.1068,12.4001,12.3555,12.4534,12.4463,12.2846,12.4367,12.0271,11.7657,11.8757,11.777,11.8592,11.9515,11.846,11.9576,11.8079,11.9709,11.9053,11.9814,11.781,11.6737,11.4399,11.7404,11.6704,11.6399,11.7046,11.5578,11.559,11.1324,11.2612,11.5404,11.6206,11.6722,11.7689,11.7083,11.7508,11.8815,11.771,11.8131,11.7912,11.9195,11.8968,12.2054,12.2608,12.2037,12.3027,12.2603,12.2899,12.1834,11.9627,11.9114,11.7343,11.7218,11.9619,11.9866,12.1387,12.151,12.0703,12.0813,12.1792,12.3456,12.3272,12.1721,12.2177,12.2553,12.1156,12.0971,12.044,12.1127,11.9124,11.8489,11.9079,11.7242,11.2027,11.2469,11.5338,11.806,11.8835,12.2384,12.1319,12.0089,11.9487,11.7931,11.7843,12.3007,12.3834,12.7552,12.865,12.8661,12.6426,12.6062,12.6396,12.7933,12.8215,12.8448,12.8768,12.8453,12.9872,13.062,13.0484,12.961,12.9091,13.045,13.2219,13.1555,13.2326,13.1843,13.2747,13.2627,13.1348,12.9027,12.9392,12.7402,12.8027,12.7396,12.7731,12.67,12.4445,12.7012,12.6368,12.674,12.597,12.069,12.2291,12.0732,12.2876,12.2648,12.2427,12.3153,12.4787,12.401,12.3102,12.2452,12.1684,12.2353,12.1578,12.2511,11.9351,11.8583,12.137,12.2197,12.4479,12.4859,12.481,12.5455,12.5512,12.5829,12.5352,12.744,13.0207,13.1911,13.252,13.4315,13.6108,13.5433,13.7914,13.853,13.7347,13.7425,13.6287,13.5512,13.4682,13.2537,12.9462,13.0632,13.3567,13.4471,13.2074,13.2669,13.4787,13.579,13.6801,13.6048,13.6494,13.8735,13.9693,14.1476,13.9965,13.5343,13.633,13.4903,13.1712,13.0872,12.8837,12.7118,12.7382,11.8818,11.8668,11.4341,10.7614,10.6197,10.9146,10.2,9.6223,9.9107,10.5433,10.1114,9.9453,10.123,10.0386,10.7158,10.7922,11.1584,10.8877,11.0758,10.8653,10.6932,10.663,10.8162,11.2112,11.1551,10.9377,10.9523,10.8618,10.3922,10.0604,9.9619,9.8997,10.0105,9.893,9.8882,10.3266,10.0457,10.3793,10.5444,10.4868,10.452,10.3859,10.2274,10.2819,10.3614,10.1442,10.4566,10.4282,10.0472,9.9825,9.9285,10.0336,10.1257,9.9796,10.2594,10.2603,10.527,10.5055,10.3053,10.4654,10.6912,10.7147,10.8665,11.0908,10.8347,10.3506,10.3313,10.1951,10.1358,10.0528,10.178,10.0022,9.9645,9.8599,9.3191,8.8564,8.8471,9.0964,8.888,10.0931,9.1347,9.4237,9.2353,8.9238,9.1392,9.1233,9.1934,9.0087,8.7101,8.726,8.7504,8.4663,8.415,8.5379,8.7075,8.5477,8.4777,8.4131,8.1989,8.2497,8.4512,8.5902,8.7074,8.5987,8.5146,8.6445,8.5995,8.6615,8.7502,8.9675,8.954,8.9037,9.0854,9.5066,9.7296,9.8786,9.8923,9.9534,10.0388,10.0884,10.0234,10.0586,9.9432,9.7917,9.6007,9.3344,9.3798,9.3519,9.2958,9.1692,9.0648,9.2607,9.1995,9.0289,9.2455,9.0258,9.1116,9.0501,9.1833,9.4314,9.6963,9.7253,9.6547,9.6572,9.6703,9.3933,9.2955,9.1642,9.2408,8.9829,8.8672,8.7513,8.4072,8.2294,8.3424,8.4344,8.7514,8.5845,8.5297,8.4789,8.6118,8.3158,8.2258,8.3547,8.5616,8.6424,8.8316,8.8447,8.8959,8.8637],\"mode\":\"lines\",\"name\":\"Vwap\"},{\"type\":\"scattergl\",\"x\":[\"2020-10-26T00:00:00\",\"2020-10-27T00:00:00\",\"2020-10-28T00:00:00\",\"2020-10-29T00:00:00\",\"2020-10-30T00:00:00\",\"2020-11-02T00:00:00\",\"2020-11-03T00:00:00\",\"2020-11-04T00:00:00\",\"2020-11-05T00:00:00\",\"2020-11-06T00:00:00\",\"2020-11-09T00:00:00\",\"2020-11-10T00:00:00\",\"2020-11-11T00:00:00\",\"2020-11-12T00:00:00\",\"2020-11-13T00:00:00\",\"2020-11-16T00:00:00\",\"2020-11-17T00:00:00\",\"2020-11-18T00:00:00\",\"2020-11-19T00:00:00\",\"2020-11-20T00:00:00\",\"2020-11-23T00:00:00\",\"2020-11-24T00:00:00\",\"2020-11-25T00:00:00\",\"2020-11-26T00:00:00\",\"2020-11-27T00:00:00\",\"2020-11-30T00:00:00\",\"2020-12-01T00:00:00\",\"2020-12-02T00:00:00\",\"2020-12-03T00:00:00\",\"2020-12-04T00:00:00\",\"2020-12-07T00:00:00\",\"2020-12-08T00:00:00\",\"2020-12-09T00:00:00\",\"2020-12-10T00:00:00\",\"2020-12-11T00:00:00\",\"2020-12-14T00:00:00\",\"2020-12-15T00:00:00\",\"2020-12-16T00:00:00\",\"2020-12-17T00:00:00\",\"2020-12-18T00:00:00\",\"2020-12-21T00:00:00\",\"2020-12-22T00:00:00\",\"2020-12-23T00:00:00\",\"2020-12-24T00:00:00\",\"2020-12-28T00:00:00\",\"2020-12-29T00:00:00\",\"2020-12-30T00:00:00\",\"2020-12-31T00:00:00\",\"2021-01-04T00:00:00\",\"2021-01-05T00:00:00\",\"2021-01-06T00:00:00\",\"2021-01-07T00:00:00\",\"2021-01-08T00:00:00\",\"2021-01-11T00:00:00\",\"2021-01-12T00:00:00\",\"2021-01-13T00:00:00\",\"2021-01-14T00:00:00\",\"2021-01-15T00:00:00\",\"2021-01-18T00:00:00\",\"2021-01-19T00:00:00\",\"2021-01-20T00:00:00\",\"2021-01-21T00:00:00\",\"2021-01-22T00:00:00\",\"2021-01-25T00:00:00\",\"2021-01-26T00:00:00\",\"2021-01-27T00:00:00\",\"2021-01-28T00:00:00\",\"2021-01-29T00:00:00\",\"2021-02-01T00:00:00\",\"2021-02-02T00:00:00\",\"2021-02-03T00:00:00\",\"2021-02-04T00:00:00\",\"2021-02-05T00:00:00\",\"2021-02-08T00:00:00\",\"2021-02-09T00:00:00\",\"2021-02-10T00:00:00\",\"2021-02-11T00:00:00\",\"2021-02-12T00:00:00\",\"2021-02-15T00:00:00\",\"2021-02-16T00:00:00\",\"2021-02-17T00:00:00\",\"2021-02-18T00:00:00\",\"2021-02-19T00:00:00\",\"2021-02-22T00:00:00\",\"2021-02-23T00:00:00\",\"2021-02-24T00:00:00\",\"2021-02-25T00:00:00\",\"2021-02-26T00:00:00\",\"2021-03-01T00:00:00\",\"2021-03-02T00:00:00\",\"2021-03-03T00:00:00\",\"2021-03-04T00:00:00\",\"2021-03-05T00:00:00\",\"2021-03-08T00:00:00\",\"2021-03-09T00:00:00\",\"2021-03-10T00:00:00\",\"2021-03-11T00:00:00\",\"2021-03-12T00:00:00\",\"2021-03-15T00:00:00\",\"2021-03-16T00:00:00\",\"2021-03-17T00:00:00\",\"2021-03-18T00:00:00\",\"2021-03-19T00:00:00\",\"2021-03-22T00:00:00\",\"2021-03-23T00:00:00\",\"2021-03-24T00:00:00\",\"2021-03-25T00:00:00\",\"2021-03-26T00:00:00\",\"2021-03-29T00:00:00\",\"2021-03-30T00:00:00\",\"2021-03-31T00:00:00\",\"2021-04-01T00:00:00\",\"2021-04-06T00:00:00\",\"2021-04-07T00:00:00\",\"2021-04-08T00:00:00\",\"2021-04-09T00:00:00\",\"2021-04-12T00:00:00\",\"2021-04-13T00:00:00\",\"2021-04-14T00:00:00\",\"2021-04-15T00:00:00\",\"2021-04-16T00:00:00\",\"2021-04-19T00:00:00\",\"2021-04-20T00:00:00\",\"2021-04-21T00:00:00\",\"2021-04-22T00:00:00\",\"2021-04-23T00:00:00\",\"2021-04-26T00:00:00\",\"2021-04-27T00:00:00\",\"2021-04-28T00:00:00\",\"2021-04-29T00:00:00\",\"2021-04-30T00:00:00\",\"2021-05-03T00:00:00\",\"2021-05-04T00:00:00\",\"2021-05-05T00:00:00\",\"2021-05-06T00:00:00\",\"2021-05-07T00:00:00\",\"2021-05-10T00:00:00\",\"2021-05-11T00:00:00\",\"2021-05-12T00:00:00\",\"2021-05-13T00:00:00\",\"2021-05-14T00:00:00\",\"2021-05-17T00:00:00\",\"2021-05-18T00:00:00\",\"2021-05-19T00:00:00\",\"2021-05-20T00:00:00\",\"2021-05-21T00:00:00\",\"2021-05-24T00:00:00\",\"2021-05-25T00:00:00\",\"2021-05-26T00:00:00\",\"2021-05-27T00:00:00\",\"2021-05-28T00:00:00\",\"2021-05-31T00:00:00\",\"2021-06-01T00:00:00\",\"2021-06-02T00:00:00\",\"2021-06-03T00:00:00\",\"2021-06-04T00:00:00\",\"2021-06-07T00:00:00\",\"2021-06-08T00:00:00\",\"2021-06-09T00:00:00\",\"2021-06-10T00:00:00\",\"2021-06-11T00:00:00\",\"2021-06-14T00:00:00\",\"2021-06-15T00:00:00\",\"2021-06-16T00:00:00\",\"2021-06-17T00:00:00\",\"2021-06-18T00:00:00\",\"2021-06-21T00:00:00\",\"2021-06-22T00:00:00\",\"2021-06-23T00:00:00\",\"2021-06-24T00:00:00\",\"2021-06-25T00:00:00\",\"2021-06-28T00:00:00\",\"2021-06-29T00:00:00\",\"2021-06-30T00:00:00\",\"2021-07-01T00:00:00\",\"2021-07-02T00:00:00\",\"2021-07-05T00:00:00\",\"2021-07-06T00:00:00\",\"2021-07-07T00:00:00\",\"2021-07-08T00:00:00\",\"2021-07-09T00:00:00\",\"2021-07-12T00:00:00\",\"2021-07-13T00:00:00\",\"2021-07-14T00:00:00\",\"2021-07-15T00:00:00\",\"2021-07-16T00:00:00\",\"2021-07-19T00:00:00\",\"2021-07-20T00:00:00\",\"2021-07-21T00:00:00\",\"2021-07-22T00:00:00\",\"2021-07-23T00:00:00\",\"2021-07-26T00:00:00\",\"2021-07-27T00:00:00\",\"2021-07-28T00:00:00\",\"2021-07-29T00:00:00\",\"2021-07-30T00:00:00\",\"2021-08-02T00:00:00\",\"2021-08-03T00:00:00\",\"2021-08-04T00:00:00\",\"2021-08-05T00:00:00\",\"2021-08-06T00:00:00\",\"2021-08-09T00:00:00\",\"2021-08-10T00:00:00\",\"2021-08-11T00:00:00\",\"2021-08-12T00:00:00\",\"2021-08-13T00:00:00\",\"2021-08-16T00:00:00\",\"2021-08-17T00:00:00\",\"2021-08-18T00:00:00\",\"2021-08-19T00:00:00\",\"2021-08-20T00:00:00\",\"2021-08-23T00:00:00\",\"2021-08-24T00:00:00\",\"2021-08-25T00:00:00\",\"2021-08-26T00:00:00\",\"2021-08-27T00:00:00\",\"2021-08-30T00:00:00\",\"2021-08-31T00:00:00\",\"2021-09-01T00:00:00\",\"2021-09-02T00:00:00\",\"2021-09-03T00:00:00\",\"2021-09-06T00:00:00\",\"2021-09-07T00:00:00\",\"2021-09-08T00:00:00\",\"2021-09-09T00:00:00\",\"2021-09-10T00:00:00\",\"2021-09-13T00:00:00\",\"2021-09-14T00:00:00\",\"2021-09-15T00:00:00\",\"2021-09-16T00:00:00\",\"2021-09-17T00:00:00\",\"2021-09-20T00:00:00\",\"2021-09-21T00:00:00\",\"2021-09-22T00:00:00\",\"2021-09-23T00:00:00\",\"2021-09-24T00:00:00\",\"2021-09-27T00:00:00\",\"2021-09-28T00:00:00\",\"2021-09-29T00:00:00\",\"2021-09-30T00:00:00\",\"2021-10-01T00:00:00\",\"2021-10-04T00:00:00\",\"2021-10-05T00:00:00\",\"2021-10-06T00:00:00\",\"2021-10-07T00:00:00\",\"2021-10-08T00:00:00\",\"2021-10-11T00:00:00\",\"2021-10-12T00:00:00\",\"2021-10-13T00:00:00\",\"2021-10-14T00:00:00\",\"2021-10-15T00:00:00\",\"2021-10-18T00:00:00\",\"2021-10-19T00:00:00\",\"2021-10-20T00:00:00\",\"2021-10-21T00:00:00\",\"2021-10-22T00:00:00\",\"2021-10-25T00:00:00\",\"2021-10-26T00:00:00\",\"2021-10-27T00:00:00\",\"2021-10-28T00:00:00\",\"2021-10-29T00:00:00\",\"2021-11-01T00:00:00\",\"2021-11-02T00:00:00\",\"2021-11-03T00:00:00\",\"2021-11-04T00:00:00\",\"2021-11-05T00:00:00\",\"2021-11-08T00:00:00\",\"2021-11-09T00:00:00\",\"2021-11-10T00:00:00\",\"2021-11-11T00:00:00\",\"2021-11-12T00:00:00\",\"2021-11-15T00:00:00\",\"2021-11-16T00:00:00\",\"2021-11-17T00:00:00\",\"2021-11-18T00:00:00\",\"2021-11-19T00:00:00\",\"2021-11-22T00:00:00\",\"2021-11-23T00:00:00\",\"2021-11-24T00:00:00\",\"2021-11-25T00:00:00\",\"2021-11-26T00:00:00\",\"2021-11-29T00:00:00\",\"2021-11-30T00:00:00\",\"2021-12-01T00:00:00\",\"2021-12-02T00:00:00\",\"2021-12-03T00:00:00\",\"2021-12-06T00:00:00\",\"2021-12-07T00:00:00\",\"2021-12-08T00:00:00\",\"2021-12-09T00:00:00\",\"2021-12-10T00:00:00\",\"2021-12-13T00:00:00\",\"2021-12-14T00:00:00\",\"2021-12-15T00:00:00\",\"2021-12-16T00:00:00\",\"2021-12-17T00:00:00\",\"2021-12-20T00:00:00\",\"2021-12-21T00:00:00\",\"2021-12-22T00:00:00\",\"2021-12-23T00:00:00\",\"2021-12-24T00:00:00\",\"2021-12-27T00:00:00\",\"2021-12-28T00:00:00\",\"2021-12-29T00:00:00\",\"2021-12-30T00:00:00\",\"2021-12-31T00:00:00\",\"2022-01-03T00:00:00\",\"2022-01-04T00:00:00\",\"2022-01-05T00:00:00\",\"2022-01-06T00:00:00\",\"2022-01-07T00:00:00\",\"2022-01-10T00:00:00\",\"2022-01-11T00:00:00\",\"2022-01-12T00:00:00\",\"2022-01-13T00:00:00\",\"2022-01-14T00:00:00\",\"2022-01-17T00:00:00\",\"2022-01-18T00:00:00\",\"2022-01-19T00:00:00\",\"2022-01-20T00:00:00\",\"2022-01-21T00:00:00\",\"2022-01-24T00:00:00\",\"2022-01-25T00:00:00\",\"2022-01-26T00:00:00\",\"2022-01-27T00:00:00\",\"2022-01-28T00:00:00\",\"2022-01-31T00:00:00\",\"2022-02-01T00:00:00\",\"2022-02-02T00:00:00\",\"2022-02-03T00:00:00\",\"2022-02-04T00:00:00\",\"2022-02-07T00:00:00\",\"2022-02-08T00:00:00\",\"2022-02-09T00:00:00\",\"2022-02-10T00:00:00\",\"2022-02-11T00:00:00\",\"2022-02-14T00:00:00\",\"2022-02-15T00:00:00\",\"2022-02-16T00:00:00\",\"2022-02-17T00:00:00\",\"2022-02-18T00:00:00\",\"2022-02-21T00:00:00\",\"2022-02-22T00:00:00\",\"2022-02-23T00:00:00\",\"2022-02-24T00:00:00\",\"2022-02-25T00:00:00\",\"2022-02-28T00:00:00\",\"2022-03-01T00:00:00\",\"2022-03-02T00:00:00\",\"2022-03-03T00:00:00\",\"2022-03-04T00:00:00\",\"2022-03-07T00:00:00\",\"2022-03-08T00:00:00\",\"2022-03-09T00:00:00\",\"2022-03-10T00:00:00\",\"2022-03-11T00:00:00\",\"2022-03-14T00:00:00\",\"2022-03-15T00:00:00\",\"2022-03-16T00:00:00\",\"2022-03-17T00:00:00\",\"2022-03-18T00:00:00\",\"2022-03-21T00:00:00\",\"2022-03-22T00:00:00\",\"2022-03-23T00:00:00\",\"2022-03-24T00:00:00\",\"2022-03-25T00:00:00\",\"2022-03-28T00:00:00\",\"2022-03-29T00:00:00\",\"2022-03-30T00:00:00\",\"2022-03-31T00:00:00\",\"2022-04-01T00:00:00\",\"2022-04-04T00:00:00\",\"2022-04-05T00:00:00\",\"2022-04-06T00:00:00\",\"2022-04-07T00:00:00\",\"2022-04-08T00:00:00\",\"2022-04-11T00:00:00\",\"2022-04-12T00:00:00\",\"2022-04-13T00:00:00\",\"2022-04-14T00:00:00\",\"2022-04-19T00:00:00\",\"2022-04-20T00:00:00\",\"2022-04-21T00:00:00\",\"2022-04-22T00:00:00\",\"2022-04-25T00:00:00\",\"2022-04-26T00:00:00\",\"2022-04-27T00:00:00\",\"2022-04-28T00:00:00\",\"2022-04-29T00:00:00\",\"2022-05-02T00:00:00\",\"2022-05-03T00:00:00\",\"2022-05-04T00:00:00\",\"2022-05-05T00:00:00\",\"2022-05-06T00:00:00\",\"2022-05-09T00:00:00\",\"2022-05-10T00:00:00\",\"2022-05-11T00:00:00\",\"2022-05-12T00:00:00\",\"2022-05-13T00:00:00\",\"2022-05-16T00:00:00\",\"2022-05-17T00:00:00\",\"2022-05-18T00:00:00\",\"2022-05-19T00:00:00\",\"2022-05-20T00:00:00\",\"2022-05-23T00:00:00\",\"2022-05-24T00:00:00\",\"2022-05-25T00:00:00\",\"2022-05-26T00:00:00\",\"2022-05-27T00:00:00\",\"2022-05-30T00:00:00\",\"2022-05-31T00:00:00\",\"2022-06-01T00:00:00\",\"2022-06-02T00:00:00\",\"2022-06-03T00:00:00\",\"2022-06-06T00:00:00\",\"2022-06-07T00:00:00\",\"2022-06-08T00:00:00\",\"2022-06-09T00:00:00\",\"2022-06-10T00:00:00\",\"2022-06-13T00:00:00\",\"2022-06-14T00:00:00\",\"2022-06-15T00:00:00\",\"2022-06-16T00:00:00\",\"2022-06-17T00:00:00\",\"2022-06-20T00:00:00\",\"2022-06-21T00:00:00\",\"2022-06-22T00:00:00\",\"2022-06-23T00:00:00\",\"2022-06-24T00:00:00\",\"2022-06-27T00:00:00\",\"2022-06-28T00:00:00\",\"2022-06-29T00:00:00\",\"2022-06-30T00:00:00\",\"2022-07-01T00:00:00\",\"2022-07-04T00:00:00\",\"2022-07-05T00:00:00\",\"2022-07-06T00:00:00\",\"2022-07-07T00:00:00\",\"2022-07-08T00:00:00\",\"2022-07-11T00:00:00\",\"2022-07-12T00:00:00\",\"2022-07-13T00:00:00\",\"2022-07-14T00:00:00\",\"2022-07-15T00:00:00\",\"2022-07-18T00:00:00\",\"2022-07-19T00:00:00\",\"2022-07-20T00:00:00\",\"2022-07-21T00:00:00\",\"2022-07-22T00:00:00\",\"2022-07-25T00:00:00\",\"2022-07-26T00:00:00\",\"2022-07-27T00:00:00\",\"2022-07-28T00:00:00\",\"2022-07-29T00:00:00\",\"2022-08-01T00:00:00\",\"2022-08-02T00:00:00\",\"2022-08-03T00:00:00\",\"2022-08-04T00:00:00\",\"2022-08-05T00:00:00\",\"2022-08-08T00:00:00\",\"2022-08-09T00:00:00\",\"2022-08-10T00:00:00\",\"2022-08-11T00:00:00\",\"2022-08-12T00:00:00\",\"2022-08-15T00:00:00\",\"2022-08-16T00:00:00\",\"2022-08-17T00:00:00\",\"2022-08-18T00:00:00\",\"2022-08-19T00:00:00\",\"2022-08-22T00:00:00\",\"2022-08-23T00:00:00\",\"2022-08-24T00:00:00\",\"2022-08-25T00:00:00\",\"2022-08-26T00:00:00\",\"2022-08-29T00:00:00\",\"2022-08-30T00:00:00\",\"2022-08-31T00:00:00\",\"2022-09-01T00:00:00\",\"2022-09-02T00:00:00\",\"2022-09-05T00:00:00\",\"2022-09-06T00:00:00\",\"2022-09-07T00:00:00\",\"2022-09-08T00:00:00\",\"2022-09-09T00:00:00\",\"2022-09-12T00:00:00\",\"2022-09-13T00:00:00\",\"2022-09-14T00:00:00\",\"2022-09-15T00:00:00\",\"2022-09-16T00:00:00\",\"2022-09-19T00:00:00\",\"2022-09-20T00:00:00\",\"2022-09-21T00:00:00\",\"2022-09-22T00:00:00\",\"2022-09-23T00:00:00\",\"2022-09-26T00:00:00\",\"2022-09-27T00:00:00\",\"2022-09-28T00:00:00\",\"2022-09-29T00:00:00\",\"2022-09-30T00:00:00\",\"2022-10-03T00:00:00\",\"2022-10-04T00:00:00\",\"2022-10-05T00:00:00\",\"2022-10-06T00:00:00\",\"2022-10-07T00:00:00\",\"2022-10-10T00:00:00\",\"2022-10-11T00:00:00\",\"2022-10-12T00:00:00\",\"2022-10-13T00:00:00\",\"2022-10-14T00:00:00\",\"2022-10-17T00:00:00\",\"2022-10-18T00:00:00\",\"2022-10-19T00:00:00\",\"2022-10-20T00:00:00\",\"2022-10-21T00:00:00\"],\"y\":[5742545.0,7725116.0,11676944.0,8725304.0,6559964.0,5612951.0,12646540.0,7999349.0,7188295.0,6323426.0,19934709.0,19264718.0,8502072.0,8483692.0,10049235.0,12781132.0,8032282.0,7221409.0,6998034.0,7467662.0,11905295.0,12483962.0,10033624.0,5180133.0,4981468.0,9394905.0,11089881.0,7725943.0,10885144.0,16372534.0,12565304.0,9485082.0,6508126.0,7929060.0,7230892.0,7641567.0,6607022.0,6065612.0,4232976.0,15253241.0,8045814.0,3667545.0,4276711.0,1233419.0,2181426.0,2182368.0,1732765.0,946658.0,4117439.0,3519426.0,7687827.0,6240088.0,4542555.0,3971126.0,4244430.0,2850076.0,6642989.0,6755887.0,3691499.0,5250926.0,3885627.0,4516395.0,6690317.0,8198021.0,5039103.0,6272917.0,5739909.0,5555099.0,4016572.0,5459591.0,5196763.0,5486209.0,6299286.0,4496577.0,3502396.0,4810550.0,10334538.0,8015822.0,6426088.0,4458153.0,7099996.0,4914085.0,6087384.0,5358893.0,5438566.0,6010470.0,6001904.0,8096478.0,4535506.0,4915968.0,6925836.0,5207706.0,6628515.0,7462369.0,6749023.0,4787716.0,6110204.0,3157384.0,4017702.0,5597902.0,5049608.0,5407292.0,10659284.0,4954036.0,3840905.0,4585774.0,3805523.0,4847944.0,4566466.0,4767459.0,4747715.0,4647877.0,4387584.0,3762452.0,4794443.0,3736365.0,3848008.0,3984271.0,3248519.0,4381958.0,5678361.0,3764324.0,7148967.0,5772349.0,2881778.0,2807147.0,5871406.0,4320724.0,4678823.0,5417143.0,5153704.0,3097861.0,6011958.0,3376993.0,5708081.0,8062219.0,8060924.0,7520853.0,7016267.0,6105588.0,7034493.0,11850975.0,7090977.0,8868513.0,4848451.0,5917354.0,3206548.0,5457137.0,5853628.0,9782515.0,6460043.0,3429683.0,5972634.0,4104587.0,5829727.0,5669860.0,5015939.0,7289748.0,5502747.0,12771182.0,6315072.0,5279276.0,5787954.0,5840864.0,7223843.0,21094436.0,7182645.0,7310185.0,6591622.0,6617629.0,5712663.0,5131372.0,5799383.0,6779400.0,6507446.0,5584710.0,6177694.0,7089098.0,7644801.0,10061576.0,8501425.0,4418472.0,5595159.0,4316566.0,5066843.0,6203142.0,9768843.0,8318860.0,8166699.0,3387736.0,3515365.0,4485465.0,3400246.0,2920765.0,3803421.0,5661170.0,3782791.0,4201724.0,5415397.0,7764028.0,7507183.0,3772786.0,3372862.0,3551535.0,3443071.0,4174716.0,3342208.0,5674837.0,2425258.0,6644247.0,4843649.0,4181998.0,3429080.0,4240053.0,2790679.0,2475053.0,1979196.0,4875520.0,5007496.0,2892086.0,4298952.0,2640379.0,3058927.0,3535461.0,4962354.0,4504688.0,3914400.0,6720836.0,6041860.0,5367704.0,14946504.0,11576542.0,5989906.0,5328566.0,5416478.0,5437910.0,6887995.0,8335571.0,5789978.0,6834492.0,6580733.0,3415896.0,8911327.0,8658759.0,9707831.0,6141614.0,4717085.0,5429615.0,6085667.0,5816422.0,5972511.0,4226575.0,3986799.0,3438823.0,4540185.0,4986927.0,3405584.0,4345164.0,4915246.0,5286797.0,4720196.0,4528393.0,4768852.0,4102711.0,5999098.0,5744961.0,4231165.0,6461156.0,8424097.0,5523934.0,7374230.0,5438901.0,5066861.0,4805317.0,6003645.0,9173546.0,7574237.0,3664381.0,3690811.0,3703872.0,11809953.0,8130837.0,13540828.0,8506776.0,5216915.0,4482383.0,4274612.0,4684771.0,4853637.0,3783105.0,3441860.0,5404902.0,7040227.0,4292073.0,6705389.0,10050594.0,5484413.0,4339200.0,2410456.0,3753604.0,643945.0,2111059.0,2384501.0,2284502.0,1751873.0,1293312.0,4846202.0,6062208.0,6300320.0,7442277.0,8210181.0,6403245.0,4447851.0,6882544.0,5653992.0,7000816.0,4331927.0,5913413.0,5865550.0,3958223.0,7501283.0,8881109.0,5362979.0,6205467.0,5154259.0,6194981.0,4089127.0,4402737.0,5471526.0,5515845.0,7826782.0,5156599.0,6608503.0,5158235.0,7342064.0,6322995.0,9771279.0,6084731.0,6958232.0,7776219.0,5892217.0,6743933.0,9132948.0,5656562.0,20011419.0,14035635.0,14160219.0,18873478.0,15921624.0,14911012.0,21204265.0,55409328.0,15031019.0,17394965.0,22582800.0,15586100.0,12436498.0,9744267.0,14328755.0,8834152.0,20587619.0,7718471.0,6698526.0,6394919.0,7431367.0,5860178.0,7444891.0,10283790.0,7221399.0,6834991.0,4057295.0,4944209.0,12861114.0,10381340.0,10729335.0,14056365.0,8919309.0,8462172.0,8312344.0,11967116.0,5947080.0,8887367.0,7176650.0,8313543.0,10391113.0,8571662.0,7003512.0,5925201.0,7809817.0,8243273.0,8554348.0,6671245.0,16018483.0,9544969.0,7044642.0,6905548.0,7930458.0,8630986.0,5541611.0,4907163.0,7117735.0,6688020.0,6109468.0,7250222.0,8169941.0,6200397.0,8936221.0,8691848.0,12922093.0,11180812.0,12355578.0,8190527.0,3997717.0,4280758.0,5038342.0,7103159.0,6889033.0,8262559.0,14718858.0,11657161.0,6972076.0,7998931.0,7333998.0,28797865.0,6400990.0,7629402.0,7918067.0,11753630.0,8164814.0,6050698.0,4443911.0,5827006.0,11517728.0,4773112.0,4321325.0,11042113.0,7655100.0,7426242.0,7331377.0,6261321.0,6946079.0,6790619.0,7166283.0,6518572.0,5680305.0,7414123.0,7693695.0,11059868.0,6862611.0,5732414.0,3831105.0,4284215.0,6209848.0,7622925.0,5300162.0,4797079.0,8243013.0,15126842.0,10310451.0,6173819.0,4863017.0,5790045.0,4271953.0,4581754.0,3976544.0,3680340.0,6280795.0,5689858.0,8280201.0,7322552.0,3808815.0,5195140.0,4160966.0,5922417.0,4363141.0,6613074.0,8980823.0,7848262.0,9299231.0,8378516.0,4743429.0,4882274.0,8170325.0,9687036.0,9815597.0,7386690.0,6076284.0,7638427.0,17891849.0,3738857.0,8186895.0,7103607.0,6167788.0,9291474.0,7423406.0,12294671.0,15160580.0,11022028.0,9447484.0,8405141.0,8122551.0,7145784.0,4439859.0,4490097.0,4681343.0,6192153.0,5085349.0,8969793.0,7912979.0,6230686.0,6642104.0,6719994.0,5207844.0,5701006.0],\"mode\":\"bar\",\"yaxis\":\"y2\",\"name\":\"Volume\"}];\n",
       "           var layout = {\"title\":\"Vwap & Volume for ACA\",\"xaxis\":{\"title\":\"Time\",\"_isSubplotObj\":true},\"yaxis\":{\"title\":\"Price\",\"autorange\":true,\"side\":\"left\",\"_isSubplotObj\":true},\"yaxis2\":{\"title\":\"Volume\",\"autorange\":true,\"side\":\"right\",\"_isSubplotObj\":true}};\n",
       "           Plotly.newPlot('be07fe2b-3728-4c8a-b867-98ae8855ec8b', data, layout);\n",
       "        \n",
       "});\n",
       "};\n",
       "// ensure `require` is available globally\n",
       "if ((typeof(require) !==  typeof(Function)) || (typeof(require.config) !== typeof(Function))) {\n",
       "    let require_script = document.createElement('script');\n",
       "    require_script.setAttribute('src', 'https://cdnjs.cloudflare.com/ajax/libs/require.js/2.3.6/require.min.js');\n",
       "    require_script.setAttribute('type', 'text/javascript');\n",
       "    \n",
       "    \n",
       "    require_script.onload = function() {\n",
       "        renderPlotly();\n",
       "    };\n",
       "\n",
       "    document.getElementsByTagName('head')[0].appendChild(require_script);\n",
       "}\n",
       "else {\n",
       "    renderPlotly();\n",
       "}\n",
       "\n",
       "</script>\n"
      ]
     },
     "metadata": {},
     "output_type": "display_data"
    }
   ],
   "source": [
    "// Create the graph\n",
    "var vwapGraph = new List<Scattergl>\n",
    "{\n",
    "    new Scattergl\n",
    "    {\n",
    "        name = \"Vwap\",\n",
    "        mode = \"lines\",\n",
    "        x = vwaps.Select(c => c.Item1),\n",
    "        y = vwaps.Select(c => c.Item2)\n",
    "    },\n",
    "    new Scattergl\n",
    "    {\n",
    "        name = \"Volume\",\n",
    "        mode = \"bar\",\n",
    "        x = volumes.Select(v => v.Item1),\n",
    "        y = volumes.Select(v => v.Item2),\n",
    "        yaxis = \"y2\"\n",
    "    } \n",
    "};\n",
    "\n",
    "\n",
    "var layout = new Layout.Layout{ \n",
    "    title = $\"Vwap & Volume for {ticker}\",\n",
    "    yaxis = new Yaxis {\n",
    "        title = \"Price\", \n",
    "        autorange = true,\n",
    "        side = \"left\",\n",
    "    },\n",
    "    yaxis2 = new Yaxis {\n",
    "        title = \"Volume\", \n",
    "        autorange = true,\n",
    "        side = \"right\",  \n",
    "    },\n",
    "};\n",
    "\n",
    "var chart = Chart.Plot(vwapGraph, layout);\n",
    "chart.WithXTitle($\"Time\");\n",
    "chart.Width = 1500;\n",
    "chart.Height = 800;\n",
    "display(chart);"
   ]
  }
 ],
 "metadata": {
  "kernelspec": {
   "display_name": ".NET (C#)",
   "language": "C#",
   "name": ".net-csharp"
  },
  "language_info": {
   "file_extension": ".cs",
   "mimetype": "text/x-csharp",
   "name": "C#",
   "pygments_lexer": "csharp",
   "version": "10.0"
  }
 },
 "nbformat": 4,
 "nbformat_minor": 4
}
