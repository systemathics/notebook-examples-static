{
 "cells": [
  {
   "cell_type": "markdown",
   "metadata": {},
   "source": [
    "# Export trades ticks and immediately preceding book ticks using dedicated service - C#\n",
    "\n",
    "### Overview\n",
    "Here we want to extract trade ticks and also know about the state of the book immediately before each trade.\n",
    "\n",
    "This sample is designed to request simultaneously trades and top of the book and illustrate market activity over a look back period.\n",
    "\n",
    "### Inputs/outputs\n",
    "Extraction sample requires instrument's identifier, date time intervals as per inputs and returns top fo the book the occured trades data points.\n",
    "\n",
    "### Services used\n",
    "This sample uses *gRPC requests* in order to retrieve trades and top of the book from the hosted service. The queried endpoint in this script are:\n",
    "* *TickTradesAndBookService*: to directly retrieve trades and top of the book tick data from the server.\n",
    "\n",
    "### Packages required\n",
    "1. Systemathics packages:\n",
    "    * *Systemathics.Apis.Type.Shared.V1*\n",
    "    * *Systemathics.Apis.Services.Tick.V1*\n",
    "2. Open source packages\n",
    "    * *Google.Protobuf.WellKnownTypes*\n",
    "    * *Google.Type*\n",
    "    * *Grpc.Net.Client*\n",
    "    * *Grpc.Core*\n",
    "    \n",
    "***"
   ]
  },
  {
   "cell_type": "markdown",
   "metadata": {},
   "source": [
    "### Step 1: Install packages"
   ]
  },
  {
   "cell_type": "code",
   "execution_count": 1,
   "metadata": {
    "dotnet_interactive": {
     "language": "csharp"
    },
    "execution": {
     "iopub.execute_input": "2022-10-25T16:19:59.216540Z",
     "iopub.status.busy": "2022-10-25T16:19:59.196694Z",
     "iopub.status.idle": "2022-10-25T16:20:03.226721Z",
     "shell.execute_reply": "2022-10-25T16:20:03.218202Z"
    },
    "vscode": {
     "languageId": "dotnet-interactive.csharp"
    }
   },
   "outputs": [
    {
     "data": {
      "text/html": [
       "\n",
       "<div>\n",
       "    <div id='dotnet-interactive-this-cell-20936.Microsoft.DotNet.Interactive.Http.HttpPort' style='display: none'>\n",
       "        The below script needs to be able to find the current output cell; this is an easy method to get it.\n",
       "    </div>\n",
       "    <script type='text/javascript'>\n",
       "async function probeAddresses(probingAddresses) {\n",
       "    function timeout(ms, promise) {\n",
       "        return new Promise(function (resolve, reject) {\n",
       "            setTimeout(function () {\n",
       "                reject(new Error('timeout'))\n",
       "            }, ms)\n",
       "            promise.then(resolve, reject)\n",
       "        })\n",
       "    }\n",
       "\n",
       "    if (Array.isArray(probingAddresses)) {\n",
       "        for (let i = 0; i < probingAddresses.length; i++) {\n",
       "\n",
       "            let rootUrl = probingAddresses[i];\n",
       "\n",
       "            if (!rootUrl.endsWith('/')) {\n",
       "                rootUrl = `${rootUrl}/`;\n",
       "            }\n",
       "\n",
       "            try {\n",
       "                let response = await timeout(1000, fetch(`${rootUrl}discovery`, {\n",
       "                    method: 'POST',\n",
       "                    cache: 'no-cache',\n",
       "                    mode: 'cors',\n",
       "                    timeout: 1000,\n",
       "                    headers: {\n",
       "                        'Content-Type': 'text/plain'\n",
       "                    },\n",
       "                    body: probingAddresses[i]\n",
       "                }));\n",
       "\n",
       "                if (response.status == 200) {\n",
       "                    return rootUrl;\n",
       "                }\n",
       "            }\n",
       "            catch (e) { }\n",
       "        }\n",
       "    }\n",
       "}\n",
       "\n",
       "function loadDotnetInteractiveApi() {\n",
       "    probeAddresses([\"http://172.28.169.63:2826/\", \"http://127.0.0.1:2826/\"])\n",
       "        .then((root) => {\n",
       "        // use probing to find host url and api resources\n",
       "        // load interactive helpers and language services\n",
       "        let dotnetInteractiveRequire = require.config({\n",
       "        context: '20936.Microsoft.DotNet.Interactive.Http.HttpPort',\n",
       "                paths:\n",
       "            {\n",
       "                'dotnet-interactive': `${root}resources`\n",
       "                }\n",
       "        }) || require;\n",
       "\n",
       "            window.dotnetInteractiveRequire = dotnetInteractiveRequire;\n",
       "\n",
       "            window.configureRequireFromExtension = function(extensionName, extensionCacheBuster) {\n",
       "                let paths = {};\n",
       "                paths[extensionName] = `${root}extensions/${extensionName}/resources/`;\n",
       "                \n",
       "                let internalRequire = require.config({\n",
       "                    context: extensionCacheBuster,\n",
       "                    paths: paths,\n",
       "                    urlArgs: `cacheBuster=${extensionCacheBuster}`\n",
       "                    }) || require;\n",
       "\n",
       "                return internalRequire\n",
       "            };\n",
       "        \n",
       "            dotnetInteractiveRequire([\n",
       "                    'dotnet-interactive/dotnet-interactive'\n",
       "                ],\n",
       "                function (dotnet) {\n",
       "                    dotnet.init(window);\n",
       "                },\n",
       "                function (error) {\n",
       "                    console.log(error);\n",
       "                }\n",
       "            );\n",
       "        })\n",
       "        .catch(error => {console.log(error);});\n",
       "    }\n",
       "\n",
       "// ensure `require` is available globally\n",
       "if ((typeof(require) !==  typeof(Function)) || (typeof(require.config) !== typeof(Function))) {\n",
       "    let require_script = document.createElement('script');\n",
       "    require_script.setAttribute('src', 'https://cdnjs.cloudflare.com/ajax/libs/require.js/2.3.6/require.min.js');\n",
       "    require_script.setAttribute('type', 'text/javascript');\n",
       "    \n",
       "    \n",
       "    require_script.onload = function() {\n",
       "        loadDotnetInteractiveApi();\n",
       "    };\n",
       "\n",
       "    document.getElementsByTagName('head')[0].appendChild(require_script);\n",
       "}\n",
       "else {\n",
       "    loadDotnetInteractiveApi();\n",
       "}\n",
       "\n",
       "    </script>\n",
       "</div>"
      ]
     },
     "metadata": {},
     "output_type": "display_data"
    },
    {
     "data": {
      "text/html": [
       "<div><div><strong>Restore sources</strong><ul><li><span> file://~/.nuget/packages/</span></li><li><span> https://api.nuget.org/v3/index.json</span></li></ul></div><div></div><div><strong>Installed Packages</strong><ul><li><span>Systemathics.Apis, 0.13.2-pre</span></li></ul></div></div>"
      ]
     },
     "metadata": {},
     "output_type": "display_data"
    }
   ],
   "source": [
    "#i \"nuget: file://~/.nuget/packages/\"\n",
    "#i \"nuget: https://api.nuget.org/v3/index.json\"\n",
    "#r \"nuget: Systemathics.Apis, 0.*-pre*\"\n"
   ]
  },
  {
   "cell_type": "code",
   "execution_count": 2,
   "metadata": {
    "dotnet_interactive": {
     "language": "csharp"
    },
    "execution": {
     "iopub.execute_input": "2022-10-25T16:20:03.229200Z",
     "iopub.status.busy": "2022-10-25T16:20:03.228795Z",
     "iopub.status.idle": "2022-10-25T16:20:03.274983Z",
     "shell.execute_reply": "2022-10-25T16:20:03.274716Z"
    },
    "vscode": {
     "languageId": "dotnet-interactive.csharp"
    }
   },
   "outputs": [],
   "source": [
    "using Systemathics.Apis.Helpers;\n",
    "using Systemathics.Apis.Type.Shared.V1;\n",
    "using Google.Protobuf.WellKnownTypes;\n",
    "using Google.Type;\n",
    "using Grpc.Net.Client;\n",
    "using Grpc.Core;\n",
    "\n",
    "using TickTradesAndBookService = Systemathics.Apis.Services.Tick.V1.TickTradesAndBookService;\n",
    "using TickTradesAndBookRequest = Systemathics.Apis.Services.Tick.V1.TickTradesAndBookRequest;\n",
    "using TickTradesAndBookResponse = Systemathics.Apis.Services.Tick.V1.TickTradesAndBookResponse;\n",
    "using Trade = Systemathics.Apis.Type.Shared.V1.Trade;\n",
    "using Book = Systemathics.Apis.Type.Shared.V1.Book;\n",
    "using BookUpdates = Systemathics.Apis.Type.Shared.V1.BookUpdates;"
   ]
  },
  {
   "cell_type": "markdown",
   "metadata": {},
   "source": [
    "### Step 2: Prepare API requests\n",
    "The following code snippets retrieve authentication token and prepare the API request by: opening the *channel* and adding the *token* to the request header:"
   ]
  },
  {
   "cell_type": "code",
   "execution_count": 3,
   "metadata": {
    "dotnet_interactive": {
     "language": "csharp"
    },
    "execution": {
     "iopub.execute_input": "2022-10-25T16:20:03.277285Z",
     "iopub.status.busy": "2022-10-25T16:20:03.276755Z",
     "iopub.status.idle": "2022-10-25T16:20:04.380207Z",
     "shell.execute_reply": "2022-10-25T16:20:04.379937Z"
    },
    "vscode": {
     "languageId": "dotnet-interactive.csharp"
    }
   },
   "outputs": [],
   "source": [
    "// Get token as metadata\n",
    "var headers = new Grpc.Core.Metadata();\n",
    "try { headers = TokenHelpers.GetTokenAsMetaData(); } catch {}\n",
    "\n",
    "// Create communication channel\n",
    "var channel = ChannelHelpers.GetChannel();"
   ]
  },
  {
   "cell_type": "markdown",
   "metadata": {},
   "source": [
    "### Step 3: Retrieve data\n",
    "To request *tick trades and book* service, we need to specify:\n",
    "* Instrument identifier : the ticker and the exchange code (MIC) define a unique instrument\n",
    "* Time period selection: select start and end dates and time intervals (Using UTC Time Zone)"
   ]
  },
  {
   "cell_type": "markdown",
   "metadata": {},
   "source": [
    "#### 3.1 Instrument selection"
   ]
  },
  {
   "cell_type": "code",
   "execution_count": 4,
   "metadata": {
    "dotnet_interactive": {
     "language": "csharp"
    },
    "execution": {
     "iopub.execute_input": "2022-10-25T16:20:04.382300Z",
     "iopub.status.busy": "2022-10-25T16:20:04.381981Z",
     "iopub.status.idle": "2022-10-25T16:20:04.419494Z",
     "shell.execute_reply": "2022-10-25T16:20:04.419174Z"
    },
    "vscode": {
     "languageId": "dotnet-interactive.csharp"
    }
   },
   "outputs": [],
   "source": [
    "var ticker = \"AAPL\";\n",
    "var exchange = \"BATS\";"
   ]
  },
  {
   "cell_type": "markdown",
   "metadata": {},
   "source": [
    "#### 3.2 Time period delimitation"
   ]
  },
  {
   "cell_type": "code",
   "execution_count": 5,
   "metadata": {
    "dotnet_interactive": {
     "language": "csharp"
    },
    "execution": {
     "iopub.execute_input": "2022-10-25T16:20:04.422247Z",
     "iopub.status.busy": "2022-10-25T16:20:04.421568Z",
     "iopub.status.idle": "2022-10-25T16:20:04.525676Z",
     "shell.execute_reply": "2022-10-25T16:20:04.525346Z"
    },
    "vscode": {
     "languageId": "dotnet-interactive.csharp"
    }
   },
   "outputs": [],
   "source": [
    "// Create time intervals\n",
    "var start = new DateTime(2022, 01, 14);\n",
    "var end = new DateTime(2022, 01, 14);\n",
    "var dateIntervals = new DateInterval()\n",
    "{\n",
    "  StartDate = new Date { Year = start.Year, Month = start.Month, Day = start.Day },\n",
    "  EndDate = new Date { Year = end.Year, Month = end.Month, Day = end.Day }\n",
    "};\n",
    "\n",
    "// Build the market data request time interval (we are using Google date time format : we have to cast the dates)\n",
    "// UTC time zone\n",
    "var timeInterval = new TimeInterval()\n",
    "{\n",
    "     StartTime = new TimeOfDay { Hours = 14, Minutes = 00, Seconds = 00 },\n",
    "     EndTime = new TimeOfDay { Hours = 15, Minutes = 00, Seconds = 00 } \n",
    "};"
   ]
  },
  {
   "cell_type": "markdown",
   "metadata": {},
   "source": [
    "#### 3.3 Request creation\n",
    "The following code snippet creates *gRPC client*, process request and returns the request reply:"
   ]
  },
  {
   "cell_type": "code",
   "execution_count": 6,
   "metadata": {
    "dotnet_interactive": {
     "language": "csharp"
    },
    "execution": {
     "iopub.execute_input": "2022-10-25T16:20:04.528228Z",
     "iopub.status.busy": "2022-10-25T16:20:04.527910Z",
     "iopub.status.idle": "2022-10-25T16:20:04.590584Z",
     "shell.execute_reply": "2022-10-25T16:20:04.590306Z"
    },
    "vscode": {
     "languageId": "dotnet-interactive.csharp"
    }
   },
   "outputs": [],
   "source": [
    "// Generate constraints based on the previous time selection:\n",
    "var constraints = new Constraints(); \n",
    "constraints.DateIntervals.Add(dateIntervals);\n",
    "constraints.TimeIntervals.Add(timeInterval);"
   ]
  },
  {
   "cell_type": "markdown",
   "metadata": {},
   "source": [
    "The following code snippets create requests for *trades* and *top of the book* data and instantiates the service:"
   ]
  },
  {
   "cell_type": "code",
   "execution_count": 7,
   "metadata": {
    "dotnet_interactive": {
     "language": "csharp"
    },
    "execution": {
     "iopub.execute_input": "2022-10-25T16:20:04.593011Z",
     "iopub.status.busy": "2022-10-25T16:20:04.592452Z",
     "iopub.status.idle": "2022-10-25T16:20:04.677483Z",
     "shell.execute_reply": "2022-10-25T16:20:04.677198Z"
    },
    "vscode": {
     "languageId": "dotnet-interactive.csharp"
    }
   },
   "outputs": [],
   "source": [
    "// Generate the tick trades and book request\n",
    "var identifier = new IdentifierAndLevel { Exchange = exchange, Ticker = ticker, Level = Level.TradesAndBook };\n",
    "var request = new TickTradesAndBookRequest{ \n",
    "    Constraints = constraints, \n",
    "    MaxDepth = 1, \n",
    "    BookUpdates = BookUpdates.SnapshotsOnly,\n",
    "    Adjustment = false\n",
    "};\n",
    "request.Identifiers.Add(new [] {identifier}); "
   ]
  },
  {
   "cell_type": "markdown",
   "metadata": {},
   "source": [
    "#### 3.4 Export data\n",
    "Tick by tick data is sent through a *stream*, the following code snippet iterates ticks and keep trades ticks and their immediately preceding book tick (if any)\n",
    "\n",
    "Output the results to CSV\n"
   ]
  },
  {
   "cell_type": "code",
   "execution_count": 8,
   "metadata": {
    "dotnet_interactive": {
     "language": "csharp"
    },
    "execution": {
     "iopub.execute_input": "2022-10-25T16:20:04.679568Z",
     "iopub.status.busy": "2022-10-25T16:20:04.679222Z",
     "iopub.status.idle": "2022-10-25T16:20:08.193316Z",
     "shell.execute_reply": "2022-10-25T16:20:08.192349Z"
    },
    "vscode": {
     "languageId": "dotnet-interactive.csharp"
    }
   },
   "outputs": [
    {
     "name": "stdout",
     "output_type": "stream",
     "text": [
      "#total_ticks=245,773 #total_book_ticks=236,083 #total_trade_ticks=9,690\n"
     ]
    },
    {
     "name": "stdout",
     "output_type": "stream",
     "text": [
      "#csv_lines_count=19,052 #csv_book_lines_count=9,362 #csv_trade_lines_count=9,690 [output/AAPL-BATS_trades_and_immediately_preceding_bbo.csv]\n"
     ]
    }
   ],
   "source": [
    "using System;\n",
    "using System.Linq;\n",
    "using System.IO;\n",
    "\n",
    "var d = new DirectoryInfo(\"output\"); if (!d.Exists) { d.Create(); }\n",
    "var filename = $\"output/{ticker}-{exchange}_trades_and_immediately_preceding_bbo.csv\";\n",
    "\n",
    "var csv_lines_count = 0;\n",
    "var csv_book_lines_count = 0;\n",
    "var csv_trade_lines_count = 0;\n",
    "\n",
    "TickTradesAndBookResponse previous = null;\n",
    "var not_shown_book_ticks_before = 0;\n",
    "var total_ticks = 0;\n",
    "var total_trade_ticks = 0;\n",
    "var total_book_ticks = 0;\n",
    "var last_is_trade = false;\n",
    "\n",
    "using(var sw = File.CreateText(filename))\n",
    "{\n",
    "    sw.WriteLine($\"time_stamp,seconds,nanos,bid_size,bid_price,ask_price,ask_size,trade_price,trade_size,not_shown_book_ticks_before\");\n",
    "\n",
    "    var service = new TickTradesAndBookService.TickTradesAndBookServiceClient(channel);\n",
    "    var response = service.TickTradesAndBook(request, headers);\n",
    "    await foreach (var current in response.ResponseStream.ReadAllAsync())\n",
    "    {\n",
    "        if(current?.Data == null)\n",
    "        {\n",
    "            // Skip the mapping data\n",
    "            continue;\n",
    "        }\n",
    "\n",
    "        if (current.Data.Trade != null)\n",
    "        {\n",
    "            total_ticks += 1;\n",
    "            total_trade_ticks += 1;\n",
    "        }\n",
    "                    \n",
    "        if (current.Data.Book != null)\n",
    "        {\n",
    "            total_ticks += 1;\n",
    "            total_book_ticks += 1;\n",
    "        }\n",
    "\n",
    "        if (current.Data.Trade != null) \n",
    "        {      \n",
    "            if (previous?.Data?.Book != null)\n",
    "            {\n",
    "                var seconds = previous.Data.TimeStamp.Seconds;\n",
    "                var nanos = previous.Data.TimeStamp.Nanos;\n",
    "                var book_time = previous.Data.TimeStamp.ToDateTime();\n",
    "                var bid_size = previous.Data.Book.Bid[0].Size;\n",
    "                var bid_price = previous.Data.Book.Bid[0].Price;\n",
    "                var ask_price = previous.Data.Book.Ask[0].Price;\n",
    "                var ask_size = previous.Data.Book.Ask[0].Size;\n",
    "                csv_lines_count += 1;\n",
    "                csv_book_lines_count += 1;\n",
    "                var s = not_shown_book_ticks_before > 0 ? $\"{not_shown_book_ticks_before}\" : string.Empty;\n",
    "                var b = $\"{book_time:O}\".ToString().Replace(\"T\",\" \").Replace(\"Z\", string.Empty).TrimEnd(new [] { '0' });\n",
    "                sw.WriteLine($\"{b},{seconds},{nanos},{bid_size},{bid_price},{ask_price},{ask_size},,,{s}\");\n",
    "            }\n",
    "\n",
    "            var seconds2 = current.Data.TimeStamp.Seconds;\n",
    "            var nanos2 = current.Data.TimeStamp.Nanos;\n",
    "            var trade_time = current.Data.TimeStamp.ToDateTime();\n",
    "            var trade_price = current.Data.Trade.Price;\n",
    "            var trade_size = current.Data.Trade.Size;\n",
    "            csv_lines_count += 1;\n",
    "            csv_trade_lines_count += 1;\n",
    "            var t = $\"{trade_time:O}\".ToString().Replace(\"T\",\" \").Replace(\"Z\", string.Empty).TrimEnd(new [] { '0' });\n",
    "            sw.WriteLine($\"{t},{seconds2},{nanos2},,,,,{trade_price},{trade_size},\");\n",
    "            last_is_trade = true;\n",
    "            not_shown_book_ticks_before = 0;\n",
    "        }\n",
    "        else\n",
    "        {\n",
    "            last_is_trade = false;\n",
    "            not_shown_book_ticks_before += 1;\n",
    "        }\n",
    "    \n",
    "        previous = current;\n",
    "    }\n",
    "}\n",
    "\n",
    "Console.WriteLine($\"#total_ticks={total_ticks:N0} #total_book_ticks={total_book_ticks:N0} #total_trade_ticks={total_trade_ticks:N0}\");\n",
    "Console.WriteLine($\"#csv_lines_count={csv_lines_count:N0} #csv_book_lines_count={csv_book_lines_count:N0} #csv_trade_lines_count={csv_trade_lines_count:N0} [{filename}]\");"
   ]
  }
 ],
 "metadata": {
  "kernelspec": {
   "display_name": ".NET (C#)",
   "language": "C#",
   "name": ".net-csharp"
  },
  "language_info": {
   "file_extension": ".cs",
   "mimetype": "text/x-csharp",
   "name": "C#",
   "pygments_lexer": "csharp",
   "version": "10.0"
  }
 },
 "nbformat": 4,
 "nbformat_minor": 4
}
