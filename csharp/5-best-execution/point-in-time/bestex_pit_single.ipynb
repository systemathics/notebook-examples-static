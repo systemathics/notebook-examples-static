{
 "cells": [
  {
   "cell_type": "markdown",
   "id": "individual-console",
   "metadata": {},
   "source": [
    "# Generate point-in-time best execution data using dedicated service - C#\n",
    "\n",
    "### Overview\n",
    "Best execution aims to measure the performance of executed trades, an execution algorithm or an execution venue.\n",
    "\n",
    "This sample is based on an `point-in-time` approach and designed to highlight individual trades within market activity over a look back period. \n",
    "\n",
    "<div class=\"alert alert-block alert-info\">\n",
    "    <b>Note:</b> To explore the interval approach, suitable to analyze market activity over a look back period. Please refer to <i>bestex-interval</i> notebooks.\n",
    "</div>\n",
    "\n",
    "This sample demonstrates how to request and plot from a dedicated data service **on-demand** best execution *point-in-time* results.\n",
    "\n",
    "### Inputs/outputs\n",
    "Best execution PIT sample requires instrument's identifier, **single trade** and time window as per inputs. Results are as follows:\n",
    "* a snapshot of occured trades around the given trade based on the input time window\n",
    "\n",
    "### Services used\n",
    "This sample uses *gRPC requests* in order to retrieve trades information from the hosted service. The queried endpoint in this script are:\n",
    "* *TickTradesService*: to directly retrieve trades data from the server.\n",
    "\n",
    "### Packages required\n",
    "1. Systemathics:\n",
    "    * *Systemathics.Apis.Type.Shared.V1*\n",
    "    * *Systemathics.Apis.Services.Tick.V1*\n",
    "2. Open source:\n",
    "    * *Google.Protobuf.WellKnownTypes*\n",
    "    * *Google.Type*\n",
    "    * *Grpc.Net.Client*\n",
    "    * *Grpc.Core*\n",
    "    * *XPlot.Plotly* as per display package\n",
    "    \n",
    "***\n"
   ]
  },
  {
   "cell_type": "markdown",
   "id": "editorial-brazil",
   "metadata": {},
   "source": [
    "# Run BestEx Point-in-time sample"
   ]
  },
  {
   "cell_type": "markdown",
   "id": "integral-aside",
   "metadata": {},
   "source": [
    "### Step 1: Install packages"
   ]
  },
  {
   "cell_type": "code",
   "execution_count": 1,
   "id": "theoretical-seller",
   "metadata": {
    "dotnet_interactive": {
     "language": "csharp"
    },
    "execution": {
     "iopub.execute_input": "2022-10-25T16:12:52.557404Z",
     "iopub.status.busy": "2022-10-25T16:12:52.549001Z",
     "iopub.status.idle": "2022-10-25T16:12:58.280994Z",
     "shell.execute_reply": "2022-10-25T16:12:58.270761Z"
    },
    "vscode": {
     "languageId": "dotnet-interactive.csharp"
    }
   },
   "outputs": [
    {
     "data": {
      "text/html": [
       "\n",
       "<div>\n",
       "    <div id='dotnet-interactive-this-cell-16963.Microsoft.DotNet.Interactive.Http.HttpPort' style='display: none'>\n",
       "        The below script needs to be able to find the current output cell; this is an easy method to get it.\n",
       "    </div>\n",
       "    <script type='text/javascript'>\n",
       "async function probeAddresses(probingAddresses) {\n",
       "    function timeout(ms, promise) {\n",
       "        return new Promise(function (resolve, reject) {\n",
       "            setTimeout(function () {\n",
       "                reject(new Error('timeout'))\n",
       "            }, ms)\n",
       "            promise.then(resolve, reject)\n",
       "        })\n",
       "    }\n",
       "\n",
       "    if (Array.isArray(probingAddresses)) {\n",
       "        for (let i = 0; i < probingAddresses.length; i++) {\n",
       "\n",
       "            let rootUrl = probingAddresses[i];\n",
       "\n",
       "            if (!rootUrl.endsWith('/')) {\n",
       "                rootUrl = `${rootUrl}/`;\n",
       "            }\n",
       "\n",
       "            try {\n",
       "                let response = await timeout(1000, fetch(`${rootUrl}discovery`, {\n",
       "                    method: 'POST',\n",
       "                    cache: 'no-cache',\n",
       "                    mode: 'cors',\n",
       "                    timeout: 1000,\n",
       "                    headers: {\n",
       "                        'Content-Type': 'text/plain'\n",
       "                    },\n",
       "                    body: probingAddresses[i]\n",
       "                }));\n",
       "\n",
       "                if (response.status == 200) {\n",
       "                    return rootUrl;\n",
       "                }\n",
       "            }\n",
       "            catch (e) { }\n",
       "        }\n",
       "    }\n",
       "}\n",
       "\n",
       "function loadDotnetInteractiveApi() {\n",
       "    probeAddresses([\"http://172.28.169.63:2039/\", \"http://127.0.0.1:2039/\"])\n",
       "        .then((root) => {\n",
       "        // use probing to find host url and api resources\n",
       "        // load interactive helpers and language services\n",
       "        let dotnetInteractiveRequire = require.config({\n",
       "        context: '16963.Microsoft.DotNet.Interactive.Http.HttpPort',\n",
       "                paths:\n",
       "            {\n",
       "                'dotnet-interactive': `${root}resources`\n",
       "                }\n",
       "        }) || require;\n",
       "\n",
       "            window.dotnetInteractiveRequire = dotnetInteractiveRequire;\n",
       "\n",
       "            window.configureRequireFromExtension = function(extensionName, extensionCacheBuster) {\n",
       "                let paths = {};\n",
       "                paths[extensionName] = `${root}extensions/${extensionName}/resources/`;\n",
       "                \n",
       "                let internalRequire = require.config({\n",
       "                    context: extensionCacheBuster,\n",
       "                    paths: paths,\n",
       "                    urlArgs: `cacheBuster=${extensionCacheBuster}`\n",
       "                    }) || require;\n",
       "\n",
       "                return internalRequire\n",
       "            };\n",
       "        \n",
       "            dotnetInteractiveRequire([\n",
       "                    'dotnet-interactive/dotnet-interactive'\n",
       "                ],\n",
       "                function (dotnet) {\n",
       "                    dotnet.init(window);\n",
       "                },\n",
       "                function (error) {\n",
       "                    console.log(error);\n",
       "                }\n",
       "            );\n",
       "        })\n",
       "        .catch(error => {console.log(error);});\n",
       "    }\n",
       "\n",
       "// ensure `require` is available globally\n",
       "if ((typeof(require) !==  typeof(Function)) || (typeof(require.config) !== typeof(Function))) {\n",
       "    let require_script = document.createElement('script');\n",
       "    require_script.setAttribute('src', 'https://cdnjs.cloudflare.com/ajax/libs/require.js/2.3.6/require.min.js');\n",
       "    require_script.setAttribute('type', 'text/javascript');\n",
       "    \n",
       "    \n",
       "    require_script.onload = function() {\n",
       "        loadDotnetInteractiveApi();\n",
       "    };\n",
       "\n",
       "    document.getElementsByTagName('head')[0].appendChild(require_script);\n",
       "}\n",
       "else {\n",
       "    loadDotnetInteractiveApi();\n",
       "}\n",
       "\n",
       "    </script>\n",
       "</div>"
      ]
     },
     "metadata": {},
     "output_type": "display_data"
    },
    {
     "data": {
      "text/html": [
       "<div><div><strong>Restore sources</strong><ul><li><span> file://~/.nuget/packages/</span></li><li><span> https://api.nuget.org/v3/index.json</span></li></ul></div><div></div><div><strong>Installed Packages</strong><ul><li><span>Systemathics.Apis, 0.13.2-pre</span></li><li><span>XPlot.Plotly.Interactive, 4.0.6</span></li></ul></div></div>"
      ]
     },
     "metadata": {},
     "output_type": "display_data"
    },
    {
     "data": {
      "text/markdown": [
       "Loading extensions from `XPlot.Plotly.Interactive.dll`"
      ]
     },
     "metadata": {},
     "output_type": "display_data"
    },
    {
     "data": {
      "text/markdown": [
       "Configuring PowerShell Kernel for XPlot.Plotly integration."
      ]
     },
     "metadata": {},
     "output_type": "display_data"
    },
    {
     "data": {
      "text/markdown": [
       "Installed support for XPlot.Plotly."
      ]
     },
     "metadata": {},
     "output_type": "display_data"
    }
   ],
   "source": [
    "#i \"nuget: file://~/.nuget/packages/\"\n",
    "#i \"nuget: https://api.nuget.org/v3/index.json\"\n",
    "#r \"nuget: Systemathics.Apis, 0.*-pre*\"\n",
    "#r \"nuget: XPlot.Plotly.Interactive\""
   ]
  },
  {
   "cell_type": "code",
   "execution_count": 2,
   "id": "geological-buying",
   "metadata": {
    "dotnet_interactive": {
     "language": "csharp"
    },
    "execution": {
     "iopub.execute_input": "2022-10-25T16:12:58.283029Z",
     "iopub.status.busy": "2022-10-25T16:12:58.282715Z",
     "iopub.status.idle": "2022-10-25T16:12:58.392313Z",
     "shell.execute_reply": "2022-10-25T16:12:58.392022Z"
    },
    "vscode": {
     "languageId": "dotnet-interactive.csharp"
    }
   },
   "outputs": [],
   "source": [
    "using Systemathics.Apis.Helpers;\n",
    "using Systemathics.Apis.Type.Shared.V1;\n",
    "using Systemathics.Apis.Services.Tick.V1;\n",
    "using Google.Protobuf.WellKnownTypes;\n",
    "using Google.Type;\n",
    "using Grpc.Net.Client;\n",
    "using Grpc.Core;\n",
    "using XPlot.Plotly;\n",
    "using XPlot.Plotly.Interactive;"
   ]
  },
  {
   "cell_type": "markdown",
   "id": "functioning-boston",
   "metadata": {},
   "source": [
    "### Step 2: Prepare API requests\n",
    "The following code snippets retrieve authentication token and prepare the API request by: opening the *channel* and adding the *token* to the request header:"
   ]
  },
  {
   "cell_type": "code",
   "execution_count": 3,
   "id": "victorian-beijing",
   "metadata": {
    "dotnet_interactive": {
     "language": "csharp"
    },
    "execution": {
     "iopub.execute_input": "2022-10-25T16:12:58.395045Z",
     "iopub.status.busy": "2022-10-25T16:12:58.394453Z",
     "iopub.status.idle": "2022-10-25T16:12:59.497607Z",
     "shell.execute_reply": "2022-10-25T16:12:59.497311Z"
    },
    "vscode": {
     "languageId": "dotnet-interactive.csharp"
    }
   },
   "outputs": [],
   "source": [
    "// Get token as metadata\n",
    "var headers = TokenHelpers.GetTokenAsMetaData();\n",
    "\n",
    "// Create communication channel\n",
    "var channel = ChannelHelpers.GetChannel();"
   ]
  },
  {
   "cell_type": "markdown",
   "id": "alternate-phone",
   "metadata": {},
   "source": [
    "### Step 3: Create and process request"
   ]
  },
  {
   "cell_type": "markdown",
   "id": "metallic-discovery",
   "metadata": {},
   "source": [
    "#### 3.1 Instrument selection"
   ]
  },
  {
   "cell_type": "code",
   "execution_count": 4,
   "id": "sized-threshold",
   "metadata": {
    "dotnet_interactive": {
     "language": "csharp"
    },
    "execution": {
     "iopub.execute_input": "2022-10-25T16:12:59.500358Z",
     "iopub.status.busy": "2022-10-25T16:12:59.499836Z",
     "iopub.status.idle": "2022-10-25T16:12:59.624883Z",
     "shell.execute_reply": "2022-10-25T16:12:59.624616Z"
    },
    "vscode": {
     "languageId": "dotnet-interactive.csharp"
    }
   },
   "outputs": [],
   "source": [
    "// Set the instrument  identifier: a ticker and an exchange code\n",
    "var ticker = \"AAPL\";\n",
    "var exchange = \"BATS\";\n",
    "\n",
    "// Set the time window to delimit the input trade\n",
    "var window = TimeSpan.FromMinutes(15);"
   ]
  },
  {
   "cell_type": "markdown",
   "id": "front-motor",
   "metadata": {},
   "source": [
    "#### 3.2 Trade parameters"
   ]
  },
  {
   "cell_type": "markdown",
   "id": "ready-billion",
   "metadata": {},
   "source": [
    "We assume our trade is the following:"
   ]
  },
  {
   "cell_type": "code",
   "execution_count": 5,
   "id": "arbitrary-citizenship",
   "metadata": {
    "dotnet_interactive": {
     "language": "csharp"
    },
    "execution": {
     "iopub.execute_input": "2022-10-25T16:12:59.627032Z",
     "iopub.status.busy": "2022-10-25T16:12:59.626660Z",
     "iopub.status.idle": "2022-10-25T16:12:59.790928Z",
     "shell.execute_reply": "2022-10-25T16:12:59.790431Z"
    },
    "vscode": {
     "languageId": "dotnet-interactive.csharp"
    }
   },
   "outputs": [],
   "source": [
    "var timestamp = Convert.ToDateTime(\"2021-11-05T12:25:39.469200\");\n",
    "var price = 151.05;\n",
    "var size = 13;"
   ]
  },
  {
   "cell_type": "markdown",
   "id": "armed-sunday",
   "metadata": {},
   "source": [
    "#### 3.3 Time period delimitation"
   ]
  },
  {
   "cell_type": "code",
   "execution_count": 6,
   "id": "interim-measurement",
   "metadata": {
    "dotnet_interactive": {
     "language": "csharp"
    },
    "execution": {
     "iopub.execute_input": "2022-10-25T16:12:59.793417Z",
     "iopub.status.busy": "2022-10-25T16:12:59.792930Z",
     "iopub.status.idle": "2022-10-25T16:12:59.974898Z",
     "shell.execute_reply": "2022-10-25T16:12:59.974633Z"
    },
    "vscode": {
     "languageId": "dotnet-interactive.csharp"
    }
   },
   "outputs": [],
   "source": [
    "// Build the tick trades request date interval (we are using Google date time format)\n",
    "var dateIntervals = new DateInterval(){ \n",
    "    StartDate = new Date { Year = timestamp.Year, Month = timestamp.Month, Day = timestamp.Day },\n",
    "    EndDate = new Date { Year = timestamp.Year, Month = timestamp.Month, Day = timestamp.Day } \n",
    "};\n",
    "\n",
    "// Get the first and the last times from the input trade\n",
    "var firstTime = timestamp.TimeOfDay.Add(-window);\n",
    "var lastTime = timestamp.TimeOfDay.Add(window);\n",
    "\n",
    "// Build the tick trades request time interval (we are using Google date time format)\n",
    "// UTC time zone\n",
    "var timeInterval = new TimeInterval() { \n",
    "    StartTime = new TimeOfDay { Hours = firstTime.Hours, Minutes = firstTime.Minutes, Seconds = firstTime.Seconds }, \n",
    "    EndTime = new TimeOfDay { Hours = lastTime.Hours, Minutes = lastTime.Minutes, Seconds = lastTime.Seconds }\n",
    "};"
   ]
  },
  {
   "cell_type": "markdown",
   "id": "improved-anchor",
   "metadata": {},
   "source": [
    "#### 3.4 Request creation\n",
    "The following code snippet creates *gRPC client*, process request and returns request reply."
   ]
  },
  {
   "cell_type": "code",
   "execution_count": 7,
   "id": "together-shell",
   "metadata": {
    "dotnet_interactive": {
     "language": "csharp"
    },
    "execution": {
     "iopub.execute_input": "2022-10-25T16:12:59.977236Z",
     "iopub.status.busy": "2022-10-25T16:12:59.976895Z",
     "iopub.status.idle": "2022-10-25T16:13:00.056473Z",
     "shell.execute_reply": "2022-10-25T16:13:00.056169Z"
    },
    "vscode": {
     "languageId": "dotnet-interactive.csharp"
    }
   },
   "outputs": [],
   "source": [
    "// Generate constraints based on the previous time selection\n",
    "var constraints = new Constraints(); \n",
    "constraints.DateIntervals.Add(dateIntervals);\n",
    "constraints.TimeIntervals.Add(timeInterval);"
   ]
  },
  {
   "cell_type": "code",
   "execution_count": 8,
   "id": "constant-tongue",
   "metadata": {
    "dotnet_interactive": {
     "language": "csharp"
    },
    "execution": {
     "iopub.execute_input": "2022-10-25T16:13:00.058799Z",
     "iopub.status.busy": "2022-10-25T16:13:00.058252Z",
     "iopub.status.idle": "2022-10-25T16:13:00.151964Z",
     "shell.execute_reply": "2022-10-25T16:13:00.151592Z"
    },
    "vscode": {
     "languageId": "dotnet-interactive.csharp"
    }
   },
   "outputs": [],
   "source": [
    "// Generate the tick trades request\n",
    "var request = new TickTradesRequest { Constraints = constraints };\n",
    "var identifier = new Identifier { Exchange = exchange, Ticker = ticker};\n",
    "request.Identifiers.Add(new [] {identifier}); "
   ]
  },
  {
   "cell_type": "code",
   "execution_count": 9,
   "id": "obvious-generic",
   "metadata": {
    "dotnet_interactive": {
     "language": "csharp"
    },
    "execution": {
     "iopub.execute_input": "2022-10-25T16:13:00.153963Z",
     "iopub.status.busy": "2022-10-25T16:13:00.153619Z",
     "iopub.status.idle": "2022-10-25T16:13:00.212549Z",
     "shell.execute_reply": "2022-10-25T16:13:00.211410Z"
    },
    "vscode": {
     "languageId": "dotnet-interactive.csharp"
    }
   },
   "outputs": [],
   "source": [
    "// Instantiate the tick trades service\n",
    "var service = new TickTradesService.TickTradesServiceClient(channel);"
   ]
  },
  {
   "cell_type": "markdown",
   "id": "stylish-canyon",
   "metadata": {},
   "source": [
    "### Step 4: Visualize data"
   ]
  },
  {
   "cell_type": "markdown",
   "id": "hollywood-courtesy",
   "metadata": {},
   "source": [
    "#### 4.1 Retrive trades"
   ]
  },
  {
   "cell_type": "code",
   "execution_count": 10,
   "id": "injured-economics",
   "metadata": {
    "dotnet_interactive": {
     "language": "csharp"
    },
    "execution": {
     "iopub.execute_input": "2022-10-25T16:13:00.214874Z",
     "iopub.status.busy": "2022-10-25T16:13:00.214557Z",
     "iopub.status.idle": "2022-10-25T16:13:00.962844Z",
     "shell.execute_reply": "2022-10-25T16:13:00.962496Z"
    },
    "vscode": {
     "languageId": "dotnet-interactive.csharp"
    }
   },
   "outputs": [],
   "source": [
    "// Get the trades \n",
    "// store the list of trades\n",
    "var trades = new List<Tuple<Timestamp, Trade>>();\n",
    "\n",
    "// Call the service\n",
    "var call = service.TickTrades(request, headers);\n",
    "\n",
    "// Process the responses\n",
    "await foreach (var current in call.ResponseStream.ReadAllAsync())\n",
    "{\n",
    "    if(current.Mapping != null)\n",
    "    {\n",
    "        // First response contains the mapping fields\n",
    "        // Skip the mapping data\n",
    "        continue;\n",
    "    }\n",
    "\n",
    "    // Get the time stamp for the current trade\n",
    "    var ts = current.Data.TimeStamp;\n",
    "\n",
    "    // Trade\n",
    "    if (current.Data.Trade != null) \n",
    "    {      \n",
    "        trades.Add(new Tuple<Timestamp, Trade>(ts, current.Data.Trade));\n",
    "    }\n",
    "}"
   ]
  },
  {
   "cell_type": "markdown",
   "id": "driving-final",
   "metadata": {},
   "source": [
    "The following code snippet displays request results:"
   ]
  },
  {
   "cell_type": "code",
   "execution_count": 11,
   "id": "forced-rebel",
   "metadata": {
    "dotnet_interactive": {
     "language": "csharp"
    },
    "execution": {
     "iopub.execute_input": "2022-10-25T16:13:00.965095Z",
     "iopub.status.busy": "2022-10-25T16:13:00.964772Z",
     "iopub.status.idle": "2022-10-25T16:13:01.013478Z",
     "shell.execute_reply": "2022-10-25T16:13:01.013230Z"
    },
    "vscode": {
     "languageId": "dotnet-interactive.csharp"
    }
   },
   "outputs": [],
   "source": [
    "// Display the trades\n",
    "//--> Note : the time stamp is displayed by default (using the unix format)\n",
    "//--> We can use other displayers for different output formats \n",
    "//--> For more details about the time stamp: https://developers.google.com/protocol-buffers/docs/reference/google.protobuf#google.protobuf.Timestamp \n",
    "//display(trades);"
   ]
  },
  {
   "cell_type": "markdown",
   "id": "proved-battle",
   "metadata": {},
   "source": [
    "#### 4.2 Plot individual trade within market snapshot\n",
    "Display trade prices and highlight the individual trade over the look back period with the package of your choice.<br>*`XPlot.Plotly`* is used as per open source display package.\n",
    "Plot a simple line graph with the trade prices and mark out the individual trade as follows: "
   ]
  },
  {
   "cell_type": "code",
   "execution_count": 12,
   "id": "single-vacuum",
   "metadata": {
    "dotnet_interactive": {
     "language": "csharp"
    },
    "execution": {
     "iopub.execute_input": "2022-10-25T16:13:01.015440Z",
     "iopub.status.busy": "2022-10-25T16:13:01.015127Z",
     "iopub.status.idle": "2022-10-25T16:13:01.243114Z",
     "shell.execute_reply": "2022-10-25T16:13:01.242855Z"
    },
    "vscode": {
     "languageId": "dotnet-interactive.csharp"
    }
   },
   "outputs": [],
   "source": [
    "// Create Trade class to handle the input trades\n",
    "public class Input\n",
    "{\n",
    "    public DateTime Timestamp { get; set; }\n",
    "    public double Price { get; set; }\n",
    "    public long Size { get; set; }\n",
    "}\n",
    "\n",
    "// Input trade : trade to validate\n",
    "var input = new Input() { Timestamp = timestamp, Price = price, Size = size };\n",
    "var inputs = new List<Input>(){input};"
   ]
  },
  {
   "cell_type": "code",
   "execution_count": 13,
   "id": "clear-engagement",
   "metadata": {
    "dotnet_interactive": {
     "language": "csharp"
    },
    "execution": {
     "iopub.execute_input": "2022-10-25T16:13:01.245576Z",
     "iopub.status.busy": "2022-10-25T16:13:01.245234Z",
     "iopub.status.idle": "2022-10-25T16:13:01.831524Z",
     "shell.execute_reply": "2022-10-25T16:13:01.831249Z"
    },
    "vscode": {
     "languageId": "dotnet-interactive.csharp"
    }
   },
   "outputs": [
    {
     "data": {
      "text/html": [
       "<!DOCTYPE html>\n",
       "<div style=\"width: 1500px; height: 800px;\" id=\"c6d5627d-0ba2-45a3-99cc-2ab2ac7c39a5\"></div><script type=\"text/javascript\">\n",
       "\n",
       "var renderPlotly = function() {\n",
       "    var xplotRequire = require.config({context:'xplot-3.0.1',paths:{plotly:'https://cdn.plot.ly/plotly-1.49.2.min'}}) || require;\n",
       "    xplotRequire(['plotly'], function(Plotly) { \n",
       "\n",
       "            var data = [{\"type\":\"scattergl\",\"x\":[\"2021-11-05T12:11:29.722Z\",\"2021-11-05T12:11:29.7539Z\",\"2021-11-05T12:11:30.588Z\",\"2021-11-05T12:11:46.6834Z\",\"2021-11-05T12:11:51.0621Z\",\"2021-11-05T12:13:10.9399Z\",\"2021-11-05T12:16:16.1456Z\",\"2021-11-05T12:17:27.1485Z\",\"2021-11-05T12:18:04.7043Z\",\"2021-11-05T12:18:51.7118Z\",\"2021-11-05T12:19:57.4116Z\",\"2021-11-05T12:20:46.2006Z\",\"2021-11-05T12:22:32.6221Z\",\"2021-11-05T12:22:37.6534Z\",\"2021-11-05T12:22:39.4692Z\",\"2021-11-05T12:23:58.3414Z\",\"2021-11-05T12:24:29.8991Z\",\"2021-11-05T12:27:07.3026Z\",\"2021-11-05T12:27:07.3378Z\",\"2021-11-05T12:27:07.3378Z\",\"2021-11-05T12:27:50.7476Z\",\"2021-11-05T12:29:15.1938Z\",\"2021-11-05T12:30:23.489Z\",\"2021-11-05T12:30:34.8866Z\",\"2021-11-05T12:30:34.931Z\",\"2021-11-05T12:30:43.3309Z\",\"2021-11-05T12:31:17.2851Z\",\"2021-11-05T12:31:17.2851Z\",\"2021-11-05T12:31:17.3625Z\",\"2021-11-05T12:31:17.3625Z\",\"2021-11-05T12:31:24.2659Z\",\"2021-11-05T12:31:36.3299Z\",\"2021-11-05T12:32:12.6021Z\",\"2021-11-05T12:32:12.6021Z\",\"2021-11-05T12:32:12.6021Z\",\"2021-11-05T12:32:12.6021Z\",\"2021-11-05T12:32:12.6021Z\",\"2021-11-05T12:32:28.6449Z\",\"2021-11-05T12:32:34.1182Z\",\"2021-11-05T12:32:55.7777Z\",\"2021-11-05T12:33:09.2431Z\",\"2021-11-05T12:33:49.4464Z\",\"2021-11-05T12:34:02.9487Z\",\"2021-11-05T12:34:02.9487Z\",\"2021-11-05T12:34:02.9692Z\",\"2021-11-05T12:34:09.197Z\",\"2021-11-05T12:34:09.2252Z\",\"2021-11-05T12:35:00.2829Z\",\"2021-11-05T12:35:38.0184Z\",\"2021-11-05T12:35:38.0184Z\",\"2021-11-05T12:35:56.2211Z\",\"2021-11-05T12:36:04.5747Z\",\"2021-11-05T12:37:02.467Z\",\"2021-11-05T12:37:09.3054Z\",\"2021-11-05T12:37:17.3835Z\",\"2021-11-05T12:37:28.7049Z\",\"2021-11-05T12:37:47.2218Z\",\"2021-11-05T12:39:59.8638Z\",\"2021-11-05T12:39:59.8638Z\"],\"y\":[151.08,151.07,151.05,151.04,151.04,151.06,151.03,151.02,151.02,151.04,151.03,151.03,151.05,151.05,151.05,151.05,151.06,151.09,151.09,151.09,151.04,151.08,151.08,151.1,151.1,151.12,151.0,151.0,150.99,150.99,150.94,150.9,150.92,150.92,150.93,150.92,150.92,150.96,151.0,151.12,151.2,151.31,151.32,151.32,151.34,151.31,151.3,151.29,151.39,151.39,151.43,151.45,151.41,151.43,151.43,151.39,151.38,151.18,151.11],\"mode\":\"lines\",\"name\":\"Price\"},{\"type\":\"scattergl\",\"x\":[\"2021-11-05T12:25:39.4692\"],\"y\":[151.05],\"mode\":\"markers\",\"name\":\"Input trade price\"},{\"type\":\"scattergl\",\"x\":[\"2021-11-05T12:25:39.4692\"],\"y\":[13],\"mode\":\"markers\",\"yaxis\":\"y2\",\"name\":\"Input trade size\"},{\"type\":\"scattergl\",\"x\":[\"2021-11-05T12:11:29.722Z\",\"2021-11-05T12:11:29.7539Z\",\"2021-11-05T12:11:30.588Z\",\"2021-11-05T12:11:46.6834Z\",\"2021-11-05T12:11:51.0621Z\",\"2021-11-05T12:13:10.9399Z\",\"2021-11-05T12:16:16.1456Z\",\"2021-11-05T12:17:27.1485Z\",\"2021-11-05T12:18:04.7043Z\",\"2021-11-05T12:18:51.7118Z\",\"2021-11-05T12:19:57.4116Z\",\"2021-11-05T12:20:46.2006Z\",\"2021-11-05T12:22:32.6221Z\",\"2021-11-05T12:22:37.6534Z\",\"2021-11-05T12:22:39.4692Z\",\"2021-11-05T12:23:58.3414Z\",\"2021-11-05T12:24:29.8991Z\",\"2021-11-05T12:27:07.3026Z\",\"2021-11-05T12:27:07.3378Z\",\"2021-11-05T12:27:07.3378Z\",\"2021-11-05T12:27:50.7476Z\",\"2021-11-05T12:29:15.1938Z\",\"2021-11-05T12:30:23.489Z\",\"2021-11-05T12:30:34.8866Z\",\"2021-11-05T12:30:34.931Z\",\"2021-11-05T12:30:43.3309Z\",\"2021-11-05T12:31:17.2851Z\",\"2021-11-05T12:31:17.2851Z\",\"2021-11-05T12:31:17.3625Z\",\"2021-11-05T12:31:17.3625Z\",\"2021-11-05T12:31:24.2659Z\",\"2021-11-05T12:31:36.3299Z\",\"2021-11-05T12:32:12.6021Z\",\"2021-11-05T12:32:12.6021Z\",\"2021-11-05T12:32:12.6021Z\",\"2021-11-05T12:32:12.6021Z\",\"2021-11-05T12:32:12.6021Z\",\"2021-11-05T12:32:28.6449Z\",\"2021-11-05T12:32:34.1182Z\",\"2021-11-05T12:32:55.7777Z\",\"2021-11-05T12:33:09.2431Z\",\"2021-11-05T12:33:49.4464Z\",\"2021-11-05T12:34:02.9487Z\",\"2021-11-05T12:34:02.9487Z\",\"2021-11-05T12:34:02.9692Z\",\"2021-11-05T12:34:09.197Z\",\"2021-11-05T12:34:09.2252Z\",\"2021-11-05T12:35:00.2829Z\",\"2021-11-05T12:35:38.0184Z\",\"2021-11-05T12:35:38.0184Z\",\"2021-11-05T12:35:56.2211Z\",\"2021-11-05T12:36:04.5747Z\",\"2021-11-05T12:37:02.467Z\",\"2021-11-05T12:37:09.3054Z\",\"2021-11-05T12:37:17.3835Z\",\"2021-11-05T12:37:28.7049Z\",\"2021-11-05T12:37:47.2218Z\",\"2021-11-05T12:39:59.8638Z\",\"2021-11-05T12:39:59.8638Z\"],\"y\":[1,44,3,2,3,10,1,1,4,10,1,1,1,1,13,2,4,50,45,7,3,2,30,53,7,1,3,4,1,1,1,1,900,8,50,10,65,10,12,47,68,2,10,10,10,50,1,50,50,50,2,50,50,50,50,1,10,2,1],\"mode\":\"lines\",\"yaxis\":\"y2\",\"name\":\"Size\"}];\n",
       "           var layout = {\"title\":\"Input trade within market snapshot for AAPL-BATS\",\"xaxis\":{\"title\":\"Time\",\"_isSubplotObj\":true},\"yaxis\":{\"title\":\"Price\",\"autorange\":true,\"side\":\"left\",\"_isSubplotObj\":true},\"yaxis2\":{\"title\":\"Size\",\"autorange\":true,\"side\":\"right\",\"_isSubplotObj\":true}};\n",
       "           Plotly.newPlot('c6d5627d-0ba2-45a3-99cc-2ab2ac7c39a5', data, layout);\n",
       "        \n",
       "});\n",
       "};\n",
       "// ensure `require` is available globally\n",
       "if ((typeof(require) !==  typeof(Function)) || (typeof(require.config) !== typeof(Function))) {\n",
       "    let require_script = document.createElement('script');\n",
       "    require_script.setAttribute('src', 'https://cdnjs.cloudflare.com/ajax/libs/require.js/2.3.6/require.min.js');\n",
       "    require_script.setAttribute('type', 'text/javascript');\n",
       "    \n",
       "    \n",
       "    require_script.onload = function() {\n",
       "        renderPlotly();\n",
       "    };\n",
       "\n",
       "    document.getElementsByTagName('head')[0].appendChild(require_script);\n",
       "}\n",
       "else {\n",
       "    renderPlotly();\n",
       "}\n",
       "\n",
       "</script>\n"
      ]
     },
     "metadata": {},
     "output_type": "display_data"
    }
   ],
   "source": [
    "var bestexPit = new List<Scattergl>\n",
    "{\n",
    "    new Scattergl\n",
    "    { name = \"Price\", x = trades.Select(elt => elt.Item1.ToDateTime()), y = trades.Select(elt => elt.Item2.Price), mode = \"lines\" },\n",
    "    new Scattergl\n",
    "    { name = \"Input trade price\", x = inputs.Select(t => t.Timestamp), y = inputs.Select(t => t.Price), mode = \"markers\"},\n",
    "    new Scattergl\n",
    "    { name = \"Input trade size\", x = inputs.Select(t => t.Timestamp), y = inputs.Select(t => t.Size), mode = \"markers\", yaxis = \"y2\" },\n",
    "    new Scattergl\n",
    "    { name = \"Size\", mode = \"lines\", x = trades.Select(elt => elt.Item1.ToDateTime()), y = trades.Select(elt => elt.Item2.Size), yaxis = \"y2\"}\n",
    "};\n",
    "\n",
    "var layout = new Layout.Layout\n",
    "{ \n",
    "    title = $\"Input trade within market snapshot for {ticker}-{exchange}\",\n",
    "    yaxis = new Yaxis { title = \"Price\", autorange = true, side = \"left\"},\n",
    "    yaxis2 = new Yaxis { title = \"Size\", autorange = true, side = \"right\"}\n",
    "};\n",
    "\n",
    "var chart = Chart.Plot(bestexPit, layout);\n",
    "chart.WithXTitle(\"Time\");\n",
    "chart.Width = 1500;\n",
    "chart.Height = 800;\n",
    "display(chart);"
   ]
  }
 ],
 "metadata": {
  "kernelspec": {
   "display_name": ".NET (C#)",
   "language": "C#",
   "name": ".net-csharp"
  },
  "language_info": {
   "file_extension": ".cs",
   "mimetype": "text/x-csharp",
   "name": "C#",
   "pygments_lexer": "csharp",
   "version": "10.0"
  }
 },
 "nbformat": 4,
 "nbformat_minor": 5
}
