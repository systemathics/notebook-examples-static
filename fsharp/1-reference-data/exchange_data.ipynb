{
 "cells": [
  {
   "cell_type": "markdown",
   "id": "eight-cocktail",
   "metadata": {},
   "source": [
    "# Generate exchange data using dedicated service - F#\n",
    "\n",
    "### Overview\n",
    "Reference data encompasses a wide range of specification data about:\n",
    "* financial instrument such as asset class, symbol, maturity, etc.\n",
    "* counterparties such as issuer information.\n",
    "* pricing such as Open, high low and close prices.\n",
    "\n",
    "The challenge with reference data is that it tends to be sourced from multiple sources: internal, counterparties and providers.\n",
    "\n",
    "Reference data dedicated service is a result of various data sources and fields sourcing, validation, cross-checking and normalization.<br>\n",
    "\n",
    "This sample requests **on-demand** exchange data and enables fields mapping by calling a dedicated static data service, making available clean data.\n",
    "\n",
    "### Inputs/outputs\n",
    "Exchange data sample is designed to help you searching and requesting exchange reference data by using a wide range of commonly used fields.\n",
    "\n",
    "It takes exchange identifier as per input filter and returns the *entries* matching the *request*:\n",
    "* List of instruments' identifiers\n",
    "* Countries\n",
    "* Currencies \n",
    "* Tick size rules\n",
    "* etc. \n",
    "\n",
    "### Services used\n",
    "This sample uses *gRPC requests* in order to retrieve exchange reference data from the hosted service. The queried endpoint in this script are:\n",
    "* *StaticDataService*: to directly retrieve reference data objects from the server\n",
    "\n",
    "### Packages required\n",
    "1. Systemathics packages:\n",
    "    * *Systemathics.Apis.Type.Shared.V1*\n",
    "    * *Systemathics.Apis.Services.StaticData.V1*\n",
    "2. Open source packages\n",
    "    * *Google.Protobuf.WellKnownTypes*\n",
    "    * *Google.Type*\n",
    "    * *Grpc.Net.Client*\n",
    "    * *Grpc.Core*\n"
   ]
  },
  {
   "cell_type": "markdown",
   "id": "appropriate-mayor",
   "metadata": {},
   "source": [
    "# Run Exchange data sample"
   ]
  },
  {
   "cell_type": "markdown",
   "id": "marked-feeding",
   "metadata": {},
   "source": [
    "### Step 1: Install packages"
   ]
  },
  {
   "cell_type": "code",
   "execution_count": 1,
   "id": "musical-remainder",
   "metadata": {
    "dotnet_interactive": {
     "language": "fsharp"
    },
    "execution": {
     "iopub.execute_input": "2022-10-25T16:22:04.274762Z",
     "iopub.status.busy": "2022-10-25T16:22:04.267310Z",
     "iopub.status.idle": "2022-10-25T16:22:09.006324Z",
     "shell.execute_reply": "2022-10-25T16:22:08.998098Z"
    },
    "vscode": {
     "languageId": "fsharp"
    }
   },
   "outputs": [
    {
     "data": {
      "text/html": [
       "\n",
       "<div>\n",
       "    <div id='dotnet-interactive-this-cell-22130.Microsoft.DotNet.Interactive.Http.HttpPort' style='display: none'>\n",
       "        The below script needs to be able to find the current output cell; this is an easy method to get it.\n",
       "    </div>\n",
       "    <script type='text/javascript'>\n",
       "async function probeAddresses(probingAddresses) {\n",
       "    function timeout(ms, promise) {\n",
       "        return new Promise(function (resolve, reject) {\n",
       "            setTimeout(function () {\n",
       "                reject(new Error('timeout'))\n",
       "            }, ms)\n",
       "            promise.then(resolve, reject)\n",
       "        })\n",
       "    }\n",
       "\n",
       "    if (Array.isArray(probingAddresses)) {\n",
       "        for (let i = 0; i < probingAddresses.length; i++) {\n",
       "\n",
       "            let rootUrl = probingAddresses[i];\n",
       "\n",
       "            if (!rootUrl.endsWith('/')) {\n",
       "                rootUrl = `${rootUrl}/`;\n",
       "            }\n",
       "\n",
       "            try {\n",
       "                let response = await timeout(1000, fetch(`${rootUrl}discovery`, {\n",
       "                    method: 'POST',\n",
       "                    cache: 'no-cache',\n",
       "                    mode: 'cors',\n",
       "                    timeout: 1000,\n",
       "                    headers: {\n",
       "                        'Content-Type': 'text/plain'\n",
       "                    },\n",
       "                    body: probingAddresses[i]\n",
       "                }));\n",
       "\n",
       "                if (response.status == 200) {\n",
       "                    return rootUrl;\n",
       "                }\n",
       "            }\n",
       "            catch (e) { }\n",
       "        }\n",
       "    }\n",
       "}\n",
       "\n",
       "function loadDotnetInteractiveApi() {\n",
       "    probeAddresses([\"http://172.28.169.63:2147/\", \"http://127.0.0.1:2147/\"])\n",
       "        .then((root) => {\n",
       "        // use probing to find host url and api resources\n",
       "        // load interactive helpers and language services\n",
       "        let dotnetInteractiveRequire = require.config({\n",
       "        context: '22130.Microsoft.DotNet.Interactive.Http.HttpPort',\n",
       "                paths:\n",
       "            {\n",
       "                'dotnet-interactive': `${root}resources`\n",
       "                }\n",
       "        }) || require;\n",
       "\n",
       "            window.dotnetInteractiveRequire = dotnetInteractiveRequire;\n",
       "\n",
       "            window.configureRequireFromExtension = function(extensionName, extensionCacheBuster) {\n",
       "                let paths = {};\n",
       "                paths[extensionName] = `${root}extensions/${extensionName}/resources/`;\n",
       "                \n",
       "                let internalRequire = require.config({\n",
       "                    context: extensionCacheBuster,\n",
       "                    paths: paths,\n",
       "                    urlArgs: `cacheBuster=${extensionCacheBuster}`\n",
       "                    }) || require;\n",
       "\n",
       "                return internalRequire\n",
       "            };\n",
       "        \n",
       "            dotnetInteractiveRequire([\n",
       "                    'dotnet-interactive/dotnet-interactive'\n",
       "                ],\n",
       "                function (dotnet) {\n",
       "                    dotnet.init(window);\n",
       "                },\n",
       "                function (error) {\n",
       "                    console.log(error);\n",
       "                }\n",
       "            );\n",
       "        })\n",
       "        .catch(error => {console.log(error);});\n",
       "    }\n",
       "\n",
       "// ensure `require` is available globally\n",
       "if ((typeof(require) !==  typeof(Function)) || (typeof(require.config) !== typeof(Function))) {\n",
       "    let require_script = document.createElement('script');\n",
       "    require_script.setAttribute('src', 'https://cdnjs.cloudflare.com/ajax/libs/require.js/2.3.6/require.min.js');\n",
       "    require_script.setAttribute('type', 'text/javascript');\n",
       "    \n",
       "    \n",
       "    require_script.onload = function() {\n",
       "        loadDotnetInteractiveApi();\n",
       "    };\n",
       "\n",
       "    document.getElementsByTagName('head')[0].appendChild(require_script);\n",
       "}\n",
       "else {\n",
       "    loadDotnetInteractiveApi();\n",
       "}\n",
       "\n",
       "    </script>\n",
       "</div>"
      ]
     },
     "metadata": {},
     "output_type": "display_data"
    },
    {
     "data": {
      "text/html": [
       "<div><div><strong>Restore sources</strong><ul><li><span> file://~/.nuget/packages/</span></li><li><span> https://api.nuget.org/v3/index.json</span></li></ul></div><div></div><div><strong>Installed Packages</strong><ul><li><span>CsvHelper, 29.0.0</span></li><li><span>Systemathics.Apis, 0.13.2-pre</span></li></ul></div></div>"
      ]
     },
     "metadata": {},
     "output_type": "display_data"
    }
   ],
   "source": [
    "#i \"nuget: file://~/.nuget/packages/\"\n",
    "#i \"nuget: https://api.nuget.org/v3/index.json\"\n",
    "#r \"nuget: Systemathics.Apis, 0.*-pre*\"\n",
    "#r \"nuget: CsvHelper\""
   ]
  },
  {
   "cell_type": "code",
   "execution_count": 2,
   "id": "chemical-strength",
   "metadata": {
    "dotnet_interactive": {
     "language": "fsharp"
    },
    "execution": {
     "iopub.execute_input": "2022-10-25T16:22:09.009108Z",
     "iopub.status.busy": "2022-10-25T16:22:09.008330Z",
     "iopub.status.idle": "2022-10-25T16:22:09.065833Z",
     "shell.execute_reply": "2022-10-25T16:22:09.065571Z"
    },
    "vscode": {
     "languageId": "fsharp"
    }
   },
   "outputs": [],
   "source": [
    "open Systemathics.Apis.Helpers\n",
    "open Systemathics.Apis.Type.Shared.V1\n",
    "open Systemathics.Apis.Services.StaticData.V1\n",
    "open Google.Protobuf.WellKnownTypes\n",
    "open Google.Type\n",
    "open Grpc.Net.Client\n",
    "open Grpc.Core\n",
    "// Import/export csv files\n",
    "open CsvHelper\n",
    "open System.IO\n",
    "open System.Globalization"
   ]
  },
  {
   "cell_type": "markdown",
   "id": "desirable-owner",
   "metadata": {},
   "source": [
    "### Step 2: Prepare API requests\n",
    "The following code snippets retrieve authentication token and prepare the API request by: opening the *channel* and adding the *token* to the request header:"
   ]
  },
  {
   "cell_type": "code",
   "execution_count": 3,
   "id": "therapeutic-sending",
   "metadata": {
    "dotnet_interactive": {
     "language": "fsharp"
    },
    "execution": {
     "iopub.execute_input": "2022-10-25T16:22:09.067727Z",
     "iopub.status.busy": "2022-10-25T16:22:09.067417Z",
     "iopub.status.idle": "2022-10-25T16:22:09.652409Z",
     "shell.execute_reply": "2022-10-25T16:22:09.652160Z"
    },
    "vscode": {
     "languageId": "fsharp"
    }
   },
   "outputs": [],
   "source": [
    "// Get token as metadata\n",
    "let headers = TokenHelpers.GetTokenAsMetaData();\n",
    "\n",
    "// Create communication channel\n",
    "let channel = ChannelHelpers.GetChannel();"
   ]
  },
  {
   "cell_type": "markdown",
   "id": "activated-affect",
   "metadata": {},
   "source": [
    "### Step 3: Request creation"
   ]
  },
  {
   "cell_type": "markdown",
   "id": "korean-click",
   "metadata": {},
   "source": [
    "The following code snippet enables to select the **exchange** by its *Market Identifier Code*:"
   ]
  },
  {
   "cell_type": "code",
   "execution_count": 4,
   "id": "fitting-commission",
   "metadata": {
    "dotnet_interactive": {
     "language": "fsharp"
    },
    "execution": {
     "iopub.execute_input": "2022-10-25T16:22:09.654527Z",
     "iopub.status.busy": "2022-10-25T16:22:09.654223Z",
     "iopub.status.idle": "2022-10-25T16:22:09.678417Z",
     "shell.execute_reply": "2022-10-25T16:22:09.678155Z"
    },
    "vscode": {
     "languageId": "fsharp"
    }
   },
   "outputs": [],
   "source": [
    "// Set exchange\n",
    "let exchange = \"XNGS\""
   ]
  },
  {
   "cell_type": "markdown",
   "id": "neither-austria",
   "metadata": {},
   "source": [
    "The following code snippets call the service, generate the request and return the reply: "
   ]
  },
  {
   "cell_type": "code",
   "execution_count": 5,
   "id": "nasty-dover",
   "metadata": {
    "dotnet_interactive": {
     "language": "fsharp"
    },
    "execution": {
     "iopub.execute_input": "2022-10-25T16:22:09.680487Z",
     "iopub.status.busy": "2022-10-25T16:22:09.680153Z",
     "iopub.status.idle": "2022-10-25T16:22:10.246980Z",
     "shell.execute_reply": "2022-10-25T16:22:10.246616Z"
    },
    "vscode": {
     "languageId": "fsharp"
    }
   },
   "outputs": [],
   "source": [
    "// Instantiate the service\n",
    "let service = new StaticDataService.StaticDataServiceClient(channel)\n",
    "\n",
    "// Generate request\n",
    "let request = new StaticDataRequest ( AssetType = AssetType.Equity, Exchange = exchange, Count = 100 )\n",
    "\n",
    "// Call the service\n",
    "let reply = service.StaticData(request, headers);\n",
    "\n",
    "// Display the results\n",
    "//display(reply.Equities)"
   ]
  },
  {
   "cell_type": "markdown",
   "id": "spiritual-monaco",
   "metadata": {},
   "source": [
    "### Step 4: Retrieve data"
   ]
  },
  {
   "cell_type": "markdown",
   "id": "controlling-crowd",
   "metadata": {},
   "source": [
    "#### 4.1 Retrieve instruments' identifiers (mapping)"
   ]
  },
  {
   "cell_type": "code",
   "execution_count": 6,
   "id": "fewer-perspective",
   "metadata": {
    "dotnet_interactive": {
     "language": "fsharp"
    },
    "execution": {
     "iopub.execute_input": "2022-10-25T16:22:10.249911Z",
     "iopub.status.busy": "2022-10-25T16:22:10.249550Z",
     "iopub.status.idle": "2022-10-25T16:22:11.083020Z",
     "shell.execute_reply": "2022-10-25T16:22:11.082760Z"
    },
    "vscode": {
     "languageId": "fsharp"
    }
   },
   "outputs": [],
   "source": [
    "type Instrument = \n",
    "    {\n",
    "        Ticker: string\n",
    "        Name : string\n",
    "        Isin : string\n",
    "        Cusip : string\n",
    "        Sedol : string\n",
    "        Bloomberg : string\n",
    "    }\n",
    "\n",
    "let instruments = reply.Equities |> Seq.map (fun e -> { Ticker = e.Identifier.Ticker; Name = e.Name; Isin = e.Isin; Cusip = e.Cusip; Sedol = e.Sedol; Bloomberg = if e.Mapping.ContainsKey(\"Bloomberg\") then e.Mapping.[\"Bloomberg\"] else String.Empty })"
   ]
  },
  {
   "cell_type": "code",
   "execution_count": 7,
   "id": "blank-projector",
   "metadata": {
    "dotnet_interactive": {
     "language": "fsharp"
    },
    "execution": {
     "iopub.execute_input": "2022-10-25T16:22:11.086047Z",
     "iopub.status.busy": "2022-10-25T16:22:11.085436Z",
     "iopub.status.idle": "2022-10-25T16:22:11.182411Z",
     "shell.execute_reply": "2022-10-25T16:22:11.182161Z"
    },
    "vscode": {
     "languageId": "fsharp"
    }
   },
   "outputs": [
    {
     "data": {
      "text/html": [
       "<table><thead><tr><th><i>index</i></th><th>Ticker</th><th>Name</th><th>Isin</th><th>Cusip</th><th>Sedol</th><th>Bloomberg</th></tr></thead><tbody><tr><td>0</td><td>USAP</td><td>Universal Stainless Alloy Products</td><td>US9138371003</td><td>913837100</td><td>2944281</td><td>USAP US Equity</td></tr><tr><td>1</td><td>PCVX</td><td>Vaxcyte Inc</td><td>US92243G1085</td><td>92243G108</td><td>BKPVGH6</td><td>PCVX US Equity</td></tr><tr><td>2</td><td>RELL</td><td>Richardson Electronics Ltd</td><td>US7631651079</td><td>763165107</td><td>2736109</td><td>RELL US Equity</td></tr><tr><td>3</td><td>IDXX</td><td>Idexx Laboratories Inc</td><td>US45168D1046</td><td>45168D104</td><td>2459202</td><td>IDXX US Equity</td></tr><tr><td>4</td><td>SSRM</td><td>Ssr Mining</td><td>CA7847301032</td><td>784730103</td><td>BF7MQ72</td><td>SSRM US Equity</td></tr><tr><td>5</td><td>BCOV</td><td>Brightcove Inc</td><td>US10921T1016</td><td></td><td>B4XS3D2</td><td>BCOV US Equity</td></tr><tr><td>6</td><td>TRIP</td><td>Tripadvisor Inc</td><td>US8969452015</td><td>896945201</td><td>B6ZC3N6</td><td>TRIP US Equity</td></tr><tr><td>7</td><td>AMD</td><td>Advanced Micro Devices Inc</td><td>US0079031078</td><td>007903107</td><td>2007849</td><td>AMD US Equity</td></tr><tr><td>8</td><td>OBNK</td><td>Origin Bancorp Inc</td><td>US68621T1025</td><td></td><td>BDFFBM9</td><td>OBNK US Equity</td></tr><tr><td>9</td><td>RLYB</td><td>Rallybio Co</td><td>US75120L1008</td><td>75120L100</td><td>BMGTPL0</td><td>RLYB US Equity</td></tr><tr><td>10</td><td>GABC</td><td>German American Bancorp</td><td>US3738651047</td><td>373865104</td><td>2502151</td><td>GABC US Equity</td></tr><tr><td>11</td><td>ISEE</td><td>Iveric Bio Inc</td><td>US46583P1021</td><td>46583P102</td><td>BK8Y8K9</td><td>ISEE US Equity</td></tr><tr><td>12</td><td>LASR</td><td>Nlight Inc</td><td>US65487K1007</td><td>65487K100</td><td>BFZP4R9</td><td>LASR US Equity</td></tr><tr><td>13</td><td>CHX</td><td>Championx Corp</td><td>US15872M1045</td><td>15872M104</td><td>BMW7N69</td><td>CHX US Equity</td></tr><tr><td>14</td><td>MRTN</td><td>Marten Transport L</td><td>US5730751089</td><td>573075108</td><td>2568357</td><td>MRTN US Equity</td></tr><tr><td>15</td><td>UBX</td><td>Unity Biotechnology Inc</td><td></td><td>91381U101</td><td>BDT5LR0</td><td>UBX US Equity</td></tr><tr><td>16</td><td>BMEA</td><td>Biomea Fusion Inc</td><td>US09077A1060</td><td>09077A106</td><td>BNKF6N0</td><td>BMEA US Equity</td></tr><tr><td>17</td><td>TZOO</td><td>Travelzoo</td><td>US89421Q2057</td><td>89421Q205</td><td>BGDFSM1</td><td>TZOO US Equity</td></tr><tr><td>18</td><td>HONE</td><td>Harborone Bancorp Inc</td><td>US41165Y1001</td><td></td><td>BK1KX10</td><td>HONE US Equity</td></tr><tr><td>19</td><td>MTEX</td><td>Mannatech Inc</td><td>US5637712036</td><td>563771203</td><td>B76YLF6</td><td>MTEX US Equity</td></tr><tr><td colspan=\"7\"><i>... (more)</i></td></tr></tbody></table>"
      ]
     },
     "metadata": {},
     "output_type": "display_data"
    }
   ],
   "source": [
    "display(instruments)"
   ]
  },
  {
   "cell_type": "markdown",
   "id": "complex-courage",
   "metadata": {},
   "source": [
    "The following code snippet exports data to *csv* file:"
   ]
  },
  {
   "cell_type": "code",
   "execution_count": 8,
   "id": "thermal-release",
   "metadata": {
    "dotnet_interactive": {
     "language": "fsharp"
    },
    "execution": {
     "iopub.execute_input": "2022-10-25T16:22:11.184513Z",
     "iopub.status.busy": "2022-10-25T16:22:11.184199Z",
     "iopub.status.idle": "2022-10-25T16:22:11.377648Z",
     "shell.execute_reply": "2022-10-25T16:22:11.377160Z"
    },
    "vscode": {
     "languageId": "fsharp"
    }
   },
   "outputs": [],
   "source": [
    "let d = new DirectoryInfo(\"output\") \n",
    "d.Create()\n",
    "let writer = new StreamWriter($\"output/{exchange}.csv\")\n",
    "let csv = new CsvWriter(writer, CultureInfo.InvariantCulture)\n",
    "csv.WriteRecords(instruments)\n"
   ]
  },
  {
   "cell_type": "markdown",
   "id": "directed-gates",
   "metadata": {},
   "source": [
    "#### 4.2 Retrieve countries"
   ]
  },
  {
   "cell_type": "code",
   "execution_count": 9,
   "id": "backed-arizona",
   "metadata": {
    "dotnet_interactive": {
     "language": "fsharp"
    },
    "execution": {
     "iopub.execute_input": "2022-10-25T16:22:11.380459Z",
     "iopub.status.busy": "2022-10-25T16:22:11.379895Z",
     "iopub.status.idle": "2022-10-25T16:22:11.410711Z",
     "shell.execute_reply": "2022-10-25T16:22:11.411129Z"
    },
    "vscode": {
     "languageId": "fsharp"
    }
   },
   "outputs": [
    {
     "data": {
      "text/html": [
       "<table><thead><tr><th><i>index</i></th><th>value</th></tr></thead><tbody><tr><td>0</td><td>US</td></tr><tr><td>1</td><td></td></tr></tbody></table>"
      ]
     },
     "execution_count": 9,
     "metadata": {},
     "output_type": "execute_result"
    }
   ],
   "source": [
    "reply.Equities |> Seq.map (fun e -> e.Country) |> Seq.distinct"
   ]
  },
  {
   "cell_type": "markdown",
   "id": "recorded-deviation",
   "metadata": {
    "dotnet_interactive": {
     "language": "fsharp"
    }
   },
   "source": [
    "#### 4.3 Retrieve currencies"
   ]
  },
  {
   "cell_type": "code",
   "execution_count": 10,
   "id": "assured-initial",
   "metadata": {
    "dotnet_interactive": {
     "language": "fsharp"
    },
    "execution": {
     "iopub.execute_input": "2022-10-25T16:22:11.413574Z",
     "iopub.status.busy": "2022-10-25T16:22:11.413265Z",
     "iopub.status.idle": "2022-10-25T16:22:11.424160Z",
     "shell.execute_reply": "2022-10-25T16:22:11.424482Z"
    },
    "vscode": {
     "languageId": "fsharp"
    }
   },
   "outputs": [
    {
     "data": {
      "text/html": [
       "<table><thead><tr><th><i>index</i></th><th>value</th></tr></thead><tbody><tr><td>0</td><td>USD</td></tr></tbody></table>"
      ]
     },
     "execution_count": 10,
     "metadata": {},
     "output_type": "execute_result"
    }
   ],
   "source": [
    "reply.Equities |> Seq.map (fun e -> e.Currency) |> Seq.distinct"
   ]
  },
  {
   "cell_type": "markdown",
   "id": "limiting-charter",
   "metadata": {},
   "source": [
    "#### 4.4 Retrieve tick size rules"
   ]
  },
  {
   "cell_type": "code",
   "execution_count": 11,
   "id": "editorial-consolidation",
   "metadata": {
    "dotnet_interactive": {
     "language": "fsharp"
    },
    "execution": {
     "iopub.execute_input": "2022-10-25T16:22:11.426812Z",
     "iopub.status.busy": "2022-10-25T16:22:11.426425Z",
     "iopub.status.idle": "2022-10-25T16:22:11.535589Z",
     "shell.execute_reply": "2022-10-25T16:22:11.535877Z"
    },
    "vscode": {
     "languageId": "fsharp"
    }
   },
   "outputs": [
    {
     "data": {
      "text/html": [
       "<table><thead><tr><th><i>index</i></th><th>value</th></tr></thead><tbody><tr><td>0</td><td><div class=\"dni-plaintext\">[ { { &quot;tick&quot;: 0.0001 }: Price: 0, Tick: 0.0001 }, { { &quot;price&quot;: 1, &quot;tick&quot;: 0.01 }: Price: 1, Tick: 0.01 } ]</div></td></tr></tbody></table>"
      ]
     },
     "execution_count": 11,
     "metadata": {},
     "output_type": "execute_result"
    }
   ],
   "source": [
    "reply.Equities |> Seq.map (fun e -> e.TickSizeRule) |> Seq.distinct"
   ]
  }
 ],
 "metadata": {
  "kernelspec": {
   "display_name": ".NET (F#)",
   "language": "F#",
   "name": ".net-fsharp"
  },
  "language_info": {
   "file_extension": ".fs",
   "mimetype": "text/x-fsharp",
   "name": "F#",
   "pygments_lexer": "fsharp",
   "version": "6.0"
  }
 },
 "nbformat": 4,
 "nbformat_minor": 5
}
