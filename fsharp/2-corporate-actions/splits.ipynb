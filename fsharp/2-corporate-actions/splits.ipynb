{
 "cells": [
  {
   "cell_type": "markdown",
   "id": "pending-intersection",
   "metadata": {},
   "source": [
    "# Splits extraction using dedicated service - F#\n",
    "\n",
    "### Overview\n",
    "This sample requests **on-demand** splits by calling a dedicated data service.\n",
    "\n",
    "### Inputs/outputs\n",
    "Splits sample is designed to help you searching and requesting dividends for a given instrument.\n",
    "* It takes instrument specification parameter(s) as per input filter and returns *Dividends*\n",
    "\n",
    "### Services used\n",
    "This sample uses *gRPC requests* in order to retrieve splits data from the hosted service. The queried endpoint in this script are:\n",
    "* *SplitsService*: to directly retrieve splits data objects from the server\n",
    "\n",
    "### Packages required\n",
    "1. Systemathics packages:\n",
    "    * *Systemathics.Apis.Type.Shared.V1*\n",
    "    * *Systemathics.Apis.Services.CorporateActions.V1*\n",
    "2. Open source packages\n",
    "    * *Google.Protobuf.WellKnownTypes*\n",
    "    * *Google.Type*\n",
    "    * *Grpc.Net.Client*\n",
    "    * *Grpc.Core*\n",
    "\n",
    "***"
   ]
  },
  {
   "cell_type": "markdown",
   "id": "endangered-motorcycle",
   "metadata": {},
   "source": [
    "# Run splits sample"
   ]
  },
  {
   "cell_type": "markdown",
   "id": "unknown-graham",
   "metadata": {},
   "source": [
    "### Step 1: Install packages"
   ]
  },
  {
   "cell_type": "code",
   "execution_count": 1,
   "id": "fundamental-crime",
   "metadata": {
    "dotnet_interactive": {
     "language": "fsharp"
    },
    "execution": {
     "iopub.execute_input": "2022-10-25T16:25:39.233105Z",
     "iopub.status.busy": "2022-10-25T16:25:39.214929Z",
     "iopub.status.idle": "2022-10-25T16:25:43.880164Z",
     "shell.execute_reply": "2022-10-25T16:25:43.872219Z"
    },
    "vscode": {
     "languageId": "dotnet-interactive.fsharp"
    }
   },
   "outputs": [
    {
     "data": {
      "text/html": [
       "\n",
       "<div>\n",
       "    <div id='dotnet-interactive-this-cell-24350.Microsoft.DotNet.Interactive.Http.HttpPort' style='display: none'>\n",
       "        The below script needs to be able to find the current output cell; this is an easy method to get it.\n",
       "    </div>\n",
       "    <script type='text/javascript'>\n",
       "async function probeAddresses(probingAddresses) {\n",
       "    function timeout(ms, promise) {\n",
       "        return new Promise(function (resolve, reject) {\n",
       "            setTimeout(function () {\n",
       "                reject(new Error('timeout'))\n",
       "            }, ms)\n",
       "            promise.then(resolve, reject)\n",
       "        })\n",
       "    }\n",
       "\n",
       "    if (Array.isArray(probingAddresses)) {\n",
       "        for (let i = 0; i < probingAddresses.length; i++) {\n",
       "\n",
       "            let rootUrl = probingAddresses[i];\n",
       "\n",
       "            if (!rootUrl.endsWith('/')) {\n",
       "                rootUrl = `${rootUrl}/`;\n",
       "            }\n",
       "\n",
       "            try {\n",
       "                let response = await timeout(1000, fetch(`${rootUrl}discovery`, {\n",
       "                    method: 'POST',\n",
       "                    cache: 'no-cache',\n",
       "                    mode: 'cors',\n",
       "                    timeout: 1000,\n",
       "                    headers: {\n",
       "                        'Content-Type': 'text/plain'\n",
       "                    },\n",
       "                    body: probingAddresses[i]\n",
       "                }));\n",
       "\n",
       "                if (response.status == 200) {\n",
       "                    return rootUrl;\n",
       "                }\n",
       "            }\n",
       "            catch (e) { }\n",
       "        }\n",
       "    }\n",
       "}\n",
       "\n",
       "function loadDotnetInteractiveApi() {\n",
       "    probeAddresses([\"http://172.28.169.63:2149/\", \"http://127.0.0.1:2149/\"])\n",
       "        .then((root) => {\n",
       "        // use probing to find host url and api resources\n",
       "        // load interactive helpers and language services\n",
       "        let dotnetInteractiveRequire = require.config({\n",
       "        context: '24350.Microsoft.DotNet.Interactive.Http.HttpPort',\n",
       "                paths:\n",
       "            {\n",
       "                'dotnet-interactive': `${root}resources`\n",
       "                }\n",
       "        }) || require;\n",
       "\n",
       "            window.dotnetInteractiveRequire = dotnetInteractiveRequire;\n",
       "\n",
       "            window.configureRequireFromExtension = function(extensionName, extensionCacheBuster) {\n",
       "                let paths = {};\n",
       "                paths[extensionName] = `${root}extensions/${extensionName}/resources/`;\n",
       "                \n",
       "                let internalRequire = require.config({\n",
       "                    context: extensionCacheBuster,\n",
       "                    paths: paths,\n",
       "                    urlArgs: `cacheBuster=${extensionCacheBuster}`\n",
       "                    }) || require;\n",
       "\n",
       "                return internalRequire\n",
       "            };\n",
       "        \n",
       "            dotnetInteractiveRequire([\n",
       "                    'dotnet-interactive/dotnet-interactive'\n",
       "                ],\n",
       "                function (dotnet) {\n",
       "                    dotnet.init(window);\n",
       "                },\n",
       "                function (error) {\n",
       "                    console.log(error);\n",
       "                }\n",
       "            );\n",
       "        })\n",
       "        .catch(error => {console.log(error);});\n",
       "    }\n",
       "\n",
       "// ensure `require` is available globally\n",
       "if ((typeof(require) !==  typeof(Function)) || (typeof(require.config) !== typeof(Function))) {\n",
       "    let require_script = document.createElement('script');\n",
       "    require_script.setAttribute('src', 'https://cdnjs.cloudflare.com/ajax/libs/require.js/2.3.6/require.min.js');\n",
       "    require_script.setAttribute('type', 'text/javascript');\n",
       "    \n",
       "    \n",
       "    require_script.onload = function() {\n",
       "        loadDotnetInteractiveApi();\n",
       "    };\n",
       "\n",
       "    document.getElementsByTagName('head')[0].appendChild(require_script);\n",
       "}\n",
       "else {\n",
       "    loadDotnetInteractiveApi();\n",
       "}\n",
       "\n",
       "    </script>\n",
       "</div>"
      ]
     },
     "metadata": {},
     "output_type": "display_data"
    },
    {
     "data": {
      "text/html": [
       "<div><div><strong>Restore sources</strong><ul><li><span> file://~/.nuget/packages/</span></li><li><span> https://api.nuget.org/v3/index.json</span></li></ul></div><div></div><div><strong>Installed Packages</strong><ul><li><span>Systemathics.Apis, 0.13.2-pre</span></li></ul></div></div>"
      ]
     },
     "metadata": {},
     "output_type": "display_data"
    }
   ],
   "source": [
    "#i \"nuget: file://~/.nuget/packages/\"\n",
    "#i \"nuget: https://api.nuget.org/v3/index.json\"\n",
    "#r \"nuget: Systemathics.Apis, 0.*-pre*\""
   ]
  },
  {
   "cell_type": "code",
   "execution_count": 2,
   "id": "limited-distance",
   "metadata": {
    "dotnet_interactive": {
     "language": "fsharp"
    },
    "execution": {
     "iopub.execute_input": "2022-10-25T16:25:43.882151Z",
     "iopub.status.busy": "2022-10-25T16:25:43.881847Z",
     "iopub.status.idle": "2022-10-25T16:25:43.928545Z",
     "shell.execute_reply": "2022-10-25T16:25:43.928300Z"
    },
    "vscode": {
     "languageId": "dotnet-interactive.fsharp"
    }
   },
   "outputs": [],
   "source": [
    "open Systemathics.Apis.Helpers\n",
    "open Systemathics.Apis.Type.Shared.V1\n",
    "open Systemathics.Apis.Services.CorporateActions.V1\n",
    "open Google.Protobuf.WellKnownTypes\n",
    "open Google.Type\n",
    "open Grpc.Net.Client\n",
    "open Grpc.Core"
   ]
  },
  {
   "cell_type": "markdown",
   "id": "guilty-structure",
   "metadata": {},
   "source": [
    "### Step 2: Prepare API requests\n",
    "The following code snippets retrieve authentication token and prepare the API request by: opening the *channel* and adding the *token* to the request header:"
   ]
  },
  {
   "cell_type": "code",
   "execution_count": 3,
   "id": "nonprofit-foundation",
   "metadata": {
    "dotnet_interactive": {
     "language": "fsharp"
    },
    "execution": {
     "iopub.execute_input": "2022-10-25T16:25:43.930663Z",
     "iopub.status.busy": "2022-10-25T16:25:43.930346Z",
     "iopub.status.idle": "2022-10-25T16:25:44.535537Z",
     "shell.execute_reply": "2022-10-25T16:25:44.535074Z"
    },
    "vscode": {
     "languageId": "dotnet-interactive.fsharp"
    }
   },
   "outputs": [],
   "source": [
    "// Get token as metadata\n",
    "let headers = TokenHelpers.GetTokenAsMetaData();\n",
    "\n",
    "// Create communication channel\n",
    "let channel = ChannelHelpers.GetChannel();"
   ]
  },
  {
   "cell_type": "markdown",
   "id": "modified-morgan",
   "metadata": {},
   "source": [
    "### Step 3: Retrieve splits"
   ]
  },
  {
   "cell_type": "markdown",
   "id": "divine-moral",
   "metadata": {},
   "source": [
    "#### 3.1 Equity selection"
   ]
  },
  {
   "cell_type": "code",
   "execution_count": 4,
   "id": "proof-giving",
   "metadata": {
    "dotnet_interactive": {
     "language": "fsharp"
    },
    "execution": {
     "iopub.execute_input": "2022-10-25T16:25:44.538032Z",
     "iopub.status.busy": "2022-10-25T16:25:44.537683Z",
     "iopub.status.idle": "2022-10-25T16:25:44.561429Z",
     "shell.execute_reply": "2022-10-25T16:25:44.561185Z"
    },
    "vscode": {
     "languageId": "dotnet-interactive.fsharp"
    }
   },
   "outputs": [],
   "source": [
    "// Set the instrument identifier \n",
    "let ticker = \"AAPL\"\n",
    "let exchange = \"XNGS\""
   ]
  },
  {
   "cell_type": "markdown",
   "id": "necessary-manchester",
   "metadata": {},
   "source": [
    "#### 3.2 Create and process request"
   ]
  },
  {
   "cell_type": "code",
   "execution_count": 5,
   "id": "color-watershed",
   "metadata": {
    "dotnet_interactive": {
     "language": "fsharp"
    },
    "execution": {
     "iopub.execute_input": "2022-10-25T16:25:44.563612Z",
     "iopub.status.busy": "2022-10-25T16:25:44.563311Z",
     "iopub.status.idle": "2022-10-25T16:25:45.385066Z",
     "shell.execute_reply": "2022-10-25T16:25:45.384717Z"
    },
    "vscode": {
     "languageId": "dotnet-interactive.fsharp"
    }
   },
   "outputs": [],
   "source": [
    "// instantiate the splits service\n",
    "let service = new SplitsService.SplitsServiceClient(channel)\n",
    "\n",
    "// Generate the splits request\n",
    "let request = \n",
    "    new SplitsRequest (\n",
    "        Identifier = new Identifier ( Exchange = exchange, Ticker = ticker )\n",
    "    )\n",
    "\n",
    "// Get the splits reply\n",
    "let reply = service.Splits(request, headers)"
   ]
  },
  {
   "cell_type": "markdown",
   "id": "derived-keeping",
   "metadata": {},
   "source": [
    "#### 3.3 Retrieve splits"
   ]
  },
  {
   "cell_type": "code",
   "execution_count": 6,
   "id": "perfect-aviation",
   "metadata": {
    "dotnet_interactive": {
     "language": "fsharp"
    },
    "execution": {
     "iopub.execute_input": "2022-10-25T16:25:45.387238Z",
     "iopub.status.busy": "2022-10-25T16:25:45.386914Z",
     "iopub.status.idle": "2022-10-25T16:25:45.595443Z",
     "shell.execute_reply": "2022-10-25T16:25:45.595191Z"
    },
    "vscode": {
     "languageId": "dotnet-interactive.fsharp"
    }
   },
   "outputs": [
    {
     "data": {
      "text/html": [
       "<table><thead><tr><th><i>index</i></th><th>Date</th><th>NewShares</th><th>OldShares</th><th>Score</th></tr></thead><tbody><tr><td>0</td><td><table><thead><tr><th>Year</th><th>Month</th><th>Day</th></tr></thead><tbody><tr><td><div class=\"dni-plaintext\">2014</div></td><td><div class=\"dni-plaintext\">6</div></td><td><div class=\"dni-plaintext\">9</div></td></tr></tbody></table></td><td><div class=\"dni-plaintext\">1</div></td><td><div class=\"dni-plaintext\">7</div></td><td><div class=\"dni-plaintext\">0</div></td></tr><tr><td>1</td><td><table><thead><tr><th>Year</th><th>Month</th><th>Day</th></tr></thead><tbody><tr><td><div class=\"dni-plaintext\">2020</div></td><td><div class=\"dni-plaintext\">8</div></td><td><div class=\"dni-plaintext\">31</div></td></tr></tbody></table></td><td><div class=\"dni-plaintext\">1</div></td><td><div class=\"dni-plaintext\">4</div></td><td><div class=\"dni-plaintext\">0</div></td></tr></tbody></table>"
      ]
     },
     "metadata": {},
     "output_type": "display_data"
    }
   ],
   "source": [
    "// Visualize splits results\n",
    "reply.Data\n",
    "|> display"
   ]
  },
  {
   "cell_type": "markdown",
   "id": "substantial-volleyball",
   "metadata": {},
   "source": [
    "#### 3.4 Add dates constraints"
   ]
  },
  {
   "cell_type": "code",
   "execution_count": 7,
   "id": "beautiful-array",
   "metadata": {
    "dotnet_interactive": {
     "language": "fsharp"
    },
    "execution": {
     "iopub.execute_input": "2022-10-25T16:25:45.597364Z",
     "iopub.status.busy": "2022-10-25T16:25:45.597071Z",
     "iopub.status.idle": "2022-10-25T16:25:45.620583Z",
     "shell.execute_reply": "2022-10-25T16:25:45.620263Z"
    },
    "vscode": {
     "languageId": "dotnet-interactive.fsharp"
    }
   },
   "outputs": [],
   "source": [
    "// Set data interval (we are using Google date time format)\n",
    "let dateInterval = \n",
    "  new DateInterval(\n",
    "    StartDate = new Date(Year = 2020, Month = 01, Day = 01),\n",
    "    EndDate = new Date(Year = 2021, Month = 03, Day = 31)\n",
    "  )"
   ]
  },
  {
   "cell_type": "code",
   "execution_count": 8,
   "id": "residential-painting",
   "metadata": {
    "dotnet_interactive": {
     "language": "fsharp"
    },
    "execution": {
     "iopub.execute_input": "2022-10-25T16:25:45.622800Z",
     "iopub.status.busy": "2022-10-25T16:25:45.622322Z",
     "iopub.status.idle": "2022-10-25T16:25:46.083233Z",
     "shell.execute_reply": "2022-10-25T16:25:46.082914Z"
    },
    "vscode": {
     "languageId": "dotnet-interactive.fsharp"
    }
   },
   "outputs": [],
   "source": [
    "// Generate the splits request with dates constraints\n",
    "let request = \n",
    "    new SplitsRequest( \n",
    "        Identifier = new Identifier( Exchange = exchange, Ticker = ticker),\n",
    "        DateInterval = dateInterval\n",
    "    )\n",
    "\n",
    "// Get the splits reply with dates constraints\n",
    "let reply = service.Splits(request, headers)"
   ]
  },
  {
   "cell_type": "markdown",
   "id": "artificial-letter",
   "metadata": {},
   "source": [
    "#### 3.5 Retrieve splits"
   ]
  },
  {
   "cell_type": "code",
   "execution_count": 9,
   "id": "inclusive-halifax",
   "metadata": {
    "dotnet_interactive": {
     "language": "fsharp"
    },
    "execution": {
     "iopub.execute_input": "2022-10-25T16:25:46.086140Z",
     "iopub.status.busy": "2022-10-25T16:25:46.085555Z",
     "iopub.status.idle": "2022-10-25T16:25:46.094487Z",
     "shell.execute_reply": "2022-10-25T16:25:46.094253Z"
    },
    "vscode": {
     "languageId": "dotnet-interactive.fsharp"
    }
   },
   "outputs": [
    {
     "data": {
      "text/html": [
       "<table><thead><tr><th><i>index</i></th><th>Date</th><th>NewShares</th><th>OldShares</th><th>Score</th></tr></thead><tbody><tr><td>0</td><td><table><thead><tr><th>Year</th><th>Month</th><th>Day</th></tr></thead><tbody><tr><td><div class=\"dni-plaintext\">2020</div></td><td><div class=\"dni-plaintext\">8</div></td><td><div class=\"dni-plaintext\">31</div></td></tr></tbody></table></td><td><div class=\"dni-plaintext\">1</div></td><td><div class=\"dni-plaintext\">4</div></td><td><div class=\"dni-plaintext\">0</div></td></tr></tbody></table>"
      ]
     },
     "metadata": {},
     "output_type": "display_data"
    }
   ],
   "source": [
    "// Visualize splits results\n",
    "reply.Data\n",
    "|> display"
   ]
  }
 ],
 "metadata": {
  "kernelspec": {
   "display_name": ".NET (F#)",
   "language": "F#",
   "name": ".net-fsharp"
  },
  "language_info": {
   "file_extension": ".fs",
   "mimetype": "text/x-fsharp",
   "name": "F#",
   "pygments_lexer": "fsharp",
   "version": "6.0"
  }
 },
 "nbformat": 4,
 "nbformat_minor": 5
}
