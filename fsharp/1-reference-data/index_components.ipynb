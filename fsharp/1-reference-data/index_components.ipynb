{
 "cells": [
  {
   "cell_type": "markdown",
   "id": "vietnamese-access",
   "metadata": {},
   "source": [
    "# Generate index components using dedicated service - F#\n",
    "\n",
    "### Overview\n",
    "Reference data encompasses a wide range of specification data about:\n",
    "* financial instrument such as asset class, symbol, maturity, etc.\n",
    "* counterparties such as issuer information.\n",
    "* pricing such as Open, high low and close prices.\n",
    "\n",
    "The challenge with reference data is that it tends to be sourced from multiple sources: internal, counterparties and providers.\n",
    "\n",
    "Reference data dedicated service is a result of various data sources and fields sourcing, validation, cross-checking and normalization.<br>\n",
    "\n",
    "This sample requests **on-demand** exchange data and enables fields mapping by calling a dedicated static data service, making available clean data.\n",
    "\n",
    "### Inputs/outputs\n",
    "Index sample is designed to help you searching and requesting index components reference data by using a wide range of commonly used fields.\n",
    "\n",
    "It takes an index code as per input filter and returns the *entries* matching the request.\n",
    "\n",
    "### Services used\n",
    "This sample uses *gRPC requests* in order to retrieve index components reference data from the hosted service. The queried endpoint in this script are:\n",
    "* *StaticDataService*: to directly retrieve reference data objects from the server\n",
    "\n",
    "### Packages required\n",
    "1. Systemathics packages:\n",
    "    * *Systemathics.Apis.Type.Shared.V1*\n",
    "    * *Systemathics.Apis.Services.StaticData.V1*\n",
    "2. Open source packages\n",
    "    * *Google.Protobuf.WellKnownTypes*\n",
    "    * *Google.Type*\n",
    "    * *Grpc.Net.Client*\n",
    "    * *Grpc.Core*\n",
    "\n",
    "***"
   ]
  },
  {
   "cell_type": "markdown",
   "id": "paperback-deficit",
   "metadata": {},
   "source": [
    "# Run Index components sample"
   ]
  },
  {
   "cell_type": "markdown",
   "id": "cultural-bloom",
   "metadata": {},
   "source": [
    "### Step 1: Install packages"
   ]
  },
  {
   "cell_type": "code",
   "execution_count": 1,
   "id": "curious-happening",
   "metadata": {
    "dotnet_interactive": {
     "language": "fsharp"
    },
    "execution": {
     "iopub.execute_input": "2022-10-25T16:21:42.752181Z",
     "iopub.status.busy": "2022-10-25T16:21:42.741821Z",
     "iopub.status.idle": "2022-10-25T16:21:47.322317Z",
     "shell.execute_reply": "2022-10-25T16:21:47.315513Z"
    },
    "vscode": {
     "languageId": "dotnet-interactive.fsharp"
    }
   },
   "outputs": [
    {
     "data": {
      "text/html": [
       "\n",
       "<div>\n",
       "    <div id='dotnet-interactive-this-cell-21911.Microsoft.DotNet.Interactive.Http.HttpPort' style='display: none'>\n",
       "        The below script needs to be able to find the current output cell; this is an easy method to get it.\n",
       "    </div>\n",
       "    <script type='text/javascript'>\n",
       "async function probeAddresses(probingAddresses) {\n",
       "    function timeout(ms, promise) {\n",
       "        return new Promise(function (resolve, reject) {\n",
       "            setTimeout(function () {\n",
       "                reject(new Error('timeout'))\n",
       "            }, ms)\n",
       "            promise.then(resolve, reject)\n",
       "        })\n",
       "    }\n",
       "\n",
       "    if (Array.isArray(probingAddresses)) {\n",
       "        for (let i = 0; i < probingAddresses.length; i++) {\n",
       "\n",
       "            let rootUrl = probingAddresses[i];\n",
       "\n",
       "            if (!rootUrl.endsWith('/')) {\n",
       "                rootUrl = `${rootUrl}/`;\n",
       "            }\n",
       "\n",
       "            try {\n",
       "                let response = await timeout(1000, fetch(`${rootUrl}discovery`, {\n",
       "                    method: 'POST',\n",
       "                    cache: 'no-cache',\n",
       "                    mode: 'cors',\n",
       "                    timeout: 1000,\n",
       "                    headers: {\n",
       "                        'Content-Type': 'text/plain'\n",
       "                    },\n",
       "                    body: probingAddresses[i]\n",
       "                }));\n",
       "\n",
       "                if (response.status == 200) {\n",
       "                    return rootUrl;\n",
       "                }\n",
       "            }\n",
       "            catch (e) { }\n",
       "        }\n",
       "    }\n",
       "}\n",
       "\n",
       "function loadDotnetInteractiveApi() {\n",
       "    probeAddresses([\"http://172.28.169.63:2437/\", \"http://127.0.0.1:2437/\"])\n",
       "        .then((root) => {\n",
       "        // use probing to find host url and api resources\n",
       "        // load interactive helpers and language services\n",
       "        let dotnetInteractiveRequire = require.config({\n",
       "        context: '21911.Microsoft.DotNet.Interactive.Http.HttpPort',\n",
       "                paths:\n",
       "            {\n",
       "                'dotnet-interactive': `${root}resources`\n",
       "                }\n",
       "        }) || require;\n",
       "\n",
       "            window.dotnetInteractiveRequire = dotnetInteractiveRequire;\n",
       "\n",
       "            window.configureRequireFromExtension = function(extensionName, extensionCacheBuster) {\n",
       "                let paths = {};\n",
       "                paths[extensionName] = `${root}extensions/${extensionName}/resources/`;\n",
       "                \n",
       "                let internalRequire = require.config({\n",
       "                    context: extensionCacheBuster,\n",
       "                    paths: paths,\n",
       "                    urlArgs: `cacheBuster=${extensionCacheBuster}`\n",
       "                    }) || require;\n",
       "\n",
       "                return internalRequire\n",
       "            };\n",
       "        \n",
       "            dotnetInteractiveRequire([\n",
       "                    'dotnet-interactive/dotnet-interactive'\n",
       "                ],\n",
       "                function (dotnet) {\n",
       "                    dotnet.init(window);\n",
       "                },\n",
       "                function (error) {\n",
       "                    console.log(error);\n",
       "                }\n",
       "            );\n",
       "        })\n",
       "        .catch(error => {console.log(error);});\n",
       "    }\n",
       "\n",
       "// ensure `require` is available globally\n",
       "if ((typeof(require) !==  typeof(Function)) || (typeof(require.config) !== typeof(Function))) {\n",
       "    let require_script = document.createElement('script');\n",
       "    require_script.setAttribute('src', 'https://cdnjs.cloudflare.com/ajax/libs/require.js/2.3.6/require.min.js');\n",
       "    require_script.setAttribute('type', 'text/javascript');\n",
       "    \n",
       "    \n",
       "    require_script.onload = function() {\n",
       "        loadDotnetInteractiveApi();\n",
       "    };\n",
       "\n",
       "    document.getElementsByTagName('head')[0].appendChild(require_script);\n",
       "}\n",
       "else {\n",
       "    loadDotnetInteractiveApi();\n",
       "}\n",
       "\n",
       "    </script>\n",
       "</div>"
      ]
     },
     "metadata": {},
     "output_type": "display_data"
    },
    {
     "data": {
      "text/html": [
       "<div><div><strong>Restore sources</strong><ul><li><span> file://~/.nuget/packages/</span></li><li><span> https://api.nuget.org/v3/index.json</span></li></ul></div><div></div><div><strong>Installed Packages</strong><ul><li><span>CsvHelper, 29.0.0</span></li><li><span>Systemathics.Apis, 0.13.2-pre</span></li></ul></div></div>"
      ]
     },
     "metadata": {},
     "output_type": "display_data"
    }
   ],
   "source": [
    "#i \"nuget: file://~/.nuget/packages/\"\n",
    "#i \"nuget: https://api.nuget.org/v3/index.json\"\n",
    "#r \"nuget: Systemathics.Apis, 0.*-pre*\"\n",
    "#r \"nuget: CsvHelper\""
   ]
  },
  {
   "cell_type": "code",
   "execution_count": 2,
   "id": "double-position",
   "metadata": {
    "dotnet_interactive": {
     "language": "fsharp"
    },
    "execution": {
     "iopub.execute_input": "2022-10-25T16:21:47.324657Z",
     "iopub.status.busy": "2022-10-25T16:21:47.324054Z",
     "iopub.status.idle": "2022-10-25T16:21:47.372470Z",
     "shell.execute_reply": "2022-10-25T16:21:47.372071Z"
    },
    "vscode": {
     "languageId": "dotnet-interactive.fsharp"
    }
   },
   "outputs": [],
   "source": [
    "open Systemathics.Apis.Helpers\n",
    "open Systemathics.Apis.Type.Shared.V1\n",
    "open Systemathics.Apis.Services.StaticData.V1\n",
    "open Google.Protobuf.WellKnownTypes\n",
    "open Google.Type\n",
    "open Grpc.Net.Client\n",
    "open Grpc.Core\n",
    "// Import/export csv files\n",
    "open CsvHelper\n",
    "open System.IO\n",
    "open System.Globalization"
   ]
  },
  {
   "cell_type": "markdown",
   "id": "entire-founder",
   "metadata": {},
   "source": [
    "### Step 2: Prepare API requests\n",
    "The following code snippets retrieve authentication token and prepare the API request by: opening the *channel* and adding the *token* to the request header:"
   ]
  },
  {
   "cell_type": "code",
   "execution_count": 3,
   "id": "accomplished-identification",
   "metadata": {
    "dotnet_interactive": {
     "language": "fsharp"
    },
    "execution": {
     "iopub.execute_input": "2022-10-25T16:21:47.375083Z",
     "iopub.status.busy": "2022-10-25T16:21:47.374253Z",
     "iopub.status.idle": "2022-10-25T16:21:47.941196Z",
     "shell.execute_reply": "2022-10-25T16:21:47.940900Z"
    },
    "vscode": {
     "languageId": "dotnet-interactive.fsharp"
    }
   },
   "outputs": [],
   "source": [
    "// Get token as metadata\n",
    "let headers = TokenHelpers.GetTokenAsMetaData();\n",
    "\n",
    "// Create communication channel\n",
    "let channel = ChannelHelpers.GetChannel();"
   ]
  },
  {
   "cell_type": "markdown",
   "id": "excellent-berry",
   "metadata": {},
   "source": [
    "### Step 3: Request creation"
   ]
  },
  {
   "cell_type": "markdown",
   "id": "about-period",
   "metadata": {},
   "source": [
    "The following code snippet enables to select the **index** by its *Name/code*:"
   ]
  },
  {
   "cell_type": "code",
   "execution_count": 4,
   "id": "closing-designer",
   "metadata": {
    "dotnet_interactive": {
     "language": "fsharp"
    },
    "execution": {
     "iopub.execute_input": "2022-10-25T16:21:47.943854Z",
     "iopub.status.busy": "2022-10-25T16:21:47.943513Z",
     "iopub.status.idle": "2022-10-25T16:21:47.968685Z",
     "shell.execute_reply": "2022-10-25T16:21:47.968438Z"
    },
    "vscode": {
     "languageId": "dotnet-interactive.fsharp"
    }
   },
   "outputs": [],
   "source": [
    "// Set index and exchange codes\n",
    "let index = \"Nasdaq 100\"\n",
    "let exchange = \"XNGS\""
   ]
  },
  {
   "cell_type": "markdown",
   "id": "sapphire-cherry",
   "metadata": {},
   "source": [
    "The following code snippets call the service, generate the request and return the reply: "
   ]
  },
  {
   "cell_type": "code",
   "execution_count": 5,
   "id": "norman-phrase",
   "metadata": {
    "dotnet_interactive": {
     "language": "fsharp"
    },
    "execution": {
     "iopub.execute_input": "2022-10-25T16:21:47.970923Z",
     "iopub.status.busy": "2022-10-25T16:21:47.970611Z",
     "iopub.status.idle": "2022-10-25T16:21:48.736432Z",
     "shell.execute_reply": "2022-10-25T16:21:48.736180Z"
    },
    "vscode": {
     "languageId": "dotnet-interactive.fsharp"
    }
   },
   "outputs": [
    {
     "data": {
      "text/html": [
       "<div class=\"dni-plaintext\">1000</div>"
      ]
     },
     "metadata": {},
     "output_type": "display_data"
    }
   ],
   "source": [
    "// Instantiate the service\n",
    "let service = new StaticDataService.StaticDataServiceClient(channel)\n",
    "\n",
    "let request = new StaticDataRequest(AssetType = AssetType.Equity, Index = index,  Count = 1000 )// By default the count is set to 100, make sure to retrieve all the components\n",
    "\n",
    "// Call the service\n",
    "let reply = service.StaticData(request, headers)\n",
    "\n",
    "// Display the results\n",
    "display(reply.Equities.Count)"
   ]
  },
  {
   "cell_type": "markdown",
   "id": "electrical-victor",
   "metadata": {},
   "source": [
    "### Step 4: Retrieve data"
   ]
  },
  {
   "cell_type": "markdown",
   "id": "novel-cartridge",
   "metadata": {},
   "source": [
    "#### 4.1 Retrieve instruments' identifiers (mapping)"
   ]
  },
  {
   "cell_type": "code",
   "execution_count": 6,
   "id": "cubic-government",
   "metadata": {
    "dotnet_interactive": {
     "language": "fsharp"
    },
    "execution": {
     "iopub.execute_input": "2022-10-25T16:21:48.738490Z",
     "iopub.status.busy": "2022-10-25T16:21:48.738183Z",
     "iopub.status.idle": "2022-10-25T16:21:49.586057Z",
     "shell.execute_reply": "2022-10-25T16:21:49.585798Z"
    },
    "vscode": {
     "languageId": "dotnet-interactive.fsharp"
    }
   },
   "outputs": [],
   "source": [
    "// Create a class to handle the instrument's mapping codes\n",
    "type Instrument =\n",
    "    {\n",
    "        Ticker: string\n",
    "        Exchange: string\n",
    "        Name: string\n",
    "        Isin: string\n",
    "        Cusip: string\n",
    "        Sedol: string\n",
    "        Bloomberg: string\n",
    "    }\n",
    "\n",
    "let instruments =\n",
    "    reply.Equities\n",
    "    |> Seq.filter (fun e -> e.Identifier.Exchange = exchange )\n",
    "    |> Seq.map(fun e -> { Ticker = e.Identifier.Ticker; Exchange = e.Identifier.Exchange; Name = e.Name; Isin = e.Isin; Cusip = e.Cusip; Sedol = e.Sedol; Bloomberg = if e.Mapping.ContainsKey(\"Bloomberg\") then e.Mapping.[\"Bloomberg\"] else String.Empty })"
   ]
  },
  {
   "cell_type": "code",
   "execution_count": 7,
   "id": "sharing-corner",
   "metadata": {
    "dotnet_interactive": {
     "language": "fsharp"
    },
    "execution": {
     "iopub.execute_input": "2022-10-25T16:21:49.588130Z",
     "iopub.status.busy": "2022-10-25T16:21:49.587698Z",
     "iopub.status.idle": "2022-10-25T16:21:49.650186Z",
     "shell.execute_reply": "2022-10-25T16:21:49.649909Z"
    },
    "vscode": {
     "languageId": "dotnet-interactive.fsharp"
    }
   },
   "outputs": [
    {
     "data": {
      "text/html": [
       "<table><thead><tr><th><i>index</i></th><th>Ticker</th><th>Exchange</th><th>Name</th><th>Isin</th><th>Cusip</th><th>Sedol</th><th>Bloomberg</th></tr></thead><tbody><tr><td>0</td><td>LBTYB</td><td>XNGS</td><td>Liberty Global Plc Cl B</td><td>GB00B8W67779</td><td>G5480U112</td><td>B8W6777</td><td>LBTYB US Equity</td></tr><tr><td>1</td><td>CHKP</td><td>XNGS</td><td>Check Point Software Technologi</td><td>IL0010824113</td><td></td><td>2181334</td><td>CHKP US Equity</td></tr><tr><td>2</td><td>LBTYA</td><td>XNGS</td><td>Liberty Global Plc - A</td><td>GB00B8W67662</td><td>G5480U104</td><td>B8W6766</td><td>LBTYA US Equity</td></tr><tr><td>3</td><td>MELI</td><td>XNGS</td><td>Mercadolibre Inc</td><td>US58733R1023</td><td>58733R102</td><td>B23X1H3</td><td>MELI US Equity</td></tr><tr><td>4</td><td>STX</td><td>XNGS</td><td>Seagate Technology Holdings Pl</td><td></td><td></td><td>BKVD2N4</td><td>STX US Equity</td></tr><tr><td>5</td><td>NXPI</td><td>XNGS</td><td>Nxp Semiconductors Nv</td><td>NL0009538784</td><td>N6596X109</td><td>B505PN7</td><td>NXPI US Equity</td></tr><tr><td>6</td><td>SPLK</td><td>XNGS</td><td>Splunk Inc</td><td>US8486371045</td><td>848637104</td><td>B424494</td><td>SPLK US Equity</td></tr><tr><td>7</td><td>SIRI</td><td>XNGS</td><td>Sirius Xm Holdings</td><td>US82968B1035</td><td>82968B103</td><td>BGLDK10</td><td>SIRI US Equity</td></tr><tr><td>8</td><td>MRVL</td><td>XNGS</td><td>Marvell Technology Inc</td><td>US5738741041</td><td>573874104</td><td>BNKJSM5</td><td>MRVL US Equity</td></tr><tr><td>9</td><td>TEAM</td><td>XNGS</td><td>Atlassian Corp Plc</td><td></td><td></td><td></td><td>TEAM US Equity</td></tr><tr><td>10</td><td>LCID</td><td>XNGS</td><td>Lucid Group Inc</td><td>US5494981039</td><td>549498103</td><td>BP0TR77</td><td>LCID US Equity</td></tr><tr><td>11</td><td>CTXS</td><td>XNGS</td><td>Citrix Systems Inc</td><td>US1773761002</td><td>177376100</td><td>2182553</td><td>CTXS US Equity</td></tr><tr><td>12</td><td>DDOG</td><td>XNGS</td><td>Datadog Inc Cl A</td><td>US23804L1035</td><td>23804L103</td><td>BKT9Y49</td><td>DDOG US Equity</td></tr><tr><td>13</td><td>PANW</td><td>XNGS</td><td>Palo Alto Networks</td><td>US6974351057</td><td>697435105</td><td>B87ZMX0</td><td>PANW US Equity</td></tr><tr><td>14</td><td>CRWD</td><td>XNGS</td><td>Crowdstrike Holdings Inc Cl A</td><td>US22788C1053</td><td>22788C105</td><td>BJJP138</td><td>CRWD US Equity</td></tr><tr><td>15</td><td>LULU</td><td>XNGS</td><td>Lululemon Athletica Inc</td><td>US5500211090</td><td>550021109</td><td>B23FN39</td><td>LULU US Equity</td></tr><tr><td>16</td><td>BMRN</td><td>XNGS</td><td>Biomarin Pharmaceuticals</td><td>US09061G1013</td><td>09061G101</td><td>2437071</td><td>BMRN US Equity</td></tr><tr><td>17</td><td>SRCL</td><td>XNGS</td><td>Stericycle Inc</td><td>US8589121081</td><td>858912108</td><td>2860826</td><td>SRCL US Equity</td></tr><tr><td>18</td><td>ZM</td><td>XNGS</td><td>Zoom Video Communications Cl A</td><td>US98980L1017</td><td>98980L101</td><td>BGSP7M9</td><td>ZM US Equity</td></tr><tr><td>19</td><td>WDAY</td><td>XNGS</td><td>Workday Inc A</td><td>US98138H1014</td><td>98138H101</td><td>B8K6ZD1</td><td>WDAY US Equity</td></tr><tr><td colspan=\"8\"><i>... (more)</i></td></tr></tbody></table>"
      ]
     },
     "metadata": {},
     "output_type": "display_data"
    }
   ],
   "source": [
    "display(instruments)"
   ]
  },
  {
   "cell_type": "markdown",
   "id": "aging-beijing",
   "metadata": {},
   "source": [
    "The following code snippet exports data to *csv* file:"
   ]
  },
  {
   "cell_type": "code",
   "execution_count": 8,
   "id": "sporting-drive",
   "metadata": {
    "dotnet_interactive": {
     "language": "fsharp"
    },
    "execution": {
     "iopub.execute_input": "2022-10-25T16:21:49.652416Z",
     "iopub.status.busy": "2022-10-25T16:21:49.652070Z",
     "iopub.status.idle": "2022-10-25T16:21:49.890574Z",
     "shell.execute_reply": "2022-10-25T16:21:49.890303Z"
    },
    "vscode": {
     "languageId": "dotnet-interactive.fsharp"
    }
   },
   "outputs": [],
   "source": [
    "let d = new DirectoryInfo(\"output\") \n",
    "d.Create()\n",
    "let write instruments =\n",
    "    let writeRecords (csv : CsvWriter) i =\n",
    "        csv.WriteRecords(i)\n",
    "    let write' (writer : StreamWriter )  i =\n",
    "        using (new CsvWriter(writer, CultureInfo.InvariantCulture)) (fun csv -> writeRecords csv i )\n",
    "    using (new StreamWriter($\"output/{index}.csv\")) (fun writer -> write' writer instruments)\n",
    "\n",
    "instruments\n",
    "|> write"
   ]
  }
 ],
 "metadata": {
  "kernelspec": {
   "display_name": ".NET (F#)",
   "language": "F#",
   "name": ".net-fsharp"
  },
  "language_info": {
   "file_extension": ".fs",
   "mimetype": "text/x-fsharp",
   "name": "F#",
   "pygments_lexer": "fsharp",
   "version": "6.0"
  }
 },
 "nbformat": 4,
 "nbformat_minor": 5
}
